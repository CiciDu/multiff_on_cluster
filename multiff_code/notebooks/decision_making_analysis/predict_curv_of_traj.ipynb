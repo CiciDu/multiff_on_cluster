{
 "cells": [
  {
   "cell_type": "markdown",
   "id": "0",
   "metadata": {},
   "source": [
    "# Import packages"
   ]
  },
  {
   "cell_type": "code",
   "execution_count": null,
   "id": "1",
   "metadata": {},
   "outputs": [],
   "source": [
    "# # if using google drive\n",
    "# %cd /content/drive/MyDrive/ff_repo/Multifirefly-Project"
   ]
  },
  {
   "cell_type": "code",
   "execution_count": null,
   "id": "2",
   "metadata": {},
   "outputs": [],
   "source": [
    "from pathlib import Path\n",
    "import os, sys\n",
    "for p in [Path.cwd()] + list(Path.cwd().parents):\n",
    "    if p.name == 'Multifirefly-Project':\n",
    "        os.chdir(p)\n",
    "        sys.path.insert(0, str(p / 'multiff_analysis/multiff_code/methods'))\n",
    "        break\n",
    "\n",
    "%load_ext autoreload\n",
    "%autoreload 2\n",
    "\n",
    "\n",
    "from data_wrangling import specific_utils, combine_info_utils\n",
    "from pattern_discovery import pattern_by_trials, pattern_by_trials, cluster_analysis, organize_patterns_and_features, category_class\n",
    "from decision_making_analysis.cluster_replacement import cluster_replacement_utils\n",
    "from decision_making_analysis.decision_making import decision_making_class, decision_making_utils, intended_targets_classes\n",
    "from decision_making_analysis.GUAT import GUAT_collect_info_class, GUAT_combine_info_class\n",
    "from decision_making_analysis.compare_GUAT_and_TAFT import GUAT_vs_TAFT_class, GUAT_vs_TAFT_x_sessions_class, helper_GUAT_vs_TAFT_class\n",
    "from visualization.matplotlib_tools import plot_trials, plot_behaviors_utils\n",
    "from visualization.animation import animation_class\n",
    "from null_behaviors import show_null_trajectory, find_best_arc, curvature_utils, curv_of_traj_utils\n",
    "from machine_learning.ml_methods import regression_utils, classification_utils, prep_ml_data_utils, hyperparam_tuning_class\n",
    "from visualization.plotly_polar_tools import plotly_utils_polar, plotly_for_ff_polar, plotly_for_trajectory_polar\n",
    "from machine_learning.ml_methods import ml_methods_class\n",
    "from machine_learning.ml_methods.advanced_ml_methods import advanced_regression_utils\n",
    "\n",
    "import os, sys\n",
    "import numpy as np\n",
    "import matplotlib\n",
    "import matplotlib.pyplot as plt\n",
    "from os.path import exists\n",
    "import math\n",
    "import copy\n",
    "import matplotlib.pyplot as plt\n",
    "import pandas as pd\n",
    "import itertools\n",
    "import matplotlib.pyplot as plt\n",
    "import gc\n",
    "from scipy import stats\n",
    "from IPython.display import HTML\n",
    "from matplotlib import rc\n",
    "from sklearn.svm import SVC\n",
    "from sklearn.ensemble import AdaBoostClassifier, BaggingClassifier\n",
    "from sklearn.neural_network import MLPClassifier, MLPRegressor\n",
    "from sklearn.linear_model import LinearRegression\n",
    "from sklearn.neighbors import KNeighborsRegressor\n",
    "from sklearn.naive_bayes import GaussianNB\n",
    "from sklearn.linear_model import LogisticRegression\n",
    "from sklearn.preprocessing import StandardScaler\n",
    "import warnings\n",
    "import os, sys, sys\n",
    "from importlib import reload\n",
    "from sklearn.exceptions import ConvergenceWarning\n",
    "from sklearn.model_selection import (\n",
    "    train_test_split, cross_val_score, cross_validate, KFold\n",
    ")\n",
    "\n",
    "plt.rcParams[\"animation.html\"] = \"html5\"\n",
    "os.environ['KMP_DUPLICATE_LIB_OK']='True'\n",
    "rc('animation', html='jshtml')\n",
    "matplotlib.rcParams.update(matplotlib.rcParamsDefault)\n",
    "matplotlib.rcParams['animation.embed_limit'] = 2**128\n",
    "pd.set_option('display.float_format', lambda x: '%.5f' % x)\n",
    "np.set_printoptions(suppress=True)\n",
    "pd.options.display.max_rows = 50\n",
    "\n"
   ]
  },
  {
   "cell_type": "markdown",
   "id": "3",
   "metadata": {},
   "source": [
    "# Predict curvature"
   ]
  },
  {
   "cell_type": "markdown",
   "id": "4",
   "metadata": {},
   "source": [
    "## explanatory_var"
   ]
  },
  {
   "cell_type": "code",
   "execution_count": null,
   "id": "5",
   "metadata": {},
   "outputs": [],
   "source": [
    "from decision_making_analysis import free_selection, replacement, trajectory_info"
   ]
  },
  {
   "cell_type": "code",
   "execution_count": null,
   "id": "6",
   "metadata": {},
   "outputs": [],
   "source": [
    "reload(free_selection)"
   ]
  },
  {
   "cell_type": "code",
   "execution_count": null,
   "id": "7",
   "metadata": {},
   "outputs": [],
   "source": [
    "#raw_data_folder_path='all_monkey_data/raw_monkey_data/monkey_Bruno/data_0330'\n",
    "raw_data_folder_path='all_monkey_data/raw_monkey_data/monkey_Schro/data_0413'\n",
    "\n",
    "moit = intended_targets_classes.ModelOfIntendedTargets(raw_data_folder_path=raw_data_folder_path, time_range_of_trajectory=[-0.5, 2.5], num_time_points_for_trajectory=10)\n",
    "moit.get_monkey_data(already_retrieved_ok=True, include_ff_dataframe=True)\n",
    "moit.ff_dataframe = moit.ff_dataframe[abs(moit.ff_dataframe['ff_angle_boundary']) <= math.pi/4]\n",
    "moit.ff_dataframe = moit.ff_dataframe[moit.ff_dataframe['time_since_last_vis'] <= 2.5]\n",
    "\n",
    "# moit.get_and_process_manual_anno_long(n_seconds_after_crossing_boundary=2.5)\n",
    "moit.make_curvature_df([-25, 25], curv_of_traj_mode='distance')\n",
    "\n",
    "moit.make_auto_annot()\n",
    "moit.manual_anno = moit.auto_annot\n",
    "moit.manual_anno_long = moit.auto_annot_long\n",
    "\n",
    "\n",
    "moit.eliminate_crossing_boundary_cases(n_seconds_after_crossing_boundary=0.5)\n",
    "moit.get_input_data(num_ff_per_row=5, select_every_nth_row=10, \n",
    "                    add_arc_info=False, curvature_df=moit.curvature_df, curv_of_traj_df=moit.curv_of_traj_df.copy()\n",
    "                    )\n",
    "\n"
   ]
  },
  {
   "cell_type": "markdown",
   "id": "8",
   "metadata": {},
   "source": [
    "# ML class"
   ]
  },
  {
   "cell_type": "code",
   "execution_count": null,
   "id": "9",
   "metadata": {},
   "outputs": [],
   "source": [
    "window_for_curv_of_traj = [0, 50] # we want to predict into the future\n",
    "curv_of_traj_mode = 'distance'\n",
    "# get dependent variables\n",
    "reload(curvature_utils)\n",
    "curv_of_traj_df, traj_curv_descr = curv_of_traj_utils.find_curv_of_traj_df_based_on_curv_of_traj_mode(window_for_curv_of_traj, moit.monkey_information, \n",
    "                                                                                                      moit.ff_caught_T_new, curv_of_traj_mode=curv_of_traj_mode, truncate_curv_of_traj_by_time_of_capture=moit.truncate_curv_of_traj_by_time_of_capture)\n",
    "all_point_index = moit.free_selection_x_df['point_index'].values\n",
    "dependent_var = curv_of_traj_df.set_index('point_index').loc[all_point_index, 'curv_of_traj'].values"
   ]
  },
  {
   "cell_type": "code",
   "execution_count": null,
   "id": "10",
   "metadata": {},
   "outputs": [],
   "source": [
    "ml_inst = ml_methods_class.MlMethods(x_var_df= moit.free_selection_x_df.drop(columns=['point_index'], errors='ignore'),\n",
    "                                     y_var_df=curv_of_traj_df.set_index('point_index').loc[all_point_index, ['curv_of_traj']])"
   ]
  },
  {
   "cell_type": "code",
   "execution_count": null,
   "id": "11",
   "metadata": {},
   "outputs": [],
   "source": [
    "ml_inst.x_var_df"
   ]
  },
  {
   "cell_type": "code",
   "execution_count": null,
   "id": "12",
   "metadata": {},
   "outputs": [],
   "source": [
    "# ml_inst.use_ml_model_for_regression(ml_inst.x_var_df, ml_inst.y_var_df, model_names=['linreg', 'svr', 'dt', 'bagging', 'boosting', 'grad_boosting', 'rf'])\n",
    "# ml_inst.model_comparison_df"
   ]
  },
  {
   "cell_type": "markdown",
   "id": "13",
   "metadata": {},
   "source": [
    "## advanced ML models"
   ]
  },
  {
   "cell_type": "code",
   "execution_count": null,
   "id": "15",
   "metadata": {},
   "outputs": [],
   "source": [
    "ml_inst.use_train_test_split(ml_inst.x_var_df, ml_inst.y_var_df)\n",
    "df, best = advanced_regression_utils.use_advanced_model_for_regression(\n",
    "    ml_inst.X_train, ml_inst.y_train, ml_inst.X_test, ml_inst.y_test,\n",
    "    use_cv=False, cv_splits=5, verbose=True,\n",
    "    save_dir=f\"all_monkey_data/decision_making/{moit.monkey_name}/pred_curv_of_traj\",\n",
    "    resume=False\n",
    ")"
   ]
  },
  {
   "cell_type": "code",
   "execution_count": null,
   "id": "16",
   "metadata": {},
   "outputs": [],
   "source": [
    "ml_inst.use_train_test_split(ml_inst.x_var_df, ml_inst.y_var_df)\n",
    "df, best = advanced_regression_utils.use_advanced_model_for_regression(\n",
    "    ml_inst.X_train, ml_inst.y_train, ml_inst.X_test, ml_inst.y_test,\n",
    "    use_cv=False, cv_splits=5, verbose=True,\n",
    "    save_dir=f\"all_monkey_data/decision_making/{moit.monkey_name}/pred_curv_of_traj\",\n",
    "    resume=False\n",
    ")"
   ]
  },
  {
   "cell_type": "code",
   "execution_count": null,
   "id": "17",
   "metadata": {},
   "outputs": [],
   "source": [
    "ml_inst.x_var_df.columns"
   ]
  },
  {
   "cell_type": "code",
   "execution_count": null,
   "id": "18",
   "metadata": {},
   "outputs": [],
   "source": [
    "ml_inst.model_comparison_df, ml_inst.chosen_model_info = regression_utils.ml_model_for_regression(ml_inst.X_train, ml_inst.y_train, ml_inst.X_test, ml_inst.y_test,\n",
    "                                                                                                )"
   ]
  },
  {
   "cell_type": "markdown",
   "id": "19",
   "metadata": {},
   "source": [
    "# bagging prediction"
   ]
  },
  {
   "cell_type": "code",
   "execution_count": null,
   "id": "20",
   "metadata": {},
   "outputs": [],
   "source": [
    "# X, y are your full dataset\n",
    "model, metrics, _ = fit_plot_bagging_regression(\n",
    "   ml_inst.x_var_df, ml_inst.y_var_df,\n",
    "    test_size=0.2,\n",
    "    random_state=123,\n",
    "    n_estimators=300,\n",
    "    max_samples=0.9,     # try 0.5–1.0\n",
    "    max_features=1.0,    # try 0.5–1.0\n",
    "    bootstrap=True,\n",
    ")\n",
    "print(metrics)\n"
   ]
  },
  {
   "cell_type": "code",
   "execution_count": null,
   "id": "21",
   "metadata": {},
   "outputs": [],
   "source": [
    "import numpy as np\n",
    "import pandas as pd\n",
    "import matplotlib.pyplot as plt\n",
    "\n",
    "from sklearn.model_selection import train_test_split\n",
    "from sklearn.metrics import r2_score, mean_squared_error\n",
    "from sklearn.tree import DecisionTreeRegressor\n",
    "from sklearn.ensemble import BaggingRegressor\n",
    "\n",
    "def fit_plot_bagging_regression(\n",
    "    X,\n",
    "    y,\n",
    "    test_size: float = 0.2,\n",
    "    random_state: int = 42,\n",
    "    base_estimator=None,\n",
    "    n_estimators: int = 200,\n",
    "    max_samples: float | int = 1.0,\n",
    "    max_features: float | int = 1.0,\n",
    "    bootstrap: bool = True,\n",
    "    bootstrap_features: bool = False,\n",
    "    n_jobs: int = -1,\n",
    "):\n",
    "    # Ensure arrays\n",
    "    X_values = X.values if isinstance(X, pd.DataFrame) else np.asarray(X)\n",
    "    y_values = (y.squeeze().values if isinstance(y, pd.DataFrame) else np.asarray(y)).ravel()\n",
    "\n",
    "    X_train, X_test, y_train, y_test = train_test_split(\n",
    "        X_values, y_values, test_size=test_size, random_state=random_state\n",
    "    )\n",
    "\n",
    "    if base_estimator is None:\n",
    "        base_estimator = DecisionTreeRegressor(random_state=random_state)\n",
    "\n",
    "    # sklearn compatibility: estimator (>=1.2) vs base_estimator (older)\n",
    "    try:\n",
    "        model = BaggingRegressor(\n",
    "            estimator=base_estimator,\n",
    "            n_estimators=n_estimators,\n",
    "            max_samples=max_samples,\n",
    "            max_features=max_features,\n",
    "            bootstrap=bootstrap,\n",
    "            bootstrap_features=bootstrap_features,\n",
    "            random_state=random_state,\n",
    "            n_jobs=n_jobs,\n",
    "        )\n",
    "    except TypeError:\n",
    "        model = BaggingRegressor(\n",
    "            base_estimator=base_estimator,\n",
    "            n_estimators=n_estimators,\n",
    "            max_samples=max_samples,\n",
    "            max_features=max_features,\n",
    "            bootstrap=bootstrap,\n",
    "            bootstrap_features=bootstrap_features,\n",
    "            random_state=random_state,\n",
    "            n_jobs=n_jobs,\n",
    "        )\n",
    "\n",
    "    model.fit(X_train, y_train)\n",
    "    y_pred = model.predict(X_test)\n",
    "\n",
    "    # Metrics (compat for older sklearn without `squared`)\n",
    "    r2 = r2_score(y_test, y_pred)\n",
    "    try:\n",
    "        rmse = mean_squared_error(y_test, y_pred, squared=False)\n",
    "    except TypeError:\n",
    "        rmse = np.sqrt(mean_squared_error(y_test, y_pred))\n",
    "\n",
    "    # Plot Predicted vs Actual\n",
    "    fig, ax = plt.subplots(figsize=(6.5, 6))\n",
    "    ax.scatter(y_test, y_pred, alpha=0.6, edgecolor=\"none\")\n",
    "\n",
    "    vmin = float(min(np.min(y_test), np.min(y_pred)))\n",
    "    vmax = float(max(np.max(y_test), np.max(y_pred)))\n",
    "    ax.plot([vmin, vmax], [vmin, vmax], linestyle=\"--\")\n",
    "\n",
    "    ax.set_xlabel(\"Actual\")\n",
    "    ax.set_ylabel(\"Predicted\")\n",
    "    ax.set_title(\"Bagging Regression — Predicted vs Actual\")\n",
    "\n",
    "    ax.text(0.02, 0.98, f\"R² = {r2:.3f}\\nRMSE = {rmse:.4g}\",\n",
    "            transform=ax.transAxes, va=\"top\", ha=\"left\",\n",
    "            bbox=dict(boxstyle=\"round,pad=0.3\", fc=\"white\", ec=\"0.7\"))\n",
    "\n",
    "    plt.tight_layout()\n",
    "    return model, {\"r2\": r2, \"rmse\": rmse}, (fig, ax)\n"
   ]
  },
  {
   "cell_type": "markdown",
   "id": "22",
   "metadata": {},
   "source": [
    "# Feature importance"
   ]
  },
  {
   "cell_type": "code",
   "execution_count": null,
   "id": "23",
   "metadata": {},
   "outputs": [],
   "source": [
    "from sklearn.ensemble import RandomForestRegressor\n",
    "import pandas as pd\n",
    "\n",
    "# Train model\n",
    "rf = RandomForestRegressor(n_estimators=500, random_state=42)\n",
    "rf.fit(ml_inst.x_var_df, ml_inst.y_var_df)\n",
    "\n",
    "# Feature importances\n",
    "importances = pd.Series(rf.feature_importances_, index=ml_inst.x_var_df.columns)\n",
    "importances.sort_values(ascending=False).head(10)\n"
   ]
  },
  {
   "cell_type": "code",
   "execution_count": null,
   "id": "24",
   "metadata": {},
   "outputs": [],
   "source": [
    "importances = pd.Series(rf.feature_importances_, index=ml_inst.x_var_df.columns).sort_values(ascending=False)\n",
    "importances.head(10)"
   ]
  },
  {
   "cell_type": "code",
   "execution_count": null,
   "id": "25",
   "metadata": {},
   "outputs": [],
   "source": [
    "importances"
   ]
  },
  {
   "cell_type": "markdown",
   "id": "26",
   "metadata": {},
   "source": [
    "# What I used before"
   ]
  },
  {
   "cell_type": "code",
   "execution_count": null,
   "id": "27",
   "metadata": {},
   "outputs": [],
   "source": [
    "stop!"
   ]
  },
  {
   "cell_type": "code",
   "execution_count": null,
   "id": "28",
   "metadata": {},
   "outputs": [],
   "source": [
    "reload(pattern_by_trials)\n",
    "reload(decision_making_class)\n",
    "reload(decision_making_utils)\n",
    "reload(show_null_trajectory)\n",
    "reload(intended_targets_classes)\n",
    "reload(regression_utils)\n",
    "reload(curvature_utils)"
   ]
  },
  {
   "cell_type": "markdown",
   "id": "29",
   "metadata": {},
   "source": [
    "## explanatory_var"
   ]
  },
  {
   "cell_type": "code",
   "execution_count": null,
   "id": "30",
   "metadata": {},
   "outputs": [],
   "source": [
    "explanatory_var = moit.free_selection_x_df.drop(columns=['point_index'], errors='ignore').values"
   ]
  },
  {
   "cell_type": "markdown",
   "id": "31",
   "metadata": {},
   "source": [
    "## dependent_var"
   ]
  },
  {
   "cell_type": "code",
   "execution_count": null,
   "id": "32",
   "metadata": {},
   "outputs": [],
   "source": [
    "window_for_curv_of_traj = [0, 50] # we want to predict into the future\n",
    "curv_of_traj_mode = 'distance'\n",
    "\n",
    "\n",
    "curv_of_traj_df, traj_curv_descr = curv_of_traj_utils.find_curv_of_traj_df_based_on_curv_of_traj_mode(window_for_curv_of_traj, moit.monkey_information, \n",
    "                                                                                                      moit.ff_caught_T_new, curv_of_traj_mode=curv_of_traj_mode, truncate_curv_of_traj_by_time_of_capture=moit.truncate_curv_of_traj_by_time_of_capture)\n",
    "all_point_index = moit.free_selection_x_df['point_index'].values\n",
    "dependent_var = curv_of_traj_df.set_index('point_index').loc[all_point_index, 'curv_of_traj'].values"
   ]
  },
  {
   "cell_type": "markdown",
   "id": "33",
   "metadata": {},
   "source": [
    "## train test split"
   ]
  },
  {
   "cell_type": "code",
   "execution_count": null,
   "id": "34",
   "metadata": {},
   "outputs": [],
   "source": [
    "keep_whole_chunk = False\n",
    "test_size = 0.2\n",
    "\n",
    "scaler = StandardScaler()\n",
    "dependent_var_sc = scaler.fit_transform(dependent_var.reshape(-1,1)) #scale data\n",
    "explanatory_var_sc = scaler.fit_transform(explanatory_var)\n",
    "\n",
    "\n",
    "if keep_whole_chunk:\n",
    "    indices = np.arange(len(dependent_var_sc))\n",
    "    num_test_points = int(len(indices)*test_size)\n",
    "    num_train_points = len(indices)-num_test_points\n",
    "    # make sure that the test chunk will be a whole segment in the data, to minimize the splitting up of the train and test chunks\n",
    "    test_indice_start = np.random.randint(0, num_train_points)\n",
    "    indices_test = indices[test_indice_start:test_indice_start+num_test_points]\n",
    "    indices_train = np.setdiff1d(indices, indices_test)\n",
    "    X_train = explanatory_var_sc[indices_train]\n",
    "    X_test = explanatory_var_sc[indices_test]\n",
    "    y_train = dependent_var_sc[indices_train]\n",
    "    y_test = dependent_var_sc[indices_test]\n",
    "else:\n",
    "    X_train, X_test, y_train, y_test = train_test_split(explanatory_var_sc, dependent_var_sc, test_size=test_size, random_state=42)"
   ]
  },
  {
   "cell_type": "code",
   "execution_count": null,
   "id": "35",
   "metadata": {},
   "outputs": [],
   "source": [
    "moit.free_selection_x_df.columns"
   ]
  },
  {
   "cell_type": "code",
   "execution_count": null,
   "id": "36",
   "metadata": {},
   "outputs": [],
   "source": [
    "moit.free_selection_x_df"
   ]
  },
  {
   "cell_type": "markdown",
   "id": "37",
   "metadata": {},
   "source": [
    "## ML"
   ]
  },
  {
   "cell_type": "code",
   "execution_count": null,
   "id": "38",
   "metadata": {},
   "outputs": [],
   "source": [
    "X_train.shape"
   ]
  },
  {
   "cell_type": "code",
   "execution_count": null,
   "id": "39",
   "metadata": {},
   "outputs": [],
   "source": [
    "STOP!"
   ]
  },
  {
   "cell_type": "code",
   "execution_count": null,
   "id": "40",
   "metadata": {},
   "outputs": [],
   "source": [
    "# use MLPRegressor\n",
    "mlp = MLPRegressor(random_state=1, max_iter=100).fit(X_train, y_train)\n",
    "mlp.score(X_test, y_test)"
   ]
  },
  {
   "cell_type": "code",
   "execution_count": null,
   "id": "41",
   "metadata": {},
   "outputs": [],
   "source": [
    "# use KNeighborsRegressor\n",
    "n_neighbors = int(math.sqrt(len(y_train)))\n",
    "neigh = KNeighborsRegressor(n_neighbors=n_neighbors)\n",
    "neigh.fit(X_train, y_train)\n",
    "neigh.score(X_test, y_test)"
   ]
  },
  {
   "cell_type": "code",
   "execution_count": null,
   "id": "42",
   "metadata": {},
   "outputs": [],
   "source": [
    "# use RandomForestRegressor\n",
    "regr = RandomForestRegressor(max_depth=10, random_state=0)\n",
    "regr.fit(X_train, y_train)\n",
    "regr.score(X_test, y_test)"
   ]
  },
  {
   "cell_type": "code",
   "execution_count": null,
   "id": "43",
   "metadata": {},
   "outputs": [],
   "source": [
    "# use linear regression\n",
    "reg = LinearRegression().fit(X_train, y_train)\n",
    "reg.score(X_test, y_test)"
   ]
  }
 ],
 "metadata": {
  "kernelspec": {
   "display_name": "multiff_clean",
   "language": "python",
   "name": "python3"
  },
  "language_info": {
   "codemirror_mode": {
    "name": "ipython",
    "version": 3
   },
   "file_extension": ".py",
   "mimetype": "text/x-python",
   "name": "python",
   "nbconvert_exporter": "python",
   "pygments_lexer": "ipython3",
   "version": "3.11.11"
  }
 },
 "nbformat": 4,
 "nbformat_minor": 5
}
