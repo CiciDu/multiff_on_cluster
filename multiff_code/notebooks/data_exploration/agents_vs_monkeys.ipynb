{
 "cells": [
  {
   "cell_type": "markdown",
   "metadata": {},
   "source": [
    "# Import packages"
   ]
  },
  {
   "cell_type": "code",
   "execution_count": null,
   "metadata": {},
   "outputs": [],
   "source": [
    "%load_ext autoreload\n",
    "%autoreload 2\n",
    "\n",
    "from pathlib import Path\n",
    "import os, sys\n",
    "for p in [Path.cwd()] + list(Path.cwd().parents):\n",
    "    if p.name == 'Multifirefly-Project':\n",
    "        os.chdir(p)\n",
    "        sys.path.insert(0, str(p / 'multiff_analysis/multiff_code/methods'))\n",
    "        break\n",
    "\n",
    "import sys\n",
    "\n",
    "\n",
    "from data_wrangling import general_utils, specific_utils, process_monkey_information, base_processing_class, retrieve_raw_data, further_processing_class\n",
    "from pattern_discovery import pattern_by_trials, pattern_by_points, make_ff_dataframe, ff_dataframe_utils, pattern_by_trials, pattern_by_points, cluster_analysis, organize_patterns_and_features, category_class\n",
    "from decision_making_analysis.cluster_replacement import cluster_replacement_utils, plot_cluster_replacement\n",
    "from decision_making_analysis.decision_making import decision_making_utils, plot_decision_making, intended_targets_classes\n",
    "from decision_making_analysis.GUAT import GUAT_helper_class, GUAT_collect_info_class, GUAT_combine_info_class, add_features_GUAT_and_TAFT\n",
    "from decision_making_analysis import free_selection, replacement, trajectory_info\n",
    "from visualization.matplotlib_tools import plot_trials, plot_polar, additional_plots, plot_behaviors_utils, plot_statistics, monkey_heading_utils\n",
    "from visualization.animation import animation_func, animation_utils, animation_class\n",
    "from machine_learning.ml_methods import regression_utils, classification_utils, prep_ml_data_utils, hyperparam_tuning_class\n",
    "from reinforcement_learning.base_classes import env_utils, base_env, more_envs, rl_base_class, rl_base_utils\n",
    "from reinforcement_learning.agents.rnn import gru_utils, lstm_utils\n",
    "from reinforcement_learning.agents.feedforward import interpret_neural_network, sb3_class, sb3_utils\n",
    "from null_behaviors import show_null_trajectory, find_best_arc, curvature_utils\n",
    "from decision_making_analysis.decision_making import decision_making_class, decision_making_utils, intended_targets_classes\n",
    "\n",
    "import os, sys\n",
    "import numpy as np\n",
    "import matplotlib\n",
    "import matplotlib.pyplot as plt\n",
    "from os.path import exists\n",
    "import seaborn as sns\n",
    "import math\n",
    "import copy\n",
    "import matplotlib.pyplot as plt\n",
    "import pandas as pd\n",
    "import torch\n",
    "import torch.nn as nn\n",
    "import torch.optim as optim\n",
    "import tqdm\n",
    "from scipy import stats\n",
    "from IPython.display import HTML\n",
    "from matplotlib import rc\n",
    "from sklearn.model_selection import train_test_split\n",
    "from sklearn.preprocessing import OneHotEncoder\n",
    "from sklearn.datasets import make_multilabel_classification\n",
    "from sklearn.model_selection import train_test_split\n",
    "from sklearn.multioutput import MultiOutputClassifier\n",
    "from sklearn.neighbors import KNeighborsClassifier\n",
    "from sklearn.metrics import accuracy_score, hamming_loss, multilabel_confusion_matrix, fbeta_score, precision_score, recall_score\n",
    "from sklearn.ensemble import VotingClassifier\n",
    "from sklearn.neural_network import MLPClassifier\n",
    "from math import pi\n",
    "from scipy.ndimage import gaussian_filter1d\n",
    "from importlib import reload\n",
    "\n",
    "plt.rcParams[\"animation.html\"] = \"html5\"\n",
    "os.environ['KMP_DUPLICATE_LIB_OK']='True'\n",
    "rc('animation', html='jshtml')\n",
    "matplotlib.rcParams.update(matplotlib.rcParamsDefault)\n",
    "matplotlib.rcParams['animation.embed_limit'] = 2**128\n",
    "pd.set_option('display.float_format', lambda x: '%.5f' % x)\n",
    "np.set_printoptions(suppress=True)\n",
    "pd.options.display.max_rows = 101\n",
    "\n"
   ]
  },
  {
   "cell_type": "markdown",
   "metadata": {},
   "source": [
    "# Basic data"
   ]
  },
  {
   "cell_type": "markdown",
   "metadata": {},
   "source": [
    "## Retrieve monkey data"
   ]
  },
  {
   "cell_type": "markdown",
   "metadata": {},
   "source": [
    "### short version"
   ]
  },
  {
   "cell_type": "code",
   "execution_count": null,
   "metadata": {},
   "outputs": [],
   "source": [
    "raw_data_folder_path = \"all_monkey_data/raw_monkey_data/monkey_Bruno/data_0330\"\n",
    "data_item = animation_class.AnimationClass(raw_data_folder_path=raw_data_folder_path)\n",
    "data_item.retrieve_or_make_monkey_data(exists_ok=True, min_distance_to_calculate_angle=10)\n",
    "data_item.make_or_retrieve_ff_dataframe(exists_ok=True)\n",
    "data_item.find_patterns()"
   ]
  },
  {
   "cell_type": "code",
   "execution_count": null,
   "metadata": {},
   "outputs": [],
   "source": [
    "data_item.make_or_retrieve_target_clust_last_vis_df()\n",
    "target_clust_last_vis_df = data_item.target_clust_last_vis_df\n",
    "target_clust_last_vis_df['ff_index'] = target_clust_last_vis_df['target_index']\n",
    "\n",
    "data_item.make_curvature_df()\n",
    "data_item.make_or_retrieve_best_arc_df()\n",
    "data_item.null_arc_info_for_plotting = show_null_trajectory.find_and_package_opt_arc_info_for_plotting(data_item.best_arc_df, data_item.monkey_information, column_for_color=None, ignore_error=True)\n"
   ]
  },
  {
   "cell_type": "markdown",
   "metadata": {},
   "source": [
    "### long version"
   ]
  },
  {
   "cell_type": "code",
   "execution_count": null,
   "metadata": {},
   "outputs": [],
   "source": [
    "PLAYER = \"monkey\"\n",
    "trial_total_num = 2\n",
    "\n",
    "raw_data_folder_path = \"all_monkey_data/raw_monkey_data/monkey_Bruno/data_0330\"\n",
    "data_item = animation_class.AnimationClass(raw_data_folder_path=raw_data_folder_path)\n",
    "data_item.retrieve_or_make_monkey_data(exists_ok=True, min_distance_to_calculate_angle=10)\n",
    "data_item.make_or_retrieve_ff_dataframe(exists_ok=True)\n",
    "data_item.find_patterns()\n",
    "\n",
    "monkey_information = data_item.monkey_information\n",
    "ff_dataframe = data_item.ff_dataframe\n",
    "\n",
    "ff_life_sorted = data_item.ff_life_sorted\n",
    "ff_real_position_sorted = data_item.ff_real_position_sorted\n",
    "ff_believed_position_sorted = data_item.ff_believed_position_sorted\n",
    "cluster_around_target_indices = data_item.cluster_around_target_indices\n",
    "ff_caught_T_new = data_item.ff_caught_T_new\n",
    "caught_ff_num = len(ff_caught_T_new)\n",
    "ff_flash_sorted = data_item.ff_flash_sorted\n",
    "ff_flash_end_sorted = data_item.ff_flash_end_sorted\n",
    "max_point_index = data_item.max_point_index\n",
    "min_point_index = data_item.min_point_index\n",
    "\n",
    "data_item.make_or_retrieve_target_clust_last_vis_df()\n",
    "target_clust_last_vis_df = data_item.target_clust_last_vis_df\n",
    "target_clust_last_vis_df['ff_index'] = target_clust_last_vis_df['target_index']\n",
    "\n",
    "data_item.make_curvature_df()\n",
    "data_item.make_or_retrieve_best_arc_df()\n",
    "data_item.null_arc_info_for_plotting = show_null_trajectory.find_and_package_opt_arc_info_for_plotting(data_item.best_arc_df, data_item.monkey_information, column_for_color=None, ignore_error=True)\n",
    "\n",
    "\n",
    "data_item.make_or_retrieve_all_trial_patterns(exists_ok=True)\n",
    "data_item.make_or_retrieve_pattern_frequencies(exists_ok=True)\n",
    "data_item.make_or_retrieve_all_trial_features(exists_ok=True)\n",
    "data_item.make_or_retrieve_feature_statistics(exists_ok=True)\n",
    "# data_item.make_info_of_monkey()\n",
    "# data_item.make_or_retrieve_target_closest()\n",
    "# data_item.make_or_retrieve_target_angle_smallest()\n",
    "\n",
    "# target_closest = data_item.target_closest\n",
    "# target_angle_smallest = data_item.target_angle_smallest\n",
    "# all_trial_patterns = data_item.all_trial_patterns\n",
    "# all_trial_features = data_item.all_trial_features\n",
    "# pattern_frequencies = data_item.pattern_frequencies\n",
    "# feature_statistics = data_item.feature_statistics\n",
    "# info_of_monkey = data_item.info_of_monkey\n",
    "\n",
    "# data_item.make_PlotTrials_args()\n",
    "# data_item.make_PlotTrials_kargs(classic_plot_kwargs, combined_plot_kwargs, animation_plot_kwargs)\n",
    "\n",
    "PlotTrials_args = (monkey_information, ff_dataframe, ff_life_sorted, ff_real_position_sorted, ff_believed_position_sorted, cluster_around_target_indices, ff_caught_T_new)\n",
    "\n",
    "plot_polar_args = (monkey_information,\n",
    "                    ff_dataframe, \n",
    "                    ff_life_sorted,\n",
    "                    ff_real_position_sorted,\n",
    "                    ff_caught_T_new,\n",
    "                    ff_flash_sorted,)\n",
    "\n",
    "\n",
    "classic_plot_kwargs = {'player': PLAYER,\n",
    "                       'show_stops': True,\n",
    "                       'show_believed_target_positions': True,\n",
    "                       'show_reward_boundary': True,\n",
    "                       'show_scale_bar': True,\n",
    "                       'show_eye_positions': True,\n",
    "                       'show_eye_positions_on_the_right': True,\n",
    "                       'show_connect_path_eye_positions': True,\n",
    "                       #=== below is different from animation_plot_kwargs\n",
    "                       'hitting_arena_edge_ok': False,\n",
    "                       'trial_too_short_ok': False}\n",
    "\n",
    "combined_plot_kwargs = {'player': PLAYER,\n",
    "                        'combined_plot': True,\n",
    "                        'show_alive_fireflies': False,\n",
    "                        'show_title': False,\n",
    "                        'show_start': False}\n",
    "\n",
    "plot_chunks_kwargs = {'player': PLAYER,\n",
    "                      'show_stops': True,\n",
    "                      'show_believed_target_positions': True,\n",
    "                      'show_reward_boundary': True,\n",
    "                      'show_scale_bar': True,\n",
    "                      'hitting_arena_edge_ok': True,\n",
    "                      'trial_too_short_ok': True,\n",
    "                      'show_connect_path_ff': True,\n",
    "                      'trail_color_var': 'abs_ddw',\n",
    "                      'show_colorbar': True}\n",
    "\n",
    "\n",
    "plot_polar_kwargs = {'rmax': 400,\n",
    "                    'show_visible_ff': True,\n",
    "                    'hitting_arena_edge_ok': True,\n",
    "                    'return_axes': True,\n",
    "                    'colors_show_overall_time': True,\n",
    "                    'show_ff_in_memory': True,\n",
    "                    'show_target_at_being_caught': True\n",
    "                    }\n",
    "\n",
    "animation_plot_kwargs = {\n",
    "    **classic_plot_kwargs,\n",
    "    'as_part_of_animation': True,\n",
    "    'show_eye_positions_on_the_right': False,\n",
    "    'hitting_arena_edge_ok': True,\n",
    "    'trial_too_short_ok': True,\n",
    "    'images_dir': None\n",
    "}\n",
    "  \n",
    "data_item.make_PlotTrials_args()\n",
    "data_item.make_PlotTrials_kargs(classic_plot_kwargs, combined_plot_kwargs, animation_plot_kwargs)\n",
    "\n",
    "\n",
    "plotting_kwargs = {'player': 'monkey',\n",
    " 'show_stops': True,\n",
    " 'show_believed_target_positions': True,\n",
    " 'show_reward_boundary': True,\n",
    " 'show_scale_bar': True,\n",
    " 'hitting_arena_edge_ok': True,\n",
    " 'trial_too_short_ok': True,\n",
    " 'show_connect_path_ff': True,\n",
    " 'vary_color_for_connecting_path_ff': True,\n",
    " 'show_points_when_ff_stop_being_visible': False,\n",
    " #'show_connect_path_ff_memory': True,\n",
    " 'show_alive_fireflies': False,\n",
    " 'show_visible_fireflies': True,\n",
    " 'show_in_memory_fireflies': True,\n",
    " 'connect_path_ff_max_distance': 400,\n",
    " #'show_connect_path_ff_except_targets': True,\n",
    " 'adjust_xy_limits': True,\n",
    " 'show_null_agent_trajectory': True,\n",
    " 'show_only_ff_that_monkey_has_passed_by_closely': True,\n",
    " 'show_null_trajectory_reaching_boundary_ok': False,\n",
    " 'vary_color_for_connecting_path_ff': False}\n",
    "\n",
    "plotting_kwargs['null_arc_info_for_plotting'] = data_item.null_arc_info_for_plotting\n",
    "\n"
   ]
  },
  {
   "cell_type": "markdown",
   "metadata": {},
   "source": [
    "# Plot statistics (monkey vs agents)"
   ]
  },
  {
   "cell_type": "markdown",
   "metadata": {},
   "source": [
    "## Calculate statistics of patterns"
   ]
  },
  {
   "cell_type": "code",
   "execution_count": null,
   "metadata": {},
   "outputs": [],
   "source": [
    "raw_data_folder_path = \"all_monkey_data/raw_monkey_data/monkey_Bruno/data_0314\"\n",
    "data_item = animation_class.AnimationClass(raw_data_folder_path=raw_data_folder_path)\n",
    "data_item.retrieve_or_make_monkey_data()\n",
    "data_item.make_or_retrieve_ff_dataframe(exists_ok=True)\n",
    "\n",
    "data_item.find_patterns()\n",
    "data_item.make_PlotTrials_args()\n",
    "data_item.make_df_related_to_patterns_and_features()"
   ]
  },
  {
   "cell_type": "markdown",
   "metadata": {},
   "source": [
    "## Import and merging stored data"
   ]
  },
  {
   "cell_type": "code",
   "execution_count": null,
   "metadata": {},
   "outputs": [],
   "source": [
    "# The original intention of the code is that pattern_frequencies_a and feature_statistics_a will be freshly generated\n",
    "# But now, for the sake of demonstration...\n",
    "pattern_frequencies_a = data_item.pattern_frequencies.copy()\n",
    "pattern_frequencies_m = data_item.pattern_frequencies.copy()\n",
    "feature_statistics_a = data_item.feature_statistics.copy()\n",
    "feature_statistics_m = data_item.feature_statistics.copy()\n",
    "pattern_frequencies_a['Player'] = \"Agent\"\n",
    "feature_statistics_a['Player'] = \"Agent\""
   ]
  },
  {
   "cell_type": "code",
   "execution_count": null,
   "metadata": {},
   "outputs": [],
   "source": [
    "agent_monkey_pattern_frequencies = organize_patterns_and_features.combine_df_of_agent_and_monkey(pattern_frequencies_m, pattern_frequencies_a, agent_names = [\"Agent\", \"Agent2\", \"Agent3\"])\n",
    "agent_monkey_feature_statistics = organize_patterns_and_features.combine_df_of_agent_and_monkey(feature_statistics_m, feature_statistics_a, agent_names = [\"Agent\", \"Agent2\", \"Agent3\"]) "
   ]
  },
  {
   "cell_type": "markdown",
   "metadata": {},
   "source": [
    "## Plotting: same plot"
   ]
  },
  {
   "cell_type": "code",
   "execution_count": null,
   "metadata": {},
   "outputs": [],
   "source": [
    "agent_monkey_feature_statistics"
   ]
  },
  {
   "cell_type": "code",
   "execution_count": null,
   "metadata": {},
   "outputs": [],
   "source": [
    "plot_statistics.plot_merged_df(agent_monkey_pattern_frequencies, x=\"Label\", y=\"Rate\")\n",
    "plt.show()\n",
    "\n",
    "temp_agent_monkey_feature_statistics = agent_monkey_feature_statistics.copy()\n",
    "temp_agent_monkey_feature_statistics = temp_agent_monkey_feature_statistics[temp_agent_monkey_feature_statistics['label']!='distance target last seen']\n",
    "plot_statistics.plot_merged_df(temp_agent_monkey_feature_statistics, x=\"Label\", y=\"Median\")\n",
    "plt.show()\n"
   ]
  },
  {
   "cell_type": "markdown",
   "metadata": {},
   "source": [
    "## Plotting: individual plots"
   ]
  },
  {
   "cell_type": "code",
   "execution_count": null,
   "metadata": {},
   "outputs": [],
   "source": [
    "reload(plot_statistics)"
   ]
  },
  {
   "cell_type": "code",
   "execution_count": null,
   "metadata": {},
   "outputs": [],
   "source": [
    "plot_statistics.plot_merged_df_by_category(agent_monkey_feature_statistics, category_column_name=\"Label for median\", y=\"Median\", category_order=None, percentage=False)\n",
    "plt.show()\n"
   ]
  },
  {
   "cell_type": "markdown",
   "metadata": {},
   "source": [
    "## Plotting histograms"
   ]
  },
  {
   "cell_type": "code",
   "execution_count": null,
   "metadata": {},
   "outputs": [],
   "source": [
    "data_item.make_or_retrieve_all_trial_patterns(exists_ok=True)\n",
    "data_item.make_or_retrieve_pattern_frequencies(exists_ok=True)\n",
    "data_item.make_or_retrieve_all_trial_features(exists_ok=True)\n",
    "data_item.make_or_retrieve_feature_statistics(exists_ok=True)"
   ]
  },
  {
   "cell_type": "code",
   "execution_count": null,
   "metadata": {},
   "outputs": [],
   "source": [
    "# all_trial_features_m means all_trial_features for monkey\n",
    "all_trial_features_m = data_item.all_trial_features.copy()\n",
    "# all_trial_features_m = pd.read_csv(data_folder_name + '/patterns_and_features/all_trial_features.csv')\n",
    "all_trial_features_valid_m = all_trial_features_m[(all_trial_features_m['t_last_vis']<50) & (all_trial_features_m['hitting_arena_edge']==False)].reset_index()\n",
    "median_values_m = all_trial_features_valid_m.median(axis=0)\n",
    "all_trial_features_valid_m = all_trial_features_m[(all_trial_features_m['t_last_vis'] < 50) & (all_trial_features_m['hitting_arena_edge']==False)].reset_index()\n"
   ]
  },
  {
   "cell_type": "code",
   "execution_count": null,
   "metadata": {},
   "outputs": [],
   "source": [
    "all_trial_features_valid = data_item.all_trial_features[(data_item.all_trial_features['t_last_vis'] < 50) & (data_item.all_trial_features['hitting_arena_edge']==False)].reset_index()\n",
    "plot_statistics.plot_feature_histograms_for_monkey_and_agent(all_trial_features_valid_m, all_trial_features_valid)"
   ]
  },
  {
   "cell_type": "markdown",
   "metadata": {},
   "source": [
    "# Plot RL & monkey side_by_side"
   ]
  },
  {
   "cell_type": "code",
   "execution_count": null,
   "metadata": {},
   "outputs": [],
   "source": [
    "stop!"
   ]
  },
  {
   "cell_type": "code",
   "execution_count": null,
   "metadata": {},
   "outputs": [],
   "source": [
    "model_folder_name = \"multiff_analysis/RL_models/SB3_stored_models/all_agents/A0.2_O4_ff2_memory3/\"\n",
    "env_kwargs = {\"num_obs_ff\": 5}\n",
    "env = env.CollectInformation(**env_kwargs)\n",
    "env.reset()\n",
    "\n",
    "\n",
    "# For direct training\n",
    "sac_model = SAC(\"MlpPolicy\", \n",
    "            env,\n",
    "            gamma=0.995,\n",
    "            learning_rate=0.0015,\n",
    "            batch_size=1024,\n",
    "            target_update_interval=50,\n",
    "            buffer_size=1000000,\n",
    "            learning_starts=10000,\n",
    "            train_freq=10,\n",
    "            ent_coef='auto',\n",
    "            policy_kwargs=dict(activation_fn=nn.Tanh, net_arch=[128, 128])\n",
    "                )\n",
    "path = os.path.join(model_folder_name, 'best_model.zip')\n",
    "sac_model = sac_model.load(path,env=env) \n",
    "\n",
    "\n",
    "with general_utils.HiddenPrints():\n",
    "  # Note: must use env(Simulated)\n",
    "\n",
    "  agent_dt = 0.25\n",
    "  num_trials = 2\n",
    "\n",
    "  plotting_params = {\"show_stops\": True,\n",
    "                    \"show_believed_target_positions\": True,\n",
    "                    \"show_reward_boundary\": True,\n",
    "                    \"show_connect_path_ff\": True,\n",
    "                    \"show_scale_bar\": True,\n",
    "                    \"hitting_arena_edge_ok\": True,\n",
    "                    \"trial_too_short_ok\": True}\n",
    "\n",
    "  for currentTrial in [12, 69, 138, 221, 235, 259, 263, 265, 299, 393, 496, 523, 556, 601, 666, 698, 760, 805, 808, 930, 946, 955, 1002, 1003]:\n",
    "      info_of_agent, plot_whole_duration, rotation_matrix, num_imitation_steps_monkey, num_imitation_steps_agent = process_agent_data.find_corresponding_info_of_agent(info_of_monkey, currentTrial, num_trials, sac_model, agent_dt, LSTM=False, env_kwargs=env_kwargs)\n",
    "\n",
    "      with general_utils.initiate_plot(20,20,400):\n",
    "          additional_plots.PlotSidebySide(plot_whole_duration = plot_whole_duration,\n",
    "                          info_of_monkey = info_of_monkey,\n",
    "                          info_of_agent = info_of_agent,  \n",
    "                          num_imitation_steps_monkey = num_imitation_steps_monkey,\n",
    "                          num_imitation_steps_agent = num_imitation_steps_agent,                \n",
    "                          currentTrial = currentTrial,\n",
    "                          num_trials = num_trials, \n",
    "                          rotation_matrix = rotation_matrix,              \n",
    "                          plotting_params = plotting_params,\n",
    "                          )"
   ]
  },
  {
   "cell_type": "markdown",
   "metadata": {},
   "source": [
    "# Plot RL parameter vs outcome\n",
    "\n",
    "Should I use marginal or conditional?\n",
    "\n",
    "Should I have 2 variables or 3 variables?\n",
    "\n",
    "Or should I just try all of the above?\n",
    "\n",
    "Or, can I make an interactive plot?"
   ]
  },
  {
   "cell_type": "code",
   "execution_count": null,
   "metadata": {},
   "outputs": [],
   "source": [
    "overall_folder = 'multiff_analysis/RL_models/SB3_stored_models/all_agents/gen_5/'"
   ]
  },
  {
   "cell_type": "code",
   "execution_count": null,
   "metadata": {},
   "outputs": [],
   "source": [
    "feature_medians_record = pd.read_csv(overall_folder + 'feature_medians_record.csv').drop([\"Unnamed: 0\"], axis=1)\n",
    "feature_means_record = pd.read_csv(overall_folder + 'feature_means_record.csv').drop([\"Unnamed: 0\"], axis=1)\n",
    "pattern_frequencies_record = pd.read_csv(overall_folder +'pattern_frequencies_record.csv').drop([\"Unnamed: 0\"], axis=1)"
   ]
  },
  {
   "cell_type": "code",
   "execution_count": null,
   "metadata": {},
   "outputs": [],
   "source": [
    "df_of_interest = pattern_frequencies_record\n",
    "\n",
    "parameter_columns = ['v_noise_std', 'w_noise_std', 'ffr_noise_scale', 'num_obs_ff', 'max_in_memory_time']\n",
    "outcome_columns = np.setdiff1d(df_of_interest.columns, parameter_columns)\n",
    "#plot_statistics.plot_correlations_in_record(df=df_of_interest, parameter_columns=parameter_columns, outcome_columns=outcome_columns)\n",
    "outcome_columns"
   ]
  },
  {
   "cell_type": "markdown",
   "metadata": {},
   "source": [
    "## Marking what works"
   ]
  },
  {
   "cell_type": "code",
   "execution_count": null,
   "metadata": {},
   "outputs": [],
   "source": [
    "# parameters_record = feature_medians_record[['v_noise_std', 'w_noise_std', 'ffr_noise_scale', 'num_obs_ff', 'max_in_memory_time']].copy()\n",
    "# parameters_record['working'] = 9 # I will change this manually; 2 meanings working well; 1 means somewhat working; 0 meanings not working\n",
    "# parameters_record = parameters_record.sort_values(by=['v_noise_std', 'w_noise_std', 'ffr_noise_scale', 'num_obs_ff', 'max_in_memory_time']).reset_index(drop=True)\n",
    "# parameters_record.to_csv(overall_folder + 'parameters_record.csv')"
   ]
  },
  {
   "cell_type": "code",
   "execution_count": null,
   "metadata": {},
   "outputs": [],
   "source": [
    "parameters_record = pd.read_csv(overall_folder + 'parameters_record.csv').drop([\"Unnamed: 0\"], axis=1)\n",
    "parameters_record"
   ]
  },
  {
   "cell_type": "code",
   "execution_count": null,
   "metadata": {},
   "outputs": [],
   "source": [
    "parameter_columns = ['v_noise_std', 'w_noise_std', 'ffr_noise_scale', 'num_obs_ff', 'max_in_memory_time']\n",
    "outcome_columns = parameter_columns.copy()\n",
    "plot_statistics.plot_correlations_in_record(parameters_record, parameter_columns=parameter_columns, outcome_columns=outcome_columns,\\\n",
    "                            color_column='working')"
   ]
  },
  {
   "cell_type": "markdown",
   "metadata": {},
   "source": [
    "## interactions BETWEEN the parameter columns"
   ]
  },
  {
   "cell_type": "code",
   "execution_count": null,
   "metadata": {},
   "outputs": [],
   "source": [
    "parameter_columns = ['v_noise_std', 'w_noise_std', 'ffr_noise_scale', 'num_obs_ff', 'max_in_memory_time']\n",
    "outcome_columns = parameter_columns.copy()\n",
    "plot_statistics.plot_correlations_in_record(feature_medians_record, parameter_columns=parameter_columns, outcome_columns=outcome_columns)"
   ]
  },
  {
   "cell_type": "markdown",
   "metadata": {},
   "source": [
    "## medians"
   ]
  },
  {
   "cell_type": "code",
   "execution_count": null,
   "metadata": {},
   "outputs": [],
   "source": [
    "feature_outcome_columns = ['abs_angle_last_vis', 'd_last_vis', 'n_ff_in_a_row', 'num_stops',\n",
    "'num_stops_near_target', 'num_stops_since_last_vis', 't', 't_last_vis']\n",
    "plot_statistics.plot_correlations_in_record(feature_medians_record, outcome_columns=feature_outcome_columns)"
   ]
  },
  {
   "cell_type": "markdown",
   "metadata": {},
   "source": [
    "## means"
   ]
  },
  {
   "cell_type": "code",
   "execution_count": null,
   "metadata": {},
   "outputs": [],
   "source": [
    "feature_outcome_columns = ['abs_angle_last_vis', 'd_last_vis', 'n_ff_in_a_row', 'num_stops',\n",
    "'num_stops_near_target', 'num_stops_since_last_vis', 't', 't_last_vis']\n",
    "plot_statistics.plot_correlations_in_record(feature_means_record, outcome_columns=feature_outcome_columns)"
   ]
  },
  {
   "cell_type": "markdown",
   "metadata": {},
   "source": [
    "## frequencies"
   ]
  },
  {
   "cell_type": "code",
   "execution_count": null,
   "metadata": {},
   "outputs": [],
   "source": [
    "pattern_outcome_columns = ['ff_capture_rate', 'stop_success_rate', 'two_in_a_row', 'waste_cluster_around_target', \n",
    " 'disappear_latest', 'visible_before_last_one', 'try_a_few_times', 'give_up_after_trying', 'ignore_sudden_flash']\n",
    " \n",
    "plot_statistics.plot_correlations_in_record(pattern_frequencies_record, outcome_columns=pattern_outcome_columns)"
   ]
  },
  {
   "cell_type": "markdown",
   "metadata": {},
   "source": [
    "## Try using a dummy dataframe"
   ]
  },
  {
   "cell_type": "code",
   "execution_count": null,
   "metadata": {},
   "outputs": [],
   "source": [
    "dummy_dict = {}\n",
    "for column in feature_medians_record.columns:\n",
    "    dummy_dict[column] = np.random.rand(10)\n",
    "dummy_dict\n",
    "dummy_df = pd.DataFrame(dummy_dict)\n",
    "\n",
    "\n",
    "plot_statistics.plot_correlations_in_record(df=dummy_df, parameter_columns=parameter_columns, outcome_columns=feature_outcome_columns)"
   ]
  },
  {
   "cell_type": "markdown",
   "metadata": {},
   "source": [
    "# Appendix"
   ]
  },
  {
   "cell_type": "code",
   "execution_count": null,
   "metadata": {},
   "outputs": [],
   "source": [
    "# Retrieve more agent data\n",
    "all_trial_features_lstm = pd.read_csv('multiff_analysis/RL_models/LSTM_stored_models/all_agents/gen_0/LSTM_Aug_1_24/patterns_and_features/all_trial_features.csv')\n",
    "all_trial_features_valid_lstm = all_trial_features_lstm[(all_trial_features_lstm['t_last_vis']<50) & (all_trial_features_lstm['hitting_arena_edge']==False)].reset_index()\n",
    "median_values_lstm = all_trial_features_valid_lstm.median(axis=0)"
   ]
  },
  {
   "cell_type": "code",
   "execution_count": null,
   "metadata": {},
   "outputs": [],
   "source": [
    "# what percentage of points in monkey_information['time'].diff() is below 0.015?\n",
    "t_diff = monkey_information['time'].diff()\n",
    "np.where(t_diff < 0.015)[0].shape[0]/t_diff.shape[0]"
   ]
  },
  {
   "cell_type": "code",
   "execution_count": null,
   "metadata": {},
   "outputs": [],
   "source": [
    "# find trials where two ff within 100 cm of each other appear at the same time\n",
    "trials_for_planning = []\n",
    "for trial in ff_dataframe_visible.target_index.unique():\n",
    "    ff_subset = ff_dataframe_visible[ff_dataframe_visible.target_index == trial]\n",
    "    ff_counting = ff_subset.groupby('point_index').count()\n",
    "    ff_counting = ff_counting[ff_counting.ff_index > 1]\n",
    "    point_index = ff_counting.point_index\n",
    "    #ff_subset = ff_subset[ff_subset.point_index.isin(point_index)]\n",
    "    # for each point index, see if the ff are within 100 of each other\n",
    "    for point_index in relevant_point_index:\n",
    "        current_ff = ff_subset[ff_subset.point_index == point_index]\n",
    "        # find if they're within 100 cm of each other\n",
    "        # ... and then I decided to use find_point_vs_cluster\n",
    "    if len(ff_subset) > 0:\n",
    "        trials_for_planning.append(trial)\n"
   ]
  },
  {
   "cell_type": "markdown",
   "metadata": {},
   "source": [
    "## angle vs time\n",
    "target_angle_to_boundary_last_vis VS. time_since_target_cluster_last_vis"
   ]
  },
  {
   "cell_type": "code",
   "execution_count": null,
   "metadata": {},
   "outputs": [],
   "source": [
    "# Subset data\n",
    "target_clust_sub = target_clust_last_vis_df[target_clust_last_vis_df['time_since_last_vis'] < 7]\n",
    "\n",
    "# Convert angle to degrees\n",
    "angles_deg = target_clust_sub['abs_last_vis_ang_to_bndry'] * 180 / np.pi\n",
    "\n",
    "# Plot with regression fit\n",
    "plt.figure(figsize=(7,7))\n",
    "sns.regplot(\n",
    "    x=target_clust_sub['time_since_last_vis'], \n",
    "    y=angles_deg, \n",
    "    scatter_kws={'s': 10},   # scatter point size\n",
    "    line_kws={'color':'red'} # regression line color\n",
    ")\n",
    "plt.xlabel('Time since last visible (s)')\n",
    "plt.ylabel('Absolute angle to boundary when last visible (deg)')\n",
    "plt.title('Regression of Angle When Last Visible vs Time Since Last Visible')\n",
    "plt.show()\n"
   ]
  },
  {
   "cell_type": "markdown",
   "metadata": {},
   "source": [
    "## Inspect angles to boundary\n",
    "\n",
    "Since target cluster became last visible, has the angle to boundary of the target ever become greater than 40 degrees?\n",
    "\n",
    "Note: here we use angle to reward boundary, not angle to visible boundary"
   ]
  },
  {
   "cell_type": "code",
   "execution_count": null,
   "metadata": {},
   "outputs": [],
   "source": [
    "ff_indices_of_each_cluster = cluster_analysis.find_alive_target_clusters(ff_real_position_sorted, ff_caught_T_new, ff_life_sorted, max_distance=50)"
   ]
  },
  {
   "cell_type": "code",
   "execution_count": null,
   "metadata": {},
   "outputs": [],
   "source": [
    "reload(specific_utils)\n",
    "problematic_trials = []\n",
    "# for each target_index\n",
    "for index, row in target_clust_last_vis_df.iterrows():\n",
    "    if row.time_since_last_vis < 3:\n",
    "        target_index = row.target_index\n",
    "        #ff_indices = ff_indices_of_each_cluster[target_index]\n",
    "        ff_indices = np.array([target_index]) # I realized that ultimately ff_indices can only be target_index, cause otherwise there will likely be big angles\n",
    "        time_interval = [row.last_vis_time, row.caught_time]\n",
    "        # in this time interval, calculate all ff_angle_boundary of ff_indices and see if any is greater than 45\n",
    "        monkey_information_subset = monkey_information[(monkey_information.time >= time_interval[0]) & (monkey_information.time <= time_interval[1])]\n",
    "        monkey_xy_relevant = monkey_information_subset[['monkey_x', 'monkey_y']].values\n",
    "        monkey_angles_relevant = monkey_information_subset['monkey_angle'].values\n",
    "        for ff_index in ff_indices:\n",
    "            ff_distance_relevant = np.linalg.norm(monkey_xy_relevant-ff_real_position_sorted[ff_index], axis=1)\n",
    "            angles_to_ff = specific_utils.calculate_angles_to_ff_centers(ff_x=ff_real_position_sorted[ff_index, 0], ff_y=ff_real_position_sorted[ff_index, 1], mx=monkey_xy_relevant[:, 0], my=monkey_xy_relevant[:, 1], m_angle=monkey_angles_relevant)\n",
    "            angles_to_boundaries = specific_utils.calculate_angles_to_ff_boundaries(angles_to_ff=angles_to_ff, distances_to_ff=ff_distance_relevant, \n",
    "                                                                                ff_radius=10)      \n",
    "            angles_to_boundaries = angles_to_boundaries*180/math.pi\n",
    "            big_angles_to_boundaries_indices = np.where(np.abs(angles_to_boundaries) >= 40)[0]\n",
    "            # if the angle only appears after the monkey passes the ff, then it's not a problem\n",
    "            if len(big_angles_to_boundaries_indices) > 0:\n",
    "                big_angles_to_boundaries = angles_to_boundaries[big_angles_to_boundaries_indices]\n",
    "                if not np.any(np.abs(angles_to_boundaries[:big_angles_to_boundaries_indices[0]]) < 30):\n",
    "                    problematic_trials.append(target_index)\n",
    "                    print('target_index: ', target_index)\n",
    "                    print('ff_index: ', ff_index, 'angles_to_boundaries: ', big_angles_to_boundaries)\n",
    "                    print('all angles_to_boundaries: ', angles_to_boundaries)"
   ]
  },
  {
   "cell_type": "code",
   "execution_count": null,
   "metadata": {},
   "outputs": [],
   "source": [
    "reload(plot_behaviors_utils)\n",
    "num_trials = 2\n",
    "plt.rcParams[\"figure.figsize\"] = (10, 10)\n",
    "for currentTrial in problematic_trials[3:5]:\n",
    "    plot_behaviors_utils.plot_a_trial(currentTrial, 2, ff_caught_T_new, PlotTrials_args, additional_kwargs=None)"
   ]
  },
  {
   "cell_type": "markdown",
   "metadata": {},
   "source": [
    "# Planning"
   ]
  },
  {
   "cell_type": "markdown",
   "metadata": {},
   "source": [
    "## find point_vs_cluster"
   ]
  },
  {
   "cell_type": "code",
   "execution_count": null,
   "metadata": {},
   "outputs": [],
   "source": [
    "# keep only the ff that monkey has passed by closely\n",
    "ff_dataframe_sifted = pd.DataFrame()\n",
    "for time in range(math.floor(ff_dataframe.time.min()), math.ceil(ff_dataframe.time.max()), 15):\n",
    "    duration = [time, time+20] # note, we try to create some overlaps between intervals\n",
    "    ff_dataframe_portion_to_keep = ff_dataframe_utils.keep_only_ff_that_monkey_has_passed_by_closely(ff_dataframe, duration=duration, max_distance_to_ff=100)\n",
    "    ff_dataframe_sifted = pd.concat([ff_dataframe_sifted, ff_dataframe_portion_to_keep])\n",
    "ff_dataframe_sifted = ff_dataframe_sifted.drop_duplicates()\n",
    "\n",
    "ff_dataframe_sifted_visible = ff_dataframe_sifted[ff_dataframe_sifted['visible'] == True]\n"
   ]
  },
  {
   "cell_type": "code",
   "execution_count": null,
   "metadata": {},
   "outputs": [],
   "source": [
    "filepath = os.path.join(data_item.patterns_and_features_folder_path, 'point_vs_cluster.csv')\n",
    "if exists(filepath): \n",
    "    point_vs_cluster = pd.read_csv(filepath).drop([\"Unnamed: 0\"], axis=1)     \n",
    "    point_vs_cluster = point_vs_cluster.set_index(['point_index', 'cluster_label']) \n",
    "else:\n",
    "    point_vs_cluster = cluster_analysis.make_point_vs_cluster(ff_dataframe_sifted_visible, max_ff_distance_from_monkey = 400, max_cluster_distance = 50, max_time_past = 0, \n",
    "                            print_progress = True, data_folder_name = None)\n",
    "    point_vs_cluster['time'] = monkey_information.loc[point_vs_cluster['point_index'], 'time'].values\n",
    "    point_vs_cluster.to_csv(filepath)\n",
    "    point_vs_cluster = point_vs_cluster.set_index(['point_index', 'cluster_label'])"
   ]
  },
  {
   "cell_type": "markdown",
   "metadata": {},
   "source": [
    "## Plot"
   ]
  },
  {
   "cell_type": "code",
   "execution_count": null,
   "metadata": {},
   "outputs": [],
   "source": [
    "\n",
    "plt.rcParams['figure.figsize'] = [10, 10]                     \n",
    "max_plot_to_make = 3\n",
    "num_trials = 1\n",
    "mean_interval_between_plots = 0.3\n",
    "prev_plot_time = -99\n",
    "plot_counter = 0\n",
    " \n",
    " # use trials after 330\n",
    "point_vs_cluster_subset = point_vs_cluster[point_vs_cluster['target_index'] >= 330]   \n",
    "\n",
    "#print(\"Note: only showing the ff that monkey has passed by closely\")  \n",
    "# when checking the code later, I don't see how the sentence above was implemented. Maybe I need to run the code to see what happened\n",
    "\n",
    "# iterate through rows in point_vs_cluster\n",
    "for (point_index, cluster_label), row in point_vs_cluster_subset.iterrows():\n",
    "\n",
    "    # category_item.plot_trajectories(trials=[row.target_index.astype('int')])\n",
    "    # break\n",
    "\n",
    "    # also make sure that two plots are not too close to each other in time\n",
    "    if row.time > prev_plot_time + mean_interval_between_plots:\n",
    "        prev_plot_time = row.time\n",
    "        ff_indices = point_vs_cluster[point_vs_cluster.index == (point_index, cluster_label)].ff_index.to_numpy()\n",
    "        plotting_kwargs_temp = plotting_kwargs.copy()\n",
    "        plotting_kwargs_temp['indices_of_ff_to_mark_2nd_kind'] = ff_indices\n",
    "        plotting_kwargs_temp['point_indices_to_be_marked_2nd_kind'] = point_index\n",
    "\n",
    "        \n",
    "        trial = row.target_index.astype('int')\n",
    "        duration = [data_item.ff_caught_T_new[trial-num_trials], max(data_item.ff_caught_T_new[trial], row.time+4)]\n",
    "\n",
    "        returned_info = plot_trials.PlotTrials(\n",
    "                    duration, \n",
    "                    *data_item.PlotTrials_args,\n",
    "                    **plotting_kwargs_temp,\n",
    "                    null_agent_starting_time = row.time,\n",
    "                    currentTrial = trial,\n",
    "                    num_trials = num_trials,    \n",
    "                    #null_arc_info_for_plotting              \n",
    "                    )\n",
    "        plt.show()\n",
    "        \n",
    "\n",
    "        plot_counter += 1\n",
    "        if plot_counter >= max_plot_to_make:\n",
    "            break"
   ]
  },
  {
   "cell_type": "markdown",
   "metadata": {},
   "source": [
    "##  Plot with eye positions"
   ]
  },
  {
   "cell_type": "code",
   "execution_count": null,
   "metadata": {},
   "outputs": [],
   "source": [
    "plt.rcParams['figure.figsize'] = [10, 10]                     \n",
    "max_plot_to_make = 2\n",
    "num_trials = 1\n",
    "mean_interval_between_plots = 0.3\n",
    "prev_plot_time = -99\n",
    "plot_counter = 0\n",
    " \n",
    " # use trials after 330 \n",
    "point_vs_cluster_subset = point_vs_cluster[point_vs_cluster['target_index'] >= 330]   \n",
    "\n",
    "print(\"Note: only showing the ff that monkey has passed by closely\")   \n",
    "# when checking the code later, I don't see how the sentence above was implemented. Maybe I need to run the code to see what happened\n",
    "\n",
    "# iterate through rows in point_vs_cluster\n",
    "for (point_index, cluster_label), row in point_vs_cluster_subset.iterrows():\n",
    "\n",
    "    # category_item.plot_trajectories(trials=[row.target_index.astype('int')])\n",
    "    # break\n",
    "    if row.time > prev_plot_time + mean_interval_between_plots:\n",
    "        prev_plot_time = row.time\n",
    "        ff_indices = point_vs_cluster[point_vs_cluster.index == (point_index, cluster_label)].ff_index.to_numpy()\n",
    "        plotting_kwargs_temp = plotting_kwargs.copy()\n",
    "        plotting_kwargs_temp['indices_of_ff_to_mark_2nd_kind'] = ff_indices\n",
    "        plotting_kwargs_temp['point_indices_to_be_marked_2nd_kind'] = point_index\n",
    "        plotting_kwargs_temp['show_eye_positions'] = True\n",
    "        plotting_kwargs_temp['show_connect_path_eye_positions'] = True\n",
    "        \n",
    "        \n",
    "        \n",
    "        trial = row.target_index.astype('int')\n",
    "        duration = [data_item.ff_caught_T_new[trial-num_trials], max(data_item.ff_caught_T_new[trial], row.time+4)]\n",
    "\n",
    "        returned_info = plot_trials.PlotTrials(\n",
    "                    duration, \n",
    "                    *data_item.PlotTrials_args,\n",
    "                    **plotting_kwargs_temp,\n",
    "                    null_agent_starting_time = row.time,\n",
    "                    currentTrial = trial,\n",
    "                    num_trials = num_trials,                   \n",
    "                    )\n",
    "        plt.show()\n",
    "        \n",
    "\n",
    "        plot_counter += 1\n",
    "        if plot_counter >= max_plot_to_make:\n",
    "            break"
   ]
  },
  {
   "cell_type": "markdown",
   "metadata": {},
   "source": [
    "# Debug"
   ]
  },
  {
   "cell_type": "code",
   "execution_count": null,
   "metadata": {},
   "outputs": [],
   "source": [
    "#!pip install -Uqq ipdb\n",
    "import ipdb\n",
    "%pdb on"
   ]
  }
 ],
 "metadata": {
  "colab": {
   "provenance": [
    {
     "file_id": "1G3e4Qx3gpEEDPI9pKYXBK_bxXCmF4ZmN",
     "timestamp": 1681009405002
    }
   ],
   "toc_visible": true
  },
  "gpuClass": "standard",
  "kernelspec": {
   "display_name": "multiff_clean",
   "language": "python",
   "name": "python3"
  },
  "language_info": {
   "codemirror_mode": {
    "name": "ipython",
    "version": 3
   },
   "file_extension": ".py",
   "mimetype": "text/x-python",
   "name": "python",
   "nbconvert_exporter": "python",
   "pygments_lexer": "ipython3",
   "version": "3.11.11"
  },
  "toc": {
   "base_numbering": 1,
   "nav_menu": {},
   "number_sections": true,
   "sideBar": true,
   "skip_h1_title": false,
   "title_cell": "Table of Contents",
   "title_sidebar": "Contents",
   "toc_cell": true,
   "toc_position": {},
   "toc_section_display": true,
   "toc_window_display": true
  }
 },
 "nbformat": 4,
 "nbformat_minor": 0
}
