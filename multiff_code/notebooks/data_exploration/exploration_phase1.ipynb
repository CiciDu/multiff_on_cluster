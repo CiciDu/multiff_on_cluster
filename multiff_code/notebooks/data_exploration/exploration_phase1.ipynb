{
 "cells": [
  {
   "attachments": {},
   "cell_type": "markdown",
   "metadata": {
    "id": "D7ubA2G0ql0K"
   },
   "source": [
    "# Import packages"
   ]
  },
  {
   "cell_type": "code",
   "execution_count": 1,
   "metadata": {
    "colab": {
     "base_uri": "https://localhost:8080/"
    },
    "executionInfo": {
     "elapsed": 22177,
     "status": "ok",
     "timestamp": 1684812418814,
     "user": {
      "displayName": "Cici Du",
      "userId": "17701548280142155870"
     },
     "user_tz": -480
    },
    "id": "3klBkPC-Q4rw",
    "outputId": "74d8e70e-7cde-4252-e902-f172b4023294"
   },
   "outputs": [
    {
     "name": "stdout",
     "output_type": "stream",
     "text": [
      "Set up logging configuration.\n"
     ]
    },
    {
     "name": "stderr",
     "output_type": "stream",
     "text": [
      "/opt/miniconda3/envs/multiff_clean/lib/python3.11/site-packages/requests/__init__.py:86: RequestsDependencyWarning: Unable to find acceptable character detection dependency (chardet or charset_normalizer).\n",
      "  warnings.warn(\n"
     ]
    }
   ],
   "source": [
    "%load_ext autoreload\n",
    "%autoreload 2\n",
    "\n",
    "from pathlib import Path\n",
    "import os, sys\n",
    "for p in [Path.cwd()] + list(Path.cwd().parents):\n",
    "    if p.name == 'Multifirefly-Project':\n",
    "        os.chdir(p)\n",
    "        sys.path.insert(0, str(p / 'multiff_analysis/multiff_code/methods'))\n",
    "        break\n",
    "\n",
    "import sys\n",
    "\n",
    "\n",
    "from data_wrangling import general_utils, specific_utils, process_monkey_information, base_processing_class, retrieve_raw_data, further_processing_class\n",
    "from pattern_discovery import pattern_by_trials, pattern_by_points, make_ff_dataframe, ff_dataframe_utils, pattern_by_trials, pattern_by_points, cluster_analysis, organize_patterns_and_features, category_class\n",
    "from decision_making_analysis.cluster_replacement import cluster_replacement_utils, plot_cluster_replacement\n",
    "from decision_making_analysis.decision_making import decision_making_utils, plot_decision_making, intended_targets_classes\n",
    "from decision_making_analysis.GUAT import GUAT_helper_class, GUAT_collect_info_class, GUAT_combine_info_class, add_features_GUAT_and_TAFT\n",
    "from decision_making_analysis import free_selection, replacement, trajectory_info\n",
    "from visualization.matplotlib_tools import plot_trials, plot_polar, additional_plots, plot_behaviors_utils, plot_statistics, monkey_heading_utils\n",
    "from visualization.animation import animation_func, animation_utils, animation_class\n",
    "from machine_learning.ml_methods import regression_utils, classification_utils, prep_ml_data_utils, hyperparam_tuning_class\n",
    "from reinforcement_learning.base_classes import env_utils, base_env, more_envs, rl_base_class, rl_base_utils\n",
    "from reinforcement_learning.agents.rnn import gru_utils, lstm_utils\n",
    "from reinforcement_learning.agents.feedforward import interpret_neural_network, sb3_class, sb3_utils\n",
    "from null_behaviors import show_null_trajectory, find_best_arc, curvature_utils\n",
    "from decision_making_analysis.decision_making import decision_making_class, decision_making_utils, intended_targets_classes\n",
    "\n",
    "import os, sys\n",
    "import numpy as np\n",
    "import matplotlib\n",
    "from matplotlib import rc, cm\n",
    "import matplotlib.pyplot as plt\n",
    "import torch.nn as nn\n",
    "from os.path import exists\n",
    "import pandas as pd\n",
    "from IPython.display import HTML\n",
    "import matplotlib.ticker as ticker\n",
    "from matplotlib import animation\n",
    "from functools import partial\n",
    "from math import pi\n",
    "from os.path import exists\n",
    "import seaborn as sns\n",
    "import math\n",
    "import copy\n",
    "import matplotlib.pyplot as plt\n",
    "import pandas as pd\n",
    "import torch\n",
    "import torch.nn as nn\n",
    "import torch.optim as optim\n",
    "import tqdm\n",
    "from scipy import stats\n",
    "from IPython.display import HTML\n",
    "from matplotlib import rc\n",
    "from sklearn.model_selection import train_test_split\n",
    "from sklearn.preprocessing import OneHotEncoder\n",
    "from sklearn.datasets import make_multilabel_classification\n",
    "from sklearn.model_selection import train_test_split\n",
    "from sklearn.multioutput import MultiOutputClassifier\n",
    "from sklearn.neighbors import KNeighborsClassifier\n",
    "from sklearn.metrics import accuracy_score, hamming_loss, multilabel_confusion_matrix, fbeta_score, precision_score, recall_score\n",
    "from sklearn.ensemble import VotingClassifier\n",
    "from sklearn.neural_network import MLPClassifier\n",
    "from math import pi\n",
    "from scipy.ndimage import gaussian_filter1d\n",
    "from importlib import reload\n",
    "\n",
    "plt.rcParams[\"animation.html\"] = \"html5\"\n",
    "os.environ['KMP_DUPLICATE_LIB_OK']='True'\n",
    "rc('animation', html='jshtml')\n",
    "matplotlib.rcParams.update(matplotlib.rcParamsDefault)\n",
    "matplotlib.rcParams['animation.embed_limit'] = 2**128\n",
    "pd.set_option('display.float_format', lambda x: '%.5f' % x)\n",
    "np.set_printoptions(suppress=True)\n",
    "pd.options.display.max_rows = 101\n",
    "\n"
   ]
  },
  {
   "attachments": {},
   "cell_type": "markdown",
   "metadata": {
    "id": "EC7STQ6VCFKw"
   },
   "source": [
    "# Basic data"
   ]
  },
  {
   "attachments": {},
   "cell_type": "markdown",
   "metadata": {
    "id": "XVnyzV00Yk1g"
   },
   "source": [
    "## Plotting kwargs"
   ]
  },
  {
   "cell_type": "code",
   "execution_count": 2,
   "metadata": {
    "colab": {
     "base_uri": "https://localhost:8080/"
    },
    "executionInfo": {
     "elapsed": 16,
     "status": "ok",
     "timestamp": 1684812418814,
     "user": {
      "displayName": "Cici Du",
      "userId": "17701548280142155870"
     },
     "user_tz": -480
    },
    "id": "5G05yr50cdoy",
    "outputId": "5c875efc-bae4-43c8-bb87-537f80d3a740"
   },
   "outputs": [
    {
     "name": "stdout",
     "output_type": "stream",
     "text": [
      "player is monkey\n"
     ]
    }
   ],
   "source": [
    "trial_total_num = 2\n",
    "PLAYER = \"monkey\"\n",
    "\n",
    "classic_plot_kwargs = {'player': PLAYER,\n",
    "                       'show_stops': True,\n",
    "                       'show_believed_target_positions': True,\n",
    "                       'show_reward_boundary': True,\n",
    "                       'show_scale_bar': True,\n",
    "                       'show_eye_positions': True,\n",
    "                       'show_eye_positions_on_the_right': True,\n",
    "                       'show_connect_path_eye_positions': True,\n",
    "                       #=== below is different from animation_plot_kwargs\n",
    "                       'hitting_arena_edge_ok': False,\n",
    "                       'trial_too_short_ok': False}\n",
    "\n",
    "combined_plot_kwargs = {'player': PLAYER,\n",
    "                        'combined_plot': True,\n",
    "                        'show_alive_fireflies': False,\n",
    "                        'show_title': False,\n",
    "                        'show_start': False}\n",
    "\n",
    "plot_chunks_kwargs = {'player': PLAYER,\n",
    "                      'show_stops': True,\n",
    "                      'show_believed_target_positions': True,\n",
    "                      'show_reward_boundary': True,\n",
    "                      'show_scale_bar': True,\n",
    "                      'hitting_arena_edge_ok': True,\n",
    "                      'trial_too_short_ok': True,\n",
    "                      'show_connect_path_ff': True,\n",
    "                      'trail_color_var': 'abs_ddw',\n",
    "                      'show_colorbar': True}\n",
    "\n",
    "\n",
    "plot_polar_kwargs = {'rmax': 400,\n",
    "                    'show_visible_ff': True,\n",
    "                    'hitting_arena_edge_ok': True,\n",
    "                    'return_axes': True,\n",
    "                    'colors_show_overall_time': True,\n",
    "                    'show_ff_in_memory': True,\n",
    "                    'show_target_at_being_caught': True\n",
    "}\n",
    "\n",
    "print(\"player is\", PLAYER)\n",
    "\n",
    "animation_plot_kwargs = classic_plot_kwargs.copy()\n",
    "animation_plot_kwargs['as_part_of_animation'] = True\n",
    "animation_plot_kwargs['show_eye_positions_on_the_right'] = False   \n",
    "animation_plot_kwargs['hitting_arena_edge_ok'] = True\n",
    "animation_plot_kwargs['trial_too_short_ok'] = True\n",
    "animation_plot_kwargs['images_dir'] = None"
   ]
  },
  {
   "attachments": {},
   "cell_type": "markdown",
   "metadata": {
    "id": "18RHPEyDX0_9"
   },
   "source": [
    "## Retrieve monkey data"
   ]
  },
  {
   "cell_type": "code",
   "execution_count": 3,
   "metadata": {
    "colab": {
     "base_uri": "https://localhost:8080/"
    },
    "executionInfo": {
     "elapsed": 66472,
     "status": "ok",
     "timestamp": 1684812485274,
     "user": {
      "displayName": "Cici Du",
      "userId": "17701548280142155870"
     },
     "user_tz": -480
    },
    "id": "RfG8_2JFX253",
    "outputId": "c6b2dab5-0276-46c1-c748-113661c8b0d9"
   },
   "outputs": [
    {
     "name": "stdout",
     "output_type": "stream",
     "text": [
      "Retrieved monkey_information\n",
      "The number of points that were removed due to delta_position exceeding the ceiling is 0\n",
      "Warning: ff_closest_stop_time_sorted has 83 points where monkey is outside of 1338 points that are outside of the reward boundary, which is 6.20% of the points. They are replaced with the original ff_caught_T in ff_caught_T_new.\n",
      "Warning: ff_caught_T_new is not monotonically increasing. Will make it monotonically increasing.\n",
      "Note: ff_caught_T_sorted is replaced with ff_caught_T_new\n",
      "Retrieved ff_dataframe from all_monkey_data/processed_data/monkey_Bruno/data_0330/ff_dataframe.h5\n",
      "Retrieved target_clust_df_short\n",
      "32 out of 1257 target clusters were not last seen within 10 seconds.They are filtered out when finding the trials that are \"visible before last one\".\n",
      "24 out of 1225 target were captured within 0.1 seconds from the previous capture. They are filtered out when finding the trials that are \"visible before last one\" because the monkey might have just captured two ff together.\n",
      "75 out of 1201 target clusters were seen at least 0.1 seconds before the previous capture, which is 6.24%\n",
      "before calling deal_with_duplicated_stop_point_index, len(GUAT_w_ff_df) 142\n",
      "after calling deal_with_duplicated_stop_point_index, len(GUAT_w_ff_df) 142\n"
     ]
    }
   ],
   "source": [
    "PLAYER = \"monkey\"\n",
    "raw_data_folder_path = \"all_monkey_data/raw_monkey_data/monkey_Bruno/data_0330\"\n",
    "data_item = animation_class.AnimationClass(raw_data_folder_path=raw_data_folder_path)\n",
    "data_item.retrieve_or_make_monkey_data()\n",
    "data_item.make_or_retrieve_ff_dataframe(exists_ok=True)\n",
    "data_item.find_patterns()\n",
    "data_item.make_PlotTrials_args()\n",
    "data_item.make_PlotTrials_kargs(classic_plot_kwargs, combined_plot_kwargs, animation_plot_kwargs)\n",
    "\n",
    "monkey_information = data_item.monkey_information\n",
    "ff_dataframe = data_item.ff_dataframe\n",
    "\n",
    "ff_life_sorted = data_item.ff_life_sorted\n",
    "ff_real_position_sorted = data_item.ff_real_position_sorted\n",
    "ff_believed_position_sorted = data_item.ff_believed_position_sorted\n",
    "cluster_around_target_indices = data_item.cluster_around_target_indices\n",
    "ff_caught_T_new = data_item.ff_caught_T_new\n",
    "caught_ff_num = len(ff_caught_T_new)\n",
    "ff_flash_sorted = data_item.ff_flash_sorted\n",
    "ff_flash_end_sorted = data_item.ff_flash_end_sorted\n",
    "max_point_index = data_item.max_point_index\n",
    "min_point_index = data_item.min_point_index\n",
    "\n",
    "\n",
    "\n",
    "\n",
    "\n",
    "\n",
    "# data_item.make_or_retrieve_all_trial_patterns(exists_ok=True)\n",
    "# data_item.make_or_retrieve_pattern_frequencies(exists_ok=True)\n",
    "# data_item.make_or_retrieve_all_trial_features(exists_ok=True)\n",
    "# data_item.make_or_retrieve_feature_statistics(exists_ok=True)\n",
    "# data_item.make_info_of_monkey()\n",
    "# data_item.make_or_retrieve_target_closest()\n",
    "# data_item.make_or_retrieve_target_angle_smallest()\n",
    "\n",
    "\n",
    "\n",
    "# target_closest = data_item.target_closest\n",
    "# target_angle_smallest = data_item.target_angle_smallest\n",
    "# all_trial_patterns = data_item.all_trial_patterns\n",
    "# all_trial_features = data_item.all_trial_features\n",
    "# pattern_frequencies = data_item.pattern_frequencies\n",
    "# feature_statistics = data_item.feature_statistics\n",
    "\n",
    "\n",
    "\n",
    "\n",
    "# info_of_monkey = data_item.info_of_monkey\n",
    "# max_point_index = data_item.max_point_index\n",
    "# min_point_index = data_item.min_point_index\n",
    "\n",
    "# data_item.make_PlotTrials_args()\n",
    "# data_item.make_PlotTrials_kargs(classic_plot_kwargs, combined_plot_kwargs, animation_plot_kwargs)\n",
    "\n"
   ]
  },
  {
   "attachments": {},
   "cell_type": "markdown",
   "metadata": {
    "id": "hIoj2AOqKEGA"
   },
   "source": [
    "## Plotting args"
   ]
  },
  {
   "cell_type": "code",
   "execution_count": null,
   "metadata": {
    "colab": {
     "base_uri": "https://localhost:8080/"
    },
    "executionInfo": {
     "elapsed": 64,
     "status": "ok",
     "timestamp": 1684812485274,
     "user": {
      "displayName": "Cici Du",
      "userId": "17701548280142155870"
     },
     "user_tz": -480
    },
    "id": "LKsbti06KDVT",
    "outputId": "9ecc2ec3-d4d7-4f71-d35e-7886fec1af9c"
   },
   "outputs": [],
   "source": [
    "PlotTrials_args = (monkey_information, ff_dataframe, ff_life_sorted, ff_real_position_sorted, ff_believed_position_sorted, cluster_around_target_indices, ff_caught_T_new)\n",
    "\n",
    "\n",
    "plot_polar_args = (monkey_information,\n",
    "                    ff_dataframe, \n",
    "                    ff_life_sorted,\n",
    "                    ff_real_position_sorted,\n",
    "                    ff_caught_T_new,\n",
    "                    ff_flash_sorted,)"
   ]
  },
  {
   "cell_type": "code",
   "execution_count": null,
   "metadata": {
    "executionInfo": {
     "elapsed": 45,
     "status": "aborted",
     "timestamp": 1684812485280,
     "user": {
      "displayName": "Cici Du",
      "userId": "17701548280142155870"
     },
     "user_tz": -480
    },
    "id": "ax-3qkEWE_ZD"
   },
   "outputs": [],
   "source": [
    "# chunk_numbers = range(20, 30)\n",
    "# additional_kwargs = {'show_connect_path_ff_memory': True,\n",
    "#                      'show_connect_path_ff_except_targets': True,\n",
    "#                      'show_path_when_target_visible': True,\n",
    "#                      'show_connect_path_eye_positions': False}\n",
    "# data_item.make_animation_of_chunks(points_w_more_than_2_ff, monkey_information, chunk_numbers = chunk_numbers, sampling_frame_ratio = 3, additional_kwargs=additional_kwargs, exists_ok=True)"
   ]
  },
  {
   "attachments": {},
   "cell_type": "markdown",
   "metadata": {
    "id": "M0XrFBWUrnWm"
   },
   "source": [
    "# Retrieve data"
   ]
  },
  {
   "attachments": {},
   "cell_type": "markdown",
   "metadata": {
    "id": "kIqwLZnR_c0F"
   },
   "source": [
    "## Basic parameters"
   ]
  },
  {
   "cell_type": "code",
   "execution_count": null,
   "metadata": {
    "executionInfo": {
     "elapsed": 45,
     "status": "aborted",
     "timestamp": 1684812485280,
     "user": {
      "displayName": "Cici Du",
      "userId": "17701548280142155870"
     },
     "user_tz": -480
    },
    "id": "WcWaoaz0_feq"
   },
   "outputs": [],
   "source": [
    "NEW_DATASET = False\n",
    "MONKEY_DATA = True\n",
    "NO_PLOT_NEEDED = True\n",
    "raw_data_folder_path = \"all_monkey_data/raw_monkey_data/monkey_Bruno/data_0330\"\n",
    "data_folder_name = \"all_monkey_data/raw_monkey_data/monkey_Bruno/data_0330/processed_data\"\n",
    "\n",
    "\n",
    "\n",
    "#data_num = 19\n",
    "\n",
    "\n",
    "# # for agent\n",
    "# PLAYER = \"agent\"\n",
    "# NEW_DATASET = True\n",
    "# MONKEY_DATA = False\n",
    "# NO_PLOT_NEEDED = True\n",
    "# data_folder_name = \"RL_models/LSTM_July_29\"\n",
    "# data_num = 721\n",
    "# trial_total_num = 2"
   ]
  },
  {
   "attachments": {},
   "cell_type": "markdown",
   "metadata": {
    "id": "f3cSpitZaKhw"
   },
   "source": [
    "## Which players to use?"
   ]
  },
  {
   "cell_type": "code",
   "execution_count": null,
   "metadata": {
    "executionInfo": {
     "elapsed": 44,
     "status": "aborted",
     "timestamp": 1684812485280,
     "user": {
      "displayName": "Cici Du",
      "userId": "17701548280142155870"
     },
     "user_tz": -480
    },
    "id": "tF1J3JfIaMvr"
   },
   "outputs": [],
   "source": [
    "use_LSTM = False\n",
    "use_SB3 = False\n",
    "use_monkey = True"
   ]
  },
  {
   "attachments": {},
   "cell_type": "markdown",
   "metadata": {
    "id": "tQNzmLJhZj_e"
   },
   "source": [
    "## SB3 agent data"
   ]
  },
  {
   "cell_type": "code",
   "execution_count": null,
   "metadata": {
    "executionInfo": {
     "elapsed": 44,
     "status": "aborted",
     "timestamp": 1684812485280,
     "user": {
      "displayName": "Cici Du",
      "userId": "17701548280142155870"
     },
     "user_tz": -480
    },
    "id": "N7rH8e33_vkz"
   },
   "outputs": [],
   "source": [
    "model_folder_name = \"RL_models/SB3_stored_models/all_agents/Aug_10_3\"\n",
    "retrieve_dir = \"RL_models/SB3_stored_models/all_agents/Aug_10_3\""
   ]
  },
  {
   "cell_type": "code",
   "execution_count": null,
   "metadata": {},
   "outputs": [],
   "source": [
    "# !pip install wheel==0.38.4\n",
    "# !pip3 install setuptools==65.5.0\n",
    "# !pip install stable_baselines3"
   ]
  },
  {
   "cell_type": "code",
   "execution_count": null,
   "metadata": {
    "executionInfo": {
     "elapsed": 45,
     "status": "aborted",
     "timestamp": 1684812485281,
     "user": {
      "displayName": "Cici Du",
      "userId": "17701548280142155870"
     },
     "user_tz": -480
    },
    "id": "i17gp6ZifXZ6"
   },
   "outputs": [],
   "source": [
    "from stable_baselines3 import SAC\n",
    "\n",
    "env_kwargs = {\"v_noise_std\": 0.2, \n",
    "              \"w_noise_std\": 0.2,\n",
    "              \"ffr_noise_scale\": 4, \n",
    "              \"num_obs_ff\": 2,\n",
    "              \"full_memory\": 3}\n",
    "\n",
    "if use_SB3:\n",
    "\n",
    "    PLAYER = \"agent\"\n",
    "\n",
    "    model_folder_name = \"RL_models/SB3_stored_models/all_agents/A0.2_O4_ff2_memory3/\"\n",
    "    data_folder_name = model_folder_name\n",
    "    os.makedirs(model_folder_name, exist_ok=True)\n",
    "\n",
    "\n",
    "    env = env.CollectInformation(**env_kwargs)\n",
    "    env.reset()\n",
    "\n",
    "    # For direct training\n",
    "    sac_model = SAC(\"MlpPolicy\", \n",
    "                env,\n",
    "                gamma=0.995,\n",
    "                learning_rate=0.0015,\n",
    "                batch_size=1024,\n",
    "                target_update_interval=50,\n",
    "                buffer_size=1000000,\n",
    "                learning_starts=10000,\n",
    "                train_freq=10,\n",
    "                ent_coef='auto',\n",
    "                policy_kwargs=dict(activation_fn=nn.Tanh, net_arch=[128, 128])\n",
    "                    )\n",
    "\n",
    "\n",
    "    path = os.path.join(model_folder_name, 'best_model.zip')\n",
    "    sac_model = sac_model.load(path, env=env)\n",
    "    \n",
    "    monkey_information, ff_flash_sorted, ff_caught_T_new, ff_believed_position_sorted, ff_real_position_sorted, \\\n",
    "        ff_life_sorted, ff_flash_end_sorted, caught_ff_num, total_ff_num, obs_ff_indices_in_ff_dataframe, sorted_indices_all, ff_in_obs_df \\\n",
    "        =collect_agent_data.collect_agent_data_func(env, sac_model, n_steps = 15000)\n",
    "\n",
    "    ff_dataframe_args = (monkey_information, ff_caught_T_new, ff_flash_sorted,  ff_real_position_sorted, ff_life_sorted)\n",
    "    ff_dataframe_kargs = {\"max_distance\": 400}\n",
    "    ff_dataframe = make_ff_dataframe.make_ff_dataframe_func(*ff_dataframe_args, **ff_dataframe_kargs, player = \"agent\", \n",
    "                                     obs_ff_indices_in_ff_dataframe = obs_ff_indices_in_ff_dataframe, ff_in_obs_df = ff_in_obs_df)\n",
    "    min_point_index, max_point_index = np.min(np.array(ff_dataframe['point_index'])), np.max(np.array(ff_dataframe['point_index']))\n",
    "\n",
    "    filepath = data_folder_name + '/patterns_and_features/all_trial_features.csv'\n",
    "    if (PLAYER == \"monkey\") & (exists(filepath)):\n",
    "        all_trial_features = pd.read_csv(filepath)\n",
    "    else:\n",
    "        all_trial_features = organize_patterns_and_features.make_all_trial_features(ff_dataframe, monkey_information, ff_caught_T_new, cluster_around_target_indices, ff_real_position_sorted, ff_believed_position_sorted,  data_folder_name = data_folder_name)\n",
    "\n"
   ]
  },
  {
   "attachments": {},
   "cell_type": "markdown",
   "metadata": {
    "id": "XC2iRPacpKsV"
   },
   "source": [
    "## LSTM agent data"
   ]
  },
  {
   "cell_type": "code",
   "execution_count": null,
   "metadata": {
    "executionInfo": {
     "elapsed": 45,
     "status": "aborted",
     "timestamp": 1684812485281,
     "user": {
      "displayName": "Cici Du",
      "userId": "17701548280142155870"
     },
     "user_tz": -480
    },
    "id": "bN4bep6epSFc"
   },
   "outputs": [],
   "source": [
    "if use_LSTM:\n",
    "      \n",
    "    from LSTM_agent_params import *\n",
    "    PLAYER = \"agent\"\n",
    "\n",
    "    model_folder_name = \"RL_models/LSTM_stored_models/all_agents/LSTM_Aug_1_24\"\n",
    "    data_folder_name = model_folder_name\n",
    "    os.makedirs(model_folder_name, exist_ok=True)\n",
    "\n",
    "\n",
    "    replay_buffer_size=100\n",
    "    replay_buffer = lstm_utils.ReplayBufferLSTM2(replay_buffer_size)\n",
    "    sac_model=lstm_utils.LSTM_SAC_Trainer(replay_buffer, state_space, action_space, hidden_dim=hidden_dim, action_range=action_range,\\\n",
    "                          gamma = gamma, soft_q_lr = soft_q_lr, policy_lr = policy_lr, alpha_lr = alpha_lr, \\\n",
    "                          batch_size = batch_size, update_itr = update_itr, reward_scale = reward_scale, \\\n",
    "                          target_entropy = target_entropy, soft_tau = soft_tau, train_freq = train_freq, device = device)\n",
    "\n",
    "\n",
    "    # Load agent\n",
    "    sac_model.load_model(model_folder_name)\n",
    "\n",
    "    env = env.CollectInformationLSTM()\n",
    "    env.flash_on_interval = 0.3\n",
    "    env.distance2center_cost = 0\n",
    "    sac_model.load_model(model_folder_name)\n",
    "\n",
    "\n",
    "\n",
    "    monkey_information, ff_flash_sorted, ff_caught_T_new, ff_believed_position_sorted, \\\n",
    "              ff_real_position_sorted, ff_life_sorted, ff_flash_end_sorted, caught_ff_num, total_ff_num, \\\n",
    "              obs_ff_indices_in_ff_dataframe, sorted_indices_all \\\n",
    "              = collect_agent_data.collect_agent_data_func(env, sac_model, n_steps = 5000, LSTM = True, hidden_dim= hidden_dim, device = device, deterministic = False)\n",
    "\n",
    "    ff_dataframe_args = (monkey_information, ff_caught_T_new, ff_flash_sorted,  ff_real_position_sorted, ff_life_sorted)\n",
    "    ff_dataframe_kargs = {\"max_distance\": 400}\n",
    "    ff_dataframe = make_ff_dataframe.make_ff_dataframe_func(*ff_dataframe_args, **ff_dataframe_kargs, player = \"agent\",  \\\n",
    "                                      obs_ff_indices_in_ff_dataframe = obs_ff_indices_in_ff_dataframe, ff_in_obs_df = ff_in_obs_df)\n",
    "    min_point_index, max_point_index = np.min(np.array(ff_dataframe['point_index'])), np.max(np.array(ff_dataframe['point_index']))\n",
    "\n",
    "    filepath = data_folder_name + '/patterns_and_features/all_trial_features.csv'\n",
    "    if (PLAYER == \"monkey\") & (exists(filepath)):\n",
    "        all_trial_features = pd.read_csv(filepath)\n",
    "    else:\n",
    "        all_trial_features = organize_patterns_and_features.make_all_trial_features(ff_dataframe, monkey_information, ff_caught_T_new, cluster_around_target_indices, ff_real_position_sorted, ff_believed_position_sorted,  data_folder_name = data_folder_name)\n",
    "\n"
   ]
  },
  {
   "attachments": {},
   "cell_type": "markdown",
   "metadata": {
    "id": "vpfLmmTI8Xd4"
   },
   "source": [
    "## Monkey data"
   ]
  },
  {
   "cell_type": "code",
   "execution_count": null,
   "metadata": {
    "executionInfo": {
     "elapsed": 45,
     "status": "aborted",
     "timestamp": 1684812485281,
     "user": {
      "displayName": "Cici Du",
      "userId": "17701548280142155870"
     },
     "user_tz": -480
    },
    "id": "VMQkPcVb8Xd6"
   },
   "outputs": [],
   "source": [
    "if use_monkey:\n",
    "\n",
    "    PLAYER = \"monkey\"\n",
    "    raw_data_folder_path = \"all_monkey_data/raw_monkey_data/monkey_Bruno/data_0330\"\n",
    "    data_item = animation_class.AnimationClass(raw_data_folder_path=raw_data_folder_path)\n",
    "    data_item.retrieve_or_make_monkey_data(exists_ok=True)\n",
    "    data_item.make_or_retrieve_ff_dataframe(exists_ok=True)\n",
    "    data_item.find_patterns()\n",
    "    data_item.make_PlotTrials_args()\n",
    "    data_item.make_PlotTrials_kargs(classic_plot_kwargs, combined_plot_kwargs, animation_plot_kwargs)\n",
    "\n",
    "\n",
    "    monkey_information = data_item.monkey_information\n",
    "    ff_dataframe = data_item.ff_dataframe\n",
    "    min_point_index, max_point_index = np.min(np.array(ff_dataframe['point_index'])), np.max(np.array(ff_dataframe['point_index']))\n",
    "\n",
    "    caught_ff_num = len(ff_caught_T_new)\n",
    "    cluster_around_target_trials, _, cluster_around_target_indices, cluster_around_target_positions = pattern_by_trials.cluster_around_target_func(ff_dataframe, caught_ff_num, ff_caught_T_new, ff_real_position_sorted)\n",
    "\n",
    "\n",
    "    info_of_monkey = {\n",
    "            \"monkey_information\": monkey_information,\n",
    "            \"ff_dataframe\": ff_dataframe,\n",
    "            \"ff_caught_T_new\": ff_caught_T_new,\n",
    "            \"ff_real_position_sorted\": ff_real_position_sorted,\n",
    "            \"ff_believed_position_sorted\": ff_believed_position_sorted,\n",
    "            \"ff_life_sorted\": ff_life_sorted,\n",
    "            \"ff_flash_sorted\": ff_flash_sorted,\n",
    "            \"ff_flash_end_sorted\": ff_flash_end_sorted,\n",
    "            \"cluster_around_target_indices\": cluster_around_target_indices\n",
    "    }\n",
    "\n",
    "\n",
    "    filepath = data_folder_name + '/patterns_and_features/all_trial_features.csv'\n",
    "    if (PLAYER == \"monkey\") & (exists(filepath)):\n",
    "        all_trial_features = pd.read_csv(filepath)\n",
    "    else:\n",
    "        all_trial_features = organize_patterns_and_features.make_all_trial_features(ff_dataframe, monkey_information, ff_caught_T_new, cluster_around_target_indices, ff_real_position_sorted, ff_believed_position_sorted)"
   ]
  },
  {
   "attachments": {},
   "cell_type": "markdown",
   "metadata": {
    "id": "4GYdpLo5Q4rw"
   },
   "source": [
    "# Classic plots\n",
    "\n",
    "In VScode, for animation to work successfully, HTML(data_instance.anim.to_html5_video())\n",
    "has to be the last line of the code, and it can’t be within a for loop or if/else statement\n"
   ]
  },
  {
   "attachments": {},
   "cell_type": "markdown",
   "metadata": {
    "id": "t_z7U_MZQ4rx"
   },
   "source": [
    "## Visible before last one"
   ]
  },
  {
   "cell_type": "code",
   "execution_count": null,
   "metadata": {},
   "outputs": [],
   "source": [
    "trial_total_num = 2"
   ]
  },
  {
   "cell_type": "code",
   "execution_count": null,
   "metadata": {
    "executionInfo": {
     "elapsed": 44,
     "status": "aborted",
     "timestamp": 1684812485281,
     "user": {
      "displayName": "Cici Du",
      "userId": "17701548280142155870"
     },
     "user_tz": -480
    },
    "id": "g1SZEab7Q4rx"
   },
   "outputs": [],
   "source": [
    "\n",
    "num_trials = 1\n",
    "category = data_item.visible_before_last_one_trials\n",
    "category = category[category > num_trials]\n",
    "category_name = 'visible_before_last_one'\n",
    "\n",
    "\n",
    "if len(category) > 0:\n",
    "    for currentTrial in category[:trial_total_num]:\n",
    "        with general_utils.initiate_plot(7, 7, 100):\n",
    "            duration = [ff_caught_T_new[currentTrial-num_trials], ff_caught_T_new[currentTrial]]\n",
    "\n",
    "            plot_trials.PlotTrials(duration, \n",
    "                        *PlotTrials_args,\n",
    "                        **classic_plot_kwargs,\n",
    "                        currentTrial = currentTrial,\n",
    "                        num_trials = num_trials,                                  \n",
    "                        show_connect_path_ff_except_targets = True,\n",
    "                        show_path_when_target_visible = True,\n",
    "                        )\n",
    "\n",
    "            plt.show()  \n",
    "            \n",
    "\n",
    "\n",
    "temp_animation_plot_kwargs = animation_plot_kwargs.copy()\n",
    "#temp_animation_plot_kwargs['show_connect_path_ff_except_targets'] = True\n",
    "temp_animation_plot_kwargs['show_path_when_target_visible'] = True\n",
    "data_item.make_animation(currentTrial=currentTrial, num_trials=num_trials, animation_plot_kwargs=temp_animation_plot_kwargs, save_video=False, video_dir=None, file_name=None, dt=0.016)\n",
    "HTML(data_item.anim.to_html5_video())\n",
    "\n",
    "\n"
   ]
  },
  {
   "attachments": {},
   "cell_type": "markdown",
   "metadata": {
    "id": "WKTpRS_oQ4rx"
   },
   "source": [
    "## Disappear latest"
   ]
  },
  {
   "cell_type": "code",
   "execution_count": null,
   "metadata": {
    "executionInfo": {
     "elapsed": 44,
     "status": "aborted",
     "timestamp": 1684812485281,
     "user": {
      "displayName": "Cici Du",
      "userId": "17701548280142155870"
     },
     "user_tz": -480
    },
    "id": "O-raB3Q1Q4rx"
   },
   "outputs": [],
   "source": [
    "num_trials = 1\n",
    "category = data_item.disappear_latest_trials\n",
    "category = category[category > num_trials]\n",
    "category_name = 'disappear_latest'\n",
    "\n",
    "\n",
    "if len(category) > 0:\n",
    "  with general_utils.initiate_plot(7, 7, 100):\n",
    "    for currentTrial in category[:trial_total_num]:\n",
    "        duration = [ff_caught_T_new[currentTrial-num_trials], ff_caught_T_new[currentTrial]]\n",
    "\n",
    "        plot_trials.PlotTrials(duration, \n",
    "                   *PlotTrials_args,\n",
    "                   **classic_plot_kwargs,\n",
    "                   currentTrial = currentTrial,\n",
    "                   num_trials = num_trials,\n",
    "                   show_connect_path_ff = True,\n",
    "        )\n",
    "\n",
    "        # temp_animation_plot_kwargs = animation_plot_kwargs.copy()\n",
    "        # data_item.make_animation(currentTrial=currentTrial, num_trials=num_trials, animation_plot_kwargs=temp_animation_plot_kwargs, save_video=False, video_dir=None, file_name=None)\n",
    "        \n",
    "\n",
    "        plt.show()  \n",
    "        "
   ]
  },
  {
   "attachments": {},
   "cell_type": "markdown",
   "metadata": {
    "id": "i8_SvEy8Q4rw"
   },
   "source": [
    "## 2 in a row"
   ]
  },
  {
   "cell_type": "code",
   "execution_count": null,
   "metadata": {
    "executionInfo": {
     "elapsed": 44,
     "status": "aborted",
     "timestamp": 1684812485281,
     "user": {
      "displayName": "Cici Du",
      "userId": "17701548280142155870"
     },
     "user_tz": -480
    },
    "id": "3eak30-AQ4rw"
   },
   "outputs": [],
   "source": [
    "num_trials = 2 \n",
    "category = data_item.two_in_a_row\n",
    "category = category[category > num_trials]\n",
    "#category = two_in_a_row_simuly\n",
    "#category = two_in_a_row_non_simul\n",
    "#category = used_cluster  --> two_in_a_row_non_simul ^ on_before_last_one\n",
    "category_name = 'two_in_a_row'\n",
    "\n",
    "\n",
    "\n",
    "if len(category) > 0:\n",
    "  with general_utils.initiate_plot(7, 7, 100):\n",
    "    for currentTrial in category[:trial_total_num]:\n",
    "    #for currentTrial in [17, 45]:\n",
    "        duration = [ff_caught_T_new[currentTrial-num_trials], ff_caught_T_new[currentTrial]]\n",
    "        plot_trials.PlotTrials(duration, \n",
    "                   *PlotTrials_args,\n",
    "                   **classic_plot_kwargs,\n",
    "                   currentTrial = currentTrial,\n",
    "                   num_trials = num_trials,                   \n",
    "                   show_connect_path_ff_except_targets = True,\n",
    "                   show_path_when_target_visible = True,\n",
    "                   )\n",
    "        \n",
    "        temp_animation_plot_kwargs = animation_plot_kwargs.copy()   \n",
    "        #temp_animation_plot_kwargs['show_connect_path_ff_except_targets'] = True\n",
    "        temp_animation_plot_kwargs['show_path_when_target_visible'] = True     \n",
    "        data_item.make_animation(currentTrial=currentTrial, num_trials=num_trials, animation_plot_kwargs=temp_animation_plot_kwargs, save_video=False, video_dir=None, file_name=None)\n",
    "        #HTML(.to_html5_video())\n",
    "        plt.show()  \n",
    "        \n",
    "        data_item.anim"
   ]
  },
  {
   "attachments": {},
   "cell_type": "markdown",
   "metadata": {
    "id": "xB7Acvz5Q4rz"
   },
   "source": [
    "## Waste cluster around last target"
   ]
  },
  {
   "cell_type": "code",
   "execution_count": null,
   "metadata": {
    "executionInfo": {
     "elapsed": 45,
     "status": "aborted",
     "timestamp": 1684812485282,
     "user": {
      "displayName": "Cici Du",
      "userId": "17701548280142155870"
     },
     "user_tz": -480
    },
    "id": "UGSK0EG-Q4rz"
   },
   "outputs": [],
   "source": [
    "num_trials = 2\n",
    "category = data_item.waste_cluster_around_target_trials\n",
    "category = category[category > num_trials]\n",
    "category_name = 'waste_cluster_around_target'\n",
    "\n",
    "\n",
    "\n",
    "if len(category) > 0:\n",
    "  with general_utils.initiate_plot(7, 7, 100):\n",
    "    for currentTrial in category[:trial_total_num]:\n",
    "        duration = [ff_caught_T_new[currentTrial-num_trials], ff_caught_T_new[currentTrial]]\n",
    "        \n",
    "        plot_trials.PlotTrials(duration, \n",
    "                   *PlotTrials_args,\n",
    "                   **classic_plot_kwargs,\n",
    "                   currentTrial = currentTrial,\n",
    "                   num_trials = num_trials,\n",
    "                   show_connect_path_ff = True,\n",
    "                   trial_to_show_cluster_around_target = \"previous\",\n",
    "                   )\n",
    "\n",
    "        temp_animation_plot_kwargs = animation_plot_kwargs.copy()\n",
    "        temp_animation_plot_kwargs['trial_to_show_cluster_around_target'] = \"previous\"\n",
    "        data_item.make_animation(currentTrial=currentTrial, num_trials=num_trials, animation_plot_kwargs=temp_animation_plot_kwargs, save_video=False, video_dir=None, file_name=None)\n",
    "        \n",
    "\n",
    "        plt.show()  \n",
    "        "
   ]
  },
  {
   "attachments": {},
   "cell_type": "markdown",
   "metadata": {
    "id": "EG2-3zcpQ4rz"
   },
   "source": [
    "## Try a few times"
   ]
  },
  {
   "cell_type": "code",
   "execution_count": null,
   "metadata": {
    "executionInfo": {
     "elapsed": 45,
     "status": "aborted",
     "timestamp": 1684812485282,
     "user": {
      "displayName": "Cici Du",
      "userId": "17701548280142155870"
     },
     "user_tz": -480
    },
    "id": "TVmQR07yQ4rz"
   },
   "outputs": [],
   "source": [
    "category = data_item.try_a_few_times_trials\n",
    "category = category[category > num_trials]\n",
    "category_name = 'try_a_few_times'\n",
    "num_trials = 2\n",
    "\n",
    "\n",
    "if len(category) > 0:\n",
    "  with general_utils.initiate_plot(7, 7, 100):\n",
    "    for currentTrial in category[:trial_total_num+5]:\n",
    "        duration = [ff_caught_T_new[currentTrial-num_trials], ff_caught_T_new[currentTrial]]\n",
    "        plot_trials.PlotTrials(duration, \n",
    "                   *PlotTrials_args,\n",
    "                   **classic_plot_kwargs,\n",
    "                   currentTrial = currentTrial,\n",
    "                   num_trials = num_trials,\n",
    "                   show_connect_path_ff = True,                \n",
    "                   )\n",
    "\n",
    "        plt.show()  \n",
    "        \n",
    "        \n",
    "        temp_animation_plot_kwargs = animation_plot_kwargs.copy()\n",
    "        data_item.make_animation(currentTrial=currentTrial, num_trials=num_trials, animation_plot_kwargs=temp_animation_plot_kwargs, save_video=False, video_dir=None, file_name=None)\n",
    "        \n"
   ]
  },
  {
   "attachments": {},
   "cell_type": "markdown",
   "metadata": {
    "id": "FztXyZjiQ4rz"
   },
   "source": [
    "## Give up after trying"
   ]
  },
  {
   "cell_type": "code",
   "execution_count": null,
   "metadata": {
    "executionInfo": {
     "elapsed": 45,
     "status": "aborted",
     "timestamp": 1684812485282,
     "user": {
      "displayName": "Cici Du",
      "userId": "17701548280142155870"
     },
     "user_tz": -480
    },
    "id": "euPibkB_Q4rz"
   },
   "outputs": [],
   "source": [
    "category = data_item.give_up_after_trying_trials\n",
    "category = category[category > num_trials]\n",
    "category_name = 'give_up_after_trying'\n",
    "\n",
    "\n",
    "num_trials = 2\n",
    "\n",
    "\n",
    "if len(category) > 0:\n",
    "  with general_utils.initiate_plot(7, 7, 100):\n",
    "    for currentTrial in category[:trial_total_num]:\n",
    "        duration = [ff_caught_T_new[currentTrial-num_trials], ff_caught_T_new[currentTrial]]\n",
    "        plot_trials.PlotTrials(duration, \n",
    "                   *PlotTrials_args,\n",
    "                   **classic_plot_kwargs,\n",
    "                   currentTrial = currentTrial,\n",
    "                   num_trials = num_trials,\n",
    "                   show_connect_path_ff = True,\n",
    "                   )\n",
    "        \n",
    "\n",
    "        plt.show()  \n",
    "        \n",
    "\n",
    "        temp_animation_plot_kwargs = animation_plot_kwargs.copy()\n",
    "        data_item.make_animation(currentTrial=currentTrial, num_trials=num_trials, animation_plot_kwargs=temp_animation_plot_kwargs, save_video=False, video_dir=None, file_name=None)\n",
    "        "
   ]
  },
  {
   "attachments": {},
   "cell_type": "markdown",
   "metadata": {
    "id": "QZ3YrvXaQ4rz"
   },
   "source": [
    "## Ignore sudden flash"
   ]
  },
  {
   "cell_type": "code",
   "execution_count": null,
   "metadata": {
    "executionInfo": {
     "elapsed": 44,
     "status": "aborted",
     "timestamp": 1684812485282,
     "user": {
      "displayName": "Cici Du",
      "userId": "17701548280142155870"
     },
     "user_tz": -480
    },
    "id": "LLp7zNYJQ4rz"
   },
   "outputs": [],
   "source": [
    "category = data_item.ignore_sudden_flash_trials\n",
    "category = category[category > num_trials]\n",
    "category_name = 'ignore_sudden_flash'\n",
    "\n",
    "num_trials = 1\n",
    "\n",
    "ignored_ff_target_pairs_index_only = data_item.ignored_ff_target_pairs[['ff_index']]\n",
    "\n",
    "if len(category) > 0:\n",
    "  with general_utils.initiate_plot(7, 7, 100):\n",
    "    for currentTrial in category[:trial_total_num]:\n",
    "        duration = [ff_caught_T_new[currentTrial-num_trials], ff_caught_T_new[currentTrial]]\n",
    "\n",
    "        ignored_ff_indices = np.array(ignored_ff_target_pairs_index_only.loc[currentTrial]).reshape(-1).tolist()\n",
    "\n",
    "        plot_trials.PlotTrials(duration, \n",
    "                   *PlotTrials_args,\n",
    "                   **classic_plot_kwargs,\n",
    "                   currentTrial = currentTrial,\n",
    "                   num_trials = num_trials,                   \n",
    "                   show_connect_path_ff = True,\n",
    "                   indices_of_ff_to_mark = ignored_ff_indices,             \n",
    "                   )\n",
    "        \n",
    "\n",
    "        plt.show()  \n",
    "        \n",
    "\n",
    "\n",
    "        temp_animation_plot_kwargs = animation_plot_kwargs.copy()\n",
    "        temp_animation_plot_kwargs['indices_of_ff_to_mark'] = ignored_ff_indices\n",
    "        data_item.make_animation(currentTrial=currentTrial, num_trials=num_trials, animation_plot_kwargs=temp_animation_plot_kwargs, save_video=False, video_dir=None, file_name=None)\n",
    "        "
   ]
  },
  {
   "attachments": {},
   "cell_type": "markdown",
   "metadata": {
    "id": "UqDJzms0vBY-"
   },
   "source": [
    "### Relative locations of all the ignored ff"
   ]
  },
  {
   "cell_type": "code",
   "execution_count": null,
   "metadata": {
    "executionInfo": {
     "elapsed": 44,
     "status": "aborted",
     "timestamp": 1684812485282,
     "user": {
      "displayName": "Cici Du",
      "userId": "17701548280142155870"
     },
     "user_tz": -480
    },
    "id": "McA7vhRkWTku"
   },
   "outputs": [],
   "source": [
    "import math\n",
    "rmax = 55\n",
    "print(\"Using ff_angle\")\n",
    "\n",
    "fig = plt.figure(figsize=(7, 7))\n",
    "ax = fig.add_axes([0.1, 0.1, 0.8, 0.8], polar=True)\n",
    "ax.set_theta_zero_location(\"N\")\n",
    "ax.set_rlabel_position(292.5)\n",
    "ax.set_ylim(0, rmax)\n",
    "# Draw the boundary of the monkey's vision (use width = np.pi*4/9 for 40 degrees of vision)\n",
    "ax.bar(0, rmax, width=np.pi/2, bottom=0.0, color=\"grey\", alpha=0.1)\n",
    "plt.setp(ax, rorigin=0, rmin=0, rmax=rmax)   # rmax can be changed\n",
    "\n",
    "# Change the labels for the angles \n",
    "labels = list(ax.get_xticks())\n",
    "labels[5], labels[6], labels[7] = -labels[3], -labels[2], -labels[1]\n",
    "labels_degrees = [str(int(math.degrees(label))) + chr(176) for label in labels]\n",
    "ax.set_xticks(ax.get_xticks().tolist())\n",
    "ax.set_xticklabels(labels_degrees)\n",
    "\n",
    "# Plot the locations of the FFs\n",
    "ax.scatter(data_item.ignored_ff_target_pairs['ff_angle'], data_item.ignored_ff_target_pairs['ff_distance'], marker='.', s=20, alpha=1)\n",
    "plt.show()"
   ]
  },
  {
   "cell_type": "code",
   "execution_count": null,
   "metadata": {
    "executionInfo": {
     "elapsed": 44,
     "status": "aborted",
     "timestamp": 1684812485282,
     "user": {
      "displayName": "Cici Du",
      "userId": "17701548280142155870"
     },
     "user_tz": -480
    },
    "id": "HPUTDk2LXHXj"
   },
   "outputs": [],
   "source": [
    "rmax = 55\n",
    "print(\"Using ff_angle_boundary\")\n",
    "\n",
    "fig = plt.figure(figsize=(7, 7))\n",
    "ax = fig.add_axes([0.1, 0.1, 0.8, 0.8], polar=True)\n",
    "ax.set_theta_zero_location(\"N\")\n",
    "ax.set_rlabel_position(292.5)\n",
    "ax.set_ylim(0, rmax)\n",
    "# Draw the boundary of the monkey's vision (use width = np.pi*4/9 for 40 degrees of vision)\n",
    "ax.bar(0, rmax, width=np.pi/2, bottom=0.0, color=\"grey\", alpha=0.1)\n",
    "plt.setp(ax, rorigin=0, rmin=0, rmax=rmax)   # rmax can be changed\n",
    "\n",
    "# Change the labels for the angles \n",
    "labels = list(ax.get_xticks())\n",
    "labels[5], labels[6], labels[7] = -labels[3], -labels[2], -labels[1]\n",
    "labels_degrees = [str(int(math.degrees(label))) + chr(176) for label in labels]\n",
    "ax.set_xticks(ax.get_xticks().tolist())\n",
    "ax.set_xticklabels(labels_degrees)\n",
    "\n",
    "# Plot the locations of the FFs\n",
    "ax.scatter(data_item.ignored_ff_target_pairs['ff_angle_boundary'], data_item.ignored_ff_target_pairs['ff_distance'], marker='.', s=20, alpha=1)\n",
    "\n",
    "plt.show()"
   ]
  },
  {
   "attachments": {},
   "cell_type": "markdown",
   "metadata": {
    "id": "U2fRfR9_8zI4"
   },
   "source": [
    "# Subplots"
   ]
  },
  {
   "attachments": {},
   "cell_type": "markdown",
   "metadata": {
    "id": "gvTgRN7-85fa"
   },
   "source": [
    "## Visible before last one"
   ]
  },
  {
   "cell_type": "code",
   "execution_count": null,
   "metadata": {},
   "outputs": [],
   "source": [
    "trial_total_num = 10\n",
    "PlotTrials_args = (monkey_information, ff_dataframe, ff_life_sorted,\n",
    "                   ff_real_position_sorted, ff_believed_position_sorted,\n",
    "                   cluster_around_target_indices, ff_caught_T_new)\n",
    "\n",
    "category = data_item.visible_before_last_one_trials\n",
    "subplots_kwargs = classic_plot_kwargs.copy()\n",
    "subplots_kwargs['show_eye_positions'] = False\n",
    "subplots_kwargs['show_eye_positions_on_the_right'] = False\n",
    "\n",
    "num_trials = 2\n",
    "if len(category) > 0:\n",
    "    with general_utils.initiate_plot(10, 10, 100):\n",
    "        fig = plt.figure(figsize=(10, 10), dpi=100)\n",
    "        k = 1\n",
    "        for currentTrial in category[:trial_total_num]:\n",
    "            if (currentTrial >= len(ff_caught_T_new)) or (currentTrial < num_trials): \n",
    "                continue\n",
    "            start = max(0, currentTrial - num_trials)\n",
    "            duration = [ff_caught_T_new[start], ff_caught_T_new[currentTrial]]\n",
    "\n",
    "            ax = fig.add_subplot(2, 2, k)\n",
    "            info = plot_trials.PlotTrials(duration, *PlotTrials_args, **subplots_kwargs,\n",
    "                                          currentTrial=currentTrial, num_trials=num_trials,\n",
    "                                          fig=fig, axes=ax, subplots=True,\n",
    "                                          show_connect_path_ff_except_targets=True,\n",
    "                                          show_path_when_target_visible=True)\n",
    "            if info.get('whether_plotted'):\n",
    "                k += 1\n",
    "                if k == 5:\n",
    "                    break\n",
    "            else:\n",
    "                fig.delaxes(ax)\n",
    "\n",
    "        plt.tight_layout()\n",
    "        plt.show()\n"
   ]
  },
  {
   "attachments": {},
   "cell_type": "markdown",
   "metadata": {
    "id": "H4vXPEL8Vu3D"
   },
   "source": [
    "# Combined plots"
   ]
  },
  {
   "attachments": {},
   "cell_type": "markdown",
   "metadata": {
    "id": "J49kpc5CvYaz"
   },
   "source": [
    "## Visible before last one"
   ]
  },
  {
   "cell_type": "code",
   "execution_count": null,
   "metadata": {
    "executionInfo": {
     "elapsed": 45,
     "status": "aborted",
     "timestamp": 1684812485283,
     "user": {
      "displayName": "Cici Du",
      "userId": "17701548280142155870"
     },
     "user_tz": -480
    },
    "id": "BEKOM_oJvYaz"
   },
   "outputs": [],
   "source": [
    "category = data_item.visible_before_last_one_trials\n",
    "num_trials = 2\n",
    "xmin, xmax, ymin, ymax = 0, 0, 0, 0             \n",
    "if len(category) > 0:\n",
    "  with general_utils.initiate_plot(7, 7, 100):\n",
    "      fig = plt.figure()\n",
    "      axes = fig.add_subplot(111)      \n",
    "      for currentTrial in category[:50]:\n",
    "          if (currentTrial >= len(ff_caught_T_new)) or (currentTrial < num_trials):\n",
    "              continue\n",
    "          duration = [ff_caught_T_new[currentTrial-num_trials], ff_caught_T_new[currentTrial]]\n",
    "          returned_info = plot_trials.PlotTrials(duration, \n",
    "                                                *PlotTrials_args,                                                          \n",
    "                                                **combined_plot_kwargs,\n",
    "                                                currentTrial = currentTrial,\n",
    "                                                num_trials = num_trials,\n",
    "                                                fig = fig,\n",
    "                                                axes = axes,\n",
    "                                                show_path_when_target_visible = True,\n",
    "                                                hitting_arena_edge_ok = False,\n",
    "                                                )\n",
    "          if 'axes' in returned_info:\n",
    "            axes = returned_info['axes']\n",
    "            if returned_info['whether_plotted'] is True:\n",
    "                x0, y0 = returned_info['cum_mxy_rotated'][0][0], returned_info['cum_mxy_rotated'][1][0]\n",
    "                ff_believed_position_rotated = np.matmul(returned_info['rotation_matrix'], np.stack((ff_believed_position_sorted[currentTrial-num_trials+1:currentTrial+1].T[0], ff_believed_position_sorted[currentTrial-num_trials+1:currentTrial+1].T[1])))\n",
    "                axes.scatter(ff_believed_position_rotated[0]-x0, ff_believed_position_rotated[1]-y0, s=40, alpha=0.85, zorder=5)\n",
    "                xmin, ymin, xmax, ymax = plot_behaviors_utils.update_plot_limits(xmin, ymin, xmax, ymax, returned_info['cum_mxy_rotated'])\n",
    "\n",
    "      axes.set_xlim((xmin-75, xmax+75))\n",
    "      axes.set_ylim((ymin-25, ymax+75))\n",
    "      axes.xaxis.set_major_locator(ticker.NullLocator())\n",
    "      plt.show()  \n",
    "      "
   ]
  },
  {
   "attachments": {},
   "cell_type": "markdown",
   "metadata": {
    "id": "YGcNu6j6vYaz"
   },
   "source": [
    "## Disappear latest"
   ]
  },
  {
   "cell_type": "code",
   "execution_count": null,
   "metadata": {
    "executionInfo": {
     "elapsed": 45,
     "status": "aborted",
     "timestamp": 1684812485283,
     "user": {
      "displayName": "Cici Du",
      "userId": "17701548280142155870"
     },
     "user_tz": -480
    },
    "id": "krQSTi32xpBQ"
   },
   "outputs": [],
   "source": [
    "category = data_item.disappear_latest_trials\n",
    "num_trials = 1\n",
    "xmin, xmax, ymin, ymax = 0, 0, 0, 0\n",
    "               \n",
    "if len(category) > 0:\n",
    "  with general_utils.initiate_plot(10, 10, 100):\n",
    "      fig = plt.figure()\n",
    "      axes = fig.add_subplot(111)\n",
    "      print(\"axes\", axes)\n",
    "      for currentTrial in category[:50]:\n",
    "          duration = [ff_caught_T_new[currentTrial-num_trials], ff_caught_T_new[currentTrial]]\n",
    "          returned_info = plot_trials.PlotTrials(duration, \n",
    "                                                          *PlotTrials_args,   \n",
    "                                                          **combined_plot_kwargs,\n",
    "                                                          currentTrial = currentTrial,\n",
    "                                                          num_trials = num_trials,\n",
    "                                                          fig = fig,\n",
    "                                                          axes = axes,\n",
    "                                                          show_path_when_target_visible = True,\n",
    "                                                          show_believed_target_positions = True,\n",
    "                                                          hitting_arena_edge_ok = False,\n",
    "                                                          )\n",
    "          if 'axes' in returned_info:\n",
    "            axes = returned_info['axes']\n",
    "            if returned_info['whether_plotted'] is True:\n",
    "                xmin, ymin, xmax, ymax = plot_behaviors_utils.update_plot_limits(xmin, ymin, xmax, ymax, returned_info['cum_mxy_rotated'])\n",
    "\n",
    "      axes.set_xlim((xmin-75, xmax+75))\n",
    "      axes.set_ylim((ymin-25, ymax+75))\n",
    "      axes.xaxis.set_major_locator(ticker.NullLocator())\n",
    "      plt.show()  \n",
    "      \n"
   ]
  },
  {
   "attachments": {},
   "cell_type": "markdown",
   "metadata": {
    "id": "SiOK87t1vYay"
   },
   "source": [
    "## 2 in a row"
   ]
  },
  {
   "cell_type": "code",
   "execution_count": null,
   "metadata": {
    "executionInfo": {
     "elapsed": 44,
     "status": "aborted",
     "timestamp": 1684812485283,
     "user": {
      "displayName": "Cici Du",
      "userId": "17701548280142155870"
     },
     "user_tz": -480
    },
    "id": "qblE0ZZIvYay"
   },
   "outputs": [],
   "source": [
    "category = data_item.two_in_a_row\n",
    "num_trials = 2\n",
    "xmin, xmax, ymin, ymax = 0, 0, 0, 0\n",
    "               \n",
    "if len(category) > 0:\n",
    "  with general_utils.initiate_plot(7, 7, 100):\n",
    "      fig = plt.figure()\n",
    "      axes = fig.add_subplot(111)\n",
    "      for currentTrial in category[:50]:\n",
    "          duration = [ff_caught_T_new[currentTrial-num_trials], ff_caught_T_new[currentTrial]]\n",
    "          returned_info = plot_trials.PlotTrials(duration, \n",
    "                                                          *PlotTrials_args,                                                          \n",
    "                                                          **combined_plot_kwargs,\n",
    "                                                          currentTrial = currentTrial,\n",
    "                                                          num_trials = num_trials,\n",
    "                                                          fig = fig,\n",
    "                                                          axes = axes,\n",
    "                                                          )\n",
    "          axes = returned_info['axes']\n",
    "          if returned_info['whether_plotted'] is True:\n",
    "              x0, y0 = cum_mxy_rotated[0][0], cum_mxy_rotated[1][0]\n",
    "              ff_believed_position_rotated = np.matmul(R, np.stack((ff_believed_position_sorted[currentTrial-num_trials+1:currentTrial+1].T[0], ff_believed_position_sorted[currentTrial-num_trials+1:currentTrial+1].T[1])))\n",
    "              axes.scatter(ff_believed_position_rotated[0]-x0, ff_believed_position_rotated[1]-y0, s=40, alpha=0.85, zorder=5)\n",
    "              xmin, ymin, xmax, ymax = plot_behaviors_utils.update_plot_limits(xmin, ymin, xmax, ymax, cum_mxy_rotated)\n",
    "\n",
    "      axes.set_xlim((xmin-75, xmax+75))\n",
    "      axes.set_ylim((ymin-25, ymax+75))\n",
    "      axes.xaxis.set_major_locator(ticker.NullLocator())\n",
    "      plt.show()  \n",
    "      "
   ]
  },
  {
   "attachments": {},
   "cell_type": "markdown",
   "metadata": {
    "id": "RJ90fQV6vYa0"
   },
   "source": [
    "## Cluster around targets"
   ]
  },
  {
   "cell_type": "code",
   "execution_count": null,
   "metadata": {
    "executionInfo": {
     "elapsed": 44,
     "status": "aborted",
     "timestamp": 1684812485283,
     "user": {
      "displayName": "Cici Du",
      "userId": "17701548280142155870"
     },
     "user_tz": -480
    },
    "id": "pgwKEUGbzfId"
   },
   "outputs": [],
   "source": [
    "import random\n",
    "category = cluster_around_target_trials\n",
    "num_trials = 1\n",
    "xmin, xmax, ymin, ymax = 0, 0, 0, 0\n",
    "               \n",
    "if len(category) > 0:\n",
    "  with general_utils.initiate_plot(7, 7, 100):\n",
    "      fig = plt.figure()\n",
    "      axes = fig.add_subplot(111)\n",
    "      for currentTrial in category[:50]:\n",
    "          duration = [ff_caught_T_new[currentTrial-num_trials], ff_caught_T_new[currentTrial]]\n",
    "          returned_info = plot_trials.PlotTrials(duration, \n",
    "                                                          *PlotTrials_args,     \n",
    "                                                          **combined_plot_kwargs,\n",
    "                                                          currentTrial = currentTrial,\n",
    "                                                          num_trials = num_trials,\n",
    "                                                          fig = fig,\n",
    "                                                          axes = axes,\n",
    "                                                          show_trajectory = False\n",
    "                                                          )\n",
    "          axes = returned_info['axes']\n",
    "          if returned_info['whether_plotted'] is True:\n",
    "              x0, y0 = cum_mxy_rotated[0][0], cum_mxy_rotated[1][0]\n",
    "              cluster_around_target_rotated = np.matmul(R, np.stack((cluster_around_target_positions[currentTrial].T[0], cluster_around_target_positions[currentTrial].T[1])))\n",
    "              ff_believed_position_rotated = np.matmul(R, np.stack((ff_believed_position_sorted[currentTrial].T[0], ff_believed_position_sorted[currentTrial].T[1])))\n",
    "              current_color = '#%06X' % random.randint(0, 0xFFFFFF)\n",
    "              axes.scatter(cum_mxy_rotated[0]-x0, cum_mxy_rotated[1]-y0,marker = 'o',s = 2, alpha= 0.7, color = current_color)\n",
    "              axes.scatter(cluster_around_target_rotated[0]-x0, cluster_around_target_rotated[1]-y0, marker='o', s=30, color = current_color) \n",
    "              axes.scatter(ff_believed_position_rotated[0]-x0, ff_believed_position_rotated[1]-y0, marker='o', s=30, color = current_color) \n",
    "              xmin, ymin, xmax, ymax = plot_behaviors_utils.update_plot_limits(xmin, ymin, xmax, ymax, cum_mxy_rotated)\n",
    "\n",
    "      axes.set_xlim((xmin-75, xmax+75))\n",
    "      axes.set_ylim((ymin-25, ymax+75))\n",
    "      axes.xaxis.set_major_locator(ticker.NullLocator())\n",
    "      plt.show()  \n",
    "      "
   ]
  },
  {
   "attachments": {},
   "cell_type": "markdown",
   "metadata": {
    "id": "7yACTNshvYa0"
   },
   "source": [
    "## Waste cluster around last target"
   ]
  },
  {
   "cell_type": "code",
   "execution_count": null,
   "metadata": {
    "executionInfo": {
     "elapsed": 44,
     "status": "aborted",
     "timestamp": 1684812485283,
     "user": {
      "displayName": "Cici Du",
      "userId": "17701548280142155870"
     },
     "user_tz": -480
    },
    "id": "7ufK1mi8zfoO"
   },
   "outputs": [],
   "source": [
    "category = data_item.waste_cluster_around_target_trials\n",
    "num_trials = 2\n",
    "xmin, xmax, ymin, ymax = 0, 0, 0, 0\n",
    "               \n",
    "if len(category) > 0:\n",
    "  with general_utils.initiate_plot(7, 7, 100):\n",
    "      fig = plt.figure()\n",
    "      axes = fig.add_subplot(111)\n",
    "      for currentTrial in category[:50]:\n",
    "          duration = [ff_caught_T_new[currentTrial-num_trials], ff_caught_T_new[currentTrial]]\n",
    "          returned_info = plot_trials.PlotTrials(duration, \n",
    "                                                          *PlotTrials_args,\n",
    "                                                          \n",
    "                                                          **combined_plot_kwargs,\n",
    "                                                          currentTrial = currentTrial,\n",
    "                                                          num_trials = num_trials,\n",
    "                                                          fig = fig,\n",
    "                                                          axes = axes,\n",
    "                                                          show_trajectory = False\n",
    "                                                          )\n",
    "          axes = returned_info['axes']\n",
    "          if returned_info['whether_plotted'] is True:\n",
    "              x0, y0 = cum_mxy_rotated[0][0], cum_mxy_rotated[1][0]\n",
    "              cluster_around_target_rotated = np.matmul(R, np.stack((cluster_around_target_positions[currentTrial-1].T[0], cluster_around_target_positions[currentTrial-1].T[1])))\n",
    "              ff_believed_position_rotated = np.matmul(R, np.stack((ff_believed_position_sorted[currentTrial-1].T[0], ff_believed_position_sorted[currentTrial-1].T[1])))\n",
    "              current_color = '#%06X' % random.randint(0, 0xFFFFFF)\n",
    "              axes.scatter(cum_mxy_rotated[0]-x0, cum_mxy_rotated[1]-y0,marker = 'o',s = 2, alpha= 0.7, color = current_color)\n",
    "              axes.scatter(cluster_around_target_rotated[0]-x0, cluster_around_target_rotated[1]-y0, marker='o', s=30, color = current_color) \n",
    "              axes.scatter(ff_believed_position_rotated[0]-x0, ff_believed_position_rotated[1]-y0, marker='o', s=30, color = current_color) \n",
    "              xmin, ymin, xmax, ymax = plot_behaviors_utils.update_plot_limits(xmin, ymin, xmax, ymax, cum_mxy_rotated)\n",
    "\n",
    "      axes.set_xlim((xmin-75, xmax+75))\n",
    "      axes.set_ylim((ymin-25, ymax+75))\n",
    "      axes.xaxis.set_major_locator(ticker.NullLocator())\n",
    "      plt.show()  \n",
    "      "
   ]
  },
  {
   "attachments": {},
   "cell_type": "markdown",
   "metadata": {
    "id": "nDP09W44vYa0"
   },
   "source": [
    "## Try a few times"
   ]
  },
  {
   "cell_type": "code",
   "execution_count": null,
   "metadata": {
    "executionInfo": {
     "elapsed": 45,
     "status": "aborted",
     "timestamp": 1684812485284,
     "user": {
      "displayName": "Cici Du",
      "userId": "17701548280142155870"
     },
     "user_tz": -480
    },
    "id": "wf-uUToVe7ic"
   },
   "outputs": [],
   "source": [
    "category = data_item.try_a_few_times_trials\n",
    "num_trials = 1\n",
    "xmin, xmax, ymin, ymax = 0, 0, 0, 0\n",
    "               \n",
    "if len(category) > 0:\n",
    "  with general_utils.initiate_plot(7, 7, 100):\n",
    "      fig = plt.figure()\n",
    "      axes = fig.add_subplot(111)\n",
    "      for currentTrial in category[20:30]:\n",
    "          duration = [ff_caught_T_new[currentTrial-num_trials], ff_caught_T_new[currentTrial]]\n",
    "          returned_info = plot_trials.PlotTrials(duration, \n",
    "                                                          *PlotTrials_args,\n",
    "                                                          \n",
    "                                                          **combined_plot_kwargs,\n",
    "                                                          currentTrial = currentTrial,\n",
    "                                                          num_trials = num_trials,\n",
    "                                                          fig = fig,\n",
    "                                                          axes = axes,\n",
    "                                                          show_believed_target_positions = True,\n",
    "                                                          show_path_when_target_visible = True,\n",
    "                                                          )\n",
    "          axes = returned_info['axes']\n",
    "          if returned_info['whether_plotted'] is True:\n",
    "              x0, y0 = cum_mxy_rotated[0][0], cum_mxy_rotated[1][0]\n",
    "              current_color = '#%06X' % random.randint(0, 0xFFFFFF)\n",
    "              # Plot believed target positions\n",
    "              ff_believed_position_rotated = np.matmul(R, np.stack((ff_believed_position_sorted[currentTrial-num_trials+1:currentTrial+1].T[0], ff_believed_position_sorted[currentTrial-num_trials+1:currentTrial+1].T[1])))\n",
    "              axes.scatter(ff_believed_position_rotated[0]-x0, ff_believed_position_rotated[1]-y0, s=45, alpha=0.75, color=current_color, zorder=3) \n",
    "              # Plot stops\n",
    "              cum_pos_index = np.where((monkey_information['time'] > duration[0]) & (monkey_information['time'] <= duration[1]))[0]\n",
    "              zerospeed_index = np.where(monkey_information['monkey_speeddummy'].iloc[cum_pos_index]==0)[0]\n",
    "              axes.scatter(cum_mxy_rotated[0][zerospeed_index]-x0, cum_mxy_rotated[1][zerospeed_index]-y0,marker = '*',s = 80, color = current_color, alpha=0.8, zorder=3)\n",
    "              # Update the limits \n",
    "              xmin, ymin, xmax, ymax = plot_behaviors_utils.update_plot_limits(xmin, ymin, xmax, ymax, cum_mxy_rotated)\n",
    "\n",
    "\n",
    "      axes.set_xlim((xmin-75, xmax+75))\n",
    "      axes.set_ylim((ymin-25, ymax+75))\n",
    "      axes.xaxis.set_major_locator(ticker.NullLocator())\n",
    "      plt.show()  \n",
    "      "
   ]
  },
  {
   "attachments": {},
   "cell_type": "markdown",
   "metadata": {
    "id": "cP0faT9KvYa0"
   },
   "source": [
    "## Give up after trying"
   ]
  },
  {
   "cell_type": "code",
   "execution_count": null,
   "metadata": {
    "executionInfo": {
     "elapsed": 45,
     "status": "aborted",
     "timestamp": 1684812485284,
     "user": {
      "displayName": "Cici Du",
      "userId": "17701548280142155870"
     },
     "user_tz": -480
    },
    "id": "JM7oTktXzhMw"
   },
   "outputs": [],
   "source": [
    "category = data_item.give_up_after_trying_trials\n",
    "num_trials = 1\n",
    "xmin, xmax, ymin, ymax = 0, 0, 0, 0\n",
    "               \n",
    "if len(category) > 0:\n",
    "  with general_utils.initiate_plot(7, 7, 100):\n",
    "      fig = plt.figure()\n",
    "      axes = fig.add_subplot(111)\n",
    "      for currentTrial in category[:50]:\n",
    "          duration = [ff_caught_T_new[currentTrial-num_trials], ff_caught_T_new[currentTrial]]\n",
    "          returned_info = plot_trials.PlotTrials(duration, \n",
    "                                                          *PlotTrials_args,\n",
    "                                                          \n",
    "                                                          **combined_plot_kwargs,\n",
    "                                                          currentTrial = currentTrial,\n",
    "                                                          num_trials = num_trials,\n",
    "                                                          fig = fig,\n",
    "                                                          axes = axes,\n",
    "                                                          show_path_when_target_visible = True,\n",
    "                                                          show_believed_target_positions = True,\n",
    "                                                          show_stops = True\n",
    "                                                          )\n",
    "          axes = returned_info['axes']\n",
    "          if returned_info['whether_plotted'] is True:\n",
    "              xmin, ymin, xmax, ymax = plot_behaviors_utils.update_plot_limits(xmin, ymin, xmax, ymax, cum_mxy_rotated)\n",
    "\n",
    "      axes.set_xlim((xmin-75, xmax+75))\n",
    "      axes.set_ylim((ymin-25, ymax+75))\n",
    "      axes.xaxis.set_major_locator(ticker.NullLocator())\n",
    "      plt.show()  \n",
    "      "
   ]
  },
  {
   "attachments": {},
   "cell_type": "markdown",
   "metadata": {
    "id": "1PbBEehWvYa0"
   },
   "source": [
    "## Ignore sudden flash"
   ]
  },
  {
   "cell_type": "code",
   "execution_count": null,
   "metadata": {
    "executionInfo": {
     "elapsed": 44,
     "status": "aborted",
     "timestamp": 1684812485284,
     "user": {
      "displayName": "Cici Du",
      "userId": "17701548280142155870"
     },
     "user_tz": -480
    },
    "id": "6PBbqtvGzgHf"
   },
   "outputs": [],
   "source": [
    "category = data_item.ignore_sudden_flash_trials\n",
    "num_trials = 1\n",
    "xmin, xmax, ymin, ymax = 0, 0, 0, 0\n",
    "               \n",
    "if len(category) > 0:\n",
    "  with general_utils.initiate_plot(7, 7, 100):\n",
    "      fig = plt.figure()\n",
    "      axes = fig.add_subplot(111)\n",
    "      for currentTrial in category[:30]:\n",
    "          duration = [ff_caught_T_new[currentTrial-num_trials], ff_caught_T_new[currentTrial]]\n",
    "          ignored_ff_indices = np.array(ignored_ff_target_pairs_index_only.loc[currentTrial]).reshape(-1).tolist()\n",
    "          returned_info = plot_trials.PlotTrials(duration, \n",
    "                                                          *PlotTrials_args,\n",
    "                                                          \n",
    "                                                          **combined_plot_kwargs,\n",
    "                                                          currentTrial = currentTrial,\n",
    "                                                          num_trials = num_trials,\n",
    "                                                          fig = fig,\n",
    "                                                          axes = axes,\n",
    "                                                          show_path_when_target_visible = True,\n",
    "                                                          show_connect_path_ff_except_targets = True,\n",
    "                                                          connect_path_ff_max_distance = 50,\n",
    "                                                          show_believed_target_positions = True,\n",
    "                                                          indices_of_ff_to_mark = ignored_ff_indices,   \n",
    "                                                          )\n",
    "          axes = returned_info['axes']\n",
    "          if returned_info['whether_plotted'] is True:\n",
    "              x0, y0 = cum_mxy_rotated[0][0], cum_mxy_rotated[1][0]\n",
    "              ff_believed_position_rotated = np.matmul(R, np.stack((ff_believed_position_sorted[currentTrial-num_trials+1:currentTrial+1].T[0], ff_believed_position_sorted[currentTrial-num_trials+1:currentTrial+1].T[1])))\n",
    "              #axes.scatter(ff_believed_position_rotated[0]-x0, ff_believed_position_rotated[1]-y0, s=40, alpha=0.85, zorder=5)\n",
    "              xmin, ymin, xmax, ymax = plot_behaviors_utils.update_plot_limits(xmin, ymin, xmax, ymax, cum_mxy_rotated)\n",
    "\n",
    "      axes.set_xlim((xmin-75, xmax+75))\n",
    "      axes.set_ylim((ymin-25, ymax+75))\n",
    "      axes.xaxis.set_major_locator(ticker.NullLocator())\n",
    "      plt.show()  \n",
    "      "
   ]
  },
  {
   "attachments": {},
   "cell_type": "markdown",
   "metadata": {
    "id": "xIYoWAIyDieu"
   },
   "source": [
    "# Polar plots"
   ]
  },
  {
   "cell_type": "code",
   "execution_count": null,
   "metadata": {
    "executionInfo": {
     "elapsed": 45,
     "status": "aborted",
     "timestamp": 1684812485285,
     "user": {
      "displayName": "Cici Du",
      "userId": "17701548280142155870"
     },
     "user_tz": -480
    },
    "id": "ZrSbMmCJ5uN1"
   },
   "outputs": [],
   "source": [
    "num_trials = 1\n",
    "for currentTrial in range(100, 105):\n",
    "    print(currentTrial)\n",
    "    #duration = [ff_caught_T_new[currentTrial-num_trials], ff_caught_T_new[currentTrial]]\n",
    "    duration = [ff_caught_T_new[currentTrial]-1.25, ff_caught_T_new[currentTrial]]\n",
    "\n",
    "\n",
    "    plot_polar.PlotPolar(duration,\n",
    "              monkey_information,\n",
    "              ff_dataframe, \n",
    "              ff_life_sorted,\n",
    "              ff_real_position_sorted,\n",
    "              ff_caught_T_new,\n",
    "              ff_flash_sorted,\n",
    "              rmax = 100,\n",
    "              currentTrial = currentTrial,\n",
    "              num_trials = num_trials,\n",
    "              show_visible_ff = True,\n",
    "              show_visible_target = True,\n",
    "              # show_ff_in_memory = True,\n",
    "              # show_target_in_memory = True,\n",
    "              ff_colormap = 'viridis',\n",
    "              target_colormap = 'viridis',\n",
    "              show_alive_ff = True,\n",
    "              colors_show_overall_time = True,\n",
    "              show_all_positions_of_all_fireflies = True,\n",
    "              show_colorbar = True,\n",
    "                )"
   ]
  },
  {
   "attachments": {},
   "cell_type": "markdown",
   "metadata": {
    "id": "vRHSO9MpSr63"
   },
   "source": [
    "# Animation"
   ]
  },
  {
   "attachments": {},
   "cell_type": "markdown",
   "metadata": {
    "id": "XypHpRbwyIBF"
   },
   "source": [
    "## Overhead view"
   ]
  },
  {
   "attachments": {},
   "cell_type": "markdown",
   "metadata": {
    "id": "JlxfIO9YFFHe"
   },
   "source": [
    "### prepare for animation"
   ]
  },
  {
   "cell_type": "code",
   "execution_count": 4,
   "metadata": {
    "executionInfo": {
     "elapsed": 45,
     "status": "aborted",
     "timestamp": 1684812485285,
     "user": {
      "displayName": "Cici Du",
      "userId": "17701548280142155870"
     },
     "user_tz": -480
    },
    "id": "x-QWa4ViyNjY"
   },
   "outputs": [],
   "source": [
    "PlotTrials_args = (monkey_information, ff_dataframe, ff_life_sorted, ff_real_position_sorted, ff_believed_position_sorted, cluster_around_target_indices, ff_caught_T_new)\n",
    "\n",
    "animation_plot_kwargs = classic_plot_kwargs.copy()\n",
    "animation_plot_kwargs['show_eye_positions_on_the_right'] = False              "
   ]
  },
  {
   "cell_type": "code",
   "execution_count": 5,
   "metadata": {
    "executionInfo": {
     "elapsed": 45,
     "status": "aborted",
     "timestamp": 1684812485285,
     "user": {
      "displayName": "Cici Du",
      "userId": "17701548280142155870"
     },
     "user_tz": -480
    },
    "id": "0uwEgrqa6x3-"
   },
   "outputs": [
    {
     "name": "stdout",
     "output_type": "stream",
     "text": [
      "Number of frames is: 89\n"
     ]
    },
    {
     "data": {
      "image/png": "[encoded data removed]",
      "text/plain": [
       "<Figure size 640x480 with 1 Axes>"
      ]
     },
     "metadata": {},
     "output_type": "display_data"
    }
   ],
   "source": [
    "currentTrial = 109\n",
    "num_trials = 1\n",
    "duration = None\n",
    "currentTrial, num_trials, duration = specific_utils.find_currentTrial_or_num_trials_or_duration(ff_caught_T_new, currentTrial, num_trials, duration)\n",
    "\n",
    "k = 3\n",
    "fig, ax = plt.subplots()\n",
    "num_frames, anim_monkey_info, flash_on_ff_dict, alive_ff_dict, believed_ff_dict, new_num_trials, ff_dataframe_anim\\\n",
    "            = animation_utils.prepare_for_animation(ff_dataframe, ff_caught_T_new, ff_life_sorted, ff_believed_position_sorted, \n",
    "                                    ff_real_position_sorted, ff_flash_sorted, monkey_information, k=k, currentTrial=currentTrial, num_trials=num_trials)\n",
    "print(\"Number of frames is:\", num_frames)"
   ]
  },
  {
   "cell_type": "code",
   "execution_count": 6,
   "metadata": {
    "executionInfo": {
     "elapsed": 45,
     "status": "aborted",
     "timestamp": 1684812485285,
     "user": {
      "displayName": "Cici Du",
      "userId": "17701548280142155870"
     },
     "user_tz": -480
    },
    "id": "FPZK8njVrz59"
   },
   "outputs": [
    {
     "name": "stdout",
     "output_type": "stream",
     "text": [
      "currentTrial: 109 num_trials: 1\n",
      "Since target_index is not provided, it is set to currentTrial:  109\n",
      "duration: [np.float64(295.167344), np.float64(299.582228)]\n",
      "(14, 3)\n",
      "Number of frames is: 89\n"
     ]
    },
    {
     "data": {
      "image/png": "[encoded data removed]",
      "text/plain": [
       "<Figure size 1450x700 with 2 Axes>"
      ]
     },
     "metadata": {},
     "output_type": "display_data"
    }
   ],
   "source": [
    "fig = plt.figure(figsize=(14.5, 7))\n",
    "animation_plot_kwargs['hitting_arena_edge_ok'] = True\n",
    "animation_plot_kwargs['show_connect_path_ff'] = True\n",
    "animation_plot_kwargs['trial_too_short_ok'] = True\n",
    "axes = fig.add_subplot(1, 2, 1)\n",
    "# axes.remove()\n",
    "returned_info = plot_trials.PlotTrials(duration, \n",
    "                        fig=fig,\n",
    "                        axes=axes,\n",
    "                        *PlotTrials_args,\n",
    "                        **animation_plot_kwargs,\n",
    "                        currentTrial = currentTrial,\n",
    "                        num_trials = num_trials,           \n",
    "                        )\n",
    "axes = returned_info['axes']\n",
    "fig.add_axes(axes)\n",
    "ax = fig.add_subplot(1, 2, 2)\n",
    "fig.tight_layout()\n",
    "num_frames, anim_monkey_info, flash_on_ff_dict, alive_ff_dict, believed_ff_dict, new_num_trials, ff_dataframe_anim\\\n",
    "            = animation_utils.prepare_for_animation(ff_dataframe, ff_caught_T_new, ff_life_sorted, ff_believed_position_sorted, \n",
    "                                    ff_real_position_sorted, ff_flash_sorted, monkey_information, k=k, currentTrial=currentTrial, num_trials=num_trials)\n",
    "print(\"Number of frames is:\", num_frames)"
   ]
  },
  {
   "attachments": {},
   "cell_type": "markdown",
   "metadata": {
    "id": "AesCxkpsFbVn"
   },
   "source": [
    "### make animation"
   ]
  },
  {
   "cell_type": "code",
   "execution_count": 7,
   "metadata": {
    "executionInfo": {
     "elapsed": 46,
     "status": "aborted",
     "timestamp": 1684812485286,
     "user": {
      "displayName": "Cici Du",
      "userId": "17701548280142155870"
     },
     "user_tz": -480
    },
    "id": "pUcR1X-0-OQo"
   },
   "outputs": [
    {
     "name": "stdout",
     "output_type": "stream",
     "text": [
      "2025-09-15 20:40:39,226 - INFO - Animation.save using <class 'matplotlib.animation.FFMpegWriter'>\n",
      "2025-09-15 20:40:39,227 - INFO - MovieWriter._run: running command: ffmpeg -f rawvideo -vcodec rawvideo -s 1450x700 -pix_fmt rgba -framerate 10.0 -loglevel error -i pipe: -vcodec h264 -pix_fmt yuv420p -y /var/folders/81/249hbjx960s5t_1dxgdxz6r00000gn/T/tmp07m98tot/temp.m4v\n"
     ]
    },
    {
     "data": {
      "text/html": [
       "<video width=\"1450\" height=\"700\" controls autoplay loop>\n",
       "  <source type=\"video/mp4\" src=\"data:video/mp4;base64,AAAAIGZ0eXBNNFYgAAACAE00ViBpc29taXNvMmF2YzEAAAAIZnJlZQABHp9tZGF0AAACrwYF//+r\n",
       "3EXpvebZSLeWLNgg2SPu73gyNjQgLSBjb3JlIDE2NCByMzA5NSBiYWVlNDAwIC0gSC4yNjQvTVBF\n",
       "Ry00IEFWQyBjb2RlYyAtIENvcHlsZWZ0IDIwMDMtMjAyMiAtIGh0dHA6Ly93d3cudmlkZW9sYW4u\n",
       "b3JnL3gyNjQuaHRtbCAtIG9wdGlvbnM6IGNhYmFjPTEgcmVmPTMgZGVibG9jaz0xOjA6MCBhbmFs\n",
       "eXNlPTB4MzoweDExMyBtZT1oZXggc3VibWU9NyBwc3k9MSBwc3lfcmQ9MS4wMDowLjAwIG1peGVk\n",
       "X3JlZj0xIG1lX3JhbmdlPTE2IGNocm9tYV9tZT0xIHRyZWxsaXM9MSA4eDhkY3Q9MSBjcW09MCBk\n",
       "ZWFkem9uZT0yMSwxMSBmYXN0X3Bza2lwPTEgY2hyb21hX3FwX29mZnNldD0tMiB0aHJlYWRzPTEy\n",
       "IGxvb2thaGVhZF90aHJlYWRzPTIgc2xpY2VkX3RocmVhZHM9MCBucj0wIGRlY2ltYXRlPTEgaW50\n",
       "ZXJsYWNlZD0wIGJsdXJheV9jb21wYXQ9MCBjb25zdHJhaW5lZF9pbnRyYT0wIGJmcmFtZXM9MyBi\n",
       "X3B5cmFtaWQ9MiBiX2FkYXB0PTEgYl9iaWFzPTAgZGlyZWN0PTEgd2VpZ2h0Yj0xIG9wZW5fZ29w\n",
       "PTAgd2VpZ2h0cD0yIGtleWludD0yNTAga2V5aW50X21pbj0xMCBzY2VuZWN1dD00MCBpbnRyYV9y\n",
       "ZWZyZXNoPTAgcmNfbG9va2FoZWFkPTQwIHJjPWNyZiBtYnRyZWU9MSBjcmY9MjMuMCBxY29tcD0w\n",
       "LjYwIHFwbWluPTAgcXBtYXg9NjkgcXBzdGVwPTQgaXBfcmF0aW89MS40MCBhcT0xOjEuMDAAgAAA\n",
       "41pliIQAEf/+94gfMstp+TrXchHnrS6tH1DuRnFepL3+IAfF/HccjxgARFbG2rAISdRDZ1j182vX\n",
       "J6cJ35FUKg3Vr6XvwBbtR+4+vky2KGQ2vWPEbOL6fHfBUtjCAJ9T8LdWHkaPL66Ys8SyyfD/7ceM\n",
       "h1NF54QFgEv9qtvcCKbDRlH5dAo5o0yl5DDrBPwkpdQ6BIi0Y17xvy5jYGoMLNtDUVBb60FPDFIk\n",
       "Qw6gsdRWhzVJx4xcA5zND4xR+FOk50DVla2Y+B+HzrHTJiNnKrYqb4qsTQlyhbGFTPAF7P2z9fKU\n",
       "rfUxrLK8Gv46ZhD+azxQT11YQM0HEtC1VbpTdHWrR8enXM6LxGGDTQQEGcCMK4h+txCeGvE1Jozj\n",
       "wniOrGz+XY6YTmUXT3PRGg6StHMg6yhNGWqDDxP0guQBNfilbAvXR1ppnutHnuZ0PxnWbWyKjdA9\n",
       "iQ7aiK6oKuYqwqTdGaaUpCslwMlH9w6R5+Uo+2ZwX98J6myr/mS0oqgSSlCLRTUOrFkLV2tqxLXm\n",
       "hK+uctMN4JGNYL8YTKceMFp4ea6ms9kbpEjg/CQ4a7ns/fT455WCo//tiGtyGyOgAAADAAADAAAD\n",
       "ARmBWefbgPDOjooSB5olDN/pHGf8zVUGRmj5FjYuKURZXqKrUGNmccBsjOi3kmhxrpQbwq/oP6Nn\n",
       "uRrfd0HaMfexQO7/QbM7X8Iec7EPYBLIAwcm05lR+gnbh4H8Ku5k+QyLGU5G4kHXWR+o6KNr8gCi\n",
       "2/+VMLKcNT+gffhEjUxh19NgLVsmQArimtSmlDP/Z1hVCU/sbTf0pKTpTwTGIMGXP1R3lZXccNg3\n",
       "7R+5AnoZWOjWBILhP3ZMbeSvwf9n6ENMfE8nAFLbXqYSAG/a2VhwRNL24j9gxdxlG/9o7kTKDQ94\n",
       "1p1A2wbonWKxgvYR5vvsTZdRDto3ccZMIVBcRSXGRP1u+5fH7tDlgvMP7HWw6gAoHyK3D4NDJSB7\n",
       "QQ0jNEsgOH4aZDnd3F3eXdSF3EIjJ8xmiRvSIlN3knwBo1iro2eg/eVER+ATqKToxmZr9HPNPR61\n",
       "CNmYgZbh92kP0DdKniRcwPjN1agI+ijnHhnYl0uYR16Y4Y8WPkJzH86FCP/6WOeP8iRrXcx/jYlK\n",
       "Rp88fmLPzE/YZLgf/V4pLUJc2VTW5L+SMmHNAl49Axt4/u2vHTgTMMM5EGabOy166GfqIwqJ6BxK\n",
       "p8mxMskBCx6A+TOjqrFD03eFkYfLiMXGoPWqcY4ETTOgLND/2cDG2yKCdiQOBSzWmBskd3EtKsqK\n",
       "1ejU1fFyJCdupmHMdpJ9gAAAAwAXen8n2UloaAAAuIkp2AO9yMNPeS9BTS9Br4giFx+xf9pYf4bP\n",
       "Id8nh0nEg8uRJXI8VsmGSRIIv+q89iBR5C6o6gpomvwQOe19FxG0Pg38FSAzx+d9tLI528fqJYKt\n",
       "lnrk/8Zb5dbghOAAARjCTsGgcC15aUXuhWFwDCBStonn3tpRgKGHkPInJtP8AamKY0XdbUUq6Fbe\n",
       "6cumy5Qn1L64BZPggAJR5K04n6QE7wpjBf47EVsb0XyCProjafCZ+J0P9ktGeraitxnPfdWtUELY\n",
       "tUe4quJuURFMd015pQRgQWLR9gZbKZSDeCY1jcOgdFPzbRYrusf7NdbafVmdqqWMoSWKU3FYaJWT\n",
       "2QWCEOVDJfEtaxf+faA/X7EYt5VNW7gHDDwreBcmuEXUpSwpQ2Jv6onxbHUA9w0N4URHCo7YlxLd\n",
       "zDXEFCt1R+NL2ibWmwzM6vD2gDJuVGStLOm8/LUbMv30T4SBoj9jtodqbEGm4qQuCWkre4km+rGt\n",
       "IV+as8rTg9VvaiwiN33eFzX7x25rgfsutnZhparn4jdVwgcLTBLtmNZ1A95pcH6wlMX+3wh6IaZY\n",
       "0UIpF3uW1HMWOEpIXR+vPxLYAZjS4AqHcUgp+RisujpD5LQ/8WXHxQ2wO9974liDO14dFmGsW8Vo\n",
       "qrXj4gYrd3PGBLKn0VsMAtvdZ2cc/gkF04hySGyDkBn0t3we7l8CZJ8xRhU45FSYvQwgipHkFa4s\n",
       "31Sc42I41+CkcoUtfFE7J0Tw7aeBXfH93xHjZAy4ue7uGFAWlM4lWNYpO7jTV1tbcnMbhzywMXpc\n",
       "pBXGcIZ1//vVWs26Hb41Mk2+S0S8QwZsaN9XsTM8x39rIP6d5PTiCv90zgo8HpnDU5lbIbKqkncn\n",
       "XVO5iMqUcY3Pss0JrPQN6TZA0/J/qw04H2OcQL7jq3Omz9RbP75ZJ3EDzKFyM7T90Pf/biD2y8Zh\n",
       "t3rMryDl9rG383L6gJLBxM0zJZ4iqXsnL2FBLwBOUizEwW6pWWfwdnhkyfgWBFqzGQ9CC7fjIOWO\n",
       "0wRMCxGQsSA2wlW4xOi11H0/WR55oDQUL5A5/MFNEjiqv8ON0QQO8L1B0kc4e5UWBvgEfxhO2Rr6\n",
       "V9CQrLFrpTC32io+le/FAyPVY2d1qZZvYgHy8BVpnFYDH3BTYlH370YiNTQQFCTujBaVdmGUAWFa\n",
       "n56s7b/YNyYFsPtEsijNl7VYfXENUYYljLXxWRjWbBGE//ubG+MOBSKnAg2wTXXgCi57uxSmSC6P\n",
       "0oeSPon2x9dLQXF0HghA5QJ112k8ckaEYRFF7MuZryzukEu5WtGY+4yQZTdCLUGS6uGU0Dno8Bqa\n",
       "g5s8YAVx589UJMkBmJYIaMl8oV9ByWiyR32AQe2WuaRmqE8O4+VKrJW3hLBuxoVEJ4GEXQzPGiXU\n",
       "jgRwRYfFai4Nso+pueCv9JOgiKxs3lX2g1+m2nlZ5s2YJvyERfp9iv3Ok00epDXujR2zXxZ1uE/x\n",
       "QfqdJsSkZztVffntAG0ch7HRhbKyExzzJK26uy16WgBoT/COqW1H8l+IPhMvKP3FV9p4JqgfCc8Q\n",
       "+iHhCGJ6S5NKg8YirAIle7pSWKGO1MYBNBUHqHTSFgynzANO1YbIScAUoUHrUVFcasE8TfAgCtsS\n",
       "fSmXX30IXDaJm2sG0b0ZjBYswv3DLwGM0KVbzcIShIlUNF7nv8GsfCBCoxY90NZ4IeREL5BZMC4W\n",
       "xTk7gvQ4w+g1syp+HV3Vh3hCkLYCo/LIew8eYyJ/kAbbVUzok4sUhFycR7Rn8nkkjM0KFxjZYNG9\n",
       "SgiEwstCjrMhFFmNGOlV1POPYPkNEY+GY4vis0r8OGg9XH4TvDbWpP9gPNrxzWpTVeUcaP8LQ0jp\n",
       "oWUQVOeZxjgcsbKu4aRXCLyld/LQinTAk+OV7wKZq5iS3D7/UZX14oHbrQzAZ+o8jr2KnobnfZ3e\n",
       "6o2vTOV3BEJ38O6J0oVRszpzCegTmiGvGxGTOzKHKJJdKtXx/nu3O2BtGoaiEz3Bkd2eHeaj1Cgw\n",
       "Jf6cg+A7LjXXAzRljO892Uc1/ZS1iY8E3kMmSj/4MjY5o1+Fiy7y4qP4YAABITNDXYcs92SVAS+w\n",
       "SdCnXh8E6jB1RmcvbIjztNBoL6xQihBzvo6KfmhVTZBuVHMzr9Q/P43iwy0cLBY6iE2K1HtxoJLc\n",
       "sI3YudDwSDUEvtiG9ANYoF9JYssoVu+NA02yL/6AuoUaiObL8kpxUhBmmKa0MpzMfiiuyN6S15Rc\n",
       "EwGv4uc4vi7Q2CRVWC0sAWGcgz85kI5ynpJolwp4f/Ub6FaGlYAEApSKSaJtplpQdhWTsrI0L9Vm\n",
       "F3i084a9tJP+BSz+tP4kRm/5oyTMgF8PQf2M8lDVBlSJI+JdVcwVPnGjGu42W8lnuPvkI6leHceI\n",
       "+cVSVrKLoX3NDsSrKPt3pW7F55HUOZhW60zLglZQjHxJtZzLsUEuB9ALUo29wd129Ohewi5/eART\n",
       "DQ+x/jexPF8+Dq4sm4jHrUNLm4+R4zBpLTuarJU6Y87pNxYvlLTa+7nzpT+M9k2PeytxnyBQXMnx\n",
       "GNoVQuQw7pNyZ2s11kl7td9gGd8BDJGOafxPHxxqhj0RueuDEwZcp3IFtfW9WX5Wugx5wPFyjFiN\n",
       "gPtEFio/klPduwSZQ+U1lCuJlpFLNCqk8TSCGYSGpCwfeFPF+xruTdugHE2sG7jxJ0TeKu0hEYJ+\n",
       "SsFrZzVd/UlNUc+m4BVq+Z4tSpw0L9iu1u52eEeAcGOs6MTyrWYEUkXYjaIZnd5IX/70GlIwG3nf\n",
       "5sXU3VAVQDC2kNCPAnUAAHnwb4mswe6h2pdzZOlCPW1NBunaTJELuBEcR4dEmYqopRyNhElp0cXk\n",
       "yGedM5zKmc/2l1W/C/+4CHF2uB7Zc7yrzPedH1yIeDCUY5Ei7YLhlk9dG0ak9+38S4bhTTZ8xlqD\n",
       "YJ4fnkyxhKB/953MfXAoYvpePdRDE8fYkNHZlo72KG+MeG7xxm8yqzXvp/dM+hLNsdHb4sY72y1m\n",
       "TIvBYM+Z5nzsZgWxcht6CbN4fqc1PJqCbbeRrOn2JNrq4qiU6svDJLES5L6ws6q3DtwpwLVvGFHA\n",
       "15l3e34WSO32t4kAR90zDPvHhq2tWncgNsgmhNKiGOgAL3g8tPozokjJGGK/c6S+XSuW51VywUp+\n",
       "oI/tKpD444mZL7t+LyeNAxvxlUq7UlcIx7AdnsDUIrEH1OBMCrAzQObAONpu61QY6S+ei5BeMlzB\n",
       "Os2fbtQ+Pg1g6wxjwADFaPmuHTnaZp26xWIzPAFMn8hAF3Q0LLkMYERdVmNor1HqhMkPOkv6upWu\n",
       "gXwFL3GBBmS3K++s06qGvWTomkqt4kcbYmq4CAfXbzVWT1qCYUjEQq3+4hEqe8Mn8OvE16YMqdKy\n",
       "lgEkvT9ZHL5savBC7KhQEmkWU9QcggECl6STI+OWguqQFzHtIL/vED3+5nZ74NOBu51E9fXb+pSn\n",
       "BTKwAytzv4SgfaTQl+VnofZ4AFpFA5h2GRV2h6itFoGD2U9CY1U7XrkR5+T0qpBbbNWnKVKYNaa6\n",
       "h3Kilzaakb2+YBtjAZIR1dTCq85t3wqUVnvtAPCjj8fSfPLP/zKx+w6iCWaxN0HUjJAVtqyMB2vn\n",
       "NtmHvUa9axH1O8FvE6QH5EK5AkjJyemI3cr/XqpIwoTak0TELHmzGoIFR/74uTBwXwL5NXjQfL7d\n",
       "ha5R6Atyew6zgRbeJB0QNBhvukK2iDx9dHnDxAPTLcymONTQ2EJ0gBRtr/SJ7bZm/YYQtj0TyPu3\n",
       "Rk9eNhUlmPymr1xWTTJXMfCV+CO5muvk9fi8RJd8NJBHMSbkCFc/9vDrj9FOZ7nve7SRSwrXQt7o\n",
       "53UHrmOXeXQlYvHcg9c+QPIWid30PMEkmStT8RRUM735CUxpkfiz9RqxWi2bfV49FUdUZmLLkyd8\n",
       "Ik+Clpyo1RmIwNJAiYsxGJx/QCsWOUzG4XjnmKeLdc5T9LN20sX86im0XJGY+v56QzDzfAgOtg3k\n",
       "/YH7RLxBHEbhcT7pB33uTSiImibu6ddsPOS78kEBzzu/M60IG5K7btppZJJRvhgOqOVye/nUrYpS\n",
       "EgBnuwMvV3p+0RbQivBda5Mjstwesq96ycUoAoRwXCdK6yf0M8CeVjIoASHnpJI/L75IYTvtvEvC\n",
       "M4w4zKOxJpHz6vdEfDBbBciWB1tkXaRG+Z3/TUAcK3A29kfg+ZozCzgjrI9YhQTAuTxER/Z4LD4/\n",
       "DD4r73tT0x7Du/UgNcAQO53ROJNqxbzDLtEBQUn1L2AW8jqdqVS5EcP2jYzDV7FRD9o154+mL+2X\n",
       "l2b6+IWAd6ehEBLgIaiISynQUwh47BcIzfD2s+fH8ltPjrcVotw8bFgaAyKIsSALwIShoxOAEFwO\n",
       "SySgzFRGwhxJPkEmZSCJfYqJgspKskYxMxgeDPVE6kHZ1K+k2JeTwOXlFBvYT/qVM0Eqs0OV4m0E\n",
       "2O0TqMxNfQUNVhQvGEaiFL/6fjHE43nF6UgrDm4I/WQy/uI5UCNPSr0vEwZkMBV7+fNDHcabdFYw\n",
       "TzxG+0x+HS0RXjpME67Oa96StX/xB/CnmlaJr1yTkHIj1dVtDxuufZ9LE8ZNjo4kDTqF6FOPhGgz\n",
       "PbsuaDxxmxd9B2mX6dK3nRT+iIvnNmiJQF9rBcV792Ztb5U7drHifh8MqqwEs0vf8JM/v22aT9jZ\n",
       "jRPdFJkJaZ29ucoEIvhmx8qvmRt+YLb1WQzYTOHNt8U98i3iydJsO6hKJuCA8bZUQhcE+EamXJ3Q\n",
       "iOQdrJaZjTtH9KVfvgMydMiaqkk234I7T1gfNCClXYa5x125bRZ/xPCKHE3cpzXJpeUNzp4zfVpB\n",
       "3/YAc90CDf78PoDLANieR7w5uKC53wEHGDFMYMdD02LXPYX3zOLGhhgXSUXivcp7Tvy3NWX59uaQ\n",
       "qAtV+cfhpuFUHHh5jhY2zi6zOcsXk3xAcRngPexPx2vCosSf40gTQnHuNbBmXEdsxTsMGQ4aF+q7\n",
       "q6vQ1PKFM1Z3PIxXOg9IGmYBzEeO8NRdDGAiDvKCcPkcUBmph5CiYOkN/IEvU0tV0lmzzvWsVtbp\n",
       "ZJM6AnZPHMukuIcPbPL2oJnNf7FH40nSjud9wGFFVQwio/5CGo7SVGdSM3XMrj5dXyDrW9NR6Asd\n",
       "lehTmjb/GjfMO9jsLog6AFPzSaJD7udtNL7ous+ILqczTRVqKHtRoiBcn8rcmUFQ78p9Mj8vdWqV\n",
       "Op1wZ++uyAkrbeo+U/0afUTMaKjCQ+0N+Ia0NWFZcA24JTe3s9GBh9XmgNFBBA9i/T+7SAQzsTPQ\n",
       "9S87PMLkEL9CDKKlOSN/gR9iVzfiDBmw8hwBtVqbNdT1L9/vF2AmYnws2w4BuxJ087HffDVNoCkw\n",
       "FI2XZyYgvsTK+SRo6HVZPE8vJH/f8oPX/so4z32hyG0ycB8kmr0lKchVocpOk3NlIa7PpryH3CLs\n",
       "6DyRqv0gTmWIIA4XJB1gXnlZI13kySoGSVTr3B+A7t3lAoqWRkmiFkyeLIuw6xY8S4e98imex/sZ\n",
       "1SN3R4q6Q5IaHo1Lm4PpB+WOOiQly1i+Jbumr4LTklbN/loXtk+5TQWduEjD/ecpfHGZPXDXUsAj\n",
       "gn72fJPQE/LKaFCARx3VVYlFmAWvxqANuJ+uwrCdRyixNuaWkXvcOnrWtntWLI6QTD9p8HSa8Cyh\n",
       "uN1Vg52HZZOUdDe7J/vlBhBN3m1kdp7yVtZfb/tMG5Nqqie2JqA4gkMGHgBk64CfDmTcVA2oMfLJ\n",
       "/8SAWkvdkVEhUaJPNcxMFkCRXBUiQ4oFUzyuIPYeIFLoe5PAAOgc++WDi7OoPRGnc98uAZDtAcy7\n",
       "YKxUryRwUQifYCGlEbB6UD9F7+T2z9H4z2jUB/6jCxWj6k4xA7PhpSrNjUTRO2FSR8QafPayevKD\n",
       "N4IXBBuOynyZeiDx5mBqHsGyMb31y22VDQXYJgz0l8w+Q0cE14EAuz5Lr+mekhGNoPVII8uC8/Tc\n",
       "qgoUDA6DvCo2/dInMpxyUKSNZX+SVHDijPzOKRO3tyi4LCNPcmEJets4lYF2sHyRWR62IelE1D6d\n",
       "D9ATotZsBp9xBai9mnqkJ0xbI2ZXEfmKKRbYbakWJtDCppr5sD9c0mecknoU+o/fbsoIzVWzKd+n\n",
       "EKG5TWv9TCQ8rTieBSVJP4KLyjxNXaQbM+0y8K0brBbt2MDgDFj92ESsY9lTnl1KkBsqyESTg5H1\n",
       "7vt1FSccIOHSxYZmkqUHw68wUCQgDAsMyHOG7ay5HVJiSvyyP/lI/+sKUgwOxqt7cpNajjcCcS6T\n",
       "s73f4er0hKZ974zHYaLp/H/Usb/Kt98Ch/TL2tEphxUeNXUzVmKWLk23X/GXdkiu4+mDt2kkr4tm\n",
       "DlGMc6W/lwMGomnBziT1MFDb84memEPoaI3jJxBzSbSR3Qqkoxe67LFw1IU1+/XA7CSvqX4El/RN\n",
       "d8Us5CIs8PV8eP7i4pvWESU8t+RfdCwFEnQfrHGR5GqP5OQNuI5XD6rx1T6+54gStqnW+h2gGErl\n",
       "Ch4PybDvMRd9BCLxw6tikDOSUiRhvTwEa3wGtk3zOAPZY2CTZtGxFI/BqHPrxVXTLrC6ETOLh2Qq\n",
       "pPf1S3V5fAnjNK88CShbOKg7mTroLU5yxA5mEOwMWj0IGyLGfJIpFJbdrabm7s2PLT7S47f0Y3zL\n",
       "1lF3vCCRoot4y5Mo4KAn5Oa+ZGjZI2rFsIAU8eSNXSDirCrFWkSAAa6lE30unk8MK2lebyQ1i69K\n",
       "8j4yFRG12rCcXPJbcvuJHHoEeLhYFO7rzEIyIjAHySdL02hZuh8tdtyqdj6xKoisKgzF17HS0D4U\n",
       "tEIIge9zOp9inFeG4TOd7rZb7oxBMFFXNgERCuY6O/kbdg4nuENzD+MueUphpaUA6Q31kEIL1KBH\n",
       "yKI8uAeNp8rGCYyriZomF5ryPFK4iiYjiFLLxOVG+RaxO1oenC5mYwoQln648vSV5VqotjFAQdpe\n",
       "tJWhO0aRgposrA2tK7zcROmz6/hGdmoIwajlcdqkJ62wJTMKgcwPsb+iK3AzMNI5Veqr7TqVrFMU\n",
       "uCd2ELIgtq331f9g5QHsf7E6J1VZi9bITPr8LBJMNMb4wKXpxJNeOZ9vm491q5J4vG5V3SWmE9ta\n",
       "nAUPopDa6jucrtsGBXUymGWeVxAM+A30qim3MCBaTOU08r/AEVnqkDhaqE0EPcLQfq3laP4G8Y6t\n",
       "6jJxbA8AMNB6uJ3/RQ20todJYfjfqp5/btFFbEFuNZVV01mXknotSkBp5BsYFeeXZpF6FXhkqhtN\n",
       "e2iDm3PMEKcZ3rNWyjAMS1lpWKTeWwFe0CRpQVfYAvK/pW+95YoDd2v37GckoYfvhmOgOZrm+YRh\n",
       "BxlbQh6WSCsnK5/rpxNQ8bFqZXp5IXvble7rnbyraX/WN0vedrxAqMBNC4ZJVH0o69X7jNgU39f1\n",
       "tveH9cBBPN3v6kWbuE6DqnhQuG2+rR5WnJSuKN7XehqPbHT6Oeh4g6gcyA/Gtmm87DU91KxySEBA\n",
       "gauFGYoXnNPs5kbgf9npMws8tHlFr3PqKnrh6vavtn6NZs59eZtQoGDfrPqYLAqi2bKEof1LZf69\n",
       "/oGglPYPpE4Dk72NCWfYaVI2V4LXZ2+MzDhLXliHi3g14+2031lRLE7RaIXgjwY/E1GXdejE5EwJ\n",
       "J5xViJVu6Rpg5G/8LQSvdfhEjPD6eKuItc1WHCZGCJd5koyfyCtR1LpcN8XASnXZQgiqpN9CZU2W\n",
       "3Lebxqn1d9RMezYKGSK8t30NII4SPNPJYRtj3Tgy6Wu3INuuFl4pGXGlT97RvLx185pemw0jYZVy\n",
       "jyaLo862fl7E+AqQdbnkTmxJ8FEpOAv218K3fvuUr80DE56pmn8BnUhRmEX8W9ilQjk47M1ZLrco\n",
       "kXNLl6BZitDQYVjq1wlODtTYkfuuQDJp0kGTIBA5IXzhqmeKEFGpQKfWtGOUdiIN6lpxonFBH7kr\n",
       "648wQWAtx4nNXC8TIv9XiHv49I6q5iUTQBbZxQopJINBrH22myPZeawLDFVTUmVtSuI9UclUWqEU\n",
       "BpDAAyu5e0qrRvszP0omXnZ/ZErpXiKoSl8M1aNeGhLsBvbuGE/J1vwO9lwfA/LpL7UDhWbNjrdf\n",
       "jgzCxxIw8bhYH3bjlBg603PiOoLaaaAz/k+5N1aK974a6RZOufqfdHV7Bi1iKJ1uTngqj3v8GNBR\n",
       "z6k1Frro+drEZRRj1O2jDhF6R0GVP5vjMYe+fKkVYSYQLYreFxZpCMOlBxfHV0fNspuk2Yksz3lE\n",
       "uo/surWOKrs/kF6X7QVJDt7lR++YUszrEyYfEwAp+5nxdWGQOu5pwoGZBTYsTPzkLmfJlfOuRy9D\n",
       "Q14fFkY1OD+qkwFs8w1q1iVQPx4YjAP+EbnUKLcDBwtcuwTETrFSYcsyMpO8bEFzJLd/0wq6Gf1z\n",
       "bgFbCN+7s61o/xIbZN1lgTdONnCCtdrSOBCqdAgykZbmbIPrrTSwWQSE1YxTjKif3CIOn01j5vjk\n",
       "o4EGM5TolgbwoaOxvjN+uoS7bf5ZGbNqFYorKsxfvExiv/GceJ/FhZ2KakWvx8HBkZxDc5PfGe/q\n",
       "DqQ4pMk81YAko0/QIz3Reptg9gXSWpTYjNoofSznzQvre8paUIVp7QhSofll6GSFKh6SSIypPklq\n",
       "szmzw42mDSFBy54NeaZVKf8ncAtGVgu2UltpLccTx5RzfPz02s5ISfIkEWdIdKRq5inToJyLwUQV\n",
       "DQIMFsnizPTAYzHsy4f5fH1z2m019TVfTFjcRteFTqbe59tNNbCzbnpAdFseHjel8WjxZdsLndra\n",
       "4d78SEcSO95VwH5IbwwU8c6Eij+xOCNdvJlI65u6Qj8t6M0ebQjAJK6vAGFE3bI8ff7+icCDPwiG\n",
       "Axvn5mb5mhQmHZZG7NGkFYENCuNCl33hFEneuQTDC2Rq6AQda/xHqx5AuirZH2AbF4uh26NPtTGd\n",
       "oI8zGGjCWSlHsgI1W6PdibTxgyeHB2ZJpSsiu96kV5pU04zQjS7reJwJEdJjGkk+8XR6aMpsziCI\n",
       "7SXDuMwsNLKsyOHi89LcpBVyasGOayWYKfKXUT2N9uI6/JlLMHH67rBnrff+Kzg//RJMy5f5lApm\n",
       "r+CyQ1aDxYmgMlo78xxJKWfGE5OrR45yFajOtASfE53eJ69PC2aWcGVGE7FFNS0kBX9d2vltXf3W\n",
       "/fZlt7aNmbz16PgvlXycPAdy3qDl7lXjXQeCtP/scro0JGvsbNjJW1JrJn28Eeu2DyleSisr0Sn9\n",
       "m6ziP9UZ5a+MgA1IYiQr5Gvye1K8+dAdVHr/TfhcaWDbxOexI4L7cz+eiW+76DeQ/CJ0QxJ6SAOy\n",
       "cHcp8kAIRrybznALCMI2WzjCjOIjqL8Ep98f2RM+JRmKTb400znCSC/9CmC9+u0PYKSkqVPmWY6S\n",
       "rg39C+BBNuz2zjO2cNCebk+yvChvV2v9SzRBgJZ6nY6sQw1r19vyPreiu43DJ06mp0NEvrsrPZfr\n",
       "Alcznx99sMUN3VyAORiww5Bs21h7g9p+jOz8Woh35HryjLZN7juixKVzPiQ5kmvFw4P0EFbgJ+0G\n",
       "VGzJE2Jxdn7vP3sTaiWMPL1OWg1JBXAxaRoSpNSiK0FJRCHRglqW0O3WZsIcIAA3PFXGhBYl618v\n",
       "3WXwbHm4XIhgQK4G38BH3g2LT2MMWxVvOzJ71o7kA3a5OyIDg8yQQBDoc3mB+R4kDPWzows7nJNg\n",
       "v3fT7WNNS//R3/3FFA1i3GUv2dz8W/dqej07cu0alqmsGWQx5a8jqRww2dCTPnXlyGPXu/8iwqqT\n",
       "Di9s+X7cAAGdUjXXn31V47aPfJOHKOGIt/+N5ZWeizv+CMwY4rqTsXdngoXQEN0JVMzULqoSFxWL\n",
       "XNJ0m18qjU8z4UkyJ1YjUJlMeqRJRHRpblICtlH3D8PSrKxR5VFtOFrnLgk2Xh3nth9nHkeOkgiJ\n",
       "KAf1NDnEYOh2EB7S9S9Tmsw7tgNJupzHQegqXr8VEzbNC/tXnkfSDx9/lVCaBKL2l7j2Iq+x7utE\n",
       "ENktaDGNA+X30XtXjleDbePin/4K+GOc9ybRBeX32uN3D0nsK6bc5UWTeD0fFYHBTW2sWOhG2FQX\n",
       "/MjD9xwmYa3QTENae4tvowbepyxYI8zeoTRybwq8+1scmU+rQsvSqcVPyyNKhzULhGR1Kp/qRybu\n",
       "ncPSDJFN8cUnQrJuD6RE0TB9KWR4iQ6S8XBnqdp9PKdCZMzsJt79+6Z7UAHKkQOeZ/DBI2tEclWb\n",
       "6gp8IM5zQNbQEI8ewrULvforwoCCyQB6aFScICu1W3PDPkksaresrGACdlf2lFZnDXlkMQToX3xt\n",
       "Arj+0Deb7mbMNNy+0OzLPpMJ9JH9bDJyMHOUUq6MwXlExOkJdbeRdVwb0G5Q0nS2pvoCcxisNC5l\n",
       "Ebg9UZR5ONa+uTMRAqb7DjnvFQdaR/+/qi7aI8PJ7q0/Oji0BqCaoC9mxR8wQPaTmyodArCykEzF\n",
       "tAsZol0+ljnLgIfQ7Y9iAmIk5+86v1RZwkUgSwi+d891nbCNDOlOSLoocrP/dsKJkab+uO3z/AxW\n",
       "A28F73ftaHGhIQVSXZCRTfCb4F8cESFNyeAiqCIYFpEPhWJeK8S4OAwstYRcexF7iRhdvnHmkNJ7\n",
       "cIZQTZL8zWT2taFg3Y4ZTcEbw4e2r/RO5JhxYjb9tcoJW1v+nsTzqE134OLBEFsSH4lJOn3V1+MX\n",
       "deSbKUMIjKubQG92F67/38WKQNkQN3oSmtTolcKZ8oHgJpoV70Jrd4cNtNvE15p0MwHwHhY5xpsZ\n",
       "iJp4it4djdl0xGmhs6ue0zVAgxS7L23YJlnH6aHcACoXgcqjxshg2+wCw34cbMiw6smXPPZofsj5\n",
       "jXzebp8uhjc/ttZbWbfjTDlU7EwpOoymTstv/+/8vEBeZjfn17cwReU1lRspEMbja5hdEVus7Wcv\n",
       "nv2XMKMlrV4w7oZMCTtPatb9sg3Gv3m4k0GNLQ0KfMY6NE6Y6t2YqcxTudjv9+Evfi9FB0z/ViJp\n",
       "W7TzQNdzEerEIJMcQo0zrjrKm/rcFMhq0dHgbmW5FvsC5U40/gd/Ae+f37yDidhnhzAFFBYO1eGo\n",
       "JcEanct6yWAhF4ac0Ba8bWPwdv6ootE0SAtMqKLw+f6uvqzI2stBSC37ADI2kX0ifh9ERJk/C9N8\n",
       "cP6KR7gyQijz9DbJQbSHE09XfB1fRkT5rUZdk6n5k0L5Gu3JEJCRTWGVjbW4Ej3gffPu8lHQtlKP\n",
       "+lEy2RYT6UnXGjrwPCjjVrmBjYfLqK0sSCucdPhBpe3NQZgyfp4YvQYKlo5UqDnQM9CC9kMCT4d6\n",
       "IJlndDQSY3z9NQ8kjck9lRGBP4q8T4V78sMlPqULF53z9bDfRCwbuuhQdG9cAmOYHLOskJQHgwjs\n",
       "G4LbAdKQR3q2UVmpwyBgScqrYZvGW/SvrTWIFJPTBFTJilEv9CGfMYEyvxphFVVLkvsEvh/YnrtD\n",
       "qc9L2icc8rE49SbOHfYqUfjK1ZvSM3c+Iq1JnjoDn36QGOXNGMBJcxJPjnKBl/Y1FJbkOr1IpQ8L\n",
       "GtMw9HOeeCsk9VJyjDsG7WSbdlTdSZKQEQkWaPN+cTtARFpiXvRkfD5Pe3dD4V6a0z4vsbUCDv0l\n",
       "lGgsPGWAMQ9VXGfKx16k4QdcDgXSGXiFrhIxQxk55y21alz+SEVaULORgCFxuPRqjgolWQPFzE1y\n",
       "iXzpicbvRdsJ8sSzRIuXDCI6MYJLrunY2t43m+SdXiRc0SbtVONQpzvDMcZCKFgKQXE5Bgz4fzTu\n",
       "x787RgP75iWaqoSfq86R8Rjl1lG0dya6h1Yh9+jCSBG+bBXzA4XTwDui1DvGxG0YZIU2Jg8Ep153\n",
       "z96NOaAAVzuba41JteilUuD5B6EblpZ0eTh5FxBgv1Uls6l6l8JjO6zUtS69bk/qp4d0+fjwaTh4\n",
       "DyvfUw79CnY/LiH9diaEqXMvxzS/S7u0brHR7AFmGZglfmRm7ZV6hSl/p2TIvWmvqsYFyX31Savl\n",
       "vwzMRpyl82z9HTRCMnUg9P5bdFqM/4nIvUVPF0VQVTUIpJUzuM4hwYcWDWX6GS51ClsI64L/xXTL\n",
       "Gk4K2kisx3o0E/z6tdPGpMwgPeNuZA7Zqsz7XMEX2r/sc0kkAeTQ2YCmLJ1EGt7jmkGF3VhefZq/\n",
       "C+H6/fA1JekPxzEYy+B29UhBUz3dz4eVx989AlmI8AS4aU454T4xF03NNc3g6kYvFTndY5Roci3g\n",
       "iaAM92bNWSQNS8yuWbCCdZ+JpPIyYvmZuKSVMNYBezNjgz4tcAeF4JNk4oOA3ZgUfk036xkM2olI\n",
       "qjfy86HQEtmgJLGHt1KAAHMKdr2vJOfqAYAkUhKy5KcjP5RbTB+1nSIxq+T1ovVmO8IkF+S2zoYH\n",
       "pDOice7cFkKC0y3U1uceBNNQXhqrJIFM8eYqS1qAQlMVUOsLGzTEPwRL_models/Om9SG+EflHJ7yOZuyaM\n",
       "mK4M5mY5ArTrp8tqCJ8bA5idrOcDciFbUqwxFruaVx2OP/nRb1Qs4Lryz07cYtLpHswGQdh9DPjR\n",
       "Q56z6bfY5CxnVI8lxuCBPltmwQWk3ZwpnbVd3cdXOpBP4w30Uf0IOkg7r5fm1g4qQ0Y67yylP/+j\n",
       "g2U8dth8s9KSDLuHgyXkyiwNqOnJnnEbZ8dulLp8Dmdcyu5gRnCEGbiNogb5Obl/b/d9TL0ekXuL\n",
       "et3D2k6sBoH75IRNc8H4dQ6FTbI3GgoNvEYUJ5RWfyY4Cah+Opes09HC53ovwe5gUpjQAHwtRsvo\n",
       "3jqfd2iBvp8nEPSvUgrvrrE/sl56w/rdgG4ukBeCUQQGRYfbcuRIJnS/ZJi+OqAG1D5eNy9O+Oly\n",
       "JBxNCzJvGTZSfZHKkV6NQdhWcNkqs7W40cm3GXsaPkes+8ewPz9DS2GKIPHzXkam6seyBoCX66v7\n",
       "aUO3fPi9zGEixgETeGl74XOGTBW8r0N90Yg+mASBaLkN3c54vQTXNaEM+ArEpkrDFgX3gr4/UE+4\n",
       "Dd1IyvZqHhCH98QT3r9yRjpfZVg97cuLRBLm2Ibp0Ci58bT7ZW5j/YM0l2BEg5lj9tXD+p4yt2Ke\n",
       "QhMWd8htwlz1fBi9FcOzfuc38hGZv64Yqoc81IKvpAKxchNkZsGTnJ2/jM8eVLA6YiUozwW4WU0J\n",
       "worHa33HCJgy/QoOvCrdVy2MH1bpsX7duYhui7N32wBmH0w4oJG6VGgZHPEtQQkjl2z8LdWMBnAI\n",
       "Yt3AfQbsGtDdLWk8fBxIPVa1mB1aXVwRePZmH32hRUvxpXr4mh/HIur3uDVmO0upk+mZT3pA+/8v\n",
       "uTpsnSXGmKXT9ar1SeGClsAtgGihTCPdiUHd8yiD5XnXvgrSH7uCvfn7PMpJuXQehZEBtJUzI6T4\n",
       "f2JCbxa6uAUsfM0dmAvXcqC7ohQeTbXjLApdoJ21q8n3UFxdqHwCyNjz2s3VNftZG0EudVe6SYoa\n",
       "9QhKaySRAJwWy/r8lBPvg5bUfyRJIKwyjS42rYvNI7y6bDSWyVNHJmLSat3VBqP6VggUbW565bZ1\n",
       "GcgqI2LrBeq7lSJ/MD4TDd6SIx/s8hEC/5K5R60pcGyDyGznBN+SBApYtM9h3h4nm5EBGuTHzNrS\n",
       "e5ebLOGPazXgCfEihMnSFxO7zmHtZsNHSJhtldhE6ACJd0wYvZ0VlcgmsBGDg/COQdTdvpf5V6EC\n",
       "Ks2IYRNRgp1yzgiHXnO0gNDEUF41UqKmjYbgCruiculsjimadqc+17BpQ8EiWtsnmuZ8rJfsiw1K\n",
       "OQ+WYwtLz3d2t7h8sliUO9aO7Rfnafm2XLBxjVLQKv/CEzc0sVULurQcEUl2wMpzvzBzBBPicMoW\n",
       "WmsD+i7SfdYCQTKDL7z40k03CFXW2zz/3eL63rQFf1c1R0Ev/yufY7YK36tQOvfDuAthOLMoWp5m\n",
       "Vv6xUa2jZY5JcuWlgA0GMGVUcwrZRrccIfYiQk67Ds7dKhH22ZxPIi8BvMX0gUYganWIKGo5Bb7V\n",
       "A8iXzb/pRw18cF8Vr0oShSDXJeRc2o1GlYwW8mFtMlLmUaSlCl0kkQqX3hLLGA6s7bPvOnQ4Tf0l\n",
       "wG4i7UoLFuVy5rY4g3BMJMGV8E8kFg2ugw/hvT9ko/0znNLBpI234tonHs0HkXbFKfoqfhfBcEdS\n",
       "Tib1jlb23at9/RjPvDUvzqqOgtcgUmSicZOxB6hsyTzq7d7n9fSUCsLEHwDlJ5PV2opTTy+QMLbK\n",
       "xDCWiOozfep8IG3ZJFYGOPrKLaVTQW69mfY8dKFVpnTZXZFedVB9FOW2cd0HTlpIZHJJcITCJ4iQ\n",
       "dxNwMfmXH7Dbctb4sTVWRjdY2iz3zxc8Az8E97ibW2I2E/KnXKG+t8pYjxaW34jtDsnJ5CzeZfTq\n",
       "31+FH9LpZM60A262TWaiy2VXAyFsp2cVigWMQK9WUuK5ekUzJqsSh35qc7R3TwTCHgf07PIpr3hI\n",
       "FYhJ71O0aKKqHnTWqPS+n95sypR0Z8aNfg+SiRXp9NUQWBcn1KJxKmCFRRVJQqThmhKwb5P3z2bE\n",
       "yzPB1bBT7zc7W3ga5FA12dl+WhkgN9RuKC33do5/df/oHA9jO/HM/cnj+PF9H/WTkgzBUWkWN35H\n",
       "xtlKn69USMYB164OhBzwCeL3Ku/VMsiUiBw/GR5/WIZcvRtcRMRKhHQmZ1JnxYuSbnE3wswtQrdE\n",
       "k/d1JCSEZSj1wR4QQl4XdX1yWoZZi/vYG1kAb2TbE0AryfsP2nX2MXIaO6B4qaASjmWE1vvWGwQR\n",
       "zvPZUkexVjsz4+9NL7rAnxcsNOV31PzIpuRV+/weTyBaUPKZBRp0umW+kWFEwGyfKNbkgXRyBLd8\n",
       "cH61wscxYKDnHMpDMGi9Ee7YVoaNB7NjYGjA6FNbv/cTSCph9NveqZEtMfWjEu43eVQFAiohbXUj\n",
       "irhb4QhrGPE3IrqC0cgjwCGuxh3tDJ0O8YHddBhVzCwrA5IbsWh3tcz8ohJs+xw9QyOLLSrOHyI/\n",
       "cOLOMkf83uS5jyEJKJAv8UWu9LnFi3LgJO0RWdJss9HiMNqucBi6/Jdvn/u0J/JDPSsOFaegLI1g\n",
       "b+u8eWnXOZRxC9eZvyuUQ/nswWgJetparfcpW1iFfMI8tFatDIB4vCHENSMevwXuvTh9EtEwoPP7\n",
       "OnDm39IbtaaiscW3d7/OpzegyXC1Bj/NKS6+G8MfMEcGGiZIzTZnavH+pO9loNBQzsVc6Ry9FLp6\n",
       "svaF6QFdghaq2YkgWPgpkmOOBXSEYZNbmIEnZ35AN/VqiFGxgprf070bjuyUe3e/ssDxaVsqTDBk\n",
       "jc8+pYIKmR11v1YZapuCOVjRebyrbW62yaEt9q0YQ+ZZ8ONc2X/6qvv2SYHEmSq1KoU7KUSTiRXz\n",
       "QsP8fGq47HARo24PATdNkfVPx/zYIwaebUEYeHRWuugVDYjYLdLeuR7B7GAEgoRC25qT2T41OFlR\n",
       "qBlLyD93XpY/gq3MwBTY8zZ2x0khxerr+gKc5NynudFheZl/quWN8kg6RwV8/kSNaWhhm6CfsX83\n",
       "vXfhyJMui+62tQe7VyvaAbV1iT0Ffxqd5KrTF8RIEbIGZTF1dNR/qAv28NQ/qDXYZduKwS/pJtQD\n",
       "iS1i78vEI9PPPzLOPuHxkJUgSR8IRHL3VL+qy1G1tkQhfhzTNE/UiTFAkhShq3XOThPiu7pV0z2N\n",
       "FpLOIUDPwtAkAvH8IWL82cY2cBgBIvdRanlCDZ1FcUtvn92v11WmYG7TCq7HQwm3b8b3QssVYpF5\n",
       "oJCGDp2+aPiuKwtw/lFkcsckkPC2+i/zuqLTmGR+GRE+mrfKSQuKFWxzO1cAgTZu5IBP8Obrf+6o\n",
       "NEuoqWG6ftNPn7tqFxf/ZfL0UPxZARL7Eapps5xDDPl2XsGDWU01cTPBxnto2/IEqxec+C0hGn6h\n",
       "RTgqBN1+tDROo8nYaPo4T0l1cTOGUph8+Z+c39OA7GP3BC3AcnxbdHbZaVzJzPOtFScXv8WN+Jn8\n",
       "gu8SMv6Zc9hKJ++eLFhGwYAjOHrNkipMfih9BDwYbGgUxFag8hdTMcNB7ak1zZiFsoM7iXPZ7JNU\n",
       "3qScxUeeNBpjhsjU1+icu0lhSMPP2FkcA7KpwgDGBXPRVb++dJna7aMXYm5d+g1d2BcuIqR8zE/D\n",
       "vXuZ7zWhCI2cNqDpuynSOBmKotj9/+fFwMzPiE/4QDchbhYJ4Lpku1JFjML447EZaIP641G1Mlkw\n",
       "YYH3OsjdfyYgGEVkpNeb72s0T3ypcF/mvVBqgULeqvPGIMsm/w3cU8JslwcA/+GayboyrEVXuH+p\n",
       "7ES4BaUGsAxnBQykPoXP+4nxE9ufOX+d0+ngjpvBjQKMU/eoXxBNM3LJ2HM5cMGMC6MSzRMiQO8W\n",
       "uzY8J5NKFrS+sXz7YzCi37IY+yWu1+LmmutfOqms8ox3snsCiboPpCvrsrsbW2MoqDCRHvXd0/9g\n",
       "OWRGSVmcGDIN2dFsOyFik9XZAo73ID5kDfXhHKf8AgiNS7j5lpEBI/LV+CaKOfZ+QX6v4nJ9O0uI\n",
       "V8nCnOXWczCp4CGoQ0Ra45WIPJaChqimC+QmZUQ0it/Z/LqZcmlMoK2ovNmUgovUEMqgVlYNq5Fm\n",
       "cxPP2P1gHWSkNosQiBC8KkvTfVmzZeNGIu4ArOoFTAA55bY6WyUVoqLq00fjwyhJVxd1+S3obNhS\n",
       "cjy3ZG0o7g702MFa8HuciHbI5Fyfxq76OmEr2PT3FlgswbOU5f36MEN/YggGDW7NwjaTV0MjIorl\n",
       "KY4uLGF6HirGJVX+XgC5F8LJ9dXeGbdGOYx3WiCUY3uiC8kk6dsm4SntJ0MlCNgf3wue++4gnPW1\n",
       "Jj0I1YBktIRWBgvzqVRk5p44dfgfAqBRgQ6J+d2+nkaisyMP8fBpYWfpr5/2SipwLQLIZUJecuIe\n",
       "3GOs+Q9QCWqAAwfJWgd61amad+WtU4DpZMc/SvlqushmwoHs61MvWAhjtDVMVuu1Woit9mq3Lx4a\n",
       "/ipawblTZg8ykuF0T+iY3cYgn+WJqzd7hymMX3LPHP/tzfkXp3Ja3m/wGUiS/eFfiB36soJDQp97\n",
       "NVrJcL1Xf/ZNOy04BnuRgFulUegszj43lg8YNo8koNni8hsDJE6N51C9NBUf+/WMwoygUGODd4nG\n",
       "qkzpOtRsfsJ51Amwo58oXPCtorVefzIH4L0KKHMboUBMrAlia0an4ecXLY8Scm6Mm14GkAfekijx\n",
       "GnjSmQO16/y8B2bbQlf2wnSDHa+0Hd3iACv+3bBJWV8IW6jIAxDjepZ8YO3tzKfITqgRJ/mzKppr\n",
       "brTTU91EemHuiwFf14t6BuTr+flecUljvFS0RS7A0bdElKjtOeAQhW0YF1wwx7lWP3wa8K+jVDjz\n",
       "4cE1j7WVJZrUfpccJPyDwOEB8nz/2zbUMrPwsdS4PXtYld5nQv8EfeOfJCuo/oJ/U9noQXq6xpOQ\n",
       "3Lhwh+Jf0fPUTKZt94/oFbU3Uq0t1zkHUsxCwOxSabc65ZWK7GGt0eO0StURtmkhq7WOtY7ZhWbO\n",
       "IHUoQRCj/rwQDfgFfJquQLxx390A7aVZH97YkJk9unc5O2CTxLt9ZcKdeDXzeSNkGNfrvUAXRhSf\n",
       "JezQL2x9/cgMvGu0uO/+aSH/OcKRXpuLCnFmUiNkx5mTGPpLkZxxpZvVcwUqy7di0fsO/SJyhaBT\n",
       "ByGfrpbliHn+PWkNpXI89ibpZmzcr7Y7HAMgqKzElDePl50wWudvr6HSZNB35zQaL8JqvIGPLQeS\n",
       "uVr9RZgKcyPucM/S86xqJOVl/BLzA2xn7DSGTf/S1P9OhuwHie/wnCwCZAdkkpd8REJCGmuMuZ6K\n",
       "hFVVPWvvujStywW/ydV6dlqB9YdrHxqD+Xzmv/8KjDHWmCusTHxoNy+y8OuMjIxl5+XZoTZ2KIZZ\n",
       "3P3zpYKCgeRXE/Wddhuc3IYWUp6z3d9Wzp5x9DPTQUk/UV+2VSURNRFT7qyPvaeG7vaZM52+qD0g\n",
       "ppZoavKf+/kB06YAKgiCoQ2t6fjiddTOtOPAsjPYLkPm/QcC/9fk0jpmrjah64fTCUF8jAPNSTw6\n",
       "9umhLth6ATPwd+5R7e6zAWsAAuBiDUSO4vKfarZgtYjM2OD46byFOEiTfqLytMT6sazycfS3CjDu\n",
       "zbfSAvup/S0Cw7HOk0K1kKgVyDPyB4fX06kDtmgCsPTDXErNYUNDyX+BGkxnhozoE/yhAyTiD78/\n",
       "SAbTG8I4e3SSdVvV/sY+eWeIZsbpTpEqA3tsDOvpZ8ldilVXnaSRoUK8RaPQqvifxBZc+hZh+ggk\n",
       "MRZW/a8eX7vZ/BldOzrnaE9VyeiEnQYtRDta+t1FeLilIqjxSIO00H59xf/P70uCvHYo9GNj8TYF\n",
       "Wb0e8CiQHRQKztkZwwNgKmgNJNVyYakfuUjX+q1Dxr9uGWB9iwkt4JPVpL/1E87GlnyWi/hu1WeL\n",
       "OE5x3HBardSWxr7ikhlT/JMY43kQxvq10h1pJNHFpD0pGNcI9YmJAxvJr08aQGlQ8ZTLcwYOyKvN\n",
       "KoXckZWiCyUD2Ayvh6v4v8jsPMsyeKMONV1k2r+nDgRCg6kMNmx1BL5IzGinzHC4oFCWkZmFu4LT\n",
       "eJj0FEGhH3GtiBkum6gXPDJcL9jYiLUM0T0awODKXPaQ57vxNX4j4aB/GEo5CpKyLWNr6Anp97O0\n",
       "VaSLhATfkm03LOvCUv3rS0bIccbUaNnz4CgPfxuFyQ9ubyH566c5Nu67gL0131AbZszfCRzF/khv\n",
       "aWuQ7ewFq3EuCiEQZ780XTbc0nT9N/RXXiYXoNj8yzc9hn7jNy345WS4Jbfc/5SNmCwWBY9HQWLT\n",
       "0fodTS1QozscbmybExHnW+pxzvNiAp3s3UGMqr/cO/w7fq4DpfzlteyG2p2j0RgfHjHcIodYNWm9\n",
       "bB/U2+kIbWlgU5lnazZwOY0Hcv1/5O/N/JeoORj7r9Xd3QIbWu6ZrD3MlG3mGO2F7SyLsMCHhhZ0\n",
       "JZ7wJZk2TY6Z+IZYDa8c3fAJbvoc+oMnh7JUUGczVmWVU8emNlNvBVNtP22oZqNDC/DxNiQFITIp\n",
       "8Y6PJRPnxXuQwOVZ9ArDAgsoKiZaAwrxf9FGejpYba7T7rEI7e9i5ZuRH+0hUpWnuM9D1wE2M26a\n",
       "A1+GrIp5obwstMDnoi4XIapYJa0yTRvRCUToQujvc1j2Cpk73Q1cIJnEf/AQO+Mox+1xsGSUIi+Q\n",
       "BhzNIJ7RiX1i+/nUg6zUB4bKJ5yZ53Bu5lFH+lcKicHorb2SRrwETmbdX/bi4/+VHdim4GABBAWD\n",
       "54Lxuis+ANs7FqqF/bNha+opkniq4kNrWE8uciS8ElU1UebQfts7daFLGQr12/sVxin6hulcgi0x\n",
       "FUNq4zPy92PyAHCLtiPKfFCTWJo3kkEvdG5tXyukt+qMKjxm4x6uDGxBDPkWw9KdZAB0ySwpSMog\n",
       "ZgnrhlpIgUNqAgVLv2ZgIhyGJvGnW+hP7TmRmE7p0KLZsJ8YME+Wkgn3rTthJ88I/AOMIC9PS+QN\n",
       "J5QLADtfDOth7lOqmo1anULkGSTQpHxs81yPb8WWscevyqF0Xi/BAYHZndOj4DRzfDPwTBncAjvY\n",
       "UmNpSOQ5uuiQALHQq3kJI6+LWpYRPURIoHfridKIJrwClpKSkqBAs5S1zeEmI5qc3Ok6suLmLDt6\n",
       "ipBhDBzZb0InHOsoP4a34w/PSMZykEA738/nZnURNjOWdXOAQUTsA6ttjf2Mxi1LA12TbFt96mSv\n",
       "OkwRTeoANdV8/XcJOL8jcWHIBawlKNgIHiBXUfYanc+FR9NIzL8IeCpCU3c6zdJ6ZA/hVTrgKoFf\n",
       "akzOl79U8pTqde1LKXvYnHeQyR7v3o/Wq6uZTY8fusJU3amUHlxJKDAKo44lvDeThanb5nb6Zfxi\n",
       "JrdEY4cMRgwZ7kCvBp/yqyn5cQH51ZPRi870VjQ76/ZltXrgaOjFYklMD82cBWjf3S+D1aXF7OiX\n",
       "NFWTKeRZx0qxUnvDN9KJtGCxeZubnqLHJEWn7E876nAgWFcPxoQMpWfXpVQmUk0IfeCtfOCCgNpW\n",
       "VwQcr6nASH7JrXG5jMlPzDVL4Rgok9klSur8wz4Zlel0u8oo/w7Gjad/CL0oNxiVM2QcebMjIJvA\n",
       "U6zxR8fe2nkRGvin6xEAhAI0PXKa5J9YbF9ytsmMcMi/wT8TPh60U9zmfsP5uYCLO1ef9VN3tKk9\n",
       "F+BXFa8QFqqhxbOPiLZIz/cw+OBDL45pOoZNhbkRekGe+X5Wf2iWUY0SN+M0Ax4J1OkxfEH/6g+0\n",
       "+D2GmjL1ABLaLhiwHmC9JaDukYBNzD7buW9DTkK9pfkHOZZCjL86iRlMW+8i5hy8rcTjvKIo4rdB\n",
       "vvLRF+o8D0kbKdAy8bjZmI7yKvpwijk78TUcyAPG3YJaksSrkV8Y/zHAIUqnFJ998DpjoxDQ2D2s\n",
       "jseig7HfUISUsQQ7OPrnGHYdYs36ifnhVIiy1ulIPIuqqig3t/+7kAHchNw2eMHydf3aDth5vfdk\n",
       "CC+x2WipKS5BGfeRXZA59OwQ/NrQu5laPB3D4yp8zjlTMH/dZn/nuqbwKmAoD6xacYmKuXF834nJ\n",
       "Gat4QblSJ3Dzu5UifU2tM2fiDnvdfbSTmnzYyR4K+GWoqeCC8Bau2tXhrQsv2KOKo5KVFkqYsPzW\n",
       "kTLfjf3j9BqIMuT5WsGl8+Nw/qoKgKJsK3wvA7UaMQr9gN2jKHWge5YKVDjCTshrl4P0Eb2g1aps\n",
       "vIlefzH2ypThdTyJv/poUSAyXdtuDmbjNLiArGbFnH9FxyomGkodkcPnIQL7fBihLmpHLeWyqj5p\n",
       "CcSuAmm8FDBvzuWdrkBFVz6lnED3obmR1iXsc4Kz56oosos57LC0Zx659Ovkw65V2B4BiWKfye8R\n",
       "IngWZFbsT/wIJ6D6xHfkxKKWE1YgnesVmzKVr5uTft6H7k6y5RDaM/4acsLP8IZudOc8mQuR4pXH\n",
       "mckUJ/rS6d7BTNUikgscSVClecT+IzTRsW1VUX2kxrQDUir1GgeGfGKnKRUYZCUQycjRt0ypM+MP\n",
       "zh2ICWj90HE348N0RR1mOfTLGNpUJFgG6YCccGq5X2VRPCr2lp/IQ/nsjmdcXsP8foHKp94WY04G\n",
       "LlFBXZzmGD0yVE1twUSyWzL4SGpjQcqIxuZBeg/0Tzspx95mXDUyCr2zdCx1yGeb4hg2jOJCQpj6\n",
       "h8XCUDlglbyNTYaRG40xE1VI1C6YrEcezY9bL/w4w118DP0RJFDaoBwjprvRbQXu0RzaPAEnVxDf\n",
       "z6q1ydHxhRlKBtTo1mSzH6+ubk3Kgg+wS4LtRXSaqusc8HmAcs+NsALBX0RdiSViTYu8Y7CWc0JY\n",
       "MHozW5upiGfEafJHbXD95VdLdlxNIlmTBpOKFg4XCV2gEEMHU24ZtDAI+O/0w14y4fsr687LU/bX\n",
       "T0ut3gJg2RzaSfnul6JWsJyY0yFmQ7biQCu9h3LoPIuwSRTsN6AnukeX0ePQ1f7FI+z1VD8njaPE\n",
       "/XBs8lfSYjkMQ3zuW/D2OJB5J6/HaC+S8L6fU8vhWWJCm3fFaYOFa+kzePWD4jgQYMJioaTLQX1S\n",
       "npVsI+8pS658uHm0TpEfeH6J3HtRGIbo5YbGxN0sJxj2/+b6TCNgyMRYME3y561tQDY9d99VN9R6\n",
       "GpwxU4bm3K5Ivn3ecVyFVhcOR9ax+vFxKCAl/Gp7XwJZRFnI1GPP3kmVP5KZw4I0ny+xJkl9FSqd\n",
       "IQvg8kMvMU/vZ1Maln8i3M3yU6mGRXWDs9loqxQh0rABkA5vk5zoQFzDDA4dks4g7aqHGHiDE6Tc\n",
       "he98Rrvd8pPxr7AY0o/Fck+tl5/Z0evk+B0mI1L48iwTgfo1d6x9kVlMEtkGZgpZnUdTEcf0d/HT\n",
       "qTUfeIAULl8htjjkhN6CZyf2bnR/pTiDlNkSYIifJpXTZHLHpvtL5pxzcGDRBSgqsqDlZUxw/es1\n",
       "U0DjGsz5ALy7fvn3uu1KX3Ajed1zsPR97O5roBKYvhReYR2NtxxIudkrhUOkmogY/CxYJDJyNnMk\n",
       "Fx7CBFTnO9VOwFX+dJngY9xG/KAOi4dKHp6BEObKHc818ZAD0qVKXVGYQWfPXs3ot+Rxr2SxoajJ\n",
       "UjxezXGT432IjcdCLsZJC44/+dms+htSotXcaU7hQ4L1S9CwLZtx7iSGJhpUZVa18rV+qnARUL93\n",
       "pkfXKEVU63t0bIU+rBNG9OXcwPWNPn3ZsOpx4hqmnvoAhMWnvBHZwMOq5g71fXj4OZGilGSGhE+J\n",
       "tCmX5EIqD+fa7C3njHAe41+Gga68naeRRTN81KyJ01m4/4V7OXv1758vVx86VwRey0jRdm/eZWeG\n",
       "X4l8UMglPYRu5cyeO9QDtrmIQLTin/y2tn513s8+5M6RlAjuh+mbU6Mxcq5cw3sx5IIIWwqZGpOi\n",
       "t3tAbUvgkGt66HYxYX8ZET2Qg0PAd+QgygeqXuf9ylfnKf5lxiBlbqN68yB2/Zqy43qxvlx/5qaq\n",
       "BKDYulNA6cgQGYtt2DDk+fO4dTax8/8/jkO26um1V42ta9xcxBwNVLqtUw8xyr+9AM02YQJtqdyL\n",
       "AH9B9hmdrR9GKJqAvpOGymdHP8mSNLgDs4nkfW9XPD30otQpLoZG11v9VLR9ejtbl7NiJA9f/zAw\n",
       "V/4rg1HKrJJseCxaUHw4Kj7M8IZg0nfXi0AYq3Dwv0AdqeJLw5+DJlCZtS0+P2S4Lgplw0x70Kh2\n",
       "3DFeTgpYRvA9u9GTVvwYCz+NscPK2tdqddNF0Crm2eol6VZFLqTsXtS1DOZGlz/fpR+pHycujLDq\n",
       "XTLOpYvIoUsk/noMiVcSh70OKJOEDcGXN2D979jKQWiosyX0K/T39E2oEv8ZjjCPswEmWi+4Q2To\n",
       "9ggltOTbUTdqoVfVBY+f2q6PrGjGlmSQ6GCwpWir3WIOqKhG2sCuRQbSFEtMUqiFDuCNtLMssTRx\n",
       "R3mmU3M9m13zkQtd1BKa10jG2JbrsW2ncjADj4AZQC3toKiXpR96CEa1SGPQs4lxr87CUi9eSU+/\n",
       "d0GjgHMAAPpMUDxLLkMt7nm0Vsex469yn+TbPXHJE7c4C2MR/OvmV3397bwo1KTSRmtNya4r5/bm\n",
       "9I5hiWFQFqidIVRjCzlH4sGaj0W9Lqy23TTZjzg5yhkQol8+PzXAXZo1A50Lt8JUWeJ8knNf/+93\n",
       "1fblSIxkGOBScH3zv/7UxoYKHTw+W1wevtr18CvO00nU2VfSEgmGxNkF6khfxe+/+EvvIjt+foxA\n",
       "df7dHOT9lI8/n8ovfgAMcIvtDrDie4UvRBaNBXWZsfKrxztSwDiLrItZ0lORsQoRqKESyv+TyeXv\n",
       "6YSTcdicXwkROhdrZUJYBgg2aaxJGpz8O7XWPQubKcVRsZfSZGllrycnLsguffW6GKG0TxNHrgeB\n",
       "WF9xkgkb2uEnhS5plj7F69+zkrvueKTlWzImh+gqmWuLaogWRbYXDEq1zy9sBtCLaCoRam5RtpC0\n",
       "8gx6jpUMqmoy8JmrxgoeaWAVUg9YEfRfPS1Y1dvEmhSsWOBmsc25hyGG1KYQ7XGHMJL7lVlIJJJc\n",
       "Wsc8d0MPuRnAxvPMZTiYYeyAq/x0NS9dSHDXvMI1TeZXeO5aFiOULvrjagf3RQJpdSS4s31v6OJS\n",
       "ov9Fw8XkEOxg6lAeDhs3O385yQSlObAQJZqc5JPIhKEBMr8K8uu+FDSSXuowZMJxXFoZ5fXvDx/N\n",
       "W/1KB3J/oImQQWZe0UpciyICeRVrYbC5nX+mqJP8dtkN+rLZLDo93MutfPYfQo/Wixjl+/aYEjbg\n",
       "bC2B0iOPFnsmregYxrY3vhXAmwi7cqoAxV9z8LGcfZKrTt6Js5ZINHGCunJRDzPPFeGBIC1vnJP9\n",
       "4uRX0r3eJiyv4eDgiJyxAk4qDNdJhGwPyoH4UIgpzrj6MiY+VdWXURGVom+r61/EH2u23stSmxnl\n",
       "hrTO3SJNyNrH4v0kH4Oa/q1McrZ/DtxXu2HpSQRFJlWa1fxxqXDYlzuyR5DCFLduwkXK5HCugNb2\n",
       "D/0EtYPeDnqfTR7rl67Yz0ysEcDqm+3/owNnNVCnO0LFr6YYJ45Ierh1cy2ncSPqSQrsNLe8ZzyM\n",
       "w0CIxtBfI5JJQKnOZhwiPCATTyyW/TCaBHGkqtdHw63F1QlkTN0oolQeUVuqcteeu70OUW974k+u\n",
       "XrFPD+4bPu720geeMNP/Ke8cZdtq3cK36n1vlcGln8y9o5St56DemBKJSbobTiDrE31UvcZFL8W6\n",
       "SadxE+5g+drtYr8JSd90PxkEzeW0gc2J1CPUO4itQW69wEvmfV2KEQ8+DqNkd1+cIiMfLDHzZnA2\n",
       "KsD6sMv8uPUrpMGa9gHamvjsv2o9wLKSXOu0E2ZpZ1G+CB+XVvlfFE+35twB1JWVlakT8F7zcZ2r\n",
       "4hWcL3lEF0rpjNV87LnpfiKSgz9/y1YzPuehPp8grJFPW7dX6R7ajdqTKbq4m8F12m3F/GwnBnnK\n",
       "9YVP+HOfj5FgsAIEApu1sGLPJeRWFcXlfQ7aTD8+XHREw+WXtcEYMuEsLWuZ533Gm3VFhiEBLiRG\n",
       "nXNzdtdnjn/pngvZ2gQjIkUcvjguMN6NvX1bD7KQWO0QJm0kzQsXtYfmLBK7/+ZMx8K/aE52EBNC\n",
       "+PR2anf8mmZH07tuUfDVksT6N0wL1yN7JHf+YBFzIAw6WlMCpSyRkF9Z+CBN4p8+/noDVilqlJC4\n",
       "EzH4Y2Z+tebvwa9Z2Dr5jotqY4eRlff8KPgUuy8aCpkCbLIPB5WQp2OTyAGTzpt4NUZ+nSPChGSg\n",
       "CTaMoH4UJWO18BOzKZ3nUD/WRdlsrW7B3zjooa+pZbHlddxqzDOmf+0rWfeFw3LIEup3iiPEUKC5\n",
       "+pMsZNOxvy6TmGF7s2PdynCNXlupc9lpfNRhlgvYtFSLNBK5ml1M/dKUFOc56V7Ujft1gOfN/EJL\n",
       "w/Ih/uVycQ21f3Bc/ZIYEemBw0u5ynJ0XRaWXEfemmxSVC/3Fs5DW+R/NdRAGDI5ha75xsAjzYHU\n",
       "CLH7n73CDARtJ3SrP1dnU3w4TZ+DftgNmQxMCJh7aAkIq+Ugq+sv/0eybRHZg47XhI7hpghswmzd\n",
       "J/nzkYh4+yP27+zS35tS5uwSG353JNojwv0c/lILUVhX3ZgYi4NNe6f7Y2RqoWuQsn0eXC3bWlPL\n",
       "yuZjLNhcz70fXHTIROLd7JYjIc3Tcwr6bsZc6D/K1FLyMncHfwaEv2CYq8cnnASLdOn+wSvhDjZV\n",
       "zz/451KE0myjweRB2IQKiM9egACMYL4vOrwamiLwouUbYZKzL2NkJ4aMO51gnzUfWagLWAF9TwIq\n",
       "+BRf8C9oqBQr1JD5D/KtaOI3fX9NVx/DrJirkW0HCXq8TGCaxRG2+/HchhpTQOPg9B8MRZv6jmun\n",
       "IvW0Opogc7/keWHAZAxroeTKH59dLYfwdYksM7u2HQEck9rMc84dkLSxY4jQ2JA5g5QXk57767ty\n",
       "opHvMDaUFPlMbF4ByeDkZSDCbPHM2ogzOGwUJ9ZVpBxy1DDPP6xbw3GmPLubyGF6hqfmkBd7QA8Z\n",
       "5ucnitbNTQc+dfvgW2yAZLVfSS6ROkRUTply/A2+PGGPsGTMIls6sKD+6/kS7nFQ7EOulwNI8AAK\n",
       "q9GOHJH/CjGuWDd6U1fpfaBFTZ5WUmvolmWmWI82Nin7YmhdfOhZX8kuTA8GT/E9uyurzP8yOhbE\n",
       "xopi5CCx4sWGtdpf4UylRhxfaCjK4lgYR4jGWdVpuo82Jkmu8atL14zG8d5pJoMzle5aKrGAEKj9\n",
       "lmOKi3+ybE4LMolOv+x0guLrJxj5MnpgXyAOeJb0T/vD0/MRkH2bhjqp2KmZzyinirqoFYKeue9C\n",
       "m3WmyksO4s7z2adenk01nYyWoi+X3BsJ9ZrwlJxNTJ9HiIHcKasKAg+RkO9gFdWdvl1I1g2ZD/cI\n",
       "11HMx0by5clv1Hs/Rk3D1eNHdaOk8xAwqN0sqihEMyFesh0WQ4avyoAd6qKPRsOD0eP93E1bPqgx\n",
       "ylPFEArfW7eK/2jJ0aJZr7jOFlwKvOlGOSi8AJfiVOG0YFAptEHCqNUrU+mHob9XFtcQBBBBoCOn\n",
       "jhrk7PIm5pIOPxJhG57zxrcMtSEXTpS9gXAyg5YbykJgSinoo6Mtk58b5iNNw7XzBpfXWvz1sllp\n",
       "k6kZKzgxsxVlmrotddt0VShrFKB6trYDRzWwMQAU9gv/GNwZQYv3O5RcBbnuzKwjaGSf0St4hb+v\n",
       "AWGW6zoDDO2zB0dRxP4AzCjcWv2QrizhhFZMJzlHjprQil/sOg4g1KUP69TxCuRgXrql0AJlyYW1\n",
       "0BC1LnmpzgVuYpFoTvOjyag5wK1uRNRpAGtu8OAmtDBmy80PDKhJBd36QQfgzjyB/7L5FHN9cD67\n",
       "ZH46FsCUyLjHSrq4I8RT6Dgt5Pu8Vsjyjc9iddYpnH/+Cl0H7RvDnTNk39P7jaN6LYOJcSJbuXoZ\n",
       "vAp1UjeztvwnFqf5MR8u+B7B6SM/x3iOJDUdehlzs9maO+U9KPf3E5AYB1G4sRDdMMU5LqDsJO15\n",
       "OR8AnO7BJlth4pT61OIv34zuc9jSTp0UHYzNPw1UmK7pXY0YCsPSFFOH2okTq8B5E6nvWdC65Qsu\n",
       "CttVlTcyPZ1z8jsJqBmh+H2HAM7nlbhWVTiT3dVpJcqDGyiBp37HGHAsb4KeACvA+qz4vT4Ml3B/\n",
       "Fv4UCMkBu35JK3+hpMIQMXh45p6ndyPVehZxxi3fBa411zd/7oTjoMW0jTQEeVfVc0ZKY73xs0hd\n",
       "GxFsH/JB9T0qo7hE9x6jAXq3IPJTlz+WEbQqV2p6Cv99jJ8OQ8PjkBKY7CB3UE4jT0u+PIG54Ssq\n",
       "Xj8Xt/drKsHRaNI34y+amHdgTBEoXiKYVpBEHLaIZhqsoZvxepP5+QMYQDdOwH11r8hfNL6TjuNF\n",
       "6nhUjlKSMf5sK2awy5M16zspvbZunTUAZ73JXn8J4RFX4DlQwC1JDb9t2t08FEph/Y9tqIpiZgZP\n",
       "y8q2zvn/ZZ1v+2dIgGp+7J81YYWO7VraeioU4zM1j33pGx34MwDvDAXOesp+ka9rPxBnZLiinOWd\n",
       "c3JY1mhCoTS0p1swB6yiPuRzWEbhM4jDVxBzndRKbjCUWatjNTKsXBEFINH7ZmS9c+ESIvlQpBPN\n",
       "0trgWj2QbsIdAjKG5jqVZVZZe6+gB3Kg+MJqVTq/jTAo8jiVTvquAMYiS58MoCJQ4P7TFgZ0iAkx\n",
       "LbMFznx19+jiWbSq46qu3IzkZ/hLremJWcXr+fDV2wffzNIoGpdmmbp1A+fgS8YXDeV497ANoyZ0\n",
       "6ATCZgj0Oz9pfZHGuWmBwdf5pcDlEkgUr3wt5US6dnGERvvGQTAHq+HS7ReHGJe1qr0IRbCmnl9N\n",
       "6U8eS2EM2Xlt9Qtkt6Z0YdUBg4jeghYfHV9ZMMJRteM0VTdECEhsZXlQtfDbItk8C5a5xR7kChJx\n",
       "rSnqyOZbWloIymDq5g+kcFfYIt60x0RCwStJrn8uhPJk5Ngo3qnhFybAshmA4xYGe+GXDxCP26Bq\n",
       "dzVb4ucLat4jtofgfDCjxpM8kk6gyhaQFUun9SZJXVcA8ksLSzHsBrvQWXRnZwVPf8q5eTFvM0HK\n",
       "iNJyYATTDLu387AaM0ZCZxyuC19lxfCHi+3h5Lr7NESn+DtCjQuIWk5F96Gpx2C7GG4HCl3CTpSx\n",
       "tm9YSX9UVdsmTgxmCNESv0i8n+7/jnuA1L/0h/occP9/naqoE4uUP1uqCd6dx62MFryvHZsMUyl1\n",
       "Kw5a7cFkHeaWawFTdKyE22bjNdNZ4+2LzvWnB5foot9DSgFE6hJFZZmO0CHLNzMT20aQter0xWJU\n",
       "S38IfASdNdXa22zxUAgmEnlW2hLN1XRXuefSqD70Qtnc1YOylrUAayLA+J6O0bQuWQABeU5x59D3\n",
       "mIyKITsvWqV5l3BoOufa/7hNIuySOM5sOlC8QQ6MyTGAsRGGnKvU4YHPEQ0seqEq4nF7JdNGDPOC\n",
       "x3nsr3HgcIev4InSwVdsf38mGUBo5a5KZSwdf7+mnOxoL52l8rqXF3WIPfODzDoVrWzclCccts8g\n",
       "pDuNJ6Fes0u40ksEUSEkd3yDN56s36w6/bCAVX4vCJpNyYSMkSzhW7ZMDJxGy3Zk7wRq/WFIeY9x\n",
       "RSEhYEiFC8Y/p0aSJdHiKuea/doWc32vplJ5Z3IRRigMxHdp9ieYzfjpRKdoho/+pex2ajt10HaX\n",
       "BcVnZlGKPh3+vIzVeRLSlxRlF27kk8tnQRptc1WgIHvtQ+d4y9Ps6/dpn60hgXYd/TpllcwvW8Bh\n",
       "8mWfBmFyNE8GmZH/7IpR7pZi+JbOPrDVQMDg/dVOycdOPZM6Q6QCRBSAWTJqQy7nosKY8k1uZhOS\n",
       "N7fr9gcqJb/Hexs3cAUmdKT6x0bMGxbUHA+NQeHvF/c7e9jQSpYC7m4AzQ7maRFSQDan5k008ZvQ\n",
       "EK763jc7LlG/ED4TpARXnXOD0Qono21ugEbi/2akD/4wZ3wUjSeu3HvqMw4xqhhunl4szvWspu62\n",
       "SnhPtA5ydkF9Kx69zydwqPMBNgqQFvZwTEozJLtjt9Tbbx/ZkBYtkpU3bGOusFoFNZM+KpE9KAcL\n",
       "6tRRbiKOhjcPUZ2fFmTdBYdUa1aj9WQD1Vq85n32vQ9Njze7vzUazbCp71wVMxi3dLO1Uft+z2OH\n",
       "iy0NVh06Lg2Sc2Y4mIoLTY26125MAiEwiXhpYoT4O76A9GB3lYVjdQJklBcs2zKfH0pQ81oHMq06\n",
       "DW6PT4q7fgeNGPNXpVeQDWl0cXFqPFD/TdDd1tGl2r1fkqFsTjJDgwrxZ7UASyapfB2K63uvMS+q\n",
       "5n3HcRSxGLrw/u/w/OACrTF8yjB/GdVIGKf3DU1IH011ckCP+TVmXi0ap/jyZMd+baQ8H/QG5uVA\n",
       "HdjFtQgoA/xUyZBfo2pFWNM4Pmo5xC1pKLehAlH7JXT+5uv7KtNkMBpWycXYhNAa6t1DE/WedfeE\n",
       "GDk+hQA++UCwaC6g4C9my5d1yg3C+Fb8xVoMd3696W7nLJn3q8K7qxJLAT/OQy7ybwFKTkz1zwww\n",
       "2dYH+K+D2PyzGYfCwvh+eIaKX9vVsTBbRVqie0M+p48o4nGOoWeufzlrw/yWUVT2zSIKk+0A8+Jd\n",
       "X3e3gn8yCjMP2dIOLuEbTHzQEXiR5/0rFyOeEbJWlTymOKPSTjxuhsAJzHB2BV+nitS4ruAHHQ36\n",
       "z3FiKpw9zfCs5BhO4Go3UasuaN9Hd2wHnQ0A/LyaAEEgjLk0hy425Jol5OugVwHJ0IKh3iI9xeq6\n",
       "eN3zb+p2kq8b9uGOjrC6uMGyVPCQZAYCKAB0uqd3N8eDeyTu2rLadmc8UuLriEg/i03M8XwLAJFa\n",
       "0q3ufEw04fwp56bCsdCbTzrRFtM/eWioui0hKqTYZRWH3d22sAdWuNGHICoOeWkPPsVKm6fVp86s\n",
       "PMD7il8Sm62pPJ8ml28C1kJok2aW8MBL/1kUpMPH77lQBEYDPpaIoKUNDhJMp3p60jMLnOWO7IRk\n",
       "+/5Tf7JLDDHTvtnjfzcBMpZokgpK2AD4F2b/0Vy56qIwhiPJGZyKKqLSq+Y7zt/Ey30hUWOAndVW\n",
       "Ttmt3J3YEDTyQr1n7ZAfVTYUsyotM1gb+IL3tYOBe1vGKVLhhfOfIzs3jkB2FUF9nyV1XOaZs1yO\n",
       "VIm9CKq55sTAvAq9J2283fsoO2kTQYEOenxWn7CPRBLeYjVxBnTYDQJesjwao09WW9oJtV/Mc1cY\n",
       "XBoUhydDlhYDMSmg1XEHuv+y1v0vN3C3asNh0Ebt8a1CJssPPlVtBNZ9sp1u5sAKO+1seJSJXVfX\n",
       "+9fmN56dPkxuL2Btw/HJsvBCawhnewuOuILZHvumrML1PFKaP8Iei7N3XXGQ0TZGZcN4l2+8wihb\n",
       "pINYo6kcDAELLIlNXJiCGTi14aMCqSAXLeZMEB2oUXvl0/vY35MTj313PbSG1Obpnp/Mt+Tz6LAy\n",
       "6na60OsQDKDim7x3TkHhdw8xROH6yXs876C3I6gje006CjWtxSzYh86mn73JcZAciafL8kQ0HN6j\n",
       "SQrp71TaubtvxWQ1Nfp3b0lsFlUB8Q76kelE9FTsAn79cjFB4Ofl4YNt0lzPsI/zal2Pl768kY/s\n",
       "cVH3VHutYRf8qgcuCgxRTXiYav624EqxsVs0UR+vqS1WgYBNhuROzL2/tQQCm0kedNAx+5/LNq82\n",
       "T931F0nXpzn6gl+yNb7w8o+KNQP5ewhFK3StIdQDv3s/JqPKjwSF5PO28ZyBS7UGHTqghxse9PMu\n",
       "Ihnk+jIFFYd0tkD3sWK0rWm6p1XRerjKDAvMq19bUE8Hn54SjPCCxMGGW59dRd+OmWnQYYBvd+0y\n",
       "NsFVNYgt6ouN8c+gTHS/3awo4wVPrMP+gRCj2Ps3LkCw0Y7531MOGZ7WRwI3xUgKeNzrkb1GOKAa\n",
       "g1zMyzhYmojt5Bf4oriNEpgP6dN0/TC8iJNwUgfZlHpSvNtU2xtOauo5LTBFcF/+0hJ772DoJGik\n",
       "yN2cMhKQehhTkv5paxjoG2soYHvpvPQGkr2SWGDWnnBr5kN+UxhkOtm3WHLmLeJy5ApofdtoAExZ\n",
       "vDrhd/UXLi3NfwOEWEapIJ7rgeQCrTj3Urcfl7y4Xx6jB8V1u7HNSMHVSxjfZl13d/MRcQ6NvNJl\n",
       "EQ0CwZV6o9aSgAJIZjA/ToWk/DnC22gJU/+xNKP3/PqoeXGWu4X2foBrK3sVgkZI6huu+TDg7/SB\n",
       "H1jog1SomDySq4s9UzR7GnMDnTA+YoGNObYqfr2r8hp9/8yMG/++bXvD2C9YnAVTd9l6OuiHma5R\n",
       "VFaHk3OTkAHc/vhb805tID4hFdLhcwo7C+th46CN5P43TcuVsvFKtjZfaLjris+SMjyt1frZvd2O\n",
       "JFbdIJuLAcQjzu9JjGTt07pQnnZTuIWVRfkg24zdjSrV95YE1E+tSYXWE4b9kTj1XcZe+LQiqKbm\n",
       "O3/+iKyxnvcG24Z8xZup6GGtGURreSbMrj6toK1dfwVORBTht0p0Ay9Qk19rmQONOT6fDMkhYgWe\n",
       "15tccBD4EWY5Z+UW7L/W7eXLXHWcGuWIMkzB7gfRLXBhHyaAGh9ahAlPG5Nvlv//J0FS6HQHUT1t\n",
       "gmEdpFts9+0Do2U/54R0VWSxyf5Roz8Ni4eCR/EtvYsdoNmsg8GmpxswpMhGWYN5GFGhjQIuzz+B\n",
       "+mVbMmn9O7cbVJxrdjIcHro+uLs+su3P4ctD4cNvo8TK2srPEnisHtvx8lXsGdGWtcUqtzInC3lx\n",
       "g25x/csSlYSufgGlDguabYZSvNGKrYxB/XskaId2yg9rJgvTGU36zgw2W9uDCo3KKhKOLh+iC9DC\n",
       "jcJg7v3ZZ5qbAXrdZMzDcYy51BMTRsrXDS8WhRJ/Qz4tcxRuBiic+u6ImLPHvazyuGFw7Xfc1UEk\n",
       "5YAJ9uc3maHZtMH2DxeQnhR5yREN/5AjncvkA3IapUSD6lJbD9FcgIk3EUVI8a3z79KRyEnFpQJl\n",
       "K0kb/jQOeUeRfdzG8jo3iMwLKU6pOnpcrpyOQISC4eEABAgvB/vFtuRlNMWPoJeMlcHOf1xR+BVs\n",
       "eyv21X3vKdzVoCPohjXP4Z9eOPxmRhvzeUxthdtAoF9BrCihqHU8ahhztF0gPLlbdfvi0D6RcrNh\n",
       "0bRTBeyYxTBP9R34tpcj+ECSQjWrtjOeUqb9Gando5HrKIcX5P4xyPngWqVW1sG9WnKA2hTHF6+k\n",
       "YZNJe474VcOg3kuDs80gkYl14mf5/t1xHqm3oTHwJsgz7F12Bm2JbBu0FMAsXDg9UKfCQ6FF03/0\n",
       "p3iAy6IM55Wk0JWS+69OI3lVKrUFcE4pQ2YtknCWc13ZUSL6i07vMqi3VffoaYNXpPuott5Ez7+9\n",
       "FwI7TiYW7zOF6VRAH6A9WXFLqjHCbM1zGyVcraBsbkgPli7CRUQ1/kZpIz24uTOi63WBb8Bmz4nW\n",
       "XhuE64w/RgrKauGqT7Ac6pjI1DJvIs+d/fimm4K8/MBdLm0flbD/Fsn3KIjgLZrIZizZXcgDCN5E\n",
       "QpRU+lskOmkW+bqbBVK+6OWqUbtT4/AbZqf4q3krpcWFKa0bDNiNlJPlqbJPzWkoCld9A3M6M+zi\n",
       "n2USJvP9ogX8Y9aav6E5jO7hNwjAG3uu5AyHzwnZJ6pzob/moS9DvP6TM0/FeO8SrUOBoO4rmS5G\n",
       "KNbc30ItZx1OGFhD67ArDuvHfqLdhBbQLrfIipYbdYRYs1p5qoCZAFk6fXEiLqpVyTWndIsp39rP\n",
       "Eqt2GPUtV/f1/4VKg4sy5VRW83YBFnAP3pDSV3RIIr8izMsKAucP+qyUeD2RCCFSTdRKX+0GA4Hz\n",
       "IktWu/Q/4W5o2BSP8yyQ97DtMboTuOBz7PRXdeEsd5iA3aQZUYHmD30aR6mkXuGL05bq7GsfsQ8A\n",
       "+5ZJ2AB9ele/RisVLpVbUe9BFCxRfwmdI/KA6GqSrbRT9JTcEFcSwkt6n3XIAqyMASwFpdXcXz7n\n",
       "pqZeLSAFyotzC1eq+ZLAGarW2vsyXKudsRx++Oiq1l2DMFMSgfjR1FEAN83LdNkwCp9/Pl+fqy++\n",
       "bXDIL0D5Tk/zS6llOdbcGt3HHjAas9++Q8LiKcOtQgmKlCWcd6pwdakvIn0w10Ne/2PWFNxusGJx\n",
       "Hroh5ASOjn+2/QU6WSnv9tORorkEbeU5FdnCCadzAtYeI+oGuI4rLPW051L7hZpA9Nwb51ewWhQ7\n",
       "eBOTSL54MtuQ/cqMLC2Juz6bL9e3M+yf4sbdUlrkG2lJ15HRWcgrw+UO9wQukQ71xw1ta+1eQBGb\n",
       "Vri0b00URRAJP++BmBnwWMNEXDTssB4DgtAfItJjfHW8wA8cB7zrtb7dR70wnWy2fvjAiSyomUor\n",
       "FlctK2VP22Md1o9B49QVCRJTTQl90OnrJJmrfQ6IIsk129FeRpd6EmThZGpP3ECCMp6ff0+OUdGO\n",
       "r20zodophafhjiLCipfSjUeFd+214IeB/iZiVS8RDq7K0JR2JA1Gub3+tYSlEHSPvYnCQwONFkfC\n",
       "724S81IXQKp+9FCYVJJeptwF74EyQTttr4K08Fb8X4YywyE0JstwzvMd0abbivuIYOfkSzDvF62q\n",
       "Rh3tjbjlHWRn4eAxC/aTMG5WJVG0iIfq61W8I1xf3q+heQa0ijQJ9WhGfVNkJiRbLGLnRA+Zx7ke\n",
       "fXgylmzhJoFLzDnyavIs5l8r49dTvezikT0R8KUyifEwr5FepbJm8HzTBhUj3FPKacfyPfXzVn/v\n",
       "AQNQDbgUzF0ZSHSMdRqwmmv9ig3DT97WTPGIflrx5yYavxRicl/X3AkTWyF8l2p928gTBTTd19g+\n",
       "U1vIEpRNxIzSK19b5uK/DmFJLboUEg5iOmK9QWiSLDfXZnJQaJS+SkuKt8t8/YbLpJjmrXZyxgbg\n",
       "oSA9FV5dO8noSBfYEQetNj5ohtAU8rshsdfRX3u2N9zigMXg2xZ9mpKMwiHGh4PFQZgPZ+/7PUXt\n",
       "6E7EWS3HDCkkTAllcXTwbGNoo98eqvauv+PrOY7O7dWJnBQ1QHEsp0dvvODLqhejEuWqGGXC80lM\n",
       "PnsVWWkdePrh6fVFDig6CbvGsCwVj0WwOohlBIOQnLSOmophUOAo4tEi+z6UrnwCPMaL6I69uopg\n",
       "nwzmXKOM5aDsyY0C4FE0jTbHyOn8g6z5WnyfmhBaoZddfxxIBkamRb+rEIOiCwIx4/yrhmzcgEbw\n",
       "IwJFrxXT6hwooshcCb3DupTGfPnM28/8lx+I2KYHfk9WLZn7MdtYM2gqO3eSzWghUnhq+pISngpR\n",
       "V3mg6LS0DpfLJXD08VzXifHMECiUjlFHr8tdb1SPQlwb2q8mIvvX7kk7hEy2Wp3LbNvhDMLtPUaH\n",
       "sxttvjMfkWuOrDrGC4pflsGwQyAKuohSv1e8xBBvLfOwNWyoM+yCIOFtzduVdyjq/9axMNVu9lYb\n",
       "kjlxLHtSfnTlQEfxIJwrC5wjY/qXGO5fSXfOuIpDGmPZ742At430bsL8ivERTINS1re7URxHGT1x\n",
       "gRvq9r3RkcJhQMVEMLr4UfXTGxtK4gOsLox5yUC1mqh8HQhO+BR/1NfYo0luAVW2v1TxtddmjbC+\n",
       "jdvkUmUciTcARznQAbigolA2f5IUXKGiYOFnXHjQugN5SqCvgS4HB4aH/8EmXgmz3bMoCBSfsv0k\n",
       "qeKpiHw6e+oMrGfk0k/r1ZYRjYGu3w30FzSjcq6ko9haxckeHwN5LFM5E4HXp8ZQ0Sym6neNYlxM\n",
       "09puPUe4D1UrHRHEiZkaiP5MYmeaaAYkEAQa4DN2C9cZT9lCDBcjP+VOSdV41QMr29r+fAQAY2TL\n",
       "6gLj3XUWAzUpe8bFWJoecNFMUrgBxjM3J01H5gR11yZ/jkmgdJ6KhG1+jxF6y2vHOTwq5hvlQdZk\n",
       "EG7dk8fnzBEgdGOvlwmq0VavpYW6zAr1DfC6BhDZzg5yBenKLlurffi2S5zmwKBW8Wpp43IYun8g\n",
       "AhtfktaKaiDt9eDO132Lq9Cvyy3dL2MiiEwQsn5klXDDiQ2p/RLioP5YbhaIfUBgpBdmmcX2N0No\n",
       "zWd36xtclMmu+My+0K9nQeeHDUpOfmPlIDQRgmuqus3yuPIT+VzvVkaUxVcZ35mDt9Wu2Q12O1KN\n",
       "KWrdJuG/m4nLqSv0PbbFS5iXYX9hcrdZxUh2DZMvMCRcmVlv90ojuIhowqipGw5Tf1SuXD7KyeWb\n",
       "v5ifED92B7QTZqJFLpyEVwZgGU4TpTlEgSgMCJ/NPZutqwjYL/wyCQ14W25lA5zcDoo3ksuR7780\n",
       "HWUzOGmKKWpWNT7oBkHhnCnW2xn49kbpKlVtSnaEP2FBQGtZu4BFhUGN5MNy5jEyByEJ8NjgwyJ+\n",
       "APS6NdJm5KWchovjKSFPaqRr4AhoFg+Yq4CMVi07Wyh9WzqHM0kiUC8ZFV0gY8ZJf/xuP/9nsXzn\n",
       "nTVX8+cOleXobaMabW33vbNokX9vybKfnsCzhjtOAQgPZSBD5tCQRfNV+23AqS5f7Un6aj7juM5S\n",
       "Cy8n0xTBxmJO1NcaO12PBM4IfLTUMdlLWcKpYd3SkXzrF36XLH9Bn7bcpIdOnbxRqMxb9PXOx0aZ\n",
       "duuzvRa+lWkT5zzoJaKLAYn0oP8O/XCToezWxCLWABb8WrthtMKTdBNxjLsDKQ7yBYh8N/W7EAwS\n",
       "QtKrfbkrzJR68FLPTIPmRGQZqnmgX41ODBKMjzBehqeD0D1p7V/Y3BV6ilCQW6g9QR+omm38E495\n",
       "QLyBSFMkszdHahAig1s/ElRRa3KD3Im/JIYzPTYlCVaG3utd1wa2fHkujZflq44MSAnyITQgq3b4\n",
       "zOmeQAP3dWJL71QKJXzU5hjiqdQeLpUnPEcoo/bS1b3BUKQNgGj0ZHl3dsDzm5bvCqoqOh7hxwog\n",
       "PH7jW+1oZ7gDmH4f6Kn3Z7aHFEjvwKAFfJ3/xSkszQpbLrhHMJ8RFS6zNIBdq1rE8Q54kZqJLKvo\n",
       "HhgTei0SCW572Cf/yXQLf3QGjels5gi9MAf0A2bXB84l7k4twB7vGLW4yCjEmkhwLpo5cVe7yyiH\n",
       "HyFs5S84zBJRMwJ582uB7yVGp/1I8lSeVV5KAFuzEuSN7qAB6X7bqP1s60dcc/kO/07yEH8GhL2E\n",
       "rzTq4hf+r1HI6+fTc2rqHub6YSDishQAX4kTkxUY0IZvjad+OZhqgkbcJTK5F++QgFO+e9grLf2K\n",
       "svYz2hbr+LZBwxvYe+okE/TnbPlP89K9YqOcGCRQN/0XlNS2hR/R9H9KJD23lSH+5UX7KbWwkiWf\n",
       "dxX8bKZjGDPK/6QkIixwE2lj0NivkCzx6YClfEoU21GNXUE3TL9e27bpufz6uk/lUGfDMnn8UgnY\n",
       "nWc/d/eM7PKT7iiHWeH37PPIVu8sCmZQ1cFm3QDX4gWKpBanxtcc2nbuHPlKGmU/TLBliAF3Nv73\n",
       "OSZQXvlRXXNjMWt8V9hK3HZmfJmjP+GDc+CqjCAucPUmhHTS3eFO4hG0Mx88gmBuPTupTxcoKRR0\n",
       "xMvdV66d60EV7IngVRSpm+Pr3F5OZkj7haQYu4gbP9ZdD3pfs9kakSSvKehmovg071zm6Q+5/mFA\n",
       "AzZTZi/7N/eXpfwaU1k4iL3ZYvDdJYkk6mNHjnbApuvXdZVmk4a2GlWyNBi2Zp/eZCv38CI+7Vj9\n",
       "Be3z6BAQUbNW1U0AyjMsbGDnZybEkNk8e89gHLHBWl7+4v7JvF20ErAoZjSozWSeEdiYvmtRc7wI\n",
       "fMdF4xP8+4SN/69GOSVD+nbaeBb8H8A2KckC7fJEdM+cY1sqzxmhE3JeH1DRl1Q6AYnzfstKlOfA\n",
       "LMvOEggTT7atncjzwpcWd6pbcujrM9KMxP/Y1XcCsRtVuc8E2CM4MttApvLDwwHq/l/KDGplDX6/\n",
       "Q32MoNbc4eAS/CE6SPDB/pCaL9rk+4d+7O1TpHgE+TotOQO4reJwMyGX3e6rOrBg2q8z3E0QAF0Z\n",
       "xp+7+BT32ABn4gzslvzh+RZOcozDV1ce2bou98c9khTk1wF2pYk0j6ZD9RHStanGx06FSf5ggYgn\n",
       "k5R3E2EtchmDta31XzbFB3/ILX2sNKw88zWUTP8Hx4YXgHZdf/xhxFB6L3hDZXR4LnTf2usIJHcf\n",
       "8YgM7iKe/rPY6em8A3dAQaceOrEfADjBwbU35jj9tz72aQh6ZtmaTBkbC4dNJ8SzVZugM7pp+pSp\n",
       "g9vmQ0afQsq9LOeHAUX+v7zfkJvryQxM6MM7BMnHEDUBv+IB9oOz2iV0SeDCXDyE3y3y/yL2jIL3\n",
       "eV9wWC1us/LoS6A83yNy4ff/BzogSAeZOYD1mEx26Moank0sc8ruF0Z5hDBTb3cQTvridGh7v+XO\n",
       "axfX9xajY8W6pGzz9GT1OmRfUFm6m4bR+vUPLqtiZagETJo07XnysdMWD+Xz0lOFd9Sx0WlOX591\n",
       "ozTbORkjALSKLwsYmQsS1JIvI5vGbevo1k2aTSTiOfILLzJOBgJUxAoZCNHjqn91IXrICg2qhb0h\n",
       "M8tGhH0p7rBuoUPKZ+Tl1J+PXpwm9/p/nuXaAmVU0LjC8y6yqFVrkiTLx77aSSoBEvRTk+/s78r2\n",
       "6eYZ43BQGfbHvMfMPqNkK/JQ/mKfqc2OukwOdpekEIRdRdSkxeRmHGkCch1gOfK6cjg0ISv/d+qm\n",
       "nfwY4N7iBeWJa1B0v+bGfxkr5yY682hqZw6TSMEf29buI3svASq5fTHEnvUrzDVWnPV+jGHF8UIr\n",
       "uDYLQHVnieUvE+h+SZHqUbVZ0Qj09C038D2SSStaZPaJXk/6BKz14+b+Ljsj7ACgQqiEn6J6eeGW\n",
       "MBUuDhKZP+LuafoXH1bY9G+BIu6q+E8/uONDPiuJBEiwMQiucPnAH9o/f8xlkxnm9rc7p+6utQCC\n",
       "9G2c6ns6b4N6PNiSLJrRxzx930fFKx/v8AjVApYGywWdE2evNslDcNjPuBrmhGRyH8jUEFXuRIjy\n",
       "gr8Dy3zGbp2MKI/T6q5yOBeVCG7YlZEby7hXkYFCRrYQJGjbwkEoHpizechpoW0MQOnYhZLvi3NC\n",
       "1878QKNVPHYMKeKHWd2vUtXkwnB4cl6fMk8b2cknLUW6nwq6r1EZYO8o5WGdkYZ8BYsNwsRUwDBA\n",
       "8VkYwUzu7MX/QtqvCi6dt0/mT/F93ze9THPGryDlqIoI4g6HW8z4vD+QCkKbfwYj2er07p1ohQxq\n",
       "jiWI7npP/+DR0wyKhMI2DCtIUBcLWsjLglHBwhq4R6b9XWd3I7dTWEa3eaStGPKQk6rJpL0mBF5P\n",
       "gtFbWFiT/lt8hJqC5NiXyrq09bw3asIHaANIMe1GzMPNiMG2vakM1do6tmPH3kRPm8zuMyrgvuSP\n",
       "2FdaesLu3D5gIA/lbwUxAHB/W9SHg9v3y+KDn8JjTXlrMFMicWYbsBTUPHdVSnAnkiYMpxHTmDQA\n",
       "6+Rzz4020awqKRntEkhSKNpd3ZmxKQkRnMZ22yDSfUOIogmZ6Ro49tNKBoThPYswd+BG8LsMkTe3\n",
       "Zm9hwgIl6UEV8RXnCrWf2Zu+ftLZHXlRRys9oY71b8KqNl2eCnnHhzcPfv4uItBvoiOLU4FIxyKY\n",
       "sk7L1f5P+WchHZdLV+JNYiWB0D8e9iWQgD8hO1XU1JkZbpRO8FblU8dQEr13lHmSGB2FhAyFY3Zc\n",
       "m1McCMoWfqnYobxTRvX3qmfaJu7WINm9mBAxqd1qCmOAcMyZLY1RRJISjYSVrIEXuLxk9cikWXLe\n",
       "B92HkWWSwDY+H1XpIJfbBlDHmcxSDXQK+TSJET4QWNl9nCARF6UBhYvz75XyGemZAZKS3pWp5sUm\n",
       "3VbKh2nToDA5Cu2oFno88Tmrs/BxH8dPNo18MDxm7rbPCeZ/c2F6qv1R6od/znT8/64fc2y1vtFV\n",
       "6K7H3Zh0tCQthyuegcExkpsO7nXgQVxZwoBF12N6F3hQFEbzO4Admj8nrZG70g4hdFy/ivFWdAn3\n",
       "/ebyX3UXxYYKp5y+9fwYv63k1ZR5uyn3tLfuGCC9GSaMABuD2ol5ZyhMBwITj4RLLGcUWS3jiGfy\n",
       "z4XrTK5zzuwpUvTztP/PPgIz9HEU3Letp2GV75cm1w/Q+imXRve6pxivvww7WDaY0PvuEvLcMyq4\n",
       "46ANLh7aDDSShMC8r+xKMwYMp+5WU5Z7BtyCHzwdxUTvQg4zKxLvpnn60a/SPpmZBPOYYhObo1V5\n",
       "xci+YbI7VcRIKkuW/s5IaQuELpRzViBVZGZEnHuuLmu39OhGGikq2rLwLPm4hbt56n/NvDVYg3Sq\n",
       "MgZ3WINOAMBGbMEHc8yUx9egJHvWQVZ10b/V/ShNF77M3aHS7hTBkvL4sT0GmOdWZS0rOiRKaIlL\n",
       "W7+rg2co8xAVrgKF1UGoiZOBDYPQ6KZXAx4PCVzIhUsPQfvglyeQrigUVU9KtJn3eXta63wOMeGc\n",
       "6dawrkNfmovqI6fvDtzzwutzytInlk7DriJOGmD3ChXZSIYxFqRtQnKpACVyJcg9ibpw1KCa4GMF\n",
       "yiV2j8KoJ49RN2jnKvzTx8LeDkM6hKtARv0oLTMnfWuWL1ZMNMcsGsNtokGpHVS+VnF7Vmfy/8a/\n",
       "9zcVqfX0SGkoe6+0auphVi8RtlscN7M5YPeyElvUaY3VLfI+wnSlv1HDNgKIfAgrhlaucD8hhuSb\n",
       "GIq+ZQmR2R4JUAW90K5FN8rvWolyPLsNTV+aT5VvwNPI5khg6R5f3a4IDA/Wewo+5EHs40axe9uZ\n",
       "XW0hhfHLeY7xhgicSeej9VMI7vnbgEi9iTEMmMOdv0+qE8G4Fw+xDrrswK50iAQQ/IF/VfT2RG7G\n",
       "mXpshcQDeTHmxz8Fspilgv2hOz5Afj/OdixGEZcO96lnyBxOPJcd2pBTwINHLvz4BNW6WSDZxf7h\n",
       "JT3gy+06SOiCkLt2Jry4Hnptd8qBE1BP5HDiGFkP0Ym/etU44GYaLEWycGsTgKzLaEQpM3d/71gY\n",
       "lrkHAAWvx3gjKYyvgnoqspUMdXpALPveLiqByN8A9zRgD41RtwYakL2ikzFJmvvwgQheWtVMSSVN\n",
       "f+yQ7PAw76eYuytY8yQOPxgvzAgnspfEMpATBvbgP0dY99M2jTVm2rtUqhZBKuA66aRYNRz7+V6Z\n",
       "7FHAENx2nlJsbDSaUhXzFX/y3VEu2lzOTwnintTDgJf2dM+Okjk3BcA0T+3EZYl9vqJIP+einIa4\n",
       "0kSfULOTcbuTCM/2Y3pwe93dmTUS2AOjOV95HQFw9FxGj4k1fCXdKu0jJoBUqNtlIiGdwKs4ZqSg\n",
       "g/PbJHIUTsQBLgennYsOf5h5Eeu5/seRZbQ70j3RoiVCNI/CP9j6OHyqTjOZEcLd6fu/RAX6P3no\n",
       "4cvcJh8PBl0klh8eY6nMsWqbCXmXrBTzvdqtViz3vSaTcGpsMDcVzACmpWCBgKQkV31ietABGShA\n",
       "sxT8+/2QWmpPbFpldFBtdv7pYSDD3zIKgxJ/7xlxvdNF/rN+GuBnVzvAuvj4aFtjvBNUjIP3N7iC\n",
       "HZjO1KODKgTF7CT6fYORzpR7KWMNuRrkfOgCYGKAhIkUaEqehy6pWNQz2cf5j+R1rV+A5yZ4T75g\n",
       "ew8Z/tqlOkJ5c0Q6lgf8IutJdUAqxTEP65Wrs9lPBMfYlU+EFi3fwAKP90eAmndQp+hUvclS9bCZ\n",
       "BgokO3pqeNDIUJnzOi8WszRb3RQkqF/lcDrAyE1O3E/Fw82IVZL2yJpXiImMWUXpF5mTKx8QzPNp\n",
       "ACvARlv70Dyu6kHA5Sf0ws8J6LiblsOwilVq35RW2Ww0JArp5GWTwrQI2HPL9Tq1I0UGeF36LN4M\n",
       "BmEJzsfUXbQlN5Dhp0cXSG2hnwah8PffETfg05Yc5/9KzGO97cQ1s5lXeXClQhHZEfvqfCTSR77V\n",
       "jwcd7uYAlW6CgqogmALL+m+GQkzhj1WvaQ61f39uV5LIi5si/e6fr4YJknjLI4E36e3QfQopW+Bl\n",
       "htn11uIY6iep4SKIwGs91l2hvRKU6640AuSibX9iW+xww+4BGhsLaWE+R2TR17yQJii3PFYvnqdd\n",
       "IjPkCk1VdJ0fE+whKtmnbEl2VnzFt7HQfCf/6BepWvGhSUtPSru/+PPCSkfxyecPJtYryCvWkLWx\n",
       "585R1hBXQ1b9LVJ9qR8NPTkvZ/+KucayPRPrfLqt6cA6syq6H/qWuf3p5GXrJ/eVvW3/AXEZ/MgF\n",
       "nLURcD6ICs8HOo6i1SQBEWEwrCTiLczjZTrbLUEFyw82N2NM6djwp7hUbAt6qCsC0gO9jOzrX8ot\n",
       "4Jrur7M3JhhnJI52Cw+NSMhiqY6wXEstrGJ3mx/0cHc7QTjAyyOvA08Ilcec0FgA9qywgsDYhcCb\n",
       "iWWY4aNlAPmBcn2RAJWhMMiSPZl/4kiS9ve1tfBkIACoMl2h0m4+SzPLRvKg7Lxk+bD0NQWmKzWI\n",
       "xpvGNxqLfqvSUImzf2rQEEUAvqqy1p41aMJ64DXYr4F0LkjP0xFBnO4C/E2jTXoQcNJ1Fk+U+Q/m\n",
       "mCMTWNNMkqvNlj50n1qAJ7rh6anUrgzgLp/LgW2LVDYoV06wTAh+cGDrr++ypKEC6SOOzWB52Yrz\n",
       "g4YPE5WzajFeBPs/BRivDuKKBHCb1MYx+TECxyuXVGEXgoWGHLaKbfZovDSukuPHFV692W3oNLK8\n",
       "KyUv8PWuRZ7R/nzjKH0/7BxinZK7Eg17fYvS4uqipUXSluWk/vd2DFUjrRtAWQdyc6TUtcCv6E/o\n",
       "2OU1w6kshJg+pkGctyXsvBfL2KPbG6JR1v9+TUKhGALrg8A0Kei2mrPK8sxNkRI3tNKUqobttluW\n",
       "fVzHlucCnOhi/3uYY04yyqgBj5vyLHYsy/LNW93/NWnwOy/6hXWKMtyFZKeE1PYgs77zew7mMX5d\n",
       "6ej1e9uC8VFAEXLS69ZGTaOO5Ch9Ue7TLRl3dR/dBX1Gbt9KeXtbucfwONK+ZT1/uIjuDZasHSu3\n",
       "E7RhU/y3TxDJP/3w8aU1DWijgwIvq3dZEbf1C7dpHeITCOBxINMlmLNNXlaNYP+LAKOXCic4OZL+\n",
       "VMuFI5i/+sWhnMy+U685rMj3fL+RYK67dFOIcrRJzMrffolQb0OviMiD4YeZ8WpTYzAaGwJzankg\n",
       "qq4ww/qFim8MRSCW5T37BELrp7z1UdZiYA9JBRmzk3yOr12Pkhu7fMhmTXVrVbZsuXncWYj295ef\n",
       "7LskT2iSmPeCYJEuE7Tc88d1+dV5zG+DGXwmZ7vztHD9c9ECGF5cJzHQ3fztd3d9b01FXyN2k6Nr\n",
       "CivPEGFxZRsSpJXKrGajXj1Djqw3nHoFyE/UGwlxvvf/L7pB6pgQJeo1KJ89SR3vcLm9yEnBdoJ0\n",
       "Rx3CI2bFCaEpRuwdAQRhV8Ppt83obSMi7K9O9RHGI9AaKmG6pTsittfdtupZUh5mdGujOpT6xT6u\n",
       "/5buxcfgdjkgTrEvBQ3nMbhcURbIQKUjgWmKtBwvaxehK+TnLyFm6hEGP4l5nscRY5tDGbPaQPos\n",
       "TVcHRgeJmbsEJGnY3gFMfuRMBaLx2mMq08LEXmHJ6/bbTb5rm5BTYCsD1GKlZK5a005QA0v7/GBA\n",
       "GFSvTGwE4zXTF4SlPuCexfZLKF070+Ou8lE0NK2VsztIdNC01gJF4Ppp3PVIaszFiWExOF2rvPDb\n",
       "mmq9y/DxOvcRWx4cpQ9HllO6gI/Y/PpaFpK8Fyn59O7/y4LMqUl0nbuyYav7CBFqIx8eSAkPSeFT\n",
       "AwumlWtbfGoEO3pjfRIZgT1G9hxbxBaRf3qmsvlqGomdg1zm+0+6SOb6ayMZxjn67UK6NBkyrbc7\n",
       "ygv/s3sh+zxFQACY+jQAKAB+/zLNMRHsDbiHW48AjvgtRKHhX4bbYn72HL+RrPV+OOJMj3h+UcWB\n",
       "zVSmHkKZMWYZGQfW4prbMLuMe7ngUJKkKZT7AOVKJFzHFI0jPveN1EOHJdwzeERlFG3AhI9DY0Z9\n",
       "EJN3daQr3KCZOkNKWQhOwqMW67tPW2dbya6WSuvItQnTMT0K0iOyPx21/rTPvogYrHrGTDG+M1zQ\n",
       "lE6N4EcAhom1Ei3BvXTv0M7LpZo/cNCWZXo2KV/oSeweT1P/GZT03It40vYZbVeCjBV8rF7CyYTe\n",
       "O4Z8HgAUSl1+Tl4FdtfmTkDbJlnEAdFM0FXKYT5Wzo1eeCe+kj6BcP+lTR29CdmEUySpbRbn9iLr\n",
       "/MPO6fijcJ4ybL/1ljKfMLMmKJypSKYViK4XskXswuJiK8OS4ZwBkBhp1mn1ulrxtTPLxl9iUOSr\n",
       "waB8gQU/5hey3MhTmcDPw5k6QQFqRoB5vEl8SSkU/zwq33a254wMp7govZP/mDfTvWJRj59ypKb+\n",
       "cuGQ2rtxattWN9lL8jYi1jG5qP9yRG0OBWMAyP7d8KuBfpJ/ZuACmJssycSxLVAylBxeJ3WhyDb1\n",
       "p32LxX0aIyXrIlRoyfyD5slie3PO7sUka9SJI05tpoww2rZxbS0YXQ1/QlD6BzXuCz1XOQ/INuT3\n",
       "SBefk7iXYxB03B2AXO84zXyz4QdPaY/UqlR2kBrBcqmbg75oZKKVtuql2Fpq1piAUHEL63rYWu/m\n",
       "otsPX8ZfYJYrmYvZ4RpHG6uUufzbmFZTLqqCQigVLhkpBgthMOZ9KVaYmUUievqPFR7TJJ/RcqLE\n",
       "6qY/JkqcfRZ5p/MUfEtmuTttcxkZJ29spfJsYmTU/lbbWl4j7OtWKUT9eF1wcyODy/qgewXpftHZ\n",
       "C4nl/pdsA//zB+HLpdRIQ3d9FnVdLOCOZy+hs+6H5tdofPDGQXE8Oaxd6P9rE2P6kuSCvRqUd0z1\n",
       "+PO4JHFV4ekIzp1TPVlYR/sPdVgClhittH+J4xnNmn7dsvwr5exSlnuAqfFb9C9nSrG37/1Z7FmU\n",
       "Xp9YZL1v+42/gA2zvy7jVXQOP4v3zQ2yanRpSoGhfYnSWtXOz0ug85dCN3Vsf0/lUmOvs2Vk/Akd\n",
       "NnyaxBD0CGe3ESpvb3z4uXkJaj+61EzTLqqFdbHbNllWe2iUkCNWddl+w4qjRffWxWFHqA/TGYYD\n",
       "6WScGb0BUawJVvbEdWyIfEjQJJQRJ1L/E7sUoAnrggycCl1vguDhCbbCY82v9+FXzJEd4eMWe1IS\n",
       "6KiukbGuagkR+L1n+wmduJaZewkjoRY6+J+4858s4ppJzKPB/ys5JHl+sXT8gn5pHNdD31VDs/RK\n",
       "dtP9oq4HHCB+QOCA9EJ+XUo6whXHPvtM+haADAzJ2riSI8dxsuwXX58y2rK63++zyeHY7W28TNYo\n",
       "ErVonHz02+2dIKppuGbvMxcGQisy8Nkaev1ls/Njm4ZujDlL94LsC2nzh+mlej95kI2bzaINqP9U\n",
       "4+7AlWzKipfJJ3+shjbCm79Br113KEqeZ8Ld4OIZWDdfhUYFocA4bjFGPwAFl5p/H2wBCxEr5WG/\n",
       "llFptsIfwRvYhIDrkd2bV4V1NHmklny7mFTBm+NeGX04f6d9EkiRPFHrPLbJuPOG6iLquRPZYtH9\n",
       "L3bsVEI2RikpjD1z+I0ObTF/8fegXxp58JN0pP8+lm/0shFi6jcvtmAKgQTqhk2NwUg6rbOwOzOH\n",
       "vtuWqMuyYJ9Vno1WMl4BrO/X6fqEAkelKN9i/t8kd9CwANDvpD99KeVIsNqPmyIkIhnmi14hV532\n",
       "ZbafNi6/5pLTJOLNbTpv0o5TV/RZBMAFEhLeag42UWoAKicz4DG5kWBZHNbeScGDefXu/5JtZAN9\n",
       "OAeBXVzP0VNmS5lPyRFHcA86mSAA+BjEFHUiFpEkVpD6npF+7vquQvroOrJQcehjaIXyjqHl7hAC\n",
       "oofLA24OZw+Ax8Y/BLg4I8dPh7LtmM/Fg4t4Q5jXl518jIFFU0xsVKa89ogPcMqSpc6pvdO/wRVE\n",
       "2IzL7tHx0d7uJdsEm9bu291E3A7sLcgko1LobPQcXtL1jdfMP5DtvlrZv6arX2WrXvNrpifHluHn\n",
       "64NkKKj5TLA8qSoDphMdz+Vq4PHaZodquOLaFu/2fv2ang6GQXt3ygxcfRPNLSWYcqKiAz6iL3MG\n",
       "MEPQWcMdz/EMaeeWDfOnbxYCEyrE+6S0zMgIu2fULDI5TIG+AGxxdWzEgX0TqT5BR2tDyf/yTGjs\n",
       "7o1tRfL8paNAmvkBzxmB/HeDHmI9jywlGx+TR+hpldl0B+i6oQiDXbl+5Sp3ifg9c1Xl1OAu7yW7\n",
       "7tysXjfuxo/RsxooKXcoDaHkdxT6S8M6tUh15Merpk39fZzBke5WSmcIW84DWxnm405L9/0exsea\n",
       "CGCXLr4Cn3LxQ26Gj20/8qy4zKhVqY7SjLwZhnJaF5Ok3ucFWnlFLac02s/GnT4AQZKQSKSFCX+L\n",
       "WHZEN8ch2kfTy2X837u2wY5lJGnndClxycgMLvALachURbgDHLuTWjUSCm8Y7Kf5J0OlzrfnhB+T\n",
       "gSday1FDc/tBeFMjaLI6kvqauPM28mZLxSi+lR2zDBdAbg60yMHNUv56cZhuxjJaesVy1DX44T6L\n",
       "AACGCLRjeJ0kHCkwxxNtZxsMnatncN60MZVIAtQdAmK+8P9FCP5bzXcjl0TbzxHsvC+dP+oHHSue\n",
       "DLeBleMx6EHH2v4V7XloxAupwRFEjB+/r+OOl3pzVplVjo7/5t38YgBb96C7qTZp+GiH97hOeapa\n",
       "dgvqQwyR6+7HAYUAJl7T5TtA5n3XjYUWyMEYQ7VUe2tcaJAfgwMRsS50a5I+RIf+GTvXuP9VmeZL\n",
       "x0OXoRdxAsT/X1bX55BzfgmUC4lsCWv6IJ3WtMuOxRj+mSADCM7lTBiNNLfB8Y4yuAO4LYwYwUne\n",
       "n05rSgZ2Lkohwv0NyHGxtoxCAZngUMrex8IBeNn503w5MvkzdpzO1kvAwx773oFc/8mYrGAUQnjA\n",
       "8LDe333V+qaCizVrK7iLjLYFttu3w3biYGvHf47p55n19cqPaIhZWYItcyI88C2F4u2aixtPCLYI\n",
       "/zVQ0x9xmIZWd2eymQntFBsG9cBQijV3g/9HUGKJzhK4mBPA43h5tYFLuhoT5LapepH6jeDlDW+z\n",
       "AgNUkorXJtX29wug0c20ADaR3bvHCESFdZALuGku6iWKxIPJNA8ha0+dP0m//eHYxI/JKRy03LWe\n",
       "nkHR6IMlobFrIPr5+1VSDjmKOfmS57XZXQ5VUIihl336/K44hWPp2ulFs5YPpDujfjWQ/hS/VwCC\n",
       "BFkcAMYAS95kPyD9nC2rqJSWQjTFL0xRVo9MD82tQWseJmNbHximIxseW2gAog4p3T9kWgLSYrr0\n",
       "nloii1jRPAECckmzCeXWoXsbsBW9lHhzVFt0HRBU4zt1CtAjshmYZzxSb3kxm3TEAAGDE4369e5F\n",
       "9oPg5FQqg20j7WzSfEJnOSRu192zaNPFGZvVomIxFZvaS3qTbL6aTUEvm2kK3R2edT9J2EKV8dX4\n",
       "OOP7D+LDdXeBsps20E+lHOV2D4euFdCZweXm3M+l2D7FKBTDFOknrhXg9obubqUpDwBuVg6QfDWd\n",
       "yKFGioquV79ESeV/jFtYBC7bM/mx9vID08nYg159l8DFrva4jBIITJg7cNdUxn4trygBLxG5fApU\n",
       "YR05/ZLejJqJHntLyByg+6ID3qQpOlBPzyEZty7BL/7V+Q6aH73WI6RantBEUW59ND/Hn3Nknu4+\n",
       "MX1Hp+BRaoHOO0BF6BrfZwcRCcgNQq+qD2rWLI6GdTlWJ7gEUTFRR+vLGbhRqXcaAsAXs846yyKj\n",
       "8OIOkJ+nOAHXV3f/MuI2vhJzrxP8z3aq/R12a+jIZxmX/3t4+rPZQysBJvozaXnuQUIuOt/55nA3\n",
       "XwX7vPgai1PUwmQSXtWOn5jgPqZt+Xok8I+9B0UOIeSVFZPzpSye7x2WU1C7f/SIobKsVkr0W3iB\n",
       "5CjVTGSi3qo/6noRbqk2sjlQ0FzCAYl/4pPPx58FX0rU3IIkJjhlgkkNs13AmzJkmk4Lxn4ggFa4\n",
       "UPSRV9Tai8ui/kDp44QOzXE4mUcvHkxcIvzUoQBqJ3ghZevtG7IGnUhA8Fr3aorZKI4lHkJ9XRmG\n",
       "l/pnDx1InNLmJaU2DmbVGBEuUsOjFgNmYJ4B5dYmh6x36xhj7/GCdTqXgySxiEUlvD/pCaKD2sdH\n",
       "OEMxvC3cqAhvEJ0Z6mm/mbOuqja6n7ruhb7Ibk1WOPQDG3LdXWG9tu5Nf8KsvuSBReO9xHT6kES8\n",
       "FuvcTNNF3YrEwNKnM1ROihGO/HtdHj3HbIYjsUQsV9iirLziAWF8tg/HwZGLOzPW9yyJmoTWfKbj\n",
       "yiHqLKG918WHnDIYubysvOnF6KRDq398Jv/mDJMN/gza3AAafZoQcHd4+6PVEF9IttvmdZ0CjnwP\n",
       "5qcFH5+Ub/AP+G2Hu/WJKwHcJd6BUTdhIv7WAYccT2heJF+mccjO3xntGLHWky7HQRCHQmvNq/z4\n",
       "vEbUwIQUYHSWTRdm/BASIlcTTlI7PtL88+vwu5z74x2BhBqIPuHTXYu+Jf6X+YPHovnEls/yAU5L\n",
       "Ga+tO2OUc+4LzD5kbrDxnNPVVX25+NVRJ5caUEWZ4eOkYVwb83fEhY3SeXNIYUphC8lG9cWK7J7m\n",
       "qwrEF+aajoX/yAPyTfq5YIyx4SAJcmzcYqWBeGPxADovZzuqLF3+gOjXmuGN/hW7S9bG8PbBI1cM\n",
       "MoTU7t4hVbooZ48ISnBIiHhoL35XEHOJ20pH3vBhl9ow1gF046E96hzouz+wL5dPrh/JhL/jXtLQ\n",
       "d6rR1MvzKY3ZtSwjKcMNxtsR8YgqwsKfFqr3TAzRSQtO6Qf1zpWBagSbnoosdZSUv+E1j3OihUp7\n",
       "6qb91oP5TeO+af5RmrTD7I0Rh5yQbGD1+Bdel39XZVZ96PbzS2HvSOp/Gv1sGO7GxMcXNox6HMCx\n",
       "k8lw3Kk9oIylPqsS2NXHdjFLZjJF3U5DKy7beVSXcce+/VwN5LgeJ8R2shPG30UCTUx1GeJMlTxE\n",
       "e7BB2uwV9eRl9tqF0vrfRHtiXOhHa2z5MhXN+nOFMALBHdFULx6PCCyCkPn9oi29XlKBmTYp9F82\n",
       "J935Yb0UgqDk3wIO4rZ272PXZmiNQl2R+E0CvHlM0symZ93tJukE6J9sAVYd9vaG1drr3fNJWvG4\n",
       "gy07P673j9oy9mW6/5zQXb625uGeqHXtgWWUJNcnPNZP+ZabhyIwAsNyopb4LgNL+slHDGIlJIkj\n",
       "WmNqYph6WBD3y8zka/fXOIxQ2ANvKwiJmUcu5FlBl1KGr12BgH7suWJFjyT/+GUTFKOhGZlcrvo/\n",
       "jN6IAHeFw/IySjy0UhNMFxszs7PEUgHQJE9l7pUh6XSoV/drkuzqV2eGaCN2PrFA1xtiFfWfJKSZ\n",
       "5qIVxmr6f2fQhJ/KtLL4hIGOQN6XmZ1SxnSO6LUum59IShAH12smuP3KUGHXCITpidzWFGeeDp6k\n",
       "xjRfNCLZGntb8OSiEdI4Pav2bPQh5YqDCFp6b1o6v4n+JcS7ZRlmHJn+pomim7VZg7RdI024c2t9\n",
       "djHc7TJZ/Q45aN6NRuh4Sav6vkh8dCtWDAVyJrtU0KXa5s45mx8uwGDV7X1/Xr/i0kB7soSIAJHe\n",
       "dXN9o5quelh9v7iT3wbtmxH774SJOI5tSkFqRkCamiBRAAwxT2P8W4Dr0N9mhp31bwQ3yxQyu92N\n",
       "aeyZLnSQjXrJeoCz7KUMNeEmQGxoIBm7QJt/33YwvxlMhxrzBl4NOf3zllD/bJxlT9+yRWCC5bpi\n",
       "gpHWqckYdXkfNRXdu0dFKk+XMKnoM54rkkMI1r3A/oNmjv8S78mVNdN5Osq8e01ueARBMDrsM3Pi\n",
       "rRa//DPiq5taz6w/fx18PMvRd01H9yXQp90FmA+ZT9TPEcADjuCuE9qxLCOftgvaBdqkZxAcOX4P\n",
       "RM+cdNjlwcEobno+v0wyGkkrlZ0xA10DkeGK3V0VQR5g1EzN7SR2AQRdXINd8MnUXNSDyXn5AS0Z\n",
       "YPgbp2CKAfsvrT9uRqGsXmiF/812cnZ0qGolgCpXReCdu2bOGoORXkE80vPFwS8OTUBKUQ+RnoHl\n",
       "1jugv9/w1BFoNj2xjL2b9Zi7HZuVYC3HD6plEmGVe6TyWHh8I/DP2ulW6cT51r0ioeCo6QBnbadO\n",
       "NrMW8N0s019h8Tt5vXcKZY/05x0RSZdiJm2hAMnB9RHs36JrEH0teC/u++LMRFh3Cv4RybnkW3fF\n",
       "ZAfbxs3YrwwMPnTRef4U9ho2/t0JdcbMzyiicA0g1ap2ss0hjEtzUBJDAXtW48gqEAj14E1GOmS/\n",
       "uG7TUswJ78ZAjn9KX6suNZzu9rg7flnuypTaTk/DXlucbzM2EA2vCKQBG7HBsZTaG4sX6rKAK9Sx\n",
       "6xRnU1dsjiBwpzAM522bNnp/R/C44ukY8s3U5UrE121Yk7fFbU+Ou8dkoipmVFzkWn1efNxHV1fX\n",
       "bADb1hd+WWgbFA4tT4++us8wKLA0TIhQKXDAOCnpr1lTP8Kfz+eUQr+FVp1fFGR2HfAnhccTRPzu\n",
       "c4gJJLpq7/qongftZbWhco9s9suJLOI6YxNORROIEQ2mYxL6fhbBJvDQSGsqxts992p9sTItciz/\n",
       "y1DU/RJ7AQ1voX+N24CZ4la5E8L10lW8QMMCR9C6ek4jNg/bC7ofPAkAn9dtv8NkAQDVje7v8fXG\n",
       "V1VZGyk8v6er8e2lHjGCEn12ttaU2E9geaNyfOeltmt0FSE3maWk2A6KvmfFkAbcCu4dBq1YqS9w\n",
       "xbax/e0lzZZ5NLOcJmE78kRusC/IQBBU2yYx9F989lP981NcEpDrJLBoZXfmbLpgFfv8QOnOKpau\n",
       "Pb+JoPqJBuP0QB44IDCIv9oF3F8+IBHd6TL9cosFYFjrLVx9SGh1jRLPHZSgQMYFREJzyNPoVHIL\n",
       "kZp7FGVxWME3mXg5JCmfw4MqtzPT8rcuEuAcBE+6+2ANDa8LimMVX793yBeCHqHhO+vS0FmErkA4\n",
       "VTFPyCfoEcADVwru8zjRcn88PsG+0Uk15LAp9Hq5vvoIIiX4LNX+eOf1rR+R7HaaNCpXIyxO++7P\n",
       "zqgib+y3/IrHBs3IPdNeYxVzJLqDljaBkzXMXMLcYZn0Wu1Nt/gcO6fCF5LehFdqiHAACcS5I+2t\n",
       "RKgHErZSLmmDOFlUZB0V3tbGeeI2LJwhMjTfGcQqWi3uu/u/sFtpHwcgA66RggVPBRMUN3YNiwor\n",
       "sR5QVj6nxRTycOtwjs5QvcfOAXPLLvjBNnzMqSRcN4H3u0q666JYMS2P44gqYPObHr89HMR0L7SH\n",
       "CGMUhjUA/7GRZZ2ttVEMnfBR71oo52JUJQu5f1JvFe72zmBuvQp/SDBh4+6493bDRdZ4SOoUXoWH\n",
       "YNAqKoUHdcxnesH0LpvPOBaVBMxR+Vzs5Ku3mL/VUaAstNdAhaK/7//DHlV4a+Oz2LdpWdDgk7aG\n",
       "81HT20Qjq0hMIB1KKo3M8aYq+zXR2caBS4F3lBbrRbGA2NcRArABY5TtQ96gNmqb8bNMvErpQavX\n",
       "pVi3cHKCDSIUiDGvLiNQNzj9R0jKRNMMls4dk8pC3CetLu8s8SmWyROQDM+k0pnrmTLR0sRMqV4c\n",
       "aGHnjIBjh5yY0xncWKMdSXcjOQ+oa+KjQNJbNdWd2fkvLBxp7W8fqBuvjWc48SydOIZkLL73gdBq\n",
       "p/1dNbSJV/Mq3slYcKrVDq/Hdj9m2WiWifjs7wj2K20f7kB3rHZ99sdTjBKuaty2AbgF6CJUBbE2\n",
       "v4EQBrD/hV3czizfS/8gz9nMnOBfJ9yWbt4YchzG8+P8Vq2YtqU/4sAoLGXEevYTzZCRxawVaU78\n",
       "SI16+NH2XmlFx9kX+sCCbQiAS2FC7jsAx24HVj6WI997KXrWN8wmDv+r45QgNrd4XXzwCPiRlJP5\n",
       "hhUrOPe8rhYCxhyosVjCgeA+VcrKNrRS6AeDJ6KTda0Ti2bWep39kJN+eveHTWaEybaQRzzsJOSK\n",
       "Uq9HuSxxbBgZXyYLlkXzz/kSKjAZiSUuHkMzwtaw3D6zAt9Cz/1zCCNTjoT7Uh+tVjamewfGkUTm\n",
       "NAF+rIOqOJQfDSHUaQ07yCwW1MURKrZ6dwwiNaljCA3NTobHVl8QZwmgLWiQ338Pld0exENhXp1V\n",
       "x3hbkL1J92beI8+TvD8Ls1CJnxhqTeqh29gZq17pW4h8UwVK/LKRS/RVW3CsTNYHFJFzcFEFx5Cs\n",
       "YmFAHk4cBbtANgsUB6oEMtVGu6ng11itdTdqSwGXOjWEBEmH1Ko4iNDPTlVQkcyj/oteasEfRLtk\n",
       "VneTdScUmm4NzEHy/cl+tYsu8MiVgTvNGqpHgAcgsL7dmxE0wx8PAQokUQAMcYzm9/4cLdcthso5\n",
       "MLJI5GnYNFGBqIVv35sMrwwo1WrFEeKn2DZzOL8R+asbolC2Kco+TDXAYq1RTXF+LcoIt/cNbBCO\n",
       "WL9s6mmOfXASMzrrFOppER1mwHpJD406jyEpInS3W1Y8w3W3PIE/21gXIBh8D6bLqGcWuAMiSNoc\n",
       "SsAGMZPVArmA5RMgH7xB3CHv+BJoWBXdMMpwE94Cbh4jhn67qS0OSn+K7gwSCsU9jeNKq9zg/lKX\n",
       "Qp38ZN50sfy8NNA2CnIzD783qmKWS/8QUr7mB3OrGygNPVrTvOxedJ9qL3+yVP9k1NryhoyYkC/+\n",
       "uL+cRH1ScjgVip5nkJFT0012Xu2Fe1rmuuoKyY9Q7Iyn/BUc1GS8UyNnqNrdwG9PFKBk/02XffZ7\n",
       "aV6MdLROjFy//7TyqlJLYFu6pHcf3fh1JHaLsdomFFAmx6FR1ZTbEARsNj/zfzEyHxalWl14gUhu\n",
       "ya0FwoHP6nnZ1sT6Owzns+tkwJxjjjwktlGghDbqQXs5b/HhMUBHtwq3loI8HYDzPxadNBql9BFb\n",
       "KjG/qEnvO4UaoReGXCFmxIpfXQ2cD6oYUuXryhTtXwwLtrEvkFBfeRbBxZp0SAqSKSTfOvxOfZdk\n",
       "imFffp9ndSUlLBWc12VCjZzgSsCG/+ZLJnR+SSbAAT/Y5S/lplprPHbOkGS6wv0MVAvyf9bob8RO\n",
       "lyD8UBZmYuIE2lHLqR/CI2ivEYu8hDiKOMc+qNg2Am9OxPnwJGr/zMizpUaHf+bmDxobyDGRTKCR\n",
       "W/hHGRg57TS18c/pJpbnjOeAP6OecCQgaguImjg/7n0paVhZsYr4mdNeJLOCNt2TKM3+hS7ZTuk1\n",
       "16GOaSHRgpogw7Ncci39akWY6Kmhfj4pKBCdZlLQlR2DO/DeGMj+xqoa+pZjQRVsVj/unZNM5mcC\n",
       "GgKeEX+pQopPgYxRzVV32LNhy5BfO9fIqb163sl3ZdHq1PunDjVzszzgAEBJxM6/iXwgiStK/Ivy\n",
       "PqjGQgpiUULFJ544rcXs86mbkgvB+h8AEjOeWuk47s1mPXkH4H7rAW+DQex8+wHJ48Id1WuOJMTM\n",
       "hONYPvotCBqUIpX67K5MZr5CFP4ygQVicmwoNjk64UJRu5k6kCE039lDoWt2Hq90dLe02BeDr+Z1\n",
       "8Jyb388UChbKK9bsWXOB4ClX5Q38+KIYK5KQAa03ikjYfAooSSH0+N4qnewVxhFoZFE8n+TZTWiW\n",
       "WOo3IsQqsDEPoOVKy69ThbGQXdFVjsv1ECPO41Rr/luXbE4QINgoNAELDLzNqEMdvSzQYgNNSKb1\n",
       "OEUFZRDkETyoH8Zv4rtbCECK+3/Rn0XCI6gaaKTOVM5Vvmp4ZixZ1hWep49xktc7HWIAuZa8nrXB\n",
       "t8METmCMriie1ywi1U6Gwy1snBqovMDn3OTZ2fCHGl7uuPxikHLmQ1zogHhjbyR5CQt8a+AceHv2\n",
       "TpJGzOS8zMISMskSO2Q5p5powsa7MvxbBkECbsRjUaViVODCL3dkCVycUwHxWcIIzkdjjK7O/YfI\n",
       "zG6Y8qiLKiYiDC1023SUZPTh81ijXdDgJU7U+nuD50iq+TMZcW/h195YjoVEDecYcx5swp1M5fK2\n",
       "VHJgKxiJ4li//2zxZywEoG8upyQzdVm7B8RfNZFvMXipeEEwubJFRzGy/qYjbrg8iYbNmLjOCb1M\n",
       "fltUl1JMFKmdpcF1tEMbWsHERXAjWWm0vZA6CSY3MkMdkqsw2nROSp/37RERNlDBJHqqPeQ8tJhh\n",
       "+fgZJdLrf/92QH61rTGwtWfu//OgwdH5qRt7cZQDaN2Upfx/qLohKJm2I3b7PWgQsBWSh/2HgcWV\n",
       "v+0qza8Q8oGevehGI979GKB11zC75biR4GG+tBjWpYR9rkNwPl7fkLXDF57uV3ee7yU+4uBuJpA3\n",
       "n4RXi7gIcjwVFrJFi6+9pVaRD7bvY29A4uFrRtWbvbRabGPIR5TlOb7JAtM1oWSor7+BlgTyYQiu\n",
       "JbPEh6n1YcV6KIiVIZPjtoQV3sQ7WMXznpu1ZSM913koQdtEKmV4u3TUIifuhjCUQMAjvMCNDRRt\n",
       "U1Uvd5g661L/O/lTVsL+LJpGL6iLCtoau4IIS0AG19qlBrkPaAe8D/BqxEqBmR14bjeSIrFgeHsY\n",
       "qm+0NyrAzVjfV7/lVBRFU8S+5cweOcGoliDzNuBuyRZPyAI1JUgJPIoyxwRg9BATwi9yU7khv8mV\n",
       "eNzDSLJv06O5GOZ8Z8bPluoKP2x6qCMxvl2mI6RWmyNdh2NLdqVQolEpd/0VkmyhL0yIGM1tLaFp\n",
       "wLQUZgtlqvoztaGUXly89apKxWz7OJMu4KbyW7lb1CAa9esIXxhYSuOR7mxkvoUNdF1sxdabLE1w\n",
       "Jvc3iVzM3/ajQ6jJpHizAROlU0qq+dxJz5XAn28tj5kcc/PAAfOMikWgpLAJkz/kF92YWC7Qq6uT\n",
       "Dnmm3ahgNhTw+EhFPjpKjjm8XdEBUSw90i89Fv9aYz+M7MbyXZBW+thnGwXodzOOb7YaNXyKZYsv\n",
       "w4zhtxvaejCYXoxtq1B6A+cieP9wIiFFHeUV73qNiT3CE8FbbEewuqf+0cTJUP1wsWKyJcMB4Ad/\n",
       "L8nPjHpMi2caUZ50SJQneCKokXt1WNwUV8QYEixJd9u+HBA6NlV8h173GReXIcl4Q94CRp5caxfz\n",
       "vXXdpIXk4kzD34RASvBZO3PrrftjHv4lDIsa3SPkpJF/CZV5E6cHrHxnGqvEU4HPq5Aa5APz0f41\n",
       "KHmtRL6N8pKxia6/6gR/fd/uXweaahBG3LfKReEAhSSiRDXUSQGEcbULHlImNzhJkwC7hO1qUG77\n",
       "8XFsb3pN5AJ8A3wLlZsupMrMP92TAACVA6pZlywrKgYpQAXuORWKpYRbPb6CmoBbe1Xe/odC2HBa\n",
       "rwBObIi4qqFT+Z2Eu4uo9MHeGAeXPQB8Ia/qshEaAR9ILryyL6guHfq9OWTLcqG2s5rm6tQOZjsu\n",
       "N2j9sOLokM3IH6/mlZaEdIS/EwvdGTiroxCMPL8SIYU109tQ7L8JFdOvex+GIS/cL0wQpA+SXEEb\n",
       "GH7dwqWNQI2pjjO0bdzRjot4zNep/IClFN+ISq+59TOdt/SsLxkZft3lSb/Y/3bCY0/C7+JcKWgL\n",
       "uDVyxgEcNMp+tIViXBOSKk8KiJbKoNnyQd/57OeULiXAn7dm++ryynoQSUCw8LKCbgRdPm3MhLdK\n",
       "nD48ZEeMOrK6xR1SJR2+c2hTGqLUNDAcxtm75hjyl7QzAicBWOrsEmgqALFhLjBlTEPxT4TUqOYX\n",
       "bmF+FWWstMs38Due8dulOpAMQcuDzG6Z4HODZ72l2o2sueVklRSbAD9aoDiytTCMaow5SxZol77H\n",
       "VFjl0ZRSknFlrt1KSwVaqzOK1/V1wHz9KzpSme0fpZIk+VaJO0BW3UkT0GuZ1UJKKdHf1bsnjuNz\n",
       "CMgO7Ty+nIbvGO4qQdk0azGkjFPwR0aVo+Juj67awMI+XvLWyOgjehE7EL5btgdFQxan+E1W7u9k\n",
       "3Q4JT/+Nb13iPyso7UE058jxbA8xnwZgQ1WXo42idrDeljTD0TL/W4auiFB/UNSWzqmE584ukWCj\n",
       "CxpT3cI8ktpTYplMJJrnhab4waO6r5Qrw/4V9C77vopXWEyGVckDNnhIWpOLcvi4F0a1jKWweAhY\n",
       "uhjXho+o0d3Vnc0QUPOabX4g3l/110Olx31P2yWM6LcRJu0klBTUKSNK9GKEb3KSoCKtukyrpV0g\n",
       "fsrfiz3h3krvDdAi/2Uz0p+JgUZC6GJH0iv5hIpeC6lglExhxPs+0Hya6MGMF2K9pL822ADKk/d5\n",
       "Bg35etZWNEj7Ydiu4j3++vzdeXqflBBLz0dYdO763Fqi5wUHiZl/F4EaYYE1vaJs4w/1i9qLEvBJ\n",
       "hu3meMwEkdECdt9QHdJvIHvfu9jFeJN3wFrC82s+kJYqADnQQQAbvpQemVMsH2hCPpGeetFGx0Rb\n",
       "y5DIUHYX9CXIXXeq2+d2fWeZGr25iDMXbX+MSWYrgZFt7udPocx/pqPKSox6MR5QIa6UnMTJm/BS\n",
       "lNOoAjJfMDagiUdu0YwxMeiGpZAr4TnrZbTauXJRQHRmjarQ01WxW4lMK5r+Ngo190S6rR3G9kR3\n",
       "BpJeBlcGwXxuXsO13y/TVu7zaDRjq2Fy+TjZY9DEKOPyv/QVCM9HKhN3zTsFnqksJUhOxxqBTKRI\n",
       "9ebziGYKdroQ1A3P5XHyNOOc1Cg0M61r/y12/rYH3aFMfnN46OS7na6LOQ4BBjrprYRqzn5PHzfa\n",
       "TkXEMXQVK8mH7Uqj2uCX4AYb8GoiPxdoRwrH2/Bd4ssmBPA+eR73DEIquaKxmo3tmxcylBrSMK7T\n",
       "PYU/pUFpC3midvfZqIfXae49LhBm/HE7QoQ/6yI3gdtCxvHFpIb0x5kd+k0szK/Lf40yqYWEkCkh\n",
       "sQf03OZVvb3LPwFt/bQNLL0D6VH+UE3O95av2XFuIywAaOp6zIjv7iI4V4FnyKlVj/2/TOkuWFQm\n",
       "M1QV9VzNCEa20JZo8H8r3vMWfMgRegzn8I80sGX1z00yit2XmeX6KFaSXN4i4phfeURlsK4TO/It\n",
       "ByRn3/f2PmqDZQDO6rM/PuqoG/+n8kjos0YQCvzYxuRGEmNGLRNo+I5bpT1HQyOR+rjt3a+8cjOz\n",
       "qNPFXT7Rfj7q3vRXyDVsj9Iw0nUow4PSAtXc3nDa+jahfcC6vfSTGYbJmS1THneILVfK9TTjKANn\n",
       "rhsC+TzUqnYDtNGrg1qWc9v5ZeRdZU/3y9G15kVL+PQd7WMUeA2EowB7e3JVpV2OQq6gHygEsWth\n",
       "jTryZra2cVkjj7kiFykdMMb4gS5Z/jz0UsG8PJNGqc+j2z3gTIjbf8v0wfpJZMAgpdcpzcTOFeJr\n",
       "m8hqlW3HqlisP+Ss/kUksgdexGhUFwpgTASTaUnAO24FPV22vd82RMjMQ7qMhLUu+UsoiqNM58NI\n",
       "y+zlBtbxPvrZX6lPkhwGXWvmMThV9WqAYKndk+ZE0K+egW0+gaKODN9PCSAeKpBgoQq3ag+9lGOX\n",
       "onQDR+Y2NX/KEYVDjA4ELIiTmW8j6gGDkKB6YhZ9TuXKLkZuDabbIMIcF2AacoqulFxZs6XSEs5M\n",
       "1+LX6+CwP0oiwQftXcZzo0hTUt4amc9HuBRDwy2upOvqFBzBKCZkViJKSt8BNZDIyrAPqiveyNim\n",
       "yQ4gVySjRJADFTPXtoeT7SctsgKGzvTJksQaI6g69eFFs+LB9Isd1adT8FtFWpaZ2Mvv9imEmypl\n",
       "34qnxqKBu1PiHhCbe5FxzR/mw94Da7nfubvBChDqNaN4N+iAeUM4P3LLvxD55udsRrUypH8bFNeC\n",
       "ZCPN+FPwSOj+ab1vTAfgQhM5xUyYEvqtULkU91vvNSHLe4FXqKKbgYhbeHGWic94TYJgTwXTIMq7\n",
       "hPDHFjaxjEkb6qYev9AcVHLAeYyxPhDWA7fhYZ7p1AJZ9+tGbo/M6bifwFIkz87W3osKvfrxauTC\n",
       "G0aLqbqyB09kTBOmGDSmVtEv6h1HLOsSMvkPb2kYTV71ZBvkZqQpWNsfiSg9D0ROohxtJxWlU6jV\n",
       "iiHzRcCypRdaPh5ooJ4Pxj/fNyl5Sju7oui4sVkO44zjBOuwPCV7WihcUrXUmJifFUY1ROQCudKy\n",
       "lEDTcXL0zBQPU/gtLxN2WslpbMEQPWLo4GKyxOWj4R25qPMw3p4N113DUrQrqsqTo587E68XH6db\n",
       "Hhof/lGR9ZrGwRWoqPOJRWQU1sUgf440aFlkq4bnd4FnW/X/gUFEmZTNzWTAJz/I9z8/7/e5jOS7\n",
       "MEYyr3Hkxy5IHDGl46z9WW4OzUK+GJCNbVanMd8Pp9Cs0bQWlMtBELDZLa1ZiVYkTJDs1EbdbhPY\n",
       "lhq/Njv9gNKGAh5HrGC4DeWKhuVJE7KpqC+ZARcVGRi/cWNPGXb2nh8lifNh7EYAE+oGiC3/1kGR\n",
       "LG3MjtsR8ja0mLeVPIELNEZNlQmXFNWolH6bfdHkNvBa25VvumSnvY6E4akwirIEVWpDk6rZLF80\n",
       "1HNm4b/Oy93n6YEBnId2de7tNujJyeooXM6K9BbhALq2PuCokMeXvSf1ocUOsmdtMwfxXak1EeIF\n",
       "Ppoo9Lx7AACRPZLekfJZi/XZo0KmmGpKDWAZH0yzhnWnn58U1toKcZukewIPpodQCb1uC9MCaUlt\n",
       "p2ANmZz3RAo+TDo6PeLmNLZYNq6YSVfBjUtU47AJTzvPls+o0Ck4VH1QvaqIBUvYxwVN3SkMkiQn\n",
       "RMe/swZbEmz4XHTw+1t/GvKsxxTww4WSRDZ3xEDEVJVEaBC/mFJWFMx2XAhpA99yFPNt98ExH1SM\n",
       "F9WDenjEkKRs/COBqx5Lm/bMCsuPRtKAnLixoPSQg3msJpEAPl3RNpJ3Xy9LQGDRN1l9jM1KKOCu\n",
       "JWeHeSr7/ACcx9e+AKGqxCDnKB2NDJ29eN/wCMZZn8F9LptyCN0Dfwh4JrshTGIxdxpTpgntZob0\n",
       "yshraRpIrEMy8x25ct21i8LsRXd+gS2i+myy5eJZuxyhFHjYM0djPmmXB1MadX/L/4aJajdr7Xu7\n",
       "BgsrF0NqB9MeYZbD4rwV3agQzcQb20G2dxKdiXyP1+tNBH6bK9VfQenSjKLz1zYTr8zG5dKqCx6Y\n",
       "7V0TsBg3jiG6bAR6gBLpd4kOxG0hDfpkyAORWTEOR8gRkU64ciYVZvGuRiBmHBVyxrBPLWx3qJu4\n",
       "ueLX8X2Xiy8F7F8g/jpI8y1yudnzXWFzeDtzPusvnWEyIft+E4AtaRHC2Lf10UD+EMXdTS3ri54V\n",
       "k5zcKM+2RWAV9g/cHWUuTapHYoIISV4CxuTtNv3AHyohMUC8csdntnyIIYNt7UrgCEOEkVV0vJ6f\n",
       "edPc/+hOn4DpqcYXdnru0f+99ez+pOhH8uk3qWhim3TNd566O1OBnx7zG3g6PmGetnTWeS8+YGzx\n",
       "eHX//n8OjJ0wbqQlP4T+vqaTjNeLgWfsgPxgxtF+bBs+05KpVujchPsdyDYTvhCqvO+bdcwWZM5n\n",
       "gn/ObCS4gvMnAKCXUZP5H+Le/jcqaxU3UDf1pqnSPutJd8SLMf27REFWbymyyj8UZVBwl9ajx23o\n",
       "68k+b6LINxkcbMCm0iETto8i6Ubyxtz33CR8LhirbMCme9J+ZOz447QCh9hE5fOW2KgYDodz9PUd\n",
       "HXeDuMzG9xgMmv3iEc+lDJNxgEnK7Z3DK8DyLRI+husCBU5jbtgdyahBWjPdGLWcgy7+odqrD4Ni\n",
       "VPjLYKr6DlZB+pRWhKbVySBRnbqa/Zr2t5HRLKNVYq4g1n4lW5lxN4Lv/k/LdDQKCyuwDpHwphzG\n",
       "JPuzwjO+mdsy/Pzx+wDs4LrFocWN/acIDbJlNM6XZ3Hq054h0BgZkct0VNXwBNBWa6yd+CWEC+3u\n",
       "DxFbm2fll/No8b1OZLpHntUIZVswI3OvoH0C8ycRP7+0Kj9d8Vx/fAF0FF8PgaMkS99I2qR6matY\n",
       "yBc8wJkfGVP3JqV1CVGhP+KqlrfLNbD7SOLqaQqe3b15AGczQwNnKTPMqpvV2nokc/s2Ilw4imXT\n",
       "I7gpCkPdXECxpDaQFtm5nN52QdgxFdGHEGIVzjGJ4qAUIPYtPhIcjDQdbKjlRgn+KQeZcWuUTNHM\n",
       "YbRjvU1h11YkrhFJ0D8faap5EXAmsJnCaMEb6028pU2YLFOoEhDVqm/4+Nv4BB5Jz98XEf0JvXms\n",
       "Efpk1etfPmIj1zVpOCLkepFPXz8p4pWd3OQ445NXn1tUWnDYYeRPJV9i6dHb/krgKrtai53fwNp4\n",
       "6Vtpl8OFOZiVEc0ID4KHUCaI5wrs2YkSReFWbtSHKW1LabeiVssT0xfLwaG/KnyGtsG/WnqN4EKi\n",
       "a7EY6Kip96Wv/a0VtD/dcpc+grYf530guH6CmHoEkpdeJ3mKxEwPI8puWrjV7XK4rdbR2F4vjaz5\n",
       "iYAqoTh2jU30YLrbAd45vdB/4XfQfXZIWplkUp4oNc3O73AdGfVQl478I1SNhNABrYvEJqGlb5aN\n",
       "96uioDFckTNuHObQQ8B9708bW8XZ2JqKZuwEI6VyhB+QIHqRdAQOb+2j6kWOFE4v1HHbBjx7csoq\n",
       "Ltl6g9EJBClsZi8R+sN2co5GeTPCAjbnRG9AIm30fvwAwmRZjQkG6RoD77Zw0nDglwdKg3dB9SyA\n",
       "uBnd8jLAU7dXl2M0iwzZkfZ+bI+PdtCwvXjJRiYrBCYJiiN694PPhO7LLdvWr9g0PWW6HF46pmFm\n",
       "D+nvwuOOCCC3YRTSzeO6xqfzgql5t4ENX0A9R//qcefGmrz3Z0C+gO7YsYEdAXWxktQbEoptaM0h\n",
       "3pJXqLLmnJECgUgFzJdHB8vq0Yu4i+XFQFezeQ+Mx8M/XPYGYGMyEiRofbcR08nBa4iFeb6U7XjS\n",
       "p7kMGRrBUAGwQmIQghNmGEe/NOmkh4/v6mVw2Qpid6aQTrMtqmCVJLuCUaivxTSbdMBk1jZqBZ2e\n",
       "QN0D6+OuSyyiHXlcup1MnF/c7IdyX1xk29V8F19/l6RuzKAn4Fw49D38dQ/sY72QyBp6IX/XGD4k\n",
       "2h9sncT/nLoAlpV1n0yACeekxbC8ifVgoAZeKTENG36IvTJN/FFAIzVna6P6luClbupqBbvf+fXp\n",
       "RDQAADGz5Kw/mYmykZ7oZQ5vRxjmJkQpZhLHsZ6u7l//yWep4Pf9XwvYpNJgjHKR6ZnNYBRlTGtd\n",
       "RW77Z7hnxwvoVjIdFM1OufZNr6R237O8HQ1GeIjgF9BQHZu1UOIan7td+cKhTPnHAyoCakGbq17u\n",
       "j3EKSW+PCgXJzY8IieY7AAV1kRtmzbdiqcSalo6zlZLsZn8YZgg1lNLedrBhwQ/bizGUvd8Eyj6P\n",
       "3hJrWdu6aGHoqsQDV9xC750k1i5Vd3RdsI9mJaLZHHRBx0fzMNfTRL8x/3hcq9Mn5ReIDGx3fOsx\n",
       "uRTIBLJpGiEoAIB3kSLmRscFoghgVdkivEdWG0NxWLiHEcIUq5WI5uVrvfPn14J0OSgSAtY8zKAd\n",
       "q94MatSL7Ckat6569HP6yOVxODvfd8D4Ywm+tv0HKAQQiAngdgAxbonapnHpkk1hD6qJXJ04E1wO\n",
       "sDDMHQ6CzR6WD8Vjjj+OJOjCVGOKDxa98oyUxc9qEXmQgso6OXf0LtHRwQB6jKYld0YzJKw3KZcu\n",
       "/wvmoKm7CYnjC2eVA6nC+MdzwBkfFQqv4lZI27zSDItjd4ge64MLPbnBUOMN/VLCGt2MwPMKWZph\n",
       "dB2m2AtZhFhHllj2lJXQ5LMfpfAP+88Y3sC+RRJmiwXjGZbsvG69zMFRPxiP+Deg6P3Ydps+Txbc\n",
       "eiyHFycwL4tloZgXFCKKoNXLfwaaCsuNHriKnsry9j4JlYr8GDRN0O/r6VNASPdGDN+S9nhv5vXk\n",
       "i2RpWZ90zR65ObvMVWE1R9FXf6lXJeA0CdVin/riM8QRXqdd3BLBnYwncD2VUyIIvp2+F6qV+LhQ\n",
       "ar34kCYW/cw0MKNN25LCzzsKjlQYJyPW9MJ1foAAArNDpwO2iiQRPwTDEFy2fau1beUyOcWTCniN\n",
       "Giry3gTUXRt7qfe45bDUClJXJ9H5Le4NFqvBXwn0IJ9Rp4jOhz7NPn+RIJx2z/Imta9tlpvNojuR\n",
       "kesK1nNb01LKI7XFm9LECPSmH7A7XQKAwTGAdKNOPprySmk9nq8/osf4i4IEglq1l7ADLrUEfTm9\n",
       "b291Z17d9wHvx5OrUWbt7VXse//S1KmOTplOCnahQPmlmNIJmUKqrNU66tEML2CBxpN8wXi4l5Ia\n",
       "/WqDtiuVbC0ljZyjGTqKoDD87OBfdXP99+fIY/gdStJK9L3Ufabb9zmx0GYwjefXjYgJeDNMbBGN\n",
       "EKIu27DpKxbGCKTMsWN6leEyOcwJL7Dn/9w+zatWvjs8M/MFomN1c2JMxTHanVpPHJIa7PzlQKZE\n",
       "8m+Dbw02B7HBFtUiuyLvTI7IEtaz/pffigl/wQOMlw1M+amdGdsFjZgzbhjydtGWANSeGDR2hqIZ\n",
       "seLTDWk9sW6BXHMNa8XjldpoT/dREv2dgf1iEuAaGnVDhTvkTjZuvOGKMpH5/PVSltX6Y/8+/ymy\n",
       "m64cb51Z48DSfdZwEVQSAqVxr4zr0Os/AoJMz6Wm3pgtfD0vcKmclpDb0p52+3tsETSAmbRzydOX\n",
       "1NTxh8pI/CO5L/b9asgIY/9r33N8IQMwmSGwkS+i2VbCtMiKW3P1xlR/GezhdoMRtmzdihQv+IhC\n",
       "2ZtuxE+aZScH7ahw0Kn4vZDwBVOpBC7QnLItvYwTUU5gZMypJrDKQGq2EjmE+NQ4yW8BR7cyPZID\n",
       "1k3P/34vNO/uqY+vC2VPs5+NhpEsLQUo66dxHpqtjgbXZlzQdt+8Anp1Q/0zs2Bz1MXdd4wOwmgO\n",
       "EDw5g0edi8biisrKTzpPo1VbOeR4PtwVStdsX1EtGI4UWPNk4Oz5KTDxtKJ/R2tBEja4wKXquuyD\n",
       "VUxPYPClQwc4EK0/UnBRTGi4tTdlgldS+74mJ5eSX1/SM/394Ol+tHCfFXfUe0UCSU7H6t1PbM+x\n",
       "sAJEnx6cxiuvHv1UXvCSWi76h2ZAza5BGiXz+5b2QzuXOMJBq50ugVp7uLggY9bb37LjMZfjvO07\n",
       "O/+wkcSeDEzkN4q4DlXnoZCXcwvAUslvDHjg37VBHLiTC9H3YVuzIxOHK56vKix8o904nVrc5wpQ\n",
       "Yy1PLDJbiYOB7CP9jfXNgi8rbKzzUp1TVkz4y5FHtbWE3Vl5beD2a3r42YuzbXOW/NZazVUkCfN9\n",
       "qL1RYcLXSUuDH8A4hYmQ/x7KQA5LbQlcldv2EHzXLoYLWrgqjQMh3mAFVO4o+CJMTL03l9k8LsEV\n",
       "nvws1FTZNjDE1K3SGfFriPHTSTnGKGMAdQHT9Y8onshG9t1qL312rgC35jJCc5ghltDL5SgfB9EG\n",
       "qg+JC6dbZj/QWTZue/pmcfBK/bdEOmpJDMNqJmuDuoQcAjhBLqnJTq+wdq+OhXKAvbmELsIWLS6J\n",
       "3qnT/cR+Y/EwXl7bFpD+Buact8ccCYEUFJrthZ5XBUFxLKrPulgzasmNWBDOrr3CaSzGOrjBgx09\n",
       "/UQAgSIkHOABblYe13N6XQOuumpnAGonAkRDbbT4aMVaywHY6t74G7ZDtS6QOg7sqDiZX/G7ZBgy\n",
       "Lhz140qVjZ5diRcdTcWnZT+9CAKpKjWGL52Xc1vIlb0Pxj+PAL+zNew8+V4qNzYKEVcLCz1fPNvB\n",
       "VMUuFx3rrzq1Yv05bHPBW6KVJcswMnj1JNb0r91k5HocjY0x/VI6PNGlBdxGn08gfcYAzNGYTtSd\n",
       "9fOGJeltk+rWX5LlnukuSrkqM3LefGVpsVN6Q/sXgtdjtgQLNHeUsLiVVygLu4gAAAxb+ilo17ds\n",
       "GtcjSF2/2rtB/ha+zuSGucxVPKLpnOx0HGmuCoDoN6WvPCCOGN5io+xJJ0murta/GChOpCdPQ6wb\n",
       "v54P+JKB+EzUwJo5OZN/yVbn9paY6DoTPG1OFpqIJAPN03p90k8mxOb2U4mMQXDx1AWJvnQbgeBo\n",
       "9mKplAzQyKxItNZd0SeFETzGOU4R58Dn+wa/rknXTMbgsCA4As1ad6qB9NWzV5/PuZDj+5qb4Mj3\n",
       "4PLJjt/azYaHZiWljAP0zc9zeJ0gbob8U8CMMoLSw/v/P16sjeezJsgOFuIrqNo88bvrAQXld/9N\n",
       "6YJVRV+xQe6yQHMjOl/nHzU5M7IPBLGGS52g0iIFy6TbBiqYvVXX+fXxQnuviRKCwuGqp0JNXHHF\n",
       "ZdrUMNDzsChFwgrEpAWsZl6fAGNahEGkNPf6eB8dxvxqPhqV+GSq80nML3Rjv+FmnUj1FqamZpAg\n",
       "lnUt8+2NTBh3Og6RKvbOgOvL63+tdiyhlKq+PnUqAkhu7/mmAaeCv8euITem/JX2N9ouZm4MmnoN\n",
       "Y88yetwfDIHOiXTtqlj2H7pAd18p+SHQAAmJLBlA7hDIHX1qgpfbCnmYeTD0HZPvLz2Y8G1nxf06\n",
       "psWFTUOfpA5SEK5cpSk8OgFt56HRBBnCC8YYDn8yX6HLzXwsQyRlOf+cnJHqOqACaoTu8pNzJkDs\n",
       "u1IPIIsrwCKZ3R+YfK6ysYkfH3euH6E9t3VN8JmjM+OsZG5JjZgYm+0uk+LqpqDbxl7p47Y8WvGQ\n",
       "BVrmcm8szBGaOszE77+bd0rEexuNOxNgHOsE1hjatl1OctKc1n3yqVzv3eAR0oUseNbefvhjXpob\n",
       "/Dt/B9Y752ytlGIGZ6yE0K7QKqySfhGfq+D6yvZF1CO88jor3OV/1k7pb5pGPMHJdNlDZ321X3Cj\n",
       "kg6Lx+kxmfgIsOMGJ0YZbphuJGhbrvUxl/7lwM07ykxiu38kHLE2S5wStqWfxgptVSn9/xCXQpko\n",
       "rO5eM/mmKTWqAaiyNQE6qlNfO/Bc5x6YqszjM76B+1viJkA2PyEbtYCYpeXkBeIk4QD2MYVwe5jF\n",
       "SjT9rTJQiyJ/2gq0H1Kf84fyDORTgjEUCnpkIbSZ2BZQudYDdXukA/WJRreH1T7UeJ8XAA4cXAOy\n",
       "0RJf8eqgHl+WSSwCqU/El69NQi2Aa6YyAd15gkWKdDBMXwUM8aG95u34Kvsel6zjUI/Bu5rNYYNN\n",
       "j9GtnHLohhaez44uwT0IQykz7yce0/n7Gs5QzHAWzKYbckySOAyUoxY0WA2Mls3TETJ5+aFi2uGK\n",
       "9/EKb2MSKYQqxl+zOy5k2WMgP55zww/HYFh/sUl/Jdb2DfnrZcPZRRL86Ov0zfwahgRnrn1dNAtd\n",
       "D9WPbKXz8/jPODmVW+FHAoyAMJv8lyrSCv4UUzoa9ahNc09r8DpttXfTZ78q70x1SvTY88UViaX+\n",
       "we1lYq8HnZwL1KOHf2eu0a0YbJm/deYEWcGEnHN2SviZlYT+YfiEr2nUW2PJzlNyKLGta3+VwT1p\n",
       "WsCGr6cAMUY7Sr8dy1jQzGy0PHF9Ky84Ig1bglPWi4T2Z0w+pieyyZHXGwMUxojZQ1biPRue5NCx\n",
       "x+yNU0DVyec31vl5zPo2VUQxo3xob5xQNF2mDznd0JEszQ1/tCEqz3A2G9rtu9ty27YAUDcGxTHK\n",
       "ANqgJOE4fHcPfTCJ71iarEv4i1jCVapJ4sdspR5DR5aCrpE95cUdVclbGaIg+gPJi9C+n6zPnyJk\n",
       "IRgttoHnAApAQLTpOKTL2n0S7XNt4ss/QxD1IkfFVMPkUrwsIKBXP1K7QKwbCzjA0y3/UCQM00hX\n",
       "r1dSTvQKYGJ2CGx5yH7u3mAHn8lwVlZMrq976QnXI/jrwosNBtXUzFKRnDeRXKRmDSOvF/Q1NtvK\n",
       "ybIsijujXm7i/SgTEV3xNvglZlBTy61J31eXF061KWRXYAcr7a2pjg7vg8/DT6dsr89WqfplD6KT\n",
       "TSaAxGXAUGZ5/3QfFpa/Nqnx/11Dvzt2Z9/DIiAPaB5trP/PPFBvNdE6+y9FZK4ElwTsczI8tqkX\n",
       "JDOf4BvMVm5mdE0lfGn+mfzyk1zzyvUAOyhnXWJ0lWPjOK0xJ0y5kezXnHnPsvskGU9wNrMwCtbN\n",
       "ECOyJ0fGPc8MOsvWH5SEKIQDavBByv6pq+0YAAADAQjPmknHUDw5mlGtiR1wm8ML9RSH3BmG/6Fw\n",
       "kQcOaoyEP0ScCEmjDVwieL4Zeih12hsqolf0H/tStg3S8tqh2opxVtI01j7xWcuYifvLSskbxx0P\n",
       "qcT7vuROqAaFO6wBMl6MuTp6Z2D66TXF3t/Ch+jIpUyBtzyXcv+VaI7Bl+1p5w+6UwM0YIJvIVgt\n",
       "iCsV4CFNBI6/xN0l1WTp06j8huxB9kT/oEPBP9L4XFkALlh2SAFesUHhPUyIm7/K98ZL3An/KgQt\n",
       "BmItPWGTFETCOygiwP/On5gxMm6jz0ctBzi+nY7LzzGT0ui3LPIp2TiOW6tdNt7uFG6xy/ZNt8jm\n",
       "+ttkaTOeMHUP8bLwa33hR2ILfNIWYP1vaSNyyh4M+ANLshe5V+XWbEQKf9C3x7GH3XkHxrHFFzUE\n",
       "scCEfjxLNO5I72qToMr+Xo5ZdbV06Xk11qGEuqAaVADSE5z5yryvGrNiC2e0kWDVXB2DaW4s3Y+W\n",
       "jdvqO4PqeaIHlT4h08qHPWQmYN3EbvHpIatlCp8h3PIN3P5U1fwXOU62PU5pbITed3U0DkuTfmyO\n",
       "qBRcw10g7pDnOobYtsbUr5l9a3vBCBgzdXXE+QLFv1yOFxV3z3V3wIN6UO5b2sXd76I3t6NO/frs\n",
       "vIk4KJM9iJqnDqjyKOG5PkWWivlI8xkTDcwEAuscfBkQOS4nyFjwUfm84X+ZSpXMWrYLNgeqqPw7\n",
       "BY+6oCZGrzLBaitK2m3tHJ8G2w9Wh8uh9NWOvgcBLxeNGDQgxjR5LhfsRVMdmUQPVDP99AfiFbMC\n",
       "AWH6LmHhLmhVJpyU6i/+30J7JdYF5cSb8B+hHQoHIT/jpIvVibZNxsKibvV1F8hqya0WazBkUqI+\n",
       "SI6KTcDQAA2BezvY9BJl5DgTpULaea/VgJf9eJ5Xui1oGTOl4R8YONtG13NCWWyM5qwunFmNMlls\n",
       "xEYMR/4v55eWHNPsYwoYg8gBhJ792gP7uH/XmqL8/WDb3bhBp2QNdz2rX56fbAAj3LFT5NaqvOnN\n",
       "oua/K0K6zLxT1U2grl1l4jhqOVt0DRv9bNM3I4HYluunwMd+CmyfdKIFVJiFYqo5Ka5Lt5i3AzyR\n",
       "GEhbljMhTAhch6VLktC2A+lY/s3H6esCaM2feWbLMKgqxVWfQjIb/uI6A3eMSdXZEGIwr28hvGlq\n",
       "yeuvwbdok73fIW2rI2hVjbd9bE2casDS1PoYmV+5V4ygEPQnsgtLMP79YrhgjL76S3suEqrQgyqI\n",
       "1aQCZLvj8L8fQwZ67TcKOOIx5Av4Zmf4rLKDC6VOV+wVdunXmkQUVQ5KHk/ExwQ/WR/LAyxAB0Pr\n",
       "iWGYRlMWVJciafwVN9AbTqvCoEz7YqldL8PonqDF7/213VIcE322fcXAsED5Sy4HHJHNygqinjbC\n",
       "B9bxx6qaq2vMHPDxos3SZTSmUpgLkzzqYsDB0fRHPSWZKcKfqK4ARbt8kPRxmUqmfXN/PLwuxJhg\n",
       "2+FToleOK2vL6FwdL2IidCe5n4Zo1xFgXNjxqye3NJZD2PHuIBCbCjr2Jy0bspzOsD1elr+hfwh+\n",
       "d6tYbgxOUYIjTlp8bvNBKR849+L8frBDU3qsQFbXIndHTO0eG1kn7Dp0szFZyxgmEMxzIfCfLctL\n",
       "dJamsHqWMAQBacJFquGjkLUX+QSVhU+TlKdcX26rKxpXxkskEnE6vQjFVt/r9+gDiC9yObB2v8UD\n",
       "DNorYl5YEyWDDz1dngjYw4k9Vgzw3ZsJfCopKtNoAyoQXwn5+XYncUFHlAPf15BHCQlLI4C9goZM\n",
       "hJyilU8VlT5omSETPu4FRD0wyOBa3R7BWj4mJ+1VmAV8Q5/CrxT1NHfQc96pV7e8hn4GGOlGCK0O\n",
       "6yCnt37qESjeSPcEX0g9tXpYf3fSA7DOb/peg75+lNpTRoUdjReQuvJj7/ZBDUtPT44G9zLQifH/\n",
       "Yhiky/DaJmd8cpHpRJRsW7hr55LgboqVBDY5Aic2g9otHajBjTe7V/3t/NlnNkttZ9yz6fU652aj\n",
       "ckaEw7o3xDRAEJ7gbfBvG/wvWz90kUHPs7v7j65VKEMBDfab0YKLk+l3zIl5PYBx6WKNLo5XYkj7\n",
       "PJCeA8Y9TK61bbdeAZbTK4CvQXdQTc/K64/8+/NlQy9PjCEZ0tk5FxjjEhz55U7Red4jiswPcxq5\n",
       "ck2E1mR9SK6SxqIBwTs4VmMTNsRapXq4iLd01PSXb6Hfi6Iu9/dP1/gFFjV+MxPU2KuEXaQsomzr\n",
       "yYoh+r0vA8AAvLG5pvXuAkhVoSTYAk+TslmKR8G9ojYf8OnLE2UbIK65vEcm8fytiKLTUxE4ZJjJ\n",
       "B+n4aeYDohiGFgfPJp/Mij/ndTu+w1AAMA+8w7cmVU9uSfFcFLizvJ9gt3QCxkIHz3dnM27qAUmh\n",
       "BshoCxNHr18zjpqn9+p9IkEYRsZu/EWy34z/eiMlQDQVjDDfbD5w55IzjTrZRr0hawvUI8Xv6b7p\n",
       "FBvEsQe4IJkgp5Y1HlgtgdYwamM8FHcridpeDUTBved5CK44qa2G/LeX6qb+fYf9lamUqZ5AqlJY\n",
       "Qeqz78kFk68dpz+qENteh/PfSw1OPktW+7bDKtv54ji4Muy+RTyKNLS5bzQqlldtwDWefjCINe0O\n",
       "gpbq/QxoKpRrnFQ2Sb9ElTRMuh/mlfoH200RYQHBT8EnfQzjv7OizfEyJUmVF4AWhKae7Fx/gk+G\n",
       "w3uUBBZEZCjzuiYiIzaip2fCheN5Nh4LxBOkMIw4aVVIffw4+N08ANbQWFsFN5QfT7FM8O3+4hQM\n",
       "vfRRJlFqepVySdktW3satDv59MA/7AGamaeocVRRyhLsA4VstXfwikdAxF6fBjp28DAJL6yjLbJx\n",
       "InQ1DC0cUC1FTib29+unoLrn6dpLfNqJcP5kdMSfGElYl334cG4OaKQO90Z8Fwyxor6YEx7wrU45\n",
       "mdiwrEawyuARvOP7nhCNlZjo26bpHZp9PkBUrAfgFmtT/NRq5i1EbH1kzcq6w1JC7sXemIBv9Fpf\n",
       "spFVwsBBLwpMXR7d7xDau+I0ReRyNo5wHhTo3CQ9G1OykMjC7hbR3C8DLSbIIR6t/hvdANGlDp3y\n",
       "Vev6V/9d/4LInVTPL/oihFCQeK7CfhDOgZPfenvvF1lzuxpbKAiur0YcTe6YwkY7Gv+OzQ+L8W7l\n",
       "IPd5vNd3unOKrWGk5xbq+/e7CgXrBWrpoVujOXThiDLKcsBOcwk6j4bnfpk4gx8/dMKIz0OQGVhF\n",
       "qbAha9TGZbL1FY1cs5B2tj9MbYQAqJiuecoMh11hJtALv+16zrt/+gUQ2aCRKAw7hgrwjq8aIbri\n",
       "2PUaTIQvXZSoJn+CjrRDyTO5kW/sG4VZySVFkfNjoEyfvDyHoHeVjOZB5LqcDOBW7JA4BAbJ1Y1W\n",
       "M1qD5itgrBDvZV89B/5kAxdtlnhe5YC/NxsPviILx6PgFyVd0g1f84JnZPA/vHKkT3VKHBDItWo7\n",
       "G7oarJH7I9BZJ1t2e84wrtmRr5QCiYxHxPQd9flonyJxEZrE/jYREk4Gu8FzFZ8jB1zh7AQdCy1D\n",
       "Lry7pMI2siVuTzhO2lZWnvjq3rbCUe9C9C8KZB/wQPqfm4ebAcIV5eoZwKfVY91GiAjMGZ4gFaWT\n",
       "9PqC58gUx0+BAC3RoAAAWyEDi9qT10EMQ1XmbkbD8NyqNi1Z/69dAl3kHaOkNSSD3ckwReBU8zq4\n",
       "219XGpjKTdtOaN84nCXib4m5U25B+F8tOVb3wSuXI+GQGaQI+IWjNlOYvy11x9jgRrxNJOsyIf7q\n",
       "VyDyWn32HFz1owCedZMdZeClIYPXnqB/UvmsmU1hPqu2n1ITq0BmdTcsBMc+wtDvvR6x5sOOkJjC\n",
       "jdcczW8+YuqJw75JKd9arIZTbDltdAnIPBuGy9IH58mzRfSyy8mx25FNbBSk3NM+fdXhe63mw3/i\n",
       "xmE/IEvY1PciI21Efl8i2dqmK8LiBUHIFszXjs867Mee3k3/V7VlkvwHMEIBYk8W1hGxHpS9zk4t\n",
       "lNTEYXT+sRxkKMwnrSJUe7Pv2Zu3lqgEtbvmgMJXW7essjFZt07Xf1pWyaY6rkQ6Z1IWYfJgJSbP\n",
       "iYQbX/dBndpsjEPkLG2urp/67UoCuhyk5pH6SLwhdX7WFBmzVASEgPFhMgimZZQ3Y2aIKb3bSaik\n",
       "yVzSvqUUvnuffWNoJ0O01jt0etS+jq+8u3ydYR6fzODrA7rFlvPf85Fr8pyBQN0wR73v9Urpcgwl\n",
       "NL1Zn4YRQG+AkSchzz9f3awXWE3tHH5ffSe6TZzEH9OKL0lZqHYJboexoKMAdv2M+fic7B4bvuNb\n",
       "zMQHRW0bmY16B4kX6299u12gnjwI6rsRWa3//Qh9/h2+TFy55PpKthrs/+YktRJolVaByRLWZvdl\n",
       "6lt1vPwnhX7OJLVUAiD/dc5hxo0yCPdJ7ZSTrkqxPyDGrQZAAEB9uDWjduoGJG4o695WjFBG6jAB\n",
       "GWR11HHrVrzPM401Lj9QAnEbR8o7ZmgRybYjwgFlDwRYGmjD0q6wUywk8PZQarsK3mCknHfpajS0\n",
       "k+uy9O/1SCYy4m57Lr9Equ3WX9grG4tZqz4eijeqK/Rnw+SCHVWnZO6H+p5hFxL9P6CN4+lZ/2jr\n",
       "H/7R0/9NtlFNTV+T5T8C/FZDPwlsp60GeblAaSZSPEX7TN0UWhZlVgJwpqWILFgVtRvicK4doT7w\n",
       "CacqFFoZXSDVRYMGSysJPTevzGs6GAOelZ1WkZyl9NDV7cMXFpEAXUoFFFSXHRnHFhN5+WnKRmdY\n",
       "yes91OB6+HmCQlCjc6OdLeIGaO9B0vz0MQ1CFhKSp0xK2kzsWkCxfTjlKVJJqSPsZsDC5xxqbU4A\n",
       "H+KZwZzhD3wndjQvTLsriJTXPVDtaahFcQDvmkKfSHCdz+XPdXzNXQgH23YduXkTpNASHX3RUeSh\n",
       "e2SvX5uEQpM5Xs7xyMDPMy7QWTlnmkei+gNuTmvkDuPxP6jYn8UU976mVXCjUQjmPT8abFX3ydph\n",
       "XyAOQ/WPg7neJ+fOnBtCpwnFLRI/cJG/bIflrlPwRzbNInJ+6cXRraxAXiErsVkD1dgVVmmuT9Lj\n",
       "XcN6OOj6AnWvvc+pLLTicyTBTHZZP/b5UvibScKwylLyzFSyyAZrXxpiKi1qmqaKf3eZd/D2pes0\n",
       "HRt1lyVI2BSXAWANS7SAAkYuaNbqwzsWvVCngZBXMRY4mF+lE8D/xKuZTwjoBxtzO0PObFVNZTAr\n",
       "cnG0gL3Hfp6cMB2ch4c+u+1+q6r70c+N+ZefUKzTafMCnL7tKnlWk7lVD6QvDBiXJdhJBtuI3WdQ\n",
       "RFUx4jNtdkiAVyrIzriVY1RUm1hDN4gtmWhVMBqUig8ISSzQjCY8I5cQq4NPyyrbwLhpuPMvzSOh\n",
       "WXgRwOyf3QvRcA+Z0rlLmVDn7/L/azjVQ3Y3qatfNQ3n+HyeXhWdcC2sJQmbNtRfAGRefu6iUytW\n",
       "jd2YMWn0/rOW/DNq1OX3AC23QkvqW4OonIzhBkaGzRvUq4jc8Vmq2pi3TJmuNZyPBtDg1PAuIjUg\n",
       "D0G6F2pdBaQ5eAclSt+uBP/8eBYlfyhOEpgqe5xiphgjUYIJTJTtM9q5FyhT5/IAZyfCE0ZhHHY6\n",
       "9eiCxI+BD/bFJKJNj9+UjOJJigZfOhr221hofaIiuBWQhxHaQDCSmStHABDiyD5LvudLpyq0ya11\n",
       "BD6llyEdO1HK9R5Bkv6OHE8H0jMxoLDHY4v5Bz8h25H6WpCifv/eTC4R+XByx26CPEAl1yut6NLw\n",
       "ZviScJEPtfccCingkULqF/XAD9tC+flQN2zlybrLdovmrksJq1nXsv9zFlwRkL4oMuSKxWvciUqP\n",
       "4+3a3y7KhwglmTb8hmykChp+okk3kJs7ObLoiJiRyAo+21YdpIlSQ+npIZxwhLdGMuw5IEyPKeuC\n",
       "3n007ohiyuBWIsgWjwGNCy1sh1GPQXO68l4V+oON57pxNWITD9D3bV++8Nwz6grFgXa9LBCD9Mok\n",
       "BpeXKISCGGeOaeUub2tRA2ZVkmYHJ5xZdQs54NmKgyB1WS0ZypI2nzH/5YVH/fJTsRvu1wSjweM2\n",
       "Vd2AVELi3KH0cJyabAPJ9RodzWbA7wE/u+Nq1ThwoBbIAw06b0FAvvPkJs5YJ4p2BWHzeAEj8kqu\n",
       "t5Q8KIpiD7UMFrSCbgC/ErBii9yzhsh8uqDisHSGW1BXMllRIyOnxItySSvgRj90YA1Hrh0yISpP\n",
       "WALnr6KYVi18RKgUAzBzct42gTYfiqJZoZrpC8F9KXfGpi525P2m2CXOFJ1+2OBY7VtLwPkuBL7v\n",
       "nlhO5Ae4AWiP6sfGun2SAAADAyrv1Rso8kuDXoOxUS1SMs0yxuuhxWSl9qRZGBEfNV7NzqKgw6U3\n",
       "L0B7RjMAHbSm/vDAD9ZAsUar25oFI5yn2IRrlSOEKEPKEMleCpDsbyO5EKORlrTUWq3DnOmJfnTP\n",
       "ssTZQZqFRdi1/TCoZMH3cl6Gv8mDQut3yabKzOZ7NxR1kpzqDzkziRpt8Y/tjW1O7w1J4RHrxH32\n",
       "aV/gCy+hh2tzxbAiW6GJSAfM6LsjcLTDcf8+mW/VlN83dcjuQ3GJR/vC/B0+vQgT7NM7wQTh3nsO\n",
       "Wlqesia7hDSXWQ0hv8xkJv3lIwbzxyuTkeZCzS8zqTSdXRzQ7JXnaWiasytf0rOfuckKEi8vk8p+\n",
       "++4Lw7oAVIwpN50w/Hwsebwyt1M0Eyp5Lh2kiIlP5EkicS2mtGCgRP8xGhTKrcuR2wFIknG3w1zD\n",
       "2TIzjze3qYpz6CyTrBdKN8oCHdVb3fG333n4mGJJcqDPnWU0/29WUHHWofLSM2SJTE74wOlnXq9J\n",
       "jsRiOI8NT5hHpALcpTRPlvnWcfz3Z4Nu7tQAAtPO1UtB/CLWFSHt5dHgwP5tDaauKNZsSxIDeJtM\n",
       "+mSc0qCFwzUVqB3K5Aczl7a2or9o+BjQgp/MS8CS3oCkbF3P0K/QbE7XaJ6h3sVkJC89+ySAo0LB\n",
       "zamYu69E5jIj9TFJNOwh0X0XyOCBVuLkbopcxV0Y6K8WNFAerXgjyuIeCnQfi9qSkiy/BCadCQcr\n",
       "DKFq1CexBBtXBhht+xN9TX4934HL5GegNkM8s3F0kpnUQpffCyaXyfqLirSRavcBvbWXwVc7PTp5\n",
       "7zhIQhU2myoHyZAR+yhS3yE/K2Eq65ZwUk7C3kpPf3LGmpzg+osdDIvouu8lRSHyIQmXe9pk67kR\n",
       "g7JaRUq+VPL5ABmXeN2CJ7cNqkg8EuDJaKQmw82nmIeSduG+hb68mNU44JtZ7Gbl+5CasfDNHv+c\n",
       "g47OZ7gjEZcoPfw9rgfhluYpRVSonsWQXLQT8GK+aPKl344R03d0+3wyt0GaxAplusxSc+h0xnKx\n",
       "bqj1UQ0gkK0aJWYJDS+r/M/EtRU7tkwGVttN2zbhHHBjmg7iVngVWmnBF4UeJbE0X11Mq/m2OMxH\n",
       "wSFBzp/rexY8s5lnsVYSIxntyf+w4qNjnv4nC93dqpvsrZS4ymwXmu/da7KEVYKnuh9yuiwlE8cv\n",
       "4Pz7WwMNAMjfNOUZifn+vhlMz4anVt91oc5TWJhQHMeIvZYYpI06ed383qe497lSp0QFIcqIUbEE\n",
       "nxKOhItlCxX+toabAR/BEc+eQJGP/nbGdVfOkgp9/vV7WBbpqI80zCPFsOjyaerc6ed1BT1oCSP8\n",
       "TC5KMuOR1/ZvMvgBMcO3S1MlmqZ8Bf7G2K8Y3FdVlV04Wn1pvqavQN/B5oIQoKLsiLMKmoMG0EUt\n",
       "mOmR/V8hxhTWPmAVSsFkjpNlq2EbmMJqhof/mn15AwJw8129og2in6mJcKKsdngEBAuPmwGrcTAP\n",
       "GJdu8ut3DxM9NSFNE3ojz1B4+0cyxNsNDauNQSrzpK4TI5NzEj56gqUft1yxmb4NNYJQYHfeqEc0\n",
       "MF/F9E1YY9My2EMDu57bytOmIXIJDIr9/z/xzWKM+rPqCkl70ZKNXNEQtrVtOdvtI5/yiZ0OUi5k\n",
       "D31wFCaqrwgZnyit+BM4qOPWK450z/ikDSHXQpElN0lVKzlwWmRIajfJ3PSGLuBdxk7p/7kezUoa\n",
       "anuzLwpIGv0kxlr0iaaohP8kVN6nlk/6buMYJ3Jc+iPFfLjoRyUWuRytxJkSvioIsoxlPnCgcoYu\n",
       "qrcfo1GGcwE0i1g8ljsvcpKeaUrCU9caRiiPxL5AI66vnUfzo+J50TX5bfnf4IosYxqvqfOlKbh2\n",
       "z/0PYIss1+K8Rmb83Q3ahhfhFp2ydXEW0v8DcyCaO+uraEgFZwyHfu8929+4xiQAAYxBxTch1nHq\n",
       "J/EH9nTlJ24ELoGK0RltukGjx9CF1j7hjRb+v3sxassURPi03lWBLTVl8OvOr+lj5elDFEwgRFBh\n",
       "JhX8O7wwK3Ek9qoNnHheXG2Pg5ZsXMnYjqEF6jjIbUJ4iGMIog2LIY7X0BWBosadOndJrKjGJ7TA\n",
       "9eupUNBeGEh/8x8Va6wDpGaXm2qx/itF/QYzVSznw1f9ENvhNfTsG66YI2/s0Jg9CbqTCnLF3to0\n",
       "Wo4It2o2mQgytx3zFXWeAGSLHpRIc7/+xtBMban87oP2lG/DLna02B9FrPR8vntl+UGYuLDNkTta\n",
       "gD8RFUZ852QMiFuoeK3YHkxZ9X0goH6kjsACMyU66NT+UG6tpGyqhy/1zYVIAALPJoqQJeJ/gQtZ\n",
       "XDnrMOiG4tgHrRIcF14Boqz5xVrROQpzw31UljwC2qpXmitJzT3KobN/4tFcWijZD0NfdK/ni+0R\n",
       "fjnab3l+NKA73DefxClDz34AyLjGi70bLyc5NI7N5wt7haPOXJrB3d96xC3zOcXNAmC2rAJ8fGmI\n",
       "LBgHUZ/WFGaXEkksyCp5Gg17CbGep3FgTaQkqwR5pRr0KKOrrzkNV6qvt5rg6zHF+RNGoEIBc+Dn\n",
       "S6Rf6jchLDsuhiF75Yo5m7lVnUTyPQNvh/dYFdZrVmvxUxffUICaRGaVbKCPfDLqfX/6FbxKV8Pn\n",
       "PGNHyzFIpiJ9kZw8kgCIWIKZGRGjTSiFsrjkMmfW00EI+jYXgImJKTOdmm2xRmVXUVUHxBFgeUmp\n",
       "g14k1dM/wjA81Ogasop/Q97b1tXcAcuglFhGey7Hj73+FYVyo2ydJBZ08NiPdi6aoDjJP+ExwFGn\n",
       "af4uRt/+aOLBGGR/H50bBxDlCYOt5OpBW2sFqQ3KyVsSaZTsxHNRx1RcwE6Ka1O81NZr/HwgtrPx\n",
       "D9UfOSnm5WjLMkq1vsyHkUDjMzkO8qWIOXMHo6mFPfalwhpwhTWSmoucOE6ZbV6yYzkUMrSnxn7Z\n",
       "Cu2/uu2CDh1Ft9FltQP7wDRLIFWQ3P9s30pOfFIXqdx2++f6/a8h0vGq9Md5bv+z2byQ9mipnrF7\n",
       "RgqJOrPExM8M7WPOORmoDWBjoUlE6O/zP37wf6NHcRqqiEbbRkR6GAewObOoDo6m3LOl8RQhcHtr\n",
       "IkUqDRRkOzlqnDhAx8pazwM6NucIAvpe/HRi2oBis9m+Dxm0xFUgET7gjn/cmuwUQVoriFpbrFo/\n",
       "3SBigwzLlQK18qw+pFndBVDVksoZ9d8vwiOGMVC7mZ1EJKD4g6XKhInfvnQmFeKo3/JJdyBajO1x\n",
       "00HoPXoUnIvKbRi1+ZoDfVcpNe6LYlBze4iOh2LkEak+oU59wDeuJgKRhjioAXewsfl8n+wCSulA\n",
       "7aM3etELUGoUuuXxURDOw1xIcltwXQRYbYL5ZVRK3IarYCPElANRcv4quNfMai6RtpEJUOYNY+su\n",
       "hiG5Kyzx0ofBjA2Jle+a3pGLe9A4U2WNfNXpP3EgJVJ2Zb38K+KTLlTyUdNV4Ob7/Rbfr7zR1DtV\n",
       "oxZlwrREFvmK9yte7OrLwchnNmh73MtOJ8QJTX11S9BFxKwIVafELRCsmEM3EG/PsrlDLvB7gJoR\n",
       "bBVkeoWQjxlDVQrRRd4VjJlUB/J+Pa1x/TD5O6ry95vDqhoukx/S7hysUTstgaexD/ZQuMCvGKZn\n",
       "AC0a5t04vXhxgL6IBHWPzWTLZC2MRdLVfLddYdq1lIdMxEG9nk2yziwyFUhJmJXT4mLiRHWwqWac\n",
       "LFLizPXWXKI5wofotTPLj7PskV08jMW+uF5ZvpXlM7iU7hc2MI3/TT2pbSF0Bf0+5uMLhgxZ+WSv\n",
       "PJqEre9xIdUM2XowyUDG6nRK5TBFJivkLM4s23Adx4zN3vOkyi5Jhd4n6nEu/E9EKm5WmRoXcUNz\n",
       "iN06JUPJudeyo3XzcZ8MyFeyp9QZ/N/6liIsmDa3HmgVwKtFygaKTx2ee9U6MvRfyirVZ9OB3vPX\n",
       "NmlhjcAtyyRelm3QamLzGkGdl6ADVrh5xHBL9E2SF0IrDAHCAoYwttycu29F6Yz35jkO7Sq2HZYK\n",
       "wYMcAC7mCTgvNXJ7G6A0h2+RUpEEjxERLT+l4oDnAnSOccVINoI0t1aWk5Fb42ysBNzoth509Bvu\n",
       "bFNDDSJ/ya5//jTvaS5qfDQyOat3h87syvPpM2k7mniUhpFeCxL9HPF+hcTYUoeqOZGH87TjFmAr\n",
       "9qGQC1euAEwPinVJpG4CtulE1HaL5V53tH4syeIMH5GJCschIPEUJJakcHkmHnpfhlbUREjHkepv\n",
       "I9Hx2BC3y87YM6keBm9wFEZgymEIDygNSiyfwl9Ya6zgIa1XCyjOYxYA6+NxPR/gwoJ4pgs0Cnxm\n",
       "G08NcIeIGH0Z3/JxhGuzPBT4/Jew9wTU0dFS+O6Bhps7kqAs09u6WmMLl6+oc4rrCd8RouX7B9xM\n",
       "Z44H9s5e7ek//fH208+vrcl8nuVqwNBN0N07Y1Qk4pkppcetNH7c7u9nIFqCc479S6RwFSIV3ken\n",
       "wlyKXRorXDu36rM2pZv9LNgvASkhy00bMVuXWKVqCGZpsVj/M9m9tsABvVlBabjSJpWiO+2gN84z\n",
       "ZPDzYgDfqyMJU0ZX6GB9TFOClCxq5yXyOEHZuzDr8OTl2VccF09gwIWboPPFvow4hLMIKm0y0AKF\n",
       "kg1xwGnq6jQHq3r8gW3kRc7g/cW/U9YsQ42tsXbujHWz8KHsMH5m3rwwP1bAwV8+XIR5XPgpN2UV\n",
       "76mQ3qb3vYUjAV/Xla3XpgLj5gT1WpND+4yN3t6vKwR9M+UuNfk5DMK0MuogVkrHaCYr2NJJNHAB\n",
       "TjG/CJslQzqq8lbWeYD7B9fXzjftu7ieNA/b1gRC3uxmA0jW5voyV3R1R9H1ayA3fsMvEkISSU9L\n",
       "Ast9lSOYrOl9mh5QRP6SdwnprQKJLo+FJ6mQJclQbVSoL0Zi0P8f6dNMO8pFppIpMwL/HvOpyq35\n",
       "Te14o9UGk013tOtu0NTCSHBgTYAcUDsizjfjWgOnMySke2jbdkx4dd15zvm3rqgz0YXgg3GtETI0\n",
       "FDDogjtKKGf+0Rf+0pkivzZ/CZivsQA6LocH6YAAAKxeVFhWJa1qw/RanDzlE12jTnaLiteNFNZF\n",
       "jD1GpAt+0VJg0K22kiuopyryxhO+3OezdgA8dtosLAtOywm+DXF1EwDLogihHgh/Rf+eD7FjRHFZ\n",
       "goD7cbZyC7vL71CMKoJib8xfu16kpKHE9XSrbc9dKKmvcxlE21aOOfvFVCpwJiPseDRI3ddobYCG\n",
       "KB2kHH8Wsqgpmd9mK2n176Kc6qo5GUyhoXor+DU20gUPotFQg+GGssjC/PObKKr5gw9hx6tiq5Ds\n",
       "8CNc0u7lxZcB8FUzTnYmQM9eRNaUQ4WRssoS17QPr3PAiaiis8XW6ZKcCa6JokEmR26l7Jxc/gFP\n",
       "GIAL3tqpnCvXlK9xs8/semSEYI+vXI1t9ClYObfh+ikM09NENakSLUBvVoyuBeiKSqV/VbeuqQWz\n",
       "2JgLSAia3kPBIl4AemX3AHuRHPSE7l5z2eC9TesQZ/avT+maq/eP5jH4/b9/QLrWSouXi/y0kbhr\n",
       "SDEc3NqnHnSpOe4PvIv5iJ4V2kCh0OdfMRSogWkQE3V28Q6gbUygT/yl4P/gI9gjA89PpLcWUKx7\n",
       "D8LiUfv0zIiGP06TvZcwFX0dgnY75WtsywNL3Ife4gT7+KQmGVISjiiidvIW53lHDnuBtL5FZXC2\n",
       "4vXsBulfCp0C+6GC4hU1MMprB9UTI8GIbdlfa+G7ig9l9VPykK97UpD+jTqyp4k8gmFUWQ75czgp\n",
       "7Ct1H69scMVdYXtu/1aEtfB9aaI3auA9sEq5cOBg0RAXV9cqoB5sWTYPSM8OIeyT2+qhYOCGslja\n",
       "WV26XpU+ZZK8nAICEL35A3psqTP4uBTMn0PWCV5elInkq7f5U7WhLGloB8bLZ/HwY8odM8bm5jls\n",
       "pouEfNIACRNnITry/fVlFanxL1N4ibWJ1qKj634Vv49tTht2+JeDXEOAZ4/Zys3ylWy6RkAAAAMA\n",
       "AAMAAAMBZwAAArVBmiRsQR/+tSqH/cfSADcsqILH9t+q8BVckHGICgdH4UTb79IiBau+RANF3UQV\n",
       "aopOUUV67p83q9cwBjOsE/BE5I73285+rUe4E+b5kyAxMUPq+KFvYkgtBT11/ZE30skV5r425L1r\n",
       "DzfqII/Sc/nHXSRijhFqFXn/CYP9h8V6YhatAKBP9gQLDzbjZshBj9haJoSuqhAgZg+IUr3XAcSq\n",
       "qdvIKNfTpizjVWiG5gDsNc+COvZPaHw7O8yRehqgrjhN5xGoLWK//edhy9H3pfK6R6hFxEVJT/wl\n",
       "mtuZETYA7W/7lQaiHN/75Z1RR2+qrFw1mUcPLkU8Q9Xw2b46lntoup5AqNeSvYdoJVQwjH0Qg/s4\n",
       "2IFyFa2M1+S43EAouXpwox3SjO6vNJaQgE7QzyXgPwC7TdX06HzVjWL5T1a5syUwBt8gBYagQ4qH\n",
       "1/QjFNLmMe9DNhOnvFvKOalnsJsWGE67L9mVXqWzPMV/f01CdSvu1IjSI1FdGZsPhJlTDL4+XQXW\n",
       "S8nsszigM4rV5lXUjQcS5FwlnsQLmItxeLzQKLovIwi16V9dhWJsTncJimUTdFTzj9b0pgW7f0yB\n",
       "7NAKwlK2LIQQ00JUwKAm/Qm0DaA+fbBbJupx6SQp2EcZzh/M5Z4Vupj8uXS7aFqjkOW9/rIdeReu\n",
       "dWVVqBJD1yUv0WdtKOQbaHk9sHhwWLb3ugsKK11WZ7OfVdpFc4f1UNXfG2BZd+cUOWwH0oSQk8Mx\n",
       "T00s/khiZ4+jz+ACa7ViCBgsy62X73eyU3jGCzbFjMl3/bD+pTbf8eWsoaIWRXgFSAflcu3xA/aC\n",
       "R/OSXd84BmG5Vi9W6NVLJOdLy98GYLOOtgcYKVnrlKWuV3TKn6XGWb/j1VA4yC1mS/aQvUBVw55c\n",
       "odrZIU9SFIA1P8O3Sq6MZUoAAf4AAACSQZ5CeId/Acd54lsopRJPrlT3xsuPwG204f+ppGRA8jpT\n",
       "FJ4k3p3gDkDGC4+wKAOyce3r+vYCw/Y3hAkIJ8ogCsA50jHdlbM6FK9UamN0jitAATt5kRjV+1Ka\n",
       "1/ixwLfd4TiYuN7TJMlRIQcIaVaKipUdi/fhNSBYAhhpYQGI/t89D5GFq3IGG+m5hJhBH5qwA/0A\n",
       "AABXAZ5hdEN/AmuTt7YCyjmo4ZKRuYAAZr8JFEXsAEMXgBbGUjvBx4Sb0AAAAwAAAwCYgv6rKxkb\n",
       "ji41/0mXnyQaVryCTdkXmsE9sHHAyt4cBvC9HXwlADKgAAAAQwGeY2pDfwAAfwoQIPGGJe+QNcAA\n",
       "AAMAAAMBXGPS3yg0KAAAiiYcwg64JnWLwCuMTDOjGL71ttB2r8hRNkZLqWnuLuEAAAFaQZpoSahB\n",
       "aJlMCCP//rUqgAb74Uw5zn6r6OKhUAAABw56wASXV9KchIe3jabtWFe99IkzfMiXlge2Y3AHkJ9O\n",
       "HAgAAAMAoulQn89IACfV1VGB91t9bk8N47MThZBsYhoPYy9y02PcNsmbCvnWHAj/GMnN0KuMV2nV\n",
       "I5NZvPBJV7BoKoK6MCD+keVKD1vW0xv8D+T5/aFRtwIJHM12QpZhqP8VMkPFsUZ/yYO2HLWIAG4U\n",
       "dsotQf7GSGdldW3W6kRdfiZM2bXaassMciMSF+bNHulfdHxXK17Nbmjak0dJ9xuHU0nZ0itVI39/\n",
       "qSVwCvv1b/N0ucmh8wZMrahIAiqoXNqDbYZr5+IHhuQwG7MM1rlMkJ+Xr5PtQW/Xw5X0dmF3bpau\n",
       "EZ8RCiUk0JbD2y/4HFGi32fRECkBgX+Jo8an5gDA9rnyCPj4lEd/pXoXkUecYshd7nQM1YABZQAA\n",
       "AE5BnoZFESw7/wAbLarhNYg0zLUJHvsMIAAAAwACWg6201hxLgCCgjtDAAADAAFahHmXHGAn+oLQ\n",
       "xv2Vrj/zGqcdoh2DuhWRr6BxQQwArYEAAAA5AZ6ldEN/ACavsRSLQwCugEknoP4AAAMAAAMABrsx\n",
       "C08oAAADAA8hBPPWMuhFZCmNZ2YMxGQCggMrAAAAPQGep2pDfwAAAwAeYoQIPFwAAAMAAAMAHE94\n",
       "woLPY9gAAIBtN0Qy2j8kBGaFd+AczWsjd/ZcTgfOQBOQEnAAAADsQZqsSahBbJlMCCP//rUqgAAA\n",
       "AwAAAwAGe1q9B9Q13mHs3dO14AAAyPQY6GAABHRIY2j3PiAEfs/57c4Xqp90glIbeBz0zJMYUrqb\n",
       "kZxjSUbeFiCTBw56ONT1e3Ug3JMHljE7DNk54yms5afyIgr3ZSJJeAKYAT3hHkRzyM3ZNomwfUJ6\n",
       "N4e6fzZoKe+ZzbZLSvBhitdoVuNd8tcoSOZ8m5Kbd1z3J1CqIHLNaGCm/u1MuKqbAEKgshENwrZ3\n",
       "mcdHXW39vmnvFvgs80atv+xQVJ3Nn4i9iPoQNOksg06C4Iy+E+5at09lip9+HrAAAAB8QZ7KRRUs\n",
       "O/8AAAMAFccLaWSdgAAAAwAIbABzhcr4Njs6stNeRAAAAwABEBwsOwzRbDuhwb4bwcb/FLMTdA6z\n",
       "kz7BAB/AqwCIyvafKwr6c2S3+M+p8MiUMVTPKFhC1fvs3d2MW+MO8106PpNVrB7bvsuSXMwM7kjq\n",
       "BKQF3QAAAFkBnul0Q38AAAMAHl02l4nYAAADAAADACjdkYUFJqfgAAF/9l96g1yiEMShqfKD4nPH\n",
       "zTJ+SAAiD3AAEXl599hP/92U5oh6xIe7fTRtM/M5av54T211BlABbQAAAGIBnutqQ38AAAMAHmKE\n",
       "CDxcAAADAAADABxPeMKCz2PYAACAbTdEMtcWcfe0p7jmOrP+zr/5cAISfApjhw5DEslHGEW5VCIb\n",
       "rpxWVyKkYd2mXli/ojf5569fcM8GQ/HyU1i2gAAAANtBmvBJqEFsmUwII//+tSqAAAADAAADAAZ7\n",
       "Wr0H2YHeR/TUimkg5xBDujruZJ5uWFq1sYxp1n5c9bepjXrg475tb1Ue7Mz9CLKHVBbTyUqoSfRc\n",
       "9onLQxC+VW9P3xZEgDxUOINnQB61PwR9s1v7+VIC7BTTqkbj3Lu+dswPXTY6nMgPG3eBPKppHQLX\n",
       "Q8AnwbinUTQvAADLxJzAedqd0SECly+HOxJgok2Sy5LMXiNltvtDNLXfHhvcymYNfCPwTftFXhdT\n",
       "QX8r4pAnyAh9rUUDBlETdwThjJlACTkAAABWQZ8ORRUsO/8AAAMAFccLaWSdgAAAM3Gtxo9xiyCX\n",
       "bLm4WRKm81RkEo0YAAADABRTx6RgQToszazAysDdUAEz3u0SeaZCFlkxt/3M3UZ+ws0MkC7gJuEA\n",
       "AABaAZ8tdEN/AAADAB5dNpeJ2AAAAwM3DwP3pVfkCaStAfIZRQAAET6I/6Bp/R1EIE+mxx5MACGs\n",
       "EwduXDCNg2nUhRTHoG/nBP78a/GnX1mbobHRQVXaOst8AM+BAAAAVwGfL2pDfwAAAwAeYoQIPFwA\n",
       "AAMAAAMAHE95WU9kD7a7cAAAsK8IVjuwer1dHODjNZeMAIU6gwgKq/ga/eD8RqAzWoCa54Vqtr+v\n",
       "alZ02MCRcdESsAC2gAAAAFtBmzRJqEFsmUwII//+tSqAAAADAAADAAZ7Wr0H1DW7AAAFQJ15xNZ9\n",
       "D/vZXAPUEl/5A+XQkBciAAAp4ssHW05+hDQb3y8s8+pe1Cktmk4uRjjkf2n0OQpycikgAAAASkGf\n",
       "UkUVLDv/AAADABXHC2lknYAAAAMACGwAc4XK+DY7rNpXRxDpiAAAAwAC5aCZ+WjqUUKwwUJeHkaG\n",
       "v7YPl9jTkdPwEKKB0wEbAAAANwGfcXRDfwAAAwAeXTaXidgAAAMAAAMAKN2SsiaohLthAAADAmkI\n",
       "Ju8ixCQ1It9JEXlEgG0APmAAAAA4AZ9zakN/AAADAB5ihAg8XAAAAwAAAwAcT3lZT2QPtrtwAACw\n",
       "rwhWO7B6vV0eCsrEfKdJwBqgD0gAAAD1QZt4SahBbJlMCCP//rUqgAAAAwAAAwAGe1q9B9mBuwAA\n",
       "BT+kG3e1lSWZYsAAB0gtIKfW7EBjOswIflGCtA516gRUZfAOX0sa6W//EHIMa1rs9bu8V40wTrUF\n",
       "6al2RI0nac5EdzOBNIMHf09vLYWZATC1K9A9V1MyiB+8afdVwpTcKbR6o8lt2LhebFn6ne1r1FIQ\n",
       "TQNrx/693Cz1JO5BgBKzK3pUMLCB8qjBbF5B3y2CL6+ULM76OThiNoFtReBksrl0V/NpF7pMzH72\n",
       "xDfmcRIVmrMl/a3ckWPh5bXlad/jENURJp1my8HQL3pvSqIf1rpGK2EAAABiQZ+WRRUsO/8AAAMA\n",
       "FccLaWSdgAAAAwAIbABzhctCErYLWIDIBzRDhagAAAMAFJxGuAp8FxTTCSBDQBWWoRN1vQAWtyXk\n",
       "QFlqqy/PewtQDe3N8jzamjaMykfM/yUZ4IqApoAAAABDAZ+1dEN/AAADAB5dNpeJ2AAAAwAAAwAo\n",
       "3ZKyJqiEu2EAAAMCaQgm73n53KairONkwsls8slnxPkHSiTZEG9c5UwCtwAAAJsBn7dqQ38AAAMA\n",
       "HmKECDxcAAADAAADABxPeVlPZA+2u3AAALCvCFY7sHq9XR77AAAJmU0v7RsnQPk5n5ALMpNf3aT7\n",
       "YcVnRLreb/JTefKYae587soIwbtIaGuyFlgehFR7nYjbFtNkLPd8eQImgxUpjXmM9LZ6VgSVetRf\n",
       "Xw/54roP/xocDyhia8Rt+imGQKypoZ1E+u/0a1QBHwAAApVBm7xJqEFsmUwII//+tSqAAAADAAOO\n",
       "//oAccuWDKvnrZQ0Io9HmZDdgZZXD+c9RAI7vB2kLYxY7rz3daJiZuRCZ2TFFjUVjV4uSpsHPPbx\n",
       "0Gl49UlbUsYhOAltK1ODRkYC4cDSZ6Z9bgdrrYv5A+AJ961yNuffC3RG4pKFxVGXdOe3yS+qHe5k\n",
       "R8VVwwaPEQWbbThpDYwDAD1CDES6vrFYcoUDewcJ3zTxxXgTutYaR0H0il0FuN6+gNvzM8p+z3H5\n",
       "84Ft2XRHVISI40h3UcXiZQlA0D0zNmlzDxgxkxl9gw4XF8OrAypVcbTRO3WvKGB8zNBvsxIPtKoK\n",
       "ufGOqUAFS94f1sMDDNJjwzqa01fhp6Y/eJ2/iOVKFPFbNnU79FAjHk0pTOlPKYPoidfI1YO1dXcA\n",
       "ZbyeDfXBptFmBL3ZGG3ztbjCrn6E5lrW6AgCa8MkZZldXXIZwjqrooJIUrww3JnnPvDjk4F5WYjc\n",
       "etReKRtAIPjiIa9LvRhnBRmUccA4U0NM92VtrR9izpcPR2E5ZnGiNkqOM3TD716xXVNvzdcE4MaG\n",
       "E1+IHmj/QYtgwDP9vwA8G04GvqeoWirSZvWpUtDz/gXUSH3rujQfcO0yERP2qJ8hVJYHisZ2TFYK\n",
       "PsCVL25/pATub7Ki1SXyyb9jbsVIwMs6/xQ9asHl5V/7OCNKWTxQLTuJHQlHe6//8CLXBgvj/RyC\n",
       "xqzTPQArFdPPIcZD0iIASPdhMtFAACnKrZiVWIAAB7e31+BFGk5wUcpII6bDBTAstF1l1lIYwpgO\n",
       "JwHTrg1wMF34dPr2jRgLxc/0IzHB4p3on6+QvrtvpkwXek+hYs1ay1fE14btiVUqbdVmadhCS1mT\n",
       "b/3Ev3GU5ZNlAFxAAAAAU0Gf2kUVLDv/AAADABXHC2lkntlxzp9vlV6Ph2CuNv7lH/FTpR5IWCVD\n",
       "8HRefqzUVUoAAAMAA94FuNWG2kNoFAlA2y36pj4bMsEm0DdxTbhqgJGBAAAATQGf+XRDfwAAAwAe\n",
       "XTaXidgAAAMAAAMAKN2SsiaohLthAAADAmkIJu8ixCQ1MQ3OI/UAA/pl7YxT+AReEo2RV42VrE4s\n",
       "yeV6LVwQIAtoAAAA0AGf+2pDfwAAAwAeYoQIPGrLTIjgAnb3UzdfSkCLFylG9P+ungFb71t+3Xir\n",
       "SaFxYxxYUfUTHB7Yr49EfUP3jVz3efmPDdnrr1lYnCTd3LiZTMxauHYfxW0irR4sEXlU3Qys8rox\n",
       "WmHbdSc0WLB3UaZfdjeYdWjHued4Kd1Ta3TD9pa6sEr/vBeNAfBjrt7NCUPY3HI0lS1yCmfBnN3m\n",
       "ajhZrbR3EcS9m4aiCnlNsQjpAD4dTacwLWKAAAADAqWZ2XzXYtDCRML87duO+GWAZ8EAAAH7QZvg\n",
       "SahBbJlMCCP//rUqgAAAAwADjjyd1+P8AfXZpDHYyzeAxH0ZUO7k0f3xr1atil5sjbrRYm7I13ev\n",
       "J/cGlNripAPxbBiKgxYmTzGCVDXDRYZJmdr4s6xOS7sxJz7B3f1orej0wa/o/4hUtZfaPw0qniq+\n",
       "dNgIYL9a4IgyxBGGZn8sjLznmuIi2PnpwFtv/w94BUa2eyP4f+PwDc8eoEtV8I821ntgUkAB8yDi\n",
       "Caqbq5GG74TBxPRVjgv4w1VMS/cAs4BCuTtXAlBS5tS5evRjAFpTYoymSj3v14HmL7xi5Tjh8lTe\n",
       "2OGNeZLh6LCAt1EGxGbinVrbU35GbAAP5Tbi1fJzW/ZUqm/F03SRxCz5c6SHHB6xTqfaed7w964n\n",
       "UjNVuDSa4Z/TJ9Rd3iWoSJSs1rl7pC0zd7o2ijaSs+f59aIBaKRFJp7q8HISQr+LmeEksFh5jmfL\n",
       "Hk3vCTapMnyXTqnTd8oI7Ftrn1VgaydVYOUKs7iZIM/+uhYPnoOIIAAASRBGsviQAAADAAA2+LSb\n",
       "NI5UwygMHytnNf92LFXt9AarYbZ9cmWb/7j8KD+HIi+cTAzU79Wyy/7nwVcmW01d1yz9YdwG1bUF\n",
       "X7yNEUC6bIKPGRwkg5qO28i5ShZKwajywzC9hjD57dK74rTapyuGZz1UOlsgAK2BAAAAY0GeHkUV\n",
       "LDv/AAADABXHC2lkntgsEEIpkpAB/BnRiiEJ5+qnN3EETwTjqaDicMUEZY6OCHxDGgADOJ4Oh1AV\n",
       "4nBFSAFXAlIAAAMAAC8AMaTIGBZGR2OgdRfRlsNOqvSTh7wN6AAAAFIBnj10Q38AAAMAHl02l4nt\n",
       "hwp7Nj9VX8RTqCahY5tRQAJBmdBAZwO6R5fvAAADAAzzUp004HuQ31i7LcqVG8HkpiCPaWFdnmjm\n",
       "NOvkwaP+7zJGAAAAUgGeP2pDfwAAAwAeYoQIPGrUMgpfRX5Yjgz0mOGpQwAF0rCAAZIdvWcIwAAA\n",
       "AwBudmhIWS/NywDILpxwAPhjVG9B0D7SwrsZqF17r3gyc+VSIz8AAAKZQZokSahBbJlMCCP//rUq\n",
       "gAAAAwAAWTYqSngi4PwyAE174q9LEG9eX5h8tIhKsMCfF3PN3tKCAXW0kXN7aeXU3N0wNnNkCXhG\n",
       "6nUJ9I1vKyZvov/rsrtiS/4wx92xRRuql3c4WyWmBU9Ykyy+nbeVklBHwiRtsq1cJXQb2TkN4ANP\n",
       "JU2UJLn/PFNFMJ3gQ++0WlevNEtgIN/ynwOfiDkN/mZkelEc08mQjKc0yXPcJsgDmDJyQAMpQX1C\n",
       "YXFOu2ggrknXzd/5z6QZoJgUsPBkP4oNmvvlXLqAtZy/3i2qYMr0jvwysxXaqNMluBzW0nJr0VPI\n",
       "DzekhfJ66Gs5BCzDl+6UO8UxRERVyrgMxJDjJQhcWI2fZhGgI63vBGGDq7AIcI4u9R0a8cILbDug\n",
       "7/7WcqXymsy/C3ndo8xv52d08qXU9N3Qwx3negqyCa6s16WegZBe0wO8eKYHffWrbg1LAX35B44W\n",
       "krqjcj5iwG3SE4+UddJh5u5DrUE6o/eg7qhcKhx2Q72LSaYBtFd5a9okmSp1bzYHDve9WvtmzFnb\n",
       "MsvAtDUsjmg10Tp2sw+JIHtB1KwsgidaFVmY04PRh/ho9xuMG/3Ow4U0w2F3N+OwHU5pByZOkSxS\n",
       "ohwbdSbGB7KSFKz0Hlg7qEUmNpPi38KpPDcrUbogQqyhfjQTpDr8NsC0MhmPegtkq3mal6/Bkl+Q\n",
       "Z9GwngmOBf3FmcYwro5hDEd542XNZRK9bNSS4ufasotHYos5YSLkgUQEzZq5NKpS+rxUqUolNhPp\n",
       "KHwnENqG6H/PyIm50P43S/mH1qTZIsFYM436mFdv3jJFuKkiUJlxCzyZxJjMFFvtDhmfp8OIADzS\n",
       "e5Ih9SDcKAAAAwAaRGUgk2lDXGAAA3oAAABnQZ5CRRUsO/8AAAMAFccLaWSdoDASRS+3JGHcN8EE\n",
       "YEV2NF6XOG3xyFQ+DuUyuXaTQegK9F/odRIMebRd/xwAAAMALmKd7vo7WT8Nd0JPyzQRNJnWZRtY\n",
       "tbu3pM9xHlqdIj8T9YEY0QAAAD8BnmF0Q38AAAMAHl02l4naCgjzlycXV7FDPJXIjNU0fCZAAGkO\n",
       "AEr6AAADAAm2Cc4nBZgXmciqVl+JaGMAj4AAAABFAZ5jakN/AAADAB5ihAg8XW+4IUKz+wD5K0P+\n",
       "4Q+sy5sKpzBCvRpgAMjAgJ6/AAADABQ4HQLSO4GCBOZkJ7TKcs4bQCDhAAAAeUGaaEmoQWyZTAgj\n",
       "//61KoAAAAMAAFlJ+kANwjV8UpSE39TuALvq78fMpR/b+3L1LRAmHP1VrdXVeIGeQvIGXkU+b9xt\n",
       "X1bCxU8pTMDug7vfFKwjIs0XhG0Kv680+J1vOkHQAALmxSGsgAAAAwHU7P9Dxbat/I9gCDkAAABO\n",
       "QZ6GRRUsO/8AAAMAFccLaWSdoKcOLXea4ridpYSJvryI23S66AAHCnA2+cThAUjLGAAAAwAAUPgY\n",
       "EXG5DXOgCpkrScUzBWTdEwAwIGzBAAAASgGepXRDfwAAAwAeXTaXidoKfWqJQAbVHxVMDmDe8Wfs\n",
       "GXhtdXU1Rr8XTQAAAwE8xAFpHAAAAwBG6wOXcoId4HxAhePSkN8LMBLxAAAASAGep2pDfwAAAwAe\n",
       "YoQIPFwilcEYxBQwAfFIHUZ3gG6uJHiA7pVoBH4AAAMDSYAA9KAAAAMABLxp5E5B8xPv5Iiq5mws\n",
       "wTEBQQAAAkVBmqxJqEFsmUwII//+tSqAAAADAAAIQWUv53XN9KE60fGAEsGjhXcRoIlNNK8o7xxQ\n",
       "oI+m/cKDVDaC6Iv6nGaX+J4JJLWapU211hLmzWn0shTiN26kkkrmDJyPwLQeBGldNIo2U41GlWfr\n",
       "l883rVODnYa/7D10HxAq0J6UBl54qTd69Alj9R61cX/BXPp50iLyPhpUaNu6ntsHUSHOATJgkSmU\n",
       "FpmC3HtzYHQO7mTPti/i0Nqsbv/B5CZnKEHeI4Fav8I0FVyK0/i0yFVPqf71Gnnadi7eKcgCPKy+\n",
       "iFDtfErJ6SkUtfTgu/ecT17f99rg29qQWYBDXZ7426EDNkeZwHwBjfz+J0ls8u/V7I596NCcTIBO\n",
       "pA/ceHrc/eZXhAvMehzYSTEdO8aOSPwwDS9QI5Z87eXPPaOAB+eQV830NacHS1jcLVTTPge45+a5\n",
       "dBps1qLQ6egPYRtKn9Wbq/mb3rSmjnsD+CsLdP0EscRCl0Nqs7xr6aXzTIL5cOxms4rLPq1fyDgD\n",
       "OU7TUxzIXTLmACOcH56Z/QIKU+kSxYjD0GDdDXYw/mUZ7nhTu4y2mSfvFfWSxcOBT8VuNomhBctz\n",
       "ZU3YJsUoz792bewlDEUTwSPrB3qtIhT1oRRn5hxVH/3zTkXQ+gb97975d35QFlhIYo/VPkSrEGSA\n",
       "gTF5zp3XmnSs7ofzwDue+qm6VWAYB2zRKRfnVqZbpii4mixvMe21A9YPJ9jr9d6QHKC6AI/OqncG\n",
       "q8HCAAADAAAcPBcKmspboAA1IAAAAF9BnspFFSw7/wAAAwAVxwtpZJ2DIR9MzS0p6gAz0nhtzvLv\n",
       "pn+MWuj1p+ws4YuaAxM4f5p+gDEJo6hk03uQSHOqAAREDCgAAAMAALwD0FqDISC3WR9cx1StRJ7n\n",
       "pHIBBwAAAGEBnul0Q38AAAMAHl02l4nYMZ/Omr0X/G0AGrYNsogu1mblpvrB/39qjl7C0uYrvlW4\n",
       "sCwAM/M466AAX5svc2AAAAMAc2UBZWKWJxFaZ9PSBGBNBvnFCTLDJXRPejAlg5iwAAAAawGe62pD\n",
       "fwAAAwAeYoQIPFwiq7GoANJvBu8duPvGRpcU9v80wmN1jIz9Oh/8ihpmW+waXiDTGZ2sFie7nfW1\n",
       "1OFv04ADsmLtJwAAAwAFX/3ryhOtPO1eMEByZUoMKpLCu07ASTvw3uCK2CygAAABi0Ga8EmoQWyZ\n",
       "TAgj//61KoAAAAMAAAMAz/cQv9ucSYP6ACK90Tta7tUhc1sRxiPueYTT1j5fqX4iaznVLX4IuLTi\n",
       "A1FGz/HlKMOx4Zene+aZNPM4HeerimMZpk3CRxZcUK0gwP5m7yCAVGoqc0UPKmKRJyeSzGl9o7ed\n",
       "0Dq2Kfk2XEpr/yAOfgtI9AjcHQXfAnEXSpVlDnwHsdv0PKP2dTa3Yt4akXZRVKPqNCGsku7daAvz\n",
       "S9Y8K14UFCz5bp7QWEwI9Au0tYlYl74tgXAr7Tx/tifE+fflruG8nQ9Y6owyCQKiai7ZVmKZ/UXJ\n",
       "q3n4cVhfdBNI2t8XK2SER9cepYsZ5xtE1eC9jSbhhqpcsnStB2aLzckCy2kljqHOVXthC/IWqHy1\n",
       "JIPJ9Y0REr1sazZlIGjpvUGMTRsL8S/mB+bUWxjfh/7UIAGljskWbJpZrvJjIfNymTcTUPBHgFTH\n",
       "Z4RgZSTbIBDCGvoBFBeONqf4jMTZZwmyyYK36nFdxad6O3CQkBw0OCAAAEXBAAAAZkGfDkUVLDv/\n",
       "AAADABXHC2lknYBNJz1cQATrWH25yndk/buIrnTIf02fV4rgARWz0rS8fZ9xSwJ/fbgrJWL80AAA\n",
       "AwAAfZyYz2oMmTZaZNx21CkOZmxyd3MWS4z/x3j8nLVz28Es4QAAAFIBny10Q38AAAMAHl02l4nY\n",
       "BMaN+1GK16HDrABNGZdOVls7bnNpaLvK//AFlAa/QlVJXxvhADn4WeQgAAADAAb+B+H2nSqZAA7F\n",
       "XY0mdu4CIgFlAAAAQQGfL2pDfwAAAwAeYoQIPFwDVZfY637uhadpwAKgw086OfYEFBFmv0AAAAMA\n",
       "D3cXEV4ooQUB40q6lmRw34HNKI2AAAACeUGbNEmoQWyZTAgj//61KoAAAAMAAAMAz0MkttdaMQCC\n",
       "fJG16kCcJK2uHfQaUvVbilXmzIAqsXLFWTsjKd9v/b1jQQFPmwcATfl4Pstx2U6sk+8UrGCmvrEj\n",
       "LHYSRUSen+B7D8JqotVTjoEe+8SGM2DbBneffB/xi0wfoiTzJq8Jkt+MrrE4I4R/FXdrkKgUWjae\n",
       "sih0JAHfL2g33L5+gfsxBa+ERdHx+4MQND5HhTHuiQMAPzshvWztH3PG5cWn1wvOPSOflPnvENoG\n",
       "9F43N7o0BxKX2jxevG+lNi8Cb5P0+vB4GNonKFd283qIBXArh3XtBIvcCg62xKiWAfqG+tyDbvy4\n",
       "fkzLn4U36PxLnlmsz+Gisv6kOalPCyj8A42/Bo3JEqBdayOprBBP+ElkdIuoHgvbuu/r/v/YcncM\n",
       "wTp5bp4JmJ/dFgkn9cH/vPmhXZZAjet7gHAqg8TsINakKwnHwq/PW5l2Ukjr62BpRNN1oUT4yaDg\n",
       "GsDHJZm8I56AIF1RbRDKzWuMRHXNh6z1vlBD+QAu9Mav5xdon66NgruJcUBBzBzgOr5RRx6O7dIg\n",
       "uk1SeiYjjJcDPfXS/xNvzCiasTnWTP+fw6kYlFbBDqONA8bsCybYW6O5AM6VuprJRzzzeiKglL4y\n",
       "9T6S9zWcSFQS5UFdjQmQ/EydY+5Wu2NjCKPyhvni4fdBRhiOsFCvaox9pKsw5MT+f0mH0FZJjp4D\n",
       "RYDknHWU+eKN/zkqWjFS5C1cM8LsIa3Ct2IDLrArpTKGz7F6JLK/faKHXX96FIXrw2PGiZQ5K/+o\n",
       "Wmoiij0VBVvB9diIH4pjO9gAkydsQAAAAwAAAwAMWAAAAGdBn1JFFSw7/wAAAwAVxwtpZJ2ATU4g\n",
       "wUgA2qzeaSW/LPLJJ83EEJKHhTLoKxXKJShMdwQhlb6olkqi4IRWKOOEEg/y4U02NvCAAAADAH5x\n",
       "5+D2C2hu0MJeKO5KeJUpUiHUmFmBqgErAAAAXQGfcXRDfwAAAwAeXTaXidgE1RWaADarSqygwQw2\n",
       "q/6L/4P4E5SMAueSmE2pzUsyhe+33IfJ0xAAqoA2ykAAAAMA9QdsRxxmJ3gojt/0A5dylhXZJskq\n",
       "NkyYgckBFwAAAFEBn3NqQ38AAAMAHmKECDxcA0tj2If6dO/obC17mpzMq8Uaca7mQkoqZQ7AAEhy\n",
       "uqZAAAADAICE4/6IMhZSiybgBTdUOSwrsl99R0okmwOXuR8AAAG5QZt4SahBbJlMCCP//rUqgAAA\n",
       "AwAAAwAThnF2FWv6ABvrWyYiXUd2KitwXuxEwHBYWOva6s4Bo6h+BB2+pcNZxU7C/CejxvOQiyHE\n",
       "9y/eS3cJtiLEoYqcNzfhQQ5JLUoXBAkAMaD3be9YogZTDy+8vIy5paXgtLruaDt+dbzcEULdIXQS\n",
       "3iZPMTZ4ElTdcX3/fv9SOUHV2aBjpRyR7E5iPpU9ex6yq+TidCgAnuQblfjQmzEpgvqs/pS13hRn\n",
       "2yR8pIIVM3QBAmeRDM2sijhlx7ofR0xsj5+kg4XUGEqm+nkdQGOFTYPqmGYpe77JkFqQ8coSv9HG\n",
       "xDpFCqkQaTjDssyDEBxB3LOhohSFbIYbbHwTLrj34Fft5MKmCqgkEtc7Tfs69Ua2/hRDTeiepgna\n",
       "dsiYZsbzpbRaL9sT5PloaJXnarznOdcpZyH4NHyT4en0E6H54XoBj+UKyhxSjQFjNNd9EL+stlrF\n",
       "bwXV6Vks0vz0Zh8SkQySJeKT+QaBmU/rMO8y4fI4BNC3WvMxvM30pewI0b6Balv2+IH8BH0mEJxN\n",
       "/b8dws3Zoa559qlgAAADACL5VTgAADwhAAAAX0GflkUVLDv/AAADABXHC2lknYAHJqAh7Aq8KTN5\n",
       "Tvjs/ciBcMZ4dH1hprQOEtWIqBXA5+rhIRV85ZaAAAADACsmePgGrinenRMn8gNzEemy6Vudp5aj\n",
       "GuEK0cax5IeAAAAARAGftXRDfwAAAwAeXTaXidgAdAVFjbBgAJnIxbf12ISQN5PNDb1AF2uf3Hv8\n",
       "WA/TAAADAAAEMOIyGsdiQMusHVANUAYtAAAAtgGft2pDfwAAAwAeYoQIPFwAUKwa75P5Iuerdx7m\n",
       "9Rzk9wl2nJneAuAEzImTg3q2y5jfqxiGPNTLDtKnUypgzWAFSBSRnsoISRyJ97Vju+p/QhKfbTZC\n",
       "uqFSDHhYkDvvs9BndnAiHcHChNhlL/U4B3Sv7/9lqoNws7SHHpNZMdE4FAHJhHyX0KYenJkg5Pra\n",
       "18pUmk8QM6C+zY3qBbOAAhfgAAADAAJ4U4jfD7cKYouzGXB6gFlBAAAChEGbvEmoQWyZTAgj//61\n",
       "KoAAAAMAAAMAE4LehnM0R/AADbLDjZFLSyabDDlxYc8WEWUARbMPtf24+ttSLa/uhQUTYFMYSTwV\n",
       "4bPapg1qdDWHw3bVdMPu4Sc5ReKdL3H9jGnx3CWsDgKtOrIkELPiUtL17OLwWUPjGpYv+V69v6TA\n",
       "RqK+LsgltgINKgC4vyGVHTxWbZCK3es7MXIZxUaJDarv/jDKfbEBuaxuyuB0COSqb4CGyg+3Gvv3\n",
       "+Mt3C8PhM7vxYJWh0HfbQGGBJQU1ymeTuL93tetllSIiq4mnjL2PQEcBSWfYH8XtD93Qfpk8mMTq\n",
       "0fceGZiL4MqkY+IxMmrHiZRNd+oBKEfkfknXhxJdjfvRWu2Yyjy4mr9rKKO7bFzL/TLnJeJm05if\n",
       "8NssKfIaUMK4ffBCN37vYY8lRutd3eIkZTl1pWW7+ADbNncA7pkLUA2kEALrcWK37XowNk76nfUC\n",
       "Oxsb8tAD2NX08kZCawGeLLqxhH+qCOEIkh5dAWsGD2aGux8wEz8VBYykAqn6b5kBqQKANBJEat+9\n",
       "3GVjf3M1SG5Pl4O9IdQ2WXy4h9NuoqPtRs2uZLjR5zi9811i2YshitwD9o6dWrG8mTqwKno1KFjo\n",
       "dGIbLcJbdDtzLJk1efroUL0KqXsY00AZ1mbjc94Gr4WlAN7CTFDRPaqUTCwvxi0gHuyEWeAJI91G\n",
       "vXdpWpq8vsBL7rdhVTiABnWhhtRZKAAAAwABbf+G+qcSIQWleE/+wloNxri0q+vXvaIcQw9q1wwC\n",
       "4iiCeH9nDy2K0ul6PrsbknebRphgk31ZvTnF+jBEpKi62ou9mv1EQslOfzzZgrLwk4vLImunxTyJ\n",
       "AALKAAAAYEGf2kUVLDv/AAADABXHC2lknYAHPZeA4Go3tQE8cZLdbpgCm28wGgM/Js9j3IHcvHjt\n",
       "woleAQutT7XVeS84IvRCRWHq0AAAAwBD38vupZpuf6DaWDfop9VKGCUwAhIErQAAAGEBn/l0Q38A\n",
       "AAMAHl02l4nYAHKAsoVxY6IAQgRLxWzuR8ovBMKD4bkGGzRgz/1+W5uYU0G0QcWtEo4ygtZu62IA\n",
       "AAMADWsxhWu/oLmSDQ99qQ77jJvqv1cmPdQhUvu8hAQ8AAAATAGf+2pDfwAAAwAeYoQIPFwAT4G7\n",
       "oqXoLpI36S8y01WDeWbiM4coKhhoRhVc8iAAAAMAh/GaGvjVzIAuQxwQ40k1gT/teJxnADBk0fEA\n",
       "AAHeQZvgSahBbJlMCCP//rUqgAAAAwAAAwAB3YEU4BCPpXVM/WfrPVkKI/EpKTyd7li099NW97Df\n",
       "Shn9XnRV9STF5rebhasJ0aCxp3nEqEgu5grMTeH8KavACOsUbp+HGHxMGKh065/3f9caTiYiqDcC\n",
       "CaIDRluD9kkqokcEzPLm5ASFrXcvzwrlc6EeO4K+mZV98ADpjtlVPD7BNsEc4PIPzUhwKCv1W4Va\n",
       "cPxEm9gRhPiga83mL+97MxlQ65IBWw/YXUoPCNgIfQsXCgDX+R3kkDjaK0te4SGtUSAKrkn9eXei\n",
       "bTh+08CCmgzPMkkV5ogAOkJFSaspg0VBJt5HAvIvuX55FTssG77K0Zuhpc2NJqBLiCTjubKzoFBS\n",
       "9JU+A7GsltGN91geHNTo9bjxQDRnRAecYLdXAVPv/d6xfezyT6Y2+GpesvIWUlNZx9pJCA0DQIuD\n",
       "MgMwY9uop05LudduE5PW1kiX7uGQIoyKhtgvIxD0BPfAymnXOxClR3ETQ5DK8aD1J86W/BweGcEN\n",
       "8X8bhBV2WYr2QAJxvhnupU6G4+u40PV1lDpyvhqFGrbxDgqXl8Qj48xHvkNEySB4lOih06/oLQmI\n",
       "N7HC2mm0nNsuZKK/AAADAAADAAADAABzQQAAAGBBnh5FFSw7/wAAAwAVxwtpZJ2ABufOzrCvtlgA\n",
       "GfVXi1OHNbGeq+YEFOSzzKyifahojTAhyG6P5KkA6Aa37YAAAAMBXQOQTRgzqxiytJtmhb44Ph/w\n",
       "8hzLESUL4CWAGLAAAABVAZ49dEN/AAADAB5dNpeJ2ABuYiX2yBAB/RbXG1u94+SyDVeqG5bkqQbW\n",
       "cKS97HQgBkZRoUAAAAMAB9QXNJ/DsPiSK61djKCWbJWpbUZ/ghgQwgDugAAAAEgBnj9qQ38AAAMA\n",
       "HmKECDxcAE1mXewISdnOYnVy32YarojxCysgBS2/t9QAAAMAC18vvLNET+OsebOxzC/inCLXTE5j\n",
       "mDeSUh8AAAGvQZokSahBbJlMCCP//rUqgAAAAwAAAwAB33p8IAF/jgwMPlC3buZeZhhpA5Qpm0O3\n",
       "Te+M2RBH/9O2mtN2QIDhEYcwuZKvEM1UyODK3SPG+MhtHyJgArvXENhj0SBHdVSi2Q8IYM5IlURm\n",
       "ua+dlrINXsi9Yiv6b/uhy2ucMdkTci+kSx1FKlD7pa0Tun2Js8umyZ/K7fQvLmRI2qDLQJ6sZdB/\n",
       "vZne4zdhV5D9ld2URG0FMLLX2lcBb57+5Zkcr7IqjsOC6wSXu/NifogSMt7+6uafRtIgWpzDWQJ5\n",
       "ebvaX1fsNWWdT1LEmAE6W46QBd0ob82CJuj7mjH9LA7lX0yxHTnHG9D1n8ASugqxSxGIDbpZcLe8\n",
       "llYPFy5XJDn7dL6e92IP1zzqVeIPyqWP9UxCaBCqv9vHb+nZfl0xPhkhlN5Wg5LfLC6IIfMpj4bC\n",
       "JDvdvnn6pl8oF4morw90pVJK5O1eUJHV3+cMAW/aDoHFwW/eCTA7PtdqasT/Lfzwh4WlvMhVB2yW\n",
       "HGJZj2IEk54dRAI6jiGfUSxtLf4EmwmvoIRN2AAAAwAAAwAAAwAAD/AAAABdQZ5CRRUsO/8AAAMA\n",
       "FccLaWSdgAbnzs6wptHD0FfVcRQ2hERtSkBwlOJ6AvtVUSpXJtwgALTkuiUAAAMAAQ32a5UfIXgT\n",
       "x/2lnbZfk8OAp6JaPcNeKGFx+VZhrKbNAAAAOgGeYXRDfwAAAwAeXTaXidgAbmIjQgjhLJ9YXjul\n",
       "8tx+AA7HIAAAAwBmjexE3zguJQXBmxUQEHfAZ8AAAABLAZ5jakN/AAADAB5ihAg8XABNZl+Fyq3v\n",
       "KM9rKAEtkMkqN9tPm3qK/CVyYtw9+2LYnRGACPTAAAADAIXChARkDvZwTF3q8hIRkBdxAAAA20Ga\n",
       "aEmoQWyZTAgj//61KoAAAAMAAAMAAdI9dz+uJqAG46q2jHbzzJ7C1N91nxLdz5cU9Uwy9+SlVcgv\n",
       "fxYV2S4uFSc5DuY2jGuV0JCqrKwDC+LNweHQOTl82Fq+aI50cObRRMwXE5g1XRwTzYKNuw5sj+qd\n",
       "Q7WoV0zc7j1jIHO1VnwckWwfOPoreToM0prdJZ/b7tPbKV96rXn0kAs7r8G93slGD8D0wSojnvHa\n",
       "uDp8vDel9L2FlQAoN/k5Tk1vygdgroMWXFcLti8AAAMAAAMAAAMAAAMAAAMDuwAAAF1BnoZFFSw7\n",
       "/wAAAwAVxwtpZJ2ABufOzrDOqdVMYMdj7SAEhGg9ndu8wOa2plXScK6jBSge21QRfgpOgAoGfAwC\n",
       "JzNDcAAAAwAVQDvgUlE3VDhMqLNG5jmRmPEkAh8AAABNAZ6ldEN/AAADAB5dNpeJ2AAK8IxkKgcP\n",
       "gAE3RX/GAq63T2clwBsMEwAJL+Lp7QAAAwABhpnLX3l++t8pPaQyY+ecbh53WyR0HAdhIi8AAABN\n",
       "AZ6nakN/AAADAB5ihAg8XAAHfzpPHNABqYlMKpjVrqi2FFlWTso9pAADXduClQAAAwABm56yc/b7\n",
       "GHZ49nUYqFWK5BWU7zqmAOakYEAAAABIQZqsSahBbJlMCCP//rUqgAAAAwAAAwAB0n5xgAW6Q7wg\n",
       "faN5AE0S9uCj/ROryzPrg01fAAFrGZfSAAADAAADAAADAAADAFnAAAAAU0GeykUVLDv/AAADABXH\n",
       "C2lknYAAuiFBhAfveXHUXDitFV2TVybcIACGo7IWIAAAAwAM3kPtaxTclyUP24GztI8YZUBTzJgt\n",
       "KBYqZJ1hnxD9xCkhAAAANgGe6XRDfwAAAwAeXTaXidgAAAMABuYiMInug+Dvmm8HwAAABmrHOMLJ\n",
       "FMe8GG+0hIUsE5ANmAAAADkBnutqQ38AAAMAHmKECDxcAAeWH1EB2wAh99EV9zOMAAg5wAAAAwAl\n",
       "gcr/OlN4VM9wKtehXQdQBbQAAADzQZrwSahBbJlMCCH//qpVAAADAAADAAADA6WKm4yiAEtXeafN\n",
       "YEe54hUOxyUoJCKZg5RpllnzeNaj66K5NHvcs9xZ3OT8Sqe57rssFCTvbf4s6ntHdkUG/zfl0p3e\n",
       "GWaYjk+E8zP5fVgp3tq5F2LE7XGf2tdvwJawE/xWuQwLkqy2p991FJULmqtLPKOzoLHQcKHVKPcF\n",
       "nj01pHHcfvCbbqrD9U7JzbEtsPEW+Wsi+4+8ksQJreprgB8ZxNFU6esAQ3Yjpj4XEo3+UG0rSwBz\n",
       "h3i1l+sCoZD5x+tx546G8tyo0VAAAAMAAAMAAAMAAAMAAAlZAAAAUkGfDkUVLDv/AAADABXHC2lk\n",
       "nYAAuiF8RvFlPd4APBzVkUcejqh0KYf7gTbtm7TgEEzvnACr4pnYAAADAAOwv2Dn8TVZAfZWQ78p\n",
       "LnNOLKGqAlcAAABFAZ8tdEN/AAADAB5dNpeJ2AALFDRoLLoKEau4msNUACS320WAAAADAAXLKhyr\n",
       "aRR6OtDNZ/VJmu4oSIV4LW3MzeAzTI+5AAAASQGfL2pDfwAAAwAeYoQIPFwAB5OML9buNFZzofBi\n",
       "WULNZKAAHZ8EhSAAAAMADcxl3o+ATzHRRMoIpQ/O0sK7GeIeX/sqQCsuCpgAAAE9QZs0SahBbJlM\n",
       "CCH//qpVAAADAAADAAADA6R/qQAt6Y/LZ4vGmdI+kY2az4pQYrKOWMUEJBMOu+aFt5d/PCSDq8bl\n",
       "1EJcD8+qfrOOWIIX+9xhctUS9Ppw2hx09seGoGve+NQwKxQICMmnShjaBt66UAPAZRwGngJ1aFcu\n",
       "M24Kgo1QZrZVQypmCcAPGTsQYzb9gNSXc0kEH3BwoUk39G6y2zykZCmaP+hUrweH6LTTWqhdZZta\n",
       "Vs1OTT3puGMDoAIaYZyq5MTiw42jHG5zaFfsRXzc+0SrALB75mrdGEF7I0oE3Xbmyc6DFPPTcC2+\n",
       "VQ8LO1aYBnqoi39vXuJdO/GGyZ3WKpqtP3nEbBVoiPGd0BZQR6cFHMLIcUKatep1xpRiZnoKSijM\n",
       "KAhIBY9ddAAAAwAAAwAAAwAAAwAAE3AAAAB+QZ9SRRUsO/8AAAMAFccLaWSdgAC6IXyNtlOun4AB\n",
       "K3e9CDmkd4UYvenIW/b9nUqwAvLhJzaJxhefe4waw3iWNqVw2vahAgDfk2LIigDMR34YI+B3OegA\n",
       "AAMAEsUiNKGCWMB+bMzCjaCqfgFBuNFDgZO5vx/2HXqxoaKmANmBAAAAUwGfcXRDfwAAAwAeXTaX\n",
       "idgACvCTrQEAITnUrcipLvMn/q23Wk4Xt96STl1OTUTEI6WKA7aFucwAAAMAAI4dMrz8vvR5lVWQ\n",
       "7FD7sNWJDzIN8Al4AAAAUQGfc2pDfwAAAwAeYoQIPFwAAMQGtmnoAEx95KwBtUaM/Z6VROrodZov\n",
       "K/k01xOKAAOJwIHOAAADAALAxa+6cwIMecrAdmJePUWiVByQfgBqQAAAAHVBm3hJqEFsmUwIb//+\n",
       "p4QAAAMAAAMAAAMCazL0x8AH9IHRkmImlbfKauIZqKf/ZYQ7ce8kyyZqPcS0iZWdQKrpTOIi2zoi\n",
       "4h/XNhZmwRGf9yFKzJGl+oJLmt/+TxNECzTeo+WSAAADAAADAAADAAADAAADAoMAAABdQZ+WRRUs\n",
       "O/8AAAMAFccLaWSdgAC6IULMTgafFB7JAxDgAHHEQmn07n44cx9FP4aDWIP22AGuj3rwVC5HPOAA\n",
       "AAMAELvbZb06FakAsmToSG9BbAUp87hpRtwaQBNwAAAAQgGftXRDfwAAAwAeXTaXidgAARVAZsvq\n",
       "73WeS0YQHeAACK4XPGQAAAMACR3/dUuhKA770ZOWFlOstz7TNHzUC2rG1QAAAEIBn7dqQ38AAAMA\n",
       "HmKECDxcAADEBvkD6KzI+eDkcoAAD+ByKAgAAAMAB+c/wax3JVW2uRuqv7O/X5vunJ72EDhPFTEA\n",
       "AAdfbW9vdgAAAGxtdmhkAAAAAAAAAAAAAAAAAAAD6AAAIsQAAQAAAQAAAAAAAAAAAAAAAAEAAAAA\n",
       "AAAAAAAAAAAAAAABAAAAAAAAAAAAAAAAAABAAAAAAAAAAAAAAAAAAAAAAAAAAAAAAAAAAAAAAAAA\n",
       "AgAABop0cmFrAAAAXHRraGQAAAADAAAAAAAAAAAAAAABAAAAAAAAIsQAAAAAAAAAAAAAAAAAAAAA\n",
       "AAEAAAAAAAAAAAAAAAAAAAABAAAAAAAAAAAAAAAAAABAAAAABaoAAAK8AAAAAAAkZWR0cwAAABxl\n",
       "bHN0AAAAAAAAAAEAACLEAAAIAAABAAAAAAYCbWRpYQAAACBtZGhkAAAAAAAAAAAAAAAAAAAoAAAB\n",
       "ZABVxAAAAAAALWhkbHIAAAAAAAAAAHZpZGUAAAAAAAAAAAAAAABWaWRlb0hhbmRsZXIAAAAFrW1p\n",
       "bmYAAAAUdm1oZAAAAAEAAAAAAAAAAAAAACRkaW5mAAAAHGRyZWYAAAAAAAAAAQAAAAx1cmwgAAAA\n",
       "AQAABW1zdGJsAAAAuXN0c2QAAAAAAAAAAQAAAKlhdmMxAAAAAAAAAAEAAAAAAAAAAAAAAAAAAAAA\n",
       "BaoCvABIAAAASAAAAAAAAAABAAAAAAAAAAAAAAAAAAAAAAAAAAAAAAAAAAAAAAAAAAAAGP//AAAA\n",
       "N2F2Y0MBZAAg/+EAGmdkACCs2UBbBZ5LhAAAAwAEAAADAFA8YMZYAQAGaOvjyyLA/fj4AAAAABx1\n",
       "dWlka2hA8l8kT8W6OaUbzwMj8wAAAAAAAAAYc3R0cwAAAAAAAAABAAAAWQAABAAAAAAUc3RzcwAA\n",
       "AAAAAAABAAAAAQAAAthjdHRzAAAAAAAAAFkAAAABAAAIAAAAAAEAABQAAAAAAQAACAAAAAABAAAA\n",
       "AAAAAAEAAAQAAAAAAQAAFAAAAAABAAAIAAAAAAEAAAAAAAAAAQAABAAAAAABAAAUAAAAAAEAAAgA\n",
       "AAAAAQAAAAAAAAABAAAEAAAAAAEAABQAAAAAAQAACAAAAAABAAAAAAAAAAEAAAQAAAAAAQAAFAAA\n",
       "AAABAAAIAAAAAAEAAAAAAAAAAQAABAAAAAABAAAUAAAAAAEAAAgAAAAAAQAAAAAAAAABAAAEAAAA\n",
       "AAEAABQAAAAAAQAACAAAAAABAAAAAAAAAAEAAAQAAAAAAQAAFAAAAAABAAAIAAAAAAEAAAAAAAAA\n",
       "AQAABAAAAAABAAAUAAAAAAEAAAgAAAAAAQAAAAAAAAABAAAEAAAAAAEAABQAAAAAAQAACAAAAAAB\n",
       "AAAAAAAAAAEAAAQAAAAAAQAAFAAAAAABAAAIAAAAAAEAAAAAAAAAAQAABAAAAAABAAAUAAAAAAEA\n",
       "AAgAAAAAAQAAAAAAAAABAAAEAAAAAAEAABQAAAAAAQAACAAAAAABAAAAAAAAAAEAAAQAAAAAAQAA\n",
       "FAAAAAABAAAIAAAAAAEAAAAAAAAAAQAABAAAAAABAAAUAAAAAAEAAAgAAAAAAQAAAAAAAAABAAAE\n",
       "AAAAAAEAABQAAAAAAQAACAAAAAABAAAAAAAAAAEAAAQAAAAAAQAAFAAAAAABAAAIAAAAAAEAAAAA\n",
       "AAAAAQAABAAAAAABAAAUAAAAAAEAAAgAAAAAAQAAAAAAAAABAAAEAAAAAAEAABQAAAAAAQAACAAA\n",
       "AAABAAAAAAAAAAEAAAQAAAAAAQAAFAAAAAABAAAIAAAAAAEAAAAAAAAAAQAABAAAAAABAAAUAAAA\n",
       "AAEAAAgAAAAAAQAAAAAAAAABAAAEAAAAAAEAABQAAAAAAQAACAAAAAABAAAAAAAAAAEAAAQAAAAA\n",
       "HHN0c2MAAAAAAAAAAQAAAAEAAABZAAAAAQAAAXhzdHN6AAAAAAAAAAAAAABZAADmEQAAArkAAACW\n",
       "AAAAWwAAAEcAAAFeAAAAUgAAAD0AAABBAAAA8AAAAIAAAABdAAAAZgAAAN8AAABaAAAAXgAAAFsA\n",
       "AABfAAAATgAAADsAAAA8AAAA+QAAAGYAAABHAAAAnwAAApkAAABXAAAAUQAAANQAAAH/AAAAZwAA\n",
       "AFYAAABWAAACnQAAAGsAAABDAAAASQAAAH0AAABSAAAATgAAAEwAAAJJAAAAYwAAAGUAAABvAAAB\n",
       "jwAAAGoAAABWAAAARQAAAn0AAABrAAAAYQAAAFUAAAG9AAAAYwAAAEgAAAC6AAACiAAAAGQAAABl\n",
       "AAAAUAAAAeIAAABkAAAAWQAAAEwAAAGzAAAAYQAAAD4AAABPAAAA3wAAAGEAAABRAAAAUQAAAEwA\n",
       "AABXAAAAOgAAAD0AAAD3AAAAVgAAAEkAAABNAAABQQAAAIIAAABXAAAAVQAAAHkAAABhAAAARgAA\n",
       "AEYAAAAUc3RjbwAAAAAAAAABAAAAMAAAAGF1ZHRhAAAAWW1ldGEAAAAAAAAAIWhkbHIAAAAAAAAA\n",
       "AG1kaXJhcHBsAAAAAAAAAAAAAAAALGlsc3QAAAAkqXRvbwAAABxkYXRhAAAAAQAAAABMYXZmNjEu\n",
       "Ny4xMDA=\n",
       "\">\n",
       "  Your browser does not support the video tag.\n",
       "</video>"
      ],
      "text/plain": [
       "<IPython.core.display.HTML object>"
      ]
     },
     "execution_count": 7,
     "metadata": {},
     "output_type": "execute_result"
    }
   ],
   "source": [
    "#plt.rcParams['animation.ffmpeg_path'] = shutil.which(\"ffmpeg\")\n",
    "animate_func = partial(animation_func.animate, ax=ax, anim_monkey_info=anim_monkey_info, ff_dataframe_anim=ff_dataframe_anim, \\\n",
    "                       flash_on_ff_dict=flash_on_ff_dict, alive_ff_dict=alive_ff_dict, believed_ff_dict=believed_ff_dict, margin = 400,\n",
    "                       plot_eye_position=True, set_xy_limits=True)\n",
    "anim = animation.FuncAnimation(fig, animate_func, frames=num_frames, interval=100, repeat=True) \n",
    "HTML(anim.to_html5_video())"
   ]
  },
  {
   "cell_type": "code",
   "execution_count": null,
   "metadata": {},
   "outputs": [],
   "source": [
    "\n",
    "num_trials = 1\n",
    "category = visible_before_last_one_trials\n",
    "category = category[category > num_trials]\n",
    "category_name = 'visible_before_last_one'\n",
    "\n",
    "\n",
    "\n",
    "\n",
    "if len(category) > 0:\n",
    "    for currentTrial in category[:trial_total_num]:\n",
    "        with general_utils.initiate_plot(7, 7, 100):\n",
    "            duration = [ff_caught_T_new[currentTrial-num_trials], ff_caught_T_new[currentTrial]]\n",
    "\n",
    "            plot_trials.PlotTrials(duration, \n",
    "                        *PlotTrials_args,\n",
    "                        **classic_plot_kwargs,\n",
    "                        currentTrial = currentTrial,\n",
    "                        num_trials = num_trials,                                  \n",
    "                        show_connect_path_ff_except_targets = True,\n",
    "                        show_path_when_target_visible = True,\n",
    "                        )\n",
    "\n",
    "            plt.show()  \n",
    "            \n",
    "\n",
    "\n",
    "temp_animation_plot_kwargs = animation_plot_kwargs.copy()\n",
    "#temp_animation_plot_kwargs['show_connect_path_ff_except_targets'] = True\n",
    "temp_animation_plot_kwargs['show_path_when_target_visible'] = True\n",
    "data_item.make_animation(currentTrial=currentTrial, num_trials=num_trials, animation_plot_kwargs=temp_animation_plot_kwargs, save_video=False, video_dir=None, file_name=None, dt=0.016)\n",
    "HTML(data_item.anim.to_html5_video())\n",
    "\n",
    "\n"
   ]
  },
  {
   "attachments": {},
   "cell_type": "markdown",
   "metadata": {
    "id": "-BX7XwsnFc4k"
   },
   "source": [
    "### make animation with annotation\n",
    "\n",
    "Make sure that prepare_for_animation has been run first"
   ]
  },
  {
   "cell_type": "code",
   "execution_count": null,
   "metadata": {},
   "outputs": [],
   "source": [
    "reload(animation_func)"
   ]
  },
  {
   "cell_type": "code",
   "execution_count": null,
   "metadata": {
    "executionInfo": {
     "elapsed": 45,
     "status": "aborted",
     "timestamp": 1684812485286,
     "user": {
      "displayName": "Cici Du",
      "userId": "17701548280142155870"
     },
     "user_tz": -480
    },
    "id": "aE9lp9YZ-H7c"
   },
   "outputs": [],
   "source": [
    "\n",
    "annotation_info = animation_utils.make_annotation_info(caught_ff_num+1, max_point_index, data_item.n_ff_in_a_row, data_item.visible_before_last_one_trials, data_item.disappear_latest_trials, \\\n",
    "                                        data_item.ignore_sudden_flash_indices, data_item.give_up_after_trying_indices, data_item.try_a_few_times_indices)\n",
    "animate_annotated_func = partial(animation_func.animate_annotated, ax=ax, anim_monkey_info=anim_monkey_info, margin=100, ff_dataframe_anim=ff_dataframe_anim, \\\n",
    "                                   flash_on_ff_dict=flash_on_ff_dict, alive_ff_dict=alive_ff_dict, believed_ff_dict=believed_ff_dict, ff_caught_T_new=ff_caught_T_new, annotation_info=annotation_info)\n",
    "anim_annotated = animation.FuncAnimation(fig, animate_annotated_func, frames=num_frames, interval=100, repeat=True) \n",
    "HTML(anim_annotated.to_html5_video())"
   ]
  },
  {
   "attachments": {},
   "cell_type": "markdown",
   "metadata": {
    "id": "0ilPTCBQJa7R"
   },
   "source": [
    "## Polar"
   ]
  },
  {
   "cell_type": "code",
   "execution_count": null,
   "metadata": {
    "executionInfo": {
     "elapsed": 45,
     "status": "aborted",
     "timestamp": 1684812485286,
     "user": {
      "displayName": "Cici Du",
      "userId": "17701548280142155870"
     },
     "user_tz": -480
    },
    "id": "vMxempT-1ta1"
   },
   "outputs": [],
   "source": [
    "currentTrial = 101\n",
    "num_trials = 1\n",
    "filename = f\"Trials {currentTrial-num_trials+1}-{currentTrial}\"\n",
    "print(filename)\n",
    "k = 3\n",
    "rmax = 100\n",
    "colors_Reds = plt.get_cmap(\"Reds\")(np.linspace(0,1,101))\n",
    "colors_YlGn = plt.get_cmap(\"YlGn\")(np.linspace(0,1,101))\n",
    "cum_pos_index = np.where((monkey_information['time'] > ff_caught_T_new[currentTrial-num_trials]) & \n",
    "                       (monkey_information['time'] <= ff_caught_T_new[currentTrial]))\n",
    "\n",
    "if len(cum_pos_index) > 0:\n",
    "    fig = plt.figure(figsize=(7,7))\n",
    "    ax = fig.add_axes([0.1, 0.1, 0.8, 0.8], polar=True)\n",
    "    ax = plot_behaviors_utils.set_polar_background_for_animation(ax, rmax)\n",
    "\n",
    "    ff_in_time_frame, ff_visible, ff_in_memory = animation_func.subset_ff_dataframe(ff_dataframe, currentTrial, num_trials)\n",
    "    anim_indices = cum_pos_index[0][0:-1:k]\n",
    "    num_frames = anim_indices.size\n",
    "    animate_func = partial(animation_func.animate_polar, ax=ax, anim_indices=anim_indices, rmax=400, ff_in_time_frame=ff_in_time_frame, ff_visible=ff_visible, ff_in_memory=ff_in_memory)\n",
    "    anim = animation.FuncAnimation(fig, animate_func, frames=num_frames, interval=int(16.5*k), repeat=True) \n",
    "\n",
    "    #gif_dir = '/content/gdrive/My Drive/fireflies_anim/???'\n",
    "    #anim.save(f\"{gif_dir}/{filename}.gif\", writer='pillow', fps=60)\n",
    "else:\n",
    "    print(\"Please try another number for currentTrial, or increase num_trials.\")\n",
    "\n"
   ]
  },
  {
   "cell_type": "code",
   "execution_count": null,
   "metadata": {
    "executionInfo": {
     "elapsed": 45,
     "status": "aborted",
     "timestamp": 1684812485286,
     "user": {
      "displayName": "Cici Du",
      "userId": "17701548280142155870"
     },
     "user_tz": -480
    },
    "id": "kABZKesgI3CT"
   },
   "outputs": [],
   "source": [
    "# For some reason, I need to run the following in a separate cell; I can't combine it with the previous cell.\n",
    "print(\"Number of frames is\", num_frames)\n",
    "HTML(anim.to_html5_video())"
   ]
  },
  {
   "attachments": {},
   "cell_type": "markdown",
   "metadata": {
    "id": "McLE8_MfBMxV"
   },
   "source": [
    "# Other distributions"
   ]
  },
  {
   "attachments": {},
   "cell_type": "markdown",
   "metadata": {
    "id": "ovc1r5vSuLTi"
   },
   "source": [
    "## Stop speeds"
   ]
  },
  {
   "cell_type": "code",
   "execution_count": null,
   "metadata": {
    "executionInfo": {
     "elapsed": 46,
     "status": "aborted",
     "timestamp": 1684812485287,
     "user": {
      "displayName": "Cici Du",
      "userId": "17701548280142155870"
     },
     "user_tz": -480
    },
    "id": "JC3Hb56iuO8n"
   },
   "outputs": [],
   "source": [
    "all_min_speed = []\n",
    "all_min_dw = []\n",
    "all_corr_dw = []\n",
    "for time in ff_caught_T_new:\n",
    "  duration = [time-0.5, time+0.5]\n",
    "  cum_pos_index = np.where((monkey_information['time'] >= duration[0]) & (monkey_information['time'] <= duration[1]))[0]\n",
    "  cum_t, cum_angle = np.array(monkey_information['time'].iloc[cum_pos_index]), np.array(monkey_information['monkey_angle'].iloc[cum_pos_index])\n",
    "  cum_mx, cum_my = np.array(monkey_information['monkey_x'].iloc[cum_pos_index]), np.array(monkey_information['monkey_y'].iloc[cum_pos_index])\n",
    "  cum_speed, cum_speeddummy = np.array(monkey_information['speed'].iloc[cum_pos_index]), np.array(monkey_information['monkey_speeddummy'].iloc[cum_pos_index])\n",
    "  cum_dw = np.array(monkey_information['ang_speed'].iloc[cum_pos_index])\n",
    "  min_speed = min(cum_speed)\n",
    "  corresponding_dw = cum_dw[cum_speed==min_speed]\n",
    "  all_min_speed.append(min_speed)\n",
    "  all_min_dw.append(min(np.abs(cum_dw)))\n",
    "  all_corr_dw.append(round(abs(corresponding_dw).item(), 4))"
   ]
  },
  {
   "cell_type": "code",
   "execution_count": null,
   "metadata": {
    "executionInfo": {
     "elapsed": 46,
     "status": "aborted",
     "timestamp": 1684812485287,
     "user": {
      "displayName": "Cici Du",
      "userId": "17701548280142155870"
     },
     "user_tz": -480
    },
    "id": "pdZ3fMxvudDd"
   },
   "outputs": [],
   "source": [
    "import seaborn as sns\n",
    "fig = plt.subplots()\n",
    "sns.histplot(all_min_speed)\n",
    "plt.title(\"Distribution of min speed around catching targets\")\n",
    "plt.show()\n",
    "\n"
   ]
  },
  {
   "cell_type": "code",
   "execution_count": null,
   "metadata": {
    "executionInfo": {
     "elapsed": 46,
     "status": "aborted",
     "timestamp": 1684812485287,
     "user": {
      "displayName": "Cici Du",
      "userId": "17701548280142155870"
     },
     "user_tz": -480
    },
    "id": "mBv6LXuzvdm7"
   },
   "outputs": [],
   "source": [
    "fig = plt.subplots()\n",
    "sns.histplot(all_min_dw)\n",
    "plt.title(\"Distribution of min abs dw around catching targets\")\n",
    "plt.show()\n"
   ]
  },
  {
   "cell_type": "code",
   "execution_count": null,
   "metadata": {
    "executionInfo": {
     "elapsed": 46,
     "status": "aborted",
     "timestamp": 1684812485287,
     "user": {
      "displayName": "Cici Du",
      "userId": "17701548280142155870"
     },
     "user_tz": -480
    },
    "id": "CBREQlpev8Sw"
   },
   "outputs": [],
   "source": [
    "fig = plt.subplots()\n",
    "sns.histplot(all_corr_dw, binwidth=0.0002)\n",
    "plt.title(\"Distribution of abs dw corresponding to min speed around catching targets\")\n",
    "plt.xlim(0, 0.004)\n",
    "plt.show()\n"
   ]
  },
  {
   "attachments": {},
   "cell_type": "markdown",
   "metadata": {
    "id": "HJZ1afE1IuSX"
   },
   "source": [
    "## All ff in a session"
   ]
  },
  {
   "cell_type": "code",
   "execution_count": null,
   "metadata": {
    "executionInfo": {
     "elapsed": 44,
     "status": "aborted",
     "timestamp": 1684812485287,
     "user": {
      "displayName": "Cici Du",
      "userId": "17701548280142155870"
     },
     "user_tz": -480
    },
    "id": "LlrXgZVqIv-f"
   },
   "outputs": [],
   "source": [
    "with general_utils.initiate_plot(7, 7, 100):\n",
    "    plt.scatter(ff_real_position_sorted[:,0], ff_real_position_sorted[:,1], s=10)\n",
    "    plt.show()\n",
    "    "
   ]
  },
  {
   "attachments": {},
   "cell_type": "markdown",
   "metadata": {
    "id": "v0H7NQ9rVmiD"
   },
   "source": [
    "## ff distribution over time"
   ]
  },
  {
   "cell_type": "code",
   "execution_count": null,
   "metadata": {
    "executionInfo": {
     "elapsed": 44,
     "status": "aborted",
     "timestamp": 1684812485287,
     "user": {
      "displayName": "Cici Du",
      "userId": "17701548280142155870"
     },
     "user_tz": -480
    },
    "id": "6QldUuNWV7A-"
   },
   "outputs": [],
   "source": [
    "plot_behaviors_utils.plot_ff_distribution_in_arena(ff_real_position_sorted, ff_life_sorted, ff_caught_T_new, images_dir=None)"
   ]
  },
  {
   "attachments": {},
   "cell_type": "markdown",
   "metadata": {
    "id": "JUvBbX9eOYDQ"
   },
   "source": [
    "# Appendix"
   ]
  },
  {
   "attachments": {},
   "cell_type": "markdown",
   "metadata": {
    "id": "9c1qrT8MYVpn"
   },
   "source": [
    "## Retrieve more data"
   ]
  },
  {
   "cell_type": "code",
   "execution_count": null,
   "metadata": {
    "executionInfo": {
     "elapsed": 44,
     "status": "aborted",
     "timestamp": 1684812485288,
     "user": {
      "displayName": "Cici Du",
      "userId": "17701548280142155870"
     },
     "user_tz": -480
    },
    "id": "qb6INKvNOYkl"
   },
   "outputs": [],
   "source": [
    "all_trial_features_lstm = pd.read_csv('RL_models/LSTM_stored_models/all_agents/LSTM_Aug_1_24/patterns_and_features/all_trial_features.csv')\n",
    "all_trial_features_valid_lstm = all_trial_features_lstm[(all_trial_features_lstm['t_last_vis']<50) & (all_trial_features_lstm['hitting_arena_edge']==False)].reset_index()\n",
    "median_values_lstm = all_trial_features_valid_lstm.median(axis=0)"
   ]
  },
  {
   "attachments": {},
   "cell_type": "markdown",
   "metadata": {
    "id": "G1L88NI-C1Td"
   },
   "source": [
    "# Appendix of categories"
   ]
  },
  {
   "attachments": {},
   "cell_type": "markdown",
   "metadata": {
    "id": "FTIpPMTzQ4ry"
   },
   "source": [
    "## Cluster around targets"
   ]
  },
  {
   "cell_type": "code",
   "execution_count": null,
   "metadata": {
    "executionInfo": {
     "elapsed": 44,
     "status": "aborted",
     "timestamp": 1684812485288,
     "user": {
      "displayName": "Cici Du",
      "userId": "17701548280142155870"
     },
     "user_tz": -480
    },
    "id": "dq8yqi9tQ4ry"
   },
   "outputs": [],
   "source": [
    "# category = cluster_around_target_trials\n",
    "# category = category[category > num_trials]\n",
    "# category_name = 'cluster_around_target'\n",
    "# num_trials = 1\n",
    "\n",
    "\n",
    "# if len(category) > 0:\n",
    "#   with general_utils.initiate_plot(7, 7, 100):\n",
    "#     for currentTrial in category[:trial_total_num]:\n",
    "#         duration = [ff_caught_T_new[currentTrial-num_trials], ff_caught_T_new[currentTrial]]\n",
    "#         plot_trials.PlotTrials(duration, \n",
    "#                    *PlotTrials_args,\n",
    "#                    **classic_plot_kwargs,\n",
    "#                    currentTrial = currentTrial,\n",
    "#                    num_trials = num_trials,                   \n",
    "#                    trail_color_var = \"speed\",\n",
    "#                    show_path_when_target_visible = True,\n",
    "#                    show_connect_path_ff = True,\n",
    "#                    trial_to_show_cluster_around_target = \"current\",                 \n",
    "#                    )\n",
    "\n",
    "#         temp_animation_plot_kwargs = animation_plot_kwargs.copy()\n",
    "#         temp_animation_plot_kwargs['trial_to_show_cluster_around_target'] = 'current'\n",
    "#         data_item.make_animation(currentTrial=currentTrial, num_trials=num_trials, animation_plot_kwargs=temp_animation_plot_kwargs, save_video=False, video_dir=None, file_name=None)\n",
    "        \n",
    "\n",
    "#         plt.show()  \n",
    "#         \n"
   ]
  },
  {
   "attachments": {},
   "cell_type": "markdown",
   "metadata": {
    "id": "ZQKqdGcMQ4rx"
   },
   "source": [
    "## Cluster of fireflies"
   ]
  },
  {
   "cell_type": "code",
   "execution_count": null,
   "metadata": {
    "executionInfo": {
     "elapsed": 44,
     "status": "aborted",
     "timestamp": 1684812485288,
     "user": {
      "displayName": "Cici Du",
      "userId": "17701548280142155870"
     },
     "user_tz": -480
    },
    "id": "b7Yy6891Q4rx"
   },
   "outputs": [],
   "source": [
    "# category = cluster_exist_trials\n",
    "# category = category[category > num_trials]\n",
    "# category_name = 'cluster_exist_trials'\n",
    "# num_trials = 1\n",
    "\n",
    "# if len(category) > 0:\n",
    "#   with general_utils.initiate_plot(7, 7, 100):\n",
    "#     for currentTrial in category[:trial_total_num]:\n",
    "#         duration = [ff_caught_T_new[currentTrial-num_trials], ff_caught_T_new[currentTrial]]\n",
    "        \n",
    "#         plot_trials.PlotTrials(duration, \n",
    "                  #  *PlotTrials_args,\n",
    "                  #  **classic_plot_kwargs,\n",
    "                  #  currentTrial = currentTrial,\n",
    "                  #  num_trials = num_trials,                   \n",
    "#                    trail_color_var = \"speed\",                 \n",
    "#                    show_path_when_target_visible = True,\n",
    "#                    show_connect_path_ff_except_targets = True,\n",
    "#                    trial_to_show_cluster = \"current\", \n",
    "#                    cluster_dataframe_point = cluster_dataframe_point,\n",
    "#                    \n",
    "#                    )\n",
    "\n",
    "#         plt.show()  \n",
    "#         \n"
   ]
  },
  {
   "attachments": {},
   "cell_type": "markdown",
   "metadata": {
    "id": "gfUkMLmTQ4ry"
   },
   "source": [
    "## Waste cluster"
   ]
  },
  {
   "cell_type": "code",
   "execution_count": null,
   "metadata": {
    "executionInfo": {
     "elapsed": 44,
     "status": "aborted",
     "timestamp": 1684812485288,
     "user": {
      "displayName": "Cici Du",
      "userId": "17701548280142155870"
     },
     "user_tz": -480
    },
    "id": "bRqL7pxKQ4ry"
   },
   "outputs": [],
   "source": [
    "# category = waste_cluster_trials\n",
    "# category = category[category > num_trials]\n",
    "# category_name = 'waste_cluster_trials'\n",
    "# num_trials = 2\n",
    "\n",
    "# if len(category) > 0:\n",
    "#   with general_utils.initiate_plot(7, 7, 100):\n",
    "#     for currentTrial in category[:trial_total_num]:\n",
    "#         duration = [ff_caught_T_new[currentTrial-num_trials], ff_caught_T_new[currentTrial]]\n",
    "        \n",
    "#         plot_trials.PlotTrials(duration, \n",
    "                  #  *PlotTrials_args,\n",
    "                  #  **classic_plot_kwargs,\n",
    "                  #  currentTrial = currentTrial,\n",
    "                  #  num_trials = num_trials,\n",
    "#                    show_connect_path_ff = True,\n",
    "#                    trial_to_show_cluster = \"previous\", \n",
    "#                    cluster_dataframe_point = cluster_dataframe_point\n",
    "#                    \n",
    "#                    )\n",
    "\n",
    "#         plt.show()  \n",
    "#         \n"
   ]
  },
  {
   "attachments": {},
   "cell_type": "markdown",
   "metadata": {
    "id": "kkfeWWkVyDFt"
   },
   "source": [
    "# Debug"
   ]
  },
  {
   "cell_type": "code",
   "execution_count": null,
   "metadata": {
    "executionInfo": {
     "elapsed": 44,
     "status": "aborted",
     "timestamp": 1684812485288,
     "user": {
      "displayName": "Cici Du",
      "userId": "17701548280142155870"
     },
     "user_tz": -480
    },
    "id": "qQfGqp3EY1Cn"
   },
   "outputs": [],
   "source": [
    "!pip install -Uqq ipdb\n",
    "import ipdb\n",
    "%pdb on"
   ]
  },
  {
   "cell_type": "code",
   "execution_count": null,
   "metadata": {
    "executionInfo": {
     "elapsed": 45,
     "status": "aborted",
     "timestamp": 1684812485289,
     "user": {
      "displayName": "Cici Du",
      "userId": "17701548280142155870"
     },
     "user_tz": -480
    },
    "id": "QAu5A6RFY2XA"
   },
   "outputs": [],
   "source": [
    "%pdb off"
   ]
  }
 ],
 "metadata": {
  "colab": {
   "provenance": [
    {
     "file_id": "1G3e4Qx3gpEEDPI9pKYXBK_bxXCmF4ZmN",
     "timestamp": 1681009405002
    }
   ],
   "toc_visible": true
  },
  "gpuClass": "standard",
  "kernelspec": {
   "display_name": "multiff_clean",
   "language": "python",
   "name": "python3"
  },
  "language_info": {
   "codemirror_mode": {
    "name": "ipython",
    "version": 3
   },
   "file_extension": ".py",
   "mimetype": "text/x-python",
   "name": "python",
   "nbconvert_exporter": "python",
   "pygments_lexer": "ipython3",
   "version": "3.11.11"
  },
  "toc": {
   "base_numbering": 1,
   "nav_menu": {},
   "number_sections": true,
   "sideBar": true,
   "skip_h1_title": false,
   "title_cell": "Table of Contents",
   "title_sidebar": "Contents",
   "toc_cell": true,
   "toc_position": {},
   "toc_section_display": true,
   "toc_window_display": true
  }
 },
 "nbformat": 4,
 "nbformat_minor": 0
}
