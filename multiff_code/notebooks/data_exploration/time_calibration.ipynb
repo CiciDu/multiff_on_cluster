{
 "cells": [
  {
   "cell_type": "markdown",
   "metadata": {},
   "source": [
    "# Import packages"
   ]
  },
  {
   "cell_type": "code",
   "execution_count": null,
   "metadata": {},
   "outputs": [],
   "source": [
    "%load_ext autoreload\n",
    "%autoreload 2\n",
    "\n",
    "from pathlib import Path\n",
    "import os, sys\n",
    "for p in [Path.cwd()] + list(Path.cwd().parents):\n",
    "    if p.name == 'Multifirefly-Project':\n",
    "        os.chdir(p)\n",
    "        sys.path.insert(0, str(p / 'multiff_analysis/multiff_code/methods'))\n",
    "        break\n",
    "\n",
    "\n",
    "import sys\n",
    "from data_wrangling import specific_utils, process_monkey_information, specific_utils, process_monkey_information, time_calib_utils, retrieve_raw_data, general_utils, time_calib_class, time_calib_utils\n",
    "from pattern_discovery import pattern_by_trials, pattern_by_trials, cluster_analysis, organize_patterns_and_features, monkey_landing_in_ff\n",
    "from visualization.matplotlib_tools import plot_behaviors_utils\n",
    "from planning_analysis.show_planning import nxt_ff_utils\n",
    "from neural_data_analysis.neural_analysis_tools.get_neural_data import neural_data_processing\n",
    "from neural_data_analysis.neural_analysis_tools.visualize_neural_data import plot_neural_data, plot_modeling_result\n",
    "from neural_data_analysis.neural_analysis_tools.model_neural_data import transform_vars, neural_data_modeling, drop_high_corr_vars, drop_high_vif_vars\n",
    "from neural_data_analysis.topic_based_neural_analysis.neural_vs_behavioral import prep_monkey_data, prep_target_data, neural_vs_behavioral_class\n",
    "from neural_data_analysis.topic_based_neural_analysis.planning_and_neural import planning_and_neural_class, pn_utils\n",
    "\n",
    "\n",
    "import os, sys\n",
    "import numpy as np\n",
    "import matplotlib\n",
    "import matplotlib.pyplot as plt\n",
    "import pandas as pd\n",
    "import math\n",
    "import seaborn as sns\n",
    "from matplotlib import rc\n",
    "from os.path import exists\n",
    "from numpy import random\n",
    "from sklearn.metrics import mean_squared_error\n",
    "from sklearn.linear_model import LinearRegression\n",
    "from sklearn.cross_decomposition import CCA\n",
    "from sklearn.preprocessing import StandardScaler\n",
    "from sklearn.metrics import r2_score\n",
    "from statsmodels.stats.outliers_influence import variance_inflation_factor\n",
    "from sklearn.model_selection import train_test_split\n",
    "from importlib import reload\n",
    "import neo\n",
    "import gc\n",
    "import rcca\n",
    "from statsmodels.multivariate.cancorr import CanCorr\n",
    "\n",
    "import sys\n",
    "import os, sys\n",
    "import numpy as np\n",
    "import torch\n",
    "from numpy import pi\n",
    "from matplotlib import pyplot as plt\n",
    "\n",
    "import numpy as np\n",
    "import scipy.linalg as linalg\n",
    "import scipy.interpolate as interpolate\n",
    "from scipy.signal import fftconvolve\n",
    "\n",
    "\n",
    "from scipy.io import loadmat\n",
    "from sklearn.linear_model import Ridge\n",
    "from sklearn.model_selection import GridSearchCV\n",
    "import sys\n",
    "\n",
    "import scipy.sparse as sparse\n",
    "import matplotlib.pylab as plt\n",
    "import subprocess\n",
    "\n",
    "plt.rcParams[\"animation.html\"] = \"html5\"\n",
    "os.environ['KMP_DUPLICATE_LIB_OK']='True'\n",
    "rc('animation', html='jshtml')\n",
    "matplotlib.rcParams.update(matplotlib.rcParamsDefault)\n",
    "matplotlib.rcParams['animation.embed_limit'] = 2**128\n",
    "pd.set_option('display.float_format', lambda x: '%.5f' % x)\n",
    "np.set_printoptions(suppress=True)\n",
    "print(\"done\")\n",
    "\n",
    "%load_ext autoreload\n",
    "%autoreload 2"
   ]
  },
  {
   "cell_type": "markdown",
   "metadata": {},
   "source": [
    "# Get data"
   ]
  },
  {
   "cell_type": "code",
   "execution_count": null,
   "metadata": {},
   "outputs": [],
   "source": [
    "raw_data_folder_path = \"all_monkey_data/raw_monkey_data/monkey_Schro/data_0410\"\n",
    "t_inst = time_calib_class.TimeCalibration(raw_data_folder_path=raw_data_folder_path)\n",
    "t_inst.retrieve_or_make_monkey_data()\n",
    "t_inst.make_adjusted_ff_caught_times_df()\n",
    "t_inst.separate_ff_caught_times_df()\n",
    "t_inst.txt_and_smr.head(7)"
   ]
  },
  {
   "cell_type": "markdown",
   "metadata": {},
   "source": [
    "# Calibrate smr markers"
   ]
  },
  {
   "cell_type": "code",
   "execution_count": null,
   "metadata": {},
   "outputs": [],
   "source": [
    "raw_data_folder_path = \"all_monkey_data/raw_monkey_data/monkey_Schro/data_0410\""
   ]
  },
  {
   "cell_type": "code",
   "execution_count": null,
   "metadata": {},
   "outputs": [],
   "source": [
    "channel_signal_output, marker_list, smr_sampling_rate = retrieve_raw_data.extract_smr_data(raw_data_folder_path)\n",
    "juice_timestamp = marker_list[0]['values'][marker_list[0]['labels'] == 4]\n",
    "unadj_smr_markers_start_time = marker_list[0]['values'][marker_list[0]['labels']==1][0]\n",
    "unadj_smr_markers_end_time = juice_timestamp[-1]"
   ]
  },
  {
   "cell_type": "code",
   "execution_count": null,
   "metadata": {},
   "outputs": [],
   "source": [
    "# marker_df = pd.DataFrame({'time': marker_list[0]['values'], \n",
    "#                           'label': marker_list[0]['labels']})"
   ]
  },
  {
   "cell_type": "code",
   "execution_count": null,
   "metadata": {},
   "outputs": [],
   "source": [
    "# marker_df_sub = marker_df[marker_df['label'].isin([1, 4])].copy()"
   ]
  },
  {
   "cell_type": "code",
   "execution_count": null,
   "metadata": {},
   "outputs": [],
   "source": [
    "# smr_t_raw = marker_list[0]['values'][marker_list[0]['labels'] == 4]\n",
    "# df, _, txt_smr_offset_2 = time_calib_utils.make_txt_and_smr_df(smr_t_raw, t_inst.ff_caught_T_sorted)\n"
   ]
  },
  {
   "cell_type": "code",
   "execution_count": null,
   "metadata": {},
   "outputs": [],
   "source": [
    "txt_smr_offset_2"
   ]
  },
  {
   "cell_type": "code",
   "execution_count": null,
   "metadata": {},
   "outputs": [],
   "source": [
    "ff_caught_T_sorted, ff_index_sorted, ff_real_position_sorted, ff_believed_position_sorted, ff_life_sorted, ff_flash_end_sorted = retrieve_raw_data.make_or_retrieve_ff_info_from_txt_data(raw_data_folder_path)"
   ]
  },
  {
   "cell_type": "code",
   "execution_count": null,
   "metadata": {},
   "outputs": [],
   "source": [
    "ff_caught_T_sorted"
   ]
  },
  {
   "cell_type": "code",
   "execution_count": null,
   "metadata": {},
   "outputs": [],
   "source": [
    "processed_data_folder_path = raw_data_folder_path.replace('raw_monkey_data', 'processed_data')        \n",
    "npz_file = os.path.join(os.path.join(processed_data_folder_path, 'ff_basic_info.npz'))\n",
    "loaded_arrays = np.load(npz_file, allow_pickle = True)\n",
    "ff_caught_T_sorted = loaded_arrays['ff_caught_T_sorted']"
   ]
  },
  {
   "cell_type": "code",
   "execution_count": null,
   "metadata": {},
   "outputs": [],
   "source": [
    "ff_caught_T_sorted"
   ]
  },
  {
   "cell_type": "code",
   "execution_count": null,
   "metadata": {},
   "outputs": [],
   "source": [
    "# smr_t_raw = marker_list[0]['values'][marker_list[0]['labels'] == 4]\n",
    "# df, _, txt_smr_offset_2 = time_calib_utils.make_txt_and_smr_df(smr_t_raw, t_inst.ff_caught_T_sorted)\n",
    "# smr_markers_start_time = smr_markers_start_time + txt_smr_offset_2\n",
    "# smr_markers_end_time = smr_markers_end_time + txt_smr_offset_2"
   ]
  },
  {
   "cell_type": "code",
   "execution_count": null,
   "metadata": {},
   "outputs": [],
   "source": [
    "smr_markers_start_time"
   ]
  },
  {
   "cell_type": "markdown",
   "metadata": {},
   "source": [
    "# smr time calibration  (based on monkey_x and y)"
   ]
  },
  {
   "cell_type": "markdown",
   "metadata": {},
   "source": [
    "### get new signal_df"
   ]
  },
  {
   "cell_type": "code",
   "execution_count": null,
   "metadata": {},
   "outputs": [],
   "source": [
    "signal_df = process_monkey_information.make_signal_df(raw_data_folder_path)"
   ]
  },
  {
   "cell_type": "code",
   "execution_count": null,
   "metadata": {},
   "outputs": [],
   "source": [
    "signal_df.head(4)"
   ]
  },
  {
   "cell_type": "markdown",
   "metadata": {},
   "source": [
    "### test the calib result"
   ]
  },
  {
   "cell_type": "code",
   "execution_count": null,
   "metadata": {},
   "outputs": [],
   "source": [
    "raw_monkey_information = retrieve_raw_data.get_raw_monkey_information_from_txt_data(raw_data_folder_path)\n",
    "smr_markers_start_time, smr_markers_end_time = time_calib_utils.find_smr_markers_start_and_end_time(raw_data_folder_path)\n",
    "monkey_information = retrieve_raw_data._trim_monkey_information(raw_monkey_information, smr_markers_start_time, smr_markers_end_time)"
   ]
  },
  {
   "cell_type": "code",
   "execution_count": null,
   "metadata": {},
   "outputs": [],
   "source": [
    "# Test the result\n",
    "\n",
    "# duration = [1800, 1801]\n",
    "for start_time in np.arange(100, 1800, 500):\n",
    "    duration = [start_time, start_time + 3]\n",
    "    smr_subset = signal_df.loc[signal_df['time'].between(duration[0], duration[1])]\n",
    "    txt_subset = monkey_information[(monkey_information['time'] >= duration[0]) & (monkey_information['time'] <= duration[1])]\n",
    "    # plot monkey x and y\n",
    "    plt.scatter(smr_subset['time'], smr_subset['MonkeyY'], s=2, alpha=0.5)\n",
    "    plt.scatter(txt_subset['time'], txt_subset['monkey_y'], s=2, alpha=0.5)\n",
    "    plt.xlabel('Time (s)')\n",
    "    plt.ylabel('Monkey Y')\n",
    "    # plot monkey x and y\n",
    "    plt.legend(['smr', 'txt'])\n",
    "    plt.show()\n",
    "\n",
    "    plt.scatter(smr_subset['time'], smr_subset['MonkeyX'], s=2, alpha=0.5)\n",
    "    plt.scatter(txt_subset['time'], txt_subset['monkey_x'], s=2, alpha=0.5)\n",
    "    plt.xlabel('Time (s)')\n",
    "    plt.ylabel('Monkey X')\n",
    "    plt.legend(['smr', 'txt'])\n",
    "    plt.show()\n"
   ]
  },
  {
   "cell_type": "markdown",
   "metadata": {},
   "source": [
    "### lin reg of time offset based on ceiling_of_min_distance"
   ]
  },
  {
   "cell_type": "code",
   "execution_count": null,
   "metadata": {},
   "outputs": [],
   "source": [
    "txt_smr_t_diff_via_xy_df = time_calib_utils.make_or_retrieve_txt_smr_t_diff_via_xy_df(raw_data_folder_path)"
   ]
  },
  {
   "cell_type": "code",
   "execution_count": null,
   "metadata": {},
   "outputs": [],
   "source": [
    "overall_txt_smr_t_linreg_df = pd.DataFrame()\n",
    "for ceiling_of_min_distance in range(2, 5):\n",
    "    fig, ax = plt.subplots(figsize=(6, 4))\n",
    "    df_sub = time_calib_utils.clean_txt_smr_t_diff_via_xy_df_based_on_min_distance(txt_smr_t_diff_via_xy_df, ceiling_of_min_distance=ceiling_of_min_distance)\n",
    "    ax, txt_smr_t_linreg_df = time_calib_utils.get_linear_regression(df_sub['time'].values, df_sub['time_offset'].values, ax=ax)\n",
    "    txt_smr_t_linreg_df['ceiling_of_min_distance'] = ceiling_of_min_distance\n",
    "    overall_txt_smr_t_linreg_df = pd.concat([overall_txt_smr_t_linreg_df, txt_smr_t_linreg_df])\n",
    "    #plt.show()\n",
    "overall_txt_smr_t_linreg_df.set_index('ceiling_of_min_distance', inplace=True)\n",
    "overall_txt_smr_t_linreg_df"
   ]
  },
  {
   "cell_type": "markdown",
   "metadata": {},
   "source": [
    "### subplots based on ceiling_of_min_distance"
   ]
  },
  {
   "cell_type": "code",
   "execution_count": null,
   "metadata": {},
   "outputs": [],
   "source": [
    "# Create subplots\n",
    "ceilings = [0.1, 0.5, 1, 2, 3, 5]\n",
    "num_rows = math.ceil(len(ceilings) / 2)\n",
    "num_cols = 2\n",
    "fig, axes = plt.subplots(num_rows, num_cols, figsize=(12, 10))\n",
    "axes = axes.flatten()\n",
    "\n",
    "# Plot each ceiling in a subplot\n",
    "for i, ceiling in enumerate(ceilings):\n",
    "    df_sub0 = time_calib_utils.clean_txt_smr_t_diff_via_xy_df_based_on_min_distance(txt_smr_t_diff_via_xy_df, ceiling_of_min_distance=ceiling)\n",
    "    df_sub = df_sub0.iloc[np.where(time_calib_utils.find_non_outliers_based_on_IQR(df_sub0['time_offset']))[0]].copy()\n",
    "    sns.scatterplot(data=df_sub, x='time', y='time_offset', hue='min_distance', s=20, alpha=0.5, palette='viridis', ax=axes[i])\n",
    "    axes[i].set_title(f'ceiling of min_distance = {ceiling}')\n",
    "\n",
    "# Adjust layout\n",
    "plt.tight_layout()\n",
    "plt.show()"
   ]
  },
  {
   "cell_type": "markdown",
   "metadata": {},
   "source": [
    "# Compare monkey_speed and speeddummy between txt and smr"
   ]
  },
  {
   "cell_type": "code",
   "execution_count": null,
   "metadata": {},
   "outputs": [],
   "source": [
    "monkey_information = t_inst.monkey_information.copy()\n",
    "monkey_information['monkey_speeddummy'] = ((monkey_information['speed'] > 0.1) | \\\n",
    "                                        (np.abs(monkey_information['ang_speed']) > 0.0035)).astype(int)\n",
    "monkey_information['monkey_speeddummy_smr'] = ((monkey_information['speed_smr'] > 0.1) | \\\n",
    "                                        (np.abs(monkey_information['ang_speed_smr']) > 0.0035)).astype(int)\n",
    "diff_df = monkey_information[['point_index', 'time']].copy()\n",
    "diff_df['monkey_x'] = monkey_information['monkey_x'] - monkey_information['monkey_x_smr']\n",
    "diff_df['monkey_y'] = monkey_information['monkey_y'] - monkey_information['monkey_y_smr']\n",
    "diff_df['speed'] = monkey_information['speed'] - monkey_information['speed_smr']\n",
    "diff_df['ang_speed'] = monkey_information['ang_speed'] - monkey_information['ang_speed_smr']\n",
    "diff_df['monkey_speeddummy'] = monkey_information['monkey_speeddummy'] - monkey_information['monkey_speeddummy_smr']"
   ]
  },
  {
   "cell_type": "markdown",
   "metadata": {},
   "source": [
    "## get statistics"
   ]
  },
  {
   "cell_type": "markdown",
   "metadata": {},
   "source": [
    "### overall"
   ]
  },
  {
   "cell_type": "code",
   "execution_count": null,
   "metadata": {},
   "outputs": [],
   "source": [
    "diff_df.describe()"
   ]
  },
  {
   "cell_type": "code",
   "execution_count": null,
   "metadata": {},
   "outputs": [],
   "source": [
    "# get every 5 percentile for columns in diff_df, and put them into the same df\n",
    "percentiles = np.arange(0, 100, 1)\n",
    "percentiles_df = pd.DataFrame({'percentile': percentiles})\n",
    "for col in diff_df.columns:\n",
    "    # get the non-NA values in diff_df[col]\n",
    "    non_na_values = diff_df[col].dropna()\n",
    "    percentiles_df[col] = np.percentile(non_na_values, percentiles)"
   ]
  },
  {
   "cell_type": "code",
   "execution_count": null,
   "metadata": {},
   "outputs": [],
   "source": [
    "percentiles_df.head(10)"
   ]
  },
  {
   "cell_type": "code",
   "execution_count": null,
   "metadata": {},
   "outputs": [],
   "source": [
    "percentiles_df.tail(10)"
   ]
  },
  {
   "cell_type": "markdown",
   "metadata": {},
   "source": [
    "### monkey_speeddummy"
   ]
  },
  {
   "cell_type": "code",
   "execution_count": null,
   "metadata": {},
   "outputs": [],
   "source": [
    "monkey_information['monkey_speeddummy'].mean()"
   ]
  },
  {
   "cell_type": "code",
   "execution_count": null,
   "metadata": {},
   "outputs": [],
   "source": [
    "diff_df['monkey_speeddummy'].mean()"
   ]
  },
  {
   "cell_type": "code",
   "execution_count": null,
   "metadata": {},
   "outputs": [],
   "source": [
    "diff_df['monkey_speeddummy'].abs().mean()"
   ]
  },
  {
   "cell_type": "markdown",
   "metadata": {},
   "source": [
    "## see specific points"
   ]
  },
  {
   "cell_type": "markdown",
   "metadata": {},
   "source": [
    "### based on monkey_speeddummy"
   ]
  },
  {
   "cell_type": "code",
   "execution_count": null,
   "metadata": {},
   "outputs": [],
   "source": [
    "diff_df[diff_df['monkey_speeddummy'] != 0].iloc[1000:]"
   ]
  },
  {
   "cell_type": "code",
   "execution_count": null,
   "metadata": {},
   "outputs": [],
   "source": [
    "columns = ['point_index', 'time', 'monkey_speeddummy', 'monkey_speeddummy_smr', 'speed', 'speed_smr', 'ang_speed', 'ang_speed_smr', 'monkey_x', 'monkey_x_smr', 'monkey_y', 'monkey_y_smr']"
   ]
  },
  {
   "cell_type": "code",
   "execution_count": null,
   "metadata": {},
   "outputs": [],
   "source": [
    "point_index = 20641\n",
    "m_sub = monkey_information.loc[point_index-5: point_index+5, columns].copy()\n",
    "m_sub['whether_the_points'] = np.where(m_sub['point_index'] == point_index, 'yesssss', 'no')\n",
    "m_sub.set_index('whether_the_points', inplace=True)\n",
    "m_sub"
   ]
  },
  {
   "cell_type": "markdown",
   "metadata": {},
   "source": [
    "### based on monkey_speed"
   ]
  },
  {
   "cell_type": "code",
   "execution_count": null,
   "metadata": {},
   "outputs": [],
   "source": [
    "diff_df[diff_df['speed'] > 10].iloc[100:]"
   ]
  },
  {
   "cell_type": "code",
   "execution_count": null,
   "metadata": {},
   "outputs": [],
   "source": [
    "columns = ['point_index', 'time', 'monkey_x', 'monkey_x_smr', 'monkey_y', 'monkey_y_smr', 'speed', 'speed_smr', 'ang_speed', 'ang_speed_smr', 'monkey_speeddummy', 'monkey_speeddummy_smr']"
   ]
  },
  {
   "cell_type": "code",
   "execution_count": null,
   "metadata": {},
   "outputs": [],
   "source": [
    "point_index = 2370\n",
    "m_sub = monkey_information.loc[point_index-5: point_index+5, columns].copy()\n",
    "m_sub['whether_the_points'] = np.where(m_sub['point_index'] == point_index, 'yesssss', 'no')\n",
    "m_sub.set_index('whether_the_points', inplace=True)\n",
    "m_sub"
   ]
  },
  {
   "cell_type": "markdown",
   "metadata": {},
   "source": [
    "# Compare scatter within ff reward boundary"
   ]
  },
  {
   "cell_type": "code",
   "execution_count": null,
   "metadata": {},
   "outputs": [],
   "source": [
    "valid_subset = pd.DataFrame({'cur_ff_index': np.arange(len(t_inst.ff_caught_T_sorted)),\n",
    "                             'time': t_inst.ff_caught_T_sorted})\n",
    "                             "
   ]
  },
  {
   "cell_type": "markdown",
   "metadata": {},
   "source": [
    "## txt"
   ]
  },
  {
   "cell_type": "code",
   "execution_count": null,
   "metadata": {},
   "outputs": [],
   "source": [
    "monkey_landing_in_ff.plot_monkey_landings_in_ff(valid_subset, t_inst.monkey_information, t_inst.ff_real_position_sorted)\n"
   ]
  },
  {
   "cell_type": "markdown",
   "metadata": {},
   "source": [
    "## smr"
   ]
  },
  {
   "cell_type": "code",
   "execution_count": null,
   "metadata": {},
   "outputs": [],
   "source": [
    "temp_monkey_information = t_inst.monkey_information.copy()\n",
    "temp_monkey_information['monkey_x'] = temp_monkey_information['monkey_x_smr']\n",
    "temp_monkey_information['monkey_y'] = temp_monkey_information['monkey_y_smr']"
   ]
  },
  {
   "cell_type": "code",
   "execution_count": null,
   "metadata": {},
   "outputs": [],
   "source": [
    "monkey_landing_in_ff.plot_monkey_landings_in_ff(valid_subset, temp_monkey_information, t_inst.ff_real_position_sorted)"
   ]
  },
  {
   "cell_type": "markdown",
   "metadata": {},
   "source": [
    "# Compare closest_stop_to_capture"
   ]
  },
  {
   "cell_type": "markdown",
   "metadata": {},
   "source": [
    "## stop based on both\n",
    "\n",
    "monkey_speeddummy is based on both smr and txt (if one of them identifies a point as stop, then it is a stop)"
   ]
  },
  {
   "cell_type": "code",
   "execution_count": null,
   "metadata": {},
   "outputs": [],
   "source": [
    "temp_monkey_information = t_inst.monkey_information.copy()"
   ]
  },
  {
   "cell_type": "code",
   "execution_count": null,
   "metadata": {},
   "outputs": [],
   "source": [
    "closest_stop_to_capture_df = monkey_landing_in_ff.get_closest_stop_time_to_all_capture_time(t_inst.ff_caught_T_sorted, temp_monkey_information, t_inst.ff_real_position_sorted, \n",
    "                                                                                        cur_ff_index_array=np.arange(len(t_inst.ff_caught_T_sorted)))\n",
    "closest_stop_to_capture_df.head(3)"
   ]
  },
  {
   "cell_type": "code",
   "execution_count": null,
   "metadata": {},
   "outputs": [],
   "source": [
    "closest_stop_to_capture_df['diff_from_caught_time'].describe()"
   ]
  },
  {
   "cell_type": "code",
   "execution_count": null,
   "metadata": {},
   "outputs": [],
   "source": [
    "# Notice the unit of y axis\n",
    "\n",
    "plt.figure(figsize=(7, 4))\n",
    "num_points = closest_stop_to_capture_df.shape[0]\n",
    "plt.scatter(range(num_points), closest_stop_to_capture_df['diff_from_caught_time'], s=3, color='red')\n",
    "plt.plot(range(num_points), np.zeros(num_points), color='blue')\n",
    "plt.title(f'txt: {raw_data_folder_path}')\n",
    "plt.xlabel('ff index')\n",
    "plt.ylabel('diff_from_caught_time')\n",
    "plt.show()"
   ]
  },
  {
   "cell_type": "markdown",
   "metadata": {},
   "source": [
    "## stop based on txt alone"
   ]
  },
  {
   "cell_type": "code",
   "execution_count": null,
   "metadata": {},
   "outputs": [],
   "source": [
    "temp_monkey_information = t_inst.monkey_information.copy()\n",
    "temp_monkey_information['monkey_speeddummy'] = ((temp_monkey_information['speed_smr'] > 0.1) | \\\n",
    "                                        (np.abs(temp_monkey_information['ang_speed_smr']) > 0.0035)).astype(int)"
   ]
  },
  {
   "cell_type": "code",
   "execution_count": null,
   "metadata": {},
   "outputs": [],
   "source": [
    "closest_stop_to_capture_df = monkey_landing_in_ff.get_closest_stop_time_to_all_capture_time(t_inst.ff_caught_T_sorted, temp_monkey_information, t_inst.ff_real_position_sorted, \n",
    "                                                                                        cur_ff_index_array=np.arange(len(t_inst.ff_caught_T_sorted)))\n",
    "closest_stop_to_capture_df.head(3)"
   ]
  },
  {
   "cell_type": "code",
   "execution_count": null,
   "metadata": {},
   "outputs": [],
   "source": [
    "closest_stop_to_capture_df['diff_from_caught_time'].describe()"
   ]
  },
  {
   "cell_type": "code",
   "execution_count": null,
   "metadata": {},
   "outputs": [],
   "source": [
    "# Notice the unit of y axis\n",
    "\n",
    "plt.figure(figsize=(7, 4))\n",
    "num_points = closest_stop_to_capture_df.shape[0]\n",
    "plt.scatter(range(num_points), closest_stop_to_capture_df['diff_from_caught_time'], s=3, color='red')\n",
    "plt.plot(range(num_points), np.zeros(num_points), color='blue')\n",
    "plt.title(f'txt: {raw_data_folder_path}')\n",
    "plt.xlabel('ff index')\n",
    "plt.ylabel('diff_from_caught_time')\n",
    "plt.show()"
   ]
  },
  {
   "cell_type": "markdown",
   "metadata": {},
   "source": [
    "## stop based on smr alone"
   ]
  },
  {
   "cell_type": "code",
   "execution_count": null,
   "metadata": {},
   "outputs": [],
   "source": [
    "temp_monkey_information = t_inst.monkey_information.copy()\n",
    "temp_monkey_information['monkey_speeddummy'] = ((temp_monkey_information['speed_smr'] > 0.1) | \\\n",
    "                                        (np.abs(temp_monkey_information['ang_speed_smr']) > 0.0035)).astype(int)"
   ]
  },
  {
   "cell_type": "code",
   "execution_count": null,
   "metadata": {},
   "outputs": [],
   "source": [
    "closest_stop_to_capture_df2 = monkey_landing_in_ff.get_closest_stop_time_to_all_capture_time(t_inst.ff_caught_T_sorted, temp_monkey_information, t_inst.ff_real_position_sorted, \n",
    "                                                                                        cur_ff_index_array=np.arange(len(t_inst.ff_caught_T_sorted)))\n",
    "closest_stop_to_capture_df2.head(3)"
   ]
  },
  {
   "cell_type": "code",
   "execution_count": null,
   "metadata": {},
   "outputs": [],
   "source": [
    "closest_stop_to_capture_df2['diff_from_caught_time'].describe()"
   ]
  },
  {
   "cell_type": "code",
   "execution_count": null,
   "metadata": {},
   "outputs": [],
   "source": [
    "plt.figure(figsize=(7, 4))\n",
    "num_points = closest_stop_to_capture_df2.shape[0]\n",
    "plt.scatter(range(num_points), closest_stop_to_capture_df2['diff_from_caught_time'], s=3, color='red')\n",
    "plt.plot(range(num_points), np.zeros(num_points), color='blue')\n",
    "plt.title(f'smr: {raw_data_folder_path}')\n",
    "plt.xlabel('ff index')\n",
    "plt.ylabel('smr: diff_from_caught_time')\n",
    "plt.show()"
   ]
  },
  {
   "cell_type": "markdown",
   "metadata": {},
   "source": [
    "## all info based on smr"
   ]
  },
  {
   "cell_type": "code",
   "execution_count": null,
   "metadata": {},
   "outputs": [],
   "source": [
    "raw_signal_df = process_monkey_information.get_raw_signal_df(raw_data_folder_path)\n",
    "monkey_information = retrieve_raw_data.get_trimmed_monkey_information(raw_data_folder_path)\n",
    "monkey_information = process_monkey_information._add_smr_file_info_to_monkey_information(monkey_information, raw_signal_df)\n",
    "monkey_information.rename(columns={'MonkeyX': 'monkey_x_smr', 'MonkeyY': 'monkey_y_smr', 'AngularV': 'ang_speed_smr'}, inplace=True)\n",
    "monkey_information = process_monkey_information.get_monkey_speed_and_dw_from_smr_info(monkey_information)\n"
   ]
  },
  {
   "cell_type": "code",
   "execution_count": null,
   "metadata": {},
   "outputs": [],
   "source": [
    "temp_monkey_information = monkey_information.copy()\n",
    "temp_monkey_information['monkey_speeddummy'] = ((temp_monkey_information['speed_smr'] > 0.1) | \\\n",
    "                                        (np.abs(temp_monkey_information['ang_speed_smr']) > 0.0035)).astype(int)"
   ]
  },
  {
   "cell_type": "code",
   "execution_count": null,
   "metadata": {},
   "outputs": [],
   "source": [
    "closest_stop_to_capture_df2 = monkey_landing_in_ff.get_closest_stop_time_to_all_capture_time(t_inst.ff_caught_times_df['smr_t_raw'], temp_monkey_information, t_inst.ff_real_position_sorted, \n",
    "                                                                                        cur_ff_index_array=np.arange(len(t_inst.ff_caught_times_df)))\n",
    "closest_stop_to_capture_df2.head(3)"
   ]
  },
  {
   "cell_type": "code",
   "execution_count": null,
   "metadata": {},
   "outputs": [],
   "source": [
    "closest_stop_to_capture_df2['diff_from_caught_time'].describe()"
   ]
  },
  {
   "cell_type": "code",
   "execution_count": null,
   "metadata": {},
   "outputs": [],
   "source": [
    "plt.figure(figsize=(7, 4))\n",
    "num_points = closest_stop_to_capture_df2.shape[0]\n",
    "plt.scatter(range(num_points), closest_stop_to_capture_df2['diff_from_caught_time'], s=3, color='red')\n",
    "plt.plot(range(num_points), np.zeros(num_points), color='blue')\n",
    "plt.title(f'smr: {raw_data_folder_path}')\n",
    "plt.xlabel('ff index')\n",
    "plt.ylabel('smr: diff_from_caught_time')\n",
    "plt.show()"
   ]
  },
  {
   "cell_type": "markdown",
   "metadata": {},
   "source": [
    "# Compare smr mean vs median"
   ]
  },
  {
   "cell_type": "code",
   "execution_count": null,
   "metadata": {},
   "outputs": [],
   "source": [
    "signal_df = process_monkey_information.make_signal_df(raw_data_folder_path)\n",
    "monkey_information = t_inst.monkey_information.copy()\n",
    "time_bins = general_utils.find_time_bins_for_an_array(monkey_information['time'].values)\n",
    "\n",
    "# add time_box to monkey_information\n",
    "monkey_information.loc[:, 'time_box'] = np.arange(1, len(monkey_information)+1)\n",
    "signal_df.loc[:, 'time_box'] = np.digitize(signal_df['time'].values, time_bins)\n",
    "\n",
    "# use groupby and then find average for LDy, LDz, RDy, RDz\n",
    "condensed_signal_df = signal_df[['time_box', 'LDy', 'LDz', 'RDy', 'RDz', 'MonkeyX', 'MonkeyY', 'LateralV', 'ForwardV', 'AngularV']]\n",
    "condensed_signal_df['radius'] = np.sqrt(condensed_signal_df['MonkeyX']**2 + condensed_signal_df['MonkeyY']**2)\n",
    "mean_df = condensed_signal_df.groupby('time_box').mean().reset_index(drop=False)\n",
    "median_df = condensed_signal_df.groupby('time_box').median().reset_index(drop=False)\n",
    "mean_df.index = mean_df.time_box.values\n",
    "median_df.index = median_df.time_box.values\n",
    "diff_df = (mean_df - median_df)"
   ]
  },
  {
   "cell_type": "code",
   "execution_count": null,
   "metadata": {},
   "outputs": [],
   "source": [
    "condensed_signal_df.groupby('time_box').count().reset_index(drop=False)"
   ]
  },
  {
   "cell_type": "markdown",
   "metadata": {},
   "source": [
    "## get statistics"
   ]
  },
  {
   "cell_type": "code",
   "execution_count": null,
   "metadata": {},
   "outputs": [],
   "source": [
    "diff_df.describe()"
   ]
  },
  {
   "cell_type": "markdown",
   "metadata": {},
   "source": [
    "## see specific points"
   ]
  },
  {
   "cell_type": "code",
   "execution_count": null,
   "metadata": {},
   "outputs": [],
   "source": [
    "diff_df[diff_df['AngularV'] > 10]"
   ]
  },
  {
   "cell_type": "code",
   "execution_count": null,
   "metadata": {},
   "outputs": [],
   "source": [
    "window = 5 "
   ]
  },
  {
   "cell_type": "code",
   "execution_count": null,
   "metadata": {},
   "outputs": [],
   "source": [
    "box = 178818\n",
    "median_df[median_df['time_box'].between(box-window, box+window)]"
   ]
  },
  {
   "cell_type": "code",
   "execution_count": null,
   "metadata": {},
   "outputs": [],
   "source": [
    "mean_df[mean_df['time_box'].between(box-window, box+window)]"
   ]
  },
  {
   "cell_type": "code",
   "execution_count": null,
   "metadata": {},
   "outputs": [],
   "source": [
    "condensed_signal_df[condensed_signal_df['time_box'].between(box-1, box+1)]"
   ]
  },
  {
   "cell_type": "markdown",
   "metadata": {},
   "source": [
    "# Compare capture time between data"
   ]
  },
  {
   "cell_type": "markdown",
   "metadata": {},
   "source": [
    "## compare capture time"
   ]
  },
  {
   "cell_type": "markdown",
   "metadata": {},
   "source": [
    "### txt vs smr"
   ]
  },
  {
   "cell_type": "code",
   "execution_count": null,
   "metadata": {},
   "outputs": [],
   "source": [
    "t_inst.compare_txt_and_smr_with_boxplot()"
   ]
  },
  {
   "cell_type": "code",
   "execution_count": null,
   "metadata": {},
   "outputs": [],
   "source": [
    "t_inst.compare_txt_and_smr_with_scatterplot()"
   ]
  },
  {
   "cell_type": "markdown",
   "metadata": {},
   "source": [
    "### txt vs neural"
   ]
  },
  {
   "cell_type": "code",
   "execution_count": null,
   "metadata": {},
   "outputs": [],
   "source": [
    "t_inst.compare_txt_and_neural_with_scatterplot()"
   ]
  },
  {
   "cell_type": "markdown",
   "metadata": {},
   "source": [
    "### neural vs smr"
   ]
  },
  {
   "cell_type": "code",
   "execution_count": null,
   "metadata": {},
   "outputs": [],
   "source": [
    "t_inst.compare_neural_and_smr_with_scatterplot()"
   ]
  },
  {
   "cell_type": "markdown",
   "metadata": {},
   "source": [
    "# Neural data calibration"
   ]
  },
  {
   "cell_type": "markdown",
   "metadata": {},
   "source": [
    "## verify that the calibration is correct"
   ]
  },
  {
   "cell_type": "code",
   "execution_count": null,
   "metadata": {},
   "outputs": [],
   "source": [
    "calibrated_neural_event_t = time_calib_utils.calibrate_neural_data_time(t_inst.ff_caught_times_df['neural_t_raw_ext'].values, t_inst.raw_data_folder_path, t_inst.ff_caught_T_sorted, show_plot=True)"
   ]
  },
  {
   "cell_type": "code",
   "execution_count": null,
   "metadata": {},
   "outputs": [],
   "source": [
    "temp_array = calibrated_neural_event_t - t_inst.ff_caught_T_sorted[:len(calibrated_neural_event_t)]\n",
    "# make a boxplot on temp_array\n",
    "plt.figure(figsize=(7, 4))\n",
    "plt.boxplot(temp_array)\n",
    "plt.title('Difference between calibrated adjusted neural event time and ff caught time')\n",
    "plt.show()"
   ]
  },
  {
   "cell_type": "code",
   "execution_count": null,
   "metadata": {},
   "outputs": [],
   "source": [
    "temp_df = pd.DataFrame({'diff': temp_array})\n",
    "temp_df.describe()"
   ]
  },
  {
   "cell_type": "markdown",
   "metadata": {},
   "source": [
    "# Plot ff caught time"
   ]
  },
  {
   "cell_type": "markdown",
   "metadata": {},
   "source": [
    "## Bruno"
   ]
  },
  {
   "cell_type": "code",
   "execution_count": null,
   "metadata": {},
   "outputs": [],
   "source": [
    "additional_plots.plot_ff_caught_time(monkey_name='monkey_Bruno')"
   ]
  },
  {
   "cell_type": "markdown",
   "metadata": {},
   "source": [
    "## Schro"
   ]
  },
  {
   "cell_type": "code",
   "execution_count": null,
   "metadata": {},
   "outputs": [],
   "source": [
    "additional_plots.plot_ff_caught_time(monkey_name='monkey_Schro')"
   ]
  }
 ],
 "metadata": {
  "kernelspec": {
   "display_name": "Python 3",
   "language": "python",
   "name": "python3"
  },
  "language_info": {
   "codemirror_mode": {
    "name": "ipython",
    "version": 3
   },
   "file_extension": ".py",
   "mimetype": "text/x-python",
   "name": "python",
   "nbconvert_exporter": "python",
   "pygments_lexer": "ipython3",
   "version": "3.9.19"
  }
 },
 "nbformat": 4,
 "nbformat_minor": 2
}
