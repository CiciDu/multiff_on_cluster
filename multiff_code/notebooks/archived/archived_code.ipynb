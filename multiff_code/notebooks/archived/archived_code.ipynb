{
 "cells": [
  {
   "cell_type": "markdown",
   "metadata": {},
   "source": [
    "# Install packages"
   ]
  },
  {
   "cell_type": "code",
   "execution_count": null,
   "metadata": {},
   "outputs": [],
   "source": [
    "from google.colab import drive # import drive from google colab\n",
    "drive.mount(\"/content/drive\") \n",
    "!pip install neo\n",
    "!pip install matplotlib_scalebar\n",
    "!pip install ffmpeg\n",
    "!pip install Ipython --upgrade\n",
    "!pip3 install setuptools==65.5.0\n",
    "%load_ext autoreload\n",
    "%autoreload 2"
   ]
  },
  {
   "cell_type": "markdown",
   "metadata": {},
   "source": [
    "# Retrieve individual monkey data"
   ]
  },
  {
   "cell_type": "code",
   "execution_count": null,
   "metadata": {},
   "outputs": [],
   "source": [
    "raw_data_folder_path = \"all_monkey_data/raw_monkey_data/monkey_Schro/data_0321\"\n",
    "data_item = further_processing_class.FurtherProcessing(raw_data_folder_path=raw_data_folder_path)\n",
    "data_item.retrieve_or_make_monkey_data()\n",
    "data_item.make_or_retrieve_ff_dataframe(exists_ok=True)\n",
    "data_item.find_patterns()\n",
    "# data_item.make_or_retrieve_all_trial_patterns(exists_ok=True)\n",
    "# data_item.make_or_retrieve_pattern_frequencies(exists_ok=True)\n",
    "# data_item.make_or_retrieve_all_trial_features(exists_ok=True)\n",
    "# data_item.make_or_retrieve_feature_statistics(exists_ok=True)\n",
    "# data_item.make_info_of_monkey()\n",
    "# data_item.make_or_retrieve_target_closest()\n",
    "# data_item.make_or_retrieve_target_angle_smallest()\n",
    "\n",
    "\n",
    "\n",
    "# monkey_information = data_item.monkey_information\n",
    "# target_closest = data_item.target_closest\n",
    "# target_angle_smallest = data_item.target_angle_smallest\n",
    "# ff_dataframe = data_item.ff_dataframe\n",
    "\n",
    "# ff_life_sorted = data_item.ff_life_sorted\n",
    "# ff_real_position_sorted = data_item.ff_real_position_sorted\n",
    "# ff_believed_position_sorted = data_item.ff_believed_position_sorted\n",
    "# cluster_around_target_indices = data_item.cluster_around_target_indices\n",
    "# ff_caught_T_new = data_item.ff_caught_T_new\n",
    "# ff_flash_sorted = data_item.ff_flash_sorted\n",
    "\n",
    "# all_trial_patterns = data_item.all_trial_patterns\n",
    "# all_trial_features = data_item.all_trial_features\n",
    "# pattern_frequencies = data_item.pattern_frequencies\n",
    "# feature_statistics = data_item.feature_statistics\n",
    "# info_of_monkey = data_item.info_of_monkey"
   ]
  },
  {
   "cell_type": "markdown",
   "metadata": {},
   "source": [
    "# New denominators for pattern frequency"
   ]
  },
  {
   "cell_type": "markdown",
   "metadata": {},
   "source": [
    "## GUAT/TAFT "
   ]
  },
  {
   "cell_type": "code",
   "execution_count": null,
   "metadata": {},
   "outputs": [],
   "source": [
    "gc_kwargs = helper_GUAT_vs_TAFT_class.gc_kwargs\n",
    "gcc = GUAT_collect_info_class.GUATCollectInfoForSession(raw_data_folder_path=raw_data_folder_path, \n",
    "                                                        gc_kwargs=gc_kwargs, \n",
    "                                                        new_point_index_start=0)\n",
    "gcc.get_monkey_data(already_retrieved_ok=True, include_TAFT_data=True)\n",
    "gcc.make_one_stop_w_ff_df()"
   ]
  },
  {
   "cell_type": "markdown",
   "metadata": {},
   "source": [
    "Denominator being sum of one stop instances (near visible/in memory ff but w/o capturing ff) + GUAT + TAFT"
   ]
  },
  {
   "cell_type": "code",
   "execution_count": null,
   "metadata": {},
   "outputs": [],
   "source": [
    "# can calculate GUAT/one stop, TAFT/one stop, (GUAT + TAFT)/one stop, GUAT/TAFT, TAFT/(GUAT + TAFT), etc\n",
    "n_GUAT = len(gcc.GUAT_w_ff_df)\n",
    "n_one = len(gcc.one_stop_w_ff_df)\n",
    "n_TAFT = len(gcc.data_item.TAFT_trials_df)\n",
    "n_total = n_GUAT + n_TAFT + n_one\n",
    "\n",
    "print(f'n_GUAT/n_total: {n_GUAT/n_total}')\n",
    "print(f'n_TAFT/n_total: {n_TAFT/n_total}')\n",
    "print(f'n_one/n_total: {n_one/n_total}')\n",
    "print(f'(n_GUAT + n_TAFT)/n_total: {(n_GUAT + n_TAFT)/n_total}')\n",
    "print(f'n_GUAT/n_TAFT: {n_GUAT/n_TAFT}')\n",
    "print(f'n_TAFT/(n_GUAT + n_TAFT): {n_TAFT/(n_GUAT + n_TAFT)}')"
   ]
  },
  {
   "cell_type": "markdown",
   "metadata": {},
   "source": [
    "## Ignore sudden flash"
   ]
  },
  {
   "cell_type": "code",
   "execution_count": null,
   "metadata": {},
   "outputs": [],
   "source": [
    "raw_data_folder_path = \"all_monkey_data/raw_monkey_data/monkey_Bruno/data_0314\"\n",
    "data_item = further_processing_class.FurtherProcessing(raw_data_folder_path=raw_data_folder_path)\n",
    "data_item.retrieve_or_make_monkey_data()\n",
    "data_item.make_or_retrieve_ff_dataframe(exists_ok=True)\n",
    "data_item.find_patterns()"
   ]
  },
  {
   "cell_type": "code",
   "execution_count": null,
   "metadata": {},
   "outputs": [],
   "source": [
    "sudden_flash_sub = pattern_by_trials.find_instances_of_sudden_flash_ff(data_item.ff_dataframe, max_ff_distance_from_monkey=50)"
   ]
  },
  {
   "cell_type": "code",
   "execution_count": null,
   "metadata": {},
   "outputs": [],
   "source": [
    "ignore_sudden_flash_ratio = (data_item.ignore_sudden_flash_trials.shape[0])/(sudden_flash_sub['target_index'].unique().shape[0])\n",
    "ignore_sudden_flash_ratio"
   ]
  },
  {
   "cell_type": "markdown",
   "metadata": {},
   "source": [
    "## waste target around last target"
   ]
  },
  {
   "cell_type": "code",
   "execution_count": null,
   "metadata": {},
   "outputs": [],
   "source": [
    "# denominator should be num trials with cluster around target"
   ]
  },
  {
   "cell_type": "code",
   "execution_count": null,
   "metadata": {},
   "outputs": [],
   "source": [
    "data_item.find_patterns()"
   ]
  },
  {
   "cell_type": "code",
   "execution_count": null,
   "metadata": {},
   "outputs": [],
   "source": [
    "data_item.used_cluster_trials.shape[0] / data_item.cluster_around_target_trials.shape[0]"
   ]
  },
  {
   "cell_type": "markdown",
   "metadata": {},
   "source": [
    "# Target closest & target_angle_smallest"
   ]
  },
  {
   "cell_type": "code",
   "execution_count": null,
   "metadata": {},
   "outputs": [],
   "source": [
    "# plot_statistics.plot_proportion_of_target_closest(target_closest)"
   ]
  },
  {
   "cell_type": "code",
   "execution_count": null,
   "metadata": {},
   "outputs": [],
   "source": [
    "# plot_statistics.plot_proportion_of_target_closest(target_closest)\n",
    "# plot_statistics.plot_proportion_of_target_angle_smallest(target_angle_smallest)"
   ]
  },
  {
   "cell_type": "markdown",
   "metadata": {},
   "source": [
    "# Are angles to fireflies decreasing?"
   ]
  },
  {
   "cell_type": "markdown",
   "metadata": {},
   "source": [
    "## plot trials"
   ]
  },
  {
   "cell_type": "code",
   "execution_count": null,
   "metadata": {},
   "outputs": [],
   "source": [
    "trial_total_num = 10\n",
    "data_item.cluster_around_target_trials, _, data_item.cluster_around_target_indices, data_item.cluster_around_target_positions = pattern_by_trials.cluster_around_target_func(data_item.ff_dataframe, \n",
    "        data_item.caught_ff_num, data_item.ff_caught_T_new, data_item.ff_real_position_sorted)\n",
    "\n",
    "classic_plot_kwargs = {'show_stops': True,\n",
    "                       'show_believed_target_positions': True,\n",
    "                       'show_reward_boundary': True,\n",
    "                       'show_scale_bar': True}\n",
    "data_item.PlotTrials_args = (data_item.monkey_information, data_item.ff_dataframe, data_item.ff_life_sorted, data_item.ff_real_position_sorted, data_item.ff_believed_position_sorted, data_item.cluster_around_target_indices, data_item.ff_caught_T_new)"
   ]
  },
  {
   "cell_type": "code",
   "execution_count": null,
   "metadata": {},
   "outputs": [],
   "source": [
    "\n",
    "num_trials = 2 \n",
    "\n",
    "\n",
    "with general_utils.initiate_plot(10,10,100):\n",
    "  for currentTrial in [102]: #two_in_a_row[10:20]:\n",
    "      duration = [data_item.ff_caught_T_new[currentTrial-num_trials], data_item.ff_caught_T_new[currentTrial]]\n",
    "      plot_trials.PlotTrials(duration, \n",
    "                  *data_item.PlotTrials_args,\n",
    "                  **classic_plot_kwargs,\n",
    "                  currentTrial = currentTrial,\n",
    "                  num_trials = num_trials,                   \n",
    "                  show_connect_path_ff_except_targets = True,\n",
    "                  show_path_when_target_visible = True,\n",
    "                  show_ff_indices = False,\n",
    "                  hitting_arena_edge_ok = True,\n",
    "                  visible_distance = 400,\n",
    "                  minimal_margin = 300,\n",
    "                  show_monkey_angles = True\n",
    "                  )\n",
    "      plt.show()  \n",
    "\n",
    "      "
   ]
  },
  {
   "cell_type": "markdown",
   "metadata": {},
   "source": [
    "## Plot: abs_ffangle_decreasing (angle or angle to boundary?)"
   ]
  },
  {
   "cell_type": "code",
   "execution_count": null,
   "metadata": {},
   "outputs": [],
   "source": [
    "trial_numbers = range(100, 105)\n",
    "plot_behaviors_utils.plot_change_in_ff_angle(data_item.ff_dataframe, trial_numbers, var_of_interest = \"abs_ffangle_decreasing\")\n",
    "plot_behaviors_utils.plot_change_in_ff_angle(data_item.ff_dataframe, trial_numbers, var_of_interest = \"abs_ffangle_boundary_decreasing\")\n",
    "plot_behaviors_utils.plot_change_in_ff_angle(data_item.ff_dataframe, trial_numbers, var_of_interest = \"dw_same_sign_as_ffangle\")\n",
    "plot_behaviors_utils.plot_change_in_ff_angle(data_item.ff_dataframe, trial_numbers, var_of_interest = \"dw_same_sign_as_ffangle_boundary\")"
   ]
  },
  {
   "cell_type": "markdown",
   "metadata": {},
   "source": [
    "# New two in a row"
   ]
  },
  {
   "cell_type": "markdown",
   "metadata": {},
   "source": [
    "## New two-in-a-row (no speed up in the middle)\n",
    "\n",
    "**If two fireflies were caught in the same chunk**"
   ]
  },
  {
   "cell_type": "code",
   "execution_count": null,
   "metadata": {},
   "outputs": [],
   "source": [
    "from data_wrangling import specific_utils\n",
    "chunk_numbers, new_chunk_indices = specific_utils.reorganize_data_into_chunks(data_item.monkey_information)"
   ]
  },
  {
   "cell_type": "code",
   "execution_count": null,
   "metadata": {},
   "outputs": [],
   "source": [
    "new_chunk_start_times = data_item.monkey_information['time'][new_chunk_indices].values\n",
    "ff_caught_T_chunk_numbers = np.digitize(data_item.ff_caught_T_new, new_chunk_start_times)\n",
    "# find the trials where at least two fireflies were caught during the same chunk\n",
    "two_in_a_row_trials_by_chunk = np.where(np.diff(ff_caught_T_chunk_numbers)==0)[0]+1"
   ]
  },
  {
   "cell_type": "code",
   "execution_count": null,
   "metadata": {},
   "outputs": [],
   "source": [
    "category = two_in_a_row_trials_by_chunk\n",
    "trial_total_num = 5\n",
    "PlotTrials_args = (data_item.monkey_information, data_item.ff_dataframe, data_item.ff_life_sorted, data_item.ff_real_position_sorted, \n",
    "                   data_item.ff_believed_position_sorted, data_item.cluster_around_target_indices, data_item.ff_caught_T_new)\n",
    "PlotTrials_kwargs = {'player': 'monkey',\n",
    "                     'images_dir': None} \n",
    "\n",
    "classic_plot_kwargs = {'show_stops': True,\n",
    "                       'show_believed_target_positions': True,\n",
    "                       'show_reward_boundary': True,\n",
    "                       'show_scale_bar': True}\n",
    "\n",
    "#category = two_in_a_row_simuly\n",
    "#category = two_in_a_row_non_simul\n",
    "#category = used_cluster  --> two_in_a_row_non_simul ^ on_before_last_one\n",
    "\n",
    "num_trials = 2 \n",
    "\n",
    "if len(category) > 0:\n",
    "  with general_utils.initiate_plot(7,7,100):\n",
    "    for currentTrial in category[:trial_total_num]:\n",
    "        duration = [data_item.ff_caught_T_new[currentTrial-num_trials], \n",
    "                    data_item.ff_caught_T_new[currentTrial]]\n",
    "        print(duration)\n",
    "        plot_trials.PlotTrials(duration, \n",
    "                   *PlotTrials_args,\n",
    "                   **classic_plot_kwargs,\n",
    "                   currentTrial = currentTrial,\n",
    "                   num_trials = num_trials,                   \n",
    "                   show_connect_path_ff_except_targets = True,\n",
    "                   show_path_when_target_visible = True,\n",
    "                   )\n",
    "        plt.show()  \n",
    "        "
   ]
  },
  {
   "cell_type": "markdown",
   "metadata": {},
   "source": [
    "## New two-in-a-row (no stop in the middle)\n"
   ]
  },
  {
   "cell_type": "code",
   "execution_count": null,
   "metadata": {},
   "outputs": [],
   "source": [
    "# import LA\n",
    "from numpy import linalg as LA\n"
   ]
  },
  {
   "cell_type": "code",
   "execution_count": null,
   "metadata": {},
   "outputs": [],
   "source": [
    "monkey_information = data_item.monkey_information.copy()\n",
    "monkey_information['trials'] = np.digitize(monkey_information['time'], data_item.ff_caught_T_new)\n",
    "all_trials = monkey_information.trials.unique()\n",
    "# take out all the rows where the monkey stops\n",
    "speed_threshold = 5\n",
    "monkey_info_subset = monkey_information[monkey_information['speed'] < speed_threshold].copy()\n",
    "\n",
    "# if a stop is within 25 cm of the previous or the current target, then it doesn't count\n",
    "monkey_info_subset['target_x'] = data_item.ff_real_position_sorted[monkey_info_subset['trials']][:,0]\n",
    "monkey_info_subset['target_y'] = data_item.ff_real_position_sorted[monkey_info_subset['trials']][:,1]\n",
    "monkey_info_subset['prev_target_x'] = data_item.ff_real_position_sorted[monkey_info_subset['trials']-1][:,0]\n",
    "monkey_info_subset['prev_target_y'] = data_item.ff_real_position_sorted[monkey_info_subset['trials']-1][:,1]\n",
    "monkey_info_subset['distance_to_target'] = np.linalg.norm(monkey_info_subset[['monkey_x', 'monkey_y']].values - monkey_info_subset[['target_x', 'target_y']].values, axis=1)\n",
    "monkey_info_subset['distance_to_prev_target'] = np.linalg.norm(monkey_info_subset[['monkey_x', 'monkey_y']].values - monkey_info_subset[['prev_target_x', 'prev_target_y']].values, axis=1)\n",
    "monkey_info_subset2 = monkey_info_subset[(monkey_info_subset['distance_to_target'] > 25) &\n",
    "                                         (monkey_info_subset['distance_to_prev_target'] > 25)]\n",
    "trials_containing_stops_in_middle = monkey_info_subset2.trials.unique()\n",
    "two_in_a_row_trials_by_stops = np.setdiff1d(all_trials, trials_containing_stops_in_middle)                                         "
   ]
  },
  {
   "cell_type": "code",
   "execution_count": null,
   "metadata": {},
   "outputs": [],
   "source": [
    "category = two_in_a_row_trials_by_stops\n",
    "trial_total_num = 10\n",
    "PlotTrials_kwargs = {'player': 'monkey',\n",
    "                     'images_dir': None} \n",
    "\n",
    "classic_plot_kwargs = {'show_stops': True,\n",
    "                       'show_believed_target_positions': True,\n",
    "                       'show_reward_boundary': True,\n",
    "                       'show_scale_bar': True}\n",
    "\n",
    "#category = two_in_a_row_simuly\n",
    "#category = two_in_a_row_non_simul\n",
    "#category = used_cluster  --> two_in_a_row_non_simul ^ on_before_last_one\n",
    "\n",
    "num_trials = 2 \n",
    "\n",
    "if len(category) > 0:\n",
    "  with general_utils.initiate_plot(7,7,100):\n",
    "    for currentTrial in category[:trial_total_num]:\n",
    "        duration = [data_item.ff_caught_T_new[currentTrial-num_trials], data_item.ff_caught_T_new[currentTrial]]\n",
    "        print(duration)\n",
    "        plot_trials.PlotTrials(duration, \n",
    "                   *PlotTrials_args,\n",
    "                   **classic_plot_kwargs,\n",
    "                   currentTrial = currentTrial,\n",
    "                   num_trials = num_trials, \n",
    "                   trail_color_var = 'speed',                  \n",
    "                   show_connect_path_ff_except_targets = True,\n",
    "                   show_path_when_target_visible = False,\n",
    "                   )\n",
    "        plt.show()  \n",
    "        "
   ]
  },
  {
   "cell_type": "markdown",
   "metadata": {},
   "source": [
    "# See Schro data"
   ]
  },
  {
   "cell_type": "code",
   "execution_count": null,
   "metadata": {},
   "outputs": [],
   "source": [
    "# trial_total_num = 10\n",
    "# data_item.cluster_around_target_trials, _, data_item.cluster_around_target_indices, data_item.cluster_around_target_positions = pattern_by_trials.cluster_around_target_func(data_item.ff_dataframe, \n",
    "#         data_item.caught_ff_num, data_item.ff_caught_T_new, data_item.ff_real_position_sorted)\n",
    "\n",
    "classic_plot_kwargs = {'show_stops': True,\n",
    "                       'show_believed_target_positions': True,\n",
    "                       'show_reward_boundary': True,\n",
    "                       'show_scale_bar': True}\n",
    "data_item.PlotTrials_args = (data_item.monkey_information, data_item.ff_dataframe, data_item.ff_life_sorted, data_item.ff_real_position_sorted, data_item.ff_believed_position_sorted, data_item.cluster_around_target_indices, data_item.ff_caught_T_new)"
   ]
  },
  {
   "cell_type": "code",
   "execution_count": null,
   "metadata": {},
   "outputs": [],
   "source": [
    "\n",
    "num_trials = 2 \n",
    "\n",
    "\n",
    "with general_utils.initiate_plot(10,10,100):\n",
    "  for start_time in range(3000, 4000, 100):\n",
    "      \n",
    "      plot_trials.PlotTrials([start_time, start_time+1], \n",
    "                  *data_item.PlotTrials_args,\n",
    "                  **classic_plot_kwargs,\n",
    "                  currentTrial = None,\n",
    "                  num_trials = None,                   \n",
    "                  show_connect_path_ff_except_targets = True,\n",
    "                  show_path_when_target_visible = True,\n",
    "                  show_ff_indices = False,\n",
    "                  hitting_arena_edge_ok = True,\n",
    "                  visible_distance = 400,\n",
    "                  minimal_margin = 300,\n",
    "                  show_monkey_angles = True\n",
    "                  )\n",
    "      plt.show()  \n",
    "\n",
    "      "
   ]
  },
  {
   "cell_type": "markdown",
   "metadata": {},
   "source": [
    "# Old vs. new distance array"
   ]
  },
  {
   "cell_type": "code",
   "execution_count": null,
   "metadata": {},
   "outputs": [],
   "source": [
    "ff_caught_T_new = data_item.ff_caught_T_new\n",
    "monkey_information = data_item.monkey_information\n",
    "ff_life_sorted = data_item.ff_life_sorted\n",
    "ff_real_position_sorted = data_item.ff_real_position_sorted\n",
    "ff_believed_position_sorted = data_item.ff_believed_position_sorted\n"
   ]
  },
  {
   "cell_type": "code",
   "execution_count": null,
   "metadata": {},
   "outputs": [],
   "source": [
    "import numpy.linalg as LA\n",
    "\n",
    "def old_find_stops_func(currentTrial, ff_caught_T_new, monkey_information, player = \"monkey\", return_index = False, \n",
    "                  since_target_last_seen = False, t_last_vis = None):\n",
    "\n",
    "    if since_target_last_seen is True:\n",
    "      duration = [ff_caught_T_new[currentTrial]-t_last_vis[currentTrial-1], ff_caught_T_new[currentTrial]]\n",
    "    else:\n",
    "      duration = [ff_caught_T_new[currentTrial-1], ff_caught_T_new[currentTrial]]\n",
    "    \n",
    "    cum_pos_index = np.where((monkey_information['time'] > duration[0]) & (monkey_information['time'] <= duration[1]))[0]\n",
    "    if len(cum_pos_index) > 5:\n",
    "      cum_mx, cum_my = np.array(monkey_information['monkey_x'].iloc[cum_pos_index]), np.array(monkey_information['monkey_y'].iloc[cum_pos_index])\n",
    "      cum_speeddummy = np.array(monkey_information['monkey_speeddummy'].iloc[cum_pos_index])\n",
    "      # if the monkey has stopped at any point\n",
    "      zerospeed_index = np.where(cum_speeddummy==0)[0]\n",
    "      if len(zerospeed_index) > 0 :\n",
    "        zerospeedx, zerospeedy = cum_mx[zerospeed_index], cum_my[zerospeed_index]\n",
    "        zerospeedindex = cum_pos_index[zerospeed_index]\n",
    "        # Get pairs of x, y coordinates of all the stops\n",
    "        stop0 = np.array(list(zip(zerospeedx, zerospeedy)))\n",
    "        # Get the locations indexes of unique stops\n",
    "        _, stops_index = np.unique(stop0, axis=0, return_index=True)\n",
    "        stops = stop0[stops_index[np.argsort(stops_index)]]\n",
    "        stop_indices = zerospeedindex[stops_index[np.argsort(stops_index)]]\n",
    "        # If player is monkey;\n",
    "        if player == \"monkey\":\n",
    "        # Find distinct stops from unique stops: two stops are considered distinct here if they are at least 5 cm apart; \n",
    "        # this number is an arbitrary but sensible choice.\n",
    "          if return_index is True:\n",
    "            distinct_stops = [stop_indices[0]] + [stop_indices[i+1] for i in range(len(stops)-1) if np.linalg.norm(np.array((stops[i+1][0]-stops[i][0], stops[i+1][1]-stops[i][1]))) > 10]\n",
    "          else:\n",
    "            distinct_stops = [stops[0]] + [stops[i+1] for i in range(len(stops)-1) if np.linalg.norm(np.array((stops[i+1][0]-stops[i][0], stops[i+1][1]-stops[i][1]))) > 10]\n",
    "        else: # else the player is agent\n",
    "          if return_index is True:\n",
    "            distinct_stops = zerospeedindex[stops_index[np.argsort(stops_index)]]\n",
    "          else:\n",
    "            distinct_stops = stops\n",
    "      else:\n",
    "        # if there is no stop, then return an empty list\n",
    "        distinct_stops = []\n",
    "    else:\n",
    "      # if there is no step in the current trial (this can happen if the monkey captures two fireflies together), then return an empty list\n",
    "      distinct_stops = []\n",
    "    return distinct_stops\n",
    "\n"
   ]
  },
  {
   "cell_type": "code",
   "execution_count": null,
   "metadata": {},
   "outputs": [],
   "source": [
    "cum_distance_array = []\n",
    "distance_array = []\n",
    "num_stops_array = []\n",
    "for i in range(len(ff_caught_T_new)-1):\n",
    "  cum_distance_array.append(specific_utils.get_cum_distance_traveled(i, ff_caught_T_new, monkey_information))\n",
    "  distance_array.append(specific_utils.get_distance_between_two_points(i, ff_caught_T_new, monkey_information, ff_believed_position_sorted))\n",
    "  num_stops_array.append(len(old_find_stops_func(i, ff_caught_T_new, monkey_information)))\n",
    "cum_distance_array = np.array(cum_distance_array)\n",
    "distance_array = np.array(distance_array)\n",
    "num_stops_array = np.array(num_stops_array)\n",
    "\n",
    "old_cum_distance_array = cum_distance_array.copy()\n",
    "old_distance_array = distance_array.copy()\n",
    "old_num_stops_array = num_stops_array.copy()"
   ]
  },
  {
   "cell_type": "code",
   "execution_count": null,
   "metadata": {},
   "outputs": [],
   "source": [
    "# also get the new cum_distance_array, distance_array, and num_stops_array\n",
    "cum_distance_array = []\n",
    "distance_array = []\n",
    "for i in range(len(data_item.ff_caught_T_new)-1):\n",
    "  cum_distance_array.append(specific_utils.get_cum_distance_traveled(i, data_item.ff_caught_T_new, data_item.monkey_information))\n",
    "  distance_array.append(specific_utils.get_distance_between_two_points(i, data_item.ff_caught_T_new, data_item.monkey_information, data_item.ff_believed_position_sorted))\n",
    "cum_distance_array = np.array(cum_distance_array)\n",
    "distance_array = np.array(distance_array)\n",
    "\n",
    "num_stops_array = organize_patterns_and_features.get_num_stops_array(data_item.monkey_information, np.arange(len(data_item.ff_caught_T_new)))\n",
    "num_stops_array = num_stops_array[:len(cum_distance_array)]"
   ]
  },
  {
   "cell_type": "code",
   "execution_count": null,
   "metadata": {},
   "outputs": [],
   "source": [
    "from scipy.stats import pearsonr\n",
    "sns.regplot(x=old_num_stops_array, y=num_stops_array, scatter_kws={'color': 'blue', 'alpha': 0.05},\n",
    "            x_jitter=0.1, y_jitter=0.1)\n",
    "r, _ = pearsonr(old_num_stops_array, num_stops_array)\n",
    "# Annotate the plot with the Pearson correlation coefficient\n",
    "plt.annotate(f'Pearson r: {r:.2f}', xy=(0.05, 0.95), xycoords='axes fraction', fontsize=12, ha='left', va='top')\n",
    "\n",
    "\n",
    "# plot a line of y=x\n",
    "plt.plot([0, 10], [0, 10], color='red', linestyle='--')\n",
    "plt.xlabel('Old Number of Stops')\n",
    "plt.ylabel('New Number of Stops')\n",
    "plt.show()"
   ]
  },
  {
   "cell_type": "markdown",
   "metadata": {},
   "source": [
    "# Change stop criterion?"
   ]
  },
  {
   "cell_type": "code",
   "execution_count": null,
   "metadata": {},
   "outputs": [],
   "source": [
    "data_item = further_processing_class.FurtherProcessing(raw_data_folder_path=raw_data_folder_path)\n",
    "data_item.retrieve_or_make_monkey_data()\n",
    "data_item.make_or_retrieve_ff_dataframe(exists_ok=True)\n",
    "# data_item.find_patterns()\n",
    "# data_item.make_PlotTrials_args()"
   ]
  },
  {
   "cell_type": "code",
   "execution_count": null,
   "metadata": {},
   "outputs": [],
   "source": [
    "data_item.find_patterns()"
   ]
  },
  {
   "cell_type": "code",
   "execution_count": null,
   "metadata": {},
   "outputs": [],
   "source": [
    "ff_caught_T_new = data_item.ff_caught_T_new\n",
    "monkey_information = data_item.monkey_information\n",
    "ff_life_sorted = data_item.ff_life_sorted\n",
    "ff_real_position_sorted = data_item.ff_real_position_sorted\n",
    "ff_believed_position_sorted = data_item.ff_believed_position_sorted"
   ]
  },
  {
   "cell_type": "code",
   "execution_count": null,
   "metadata": {},
   "outputs": [],
   "source": [
    "monkey_information['speed'].max()"
   ]
  },
  {
   "cell_type": "code",
   "execution_count": null,
   "metadata": {},
   "outputs": [],
   "source": [
    "monkey_information['ang_speed'].max()"
   ]
  },
  {
   "cell_type": "code",
   "execution_count": null,
   "metadata": {},
   "outputs": [],
   "source": [
    "closest_stop_to_capture_df = monkey_landing_in_ff.get_closest_stop_time_to_all_capture_time(ff_caught_T_new, monkey_information, ff_real_position_sorted, cur_ff_index_array=np.arange(len(ff_caught_T_new)))\n",
    "ff_dataframe_visible = data_item.ff_dataframe[data_item.ff_dataframe['visible'] == 1]\n",
    "closest_stop_to_capture_df = monkey_landing_in_ff.add_distance_from_ff_to_stop(closest_stop_to_capture_df, monkey_information, ff_real_position_sorted)\n",
    "original_length = len(closest_stop_to_capture_df)\n",
    "outlier_sub_df = closest_stop_to_capture_df[closest_stop_to_capture_df['distance_from_ff_to_stop'] > 25].sort_values(by='distance_from_ff_to_stop', ascending=False)\n",
    "closest_stop_to_capture_df = closest_stop_to_capture_df[closest_stop_to_capture_df['distance_from_ff_to_stop'] <= 25].copy()\n",
    "\n",
    "print(f'{original_length - len(closest_stop_to_capture_df)} rows out of {original_length} rows were removed from closest_stop_to_capture_df because the distance between stop and ff center is larger than 25cm, ' +\n",
    "        f'\\n which is {round((original_length - len(closest_stop_to_capture_df))/original_length*100, 2)}% of the rows, ' + \n",
    "        f'and the sorted distances from those are {outlier_sub_df[\"distance_from_ff_to_stop\"].values}')\n"
   ]
  },
  {
   "cell_type": "code",
   "execution_count": null,
   "metadata": {},
   "outputs": [],
   "source": [
    "sns.histplot(closest_stop_to_capture_df['diff_from_caught_time'])\n",
    "plt.show()"
   ]
  },
  {
   "cell_type": "code",
   "execution_count": null,
   "metadata": {},
   "outputs": [],
   "source": [
    "sns.histplot(outlier_sub_df['diff_from_caught_time'])\n",
    "plt.show()"
   ]
  },
  {
   "cell_type": "code",
   "execution_count": null,
   "metadata": {},
   "outputs": [],
   "source": [
    "def get_monkey_speed_and_dw_in_target(row, monkey_information):\n",
    "    monkey_sub = monkey_information[monkey_information['time'].between(row['caught_time']-0.2, row['caught_time']+0.2)].copy()\n",
    "    monkey_sub['distance_to_ff'] = np.sqrt((monkey_sub['monkey_x'] - row['ff_x'])**2 + (monkey_sub['monkey_y'] - row['ff_y'])**2)\n",
    "    monkey_sub = monkey_sub[monkey_sub['distance_to_ff'] < 25]\n",
    "    return monkey_sub"
   ]
  },
  {
   "cell_type": "code",
   "execution_count": null,
   "metadata": {},
   "outputs": [],
   "source": [
    "def plot_min_speed_and_abs_dw(all_min_speed, all_min_abs_dw):\n",
    "    all_min_speed = np.array(all_min_speed)\n",
    "    all_min_abs_dw = np.array(all_min_abs_dw)\n",
    "\n",
    "    # plot min speed\n",
    "    sns.histplot(all_min_speed, bins=100)\n",
    "    plt.axvline(0.1, color='red', linestyle='--')\n",
    "    plt.title('Minimum Speed')\n",
    "    plt.show()\n",
    "    # plot again, but limit the x axis\n",
    "    sns.histplot(all_min_speed, bins=100, binrange=(0, 10))\n",
    "    plt.axvline(0.1, color='red', linestyle='--')\n",
    "    plt.title('Minimum Speed, limited x axis')\n",
    "    plt.show()\n",
    "\n",
    "    # plot min abs dw\n",
    "    sns.histplot(all_min_abs_dw, bins=100)\n",
    "    plt.axvline(0.0035, color='red', linestyle='--')\n",
    "    plt.title('Min Abs Dw')\n",
    "    plt.show()\n",
    "    # plot again, but limit the x axis\n",
    "    sns.histplot(all_min_abs_dw, bins=100, binrange=(0, 0.2))\n",
    "    plt.axvline(0.0035, color='red', linestyle='--')\n",
    "    plt.title('Min Abs Dw, limited x axis')\n",
    "    plt.show()\n"
   ]
  },
  {
   "cell_type": "code",
   "execution_count": null,
   "metadata": {},
   "outputs": [],
   "source": [
    "outlier_sub_df[['ff_x', 'ff_y']] = ff_real_position_sorted[outlier_sub_df['cur_ff_index'].values]\n",
    "monkey_information['abs_ang_speed'] = np.abs(monkey_information['ang_speed'])"
   ]
  },
  {
   "cell_type": "code",
   "execution_count": null,
   "metadata": {},
   "outputs": [],
   "source": [
    "# Plot the min speed and min abs dw\n",
    "all_min_speed = []\n",
    "all_min_abs_dw = []\n",
    "for index, row in outlier_sub_df.iterrows():\n",
    "    monkey_sub = get_monkey_speed_and_dw_in_target(row, monkey_information)\n",
    "    min_speed = monkey_sub['speed'].min()\n",
    "    min_dw = monkey_sub['abs_ang_speed'].min()\n",
    "    all_min_speed.append(min_speed)\n",
    "    all_min_abs_dw.append(min_dw)\n",
    "\n",
    "plot_min_speed_and_abs_dw(all_min_speed, all_min_abs_dw)\n"
   ]
  },
  {
   "cell_type": "code",
   "execution_count": null,
   "metadata": {},
   "outputs": [],
   "source": [
    "# but i guess we would also want to know min speed and the *corresponding* min dw, and vice versa\n",
    "all_min_speed = []\n",
    "corr_dw = []\n",
    "for index, row in outlier_sub_df.iterrows():\n",
    "    monkey_sub = get_monkey_speed_and_dw_in_target(row, monkey_information)\n",
    "    if len(monkey_sub) == 0:\n",
    "        print(f'No monkey data found for {index}')\n",
    "        continue\n",
    "    min_speed = monkey_sub['speed'].min()\n",
    "    all_min_speed.append(min_speed)\n",
    "    corr_dw.append(monkey_sub[monkey_sub['speed'] == min_speed]['abs_ang_speed'].values[0])\n",
    "plot_min_speed_and_abs_dw(all_min_speed, corr_dw)"
   ]
  },
  {
   "cell_type": "code",
   "execution_count": null,
   "metadata": {},
   "outputs": [],
   "source": [
    "# Lastly, we can also find the min abs dw and the corresponding speed\n",
    "all_min_abs_dw = []\n",
    "corr_speed = []\n",
    "for index, row in outlier_sub_df.iterrows():\n",
    "    monkey_sub = get_monkey_speed_and_dw_in_target(row, monkey_information)\n",
    "    if len(monkey_sub) == 0:\n",
    "        print(f'No monkey data found for {index}')\n",
    "        continue\n",
    "    min_dw = monkey_sub['abs_ang_speed'].min()\n",
    "    all_min_abs_dw.append(min_dw)\n",
    "    corr_speed.append(monkey_sub[monkey_sub['abs_ang_speed'] == min_dw]['speed'].values[0])\n",
    "all_min_abs_dw = np.array(all_min_abs_dw)\n",
    "corr_speed = np.array(corr_speed)\n",
    "plot_min_speed_and_abs_dw(corr_speed, all_min_abs_dw)"
   ]
  },
  {
   "cell_type": "markdown",
   "metadata": {},
   "source": [
    "# monkey angle calculation experiments"
   ]
  },
  {
   "cell_type": "markdown",
   "metadata": {},
   "source": [
    "## different add_monkey_angles_column functions"
   ]
  },
  {
   "cell_type": "markdown",
   "metadata": {},
   "source": [
    "### go with smaller one\n",
    "Meaning: If increasing the future window yields less or equal movement than increasing the past window, extend the future side; otherwise, extend the past side.\n",
    "\n",
    "This biases toward whichever side adds less movement, effectively trying to make the positional change grow more slowly."
   ]
  },
  {
   "cell_type": "code",
   "execution_count": null,
   "metadata": {},
   "outputs": [],
   "source": [
    "def calculate_delta_xy_and_current_delta_position(monkey_information, i, num_points_future, num_points_past):\n",
    "    delta_x = monkey_information['monkey_x'].iloc[i+num_points_future-1] - monkey_information['monkey_x'].iloc[i-num_points_past-1]\n",
    "    delta_y = monkey_information['monkey_y'].iloc[i+num_points_future-1] - monkey_information['monkey_y'].iloc[i-num_points_past-1]\n",
    "    current_delta_position = np.sqrt(np.square(delta_x)+np.square(delta_y))\n",
    "    return delta_x, delta_y, current_delta_position\n",
    "\n",
    "calculate_monkey_angles_small\n",
    "def calculate_monkey_angles_small(monkey_information, min_distance_to_calculate_angle=5):\n",
    "    # Add angle of the monkey\n",
    "    monkey_angles = [pi/2]  # The monkey is at 90 degree angle at the beginning\n",
    "    current_angle = pi/2 # This keeps track of the current angle during the iterations\n",
    "\n",
    "    delta_x = np.diff(monkey_information['monkey_x'])\n",
    "    delta_y = np.diff(monkey_information['monkey_y'])\n",
    "    delta_position = np.sqrt(np.square(delta_x) + np.square(delta_y))\n",
    "\n",
    "    # Find the time in the data that is closest (right before) the time where we wan to know the monkey's angular position.\n",
    "    total_points = len(monkey_information['time'])\n",
    "    num_points_past = 0\n",
    "    num_points_future = 1\n",
    "    delta_position_full_length = np.append(0, delta_position)\n",
    "    for i in range(1, total_points):\n",
    "        if i+(num_points_past+num_points_future) >= total_points:\n",
    "            monkey_angles.extend([current_angle] * (total_points-i))\n",
    "            break\n",
    "        # if i%10000 == 0:\n",
    "        #     print(i, \"out of,\", total_points, \"for calculating monkey_angles\")\n",
    "        current_delta_position = delta_position_full_length[i]\n",
    "        if current_delta_position > min_distance_to_calculate_angle:\n",
    "            num_points_past = 0\n",
    "            num_points_future = 1\n",
    "        else:\n",
    "            num_points_past = max(0, num_points_past-1)\n",
    "            num_points_future = max(1, num_points_future-1)\n",
    "            \n",
    "            delta_x, delta_y, current_delta_position = calculate_delta_xy_and_current_delta_position(monkey_information, i, num_points_future, num_points_past)\n",
    "            while (current_delta_position <= min_distance_to_calculate_angle) and (i+num_points_past+num_points_future < total_points):\n",
    "                # try to see if adding 1 to num_points_future produce smaller increase in delta_position or adding 1 to num_points_past\n",
    "                # the reason we want to go with the smaller increase is because we want to jump out of a monkey stop where there is a lot of noise\n",
    "                delta_x, delta_y, current_delta_position_future = calculate_delta_xy_and_current_delta_position(monkey_information, i, num_points_future+1, num_points_past)\n",
    "                delta_x, delta_y, current_delta_position_past = calculate_delta_xy_and_current_delta_position(monkey_information, i, num_points_future, num_points_past+1)\n",
    "                if current_delta_position_future <= current_delta_position_past:\n",
    "                    num_points_future += 1\n",
    "                else:\n",
    "                    num_points_past += 1\n",
    "                delta_x, delta_y, current_delta_position = calculate_delta_xy_and_current_delta_position(monkey_information, i, num_points_future, num_points_past)\n",
    "        if current_delta_position < 50:\n",
    "            delta_x, delta_y, current_delta_position = calculate_delta_xy_and_current_delta_position(monkey_information, i, num_points_future, num_points_past)\n",
    "            # calculate the angle defined by two points\n",
    "            current_angle = math.atan2(delta_y, delta_x)\n",
    "        else:\n",
    "            current_angle = current_angle\n",
    "        print('time', monkey_information['time'].iloc[i], 'num_points', num_points_past+num_points_future, 'angle', current_angle, 'current_delta_position', current_delta_position, 'dy', delta_y, 'dx', delta_x)\n",
    "        # Otherwise, most likely the monkey has crossed the boundary and come out at another place; we shall keep the current angle, and not update it\n",
    "        monkey_angles.append(current_angle)\n",
    "    monkey_information['monkey_angle'] = np.array(monkey_angles)\n",
    "    return monkey_information\n",
    "\n",
    "test_calculate_monkey_angles_function(time, monkey_information)"
   ]
  },
  {
   "cell_type": "markdown",
   "metadata": {},
   "source": [
    "### go with bigger one\n",
    "Meaning: If increasing the future window yields greater or equal movement than increasing the past window, extend the future side; otherwise, extend the past side.\n",
    "\n",
    "This biases toward jumping forward in time when both give similar movement."
   ]
  },
  {
   "cell_type": "code",
   "execution_count": null,
   "metadata": {},
   "outputs": [],
   "source": [
    "def calculate_delta_xy_and_current_delta_position(monkey_information, i, num_points_future, num_points_past):\n",
    "    delta_x = monkey_information['monkey_x'].iloc[i+num_points_future-1] - monkey_information['monkey_x'].iloc[i-num_points_past-1]\n",
    "    delta_y = monkey_information['monkey_y'].iloc[i+num_points_future-1] - monkey_information['monkey_y'].iloc[i-num_points_past-1]\n",
    "    current_delta_position = np.sqrt(np.square(delta_x)+np.square(delta_y))\n",
    "    return delta_x, delta_y, current_delta_position\n",
    "\n",
    "\n",
    "def calculate_monkey_angles_big(monkey_information, min_distance_to_calculate_angle=5):\n",
    "    # Add angle of the monkey\n",
    "    monkey_angles = [pi/2]  # The monkey is at 90 degree angle at the beginning\n",
    "    current_angle = pi/2 # This keeps track of the current angle during the iterations\n",
    "\n",
    "    delta_x = np.diff(monkey_information['monkey_x'])\n",
    "    delta_y = np.diff(monkey_information['monkey_y'])\n",
    "    delta_position = np.sqrt(np.square(delta_x) + np.square(delta_y))\n",
    "\n",
    "    # Find the time in the data that is closest (right before) the time where we wan to know the monkey's angular position.\n",
    "    total_points = len(monkey_information['time'])\n",
    "    num_points_past = 0\n",
    "    num_points_future = 1\n",
    "    delta_position_full_length = np.append(0, delta_position)\n",
    "    for i in range(1, total_points):\n",
    "        if i+(num_points_past+num_points_future) >= total_points:\n",
    "            monkey_angles.extend([current_angle] * (total_points-i))\n",
    "            break\n",
    "        # if i%10000 == 0:\n",
    "        #     print(i, \"out of,\", total_points, \"for calculating monkey_angles\")\n",
    "        current_delta_position = delta_position_full_length[i]\n",
    "        if current_delta_position > min_distance_to_calculate_angle:\n",
    "            num_points_past = 0\n",
    "            num_points_future = 1\n",
    "        else:\n",
    "            num_points_past = max(0, num_points_past-1)\n",
    "            num_points_future = max(1, num_points_future-1)\n",
    "            \n",
    "            delta_x, delta_y, current_delta_position = calculate_delta_xy_and_current_delta_position(monkey_information, i, num_points_future, num_points_past)\n",
    "            while (current_delta_position <= min_distance_to_calculate_angle) and (i+num_points_past+num_points_future < total_points):\n",
    "                # try to see if adding 1 to num_points_future produce smaller increase in delta_position or adding 1 to num_points_past\n",
    "                # the reason we want to go with the smaller increase is because we want to jump out of a monkey stop where there is a lot of noise\n",
    "                delta_x, delta_y, current_delta_position_future = calculate_delta_xy_and_current_delta_position(monkey_information, i, num_points_future+1, num_points_past)\n",
    "                delta_x, delta_y, current_delta_position_past = calculate_delta_xy_and_current_delta_position(monkey_information, i, num_points_future, num_points_past+1)\n",
    "                if current_delta_position_future >= current_delta_position_past:\n",
    "                    num_points_future += 1\n",
    "                else:\n",
    "                    num_points_past += 1\n",
    "                delta_x, delta_y, current_delta_position = calculate_delta_xy_and_current_delta_position(monkey_information, i, num_points_future, num_points_past)\n",
    "        if current_delta_position < 50:\n",
    "            delta_x, delta_y, current_delta_position = calculate_delta_xy_and_current_delta_position(monkey_information, i, num_points_future, num_points_past)\n",
    "            # calculate the angle defined by two points\n",
    "            current_angle = math.atan2(delta_y, delta_x)\n",
    "        else:\n",
    "            current_angle = current_angle\n",
    "        print('time', monkey_information['time'].iloc[i], 'num_points', num_points_past+num_points_future, 'angle', current_angle, 'current_delta_position', current_delta_position, 'dy', delta_y, 'dx', delta_x)\n",
    "        # Otherwise, most likely the monkey has crossed the boundary and come out at another place; we shall keep the current angle, and not update it\n",
    "        monkey_angles.append(current_angle)\n",
    "    monkey_information['monkey_angle'] = np.array(monkey_angles)\n",
    "    return monkey_information\n",
    "\n",
    "test_calculate_monkey_angles_function(time, monkey_information)"
   ]
  },
  {
   "cell_type": "markdown",
   "metadata": {},
   "source": [
    "### equal (currently used)\n",
    "\n",
    "It’s no longer deciding between “past” vs “future” dynamically inside the while loop, but instead it’s forcing them to be roughly equal by splitting num_points between the past and future."
   ]
  },
  {
   "cell_type": "markdown",
   "metadata": {},
   "source": [
    "Benefits: \n",
    "\n",
    "**Smoother angles: Because the distance window grows equally in both directions, the calculated angle changes more gradually.\n",
    "\n",
    "**Lag in response to motion changes: If the monkey starts moving abruptly, the window expansion might dilute this change compared to big, which can jump forward more aggressively.\n",
    "\n",
    "**More stability in noisy “stops”: Balanced windowing reduces bias from drift/noise when stationary.\n",
    "\n",
    "**No “side preference”: The big/small methods have a direction bias based on recent motion; equal removes that."
   ]
  },
  {
   "cell_type": "code",
   "execution_count": null,
   "metadata": {},
   "outputs": [],
   "source": [
    "def calculate_delta_xy_and_current_delta_position(monkey_information, i, num_points_future, num_points_past):\n",
    "    delta_x = monkey_information['monkey_x'].iloc[i+num_points_future-1] - monkey_information['monkey_x'].iloc[i-num_points_past-1]\n",
    "    delta_y = monkey_information['monkey_y'].iloc[i+num_points_future-1] - monkey_information['monkey_y'].iloc[i-num_points_past-1]\n",
    "    current_delta_position = np.sqrt(np.square(delta_x)+np.square(delta_y))\n",
    "    return delta_x, delta_y, current_delta_position\n",
    "\n",
    "\n",
    "def calculate_monkey_angles_equal(monkey_information, min_distance_to_calculate_angle=5):\n",
    "    # Add angle of the monkey\n",
    "    monkey_angles = [pi/2]  # The monkey is at 90 degree angle at the beginning\n",
    "    current_angle = pi/2 # This keeps track of the current angle during the iterations\n",
    "\n",
    "    delta_x = np.diff(monkey_information['monkey_x'])\n",
    "    delta_y = np.diff(monkey_information['monkey_y'])\n",
    "    delta_position = np.sqrt(np.square(delta_x) + np.square(delta_y))\n",
    "\n",
    "    # Find the time in the data that is closest (right before) the time where we wan to know the monkey's angular position.\n",
    "    total_points = len(monkey_information['time'])\n",
    "    num_points = 1\n",
    "    delta_position_full_length = np.append(0, delta_position)\n",
    "    for i in range(1, total_points):\n",
    "        if i+num_points >= total_points:\n",
    "            monkey_angles.extend([current_angle] * (total_points-i))\n",
    "            break\n",
    "        # if i%10000 == 0:\n",
    "        #     print(i, \"out of,\", total_points, \"for calculating monkey_angles\")\n",
    "        current_delta_position = delta_position_full_length[i]\n",
    "        if current_delta_position > min_distance_to_calculate_angle:\n",
    "            num_points = 1\n",
    "        else:\n",
    "            if num_points >= 3:\n",
    "                num_points -= 2 # compared to i-1, i might need at least num_points-1 points into the future to accumulate enough distance; since there's num_points+=1 in while loop, here we shall minus 2\n",
    "            else: \n",
    "                num_points = 1\n",
    "            while (current_delta_position <= min_distance_to_calculate_angle) and (i+num_points < total_points):\n",
    "                # num_points should be 2 or above to be meaningful\n",
    "                num_points += 1 \n",
    "                # now distribute the num_points to the past and future\n",
    "                num_points_past = int(np.floor(num_points/2))\n",
    "                num_points_future = num_points - num_points_past\n",
    "                delta_x, delta_y, current_delta_position = calculate_delta_xy_and_current_delta_position(monkey_information, i, num_points_future, num_points_past)\n",
    "        if current_delta_position < 50:\n",
    "            # calculate the angle defined by two points\n",
    "            delta_x, delta_y, current_delta_position = calculate_delta_xy_and_current_delta_position(monkey_information, i, num_points_future, num_points_past)\n",
    "            # calculate the angle defined by two points\n",
    "            current_angle = math.atan2(delta_y, delta_x)\n",
    "        # Otherwise, most likely the monkey has crossed the boundary and come out at another place; we shall keep the current angle, and not update it\n",
    "        monkey_angles.append(current_angle)\n",
    "    monkey_information['monkey_angle'] = np.array(monkey_angles)\n",
    "    return monkey_information\n",
    "\n",
    "test_calculate_monkey_angles_function(time, monkey_information)"
   ]
  },
  {
   "cell_type": "markdown",
   "metadata": {},
   "source": [
    "### original"
   ]
  },
  {
   "cell_type": "code",
   "execution_count": null,
   "metadata": {},
   "outputs": [],
   "source": [
    "def calculate_monkey_angles_original(monkey_information, min_distance_to_calculate_angle=5):\n",
    "    # Add angle of the monkey\n",
    "    monkey_angles = [pi/2]  # The monkey is at 90 degree angle at the beginning\n",
    "    current_angle = pi/2 # This keeps track of the current angle during the iterations\n",
    "\n",
    "    delta_x = np.diff(monkey_information['monkey_x'])\n",
    "    delta_y = np.diff(monkey_information['monkey_y'])\n",
    "    delta_position = np.sqrt(np.square(delta_x) + np.square(delta_y))\n",
    "\n",
    "    # Find the time in the data that is closest (right before) the time where we wan to know the monkey's angular position.\n",
    "    total_points = len(monkey_information['time'])\n",
    "    num_points = 1\n",
    "    delta_position_full_length = np.append(0, delta_position)\n",
    "    for i in range(1, total_points):\n",
    "        if i+num_points >= total_points:\n",
    "            monkey_angles.extend([current_angle] * (total_points-i))\n",
    "            break\n",
    "        # if i%10000 == 0:\n",
    "        #     print(i, \"out of,\", total_points, \"for calculating monkey_angles\")\n",
    "        current_delta_position = delta_position_full_length[i]\n",
    "        if current_delta_position > min_distance_to_calculate_angle:\n",
    "            num_points = 1\n",
    "        else:\n",
    "            if num_points >= 3:\n",
    "                num_points -= 2 # compared to i-1, i might need at least num_points-1 points into the future to accumulate enough distance; since there's num_points+=1 in while loop, here we shall minus 2\n",
    "            else:\n",
    "                num_points = 1\n",
    "            while (current_delta_position <= min_distance_to_calculate_angle) and (i+num_points < total_points):\n",
    "                # num_points should be 2 or above to be meaningful\n",
    "                num_points += 1 \n",
    "                delta_x = monkey_information['monkey_x'].iloc[i+num_points-1] - monkey_information['monkey_x'].iloc[i-1]\n",
    "                delta_y = monkey_information['monkey_y'].iloc[i+num_points-1] - monkey_information['monkey_y'].iloc[i-1]\n",
    "                current_delta_position = np.sqrt(np.square(delta_x)+np.square(delta_y))\n",
    "        if current_delta_position < 50:\n",
    "            # calculate the angle defined by two points\n",
    "            current_angle = math.atan2(monkey_information['monkey_y'].iloc[i+num_points-1]-monkey_information['monkey_y'].iloc[i-1], \n",
    "                                    monkey_information['monkey_x'].iloc[i+num_points-1]-monkey_information['monkey_x'].iloc[i-1])\n",
    "        # Otherwise, most likely the monkey has crossed the boundary and come out at another place; we shall keep the current angle, and not update it\n",
    "        monkey_angles.append(current_angle)\n",
    "    monkey_information['monkey_angle'] = np.array(monkey_angles)\n",
    "    return monkey_information\n",
    "\n",
    "\n",
    "\n",
    "test_calculate_monkey_angles_function(time, monkey_information)"
   ]
  },
  {
   "cell_type": "markdown",
   "metadata": {},
   "source": [
    "## compare different functions"
   ]
  },
  {
   "cell_type": "code",
   "execution_count": null,
   "metadata": {},
   "outputs": [],
   "source": [
    "class HiddenPrints:\n",
    "    def __enter__(self):\n",
    "        self._original_stdout = sys.stdout\n",
    "        sys.stdout = open(os.devnull, 'w')\n",
    "\n",
    "    def __exit__(self, exc_type, exc_val, exc_tb):\n",
    "        sys.stdout.close()\n",
    "        sys.stdout = self._original_stdout\n",
    "        \n",
    "\n",
    "def simultaneous_test_calculate_monkey_angles_function(time, monkey_information, min_distance_to_calculate_angle=5):\n",
    "    with HiddenPrints():\n",
    "        half_duration = 3\n",
    "        monkey_information_new = monkey_information[monkey_information['time'].between(time-half_duration, time+half_duration)].copy()\n",
    "        monkey_information_big = calculate_monkey_angles_big(monkey_information_new, min_distance_to_calculate_angle=min_distance_to_calculate_angle)\n",
    "\n",
    "        monkey_information_new = monkey_information[monkey_information['time'].between(time-half_duration, time+half_duration)].copy()\n",
    "        monkey_information_small = calculate_monkey_angles_small(monkey_information_new, min_distance_to_calculate_angle=min_distance_to_calculate_angle)\n",
    "\n",
    "        monkey_information_new = monkey_information[monkey_information['time'].between(time-half_duration, time+half_duration)].copy()\n",
    "        monkey_information_equal = calculate_monkey_angles_equal(monkey_information_new, min_distance_to_calculate_angle=min_distance_to_calculate_angle)\n",
    "\n",
    "        monkey_information_new = monkey_information[monkey_information['time'].between(time-half_duration, time+half_duration)].copy()\n",
    "        monkey_information_original = calculate_monkey_angles_original(monkey_information_new, min_distance_to_calculate_angle=min_distance_to_calculate_angle)\n",
    "    plt.figure(figsize=(10, 7))\n",
    "    margin = 10\n",
    "    plt.scatter(monkey_information_big.time[margin:-margin], monkey_information_big.monkey_angles[margin:-margin]*180/math.pi, s=20, marker='o', alpha=0.5, c='red')\n",
    "    plt.scatter(monkey_information_small.time[margin:-margin], monkey_information_small.monkey_angles[margin:-margin]*180/math.pi, s=20, marker='*', alpha=0.5, c='orange')\n",
    "    plt.scatter(monkey_information_equal.time[margin:-margin], monkey_information_equal.monkey_angles[margin:-margin]*180/math.pi, s=20, marker='^', alpha=0.5, c='blue')\n",
    "    plt.scatter(monkey_information_original.time[margin:-margin], monkey_information_original.monkey_angles[margin:-margin]*180/math.pi, s=20, marker='s', alpha=0.5, c='green')\n",
    "    plt.title(\"Angles\")\n",
    "    plt.show()\n",
    "    \n",
    "\n",
    "\n",
    "    plt.figure(figsize=(10, 7))\n",
    "    plt.scatter(monkey_information_new.monkey_x[margin:-margin], monkey_information_new.monkey_y[margin:-margin], c = range(len(monkey_information_new.monkey_x[10:-10])), cmap = 'Reds', s=1)\n",
    "    # let x and y axis have the same scale\n",
    "    plt.gca().set_aspect('equal', adjustable='box')\n",
    "    plt.title(\"monkey_x\")\n",
    "    plt.show() \n",
    "    \n",
    "\n",
    "\n",
    "    # plt.figure(figsize=(10, 7))\n",
    "    # plt.scatter(monkey_information_new.time[10:-10], monkey_information_new.monkey_x[10:-10], s=1)\n",
    "    # plt.title(\"monkey_x\")\n",
    "    # plt.show() \n",
    "    # \n",
    "\n",
    "    # plt.figure(figsize=(10, 7))\n",
    "    # plt.scatter(monkey_information_new.time[10:-10], monkey_information_new.monkey_y[10:-10], s=1)\n",
    "    # plt.title(\"monkey_y\")\n",
    "    # plt.show()\n",
    "    # "
   ]
  },
  {
   "cell_type": "code",
   "execution_count": null,
   "metadata": {},
   "outputs": [],
   "source": [
    "current_i = 0"
   ]
  },
  {
   "cell_type": "code",
   "execution_count": null,
   "metadata": {},
   "outputs": [],
   "source": [
    "stop_time = monkey_information[monkey_information['monkey_speeddummy']==0].time.values\n",
    "for time in stop_time[range(1000, len(monkey_information), 100)[current_i: current_i + 20]]:\n",
    "    simultaneous_test_calculate_monkey_angles_function(time, monkey_information, min_distance_to_calculate_angle=5)\n",
    "current_i += 20"
   ]
  }
 ],
 "metadata": {
  "language_info": {
   "name": "python"
  }
 },
 "nbformat": 4,
 "nbformat_minor": 2
}
