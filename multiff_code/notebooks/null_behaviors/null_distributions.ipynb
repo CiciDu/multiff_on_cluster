{
 "cells": [
  {
   "cell_type": "markdown",
   "metadata": {
    "id": "Ba0IdmwjQ4rv"
   },
   "source": [
    "# Install packages"
   ]
  },
  {
   "cell_type": "markdown",
   "metadata": {
    "id": "D7ubA2G0ql0K"
   },
   "source": [
    "# Import packages"
   ]
  },
  {
   "cell_type": "code",
   "execution_count": null,
   "metadata": {
    "colab": {
     "base_uri": "https://localhost:8080/"
    },
    "executionInfo": {
     "elapsed": 5453,
     "status": "ok",
     "timestamp": 1682801299143,
     "user": {
      "displayName": "Cici Du",
      "userId": "17701548280142155870"
     },
     "user_tz": 300
    },
    "id": "3klBkPC-Q4rw",
    "outputId": "8852847c-257a-4f52-c3a2-86f23fe69624",
    "scrolled": true
   },
   "outputs": [
    {
     "name": "stdout",
     "output_type": "stream",
     "text": [
      "The autoreload extension is already loaded. To reload it, use:\n",
      "  %reload_ext autoreload\n",
      "done\n"
     ]
    },
    {
     "name": "stderr",
     "output_type": "stream",
     "text": [
      "/opt/miniconda3/envs/multiff_clean/lib/python3.11/site-packages/requests/__init__.py:86: RequestsDependencyWarning: Unable to find acceptable character detection dependency (chardet or charset_normalizer).\n",
      "  warnings.warn(\n"
     ]
    }
   ],
   "source": [
    "%load_ext autoreload\n",
    "%autoreload 2\n",
    "\n",
    "from pathlib import Path\n",
    "import os, sys\n",
    "for p in [Path.cwd()] + list(Path.cwd().parents):\n",
    "    if p.name == 'Multifirefly-Project':\n",
    "        os.chdir(p)\n",
    "        sys.path.insert(0, str(p / 'multiff_analysis/multiff_code/methods'))\n",
    "        break\n",
    "\n",
    "    \n",
    "import sys\n",
    "from data_wrangling import specific_utils\n",
    "from null_behaviors import sample_null_distributions\n",
    "from null_behaviors import show_null_trajectory\n",
    "from data_wrangling import further_processing_class\n",
    "\n",
    "\n",
    "import os, sys\n",
    "import warnings\n",
    "import numpy as np\n",
    "import matplotlib\n",
    "import matplotlib.pyplot as plt\n",
    "import pandas as pd\n",
    "from math import pi\n",
    "from matplotlib import rc\n",
    "from numpy import random\n",
    "from importlib import reload\n",
    "import seaborn as sns\n",
    "\n",
    "plt.rcParams[\"animation.html\"] = \"html5\"\n",
    "os.environ['KMP_DUPLICATE_LIB_OK']='True'\n",
    "rc('animation', html='jshtml')\n",
    "matplotlib.rcParams.update(matplotlib.rcParamsDefault)\n",
    "matplotlib.rcParams['animation.embed_limit'] = 2**128\n",
    "pd.set_option('display.float_format', lambda x: '%.5f' % x)\n",
    "np.set_printoptions(suppress=True)\n",
    "print(\"done\")"
   ]
  },
  {
   "cell_type": "markdown",
   "metadata": {},
   "source": [
    "## Retrieve monkey data\n",
    "\n",
    "Note: it's better to use data aggregated across trials. See PatternsAndFeatures class. For now, we'll just use one session's data"
   ]
  },
  {
   "cell_type": "code",
   "execution_count": 30,
   "metadata": {},
   "outputs": [
    {
     "name": "stdout",
     "output_type": "stream",
     "text": [
      "Retrieved monkey_information\n",
      "The number of points that were removed due to delta_position exceeding the ceiling is 0\n",
      "Warning: ff_closest_stop_time_sorted has 84 points where monkey is outside of 1338 points that are outside of the reward boundary, which is 6.28% of the points. They are replaced with the original ff_caught_T in ff_caught_T_new.\n",
      "Warning: ff_caught_T_new is not monotonically increasing. Will make it monotonically increasing.\n",
      "Note: ff_caught_T_sorted is replaced with ff_caught_T_new\n",
      "Retrieved ff_dataframe from all_monkey_data/processed_data/monkey_Bruno/data_0330/ff_dataframe.h5\n",
      "When take out monkey subset for GUAT, 643 clusters out of 856 are too close to the target or the last target. Those clusters are filtered out.\n",
      "Warning: there can be multiple stop_point_index for the same ff_index. This can happen when there are multiple failed attempts to catch another ff before catching the current target.\n",
      "The number of new trials that are used to separate stop clusters is 1338\n",
      "Retrieved all_trial_patterns\n",
      "Retrieved pattern_frequencies\n",
      "Retrieved all_trial_features\n",
      "Retrieved feature_statistics\n"
     ]
    }
   ],
   "source": [
    "PLAYER = \"monkey\"\n",
    "raw_data_folder_path = \"all_monkey_data/raw_monkey_data/monkey_Bruno/data_0330\"\n",
    "data_item = further_processing_class.FurtherProcessing(raw_data_folder_path=raw_data_folder_path)\n",
    "data_item.retrieve_or_make_monkey_data()\n",
    "data_item.make_or_retrieve_ff_dataframe(exists_ok=True)\n",
    "data_item.find_patterns()\n",
    "\n",
    "data_item.make_or_retrieve_all_trial_patterns(exists_ok=True)\n",
    "data_item.make_or_retrieve_pattern_frequencies(exists_ok=True)\n",
    "data_item.make_or_retrieve_all_trial_features(exists_ok=True)\n",
    "data_item.make_or_retrieve_feature_statistics(exists_ok=True)\n",
    "\n",
    "\n",
    "all_trial_patterns = data_item.all_trial_patterns\n",
    "all_trial_features = data_item.all_trial_features\n",
    "pattern_frequencies = data_item.pattern_frequencies\n",
    "feature_statistics = data_item.feature_statistics\n"
   ]
  },
  {
   "cell_type": "markdown",
   "metadata": {
    "id": "UUqta-TWCz1k"
   },
   "source": [
    "# Null Scenario: Sampling Distributions of Features"
   ]
  },
  {
   "cell_type": "markdown",
   "metadata": {
    "id": "phVXuNZi--vH"
   },
   "source": [
    "We can compare the null distribution to the monkey's distribution"
   ]
  },
  {
   "cell_type": "markdown",
   "metadata": {
    "id": "S3F0KNcfZZhc"
   },
   "source": [
    "**Median time**: we can find that an ideal observer can get to fireflies at this speed. Then we can find the median time of the ideal observer, and express the median time of the monkey as a fraction of the median time of the ideal observer"
   ]
  },
  {
   "cell_type": "markdown",
   "metadata": {
    "id": "PTKcLyY7EreW"
   },
   "source": [
    "**Assumptions**: assume fireflies are fully visible (or the ideal observer has perfect memory): calculate the median time of going from one firefly to the nearest firefly (or firefly that takes least amount of time). Also assume quadratic action cost; so constant velocity\n",
    "\n"
   ]
  },
  {
   "cell_type": "markdown",
   "metadata": {
    "id": "mMcVgMnX3Imf"
   },
   "source": [
    "### run function"
   ]
  },
  {
   "cell_type": "code",
   "execution_count": 22,
   "metadata": {},
   "outputs": [
    {
     "data": {
      "text/plain": [
       "<module 'null_behaviors.sample_null_distributions' from '/Users/dusiyi/Documents/Multifirefly-Project/multiff_analysis/multiff_code/methods/null_behaviors/sample_null_distributions.py'>"
      ]
     },
     "execution_count": 22,
     "metadata": {},
     "output_type": "execute_result"
    }
   ],
   "source": [
    "reload(sample_null_distributions)"
   ]
  },
  {
   "cell_type": "code",
   "execution_count": 27,
   "metadata": {
    "colab": {
     "base_uri": "https://localhost:8080/"
    },
    "executionInfo": {
     "elapsed": 183137,
     "status": "ok",
     "timestamp": 1681763905106,
     "user": {
      "displayName": "Cici Du",
      "userId": "17701548280142155870"
     },
     "user_tz": 300
    },
    "id": "hBGh_qJctJq7",
    "outputId": "0a885ab7-6c1b-4b3e-8ce8-5b65967a7f77"
   },
   "outputs": [
    {
     "name": "stdout",
     "output_type": "stream",
     "text": [
      "0 out of 1000\n",
      "100 out of 1000\n",
      "200 out of 1000\n",
      "300 out of 1000\n",
      "400 out of 1000\n",
      "500 out of 1000\n",
      "600 out of 1000\n",
      "700 out of 1000\n",
      "800 out of 1000\n",
      "900 out of 1000\n"
     ]
    }
   ],
   "source": [
    "all_median_time, all_median_distance, all_median_abs_angle, all_median_abs_angle_boundary, \\\n",
    "all_mean_time, all_mean_distance, all_mean_abs_angle, all_mean_abs_angle_boundary, all_total_time = sample_null_distributions.sample_null_distributions_func()\n"
   ]
  },
  {
   "cell_type": "code",
   "execution_count": null,
   "metadata": {},
   "outputs": [],
   "source": [
    "print(np.array(feature_statistics['label for median']))"
   ]
  },
  {
   "cell_type": "code",
   "execution_count": 25,
   "metadata": {
    "colab": {
     "base_uri": "https://localhost:8080/"
    },
    "executionInfo": {
     "elapsed": 106,
     "status": "ok",
     "timestamp": 1681764163685,
     "user": {
      "displayName": "Cici Du",
      "userId": "17701548280142155870"
     },
     "user_tz": 300
    },
    "id": "dXZAltAD7gXU",
    "outputId": "69ed7c81-bafc-484b-d2a0-9aa501de1524"
   },
   "outputs": [],
   "source": [
    "all_null_distr = {'all_median_time': all_median_time,\n",
    "                 'all_median_distance': all_median_distance,\n",
    "                 'all_median_abs_angle': all_median_abs_angle, \n",
    "                 'all_median_abs_angle_boundary': all_median_abs_angle_boundary,\n",
    "                 'all_mean_time': all_mean_time,\n",
    "                 'all_mean_distance': all_mean_distance,\n",
    "                 'all_mean_abs_angle':all_mean_abs_angle,\n",
    "                 'all_mean_abs_angle_boundary': all_mean_abs_angle_boundary,\n",
    "                 'all_total_time':all_total_time\n",
    "}"
   ]
  },
  {
   "cell_type": "markdown",
   "metadata": {
    "id": "po0VrPEt6xTl"
   },
   "source": [
    "Adding a line for monkey's statistic...so ugly...I can just print"
   ]
  },
  {
   "cell_type": "code",
   "execution_count": null,
   "metadata": {
    "colab": {
     "base_uri": "https://localhost:8080/"
    },
    "executionInfo": {
     "elapsed": 137,
     "status": "ok",
     "timestamp": 1681764117534,
     "user": {
      "displayName": "Cici Du",
      "userId": "17701548280142155870"
     },
     "user_tz": 300
    },
    "id": "ttoRFkMz8-GS",
    "outputId": "2c1a4b30-eb98-4fd9-d4f2-1c58dd8b0407"
   },
   "outputs": [
    {
     "name": "stderr",
     "output_type": "stream",
     "text": [
      "/usr/local/lib/python3.9/dist-packages/ipykernel/ipkernel.py:283: DeprecationWarning: `should_run_async` will not call `transform_cell` automatically in the future. Please pass the result to `transformed_cell` argument and any exception that happen during thetransform in `preprocessing_exc_tuple` in IPython 7.17 and above.\n",
      "  and should_run_async(code)\n"
     ]
    },
    {
     "data": {
      "text/plain": [
       "0                               t\n",
       "1                  t_last_vis\n",
       "2                  d_last_vis\n",
       "3          abs_angle_last_vis\n",
       "4              hitting_arena_edge\n",
       "5                       num_stops\n",
       "6    num_stops_since_last_vis\n",
       "7           num_stops_near_target\n",
       "8            num_ff_around_target\n",
       "9                   n_ff_in_a_row\n",
       "Name: Item, dtype: object"
      ]
     },
     "execution_count": 45,
     "metadata": {},
     "output_type": "execute_result"
    }
   ],
   "source": [
    "feature_statistics.Item"
   ]
  },
  {
   "cell_type": "markdown",
   "metadata": {
    "id": "-coxMNsl92Qj"
   },
   "source": [
    "### Plot"
   ]
  },
  {
   "cell_type": "code",
   "execution_count": null,
   "metadata": {
    "colab": {
     "base_uri": "https://localhost:8080/",
     "height": 475
    },
    "executionInfo": {
     "elapsed": 556,
     "status": "ok",
     "timestamp": 1681764591954,
     "user": {
      "displayName": "Cici Du",
      "userId": "17701548280142155870"
     },
     "user_tz": 300
    },
    "id": "AweyOxm394eu",
    "outputId": "9eb5f7b3-158e-491a-f161-0a4daef50016"
   },
   "outputs": [
    {
     "data": {
      "image/png": "[encoded data removed]",
      "text/plain": [
       "<Figure size 640x480 with 1 Axes>"
      ]
     },
     "metadata": {},
     "output_type": "display_data"
    },
    {
     "name": "stdout",
     "output_type": "stream",
     "text": [
      "Monkey: 0.284692684313335\n"
     ]
    }
   ],
   "source": [
    "import math\n",
    "null_distr = all_median_abs_angle\n",
    "item_name = 'abs_angle_last_vis'\n",
    "median = feature_statistics.loc[feature_statistics['item']==item_name, 'median'].item()\n",
    "sns.histplot(null_distr * 180/math.pi, stat='percent')\n",
    "\n",
    "plt.title('Distribution of Median Absolute Angle Last Seen from 1000 Samples (with 1000 trials each sample)')\n",
    "plt.show()\n",
    "print('Monkey:', median)"
   ]
  },
  {
   "cell_type": "code",
   "execution_count": 42,
   "metadata": {
    "colab": {
     "base_uri": "https://localhost:8080/",
     "height": 475
    },
    "executionInfo": {
     "elapsed": 631,
     "status": "ok",
     "timestamp": 1681764626343,
     "user": {
      "displayName": "Cici Du",
      "userId": "17701548280142155870"
     },
     "user_tz": 300
    },
    "id": "IbNUwQu69TU3",
    "outputId": "ec7fe743-ba9c-4f5c-ca22-ed673c6594aa"
   },
   "outputs": [
    {
     "data": {
      "image/png": "[encoded data removed]",
      "text/plain": [
       "<Figure size 640x480 with 1 Axes>"
      ]
     },
     "metadata": {},
     "output_type": "display_data"
    },
    {
     "name": "stdout",
     "output_type": "stream",
     "text": [
      "Monkey: 83.36280325639159\n"
     ]
    }
   ],
   "source": [
    "null_distr = all_median_distance\n",
    "item_name = 'd_last_vis'\n",
    "median = feature_statistics.loc[feature_statistics['item']==item_name, 'median'].item()\n",
    "sns.histplot(null_distr, stat='percent')\n",
    "plt.title('Distribution of Median Distance Last Seen from 1000 Samples (with 1000 trials each sample)')\n",
    "plt.show()\n",
    "\n",
    "print('Monkey:', median)"
   ]
  },
  {
   "cell_type": "code",
   "execution_count": 43,
   "metadata": {
    "colab": {
     "base_uri": "https://localhost:8080/",
     "height": 475
    },
    "executionInfo": {
     "elapsed": 527,
     "status": "ok",
     "timestamp": 1681763643791,
     "user": {
      "displayName": "Cici Du",
      "userId": "17701548280142155870"
     },
     "user_tz": 300
    },
    "id": "EDsziSfK5XSV",
    "outputId": "47b7d172-c024-47e1-eea6-7103fe60abc8"
   },
   "outputs": [
    {
     "data": {
      "image/png": "[encoded data removed]",
      "text/plain": [
       "<Figure size 640x480 with 1 Axes>"
      ]
     },
     "metadata": {},
     "output_type": "display_data"
    },
    {
     "name": "stdout",
     "output_type": "stream",
     "text": [
      "Monkey: 2.0085389999999848\n"
     ]
    }
   ],
   "source": [
    "median = feature_statistics.loc[feature_statistics['item']=='t', 'median'].item()\n",
    "sns.histplot(all_median_time, stat='percent')\n",
    "#plt.plot([median, median], [0, 1], linewidth=2)\n",
    "plt.title('Distribution of Median Time from 1000 Samples (with 1000 trials each sample)')\n",
    "plt.show()\n",
    "\n",
    "print('Monkey:', median)\n"
   ]
  },
  {
   "cell_type": "markdown",
   "metadata": {},
   "source": [
    "# Null Scenario: Population distribution of features"
   ]
  },
  {
   "cell_type": "markdown",
   "metadata": {
    "id": "IMfi11nV6EdI"
   },
   "source": [
    "## Median abs angle"
   ]
  },
  {
   "cell_type": "code",
   "execution_count": null,
   "metadata": {
    "colab": {
     "base_uri": "https://localhost:8080/",
     "height": 879
    },
    "executionInfo": {
     "elapsed": 1532,
     "status": "ok",
     "timestamp": 1681414882953,
     "user": {
      "displayName": "Cici Du",
      "userId": "17701548280142155870"
     },
     "user_tz": 300
    },
    "id": "E-7qFlWN6F-y",
    "outputId": "efb1ef41-be9b-4a6f-f56d-12b3e524e175"
   },
   "outputs": [
    {
     "data": {
      "image/png": "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",
      "text/plain": [
       "<Figure size 640x480 with 1 Axes>"
      ]
     },
     "metadata": {},
     "output_type": "display_data"
    },
    {
     "data": {
      "image/png": "[encoded data removed]",
      "text/plain": [
       "<Figure size 640x480 with 1 Axes>"
      ]
     },
     "metadata": {},
     "output_type": "display_data"
    },
    {
     "name": "stdout",
     "output_type": "stream",
     "text": [
      "median_abs_angle is 0.7790760902103953\n",
      "median_abs_angle_to_boundary is 0.7583480198427184\n"
     ]
    }
   ],
   "source": [
    "# Plot distribution of median abs angles of sampled ff that are in front of the monkey (have a positive y coordinate)\n",
    "num_alive_ff = 10000\n",
    "arena_radius = 1000\n",
    "fftheta = random.rand(num_alive_ff) * pi - pi/2\n",
    "ffr = np.sqrt(random.rand(num_alive_ff)) * arena_radius\n",
    "ffx = np.cos(fftheta) * ffr\n",
    "ffy = np.sin(fftheta) * ffr\n",
    "ffxy = np.stack((ffx, ffy), axis=1)\n",
    "distances_to_ff = np.linalg.norm(ffxy, axis = 1)\n",
    "angles_to_boundaries = specific_utils.calculate_angles_to_ff_boundaries(fftheta, distances_to_ff)\n",
    "\n",
    "sns.histplot(fftheta, stat='density')\n",
    "plt.title('Distribution of Absolute Angles')\n",
    "plt.show() \n",
    "sns.histplot(angles_to_boundaries, stat='density')\n",
    "plt.title('Distribution of Absolute Angles to Boundaries')\n",
    "plt.show() \n",
    "\n",
    "\n",
    "# Also print the median of the absolute angles and the medians of the absoluate angles to boundary\n",
    "median_abs_angle = np.median(np.abs(fftheta))\n",
    "median_abs_angle_to_boundary = np.median(np.abs(angles_to_boundaries))\n",
    "print(\"median_abs_angle is\", median_abs_angle)\n",
    "print(\"median_abs_angle_to_boundary is\", median_abs_angle_to_boundary)"
   ]
  },
  {
   "cell_type": "markdown",
   "metadata": {
    "id": "J0c5l04K8t1g"
   },
   "source": [
    "## Median distance"
   ]
  },
  {
   "cell_type": "code",
   "execution_count": 56,
   "metadata": {
    "colab": {
     "base_uri": "https://localhost:8080/",
     "height": 504
    },
    "executionInfo": {
     "elapsed": 1819,
     "status": "ok",
     "timestamp": 1681414989190,
     "user": {
      "displayName": "Cici Du",
      "userId": "17701548280142155870"
     },
     "user_tz": 300
    },
    "id": "c3VMazev7h9z",
    "outputId": "e27c06a3-c514-4b03-d63a-e9badc0b6de0"
   },
   "outputs": [
    {
     "data": {
      "image/png": "[encoded data removed]",
      "text/plain": [
       "<Figure size 640x480 with 1 Axes>"
      ]
     },
     "metadata": {},
     "output_type": "display_data"
    },
    {
     "data": {
      "text/plain": [
       "np.float64(706.3302389813366)"
      ]
     },
     "execution_count": 56,
     "metadata": {},
     "output_type": "execute_result"
    }
   ],
   "source": [
    "num_alive_ff = 10000\n",
    "arena_radius = 1000\n",
    "ffr = np.sqrt(random.rand(num_alive_ff)) * arena_radius\n",
    "sns.histplot(ffr)\n",
    "plt.show()\n",
    "np.median(ffr)"
   ]
  },
  {
   "cell_type": "markdown",
   "metadata": {},
   "source": [
    "# Null Scenario: Pattern Frequency"
   ]
  },
  {
   "cell_type": "markdown",
   "metadata": {
    "id": "D12ivmdRKhA8"
   },
   "source": [
    "(['two_in_a_row', 'visible_before_last_one', 'disappear_latest', 'waste_cluster_around_target',\n",
    "                                                                   'ignore_sudden_flash', 'give_up_after_trying', 'try_a_few_times', 'ff_capture_rate', 'stop_success_rate'])]"
   ]
  },
  {
   "cell_type": "markdown",
   "metadata": {
    "id": "a8Y5_sp7KibU"
   },
   "source": [
    "## two_in_a_row"
   ]
  },
  {
   "cell_type": "markdown",
   "metadata": {
    "id": "qEFRDwcdKl7z"
   },
   "source": [
    "Suppose the agent can pick up all fireflies in a row. Specifically, the agent will capture all the fireflies in a cluster and then move on to the next cluster, and so on (and a cluster can be just a single ff or multiple ff). \n",
    "\n",
    "So I guess this question comes to the percentage of clusters in the arena "
   ]
  },
  {
   "cell_type": "markdown",
   "metadata": {
    "id": "LB6-tS1_K3gh"
   },
   "source": [
    "I can use algorithm from cluster_analysis.make_point_vs_cluster \n",
    "\n",
    "Here we set the max distance to be 50 cm for 2 ff to be considered in the same cluster"
   ]
  },
  {
   "cell_type": "code",
   "execution_count": null,
   "metadata": {},
   "outputs": [
    {
     "data": {
      "image/png": "[encoded data removed]",
      "text/plain": [
       "<Figure size 640x480 with 1 Axes>"
      ]
     },
     "metadata": {},
     "output_type": "display_data"
    },
    {
     "name": "stdout",
     "output_type": "stream",
     "text": [
      "Median rate: 0.22\n"
     ]
    }
   ],
   "source": [
    "import numpy as np\n",
    "from numpy.random import default_rng\n",
    "from math import pi\n",
    "import matplotlib.pyplot as plt\n",
    "import seaborn as sns\n",
    "from sklearn.cluster import AgglomerativeClustering\n",
    "\n",
    "rng = default_rng(0)  # reproducible\n",
    "\n",
    "max_cluster_distance = 50.0\n",
    "num_samples = 100\n",
    "num_alive_ff = 200\n",
    "arena_radius = 1000.0\n",
    "\n",
    "scenario_rates = []\n",
    "\n",
    "for _ in range(num_samples):\n",
    "    # Sample 200 fireflies uniformly in a disk of radius=arena_radius\n",
    "    theta = rng.random(num_alive_ff) * 2 * pi\n",
    "    r = np.sqrt(rng.random(num_alive_ff)) * arena_radius\n",
    "    x = np.cos(theta) * r\n",
    "    y = np.sin(theta) * r\n",
    "    xy = np.column_stack((x, y))\n",
    "\n",
    "    # Single-linkage clustering with a hard distance threshold\n",
    "    model = AgglomerativeClustering(\n",
    "        n_clusters=None,\n",
    "        distance_threshold=max_cluster_distance,\n",
    "        linkage=\"single\",\n",
    "        metric=\"euclidean\",\n",
    "    ).fit(xy)\n",
    "\n",
    "    labels = model.labels_\n",
    "    counts = np.bincount(labels)\n",
    "\n",
    "     # for each cluster with n > 1 ff, we count n-1 ff to be categorized as 'two in a row'\n",
    "    multi_counts = counts[counts > 1]\n",
    "    two_in_a_row_rate = (multi_counts.sum() - len(multi_counts)) / num_alive_ff\n",
    "    scenario_rates.append(two_in_a_row_rate)\n",
    "\n",
    "scenario_rates = np.asarray(scenario_rates)\n",
    "\n",
    "sns.histplot(scenario_rates, bins=30, stat=\"density\")\n",
    "plt.xlabel(\"Two-in-a-row scenario rate\")\n",
    "plt.ylabel(\"Density\")\n",
    "plt.title(\"Distribution over simulations\")\n",
    "plt.show()\n",
    "\n",
    "print(\"Median rate:\", float(np.median(scenario_rates)))\n"
   ]
  }
 ],
 "metadata": {
  "colab": {
   "provenance": []
  },
  "kernelspec": {
   "display_name": "multiff_clean",
   "language": "python",
   "name": "python3"
  },
  "language_info": {
   "codemirror_mode": {
    "name": "ipython",
    "version": 3
   },
   "file_extension": ".py",
   "mimetype": "text/x-python",
   "name": "python",
   "nbconvert_exporter": "python",
   "pygments_lexer": "ipython3",
   "version": "3.11.11"
  }
 },
 "nbformat": 4,
 "nbformat_minor": 0
}
