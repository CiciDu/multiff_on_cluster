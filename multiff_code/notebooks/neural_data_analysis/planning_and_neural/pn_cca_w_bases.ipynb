{
 "cells": [
  {
   "cell_type": "markdown",
   "metadata": {},
   "source": [
    "# Import packages"
   ]
  },
  {
   "cell_type": "code",
   "execution_count": null,
   "metadata": {},
   "outputs": [
    {
     "name": "stdout",
     "output_type": "stream",
     "text": [
      "Set up logging configuration.\n",
      "done\n",
      "The autoreload extension is already loaded. To reload it, use:\n",
      "  %reload_ext autoreload\n"
     ]
    }
   ],
   "source": [
    "%load_ext autoreload\n",
    "%autoreload 2\n",
    "\n",
    "import os, sys, sys\n",
    "from pathlib import Path\n",
    "for p in [Path.cwd()] + list(Path.cwd().parents):\n",
    "    if p.name == 'Multifirefly-Project':\n",
    "        os.chdir(p)\n",
    "        sys.path.insert(0, str(p / 'multiff_analysis/multiff_code/methods'))\n",
    "        break\n",
    "\n",
    "from data_wrangling import specific_utils, process_monkey_information, general_utils\n",
    "from pattern_discovery import pattern_by_trials, pattern_by_trials, cluster_analysis, organize_patterns_and_features\n",
    "from visualization.matplotlib_tools import plot_behaviors_utils\n",
    "from neural_data_analysis.neural_analysis_tools.get_neural_data import neural_data_processing\n",
    "from neural_data_analysis.neural_analysis_tools.visualize_neural_data import plot_neural_data, plot_modeling_result\n",
    "from neural_data_analysis.neural_analysis_tools.model_neural_data import transform_vars, neural_data_modeling, drop_high_corr_vars, drop_high_vif_vars\n",
    "from neural_data_analysis.topic_based_neural_analysis.neural_vs_behavioral import prep_monkey_data, prep_target_data, neural_vs_behavioral_class\n",
    "from neural_data_analysis.topic_based_neural_analysis.planning_and_neural import planning_and_neural_class, pn_utils, pn_helper_class\n",
    "from neural_data_analysis.neural_analysis_tools.cca_methods import cca_class\n",
    "from neural_data_analysis.neural_analysis_tools.cca_methods import cca_class, cca_utils, cca_cv_utils\n",
    "from neural_data_analysis.neural_analysis_tools.cca_methods.cca_plotting import cca_plotting, cca_plot_lag_vs_no_lag, cca_plot_cv\n",
    "from machine_learning.ml_methods import regression_utils, ml_methods_utils, regz_regression_utils, ml_methods_class, classification_utils, ml_plotting_utils\n",
    "from neural_data_analysis.neural_analysis_tools.glm_tools import glm_class\n",
    "from neural_data_analysis.topic_based_neural_analysis.planning_and_neural import planning_and_neural_class, pn_utils, pn_helper_class, pn_aligned_by_seg, pn_aligned_by_event\n",
    "from neural_data_analysis.neural_analysis_tools.glm_tools.tpg import glm_bases, plot_glm_fit\n",
    "import sys\n",
    "import math\n",
    "import gc\n",
    "import subprocess\n",
    "from pathlib import Path\n",
    "from importlib import reload\n",
    "\n",
    "# Third-party imports\n",
    "import numpy as np\n",
    "import pandas as pd\n",
    "import matplotlib\n",
    "import matplotlib.pyplot as plt\n",
    "import seaborn as sns\n",
    "from matplotlib import rc\n",
    "from scipy import linalg, interpolate\n",
    "from scipy.signal import fftconvolve\n",
    "from scipy.io import loadmat\n",
    "from scipy import sparse\n",
    "from numpy import pi\n",
    "\n",
    "# Machine Learning imports\n",
    "from sklearn.metrics import mean_squared_error, r2_score\n",
    "from sklearn.linear_model import LinearRegression, Ridge\n",
    "from sklearn.preprocessing import StandardScaler\n",
    "from sklearn.model_selection import train_test_split, GridSearchCV\n",
    "from statsmodels.stats.outliers_influence import variance_inflation_factor\n",
    "from statsmodels.multivariate.cancorr import CanCorr\n",
    "\n",
    "# Neuroscience specific imports\n",
    "import neo\n",
    "import rcca\n",
    "\n",
    "plt.rcParams[\"animation.html\"] = \"html5\"\n",
    "os.environ['KMP_DUPLICATE_LIB_OK']='True'\n",
    "rc('animation', html='jshtml')\n",
    "matplotlib.rcParams.update(matplotlib.rcParamsDefault)\n",
    "matplotlib.rcParams['animation.embed_limit'] = 2**128\n",
    "pd.set_option('display.float_format', lambda x: '%.5f' % x)\n",
    "np.set_printoptions(suppress=True)\n",
    "print(\"done\")\n",
    "\n",
    "%load_ext autoreload\n",
    "%autoreload 2"
   ]
  },
  {
   "cell_type": "markdown",
   "metadata": {},
   "source": [
    "# Retrieve data"
   ]
  },
  {
   "cell_type": "markdown",
   "metadata": {},
   "source": [
    "## get data"
   ]
  },
  {
   "cell_type": "code",
   "execution_count": 2,
   "metadata": {},
   "outputs": [],
   "source": [
    "raw_data_folder_path = \"all_monkey_data/raw_monkey_data/monkey_Bruno/data_0330\""
   ]
  },
  {
   "cell_type": "code",
   "execution_count": 3,
   "metadata": {},
   "outputs": [],
   "source": [
    "raw_data_folder_path = \"all_monkey_data/raw_monkey_data/monkey_Schro/data_0416\""
   ]
  },
  {
   "cell_type": "code",
   "execution_count": 4,
   "metadata": {},
   "outputs": [
    {
     "data": {
      "text/plain": [
       "<module 'neural_data_analysis.topic_based_neural_analysis.planning_and_neural.pn_helper_class' from '/Users/dusiyi/Documents/Multifirefly-Project/multiff_analysis/multiff_code/methods/neural_data_analysis/topic_based_neural_analysis/planning_and_neural/pn_helper_class.py'>"
      ]
     },
     "execution_count": 4,
     "metadata": {},
     "output_type": "execute_result"
    }
   ],
   "source": [
    "reload(pn_helper_class)"
   ]
  },
  {
   "cell_type": "code",
   "execution_count": 5,
   "metadata": {},
   "outputs": [
    {
     "name": "stdout",
     "output_type": "stream",
     "text": [
      "Loaded binned_spikes_df from all_monkey_data/processed_neural_data/monkey_Schro/data_0416/binned_spikes_df_0p05.csv\n",
      "Loaded planning_data_by_point from all_monkey_data/planning_and_neural/monkey_Schro/data_0416/planning_data_by_point/opt_arc_stop_closest/test/cur_vis_0_1_window_-25cm_0cm\n",
      "Loaded planning_data_by_point from all_monkey_data/planning_and_neural/monkey_Schro/data_0416/planning_data_by_point/opt_arc_stop_closest/control/cur_vis_0_1_window_-25cm_0cm\n",
      "Loaded behav_data_by_bin from all_monkey_data/target_decoder/monkey_Schro/data_0416/behav_data_by_point.csv\n",
      "Retrieved monkey_information\n",
      "The number of points that were removed due to delta_position exceeding the ceiling is 0\n",
      "There are 5 duplicated point_index in bin_info. Note: one_point_index_per_bin is False\n",
      "0.19% of rows are dropped in planning_data_by_bin due to having missing values\n",
      "binned_spikes_df.shape: (208340, 87)\n",
      "self.x_var.shape: (5602, 88)\n",
      "self.y_var.shape: (5602, 37)\n",
      "===============================================\n",
      "===============================================\n",
      "Getting y_var_reduced...\n",
      "Loaded y_var_reduced from all_monkey_data/planning_and_neural/monkey_Schro/data_0416/pn_y_var_reduced.csv\n",
      "x_var.shape: (5602, 88)\n",
      "y_var.shape: (5602, 37)\n",
      "x_var_reduced.shape: (5602, 88)\n",
      "y_var_reduced.shape: (5602, 32)\n",
      "========================================\n",
      "x_var_lags.shape: (5602, 959)\n",
      "y_var_lags.shape: (5602, 398)\n",
      "Warning: ff_closest_stop_time_sorted has 1 points out of 470 points that are significantly larger than ff_caught_T_sorted, which is 0.21% of the points. Max value of closest_time - capture time is 0.4813680000000886. They are replaced with the original ff_caught_T in ff_caught_T_new.\n",
      "Warning: ff_closest_stop_time_sorted has 37 points where monkey is outside of 470 points that are outside of the reward boundary, which is 7.87% of the points. They are replaced with the original ff_caught_T in ff_caught_T_new.\n",
      "Note: ff_caught_T_sorted is replaced with ff_caught_T_new\n",
      "Dropped 35 columns due to containing NA in rebinned_y_var via calling drop_na_cols function: ['cur_opt_arc_curv', 'cur_cntr_arc_curv', 'nxt_cntr_arc_curv', 'nxt_opt_arc_curv', 'cur_opt_arc_end_heading', 'angle_opt_cur_end_to_nxt_ff', 'angle_from_stop_to_nxt_ff_x', 'diff_in_angle_to_nxt_ff', 'diff_in_abs_angle_to_nxt_ff', 'traj_curv_to_stop', 'curv_from_stop_to_nxt_ff', 'opt_curv_to_cur_ff', 'curv_from_cur_end_to_nxt_ff', 'd_curv_null_arc', 'd_curv_monkey', 'abs_d_curv_null_arc', 'abs_d_curv_monkey', 'diff_in_d_curv', 'diff_in_abs_d_curv', 'abs_angle_opt_cur_end_to_nxt_ff', 'abs_angle_from_stop_to_nxt_ff_x', 'abs_diff_in_angle_to_nxt_ff', 'abs_diff_in_abs_angle_to_nxt_ff', 'monkey_angle_target_last_seen', 'target_last_seen_angle_to_boundary', 'distance_from_monkey_pos_target_last_seen', 'target_last_seen_angle', 'time_since_target_last_seen', 'monkey_x_target_last_seen', 'time_target_last_seen', 'target_last_seen_distance', 'cum_distance_since_target_last_seen', 'd_heading_since_target_last_seen', 'monkey_y_target_last_seen', 'cum_distance_when_target_last_seen']\n",
      "Made rebinned_x_var, rebinned_y_var, rebinned_x_var_lags, and rebinned_y_var_lags.\n"
     ]
    }
   ],
   "source": [
    "reduce_y_var_lags = False\n",
    "planning_data_by_point_exists_ok = True\n",
    "y_data_exists_ok = True\n",
    "\n",
    "pn = pn_aligned_by_seg.PlanningAndNeuralSegmentAligned(raw_data_folder_path=raw_data_folder_path)\n",
    "pn.prep_data_to_analyze_planning(planning_data_by_point_exists_ok=planning_data_by_point_exists_ok)\n",
    "pn.planning_data_by_point, cols_to_drop = general_utils.drop_columns_with_many_nans(\n",
    "    pn.planning_data_by_point)\n",
    "pn.get_x_and_y_data_for_modeling(exists_ok=y_data_exists_ok, reduce_y_var_lags=reduce_y_var_lags)\n",
    "pn.rebin_data_in_new_segments(segment_duration=2, rebinned_max_x_lag_number=2)\n",
    "\n",
    "for col in ['cur_vis', 'nxt_vis', 'cur_in_memory', 'nxt_in_memory']:\n",
    "    pn.rebinned_y_var[col] = (pn.rebinned_y_var[col] > 0).astype(int)"
   ]
  },
  {
   "cell_type": "code",
   "execution_count": 6,
   "metadata": {},
   "outputs": [
    {
     "ename": "SyntaxError",
     "evalue": "invalid syntax (3319058519.py, line 1)",
     "output_type": "error",
     "traceback": [
      "  \u001b[36mCell\u001b[39m\u001b[36m \u001b[39m\u001b[32mIn[6]\u001b[39m\u001b[32m, line 1\u001b[39m\n\u001b[31m    \u001b[39m\u001b[31mstop!\u001b[39m\n        ^\n\u001b[31mSyntaxError\u001b[39m\u001b[31m:\u001b[39m invalid syntax\n"
     ]
    }
   ],
   "source": [
    "stop!"
   ]
  },
  {
   "cell_type": "markdown",
   "metadata": {},
   "source": [
    "# design_df"
   ]
  },
  {
   "cell_type": "code",
   "execution_count": null,
   "metadata": {},
   "outputs": [
    {
     "ename": "NameError",
     "evalue": "name 'data' is not defined",
     "output_type": "error",
     "traceback": [
      "\u001b[31m---------------------------------------------------------------------------\u001b[39m",
      "\u001b[31mNameError\u001b[39m                                 Traceback (most recent call last)",
      "\u001b[36mCell\u001b[39m\u001b[36m \u001b[39m\u001b[32mIn[8]\u001b[39m\u001b[32m, line 6\u001b[39m\n\u001b[32m      3\u001b[39m \u001b[38;5;66;03m# spike_data = pn.rebinned_x_var['cluster_0']\u001b[39;00m\n\u001b[32m      4\u001b[39m dt = pn.bin_width\n\u001b[32m----> \u001b[39m\u001b[32m6\u001b[39m design_df, y, meta = \u001b[43mdesign_bases\u001b[49m\u001b[43m.\u001b[49m\u001b[43mdesign_bases_for_behav_data\u001b[49m\u001b[43m(\u001b[49m\n\u001b[32m      7\u001b[39m \u001b[43m    \u001b[49m\u001b[43mdt\u001b[49m\u001b[43m=\u001b[49m\u001b[43mdt\u001b[49m\u001b[43m,\u001b[49m\u001b[43m \u001b[49m\u001b[43mtrial_ids\u001b[49m\u001b[43m=\u001b[49m\u001b[43mdata\u001b[49m\u001b[43m[\u001b[49m\u001b[33;43m\"\u001b[39;49m\u001b[33;43mnew_segment\u001b[39;49m\u001b[33;43m\"\u001b[39;49m\u001b[43m]\u001b[49m\u001b[43m,\u001b[49m\n\u001b[32m      8\u001b[39m \u001b[43m    \u001b[49m\u001b[43mcur_vis\u001b[49m\u001b[43m=\u001b[49m\u001b[43mdata\u001b[49m\u001b[43m[\u001b[49m\u001b[33;43m\"\u001b[39;49m\u001b[33;43mcur_in_memory\u001b[39;49m\u001b[33;43m\"\u001b[39;49m\u001b[43m]\u001b[49m\u001b[43m,\u001b[49m\u001b[43m \u001b[49m\u001b[43mnxt_vis\u001b[49m\u001b[43m=\u001b[49m\u001b[43mdata\u001b[49m\u001b[43m[\u001b[49m\u001b[33;43m\"\u001b[39;49m\u001b[33;43mnxt_in_memory\u001b[39;49m\u001b[33;43m\"\u001b[39;49m\u001b[43m]\u001b[49m\u001b[43m,\u001b[49m\n\u001b[32m      9\u001b[39m \u001b[43m    \u001b[49m\u001b[43mcur_dist\u001b[49m\u001b[43m=\u001b[49m\u001b[43mdata\u001b[49m\u001b[43m[\u001b[49m\u001b[33;43m\"\u001b[39;49m\u001b[33;43mcur_ff_distance\u001b[39;49m\u001b[33;43m\"\u001b[39;49m\u001b[43m]\u001b[49m\u001b[43m,\u001b[49m\u001b[43m \u001b[49m\u001b[43mnxt_dist\u001b[49m\u001b[43m=\u001b[49m\u001b[43mdata\u001b[49m\u001b[43m[\u001b[49m\u001b[33;43m\"\u001b[39;49m\u001b[33;43mnxt_ff_distance\u001b[39;49m\u001b[33;43m\"\u001b[39;49m\u001b[43m]\u001b[49m\u001b[43m,\u001b[49m\n\u001b[32m     10\u001b[39m \u001b[43m    \u001b[49m\u001b[43mcur_angle\u001b[49m\u001b[43m=\u001b[49m\u001b[43mdata\u001b[49m\u001b[43m[\u001b[49m\u001b[33;43m\"\u001b[39;49m\u001b[33;43mcur_ff_angle\u001b[39;49m\u001b[33;43m\"\u001b[39;49m\u001b[43m]\u001b[49m\u001b[43m,\u001b[49m\u001b[43m \u001b[49m\u001b[43mnxt_angle\u001b[49m\u001b[43m=\u001b[49m\u001b[43mdata\u001b[49m\u001b[43m[\u001b[49m\u001b[33;43m\"\u001b[39;49m\u001b[33;43mnxt_ff_angle\u001b[39;49m\u001b[33;43m\"\u001b[39;49m\u001b[43m]\u001b[49m\u001b[43m,\u001b[49m\n\u001b[32m     11\u001b[39m \u001b[43m    \u001b[49m\u001b[43mspeed\u001b[49m\u001b[43m=\u001b[49m\u001b[43mdata\u001b[49m\u001b[43m[\u001b[49m\u001b[33;43m\"\u001b[39;49m\u001b[33;43mmonkey_speed\u001b[39;49m\u001b[33;43m\"\u001b[39;49m\u001b[43m]\u001b[49m\u001b[43m,\u001b[49m\u001b[43m \u001b[49m\u001b[43mcurvature\u001b[49m\u001b[43m=\u001b[49m\u001b[43mdata\u001b[49m\u001b[43m[\u001b[49m\u001b[33;43m\"\u001b[39;49m\u001b[33;43mcurv_of_traj\u001b[39;49m\u001b[33;43m\"\u001b[39;49m\u001b[43m]\u001b[49m\u001b[43m,\u001b[49m\n\u001b[32m     12\u001b[39m \u001b[43m    \u001b[49m\u001b[43mangular_speed\u001b[49m\u001b[43m=\u001b[49m\u001b[43mdata\u001b[49m\u001b[43m[\u001b[49m\u001b[33;43m\"\u001b[39;49m\u001b[33;43mmonkey_dw\u001b[39;49m\u001b[33;43m\"\u001b[39;49m\u001b[43m]\u001b[49m\u001b[43m,\u001b[49m\n\u001b[32m     13\u001b[39m \u001b[43m    \u001b[49m\u001b[43mstop\u001b[49m\u001b[43m=\u001b[49m\u001b[43mdata\u001b[49m\u001b[43m[\u001b[49m\u001b[33;43m'\u001b[39;49m\u001b[33;43mmonkey_speeddummy\u001b[39;49m\u001b[33;43m'\u001b[39;49m\u001b[43m]\u001b[49m\u001b[43m,\u001b[49m\n\u001b[32m     14\u001b[39m \u001b[43m    \u001b[49m\u001b[43mcapture\u001b[49m\u001b[43m=\u001b[49m\u001b[43mdata\u001b[49m\u001b[43m[\u001b[49m\u001b[33;43m'\u001b[39;49m\u001b[33;43mcapture_ff\u001b[39;49m\u001b[33;43m'\u001b[39;49m\u001b[43m]\u001b[49m\u001b[43m,\u001b[49m\n\u001b[32m     15\u001b[39m \u001b[43m)\u001b[49m\n",
      "\u001b[36mFile \u001b[39m\u001b[32m~/Documents/Multifirefly-Project/multiff_analysis/multiff_code/methods/neural_data_analysis/neural_analysis_tools/model_neural_data/design_bases.py:57\u001b[39m, in \u001b[36mdesign_bases_for_behav_data\u001b[39m\u001b[34m(dt, trial_ids, cur_vis, nxt_vis, cur_dist, nxt_dist, cur_angle, nxt_angle, speed, angular_speed, curvature, stop, capture, use_trial_FE)\u001b[39m\n\u001b[32m     53\u001b[39m _, B_spline_hist = spline_basis(\n\u001b[32m     54\u001b[39m     n_basis=\u001b[32m5\u001b[39m, t_max=\u001b[32m0.20\u001b[39m, dt=dt, t_min=dt,  degree=\u001b[32m3\u001b[39m, log_spaced=\u001b[38;5;28;01mTrue\u001b[39;00m)\n\u001b[32m     56\u001b[39m \u001b[38;5;66;03m# --- Onsets and gated features ---\u001b[39;00m\n\u001b[32m---> \u001b[39m\u001b[32m57\u001b[39m data[\u001b[33m'\u001b[39m\u001b[33mcur_on\u001b[39m\u001b[33m'\u001b[39m] = onset_from_mask_trials(\u001b[43mdata\u001b[49m[\u001b[33m\"\u001b[39m\u001b[33mcur_in_memory\u001b[39m\u001b[33m\"\u001b[39m], trial_ids)\n\u001b[32m     58\u001b[39m data[\u001b[33m'\u001b[39m\u001b[33mnxt_on\u001b[39m\u001b[33m'\u001b[39m] = onset_from_mask_trials(data[\u001b[33m\"\u001b[39m\u001b[33mnxt_in_memory\u001b[39m\u001b[33m\"\u001b[39m], trial_ids)\n\u001b[32m     59\u001b[39m data[\u001b[33m'\u001b[39m\u001b[33mcur_dist\u001b[39m\u001b[33m'\u001b[39m] = data[\u001b[33m'\u001b[39m\u001b[33mcur_ff_distance\u001b[39m\u001b[33m'\u001b[39m] * (data[\u001b[33m'\u001b[39m\u001b[33mcur_in_memory\u001b[39m\u001b[33m'\u001b[39m] > \u001b[32m0\u001b[39m)\n",
      "\u001b[31mNameError\u001b[39m: name 'data' is not defined"
     ]
    }
   ],
   "source": [
    "from neural_data_analysis.neural_analysis_tools.model_neural_data import design_bases\n",
    "data = pn.rebinned_y_var.copy()\n",
    "# spike_data = pn.rebinned_x_var['cluster_0']\n",
    "dt = pn.bin_width\n",
    "\n",
    "design_df, y, meta = design_bases.design_bases_for_behav_data(\n",
    "    dt=dt, trial_ids=data[\"new_segment\"],\n",
    "    cur_vis=data[\"cur_in_memory\"], nxt_vis=data[\"nxt_in_memory\"],\n",
    "    cur_dist=data[\"cur_ff_distance\"], nxt_dist=data[\"nxt_ff_distance\"],\n",
    "    cur_angle=data[\"cur_ff_angle\"], nxt_angle=data[\"nxt_ff_angle\"],\n",
    "    speed=data[\"speed\"], curvature=data[\"curv_of_traj\"],\n",
    "    angular_speed=data[\"ang_speed\"],\n",
    "    stop=data['monkey_speeddummy'],\n",
    "    capture=data['capture_ff'],\n",
    ")\n"
   ]
  },
  {
   "cell_type": "code",
   "execution_count": null,
   "metadata": {},
   "outputs": [
    {
     "data": {
      "text/plain": [
       "['new_segment',\n",
       " 'new_bin',\n",
       " 'cur_ff_angle',\n",
       " 'nxt_opt_arc_dheading',\n",
       " 'seg_end_time',\n",
       " 'point_index',\n",
       " 'cur_ff_index',\n",
       " 'stop_time',\n",
       " 'time_rel_to_stop',\n",
       " 'stop_point_index',\n",
       " 'target_index',\n",
       " 'cur_opt_arc_dheading',\n",
       " 'nxt_ff_distance',\n",
       " 'time',\n",
       " 'nxt_ff_index',\n",
       " 'segment',\n",
       " 'nxt_ff_angle',\n",
       " 'segment_duration',\n",
       " 'cur_ff_distance',\n",
       " 'seg_start_time',\n",
       " 'cur_ff_rel_x',\n",
       " 'cur_ff_rel_y',\n",
       " 'nxt_ff_rel_x',\n",
       " 'nxt_ff_rel_y',\n",
       " 'curv_of_traj',\n",
       " 'cur_vis',\n",
       " 'nxt_vis',\n",
       " 'cur_in_memory',\n",
       " 'nxt_in_memory',\n",
       " 'angle_from_m_before_stop_to_cur_ff',\n",
       " 'angle_from_stop_to_nxt_ff_y',\n",
       " 'dir_from_cur_ff_to_stop',\n",
       " 'dir_from_cur_ff_to_nxt_ff',\n",
       " 'dir_from_cur_ff_same_side',\n",
       " 'angle_from_cur_ff_to_stop',\n",
       " 'angle_from_cur_ff_to_nxt_ff',\n",
       " 'nxt_ff_distance_at_ref',\n",
       " 'nxt_ff_angle_at_ref',\n",
       " 'cur_ff_distance_at_ref',\n",
       " 'cur_ff_angle_at_ref',\n",
       " 'cur_ff_angle_boundary_at_ref',\n",
       " 'curv_range',\n",
       " 'curv_iqr',\n",
       " 'cur_ff_cluster_50_size',\n",
       " 'rel_cur_ff_last_seen_time_bbas',\n",
       " 'rel_cur_ff_first_seen_time_bbas',\n",
       " 'abs_cur_ff_angle',\n",
       " 'abs_nxt_ff_angle',\n",
       " 'abs_cur_ff_rel_x',\n",
       " 'abs_nxt_ff_rel_x',\n",
       " 'abs_angle_from_m_before_stop_to_cur_ff',\n",
       " 'abs_angle_from_stop_to_nxt_ff_y',\n",
       " 'abs_angle_from_cur_ff_to_stop',\n",
       " 'abs_angle_from_cur_ff_to_nxt_ff',\n",
       " 'abs_nxt_ff_angle_at_ref',\n",
       " 'abs_cur_ff_angle_at_ref',\n",
       " 'abs_cur_ff_angle_boundary_at_ref',\n",
       " 'whether_test',\n",
       " 'dt',\n",
       " 'target_cluster_last_seen_angle_to_boundary',\n",
       " 'target_distance',\n",
       " 'LDz',\n",
       " 'target_cluster_last_seen_angle',\n",
       " 'target_cluster_has_disappeared_for_last_time_dummy',\n",
       " 'target_cluster_visible_dummy',\n",
       " 'target_rel_y',\n",
       " 'target_cluster_last_seen_distance_frozen',\n",
       " 'target_rel_x',\n",
       " 'monkey_speeddummy',\n",
       " 'traj_curv',\n",
       " 'time_since_last_capture',\n",
       " 'gaze_mky_view_y',\n",
       " 'target_opt_arc_dheading',\n",
       " 'crossing_boundary',\n",
       " 'trial',\n",
       " 'turning_right',\n",
       " 'monkey_angle',\n",
       " 'LDy',\n",
       " 'gaze_world_x',\n",
       " 'RDz',\n",
       " 'monkey_x',\n",
       " 'gaze_world_x_l',\n",
       " 'last_target_caught_time',\n",
       " 'gaze_world_x_r',\n",
       " 'gaze_mky_view_x',\n",
       " 'delta_distance',\n",
       " 'gaze_mky_view_angle_l',\n",
       " 'target_cluster_last_seen_distance',\n",
       " 'monkey_dw',\n",
       " 'cum_distance',\n",
       " 'target_cluster_last_seen_angle_to_boundary_frozen',\n",
       " 'monkey_y_smr',\n",
       " 'target_y',\n",
       " 'gaze_mky_view_angle_r',\n",
       " 'while_last_seeing_target_cluster',\n",
       " 'target_cluster_last_seen_angle_frozen',\n",
       " 'monkey_ddv',\n",
       " 'monkey_ddw',\n",
       " 'gaze_world_y',\n",
       " 'current_target_caught_time',\n",
       " 'target_cluster_last_seen_time',\n",
       " 'eye_world_speed',\n",
       " 'speed_smr',\n",
       " 'gaze_mky_view_y_l',\n",
       " 'target_angle_to_boundary',\n",
       " 'monkey_x_smr',\n",
       " 'gaze_world_y_l',\n",
       " 'monkey_speed',\n",
       " 'gaze_mky_view_y_r',\n",
       " 'capture_ff',\n",
       " 'valid_view_point_l',\n",
       " 'monkey_y',\n",
       " 'target_angle',\n",
       " 'target_has_disappeared_for_last_time_dummy',\n",
       " 'RDy',\n",
       " 'ang_speed_smr',\n",
       " 'gaze_mky_view_angle',\n",
       " 'gaze_world_y_r',\n",
       " 'gaze_mky_view_x_l',\n",
       " 'whether_new_distinct_stop',\n",
       " 'target_visible_dummy',\n",
       " 'target_x',\n",
       " 'valid_view_point',\n",
       " 'valid_view_point_r',\n",
       " 'gaze_mky_view_x_r',\n",
       " 'new_seg_start_time',\n",
       " 'new_seg_end_time',\n",
       " 'new_seg_duration']"
      ]
     },
     "execution_count": 47,
     "metadata": {},
     "output_type": "execute_result"
    }
   ],
   "source": [
    "pn.rebinned_y_var.columns.tolist()"
   ]
  },
  {
   "cell_type": "markdown",
   "metadata": {},
   "source": [
    "# CCA\n",
    "\n",
    "https://medium.com/@pozdrawiamzuzanna/canonical-correlation-analysis-simple-explanation-and-python-example-a5b8e97648d2"
   ]
  },
  {
   "cell_type": "markdown",
   "metadata": {},
   "source": [
    "## conduct cca"
   ]
  },
  {
   "cell_type": "code",
   "execution_count": null,
   "metadata": {},
   "outputs": [],
   "source": [
    "X1 = pn.rebinned_x_var.drop(columns=['bin', 'segment', 'new_bin', 'new_segment'], errors='ignore').copy()\n",
    "X2 = pn.rebinned_y_var.copy()\n",
    "X1_reduced = design_bases.reduce_df(X1)\n",
    "X2_reduced = design_bases.reduce_df(X2)\n",
    "\n",
    "X1_lags_reduced = X1_reduced.copy()\n"
   ]
  },
  {
   "cell_type": "code",
   "execution_count": null,
   "metadata": {},
   "outputs": [
    {
     "name": "stdout",
     "output_type": "stream",
     "text": [
      "Removing 4 columns with zero variance: ['crossing_boundary', 'capture_ff', 'whether_new_distinct_stop', 'new_seg_duration']\n",
      "====================Dropping features with high correlation in all columns based on threshold 0.9====================\n",
      "Processing subset 1 of 1, 183 features in total.\n",
      "89 columns out of 183 dropped: ['cur_ff_index', 'angular_speed_rc4', 'target_distance', 'curvature_rc1', 'nxt_on_rc1', 'curv_of_traj', 'target_cluster_last_seen_angle', 'target_rel_y', 'cur_ff_rel_y', 'target_rel_x', 'nxt_on_rc4', 'curvature_rc3', 'segment', 'trial', 'speed_rc4', 'nxt_in_memory', 'LDy', 'seg_start_time', 'abs_nxt_ff_angle', 'seg_end_time', 'monkey_x', 'speed_rc1', 'point_index', 'angular_speed_rc1', 'cur_on_rc4', 'abs_angle_from_stop_to_nxt_ff_y', 'stop_point_index', 'target_index', 'cur_angle_cos_rc1', 'new_segment', 'last_target_caught_time', 'nxt_on_rc5', 'nxt_dist_rc3', 'nxt_angle_sin_rc2', 'time', 'cur_angle_sin_rc4', 'nxt_angle_cos_rc3', 'angular_speed_rc3', 'delta_distance', 'gaze_mky_view_angle_l', 'monkey_dw', 'cum_distance', 'angular_speed_rc5', 'monkey_y_smr', 'target_y', 'gaze_mky_view_angle_r', 'cur_angle_cos_rc3', 'nxt_angle_cos_rc1', 'nxt_angle_sin_rc1', 'cur_ff_distance', 'cur_ff_angle', 'stop_time', 'cur_angle_cos_rc4', 'new_seg_start_time', 'nxt_angle_sin_rc3', 'cur_on_rc1', 'cur_dist_rc3', 'nxt_angle_sin_rc4', 'nxt_dist_rc4', 'nxt_ff_index', 'current_target_caught_time', 'curvature_rc4', 'cur_dist_rc1', 'cur_ff_rel_x', 'speed_smr', 'nxt_angle_cos_rc4', 'curvature_rc2', 'monkey_x_smr', 'monkey_speed', 'nxt_ff_angle', 'cur_angle_sin_rc3', 'nxt_opt_arc_dheading', 'new_bin', 'cur_angle_sin_rc2', 'speed_rc2', 'nxt_ff_distance', 'angle_from_stop_to_nxt_ff_y', 'RDy', 'ang_speed_smr', 'cur_vis', 'cur_dist_rc4', 'nxt_dist_rc1', 'nxt_dist_rc2', 'cur_angle_sin_rc1', 'cur_on_rc5', 'speed_rc3', 'nxt_angle_cos_rc2', 'abs_angle_from_m_before_stop_to_cur_ff', 'nxt_dist_rc5']\n",
      "\n",
      "89 out of 183 (48.63%) are dropped after Dropping features with high correlation in subsets of features\n",
      "\n",
      "Summary: 89 out of 183 (48.63%) are dropped after calling drop_columns_with_high_corr. \n",
      "** 94 features are left **\n",
      "\n",
      "====================Among all columns, iteratively dropping columns with the highest VIF====================\n",
      "Getting VIF for all 94 features...\n",
      "Iter 1: Dropped dir_from_cur_ff_to_stop (VIF: 44795.8)\n",
      "Iter 2: Dropped cur_angle_cos_rc2 (VIF: 131.0)\n",
      "Iter 3: Dropped nxt_ff_distance_at_ref (VIF: 81.1)\n",
      "Iter 4: Dropped gaze_mky_view_x (VIF: 30.4)\n",
      "Iter 5: Dropped cur_in_memory (VIF: 26.0)\n",
      "Iter 6: Dropped cur_opt_arc_dheading (VIF: 20.7)\n",
      "Iter 7: Dropped nxt_ff_angle_at_ref (VIF: 18.2)\n",
      "Iter 8: Dropped gaze_world_y (VIF: 15.8)\n",
      "Iter 9: Dropped cur_dist_rc5 (VIF: 14.0)\n",
      "Iter 10: Dropped cur_ff_angle_at_ref (VIF: 12.1)\n",
      "Iter 11: Dropped curvature (VIF: 11.2)\n",
      "Iter 12: Dropped gaze_world_x (VIF: 9.9)\n",
      "Iter 13: Dropped target_cluster_last_seen_distance (VIF: 9.1)\n",
      "Iter 14: Dropped cur_angle_cos_rc5 (VIF: 8.5)\n",
      "Iter 15: Dropped traj_curv (VIF: 8.5)\n",
      "Iter 16: Dropped rel_cur_ff_first_seen_time_bbas (VIF: 7.7)\n",
      "Iter 17: Dropped target_has_disappeared_for_last_time_dummy (VIF: 7.5)\n",
      "Iter 18: Dropped target_angle_to_boundary (VIF: 7.4)\n",
      "Iter 19: Dropped target_cluster_visible_dummy (VIF: 5.9)\n",
      "Iter 20: Dropped gaze_mky_view_y (VIF: 5.8)\n",
      "Iter 21: Dropped nxt_ff_rel_x (VIF: 5.5)\n",
      "Iter 22: Dropped time_rel_to_stop (VIF: 5.2)\n",
      "After iterative dropping, the column with the highest VIF is abs_nxt_ff_rel_x with VIF 4.90\n",
      "Dropped columns:  ['dir_from_cur_ff_to_stop' 'cur_angle_cos_rc2' 'nxt_ff_distance_at_ref'\n",
      " 'gaze_mky_view_x' 'cur_in_memory' 'cur_opt_arc_dheading'\n",
      " 'nxt_ff_angle_at_ref' 'gaze_world_y' 'cur_dist_rc5' 'cur_ff_angle_at_ref'\n",
      " 'curvature' 'gaze_world_x' 'target_cluster_last_seen_distance'\n",
      " 'cur_angle_cos_rc5' 'traj_curv' 'rel_cur_ff_first_seen_time_bbas'\n",
      " 'target_has_disappeared_for_last_time_dummy' 'target_angle_to_boundary'\n",
      " 'target_cluster_visible_dummy' 'gaze_mky_view_y' 'nxt_ff_rel_x'\n",
      " 'time_rel_to_stop']\n",
      "Kept columns:  ['segment_duration' 'nxt_ff_rel_y' 'nxt_vis'\n",
      " 'angle_from_m_before_stop_to_cur_ff' 'dir_from_cur_ff_to_nxt_ff'\n",
      " 'dir_from_cur_ff_same_side' 'angle_from_cur_ff_to_stop'\n",
      " 'angle_from_cur_ff_to_nxt_ff' 'cur_ff_distance_at_ref'\n",
      " 'cur_ff_angle_boundary_at_ref' 'curv_range' 'curv_iqr'\n",
      " 'cur_ff_cluster_50_size' 'rel_cur_ff_last_seen_time_bbas'\n",
      " 'abs_cur_ff_angle' 'abs_cur_ff_rel_x' 'abs_nxt_ff_rel_x'\n",
      " 'abs_angle_from_cur_ff_to_stop' 'abs_angle_from_cur_ff_to_nxt_ff'\n",
      " 'abs_nxt_ff_angle_at_ref' 'abs_cur_ff_angle_at_ref'\n",
      " 'abs_cur_ff_angle_boundary_at_ref' 'whether_test' 'dt'\n",
      " 'target_cluster_last_seen_angle_to_boundary' 'LDz'\n",
      " 'target_cluster_has_disappeared_for_last_time_dummy'\n",
      " 'target_cluster_last_seen_distance_frozen' 'monkey_speeddummy'\n",
      " 'time_since_last_capture' 'target_opt_arc_dheading' 'turning_right'\n",
      " 'monkey_angle' 'RDz' 'gaze_world_x_l' 'gaze_world_x_r'\n",
      " 'target_cluster_last_seen_angle_to_boundary_frozen'\n",
      " 'while_last_seeing_target_cluster'\n",
      " 'target_cluster_last_seen_angle_frozen' 'monkey_ddv' 'monkey_ddw'\n",
      " 'target_cluster_last_seen_time' 'eye_world_speed' 'gaze_mky_view_y_l'\n",
      " 'gaze_world_y_l' 'gaze_mky_view_y_r' 'valid_view_point_l' 'monkey_y'\n",
      " 'target_angle' 'gaze_mky_view_angle' 'gaze_world_y_r' 'gaze_mky_view_x_l'\n",
      " 'target_visible_dummy' 'target_x' 'valid_view_point' 'valid_view_point_r'\n",
      " 'gaze_mky_view_x_r' 'new_seg_end_time' 'cur_on_rc2' 'cur_on_rc3'\n",
      " 'cur_on_rc6' 'nxt_on_rc2' 'nxt_on_rc3' 'nxt_on_rc6' 'cur_dist_rc2'\n",
      " 'cur_angle_sin_rc5' 'nxt_angle_sin_rc5' 'nxt_angle_cos_rc5' 'speed_rc5'\n",
      " 'angular_speed_rc2' 'curvature_rc5' 'speed']\n",
      "The shape of the reduced dataframe is (2520, 72)\n",
      "Final number of columns 72\n",
      "\n",
      "** Summary: 22 out of 94 (23.40%) are dropped after calling drop_columns_with_high_vif. \n",
      "** 72 features are left **\n"
     ]
    }
   ],
   "source": [
    "X2_lags = pd.concat([X2, design_df], axis=1)\n",
    "X2_lags_reduced = design_bases.reduce_df(X2_lags)"
   ]
  },
  {
   "cell_type": "code",
   "execution_count": null,
   "metadata": {},
   "outputs": [
    {
     "name": "stdout",
     "output_type": "stream",
     "text": [
      "Training CCA, kernel = None, regularization = 0.0100, 10 components\n",
      "Canonical Correlation Per Component Pair: [0.65469 0.5951  0.54921 0.52036 0.47446 0.46372 0.39841 0.3878  0.37635\n",
      " 0.37039]\n",
      "% Shared Variance: [0.42862 0.35414 0.30163 0.27078 0.22511 0.21504 0.15873 0.15039 0.14164\n",
      " 0.13719]\n"
     ]
    },
    {
     "data": {
      "image/png": "[encoded data removed]",
      "text/plain": [
       "<Figure size 640x480 with 1 Axes>"
      ]
     },
     "metadata": {},
     "output_type": "display_data"
    },
    {
     "name": "stdout",
     "output_type": "stream",
     "text": [
      "Training CCA, kernel = None, regularization = 0.0100, 10 components\n",
      "Canonical Correlation Per Component Pair: [0.66839 0.59895 0.56068 0.51905 0.48309 0.46854 0.41393 0.39188 0.38588\n",
      " 0.37473]\n",
      "% Shared Variance: [0.44675 0.35874 0.31437 0.26941 0.23337 0.21953 0.17134 0.15357 0.1489\n",
      " 0.14042]\n"
     ]
    },
    {
     "data": {
      "image/png": "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",
      "text/plain": [
       "<Figure size 640x480 with 1 Axes>"
      ]
     },
     "metadata": {},
     "output_type": "display_data"
    },
    {
     "name": "stdout",
     "output_type": "stream",
     "text": [
      "X1_reduced.shape: (2520, 86)\n",
      "X2_reduced.shape: (2520, 63)\n",
      "X1_lags_reduced.shape: (2520, 86)\n",
      "X2_lags_reduced.shape: (2520, 72)\n"
     ]
    }
   ],
   "source": [
    "cca_no_lag = cca_class.CCAclass(X1=X1_reduced, X2=X2_reduced, lagging_included=False)\n",
    "cca_no_lag.conduct_cca()\n",
    "\n",
    "cca_lags = cca_class.CCAclass(X1=X1_lags_reduced, X2=X2_lags_reduced, lagging_included=True)\n",
    "cca_lags.conduct_cca()\n",
    "\n",
    "print(f'X1_reduced.shape: {X1_reduced.shape}')\n",
    "print(f'X2_reduced.shape: {X2_reduced.shape}')\n",
    "print(f'X1_lags_reduced.shape: {X1_lags_reduced.shape}')\n",
    "print(f'X2_lags_reduced.shape: {X2_lags_reduced.shape}')\n",
    "\n",
    "cca_inst = cca_lags"
   ]
  }
 ],
 "metadata": {
  "kernelspec": {
   "display_name": "ff_venv2",
   "language": "python",
   "name": "python3"
  },
  "language_info": {
   "codemirror_mode": {
    "name": "ipython",
    "version": 3
   },
   "file_extension": ".py",
   "mimetype": "text/x-python",
   "name": "python",
   "nbconvert_exporter": "python",
   "pygments_lexer": "ipython3",
   "version": "3.11.11"
  }
 },
 "nbformat": 4,
 "nbformat_minor": 2
}
