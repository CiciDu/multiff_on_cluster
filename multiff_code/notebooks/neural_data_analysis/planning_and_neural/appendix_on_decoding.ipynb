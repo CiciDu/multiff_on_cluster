{
 "cells": [
  {
   "cell_type": "code",
   "execution_count": null,
   "metadata": {},
   "outputs": [],
   "source": [
    "# Schro\n",
    "\n",
    "pn.time_resolved_cv_scores.loc[pn.time_resolved_cv_scores['feature'] == 'monkey_speeddummy', 'feature'] = 'stop'\n",
    "for features in [['target_distance', 'target_rel_y'],\n",
    "                 ['target_rel_x', 'target_angle'],\n",
    "                 ['time', 'time_rel_to_stop'],\n",
    "                 ['speed', 'stop']]:\n",
    "    \n",
    "    pn.plot_time_resolved_regression(features_to_plot=features)\n",
    "\n",
    "\n"
   ]
  }
 ],
 "metadata": {
  "kernelspec": {
   "display_name": "multiff_clean",
   "language": "python",
   "name": "python3"
  },
  "language_info": {
   "codemirror_mode": {
    "name": "ipython",
    "version": 3
   },
   "file_extension": ".py",
   "mimetype": "text/x-python",
   "name": "python",
   "nbconvert_exporter": "python",
   "pygments_lexer": "ipython3",
   "version": "3.11.11"
  }
 },
 "nbformat": 4,
 "nbformat_minor": 2
}
