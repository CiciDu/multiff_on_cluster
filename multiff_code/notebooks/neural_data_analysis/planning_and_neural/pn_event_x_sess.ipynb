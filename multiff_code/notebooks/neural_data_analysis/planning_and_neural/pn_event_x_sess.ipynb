{
 "cells": [
  {
   "cell_type": "markdown",
   "metadata": {},
   "source": [
    "# Import packages"
   ]
  },
  {
   "cell_type": "code",
   "execution_count": 1,
   "metadata": {},
   "outputs": [
    {
     "name": "stdout",
     "output_type": "stream",
     "text": [
      "done\n",
      "The autoreload extension is already loaded. To reload it, use:\n",
      "  %reload_ext autoreload\n"
     ]
    }
   ],
   "source": [
    "%load_ext autoreload\n",
    "%autoreload 2\n",
    "\n",
    "import os, sys, sys\n",
    "from pathlib import Path\n",
    "for p in [Path.cwd()] + list(Path.cwd().parents):\n",
    "    if p.name == 'Multifirefly-Project':\n",
    "        os.chdir(p)\n",
    "        sys.path.insert(0, str(p / 'multiff_analysis/multiff_code/methods'))\n",
    "        break\n",
    "    \n",
    "from data_wrangling import specific_utils, process_monkey_information, general_utils\n",
    "from pattern_discovery import pattern_by_trials, pattern_by_trials, cluster_analysis, organize_patterns_and_features\n",
    "from visualization.matplotlib_tools import plot_behaviors_utils\n",
    "from neural_data_analysis.neural_analysis_tools.get_neural_data import neural_data_processing\n",
    "from neural_data_analysis.neural_analysis_tools.visualize_neural_data import plot_neural_data, plot_modeling_result\n",
    "from neural_data_analysis.neural_analysis_tools.model_neural_data import transform_vars, neural_data_modeling, drop_high_corr_vars, drop_high_vif_vars\n",
    "from neural_data_analysis.topic_based_neural_analysis.neural_vs_behavioral import prep_monkey_data, prep_target_data, neural_vs_behavioral_class\n",
    "from neural_data_analysis.topic_based_neural_analysis.planning_and_neural import planning_and_neural_class, pn_utils, pn_helper_class, pn_aligned_by_seg, pn_aligned_by_event\n",
    "from neural_data_analysis.neural_analysis_tools.cca_methods import cca_class\n",
    "from neural_data_analysis.neural_analysis_tools.cca_methods import cca_class, cca_utils, cca_cv_utils\n",
    "from neural_data_analysis.neural_analysis_tools.cca_methods.cca_plotting import cca_plotting, cca_plot_lag_vs_no_lag, cca_plot_cv\n",
    "from machine_learning.ml_methods import regression_utils, regz_regression_utils, ml_methods_class, classification_utils, ml_plotting_utils, ml_methods_utils\n",
    "from planning_analysis.show_planning import nxt_ff_utils, show_planning_utils\n",
    "from neural_data_analysis.neural_analysis_tools.gpfa_methods import elephant_utils, fit_gpfa_utils, plot_gpfa_utils, gpfa_helper_class\n",
    "from neural_data_analysis.neural_analysis_tools.align_trials import align_trial_utils\n",
    "from data_wrangling import combine_info_utils, base_processing_class\n",
    "from neural_data_analysis.neural_analysis_tools.align_trials import time_resolved_regression, time_resolved_gpfa_regression,plot_time_resolved_regression\n",
    "\n",
    "import sys\n",
    "import math\n",
    "import gc\n",
    "import subprocess\n",
    "from pathlib import Path\n",
    "from importlib import reload\n",
    "\n",
    "# Third-party imports\n",
    "import numpy as np\n",
    "import pandas as pd\n",
    "import matplotlib\n",
    "import matplotlib.pyplot as plt\n",
    "import seaborn as sns\n",
    "from matplotlib import rc\n",
    "from scipy import linalg, interpolate\n",
    "from scipy.signal import fftconvolve\n",
    "from scipy.io import loadmat\n",
    "from scipy import sparse\n",
    "import torch\n",
    "from numpy import pi\n",
    "import warnings\n",
    "\n",
    "# Machine Learning imports\n",
    "from sklearn.metrics import mean_squared_error, r2_score\n",
    "from sklearn.linear_model import LinearRegression, Ridge\n",
    "from sklearn.preprocessing import StandardScaler\n",
    "from sklearn.model_selection import train_test_split, GridSearchCV\n",
    "from statsmodels.stats.outliers_influence import variance_inflation_factor\n",
    "from statsmodels.multivariate.cancorr import CanCorr\n",
    "\n",
    "# Neuroscience specific imports\n",
    "import neo\n",
    "import rcca\n",
    "import quantities as pq\n",
    "\n",
    "plt.rcParams[\"animation.html\"] = \"html5\"\n",
    "os.environ['KMP_DUPLICATE_LIB_OK']='True'\n",
    "rc('animation', html='jshtml')\n",
    "matplotlib.rcParams.update(matplotlib.rcParamsDefault)\n",
    "matplotlib.rcParams['animation.embed_limit'] = 2**128\n",
    "pd.set_option('display.float_format', lambda x: '%.5f' % x)\n",
    "np.set_printoptions(suppress=True)\n",
    "print(\"done\")\n",
    "\n",
    "%load_ext autoreload\n",
    "%autoreload 2"
   ]
  },
  {
   "cell_type": "markdown",
   "metadata": {},
   "source": [
    "## exp"
   ]
  },
  {
   "cell_type": "code",
   "execution_count": 18,
   "metadata": {},
   "outputs": [
    {
     "name": "stdout",
     "output_type": "stream",
     "text": [
      "====================================================================================================\n",
      "all_monkey_data/raw_monkey_data/monkey_Schro/data_0416\n",
      "Loaded binned_spikes_df from all_monkey_data/processed_neural_data/monkey_Schro/data_0416/binned_spikes_df_0p1.csv\n",
      "Loaded planning_data_by_point from all_monkey_data/planning_and_neural/monkey_Schro/data_0416/planning_data_by_point/opt_arc_stop_closest/test/cur_vis_0_1_window_-50cm_0cm\n",
      "Loaded planning_data_by_point from all_monkey_data/planning_and_neural/monkey_Schro/data_0416/planning_data_by_point/opt_arc_stop_closest/control/cur_vis_0_1_window_-50cm_0cm\n",
      "Loaded behav_data_by_bin from all_monkey_data/target_decoder/monkey_Schro/data_0416/behav_data_by_point.csv\n",
      "Retrieved monkey_information\n",
      "The number of points that were removed due to delta_position exceeding the ceiling is 0\n",
      "There are 1 duplicated point_index in bin_info. Note: one_point_index_per_bin is False\n",
      "Warning: new_seg_duration 1.0 is not a multiple of bin_width 0.1\n",
      "new_seg_duration is now 1.0, and post_event_window is now 0.75\n",
      "Loaded new_seg_info from all_monkey_data/planning_and_neural/monkey_Schro/data_0416/new_seg_info/tlim2_cur_first_pre0p25_post0p75.csv\n",
      "Dropped 22 columns due to containing NA in rebinned_y_var via calling drop_na_cols function: ['nxt_opt_arc_curv', 'cur_opt_arc_curv', 'nxt_cntr_arc_curv', 'cur_cntr_arc_curv', 'cur_opt_arc_end_heading', 'cur_cntr_arc_end_heading', 'angle_opt_cur_end_to_nxt_ff', 'angle_cntr_cur_end_to_nxt_ff', 'abs_angle_opt_arc_from_cur_end_to_nxt', 'abs_angle_cntr_arc_from_cur_end_to_nxt', 'monkey_angle_target_last_seen', 'target_last_seen_angle_to_boundary', 'd_heading_since_target_last_seen', 'time_since_target_last_seen', 'distance_from_monkey_pos_target_last_seen', 'cum_distance_since_target_last_seen', 'monkey_y_target_last_seen', 'target_last_seen_distance', 'monkey_x_target_last_seen', 'target_last_seen_angle', 'cum_distance_when_target_last_seen', 'time_target_last_seen']\n",
      "Warning: ff_closest_stop_time_sorted has 1 points out of 470 points that are significantly larger than ff_caught_T_sorted, which is 0.21% of the points. Max value of closest_time - capture time is 0.4813680000000886. They are replaced with the original ff_caught_T in ff_caught_T_new.\n",
      "Warning: ff_closest_stop_time_sorted has 37 points where monkey is outside of 470 points that are outside of the reward boundary, which is 7.87% of the points. They are replaced with the original ff_caught_T in ff_caught_T_new.\n",
      "Note: ff_caught_T_sorted is replaced with ff_caught_T_new\n",
      "\n",
      "No NA values found in concat_neural_trials\n",
      "\n",
      "No NA values found in concat_behav_trials\n",
      "\n",
      "No NA values found in concat_neural_trials\n",
      "\n",
      "No NA values found in concat_behav_trials\n",
      "Loaded time_resolved_cv_scores_gpfa from all_monkey_data/planning_and_neural/monkey_Schro/data_0416/event_aligned/time_resolved_cv_scores_gpfa/scores_b0p1_t2_cur_first_p0p25_po0p75_d7_cv5.csv\n",
      "Loaded GPFA trajectories from all_monkey_data/planning_and_neural/monkey_Schro/data_0416/event_aligned/gpfa_trajectories/gpfa_neural_bin0p1_cur_first.pkl\n",
      "\n",
      "No NA values found in concat_neural_trials\n",
      "\n",
      "No NA values found in concat_behav_trials\n",
      "File all_monkey_data/planning_and_neural/monkey_Schro/data_0416/event_aligned/time_resolved_cv_scores/precomputed_gpfa/scores_b0p1_t2_cur_first_p0p25_po0p75_d7_cv5.csv does not exist. Recomputing...\n"
     ]
    },
    {
     "name": "stderr",
     "output_type": "stream",
     "text": [
      "Timepoints: 100%|██████████| 10/10 [00:06<00:00,  1.54it/s]"
     ]
    },
    {
     "name": "stdout",
     "output_type": "stream",
     "text": [
      "Saved time_resolved_cv_scores to all_monkey_data/planning_and_neural/monkey_Schro/data_0416/event_aligned/time_resolved_cv_scores/precomputed_gpfa/scores_b0p1_t2_cur_first_p0p25_po0p75_d7_cv5.csv\n"
     ]
    },
    {
     "name": "stderr",
     "output_type": "stream",
     "text": [
      "\n"
     ]
    }
   ],
   "source": [
    "raw_data_folder_path = 'all_monkey_data/raw_monkey_data/monkey_Schro/data_0416'\n",
    "print('='*100)\n",
    "print(raw_data_folder_path)\n",
    "\n",
    "# try:    \n",
    "# check if the files already exist (hardcoded for now)\n",
    "neural_path = raw_data_folder_path.replace('raw_monkey_data', 'planning_and_neural')\n",
    "df1_path = os.path.join(neural_path, 'event_aligned/time_resolved_cv_scores_gpfa/scores_b0p1_t2_cur_first_p0p25_po0p75_d7_cv5.csv')\n",
    "df2_path = os.path.join(neural_path, 'event_aligned/time_resolved_cv_scores/precomputed_gpfa/scores_b0p1_t2_cur_first_p0p25_po0p75_d7_cv5.csv')\n",
    "if os.path.exists(df1_path) and os.path.exists(df2_path):\n",
    "    print('Files already exist')\n",
    "\n",
    "pn = pn_aligned_by_event.PlanningAndNeuralEventAligned(raw_data_folder_path=raw_data_folder_path)\n",
    "pn.streamline_getting_time_resolved_cv_scores(pn, cv_folds=5)"
   ]
  },
  {
   "cell_type": "code",
   "execution_count": 5,
   "metadata": {},
   "outputs": [
    {
     "data": {
      "text/html": [
       "<div>\n",
       "<style scoped>\n",
       "    .dataframe tbody tr th:only-of-type {\n",
       "        vertical-align: middle;\n",
       "    }\n",
       "\n",
       "    .dataframe tbody tr th {\n",
       "        vertical-align: top;\n",
       "    }\n",
       "\n",
       "    .dataframe thead th {\n",
       "        text-align: right;\n",
       "    }\n",
       "</style>\n",
       "<table border=\"1\" class=\"dataframe\">\n",
       "  <thead>\n",
       "    <tr style=\"text-align: right;\">\n",
       "      <th></th>\n",
       "      <th>feature</th>\n",
       "      <th>fold</th>\n",
       "      <th>new_bin</th>\n",
       "      <th>trial_count</th>\n",
       "      <th>r2</th>\n",
       "      <th>best_alpha</th>\n",
       "      <th>bin_mid_time</th>\n",
       "    </tr>\n",
       "  </thead>\n",
       "  <tbody>\n",
       "    <tr>\n",
       "      <th>0</th>\n",
       "      <td>new_segment</td>\n",
       "      <td>0</td>\n",
       "      <td>0</td>\n",
       "      <td>126</td>\n",
       "      <td>-0.02624</td>\n",
       "      <td>NaN</td>\n",
       "      <td>-0.20000</td>\n",
       "    </tr>\n",
       "    <tr>\n",
       "      <th>1</th>\n",
       "      <td>new_segment</td>\n",
       "      <td>1</td>\n",
       "      <td>0</td>\n",
       "      <td>126</td>\n",
       "      <td>0.03226</td>\n",
       "      <td>NaN</td>\n",
       "      <td>-0.20000</td>\n",
       "    </tr>\n",
       "    <tr>\n",
       "      <th>2</th>\n",
       "      <td>new_segment</td>\n",
       "      <td>2</td>\n",
       "      <td>0</td>\n",
       "      <td>126</td>\n",
       "      <td>0.03843</td>\n",
       "      <td>NaN</td>\n",
       "      <td>-0.20000</td>\n",
       "    </tr>\n",
       "    <tr>\n",
       "      <th>3</th>\n",
       "      <td>new_segment</td>\n",
       "      <td>3</td>\n",
       "      <td>0</td>\n",
       "      <td>126</td>\n",
       "      <td>-0.26771</td>\n",
       "      <td>NaN</td>\n",
       "      <td>-0.20000</td>\n",
       "    </tr>\n",
       "    <tr>\n",
       "      <th>4</th>\n",
       "      <td>new_segment</td>\n",
       "      <td>4</td>\n",
       "      <td>0</td>\n",
       "      <td>126</td>\n",
       "      <td>0.09756</td>\n",
       "      <td>NaN</td>\n",
       "      <td>-0.20000</td>\n",
       "    </tr>\n",
       "    <tr>\n",
       "      <th>5</th>\n",
       "      <td>new_bin</td>\n",
       "      <td>0</td>\n",
       "      <td>0</td>\n",
       "      <td>126</td>\n",
       "      <td>NaN</td>\n",
       "      <td>NaN</td>\n",
       "      <td>-0.20000</td>\n",
       "    </tr>\n",
       "    <tr>\n",
       "      <th>6</th>\n",
       "      <td>new_bin</td>\n",
       "      <td>1</td>\n",
       "      <td>0</td>\n",
       "      <td>126</td>\n",
       "      <td>NaN</td>\n",
       "      <td>NaN</td>\n",
       "      <td>-0.20000</td>\n",
       "    </tr>\n",
       "    <tr>\n",
       "      <th>7</th>\n",
       "      <td>new_bin</td>\n",
       "      <td>2</td>\n",
       "      <td>0</td>\n",
       "      <td>126</td>\n",
       "      <td>NaN</td>\n",
       "      <td>NaN</td>\n",
       "      <td>-0.20000</td>\n",
       "    </tr>\n",
       "    <tr>\n",
       "      <th>8</th>\n",
       "      <td>new_bin</td>\n",
       "      <td>3</td>\n",
       "      <td>0</td>\n",
       "      <td>126</td>\n",
       "      <td>NaN</td>\n",
       "      <td>NaN</td>\n",
       "      <td>-0.20000</td>\n",
       "    </tr>\n",
       "    <tr>\n",
       "      <th>9</th>\n",
       "      <td>new_bin</td>\n",
       "      <td>4</td>\n",
       "      <td>0</td>\n",
       "      <td>126</td>\n",
       "      <td>NaN</td>\n",
       "      <td>NaN</td>\n",
       "      <td>-0.20000</td>\n",
       "    </tr>\n",
       "  </tbody>\n",
       "</table>\n",
       "</div>"
      ],
      "text/plain": [
       "       feature  fold  new_bin  trial_count       r2  best_alpha  bin_mid_time\n",
       "0  new_segment     0        0          126 -0.02624         NaN      -0.20000\n",
       "1  new_segment     1        0          126  0.03226         NaN      -0.20000\n",
       "2  new_segment     2        0          126  0.03843         NaN      -0.20000\n",
       "3  new_segment     3        0          126 -0.26771         NaN      -0.20000\n",
       "4  new_segment     4        0          126  0.09756         NaN      -0.20000\n",
       "5      new_bin     0        0          126      NaN         NaN      -0.20000\n",
       "6      new_bin     1        0          126      NaN         NaN      -0.20000\n",
       "7      new_bin     2        0          126      NaN         NaN      -0.20000\n",
       "8      new_bin     3        0          126      NaN         NaN      -0.20000\n",
       "9      new_bin     4        0          126      NaN         NaN      -0.20000"
      ]
     },
     "execution_count": 5,
     "metadata": {},
     "output_type": "execute_result"
    }
   ],
   "source": [
    "df = pn.time_resolved_cv_scores\n",
    "df.head(10)"
   ]
  },
  {
   "cell_type": "markdown",
   "metadata": {},
   "source": [
    "## Iterate over session"
   ]
  },
  {
   "cell_type": "code",
   "execution_count": null,
   "metadata": {},
   "outputs": [],
   "source": [
    "pn.time_resolved_cv_scores_gpfa = pn.all_scores_df\n",
    "pn.time_resolved_cv_scores_gpfa['bin_mid_time'] = pn.time_resolved_cv_scores_gpfa['new_bin'] * \\\n",
    "    pn.bin_width + pn.new_bin_start_time + pn.bin_width/2\n",
    "\n",
    "pn.time_resolved_cv_scores_gpfa['trial_count'] = pn.time_resolved_cv_scores_gpfa['train_trial_count']\n",
    "\n",
    "pn.plot_time_resolved_regression(time_resolved_cv_scores=pn.time_resolved_cv_scores_gpfa, score_threshold_to_plot=0.1)"
   ]
  },
  {
   "cell_type": "code",
   "execution_count": null,
   "metadata": {},
   "outputs": [
    {
     "name": "stdout",
     "output_type": "stream",
     "text": [
      "====================================================================================================\n",
      "all_monkey_data/raw_monkey_data/monkey_Bruno/data_0219\n",
      "Files already exist\n",
      "====================================================================================================\n",
      "all_monkey_data/raw_monkey_data/monkey_Bruno/data_0220\n",
      "Files already exist\n",
      "====================================================================================================\n",
      "all_monkey_data/raw_monkey_data/monkey_Bruno/data_0221\n",
      "Files already exist\n",
      "====================================================================================================\n",
      "all_monkey_data/raw_monkey_data/monkey_Bruno/data_0222\n",
      "Files already exist\n",
      "====================================================================================================\n",
      "all_monkey_data/raw_monkey_data/monkey_Bruno/data_0226\n",
      "Files already exist\n",
      "====================================================================================================\n",
      "all_monkey_data/raw_monkey_data/monkey_Bruno/data_0227\n",
      "Files already exist\n",
      "====================================================================================================\n",
      "all_monkey_data/raw_monkey_data/monkey_Bruno/data_0228\n",
      "Retrieved monkey_information\n",
      "The number of points that were removed due to delta_position exceeding the ceiling is 0\n",
      "Warning: ff_closest_stop_time_sorted has 1 points out of 1000 points that are significantly larger than ff_caught_T_sorted, which is 0.10% of the points. Max value of closest_time - capture time is 0.33172400000000835. They are replaced with the original ff_caught_T in ff_caught_T_new.\n",
      "Warning: ff_closest_stop_time_sorted has 31 points where monkey is outside of 1000 points that are outside of the reward boundary, which is 3.10% of the points. They are replaced with the original ff_caught_T in ff_caught_T_new.\n",
      "Warning: ff_caught_T_new is not monotonically increasing. Will make it monotonically increasing.\n",
      "Note: ff_caught_T_sorted is replaced with ff_caught_T_new\n",
      "Retrieved ff_dataframe from all_monkey_data/processed_data/monkey_Bruno/data_0228/ff_dataframe.h5\n",
      "[Errno 2] No such file or directory: 'all_monkey_data/neural_data/monkey_Bruno/data_0228/Sorted/spike_times.npy'\n",
      "====================================================================================================\n",
      "all_monkey_data/raw_monkey_data/monkey_Bruno/data_0301\n",
      "Loaded binned_spikes_df from all_monkey_data/processed_neural_data/monkey_Bruno/data_0301/binned_spikes_df_0p1.csv\n",
      "Loaded planning_data_by_point from all_monkey_data/planning_and_neural/monkey_Bruno/data_0301/planning_data_by_point/opt_arc_stop_closest/test/cur_vis_0_1_window_-50cm_0cm\n",
      "Loaded planning_data_by_point from all_monkey_data/planning_and_neural/monkey_Bruno/data_0301/planning_data_by_point/opt_arc_stop_closest/control/cur_vis_0_1_window_-50cm_0cm\n",
      "Loaded behav_data_by_bin from all_monkey_data/target_decoder/monkey_Bruno/data_0301/behav_data_by_point.csv\n",
      "Retrieved monkey_information\n",
      "The number of points that were removed due to delta_position exceeding the ceiling is 0\n",
      "There are 1 duplicated point_index in bin_info. Note: one_point_index_per_bin is False\n",
      "Warning: new_seg_duration 1.0 is not a multiple of bin_width 0.1\n",
      "new_seg_duration is now 1.0, and post_event_window is now 0.75\n",
      "Loaded new_seg_info from all_monkey_data/planning_and_neural/monkey_Bruno/data_0301/new_seg_info/tlim2_cur_first_pre0p25_post0p75.csv\n",
      "Dropped 30 columns due to containing NA in rebinned_y_var via calling drop_na_cols function: ['nxt_opt_arc_curv', 'cur_cntr_arc_curv', 'nxt_cntr_arc_curv', 'cur_opt_arc_curv', 'cur_opt_arc_end_heading', 'cur_cntr_arc_end_heading', 'angle_opt_cur_end_to_nxt_ff', 'angle_cntr_cur_end_to_nxt_ff', 'abs_angle_opt_arc_from_cur_end_to_nxt', 'abs_angle_cntr_arc_from_cur_end_to_nxt', 'time_since_target_last_seen', 'monkey_x_target_cluster_last_seen', 'target_last_seen_distance', 'target_cluster_last_seen_distance', 'monkey_y_target_cluster_last_seen', 'monkey_y_target_last_seen', 'cum_distance_when_target_last_seen', 'monkey_angle_target_cluster_last_seen', 'target_cluster_last_seen_time', 'target_cluster_last_seen_angle_to_boundary', 'monkey_angle_target_last_seen', 'monkey_x_target_last_seen', 'time_target_last_seen', 'd_heading_since_target_last_seen', 'cum_distance_since_target_last_seen', 'distance_from_monkey_pos_target_last_seen', 'target_cluster_last_seen_angle', 'cum_distance_target_cluster_last_seen', 'target_last_seen_angle', 'target_last_seen_angle_to_boundary']\n",
      "Warning: ff_closest_stop_time_sorted has 1 points out of 783 points that are significantly larger than ff_caught_T_sorted, which is 0.13% of the points. Max value of closest_time - capture time is 0.3818740000000389. They are replaced with the original ff_caught_T in ff_caught_T_new.\n",
      "Warning: ff_closest_stop_time_sorted has 21 points where monkey is outside of 783 points that are outside of the reward boundary, which is 2.68% of the points. They are replaced with the original ff_caught_T in ff_caught_T_new.\n",
      "Note: ff_caught_T_sorted is replaced with ff_caught_T_new\n",
      "\n",
      "No NA values found in concat_neural_trials\n",
      "\n",
      "No NA values found in concat_behav_trials\n"
     ]
    },
    {
     "name": "stderr",
     "output_type": "stream",
     "text": [
      "INFO:root:Fold 1 | Train segments: 216 | Test segments: 54\n"
     ]
    },
    {
     "name": "stdout",
     "output_type": "stream",
     "text": [
      "\n",
      "No NA values found in concat_neural_trials\n",
      "\n",
      "No NA values found in concat_behav_trials\n",
      "File all_monkey_data/planning_and_neural/monkey_Bruno/data_0301/event_aligned/time_resolved_cv_scores_gpfa/scores_b0p1_t2_cur_first_p0p25_po0p75_d7_cv5.csv does not exist. Recomputing...\n",
      "Initializing parameters using factor analysis...\n",
      "\n",
      "Fitting GPFA model...\n"
     ]
    },
    {
     "name": "stderr",
     "output_type": "stream",
     "text": [
      "INFO:root:Fold 2 | Train segments: 216 | Test segments: 54\n"
     ]
    },
    {
     "name": "stdout",
     "output_type": "stream",
     "text": [
      "Initializing parameters using factor analysis...\n",
      "\n",
      "Fitting GPFA model...\n"
     ]
    },
    {
     "name": "stderr",
     "output_type": "stream",
     "text": [
      "INFO:root:Fold 3 | Train segments: 216 | Test segments: 54\n"
     ]
    },
    {
     "name": "stdout",
     "output_type": "stream",
     "text": [
      "Initializing parameters using factor analysis...\n",
      "\n",
      "Fitting GPFA model...\n"
     ]
    },
    {
     "name": "stderr",
     "output_type": "stream",
     "text": [
      "INFO:root:Fold 4 | Train segments: 216 | Test segments: 54\n"
     ]
    },
    {
     "name": "stdout",
     "output_type": "stream",
     "text": [
      "Initializing parameters using factor analysis...\n",
      "\n",
      "Fitting GPFA model...\n"
     ]
    },
    {
     "name": "stderr",
     "output_type": "stream",
     "text": [
      "INFO:root:Fold 5 | Train segments: 216 | Test segments: 54\n"
     ]
    },
    {
     "name": "stdout",
     "output_type": "stream",
     "text": [
      "Initializing parameters using factor analysis...\n",
      "\n",
      "Fitting GPFA model...\n",
      "Saved time_resolved_cv_scores_gpfa to all_monkey_data/planning_and_neural/monkey_Bruno/data_0301/event_aligned/time_resolved_cv_scores_gpfa/scores_b0p1_t2_cur_first_p0p25_po0p75_d7_cv5.csv\n",
      "Loaded GPFA trajectories from all_monkey_data/planning_and_neural/monkey_Bruno/data_0301/event_aligned/gpfa_trajectories/gpfa_neural_bin0p1_cur_first.pkl\n",
      "\n",
      "No NA values found in concat_neural_trials\n",
      "\n",
      "No NA values found in concat_behav_trials\n",
      "File all_monkey_data/planning_and_neural/monkey_Bruno/data_0301/event_aligned/time_resolved_cv_scores/precomputed_gpfa/scores_b0p1_t2_cur_first_p0p25_po0p75_d7_cv5.csv does not exist. Recomputing...\n"
     ]
    },
    {
     "name": "stderr",
     "output_type": "stream",
     "text": [
      "Timepoints: 100%|██████████| 10/10 [00:06<00:00,  1.64it/s]\n"
     ]
    },
    {
     "name": "stdout",
     "output_type": "stream",
     "text": [
      "Saved time_resolved_cv_scores to all_monkey_data/planning_and_neural/monkey_Bruno/data_0301/event_aligned/time_resolved_cv_scores/precomputed_gpfa/scores_b0p1_t2_cur_first_p0p25_po0p75_d7_cv5.csv\n",
      "====================================================================================================\n",
      "all_monkey_data/raw_monkey_data/monkey_Bruno/data_0306\n",
      "Retrieved monkey_information\n",
      "The number of points that were removed due to delta_position exceeding the ceiling is 0\n",
      "Warning: ff_closest_stop_time_sorted has 5 points out of 623 points that are significantly larger than ff_caught_T_sorted, which is 0.80% of the points. Max value of closest_time - capture time is 1.2615799999998671. They are replaced with the original ff_caught_T in ff_caught_T_new.\n",
      "Warning: ff_closest_stop_time_sorted has 40 points where monkey is outside of 623 points that are outside of the reward boundary, which is 6.42% of the points. They are replaced with the original ff_caught_T in ff_caught_T_new.\n",
      "Note: ff_caught_T_sorted is replaced with ff_caught_T_new\n",
      "Retrieved ff_dataframe from all_monkey_data/processed_data/monkey_Bruno/data_0306/ff_dataframe.h5\n",
      "[Errno 2] No such file or directory: 'all_monkey_data/neural_data/monkey_Bruno/data_0306/Sorted/spike_times.npy'\n",
      "====================================================================================================\n",
      "all_monkey_data/raw_monkey_data/monkey_Bruno/data_0307\n",
      "Loaded binned_spikes_df from all_monkey_data/processed_neural_data/monkey_Bruno/data_0307/binned_spikes_df_0p1.csv\n",
      "Loaded planning_data_by_point from all_monkey_data/planning_and_neural/monkey_Bruno/data_0307/planning_data_by_point/opt_arc_stop_closest/test/cur_vis_0_1_window_-50cm_0cm\n",
      "Loaded planning_data_by_point from all_monkey_data/planning_and_neural/monkey_Bruno/data_0307/planning_data_by_point/opt_arc_stop_closest/control/cur_vis_0_1_window_-50cm_0cm\n",
      "Loaded behav_data_by_bin from all_monkey_data/target_decoder/monkey_Bruno/data_0307/behav_data_by_point.csv\n",
      "Retrieved monkey_information\n",
      "The number of points that were removed due to delta_position exceeding the ceiling is 0\n",
      "Warning: new_seg_duration 1.0 is not a multiple of bin_width 0.1\n",
      "new_seg_duration is now 1.0, and post_event_window is now 0.75\n",
      "Loaded new_seg_info from all_monkey_data/planning_and_neural/monkey_Bruno/data_0307/new_seg_info/tlim2_cur_first_pre0p25_post0p75.csv\n",
      "Dropped 30 columns due to containing NA in rebinned_y_var via calling drop_na_cols function: ['nxt_opt_arc_curv', 'cur_cntr_arc_curv', 'nxt_cntr_arc_curv', 'cur_opt_arc_curv', 'cur_opt_arc_end_heading', 'cur_cntr_arc_end_heading', 'angle_opt_cur_end_to_nxt_ff', 'angle_cntr_cur_end_to_nxt_ff', 'abs_angle_opt_arc_from_cur_end_to_nxt', 'abs_angle_cntr_arc_from_cur_end_to_nxt', 'time_since_target_last_seen', 'monkey_x_target_cluster_last_seen', 'target_last_seen_distance', 'target_cluster_last_seen_distance', 'monkey_y_target_cluster_last_seen', 'monkey_y_target_last_seen', 'cum_distance_when_target_last_seen', 'monkey_angle_target_cluster_last_seen', 'target_cluster_last_seen_time', 'target_cluster_last_seen_angle_to_boundary', 'monkey_angle_target_last_seen', 'monkey_x_target_last_seen', 'time_target_last_seen', 'd_heading_since_target_last_seen', 'cum_distance_since_target_last_seen', 'distance_from_monkey_pos_target_last_seen', 'target_cluster_last_seen_angle', 'cum_distance_target_cluster_last_seen', 'target_last_seen_angle', 'target_last_seen_angle_to_boundary']\n",
      "Warning: ff_closest_stop_time_sorted has 3 points out of 1240 points that are significantly larger than ff_caught_T_sorted, which is 0.24% of the points. Max value of closest_time - capture time is 0.3817079999998896. They are replaced with the original ff_caught_T in ff_caught_T_new.\n",
      "Warning: ff_closest_stop_time_sorted has 75 points where monkey is outside of 1240 points that are outside of the reward boundary, which is 6.05% of the points. They are replaced with the original ff_caught_T in ff_caught_T_new.\n",
      "Warning: ff_caught_T_new is not monotonically increasing. Will make it monotonically increasing.\n",
      "Note: ff_caught_T_sorted is replaced with ff_caught_T_new\n",
      "\n",
      "No NA values found in concat_neural_trials\n",
      "\n",
      "No NA values found in concat_behav_trials\n"
     ]
    },
    {
     "name": "stderr",
     "output_type": "stream",
     "text": [
      "INFO:root:Fold 1 | Train segments: 269 | Test segments: 68\n"
     ]
    },
    {
     "name": "stdout",
     "output_type": "stream",
     "text": [
      "\n",
      "No NA values found in concat_neural_trials\n",
      "\n",
      "No NA values found in concat_behav_trials\n",
      "File all_monkey_data/planning_and_neural/monkey_Bruno/data_0307/event_aligned/time_resolved_cv_scores_gpfa/scores_b0p1_t2_cur_first_p0p25_po0p75_d7_cv5.csv does not exist. Recomputing...\n",
      "Initializing parameters using factor analysis...\n",
      "\n",
      "Fitting GPFA model...\n"
     ]
    },
    {
     "name": "stderr",
     "output_type": "stream",
     "text": [
      "INFO:root:Fold 2 | Train segments: 269 | Test segments: 68\n"
     ]
    },
    {
     "name": "stdout",
     "output_type": "stream",
     "text": [
      "Initializing parameters using factor analysis...\n",
      "\n",
      "Fitting GPFA model...\n"
     ]
    },
    {
     "name": "stderr",
     "output_type": "stream",
     "text": [
      "INFO:root:Fold 3 | Train segments: 270 | Test segments: 67\n"
     ]
    },
    {
     "name": "stdout",
     "output_type": "stream",
     "text": [
      "Initializing parameters using factor analysis...\n",
      "\n",
      "Fitting GPFA model...\n"
     ]
    },
    {
     "name": "stderr",
     "output_type": "stream",
     "text": [
      "INFO:root:Fold 4 | Train segments: 270 | Test segments: 67\n"
     ]
    },
    {
     "name": "stdout",
     "output_type": "stream",
     "text": [
      "Initializing parameters using factor analysis...\n",
      "\n",
      "Fitting GPFA model...\n"
     ]
    },
    {
     "name": "stderr",
     "output_type": "stream",
     "text": [
      "INFO:root:Fold 5 | Train segments: 270 | Test segments: 67\n"
     ]
    },
    {
     "name": "stdout",
     "output_type": "stream",
     "text": [
      "Initializing parameters using factor analysis...\n",
      "\n",
      "Fitting GPFA model...\n",
      "Saved time_resolved_cv_scores_gpfa to all_monkey_data/planning_and_neural/monkey_Bruno/data_0307/event_aligned/time_resolved_cv_scores_gpfa/scores_b0p1_t2_cur_first_p0p25_po0p75_d7_cv5.csv\n",
      "Loaded GPFA trajectories from all_monkey_data/planning_and_neural/monkey_Bruno/data_0307/event_aligned/gpfa_trajectories/gpfa_neural_bin0p1_cur_first.pkl\n",
      "\n",
      "No NA values found in concat_neural_trials\n",
      "\n",
      "No NA values found in concat_behav_trials\n",
      "File all_monkey_data/planning_and_neural/monkey_Bruno/data_0307/event_aligned/time_resolved_cv_scores/precomputed_gpfa/scores_b0p1_t2_cur_first_p0p25_po0p75_d7_cv5.csv does not exist. Recomputing...\n"
     ]
    },
    {
     "name": "stderr",
     "output_type": "stream",
     "text": [
      "Timepoints: 100%|██████████| 10/10 [00:05<00:00,  1.69it/s]\n"
     ]
    },
    {
     "name": "stdout",
     "output_type": "stream",
     "text": [
      "Saved time_resolved_cv_scores to all_monkey_data/planning_and_neural/monkey_Bruno/data_0307/event_aligned/time_resolved_cv_scores/precomputed_gpfa/scores_b0p1_t2_cur_first_p0p25_po0p75_d7_cv5.csv\n",
      "====================================================================================================\n",
      "all_monkey_data/raw_monkey_data/monkey_Bruno/data_0308\n",
      "Loaded binned_spikes_df from all_monkey_data/processed_neural_data/monkey_Bruno/data_0308/binned_spikes_df_0p1.csv\n",
      "Retrieved monkey_information\n",
      "The number of points that were removed due to delta_position exceeding the ceiling is 0\n",
      "Warning: ff_closest_stop_time_sorted has 4 points out of 1203 points that are significantly larger than ff_caught_T_sorted, which is 0.33% of the points. Max value of closest_time - capture time is 0.4685400000003028. They are replaced with the original ff_caught_T in ff_caught_T_new.\n",
      "Warning: ff_closest_stop_time_sorted has 43 points where monkey is outside of 1203 points that are outside of the reward boundary, which is 3.57% of the points. They are replaced with the original ff_caught_T in ff_caught_T_new.\n",
      "Warning: ff_caught_T_new is not monotonically increasing. Will make it monotonically increasing.\n",
      "Note: ff_caught_T_sorted is replaced with ff_caught_T_new\n",
      "Removed 0 rows out of 724 rows where cur_ff was not visible bbas or nxt_ff was not visible both bbas and bsans\n",
      "shared_stops_near_ff_df has 724 rows\n",
      "Retrieving shared_stops_near_ff_df succeeded\n",
      "[Note] When calling modify_position_of_ff_with_big_angle_for_finding_null_arc, Even with `remove_i_o_modify_rows_with_big_ff_angles=True`, some rows may still be removed (e.g., negative ff_y_relative). Use this function mainly for curvature calculation.\n",
      "[Warning] 0.242% of ff_y_relative values are negative and will be removed.\n",
      "[Warning] 6.295% of ff_x_relative > ff_y_relative. Will be modified instead.\n",
      "[Note] When calling modify_position_of_ff_with_big_angle_for_finding_null_arc, Even with `remove_i_o_modify_rows_with_big_ff_angles=True`, some rows may still be removed (e.g., negative ff_y_relative). Use this function mainly for curvature calculation.\n",
      "Warning: 3 arc out of 399 arcs where ff is to the left of the monkey has an angle larger than 90 degrees. The max is 90.00000056504322. We will adjust them by making them a little less than 90.\n",
      "Retrieving cur_vis_0_1_window_-50cm_0cm from all_monkey_data/planning/monkey_Bruno/data_0308/diff_in_curv_df/opt_arc_stop_closest/test/cur_vis_0_1_window_-50cm_0cm succeeded\n",
      "Failed to retrieve heading_info_df because of [Errno 2] No such file or directory: 'all_monkey_data/planning/monkey_Bruno/data_0308/heading_info_df/opt_arc_stop_closest/test/cur_vis_0_1'; will make new heading_info_df\n",
      "Stored new heading_info_df (Bruno_cur_vis_0_1) (399 rows) in all_monkey_data/planning/monkey_Bruno/data_0308/heading_info_df/opt_arc_stop_closest/test/Bruno_cur_vis_0_1\n",
      "Retrieving cur_vis_0_1_window_-50cm_0cm from all_monkey_data/planning/monkey_Bruno/data_0308/diff_in_curv_df/opt_arc_stop_closest/test/cur_vis_0_1_window_-50cm_0cm succeeded\n",
      "Need to make a new heading_info_df so that no data are dropped because ff_y is negative. No curature info is needed for this temporary heading_info_df.\n",
      "Warnings: At least one ff has a lower bound of ff_angle_boundary equal to its upper bound after clipping, meaning that the ff's angle to boundary is greater than 90 degrees. Please check the input.\n",
      "Warning: 58 arc out of 45072 arcs where ff is to the left of the monkey has an angle larger than 90 degrees. The max is 94.17292884848511. We will adjust them by making them a little less than 90.\n",
      "At least one arc end is outside the reward boundary. This is invalid. Please check the input.\n",
      "====================================================================================================\n",
      "all_monkey_data/raw_monkey_data/monkey_Bruno/data_0309\n",
      "Loaded binned_spikes_df from all_monkey_data/processed_neural_data/monkey_Bruno/data_0309/binned_spikes_df_0p1.csv\n",
      "Loaded planning_data_by_point from all_monkey_data/planning_and_neural/monkey_Bruno/data_0309/planning_data_by_point/opt_arc_stop_closest/test/cur_vis_0_1_window_-50cm_0cm\n",
      "Loaded planning_data_by_point from all_monkey_data/planning_and_neural/monkey_Bruno/data_0309/planning_data_by_point/opt_arc_stop_closest/control/cur_vis_0_1_window_-50cm_0cm\n",
      "Loaded behav_data_by_bin from all_monkey_data/target_decoder/monkey_Bruno/data_0309/behav_data_by_point.csv\n",
      "Retrieved monkey_information\n",
      "The number of points that were removed due to delta_position exceeding the ceiling is 0\n",
      "Warning: new_seg_duration 1.0 is not a multiple of bin_width 0.1\n",
      "new_seg_duration is now 1.0, and post_event_window is now 0.75\n",
      "Loaded new_seg_info from all_monkey_data/planning_and_neural/monkey_Bruno/data_0309/new_seg_info/tlim2_cur_first_pre0p25_post0p75.csv\n",
      "Dropped 30 columns due to containing NA in rebinned_y_var via calling drop_na_cols function: ['nxt_opt_arc_curv', 'cur_cntr_arc_curv', 'nxt_cntr_arc_curv', 'cur_opt_arc_curv', 'cur_opt_arc_end_heading', 'cur_cntr_arc_end_heading', 'angle_opt_cur_end_to_nxt_ff', 'angle_cntr_cur_end_to_nxt_ff', 'abs_angle_opt_arc_from_cur_end_to_nxt', 'abs_angle_cntr_arc_from_cur_end_to_nxt', 'time_since_target_last_seen', 'monkey_x_target_cluster_last_seen', 'target_last_seen_distance', 'target_cluster_last_seen_distance', 'monkey_y_target_cluster_last_seen', 'monkey_y_target_last_seen', 'cum_distance_when_target_last_seen', 'monkey_angle_target_cluster_last_seen', 'target_cluster_last_seen_time', 'target_cluster_last_seen_angle_to_boundary', 'monkey_angle_target_last_seen', 'monkey_x_target_last_seen', 'time_target_last_seen', 'd_heading_since_target_last_seen', 'cum_distance_since_target_last_seen', 'distance_from_monkey_pos_target_last_seen', 'target_cluster_last_seen_angle', 'cum_distance_target_cluster_last_seen', 'target_last_seen_angle', 'target_last_seen_angle_to_boundary']\n",
      "Warning: ff_closest_stop_time_sorted has 35 points where monkey is outside of 973 points that are outside of the reward boundary, which is 3.60% of the points. They are replaced with the original ff_caught_T in ff_caught_T_new.\n",
      "Warning: ff_caught_T_new is not monotonically increasing. Will make it monotonically increasing.\n",
      "Note: ff_caught_T_sorted is replaced with ff_caught_T_new\n",
      "\n",
      "No NA values found in concat_neural_trials\n",
      "\n",
      "No NA values found in concat_behav_trials\n"
     ]
    },
    {
     "name": "stderr",
     "output_type": "stream",
     "text": [
      "INFO:root:Fold 1 | Train segments: 237 | Test segments: 60\n"
     ]
    },
    {
     "name": "stdout",
     "output_type": "stream",
     "text": [
      "\n",
      "No NA values found in concat_neural_trials\n",
      "\n",
      "No NA values found in concat_behav_trials\n",
      "File all_monkey_data/planning_and_neural/monkey_Bruno/data_0309/event_aligned/time_resolved_cv_scores_gpfa/scores_b0p1_t2_cur_first_p0p25_po0p75_d7_cv5.csv does not exist. Recomputing...\n",
      "Initializing parameters using factor analysis...\n",
      "\n",
      "Fitting GPFA model...\n"
     ]
    },
    {
     "name": "stderr",
     "output_type": "stream",
     "text": [
      "INFO:root:Fold 2 | Train segments: 237 | Test segments: 60\n"
     ]
    },
    {
     "name": "stdout",
     "output_type": "stream",
     "text": [
      "Initializing parameters using factor analysis...\n",
      "\n",
      "Fitting GPFA model...\n"
     ]
    },
    {
     "name": "stderr",
     "output_type": "stream",
     "text": [
      "INFO:root:Fold 3 | Train segments: 238 | Test segments: 59\n"
     ]
    },
    {
     "name": "stdout",
     "output_type": "stream",
     "text": [
      "Initializing parameters using factor analysis...\n",
      "\n",
      "Fitting GPFA model...\n"
     ]
    },
    {
     "name": "stderr",
     "output_type": "stream",
     "text": [
      "INFO:root:Fold 4 | Train segments: 238 | Test segments: 59\n"
     ]
    },
    {
     "name": "stdout",
     "output_type": "stream",
     "text": [
      "Initializing parameters using factor analysis...\n",
      "\n",
      "Fitting GPFA model...\n"
     ]
    },
    {
     "name": "stderr",
     "output_type": "stream",
     "text": [
      "INFO:root:Fold 5 | Train segments: 238 | Test segments: 59\n"
     ]
    },
    {
     "name": "stdout",
     "output_type": "stream",
     "text": [
      "Initializing parameters using factor analysis...\n",
      "\n",
      "Fitting GPFA model...\n",
      "Saved time_resolved_cv_scores_gpfa to all_monkey_data/planning_and_neural/monkey_Bruno/data_0309/event_aligned/time_resolved_cv_scores_gpfa/scores_b0p1_t2_cur_first_p0p25_po0p75_d7_cv5.csv\n",
      "Loaded GPFA trajectories from all_monkey_data/planning_and_neural/monkey_Bruno/data_0309/event_aligned/gpfa_trajectories/gpfa_neural_bin0p1_cur_first.pkl\n",
      "\n",
      "No NA values found in concat_neural_trials\n",
      "\n",
      "No NA values found in concat_behav_trials\n",
      "File all_monkey_data/planning_and_neural/monkey_Bruno/data_0309/event_aligned/time_resolved_cv_scores/precomputed_gpfa/scores_b0p1_t2_cur_first_p0p25_po0p75_d7_cv5.csv does not exist. Recomputing...\n"
     ]
    },
    {
     "name": "stderr",
     "output_type": "stream",
     "text": [
      "Timepoints: 100%|██████████| 10/10 [00:11<00:00,  1.13s/it]\n"
     ]
    },
    {
     "name": "stdout",
     "output_type": "stream",
     "text": [
      "Saved time_resolved_cv_scores to all_monkey_data/planning_and_neural/monkey_Bruno/data_0309/event_aligned/time_resolved_cv_scores/precomputed_gpfa/scores_b0p1_t2_cur_first_p0p25_po0p75_d7_cv5.csv\n",
      "====================================================================================================\n",
      "all_monkey_data/raw_monkey_data/monkey_Bruno/data_0312\n",
      "Loaded binned_spikes_df from all_monkey_data/processed_neural_data/monkey_Bruno/data_0312/binned_spikes_df_0p1.csv\n",
      "Loaded planning_data_by_point from all_monkey_data/planning_and_neural/monkey_Bruno/data_0312/planning_data_by_point/opt_arc_stop_closest/test/cur_vis_0_1_window_-50cm_0cm\n",
      "Loaded planning_data_by_point from all_monkey_data/planning_and_neural/monkey_Bruno/data_0312/planning_data_by_point/opt_arc_stop_closest/control/cur_vis_0_1_window_-50cm_0cm\n",
      "Loaded behav_data_by_bin from all_monkey_data/target_decoder/monkey_Bruno/data_0312/behav_data_by_point.csv\n",
      "Retrieved monkey_information\n",
      "The number of points that were removed due to delta_position exceeding the ceiling is 0\n",
      "There are 1 duplicated point_index in bin_info. Note: one_point_index_per_bin is False\n",
      "Warning: new_seg_duration 1.0 is not a multiple of bin_width 0.1\n",
      "new_seg_duration is now 1.0, and post_event_window is now 0.75\n",
      "Loaded new_seg_info from all_monkey_data/planning_and_neural/monkey_Bruno/data_0312/new_seg_info/tlim2_cur_first_pre0p25_post0p75.csv\n",
      "Dropped 30 columns due to containing NA in rebinned_y_var via calling drop_na_cols function: ['nxt_cntr_arc_curv', 'cur_opt_arc_curv', 'nxt_opt_arc_curv', 'cur_cntr_arc_curv', 'cur_opt_arc_end_heading', 'cur_cntr_arc_end_heading', 'angle_opt_cur_end_to_nxt_ff', 'angle_cntr_cur_end_to_nxt_ff', 'abs_angle_opt_arc_from_cur_end_to_nxt', 'abs_angle_cntr_arc_from_cur_end_to_nxt', 'time_since_target_last_seen', 'monkey_x_target_cluster_last_seen', 'target_last_seen_distance', 'target_cluster_last_seen_distance', 'monkey_y_target_cluster_last_seen', 'monkey_y_target_last_seen', 'cum_distance_when_target_last_seen', 'monkey_angle_target_cluster_last_seen', 'target_cluster_last_seen_time', 'target_cluster_last_seen_angle_to_boundary', 'monkey_angle_target_last_seen', 'monkey_x_target_last_seen', 'time_target_last_seen', 'd_heading_since_target_last_seen', 'cum_distance_since_target_last_seen', 'distance_from_monkey_pos_target_last_seen', 'target_cluster_last_seen_angle', 'cum_distance_target_cluster_last_seen', 'target_last_seen_angle', 'target_last_seen_angle_to_boundary']\n",
      "Warning: ff_closest_stop_time_sorted has 1 points out of 819 points that are significantly larger than ff_caught_T_sorted, which is 0.12% of the points. Max value of closest_time - capture time is 0.3817189999999755. They are replaced with the original ff_caught_T in ff_caught_T_new.\n",
      "Warning: ff_closest_stop_time_sorted has 35 points where monkey is outside of 819 points that are outside of the reward boundary, which is 4.27% of the points. They are replaced with the original ff_caught_T in ff_caught_T_new.\n",
      "Warning: ff_caught_T_new is not monotonically increasing. Will make it monotonically increasing.\n",
      "Note: ff_caught_T_sorted is replaced with ff_caught_T_new\n",
      "\n",
      "No NA values found in concat_neural_trials\n",
      "\n",
      "No NA values found in concat_behav_trials\n"
     ]
    },
    {
     "name": "stderr",
     "output_type": "stream",
     "text": [
      "INFO:root:Fold 1 | Train segments: 173 | Test segments: 44\n"
     ]
    },
    {
     "name": "stdout",
     "output_type": "stream",
     "text": [
      "\n",
      "No NA values found in concat_neural_trials\n",
      "\n",
      "No NA values found in concat_behav_trials\n",
      "File all_monkey_data/planning_and_neural/monkey_Bruno/data_0312/event_aligned/time_resolved_cv_scores_gpfa/scores_b0p1_t2_cur_first_p0p25_po0p75_d7_cv5.csv does not exist. Recomputing...\n",
      "Initializing parameters using factor analysis...\n",
      "\n",
      "Fitting GPFA model...\n"
     ]
    },
    {
     "name": "stderr",
     "output_type": "stream",
     "text": [
      "INFO:root:Fold 2 | Train segments: 173 | Test segments: 44\n"
     ]
    },
    {
     "name": "stdout",
     "output_type": "stream",
     "text": [
      "Initializing parameters using factor analysis...\n",
      "\n",
      "Fitting GPFA model...\n"
     ]
    },
    {
     "name": "stderr",
     "output_type": "stream",
     "text": [
      "INFO:root:Fold 3 | Train segments: 174 | Test segments: 43\n"
     ]
    },
    {
     "name": "stdout",
     "output_type": "stream",
     "text": [
      "Initializing parameters using factor analysis...\n",
      "\n",
      "Fitting GPFA model...\n"
     ]
    },
    {
     "name": "stderr",
     "output_type": "stream",
     "text": [
      "INFO:root:Fold 4 | Train segments: 174 | Test segments: 43\n"
     ]
    },
    {
     "name": "stdout",
     "output_type": "stream",
     "text": [
      "Initializing parameters using factor analysis...\n",
      "\n",
      "Fitting GPFA model...\n"
     ]
    },
    {
     "name": "stderr",
     "output_type": "stream",
     "text": [
      "INFO:root:Fold 5 | Train segments: 174 | Test segments: 43\n"
     ]
    },
    {
     "name": "stdout",
     "output_type": "stream",
     "text": [
      "Initializing parameters using factor analysis...\n",
      "\n",
      "Fitting GPFA model...\n",
      "Saved time_resolved_cv_scores_gpfa to all_monkey_data/planning_and_neural/monkey_Bruno/data_0312/event_aligned/time_resolved_cv_scores_gpfa/scores_b0p1_t2_cur_first_p0p25_po0p75_d7_cv5.csv\n",
      "Loaded GPFA trajectories from all_monkey_data/planning_and_neural/monkey_Bruno/data_0312/event_aligned/gpfa_trajectories/gpfa_neural_bin0p1_cur_first.pkl\n",
      "\n",
      "No NA values found in concat_neural_trials\n",
      "\n",
      "No NA values found in concat_behav_trials\n",
      "File all_monkey_data/planning_and_neural/monkey_Bruno/data_0312/event_aligned/time_resolved_cv_scores/precomputed_gpfa/scores_b0p1_t2_cur_first_p0p25_po0p75_d7_cv5.csv does not exist. Recomputing...\n"
     ]
    },
    {
     "name": "stderr",
     "output_type": "stream",
     "text": [
      "Timepoints: 100%|██████████| 10/10 [00:05<00:00,  1.74it/s]\n"
     ]
    },
    {
     "name": "stdout",
     "output_type": "stream",
     "text": [
      "Saved time_resolved_cv_scores to all_monkey_data/planning_and_neural/monkey_Bruno/data_0312/event_aligned/time_resolved_cv_scores/precomputed_gpfa/scores_b0p1_t2_cur_first_p0p25_po0p75_d7_cv5.csv\n",
      "====================================================================================================\n",
      "all_monkey_data/raw_monkey_data/monkey_Bruno/data_0314\n",
      "Loaded binned_spikes_df from all_monkey_data/processed_neural_data/monkey_Bruno/data_0314/binned_spikes_df_0p1.csv\n",
      "Loaded planning_data_by_point from all_monkey_data/planning_and_neural/monkey_Bruno/data_0314/planning_data_by_point/opt_arc_stop_closest/test/cur_vis_0_1_window_-50cm_0cm\n",
      "Loaded planning_data_by_point from all_monkey_data/planning_and_neural/monkey_Bruno/data_0314/planning_data_by_point/opt_arc_stop_closest/control/cur_vis_0_1_window_-50cm_0cm\n",
      "Loaded behav_data_by_bin from all_monkey_data/target_decoder/monkey_Bruno/data_0314/behav_data_by_point.csv\n",
      "Retrieved monkey_information\n",
      "The number of points that were removed due to delta_position exceeding the ceiling is 0\n",
      "Warning: new_seg_duration 1.0 is not a multiple of bin_width 0.1\n",
      "new_seg_duration is now 1.0, and post_event_window is now 0.75\n",
      "Loaded new_seg_info from all_monkey_data/planning_and_neural/monkey_Bruno/data_0314/new_seg_info/tlim2_cur_first_pre0p25_post0p75.csv\n",
      "Dropped 30 columns due to containing NA in rebinned_y_var via calling drop_na_cols function: ['nxt_opt_arc_curv', 'cur_cntr_arc_curv', 'nxt_cntr_arc_curv', 'cur_opt_arc_curv', 'cur_opt_arc_end_heading', 'cur_cntr_arc_end_heading', 'angle_opt_cur_end_to_nxt_ff', 'angle_cntr_cur_end_to_nxt_ff', 'abs_angle_opt_arc_from_cur_end_to_nxt', 'abs_angle_cntr_arc_from_cur_end_to_nxt', 'time_since_target_last_seen', 'monkey_x_target_cluster_last_seen', 'target_last_seen_distance', 'target_cluster_last_seen_distance', 'monkey_y_target_cluster_last_seen', 'monkey_y_target_last_seen', 'cum_distance_when_target_last_seen', 'monkey_angle_target_cluster_last_seen', 'target_cluster_last_seen_time', 'target_cluster_last_seen_angle_to_boundary', 'monkey_angle_target_last_seen', 'monkey_x_target_last_seen', 'time_target_last_seen', 'd_heading_since_target_last_seen', 'cum_distance_since_target_last_seen', 'distance_from_monkey_pos_target_last_seen', 'target_cluster_last_seen_angle', 'cum_distance_target_cluster_last_seen', 'target_last_seen_angle', 'target_last_seen_angle_to_boundary']\n",
      "Warning: ff_closest_stop_time_sorted has 3 points out of 953 points that are significantly larger than ff_caught_T_sorted, which is 0.31% of the points. Max value of closest_time - capture time is 0.43155000000001564. They are replaced with the original ff_caught_T in ff_caught_T_new.\n",
      "Warning: ff_closest_stop_time_sorted has 38 points where monkey is outside of 953 points that are outside of the reward boundary, which is 3.99% of the points. They are replaced with the original ff_caught_T in ff_caught_T_new.\n",
      "Note: ff_caught_T_sorted is replaced with ff_caught_T_new\n",
      "\n",
      "No NA values found in concat_neural_trials\n",
      "\n",
      "No NA values found in concat_behav_trials\n"
     ]
    },
    {
     "name": "stderr",
     "output_type": "stream",
     "text": [
      "INFO:root:Fold 1 | Train segments: 249 | Test segments: 63\n",
      "[2025-08-05 13:29:27,283] utils - WARNING: Correcting 1 rounding errors by shifting the affected spikes into the following bin. You can set tolerance=None to disable this behaviour.\n"
     ]
    },
    {
     "name": "stdout",
     "output_type": "stream",
     "text": [
      "\n",
      "No NA values found in concat_neural_trials\n",
      "\n",
      "No NA values found in concat_behav_trials\n",
      "File all_monkey_data/planning_and_neural/monkey_Bruno/data_0314/event_aligned/time_resolved_cv_scores_gpfa/scores_b0p1_t2_cur_first_p0p25_po0p75_d7_cv5.csv does not exist. Recomputing...\n",
      "Initializing parameters using factor analysis...\n",
      "\n",
      "Fitting GPFA model...\n"
     ]
    },
    {
     "name": "stderr",
     "output_type": "stream",
     "text": [
      "[2025-08-05 13:29:55,511] utils - WARNING: Correcting 1 rounding errors by shifting the affected spikes into the following bin. You can set tolerance=None to disable this behaviour.\n",
      "INFO:root:Fold 2 | Train segments: 249 | Test segments: 63\n",
      "[2025-08-05 13:30:08,304] utils - WARNING: Correcting 1 rounding errors by shifting the affected spikes into the following bin. You can set tolerance=None to disable this behaviour.\n"
     ]
    },
    {
     "name": "stdout",
     "output_type": "stream",
     "text": [
      "Initializing parameters using factor analysis...\n",
      "\n",
      "Fitting GPFA model...\n"
     ]
    },
    {
     "name": "stderr",
     "output_type": "stream",
     "text": [
      "[2025-08-05 13:31:29,847] utils - WARNING: Correcting 1 rounding errors by shifting the affected spikes into the following bin. You can set tolerance=None to disable this behaviour.\n",
      "INFO:root:Fold 3 | Train segments: 250 | Test segments: 62\n"
     ]
    },
    {
     "name": "stdout",
     "output_type": "stream",
     "text": [
      "Initializing parameters using factor analysis...\n",
      "\n",
      "Fitting GPFA model...\n"
     ]
    },
    {
     "name": "stderr",
     "output_type": "stream",
     "text": [
      "[2025-08-05 13:32:33,730] utils - WARNING: Correcting 1 rounding errors by shifting the affected spikes into the following bin. You can set tolerance=None to disable this behaviour.\n",
      "INFO:root:Fold 4 | Train segments: 250 | Test segments: 62\n",
      "[2025-08-05 13:32:43,524] utils - WARNING: Correcting 1 rounding errors by shifting the affected spikes into the following bin. You can set tolerance=None to disable this behaviour.\n"
     ]
    },
    {
     "name": "stdout",
     "output_type": "stream",
     "text": [
      "Initializing parameters using factor analysis...\n",
      "\n",
      "Fitting GPFA model...\n"
     ]
    },
    {
     "name": "stderr",
     "output_type": "stream",
     "text": [
      "[2025-08-05 13:33:07,155] utils - WARNING: Correcting 1 rounding errors by shifting the affected spikes into the following bin. You can set tolerance=None to disable this behaviour.\n",
      "INFO:root:Fold 5 | Train segments: 250 | Test segments: 62\n",
      "[2025-08-05 13:33:19,407] utils - WARNING: Correcting 1 rounding errors by shifting the affected spikes into the following bin. You can set tolerance=None to disable this behaviour.\n"
     ]
    },
    {
     "name": "stdout",
     "output_type": "stream",
     "text": [
      "Initializing parameters using factor analysis...\n",
      "\n",
      "Fitting GPFA model...\n"
     ]
    },
    {
     "name": "stderr",
     "output_type": "stream",
     "text": [
      "[2025-08-05 13:33:44,833] utils - WARNING: Correcting 1 rounding errors by shifting the affected spikes into the following bin. You can set tolerance=None to disable this behaviour.\n"
     ]
    },
    {
     "name": "stdout",
     "output_type": "stream",
     "text": [
      "Saved time_resolved_cv_scores_gpfa to all_monkey_data/planning_and_neural/monkey_Bruno/data_0314/event_aligned/time_resolved_cv_scores_gpfa/scores_b0p1_t2_cur_first_p0p25_po0p75_d7_cv5.csv\n",
      "Loaded GPFA trajectories from all_monkey_data/planning_and_neural/monkey_Bruno/data_0314/event_aligned/gpfa_trajectories/gpfa_neural_bin0p1_cur_first.pkl\n",
      "\n",
      "No NA values found in concat_neural_trials\n",
      "\n",
      "No NA values found in concat_behav_trials\n",
      "File all_monkey_data/planning_and_neural/monkey_Bruno/data_0314/event_aligned/time_resolved_cv_scores/precomputed_gpfa/scores_b0p1_t2_cur_first_p0p25_po0p75_d7_cv5.csv does not exist. Recomputing...\n"
     ]
    },
    {
     "name": "stderr",
     "output_type": "stream",
     "text": [
      "Timepoints: 100%|██████████| 10/10 [00:05<00:00,  1.75it/s]\n"
     ]
    },
    {
     "name": "stdout",
     "output_type": "stream",
     "text": [
      "Saved time_resolved_cv_scores to all_monkey_data/planning_and_neural/monkey_Bruno/data_0314/event_aligned/time_resolved_cv_scores/precomputed_gpfa/scores_b0p1_t2_cur_first_p0p25_po0p75_d7_cv5.csv\n",
      "====================================================================================================\n",
      "all_monkey_data/raw_monkey_data/monkey_Bruno/data_0315\n",
      "Loaded binned_spikes_df from all_monkey_data/processed_neural_data/monkey_Bruno/data_0315/binned_spikes_df_0p1.csv\n",
      "Loaded planning_data_by_point from all_monkey_data/planning_and_neural/monkey_Bruno/data_0315/planning_data_by_point/opt_arc_stop_closest/test/cur_vis_0_1_window_-50cm_0cm\n",
      "Loaded planning_data_by_point from all_monkey_data/planning_and_neural/monkey_Bruno/data_0315/planning_data_by_point/opt_arc_stop_closest/control/cur_vis_0_1_window_-50cm_0cm\n",
      "Loaded behav_data_by_bin from all_monkey_data/target_decoder/monkey_Bruno/data_0315/behav_data_by_point.csv\n",
      "Retrieved monkey_information\n",
      "The number of points that were removed due to delta_position exceeding the ceiling is 0\n",
      "Warning: new_seg_duration 1.0 is not a multiple of bin_width 0.1\n",
      "new_seg_duration is now 1.0, and post_event_window is now 0.75\n",
      "Loaded new_seg_info from all_monkey_data/planning_and_neural/monkey_Bruno/data_0315/new_seg_info/tlim2_cur_first_pre0p25_post0p75.csv\n",
      "Dropped 30 columns due to containing NA in rebinned_y_var via calling drop_na_cols function: ['nxt_opt_arc_curv', 'cur_cntr_arc_curv', 'nxt_cntr_arc_curv', 'cur_opt_arc_curv', 'cur_opt_arc_end_heading', 'cur_cntr_arc_end_heading', 'angle_opt_cur_end_to_nxt_ff', 'angle_cntr_cur_end_to_nxt_ff', 'abs_angle_opt_arc_from_cur_end_to_nxt', 'abs_angle_cntr_arc_from_cur_end_to_nxt', 'time_since_target_last_seen', 'monkey_x_target_cluster_last_seen', 'target_last_seen_distance', 'target_cluster_last_seen_distance', 'monkey_y_target_cluster_last_seen', 'monkey_y_target_last_seen', 'cum_distance_when_target_last_seen', 'monkey_angle_target_cluster_last_seen', 'target_cluster_last_seen_time', 'target_cluster_last_seen_angle_to_boundary', 'monkey_angle_target_last_seen', 'monkey_x_target_last_seen', 'time_target_last_seen', 'd_heading_since_target_last_seen', 'cum_distance_since_target_last_seen', 'distance_from_monkey_pos_target_last_seen', 'target_cluster_last_seen_angle', 'cum_distance_target_cluster_last_seen', 'target_last_seen_angle', 'target_last_seen_angle_to_boundary']\n",
      "Warning: ff_closest_stop_time_sorted has 1 points out of 929 points that are significantly larger than ff_caught_T_sorted, which is 0.11% of the points. Max value of closest_time - capture time is 0.39833100000009836. They are replaced with the original ff_caught_T in ff_caught_T_new.\n",
      "Warning: ff_closest_stop_time_sorted has 35 points where monkey is outside of 929 points that are outside of the reward boundary, which is 3.77% of the points. They are replaced with the original ff_caught_T in ff_caught_T_new.\n",
      "Warning: ff_caught_T_new is not monotonically increasing. Will make it monotonically increasing.\n",
      "Note: ff_caught_T_sorted is replaced with ff_caught_T_new\n"
     ]
    },
    {
     "name": "stderr",
     "output_type": "stream",
     "text": [
      "INFO:root:Fold 1 | Train segments: 220 | Test segments: 55\n"
     ]
    },
    {
     "name": "stdout",
     "output_type": "stream",
     "text": [
      "\n",
      "No NA values found in concat_neural_trials\n",
      "\n",
      "No NA values found in concat_behav_trials\n",
      "\n",
      "No NA values found in concat_neural_trials\n",
      "\n",
      "No NA values found in concat_behav_trials\n",
      "File all_monkey_data/planning_and_neural/monkey_Bruno/data_0315/event_aligned/time_resolved_cv_scores_gpfa/scores_b0p1_t2_cur_first_p0p25_po0p75_d7_cv5.csv does not exist. Recomputing...\n",
      "Initializing parameters using factor analysis...\n",
      "\n",
      "Fitting GPFA model...\n",
      "index 3 is out of bounds for axis 2 with size 3\n",
      "====================================================================================================\n",
      "all_monkey_data/raw_monkey_data/monkey_Bruno/data_0316\n",
      "Loaded binned_spikes_df from all_monkey_data/processed_neural_data/monkey_Bruno/data_0316/binned_spikes_df_0p1.csv\n",
      "Loaded planning_data_by_point from all_monkey_data/planning_and_neural/monkey_Bruno/data_0316/planning_data_by_point/opt_arc_stop_closest/test/cur_vis_0_1_window_-50cm_0cm\n",
      "Loaded planning_data_by_point from all_monkey_data/planning_and_neural/monkey_Bruno/data_0316/planning_data_by_point/opt_arc_stop_closest/control/cur_vis_0_1_window_-50cm_0cm\n",
      "Loaded behav_data_by_bin from all_monkey_data/target_decoder/monkey_Bruno/data_0316/behav_data_by_point.csv\n",
      "Retrieved monkey_information\n",
      "The number of points that were removed due to delta_position exceeding the ceiling is 0\n",
      "Warning: new_seg_duration 1.0 is not a multiple of bin_width 0.1\n",
      "new_seg_duration is now 1.0, and post_event_window is now 0.75\n",
      "Loaded new_seg_info from all_monkey_data/planning_and_neural/monkey_Bruno/data_0316/new_seg_info/tlim2_cur_first_pre0p25_post0p75.csv\n",
      "Dropped 30 columns due to containing NA in rebinned_y_var via calling drop_na_cols function: ['nxt_cntr_arc_curv', 'nxt_opt_arc_curv', 'cur_cntr_arc_curv', 'cur_opt_arc_curv', 'cur_opt_arc_end_heading', 'cur_cntr_arc_end_heading', 'angle_opt_cur_end_to_nxt_ff', 'angle_cntr_cur_end_to_nxt_ff', 'abs_angle_opt_arc_from_cur_end_to_nxt', 'abs_angle_cntr_arc_from_cur_end_to_nxt', 'time_since_target_last_seen', 'monkey_x_target_cluster_last_seen', 'target_last_seen_distance', 'target_cluster_last_seen_distance', 'monkey_y_target_cluster_last_seen', 'monkey_y_target_last_seen', 'cum_distance_when_target_last_seen', 'monkey_angle_target_cluster_last_seen', 'target_cluster_last_seen_time', 'target_cluster_last_seen_angle_to_boundary', 'monkey_angle_target_last_seen', 'monkey_x_target_last_seen', 'time_target_last_seen', 'd_heading_since_target_last_seen', 'cum_distance_since_target_last_seen', 'distance_from_monkey_pos_target_last_seen', 'target_cluster_last_seen_angle', 'cum_distance_target_cluster_last_seen', 'target_last_seen_angle', 'target_last_seen_angle_to_boundary']\n",
      "Warning: ff_closest_stop_time_sorted has 54 points where monkey is outside of 1327 points that are outside of the reward boundary, which is 4.07% of the points. They are replaced with the original ff_caught_T in ff_caught_T_new.\n",
      "Warning: ff_caught_T_new is not monotonically increasing. Will make it monotonically increasing.\n",
      "Note: ff_caught_T_sorted is replaced with ff_caught_T_new\n",
      "\n",
      "No NA values found in concat_neural_trials\n",
      "\n",
      "No NA values found in concat_behav_trials\n"
     ]
    },
    {
     "name": "stderr",
     "output_type": "stream",
     "text": [
      "INFO:root:Fold 1 | Train segments: 301 | Test segments: 76\n"
     ]
    },
    {
     "name": "stdout",
     "output_type": "stream",
     "text": [
      "\n",
      "No NA values found in concat_neural_trials\n",
      "\n",
      "No NA values found in concat_behav_trials\n",
      "File all_monkey_data/planning_and_neural/monkey_Bruno/data_0316/event_aligned/time_resolved_cv_scores_gpfa/scores_b0p1_t2_cur_first_p0p25_po0p75_d7_cv5.csv does not exist. Recomputing...\n",
      "Initializing parameters using factor analysis...\n",
      "\n",
      "Fitting GPFA model...\n"
     ]
    },
    {
     "name": "stderr",
     "output_type": "stream",
     "text": [
      "INFO:root:Fold 2 | Train segments: 301 | Test segments: 76\n"
     ]
    },
    {
     "name": "stdout",
     "output_type": "stream",
     "text": [
      "Initializing parameters using factor analysis...\n",
      "\n",
      "Fitting GPFA model...\n"
     ]
    },
    {
     "name": "stderr",
     "output_type": "stream",
     "text": [
      "INFO:root:Fold 3 | Train segments: 302 | Test segments: 75\n"
     ]
    },
    {
     "name": "stdout",
     "output_type": "stream",
     "text": [
      "Initializing parameters using factor analysis...\n",
      "\n",
      "Fitting GPFA model...\n"
     ]
    },
    {
     "name": "stderr",
     "output_type": "stream",
     "text": [
      "INFO:root:Fold 4 | Train segments: 302 | Test segments: 75\n"
     ]
    },
    {
     "name": "stdout",
     "output_type": "stream",
     "text": [
      "Initializing parameters using factor analysis...\n",
      "\n",
      "Fitting GPFA model...\n"
     ]
    },
    {
     "name": "stderr",
     "output_type": "stream",
     "text": [
      "INFO:root:Fold 5 | Train segments: 302 | Test segments: 75\n"
     ]
    },
    {
     "name": "stdout",
     "output_type": "stream",
     "text": [
      "Initializing parameters using factor analysis...\n",
      "\n",
      "Fitting GPFA model...\n",
      "Saved time_resolved_cv_scores_gpfa to all_monkey_data/planning_and_neural/monkey_Bruno/data_0316/event_aligned/time_resolved_cv_scores_gpfa/scores_b0p1_t2_cur_first_p0p25_po0p75_d7_cv5.csv\n",
      "Loaded GPFA trajectories from all_monkey_data/planning_and_neural/monkey_Bruno/data_0316/event_aligned/gpfa_trajectories/gpfa_neural_bin0p1_cur_first.pkl\n",
      "\n",
      "No NA values found in concat_neural_trials\n",
      "\n",
      "No NA values found in concat_behav_trials\n",
      "File all_monkey_data/planning_and_neural/monkey_Bruno/data_0316/event_aligned/time_resolved_cv_scores/precomputed_gpfa/scores_b0p1_t2_cur_first_p0p25_po0p75_d7_cv5.csv does not exist. Recomputing...\n"
     ]
    },
    {
     "name": "stderr",
     "output_type": "stream",
     "text": [
      "Timepoints: 100%|██████████| 10/10 [00:06<00:00,  1.65it/s]\n"
     ]
    },
    {
     "name": "stdout",
     "output_type": "stream",
     "text": [
      "Saved time_resolved_cv_scores to all_monkey_data/planning_and_neural/monkey_Bruno/data_0316/event_aligned/time_resolved_cv_scores/precomputed_gpfa/scores_b0p1_t2_cur_first_p0p25_po0p75_d7_cv5.csv\n",
      "====================================================================================================\n",
      "all_monkey_data/raw_monkey_data/monkey_Bruno/data_0321\n",
      "Loaded binned_spikes_df from all_monkey_data/processed_neural_data/monkey_Bruno/data_0321/binned_spikes_df_0p1.csv\n",
      "Loaded planning_data_by_point from all_monkey_data/planning_and_neural/monkey_Bruno/data_0321/planning_data_by_point/opt_arc_stop_closest/test/cur_vis_0_1_window_-50cm_0cm\n",
      "Loaded planning_data_by_point from all_monkey_data/planning_and_neural/monkey_Bruno/data_0321/planning_data_by_point/opt_arc_stop_closest/control/cur_vis_0_1_window_-50cm_0cm\n",
      "Loaded behav_data_by_bin from all_monkey_data/target_decoder/monkey_Bruno/data_0321/behav_data_by_point.csv\n",
      "Retrieved monkey_information\n",
      "The number of points that were removed due to delta_position exceeding the ceiling is 0\n",
      "Warning: new_seg_duration 1.0 is not a multiple of bin_width 0.1\n",
      "new_seg_duration is now 1.0, and post_event_window is now 0.75\n",
      "Loaded new_seg_info from all_monkey_data/planning_and_neural/monkey_Bruno/data_0321/new_seg_info/tlim2_cur_first_pre0p25_post0p75.csv\n",
      "Dropped 30 columns due to containing NA in rebinned_y_var via calling drop_na_cols function: ['nxt_opt_arc_curv', 'cur_cntr_arc_curv', 'nxt_cntr_arc_curv', 'cur_opt_arc_curv', 'cur_opt_arc_end_heading', 'cur_cntr_arc_end_heading', 'angle_opt_cur_end_to_nxt_ff', 'angle_cntr_cur_end_to_nxt_ff', 'abs_angle_opt_arc_from_cur_end_to_nxt', 'abs_angle_cntr_arc_from_cur_end_to_nxt', 'time_since_target_last_seen', 'monkey_x_target_cluster_last_seen', 'target_last_seen_distance', 'target_cluster_last_seen_distance', 'monkey_y_target_cluster_last_seen', 'monkey_y_target_last_seen', 'cum_distance_when_target_last_seen', 'monkey_angle_target_cluster_last_seen', 'target_cluster_last_seen_time', 'target_cluster_last_seen_angle_to_boundary', 'monkey_angle_target_last_seen', 'monkey_x_target_last_seen', 'time_target_last_seen', 'd_heading_since_target_last_seen', 'cum_distance_since_target_last_seen', 'distance_from_monkey_pos_target_last_seen', 'target_cluster_last_seen_angle', 'cum_distance_target_cluster_last_seen', 'target_last_seen_angle', 'target_last_seen_angle_to_boundary']\n",
      "Warning: ff_closest_stop_time_sorted has 73 points where monkey is outside of 1263 points that are outside of the reward boundary, which is 5.78% of the points. They are replaced with the original ff_caught_T in ff_caught_T_new.\n",
      "Warning: ff_caught_T_new is not monotonically increasing. Will make it monotonically increasing.\n",
      "Note: ff_caught_T_sorted is replaced with ff_caught_T_new\n",
      "\n",
      "No NA values found in concat_neural_trials\n",
      "\n",
      "No NA values found in concat_behav_trials\n"
     ]
    },
    {
     "name": "stderr",
     "output_type": "stream",
     "text": [
      "INFO:root:Fold 1 | Train segments: 286 | Test segments: 72\n"
     ]
    },
    {
     "name": "stdout",
     "output_type": "stream",
     "text": [
      "\n",
      "No NA values found in concat_neural_trials\n",
      "\n",
      "No NA values found in concat_behav_trials\n",
      "File all_monkey_data/planning_and_neural/monkey_Bruno/data_0321/event_aligned/time_resolved_cv_scores_gpfa/scores_b0p1_t2_cur_first_p0p25_po0p75_d7_cv5.csv does not exist. Recomputing...\n",
      "Initializing parameters using factor analysis...\n",
      "\n",
      "Fitting GPFA model...\n"
     ]
    },
    {
     "name": "stderr",
     "output_type": "stream",
     "text": [
      "INFO:root:Fold 2 | Train segments: 286 | Test segments: 72\n"
     ]
    },
    {
     "name": "stdout",
     "output_type": "stream",
     "text": [
      "Initializing parameters using factor analysis...\n",
      "\n",
      "Fitting GPFA model...\n"
     ]
    },
    {
     "name": "stderr",
     "output_type": "stream",
     "text": [
      "INFO:root:Fold 3 | Train segments: 286 | Test segments: 72\n"
     ]
    },
    {
     "name": "stdout",
     "output_type": "stream",
     "text": [
      "Initializing parameters using factor analysis...\n",
      "\n",
      "Fitting GPFA model...\n"
     ]
    },
    {
     "name": "stderr",
     "output_type": "stream",
     "text": [
      "INFO:root:Fold 4 | Train segments: 287 | Test segments: 71\n"
     ]
    },
    {
     "name": "stdout",
     "output_type": "stream",
     "text": [
      "Initializing parameters using factor analysis...\n",
      "\n",
      "Fitting GPFA model...\n"
     ]
    },
    {
     "name": "stderr",
     "output_type": "stream",
     "text": [
      "INFO:root:Fold 5 | Train segments: 287 | Test segments: 71\n"
     ]
    },
    {
     "name": "stdout",
     "output_type": "stream",
     "text": [
      "Initializing parameters using factor analysis...\n",
      "\n",
      "Fitting GPFA model...\n",
      "Saved time_resolved_cv_scores_gpfa to all_monkey_data/planning_and_neural/monkey_Bruno/data_0321/event_aligned/time_resolved_cv_scores_gpfa/scores_b0p1_t2_cur_first_p0p25_po0p75_d7_cv5.csv\n",
      "Loaded GPFA trajectories from all_monkey_data/planning_and_neural/monkey_Bruno/data_0321/event_aligned/gpfa_trajectories/gpfa_neural_bin0p1_cur_first.pkl\n",
      "\n",
      "No NA values found in concat_neural_trials\n",
      "\n",
      "No NA values found in concat_behav_trials\n",
      "File all_monkey_data/planning_and_neural/monkey_Bruno/data_0321/event_aligned/time_resolved_cv_scores/precomputed_gpfa/scores_b0p1_t2_cur_first_p0p25_po0p75_d7_cv5.csv does not exist. Recomputing...\n"
     ]
    },
    {
     "name": "stderr",
     "output_type": "stream",
     "text": [
      "Timepoints: 100%|██████████| 10/10 [00:05<00:00,  1.73it/s]\n"
     ]
    },
    {
     "name": "stdout",
     "output_type": "stream",
     "text": [
      "Saved time_resolved_cv_scores to all_monkey_data/planning_and_neural/monkey_Bruno/data_0321/event_aligned/time_resolved_cv_scores/precomputed_gpfa/scores_b0p1_t2_cur_first_p0p25_po0p75_d7_cv5.csv\n",
      "====================================================================================================\n",
      "all_monkey_data/raw_monkey_data/monkey_Bruno/data_0322\n",
      "Retrieved monkey_information\n",
      "The number of points that were removed due to delta_position exceeding the ceiling is 0\n",
      "Warning: ff_closest_stop_time_sorted has 2 points out of 1273 points that are significantly larger than ff_caught_T_sorted, which is 0.16% of the points. Max value of closest_time - capture time is 0.5310530000000142. They are replaced with the original ff_caught_T in ff_caught_T_new.\n",
      "Warning: ff_closest_stop_time_sorted has 61 points where monkey is outside of 1273 points that are outside of the reward boundary, which is 4.79% of the points. They are replaced with the original ff_caught_T in ff_caught_T_new.\n",
      "Note: ff_caught_T_sorted is replaced with ff_caught_T_new\n",
      "Retrieved ff_dataframe from all_monkey_data/processed_data/monkey_Bruno/data_0322/ff_dataframe.h5\n",
      "[Errno 2] No such file or directory: 'all_monkey_data/neural_data/monkey_Bruno/data_0322/Sorted/spike_times.npy'\n",
      "====================================================================================================\n",
      "all_monkey_data/raw_monkey_data/monkey_Bruno/data_0323\n",
      "Loaded binned_spikes_df from all_monkey_data/processed_neural_data/monkey_Bruno/data_0323/binned_spikes_df_0p1.csv\n",
      "Loaded planning_data_by_point from all_monkey_data/planning_and_neural/monkey_Bruno/data_0323/planning_data_by_point/opt_arc_stop_closest/test/cur_vis_0_1_window_-50cm_0cm\n",
      "Loaded planning_data_by_point from all_monkey_data/planning_and_neural/monkey_Bruno/data_0323/planning_data_by_point/opt_arc_stop_closest/control/cur_vis_0_1_window_-50cm_0cm\n",
      "Loaded behav_data_by_bin from all_monkey_data/target_decoder/monkey_Bruno/data_0323/behav_data_by_point.csv\n",
      "Retrieved monkey_information\n",
      "The number of points that were removed due to delta_position exceeding the ceiling is 0\n",
      "There are 2 duplicated point_index in bin_info. Note: one_point_index_per_bin is False\n",
      "Warning: new_seg_duration 1.0 is not a multiple of bin_width 0.1\n",
      "new_seg_duration is now 1.0, and post_event_window is now 0.75\n",
      "Loaded new_seg_info from all_monkey_data/planning_and_neural/monkey_Bruno/data_0323/new_seg_info/tlim2_cur_first_pre0p25_post0p75.csv\n",
      "Dropped 30 columns due to containing NA in rebinned_y_var via calling drop_na_cols function: ['nxt_opt_arc_curv', 'cur_cntr_arc_curv', 'nxt_cntr_arc_curv', 'cur_opt_arc_curv', 'cur_opt_arc_end_heading', 'cur_cntr_arc_end_heading', 'angle_opt_cur_end_to_nxt_ff', 'angle_cntr_cur_end_to_nxt_ff', 'abs_angle_opt_arc_from_cur_end_to_nxt', 'abs_angle_cntr_arc_from_cur_end_to_nxt', 'time_since_target_last_seen', 'monkey_x_target_cluster_last_seen', 'target_last_seen_distance', 'target_cluster_last_seen_distance', 'monkey_y_target_cluster_last_seen', 'monkey_y_target_last_seen', 'cum_distance_when_target_last_seen', 'monkey_angle_target_cluster_last_seen', 'target_cluster_last_seen_time', 'target_cluster_last_seen_angle_to_boundary', 'monkey_angle_target_last_seen', 'monkey_x_target_last_seen', 'time_target_last_seen', 'd_heading_since_target_last_seen', 'cum_distance_since_target_last_seen', 'distance_from_monkey_pos_target_last_seen', 'target_cluster_last_seen_angle', 'cum_distance_target_cluster_last_seen', 'target_last_seen_angle', 'target_last_seen_angle_to_boundary']\n",
      "Warning: ff_closest_stop_time_sorted has 1 points out of 1017 points that are significantly larger than ff_caught_T_sorted, which is 0.10% of the points. Max value of closest_time - capture time is 0.31541899999956513. They are replaced with the original ff_caught_T in ff_caught_T_new.\n",
      "Warning: ff_closest_stop_time_sorted has 36 points where monkey is outside of 1017 points that are outside of the reward boundary, which is 3.54% of the points. They are replaced with the original ff_caught_T in ff_caught_T_new.\n",
      "Warning: ff_caught_T_new is not monotonically increasing. Will make it monotonically increasing.\n",
      "Note: ff_caught_T_sorted is replaced with ff_caught_T_new\n",
      "\n",
      "No NA values found in concat_neural_trials\n",
      "\n",
      "No NA values found in concat_behav_trials\n"
     ]
    },
    {
     "name": "stderr",
     "output_type": "stream",
     "text": [
      "INFO:root:Fold 1 | Train segments: 240 | Test segments: 61\n"
     ]
    },
    {
     "name": "stdout",
     "output_type": "stream",
     "text": [
      "\n",
      "No NA values found in concat_neural_trials\n",
      "\n",
      "No NA values found in concat_behav_trials\n",
      "File all_monkey_data/planning_and_neural/monkey_Bruno/data_0323/event_aligned/time_resolved_cv_scores_gpfa/scores_b0p1_t2_cur_first_p0p25_po0p75_d7_cv5.csv does not exist. Recomputing...\n",
      "Initializing parameters using factor analysis...\n",
      "\n",
      "Fitting GPFA model...\n"
     ]
    },
    {
     "name": "stderr",
     "output_type": "stream",
     "text": [
      "INFO:root:Fold 2 | Train segments: 241 | Test segments: 60\n"
     ]
    },
    {
     "name": "stdout",
     "output_type": "stream",
     "text": [
      "Initializing parameters using factor analysis...\n",
      "\n",
      "Fitting GPFA model...\n"
     ]
    },
    {
     "name": "stderr",
     "output_type": "stream",
     "text": [
      "INFO:root:Fold 3 | Train segments: 241 | Test segments: 60\n"
     ]
    },
    {
     "name": "stdout",
     "output_type": "stream",
     "text": [
      "Initializing parameters using factor analysis...\n",
      "\n",
      "Fitting GPFA model...\n"
     ]
    },
    {
     "name": "stderr",
     "output_type": "stream",
     "text": [
      "INFO:root:Fold 4 | Train segments: 241 | Test segments: 60\n"
     ]
    },
    {
     "name": "stdout",
     "output_type": "stream",
     "text": [
      "Initializing parameters using factor analysis...\n",
      "\n",
      "Fitting GPFA model...\n"
     ]
    },
    {
     "name": "stderr",
     "output_type": "stream",
     "text": [
      "INFO:root:Fold 5 | Train segments: 241 | Test segments: 60\n"
     ]
    },
    {
     "name": "stdout",
     "output_type": "stream",
     "text": [
      "Initializing parameters using factor analysis...\n",
      "\n",
      "Fitting GPFA model...\n",
      "Cannot save file into a non-existent directory: 'all_monkey_data/planning_and_neural/monkey_Bruno/data_0323/event_aligned/time_resolved_cv_scores_gpfa'\n",
      "====================================================================================================\n",
      "all_monkey_data/raw_monkey_data/monkey_Bruno/data_0326\n",
      "Loaded binned_spikes_df from all_monkey_data/processed_neural_data/monkey_Bruno/data_0326/binned_spikes_df_0p1.csv\n",
      "Retrieved monkey_information\n",
      "The number of points that were removed due to delta_position exceeding the ceiling is 0\n",
      "Warning: ff_closest_stop_time_sorted has 42 points where monkey is outside of 929 points that are outside of the reward boundary, which is 4.52% of the points. They are replaced with the original ff_caught_T in ff_caught_T_new.\n",
      "Warning: ff_caught_T_new is not monotonically increasing. Will make it monotonically increasing.\n",
      "Note: ff_caught_T_sorted is replaced with ff_caught_T_new\n",
      "Failed to retrieve shared_stops_near_ff_df; will make new shared_stops_near_ff_df\n",
      "Retrieved ff_dataframe from all_monkey_data/processed_data/monkey_Bruno/data_0326/ff_dataframe.h5\n",
      "Making shared_stops_near_ff_df...\n",
      "42 rows out of 929 rows were removed from closest_stop_to_capture_df because the distance between stop and ff center is larger than 25cm, \n",
      "finding captured_ff_info...\n",
      "Warning: 95 of 887 rows in ff_info have null values because they were not visible in the stop period. They will be dropped.\n",
      "48 rows out of 792 rows in captured_ff_info were dropped because they are within 0.2 seconds before or 2.2 seconds after crossing boundary.\n",
      "38 of 744 rows removed: time between stops < 0.1s\n",
      "13 rows removed: distance < 25cm\n",
      "146 rows removed: distance > 500cm\n",
      "99 rows out of 706 rows in shared_stops_near_ff_df have been removed because the monkey has crossed boundary between two stops.\n",
      "Percentage of control rows that have nxt ff cluster flashed on between stop_time - 2 and stop:             71.66 % of 607 rows.\n",
      "Percentage of control rows that have nxt ff cluster flashed on between stop time and next stop:             91.6 % of 607 rows.\n",
      "3 rows out of 607 rows in shared_stops_near_ff_df have been removed because the time between stop_time and CUR_time_ff_first_seen_bbas is less than 0.2 seconds.\n",
      "Removed 24 rows out of 604 rows where cur_ff was not visible bbas or nxt_ff was not visible both bbas and bsans\n",
      "shared_stops_near_ff_df has 580 rows\n",
      "Stored shared_stops_near_ff_df (580 rows) in all_monkey_data/planning/monkey_Bruno/data_0326/shared_stops_near_ff_df.csv\n",
      "[Note] When calling modify_position_of_ff_with_big_angle_for_finding_null_arc, Even with `remove_i_o_modify_rows_with_big_ff_angles=True`, some rows may still be removed (e.g., negative ff_y_relative). Use this function mainly for curvature calculation.\n",
      "[Warning] 0.324% of ff_y_relative values are negative and will be removed.\n",
      "[Warning] 5.195% of ff_x_relative > ff_y_relative. Will be modified instead.\n",
      "[Note] When calling modify_position_of_ff_with_big_angle_for_finding_null_arc, Even with `remove_i_o_modify_rows_with_big_ff_angles=True`, some rows may still be removed (e.g., negative ff_y_relative). Use this function mainly for curvature calculation.\n",
      "Warning: 5 arc out of 306 arcs where ff is to the left of the monkey has an angle larger than 90 degrees. The max is 90.00000269718232. We will adjust them by making them a little less than 90.\n",
      "Failed to retrieve heading_info_df because of cur_vis_0_1_window_-50cm_0cm is not in the folder: all_monkey_data/planning/monkey_Bruno/data_0326/diff_in_curv_df/opt_arc_stop_closest/test; will make new heading_info_df\n",
      "Stored new heading_info_df (Bruno_cur_vis_0_1) (306 rows) in all_monkey_data/planning/monkey_Bruno/data_0326/heading_info_df/opt_arc_stop_closest/test/Bruno_cur_vis_0_1\n",
      "Percentage of rows outside of [-45, 45]: 6.21%\n",
      "Warnings: At least one ff has a lower bound of ff_angle_boundary equal to its upper bound after clipping, meaning that the ff's angle to boundary is greater than 90 degrees. Please check the input.\n",
      "Warning: 2 arc out of 270 arcs where ff is to the left of the monkey has an angle larger than 90 degrees. The max is 92.06621353064536. We will adjust them by making them a little less than 90.\n",
      "Warning: 2 arc out of 297 arcs where ff is to the left of the monkey has an angle larger than 90 degrees. The max is 90.86939749187066. We will adjust them by making them a little less than 90.\n",
      "Stored cur_vis_0_1_window_-50cm_0cm in all_monkey_data/planning/monkey_Bruno/data_0326/diff_in_curv_df/opt_arc_stop_closest/test/cur_vis_0_1_window_-50cm_0cm\n",
      "Need to make a new heading_info_df so that no data are dropped because ff_y is negative. No curature info is needed for this temporary heading_info_df.\n",
      "Warnings: At least one ff has a lower bound of ff_angle_boundary equal to its upper bound after clipping, meaning that the ff's angle to boundary is greater than 90 degrees. Please check the input.\n",
      "Warning: 52 arc out of 32644 arcs where ff is to the left of the monkey has an angle larger than 90 degrees. The max is 96.56061663082328. We will adjust them by making them a little less than 90.\n",
      "Warning: 176 arc out of 31958 arcs where ff is to the left of the monkey has an angle larger than 90 degrees. The max is 92.94664894510976. We will adjust them by making them a little less than 90.\n",
      "Made new planning_data_by_point and saved to all_monkey_data/planning_and_neural/monkey_Bruno/data_0326/planning_data_by_point/opt_arc_stop_closest/test/cur_vis_0_1_window_-50cm_0cm\n",
      "Retrieved monkey_information\n",
      "The number of points that were removed due to delta_position exceeding the ceiling is 0\n",
      "Warning: ff_closest_stop_time_sorted has 42 points where monkey is outside of 929 points that are outside of the reward boundary, which is 4.52% of the points. They are replaced with the original ff_caught_T in ff_caught_T_new.\n",
      "Warning: ff_caught_T_new is not monotonically increasing. Will make it monotonically increasing.\n",
      "Note: ff_caught_T_sorted is replaced with ff_caught_T_new\n",
      "Removed 0 rows out of 580 rows where cur_ff was not visible bbas or nxt_ff was not visible both bbas and bsans\n",
      "shared_stops_near_ff_df has 580 rows\n",
      "Retrieving shared_stops_near_ff_df succeeded\n",
      "[Note] When calling modify_position_of_ff_with_big_angle_for_finding_null_arc, Even with `remove_i_o_modify_rows_with_big_ff_angles=True`, some rows may still be removed (e.g., negative ff_y_relative). Use this function mainly for curvature calculation.\n",
      "[Warning] 1.951% of ff_y_relative values are negative and will be removed.\n",
      "[Warning] 18.408% of ff_x_relative > ff_y_relative. Will be modified instead.\n",
      "[Note] When calling modify_position_of_ff_with_big_angle_for_finding_null_arc, Even with `remove_i_o_modify_rows_with_big_ff_angles=True`, some rows may still be removed (e.g., negative ff_y_relative). Use this function mainly for curvature calculation.\n",
      "Warning: 2 arc out of 199 arcs where ff is to the left of the monkey has an angle larger than 90 degrees. The max is 90.00000161207544. We will adjust them by making them a little less than 90.\n",
      "Failed to retrieve heading_info_df because of cur_vis_0_1_window_-50cm_0cm is not in the folder: all_monkey_data/planning/monkey_Bruno/data_0326/diff_in_curv_df/opt_arc_stop_closest/control; will make new heading_info_df\n",
      "Stored new heading_info_df (Bruno_cur_vis_0_1) (199 rows) in all_monkey_data/planning/monkey_Bruno/data_0326/heading_info_df/opt_arc_stop_closest/control/Bruno_cur_vis_0_1\n",
      "Percentage of rows outside of [-45, 45]: 7.29%\n",
      "Warning: 2 arc out of 176 arcs where ff is to the left of the monkey has an angle larger than 90 degrees. The max is 94.34307335431414. We will adjust them by making them a little less than 90.\n",
      "Warning: 2 arc out of 182 arcs where ff is to the left of the monkey has an angle larger than 90 degrees. The max is 91.55330869704729. We will adjust them by making them a little less than 90.\n",
      "Stored cur_vis_0_1_window_-50cm_0cm in all_monkey_data/planning/monkey_Bruno/data_0326/diff_in_curv_df/opt_arc_stop_closest/control/cur_vis_0_1_window_-50cm_0cm\n",
      "Need to make a new heading_info_df so that no data are dropped because ff_y is negative. No curature info is needed for this temporary heading_info_df.\n",
      "Warnings: At least one ff has a lower bound of ff_angle_boundary equal to its upper bound after clipping, meaning that the ff's angle to boundary is greater than 90 degrees. Please check the input.\n",
      "Warning: 69 arc out of 21513 arcs where ff is to the left of the monkey has an angle larger than 90 degrees. The max is 106.94742234328675. We will adjust them by making them a little less than 90.\n",
      "Warning: 225 arc out of 19063 arcs where ff is to the left of the monkey has an angle larger than 90 degrees. The max is 93.4501302426199. We will adjust them by making them a little less than 90.\n",
      "Made new planning_data_by_point and saved to all_monkey_data/planning_and_neural/monkey_Bruno/data_0326/planning_data_by_point/opt_arc_stop_closest/control/cur_vis_0_1_window_-50cm_0cm\n",
      "Loaded behav_data_by_bin from all_monkey_data/target_decoder/monkey_Bruno/data_0326/behav_data_by_point.csv\n",
      "Retrieved monkey_information\n",
      "The number of points that were removed due to delta_position exceeding the ceiling is 0\n",
      "There are 2 duplicated point_index in bin_info. Note: one_point_index_per_bin is False\n",
      "Warning: new_seg_duration 1.0 is not a multiple of bin_width 0.1\n",
      "new_seg_duration is now 1.0, and post_event_window is now 0.75\n",
      "Warning: ff_closest_stop_time_sorted has 42 points where monkey is outside of 929 points that are outside of the reward boundary, which is 4.52% of the points. They are replaced with the original ff_caught_T in ff_caught_T_new.\n",
      "Warning: ff_caught_T_new is not monotonically increasing. Will make it monotonically increasing.\n",
      "Note: ff_caught_T_sorted is replaced with ff_caught_T_new\n",
      "Retrieved ff_dataframe from all_monkey_data/processed_data/monkey_Bruno/data_0326/ff_dataframe.h5\n",
      "Dropped 226 out of 484 segments because of insufficient duration, which is 46.7% of all segments\n",
      "Made new new_seg_info and saved to all_monkey_data/planning_and_neural/monkey_Bruno/data_0326/new_seg_info/tlim2_cur_first_pre0p25_post0p75.csv\n",
      "Dropped 30 columns due to containing NA in rebinned_y_var via calling drop_na_cols function: ['nxt_cntr_arc_curv', 'nxt_opt_arc_curv', 'cur_cntr_arc_curv', 'cur_opt_arc_curv', 'cur_opt_arc_end_heading', 'cur_cntr_arc_end_heading', 'angle_opt_cur_end_to_nxt_ff', 'angle_cntr_cur_end_to_nxt_ff', 'abs_angle_opt_arc_from_cur_end_to_nxt', 'abs_angle_cntr_arc_from_cur_end_to_nxt', 'time_since_target_last_seen', 'monkey_x_target_cluster_last_seen', 'target_last_seen_distance', 'target_cluster_last_seen_distance', 'monkey_y_target_cluster_last_seen', 'monkey_y_target_last_seen', 'cum_distance_when_target_last_seen', 'monkey_angle_target_cluster_last_seen', 'target_cluster_last_seen_time', 'target_cluster_last_seen_angle_to_boundary', 'monkey_angle_target_last_seen', 'monkey_x_target_last_seen', 'time_target_last_seen', 'd_heading_since_target_last_seen', 'cum_distance_since_target_last_seen', 'distance_from_monkey_pos_target_last_seen', 'target_cluster_last_seen_angle', 'cum_distance_target_cluster_last_seen', 'target_last_seen_angle', 'target_last_seen_angle_to_boundary']\n",
      "\n",
      "No NA values found in concat_neural_trials\n",
      "\n",
      "No NA values found in concat_behav_trials\n"
     ]
    },
    {
     "name": "stderr",
     "output_type": "stream",
     "text": [
      "INFO:root:Fold 1 | Train segments: 206 | Test segments: 52\n"
     ]
    },
    {
     "name": "stdout",
     "output_type": "stream",
     "text": [
      "\n",
      "No NA values found in concat_neural_trials\n",
      "\n",
      "No NA values found in concat_behav_trials\n",
      "File all_monkey_data/planning_and_neural/monkey_Bruno/data_0326/event_aligned/time_resolved_cv_scores_gpfa/scores_b0p1_t2_cur_first_p0p25_po0p75_d7_cv5.csv does not exist. Recomputing...\n",
      "Initializing parameters using factor analysis...\n",
      "\n",
      "Fitting GPFA model...\n"
     ]
    },
    {
     "name": "stderr",
     "output_type": "stream",
     "text": [
      "INFO:root:Fold 2 | Train segments: 206 | Test segments: 52\n"
     ]
    },
    {
     "name": "stdout",
     "output_type": "stream",
     "text": [
      "Initializing parameters using factor analysis...\n",
      "\n",
      "Fitting GPFA model...\n"
     ]
    },
    {
     "name": "stderr",
     "output_type": "stream",
     "text": [
      "INFO:root:Fold 3 | Train segments: 206 | Test segments: 52\n"
     ]
    },
    {
     "name": "stdout",
     "output_type": "stream",
     "text": [
      "Initializing parameters using factor analysis...\n",
      "\n",
      "Fitting GPFA model...\n"
     ]
    },
    {
     "name": "stderr",
     "output_type": "stream",
     "text": [
      "INFO:root:Fold 4 | Train segments: 207 | Test segments: 51\n"
     ]
    },
    {
     "name": "stdout",
     "output_type": "stream",
     "text": [
      "Initializing parameters using factor analysis...\n",
      "\n",
      "Fitting GPFA model...\n"
     ]
    },
    {
     "name": "stderr",
     "output_type": "stream",
     "text": [
      "INFO:root:Fold 5 | Train segments: 207 | Test segments: 51\n"
     ]
    },
    {
     "name": "stdout",
     "output_type": "stream",
     "text": [
      "Initializing parameters using factor analysis...\n",
      "\n",
      "Fitting GPFA model...\n",
      "Saved time_resolved_cv_scores_gpfa to all_monkey_data/planning_and_neural/monkey_Bruno/data_0326/event_aligned/time_resolved_cv_scores_gpfa/scores_b0p1_t2_cur_first_p0p25_po0p75_d7_cv5.csv\n",
      "Computing GPFA trajectories with 7 dimensions...\n",
      "Initializing parameters using factor analysis...\n",
      "\n",
      "Fitting GPFA model...\n",
      "Saved GPFA trajectories to all_monkey_data/planning_and_neural/monkey_Bruno/data_0326/event_aligned/gpfa_trajectories/gpfa_neural_bin0p1_cur_first.pkl\n",
      "\n",
      "No NA values found in concat_neural_trials\n",
      "\n",
      "No NA values found in concat_behav_trials\n",
      "File all_monkey_data/planning_and_neural/monkey_Bruno/data_0326/event_aligned/time_resolved_cv_scores/precomputed_gpfa/scores_b0p1_t2_cur_first_p0p25_po0p75_d7_cv5.csv does not exist. Recomputing...\n"
     ]
    },
    {
     "name": "stderr",
     "output_type": "stream",
     "text": [
      "Timepoints: 100%|██████████| 10/10 [00:10<00:00,  1.06s/it]\n"
     ]
    },
    {
     "name": "stdout",
     "output_type": "stream",
     "text": [
      "Saved time_resolved_cv_scores to all_monkey_data/planning_and_neural/monkey_Bruno/data_0326/event_aligned/time_resolved_cv_scores/precomputed_gpfa/scores_b0p1_t2_cur_first_p0p25_po0p75_d7_cv5.csv\n",
      "====================================================================================================\n",
      "all_monkey_data/raw_monkey_data/monkey_Bruno/data_0327\n",
      "Loaded binned_spikes_df from all_monkey_data/processed_neural_data/monkey_Bruno/data_0327/binned_spikes_df_0p1.csv\n",
      "Retrieved monkey_information\n",
      "The number of points that were removed due to delta_position exceeding the ceiling is 0\n",
      "Warning: ff_closest_stop_time_sorted has 39 points where monkey is outside of 1065 points that are outside of the reward boundary, which is 3.66% of the points. They are replaced with the original ff_caught_T in ff_caught_T_new.\n",
      "Warning: ff_caught_T_new is not monotonically increasing. Will make it monotonically increasing.\n",
      "Note: ff_caught_T_sorted is replaced with ff_caught_T_new\n",
      "Failed to retrieve shared_stops_near_ff_df; will make new shared_stops_near_ff_df\n",
      "Retrieved ff_dataframe from all_monkey_data/processed_data/monkey_Bruno/data_0327/ff_dataframe.h5\n",
      "Making shared_stops_near_ff_df...\n",
      "39 rows out of 1065 rows were removed from closest_stop_to_capture_df because the distance between stop and ff center is larger than 25cm, \n",
      "finding captured_ff_info...\n",
      "Warning: 121 of 1026 rows in ff_info have null values because they were not visible in the stop period. They will be dropped.\n",
      "71 rows out of 905 rows in captured_ff_info were dropped because they are within 0.2 seconds before or 2.2 seconds after crossing boundary.\n",
      "36 of 834 rows removed: time between stops < 0.1s\n",
      "10 rows removed: distance < 25cm\n",
      "180 rows removed: distance > 500cm\n",
      "123 rows out of 798 rows in shared_stops_near_ff_df have been removed because the monkey has crossed boundary between two stops.\n",
      "Percentage of control rows that have nxt ff cluster flashed on between stop_time - 2 and stop:             72.59 % of 675 rows.\n",
      "Percentage of control rows that have nxt ff cluster flashed on between stop time and next stop:             93.04 % of 675 rows.\n",
      "4 rows out of 675 rows in shared_stops_near_ff_df have been removed because the time between stop_time and CUR_time_ff_first_seen_bbas is less than 0.2 seconds.\n",
      "Removed 20 rows out of 671 rows where cur_ff was not visible bbas or nxt_ff was not visible both bbas and bsans\n",
      "shared_stops_near_ff_df has 651 rows\n",
      "Stored shared_stops_near_ff_df (651 rows) in all_monkey_data/planning/monkey_Bruno/data_0327/shared_stops_near_ff_df.csv\n",
      "[Note] When calling modify_position_of_ff_with_big_angle_for_finding_null_arc, Even with `remove_i_o_modify_rows_with_big_ff_angles=True`, some rows may still be removed (e.g., negative ff_y_relative). Use this function mainly for curvature calculation.\n",
      "[Warning] 4.179% of ff_x_relative > ff_y_relative. Will be modified instead.\n",
      "[Note] When calling modify_position_of_ff_with_big_angle_for_finding_null_arc, Even with `remove_i_o_modify_rows_with_big_ff_angles=True`, some rows may still be removed (e.g., negative ff_y_relative). Use this function mainly for curvature calculation.\n",
      "Warning: 1 arc out of 325 arcs where ff is to the left of the monkey has an angle larger than 90 degrees. The max is 90.00000201998215. We will adjust them by making them a little less than 90.\n",
      "Failed to retrieve heading_info_df because of cur_vis_0_1_window_-50cm_0cm is not in the folder: all_monkey_data/planning/monkey_Bruno/data_0327/diff_in_curv_df/opt_arc_stop_closest/test; will make new heading_info_df\n",
      "Stored new heading_info_df (Bruno_cur_vis_0_1) (325 rows) in all_monkey_data/planning/monkey_Bruno/data_0327/heading_info_df/opt_arc_stop_closest/test/Bruno_cur_vis_0_1\n",
      "Percentage of rows outside of [-45, 45]: 2.77%\n",
      "Stored cur_vis_0_1_window_-50cm_0cm in all_monkey_data/planning/monkey_Bruno/data_0327/diff_in_curv_df/opt_arc_stop_closest/test/cur_vis_0_1_window_-50cm_0cm\n",
      "Need to make a new heading_info_df so that no data are dropped because ff_y is negative. No curature info is needed for this temporary heading_info_df.\n",
      "Warnings: At least one ff has a lower bound of ff_angle_boundary equal to its upper bound after clipping, meaning that the ff's angle to boundary is greater than 90 degrees. Please check the input.\n",
      "Warning: 63 arc out of 38953 arcs where ff is to the left of the monkey has an angle larger than 90 degrees. The max is 93.05645191174415. We will adjust them by making them a little less than 90.\n",
      "Warning: 152 arc out of 38234 arcs where ff is to the left of the monkey has an angle larger than 90 degrees. The max is 93.12647746169473. We will adjust them by making them a little less than 90.\n",
      "Made new planning_data_by_point and saved to all_monkey_data/planning_and_neural/monkey_Bruno/data_0327/planning_data_by_point/opt_arc_stop_closest/test/cur_vis_0_1_window_-50cm_0cm\n",
      "Retrieved monkey_information\n",
      "The number of points that were removed due to delta_position exceeding the ceiling is 0\n",
      "Warning: ff_closest_stop_time_sorted has 39 points where monkey is outside of 1065 points that are outside of the reward boundary, which is 3.66% of the points. They are replaced with the original ff_caught_T in ff_caught_T_new.\n",
      "Warning: ff_caught_T_new is not monotonically increasing. Will make it monotonically increasing.\n",
      "Note: ff_caught_T_sorted is replaced with ff_caught_T_new\n",
      "Removed 0 rows out of 651 rows where cur_ff was not visible bbas or nxt_ff was not visible both bbas and bsans\n",
      "shared_stops_near_ff_df has 651 rows\n",
      "Retrieving shared_stops_near_ff_df succeeded\n",
      "[Note] When calling modify_position_of_ff_with_big_angle_for_finding_null_arc, Even with `remove_i_o_modify_rows_with_big_ff_angles=True`, some rows may still be removed (e.g., negative ff_y_relative). Use this function mainly for curvature calculation.\n",
      "[Warning] 2.846% of ff_y_relative values are negative and will be removed.\n",
      "[Warning] 19.247% of ff_x_relative > ff_y_relative. Will be modified instead.\n",
      "[Note] When calling modify_position_of_ff_with_big_angle_for_finding_null_arc, Even with `remove_i_o_modify_rows_with_big_ff_angles=True`, some rows may still be removed (e.g., negative ff_y_relative). Use this function mainly for curvature calculation.\n",
      "[Warning] 0.422% of ff_x_relative > ff_y_relative. Will be modified instead.\n",
      "Warning: 3 arc out of 237 arcs where ff is to the left of the monkey has an angle larger than 90 degrees. The max is 90.00000172442272. We will adjust them by making them a little less than 90.\n",
      "Failed to retrieve heading_info_df because of cur_vis_0_1_window_-50cm_0cm is not in the folder: all_monkey_data/planning/monkey_Bruno/data_0327/diff_in_curv_df/opt_arc_stop_closest/control; will make new heading_info_df\n",
      "Stored new heading_info_df (Bruno_cur_vis_0_1) (237 rows) in all_monkey_data/planning/monkey_Bruno/data_0327/heading_info_df/opt_arc_stop_closest/control/Bruno_cur_vis_0_1\n",
      "Percentage of rows outside of [-45, 45]: 11.18%\n",
      "Warning: 1 arc out of 190 arcs where ff is to the left of the monkey has an angle larger than 90 degrees. The max is 93.6056163613016. We will adjust them by making them a little less than 90.\n",
      "Stored cur_vis_0_1_window_-50cm_0cm in all_monkey_data/planning/monkey_Bruno/data_0327/diff_in_curv_df/opt_arc_stop_closest/control/cur_vis_0_1_window_-50cm_0cm\n",
      "Need to make a new heading_info_df so that no data are dropped because ff_y is negative. No curature info is needed for this temporary heading_info_df.\n",
      "Warnings: At least one ff has a lower bound of ff_angle_boundary equal to its upper bound after clipping, meaning that the ff's angle to boundary is greater than 90 degrees. Please check the input.\n",
      "Warning: 121 arc out of 27078 arcs where ff is to the left of the monkey has an angle larger than 90 degrees. The max is 93.2379962974678. We will adjust them by making them a little less than 90.\n",
      "Warning: 180 arc out of 22321 arcs where ff is to the left of the monkey has an angle larger than 90 degrees. The max is 93.5192473667727. We will adjust them by making them a little less than 90.\n",
      "Made new planning_data_by_point and saved to all_monkey_data/planning_and_neural/monkey_Bruno/data_0327/planning_data_by_point/opt_arc_stop_closest/control/cur_vis_0_1_window_-50cm_0cm\n",
      "Loaded behav_data_by_bin from all_monkey_data/target_decoder/monkey_Bruno/data_0327/behav_data_by_point.csv\n",
      "Retrieved monkey_information\n",
      "The number of points that were removed due to delta_position exceeding the ceiling is 0\n",
      "There are 1 duplicated point_index in bin_info. Note: one_point_index_per_bin is False\n",
      "Warning: new_seg_duration 1.0 is not a multiple of bin_width 0.1\n",
      "new_seg_duration is now 1.0, and post_event_window is now 0.75\n",
      "Warning: ff_closest_stop_time_sorted has 39 points where monkey is outside of 1065 points that are outside of the reward boundary, which is 3.66% of the points. They are replaced with the original ff_caught_T in ff_caught_T_new.\n",
      "Warning: ff_caught_T_new is not monotonically increasing. Will make it monotonically increasing.\n",
      "Note: ff_caught_T_sorted is replaced with ff_caught_T_new\n",
      "Retrieved ff_dataframe from all_monkey_data/processed_data/monkey_Bruno/data_0327/ff_dataframe.h5\n",
      "Dropped 208 out of 554 segments because of insufficient duration, which is 37.5% of all segments\n",
      "Made new new_seg_info and saved to all_monkey_data/planning_and_neural/monkey_Bruno/data_0327/new_seg_info/tlim2_cur_first_pre0p25_post0p75.csv\n",
      "Dropped 30 columns due to containing NA in rebinned_y_var via calling drop_na_cols function: ['nxt_cntr_arc_curv', 'nxt_opt_arc_curv', 'cur_cntr_arc_curv', 'cur_opt_arc_curv', 'cur_opt_arc_end_heading', 'cur_cntr_arc_end_heading', 'angle_opt_cur_end_to_nxt_ff', 'angle_cntr_cur_end_to_nxt_ff', 'abs_angle_opt_arc_from_cur_end_to_nxt', 'abs_angle_cntr_arc_from_cur_end_to_nxt', 'time_since_target_last_seen', 'monkey_x_target_cluster_last_seen', 'target_last_seen_distance', 'target_cluster_last_seen_distance', 'monkey_y_target_cluster_last_seen', 'monkey_y_target_last_seen', 'cum_distance_when_target_last_seen', 'monkey_angle_target_cluster_last_seen', 'target_cluster_last_seen_time', 'target_cluster_last_seen_angle_to_boundary', 'monkey_angle_target_last_seen', 'monkey_x_target_last_seen', 'time_target_last_seen', 'd_heading_since_target_last_seen', 'cum_distance_since_target_last_seen', 'distance_from_monkey_pos_target_last_seen', 'target_cluster_last_seen_angle', 'cum_distance_target_cluster_last_seen', 'target_last_seen_angle', 'target_last_seen_angle_to_boundary']\n",
      "\n",
      "No NA values found in concat_neural_trials\n",
      "\n",
      "No NA values found in concat_behav_trials\n"
     ]
    },
    {
     "name": "stderr",
     "output_type": "stream",
     "text": [
      "INFO:root:Fold 1 | Train segments: 276 | Test segments: 70\n"
     ]
    },
    {
     "name": "stdout",
     "output_type": "stream",
     "text": [
      "\n",
      "No NA values found in concat_neural_trials\n",
      "\n",
      "No NA values found in concat_behav_trials\n",
      "File all_monkey_data/planning_and_neural/monkey_Bruno/data_0327/event_aligned/time_resolved_cv_scores_gpfa/scores_b0p1_t2_cur_first_p0p25_po0p75_d7_cv5.csv does not exist. Recomputing...\n",
      "Initializing parameters using factor analysis...\n",
      "\n",
      "Fitting GPFA model...\n"
     ]
    },
    {
     "name": "stderr",
     "output_type": "stream",
     "text": [
      "INFO:root:Fold 2 | Train segments: 277 | Test segments: 69\n"
     ]
    },
    {
     "name": "stdout",
     "output_type": "stream",
     "text": [
      "Initializing parameters using factor analysis...\n",
      "\n",
      "Fitting GPFA model...\n"
     ]
    },
    {
     "name": "stderr",
     "output_type": "stream",
     "text": [
      "INFO:root:Fold 3 | Train segments: 277 | Test segments: 69\n"
     ]
    },
    {
     "name": "stdout",
     "output_type": "stream",
     "text": [
      "Initializing parameters using factor analysis...\n",
      "\n",
      "Fitting GPFA model...\n"
     ]
    },
    {
     "name": "stderr",
     "output_type": "stream",
     "text": [
      "INFO:root:Fold 4 | Train segments: 277 | Test segments: 69\n"
     ]
    },
    {
     "name": "stdout",
     "output_type": "stream",
     "text": [
      "Initializing parameters using factor analysis...\n",
      "\n",
      "Fitting GPFA model...\n"
     ]
    },
    {
     "name": "stderr",
     "output_type": "stream",
     "text": [
      "INFO:root:Fold 5 | Train segments: 277 | Test segments: 69\n"
     ]
    },
    {
     "name": "stdout",
     "output_type": "stream",
     "text": [
      "Initializing parameters using factor analysis...\n",
      "\n",
      "Fitting GPFA model...\n",
      "Saved time_resolved_cv_scores_gpfa to all_monkey_data/planning_and_neural/monkey_Bruno/data_0327/event_aligned/time_resolved_cv_scores_gpfa/scores_b0p1_t2_cur_first_p0p25_po0p75_d7_cv5.csv\n",
      "Computing GPFA trajectories with 7 dimensions...\n",
      "Initializing parameters using factor analysis...\n",
      "\n",
      "Fitting GPFA model...\n",
      "Saved GPFA trajectories to all_monkey_data/planning_and_neural/monkey_Bruno/data_0327/event_aligned/gpfa_trajectories/gpfa_neural_bin0p1_cur_first.pkl\n",
      "\n",
      "No NA values found in concat_neural_trials\n",
      "\n",
      "No NA values found in concat_behav_trials\n",
      "File all_monkey_data/planning_and_neural/monkey_Bruno/data_0327/event_aligned/time_resolved_cv_scores/precomputed_gpfa/scores_b0p1_t2_cur_first_p0p25_po0p75_d7_cv5.csv does not exist. Recomputing...\n"
     ]
    },
    {
     "name": "stderr",
     "output_type": "stream",
     "text": [
      "Timepoints: 100%|██████████| 10/10 [00:07<00:00,  1.40it/s]\n"
     ]
    },
    {
     "name": "stdout",
     "output_type": "stream",
     "text": [
      "Saved time_resolved_cv_scores to all_monkey_data/planning_and_neural/monkey_Bruno/data_0327/event_aligned/time_resolved_cv_scores/precomputed_gpfa/scores_b0p1_t2_cur_first_p0p25_po0p75_d7_cv5.csv\n",
      "====================================================================================================\n",
      "all_monkey_data/raw_monkey_data/monkey_Bruno/data_0328\n",
      "Loaded binned_spikes_df from all_monkey_data/processed_neural_data/monkey_Bruno/data_0328/binned_spikes_df_0p1.csv\n",
      "Retrieved monkey_information\n",
      "The number of points that were removed due to delta_position exceeding the ceiling is 0\n",
      "Warning: ff_closest_stop_time_sorted has 1 points out of 1213 points that are significantly larger than ff_caught_T_sorted, which is 0.08% of the points. Max value of closest_time - capture time is 0.332014000000072. They are replaced with the original ff_caught_T in ff_caught_T_new.\n",
      "Warning: ff_closest_stop_time_sorted has 56 points where monkey is outside of 1213 points that are outside of the reward boundary, which is 4.62% of the points. They are replaced with the original ff_caught_T in ff_caught_T_new.\n",
      "Warning: ff_caught_T_new is not monotonically increasing. Will make it monotonically increasing.\n",
      "Note: ff_caught_T_sorted is replaced with ff_caught_T_new\n",
      "Failed to retrieve shared_stops_near_ff_df; will make new shared_stops_near_ff_df\n",
      "Retrieved ff_dataframe from all_monkey_data/processed_data/monkey_Bruno/data_0328/ff_dataframe.h5\n",
      "Making shared_stops_near_ff_df...\n",
      "56 rows out of 1213 rows were removed from closest_stop_to_capture_df because the distance between stop and ff center is larger than 25cm, \n",
      "finding captured_ff_info...\n",
      "Warning: 123 of 1157 rows in ff_info have null values because they were not visible in the stop period. They will be dropped.\n",
      "[Warning] 1 rows removed due to 'diff_from_caught_time' ≥ 0.2 sec. Max difference: 0.332 sec. Positive time diffs: 1.99%\n",
      "82 rows out of 1033 rows in captured_ff_info were dropped because they are within 0.2 seconds before or 2.2 seconds after crossing boundary.\n",
      "51 of 951 rows removed: time between stops < 0.1s\n",
      "9 rows removed: distance < 25cm\n",
      "195 rows removed: distance > 500cm\n",
      "146 rows out of 900 rows in shared_stops_near_ff_df have been removed because the monkey has crossed boundary between two stops.\n",
      "Percentage of control rows that have nxt ff cluster flashed on between stop_time - 2 and stop:             74.01 % of 754 rows.\n",
      "Percentage of control rows that have nxt ff cluster flashed on between stop time and next stop:             92.31 % of 754 rows.\n",
      "6 rows out of 754 rows in shared_stops_near_ff_df have been removed because the time between stop_time and CUR_time_ff_first_seen_bbas is less than 0.2 seconds.\n",
      "Removed 20 rows out of 748 rows where cur_ff was not visible bbas or nxt_ff was not visible both bbas and bsans\n",
      "shared_stops_near_ff_df has 728 rows\n",
      "Stored shared_stops_near_ff_df (728 rows) in all_monkey_data/planning/monkey_Bruno/data_0328/shared_stops_near_ff_df.csv\n",
      "[Note] When calling modify_position_of_ff_with_big_angle_for_finding_null_arc, Even with `remove_i_o_modify_rows_with_big_ff_angles=True`, some rows may still be removed (e.g., negative ff_y_relative). Use this function mainly for curvature calculation.\n",
      "[Warning] 4.786% of ff_x_relative > ff_y_relative. Will be modified instead.\n",
      "[Note] When calling modify_position_of_ff_with_big_angle_for_finding_null_arc, Even with `remove_i_o_modify_rows_with_big_ff_angles=True`, some rows may still be removed (e.g., negative ff_y_relative). Use this function mainly for curvature calculation.\n",
      "Warning: 2 arc out of 388 arcs where ff is to the left of the monkey has an angle larger than 90 degrees. The max is 90.00000300659629. We will adjust them by making them a little less than 90.\n",
      "Failed to retrieve heading_info_df because of cur_vis_0_1_window_-50cm_0cm is not in the folder: all_monkey_data/planning/monkey_Bruno/data_0328/diff_in_curv_df/opt_arc_stop_closest/test; will make new heading_info_df\n",
      "Stored new heading_info_df (Bruno_cur_vis_0_1) (388 rows) in all_monkey_data/planning/monkey_Bruno/data_0328/heading_info_df/opt_arc_stop_closest/test/Bruno_cur_vis_0_1\n",
      "Percentage of rows outside of [-45, 45]: 3.74%\n",
      "Warning: 2 arc out of 360 arcs where ff is to the left of the monkey has an angle larger than 90 degrees. The max is 94.62069874660513. We will adjust them by making them a little less than 90.\n",
      "Stored cur_vis_0_1_window_-50cm_0cm in all_monkey_data/planning/monkey_Bruno/data_0328/diff_in_curv_df/opt_arc_stop_closest/test/cur_vis_0_1_window_-50cm_0cm\n",
      "Need to make a new heading_info_df so that no data are dropped because ff_y is negative. No curature info is needed for this temporary heading_info_df.\n",
      "Warnings: At least one ff has a lower bound of ff_angle_boundary equal to its upper bound after clipping, meaning that the ff's angle to boundary is greater than 90 degrees. Please check the input.\n",
      "Warning: 77 arc out of 41518 arcs where ff is to the left of the monkey has an angle larger than 90 degrees. The max is 104.00376398164872. We will adjust them by making them a little less than 90.\n",
      "Warning: 190 arc out of 40852 arcs where ff is to the left of the monkey has an angle larger than 90 degrees. The max is 93.88997590351052. We will adjust them by making them a little less than 90.\n",
      "Made new planning_data_by_point and saved to all_monkey_data/planning_and_neural/monkey_Bruno/data_0328/planning_data_by_point/opt_arc_stop_closest/test/cur_vis_0_1_window_-50cm_0cm\n",
      "Retrieved monkey_information\n",
      "The number of points that were removed due to delta_position exceeding the ceiling is 0\n",
      "Warning: ff_closest_stop_time_sorted has 1 points out of 1213 points that are significantly larger than ff_caught_T_sorted, which is 0.08% of the points. Max value of closest_time - capture time is 0.332014000000072. They are replaced with the original ff_caught_T in ff_caught_T_new.\n",
      "Warning: ff_closest_stop_time_sorted has 56 points where monkey is outside of 1213 points that are outside of the reward boundary, which is 4.62% of the points. They are replaced with the original ff_caught_T in ff_caught_T_new.\n",
      "Warning: ff_caught_T_new is not monotonically increasing. Will make it monotonically increasing.\n",
      "Note: ff_caught_T_sorted is replaced with ff_caught_T_new\n",
      "Removed 0 rows out of 728 rows where cur_ff was not visible bbas or nxt_ff was not visible both bbas and bsans\n",
      "shared_stops_near_ff_df has 728 rows\n",
      "Retrieving shared_stops_near_ff_df succeeded\n",
      "[Note] When calling modify_position_of_ff_with_big_angle_for_finding_null_arc, Even with `remove_i_o_modify_rows_with_big_ff_angles=True`, some rows may still be removed (e.g., negative ff_y_relative). Use this function mainly for curvature calculation.\n",
      "[Warning] 2.281% of ff_y_relative values are negative and will be removed.\n",
      "[Warning] 17.121% of ff_x_relative > ff_y_relative. Will be modified instead.\n",
      "[Note] When calling modify_position_of_ff_with_big_angle_for_finding_null_arc, Even with `remove_i_o_modify_rows_with_big_ff_angles=True`, some rows may still be removed (e.g., negative ff_y_relative). Use this function mainly for curvature calculation.\n",
      "Warning: 5 arc out of 255 arcs where ff is to the left of the monkey has an angle larger than 90 degrees. The max is 90.00000406452136. We will adjust them by making them a little less than 90.\n",
      "Failed to retrieve heading_info_df because of cur_vis_0_1_window_-50cm_0cm is not in the folder: all_monkey_data/planning/monkey_Bruno/data_0328/diff_in_curv_df/opt_arc_stop_closest/control; will make new heading_info_df\n",
      "Stored new heading_info_df (Bruno_cur_vis_0_1) (255 rows) in all_monkey_data/planning/monkey_Bruno/data_0328/heading_info_df/opt_arc_stop_closest/control/Bruno_cur_vis_0_1\n",
      "Percentage of rows outside of [-45, 45]: 11.37%\n",
      "Stored cur_vis_0_1_window_-50cm_0cm in all_monkey_data/planning/monkey_Bruno/data_0328/diff_in_curv_df/opt_arc_stop_closest/control/cur_vis_0_1_window_-50cm_0cm\n",
      "Need to make a new heading_info_df so that no data are dropped because ff_y is negative. No curature info is needed for this temporary heading_info_df.\n",
      "Warnings: At least one ff has a lower bound of ff_angle_boundary equal to its upper bound after clipping, meaning that the ff's angle to boundary is greater than 90 degrees. Please check the input.\n",
      "Warning: 67 arc out of 28113 arcs where ff is to the left of the monkey has an angle larger than 90 degrees. The max is 96.80366441901867. We will adjust them by making them a little less than 90.\n",
      "Warning: 229 arc out of 23338 arcs where ff is to the left of the monkey has an angle larger than 90 degrees. The max is 92.67435049438818. We will adjust them by making them a little less than 90.\n",
      "Made new planning_data_by_point and saved to all_monkey_data/planning_and_neural/monkey_Bruno/data_0328/planning_data_by_point/opt_arc_stop_closest/control/cur_vis_0_1_window_-50cm_0cm\n",
      "Loaded behav_data_by_bin from all_monkey_data/target_decoder/monkey_Bruno/data_0328/behav_data_by_point.csv\n",
      "Retrieved monkey_information\n",
      "The number of points that were removed due to delta_position exceeding the ceiling is 0\n",
      "Warning: new_seg_duration 1.0 is not a multiple of bin_width 0.1\n",
      "new_seg_duration is now 1.0, and post_event_window is now 0.75\n",
      "Warning: ff_closest_stop_time_sorted has 1 points out of 1213 points that are significantly larger than ff_caught_T_sorted, which is 0.08% of the points. Max value of closest_time - capture time is 0.332014000000072. They are replaced with the original ff_caught_T in ff_caught_T_new.\n",
      "Warning: ff_closest_stop_time_sorted has 56 points where monkey is outside of 1213 points that are outside of the reward boundary, which is 4.62% of the points. They are replaced with the original ff_caught_T in ff_caught_T_new.\n",
      "Warning: ff_caught_T_new is not monotonically increasing. Will make it monotonically increasing.\n",
      "Note: ff_caught_T_sorted is replaced with ff_caught_T_new\n",
      "Retrieved ff_dataframe from all_monkey_data/processed_data/monkey_Bruno/data_0328/ff_dataframe.h5\n",
      "Dropped 289 out of 621 segments because of insufficient duration, which is 46.5% of all segments\n",
      "Made new new_seg_info and saved to all_monkey_data/planning_and_neural/monkey_Bruno/data_0328/new_seg_info/tlim2_cur_first_pre0p25_post0p75.csv\n",
      "Dropped 30 columns due to containing NA in rebinned_y_var via calling drop_na_cols function: ['nxt_cntr_arc_curv', 'nxt_opt_arc_curv', 'cur_cntr_arc_curv', 'cur_opt_arc_curv', 'cur_opt_arc_end_heading', 'cur_cntr_arc_end_heading', 'angle_opt_cur_end_to_nxt_ff', 'angle_cntr_cur_end_to_nxt_ff', 'abs_angle_opt_arc_from_cur_end_to_nxt', 'abs_angle_cntr_arc_from_cur_end_to_nxt', 'time_since_target_last_seen', 'monkey_x_target_cluster_last_seen', 'target_last_seen_distance', 'target_cluster_last_seen_distance', 'monkey_y_target_cluster_last_seen', 'monkey_y_target_last_seen', 'cum_distance_when_target_last_seen', 'monkey_angle_target_cluster_last_seen', 'target_cluster_last_seen_time', 'target_cluster_last_seen_angle_to_boundary', 'monkey_angle_target_last_seen', 'monkey_x_target_last_seen', 'time_target_last_seen', 'd_heading_since_target_last_seen', 'cum_distance_since_target_last_seen', 'distance_from_monkey_pos_target_last_seen', 'target_cluster_last_seen_angle', 'cum_distance_target_cluster_last_seen', 'target_last_seen_angle', 'target_last_seen_angle_to_boundary']\n",
      "\n",
      "No NA values found in concat_neural_trials\n",
      "\n",
      "No NA values found in concat_behav_trials\n"
     ]
    },
    {
     "name": "stderr",
     "output_type": "stream",
     "text": [
      "INFO:root:Fold 1 | Train segments: 265 | Test segments: 67\n"
     ]
    },
    {
     "name": "stdout",
     "output_type": "stream",
     "text": [
      "\n",
      "No NA values found in concat_neural_trials\n",
      "\n",
      "No NA values found in concat_behav_trials\n",
      "File all_monkey_data/planning_and_neural/monkey_Bruno/data_0328/event_aligned/time_resolved_cv_scores_gpfa/scores_b0p1_t2_cur_first_p0p25_po0p75_d7_cv5.csv does not exist. Recomputing...\n",
      "Initializing parameters using factor analysis...\n",
      "\n",
      "Fitting GPFA model...\n"
     ]
    },
    {
     "name": "stderr",
     "output_type": "stream",
     "text": [
      "INFO:root:Fold 2 | Train segments: 265 | Test segments: 67\n"
     ]
    },
    {
     "name": "stdout",
     "output_type": "stream",
     "text": [
      "Initializing parameters using factor analysis...\n",
      "\n",
      "Fitting GPFA model...\n"
     ]
    },
    {
     "name": "stderr",
     "output_type": "stream",
     "text": [
      "INFO:root:Fold 3 | Train segments: 266 | Test segments: 66\n"
     ]
    },
    {
     "name": "stdout",
     "output_type": "stream",
     "text": [
      "Initializing parameters using factor analysis...\n",
      "\n",
      "Fitting GPFA model...\n"
     ]
    },
    {
     "name": "stderr",
     "output_type": "stream",
     "text": [
      "INFO:root:Fold 4 | Train segments: 266 | Test segments: 66\n"
     ]
    },
    {
     "name": "stdout",
     "output_type": "stream",
     "text": [
      "Initializing parameters using factor analysis...\n",
      "\n",
      "Fitting GPFA model...\n"
     ]
    },
    {
     "name": "stderr",
     "output_type": "stream",
     "text": [
      "INFO:root:Fold 5 | Train segments: 266 | Test segments: 66\n"
     ]
    },
    {
     "name": "stdout",
     "output_type": "stream",
     "text": [
      "Initializing parameters using factor analysis...\n",
      "\n",
      "Fitting GPFA model...\n",
      "Saved time_resolved_cv_scores_gpfa to all_monkey_data/planning_and_neural/monkey_Bruno/data_0328/event_aligned/time_resolved_cv_scores_gpfa/scores_b0p1_t2_cur_first_p0p25_po0p75_d7_cv5.csv\n",
      "Computing GPFA trajectories with 7 dimensions...\n",
      "Initializing parameters using factor analysis...\n",
      "\n",
      "Fitting GPFA model...\n"
     ]
    }
   ],
   "source": [
    "raw_data_dir_name = 'all_monkey_data/raw_monkey_data'\n",
    "\n",
    "for monkey_name in ['monkey_Bruno', 'monkey_Schro']:\n",
    "    sessions_df_for_one_monkey = combine_info_utils.make_sessions_df_for_one_monkey(\n",
    "            raw_data_dir_name, monkey_name)\n",
    "\n",
    "    # with warnings.catch_warnings():\n",
    "    #     warnings.simplefilter(\"ignore\")\n",
    "    for index, row in sessions_df_for_one_monkey.iterrows():\n",
    "        \n",
    "        try:\n",
    "            if row['finished'] is True:\n",
    "                continue\n",
    "            raw_data_folder_path = os.path.join(\n",
    "                raw_data_dir_name, row['monkey_name'], row['data_name'])\n",
    "            print('='*100)\n",
    "            print(raw_data_folder_path)\n",
    "            \n",
    "            # try:    \n",
    "            # check if the files already exist (hardcoded for now)\n",
    "            neural_path = raw_data_folder_path.replace('raw_monkey_data', 'planning_and_neural')\n",
    "            df1_path = os.path.join(neural_path, 'event_aligned/time_resolved_cv_scores_gpfa/scores_b0p1_t2_cur_first_p0p25_po0p75_d7_cv5.csv')\n",
    "            df2_path = os.path.join(neural_path, 'event_aligned/time_resolved_cv_scores/precomputed_gpfa/scores_b0p1_t2_cur_first_p0p25_po0p75_d7_cv5.csv')\n",
    "            if os.path.exists(df1_path) and os.path.exists(df2_path):\n",
    "                print('Files already exist')\n",
    "                continue\n",
    "            \n",
    "            pn = pn_aligned_by_event.PlanningAndNeuralEventAligned(raw_data_folder_path=raw_data_folder_path)\n",
    "            pn.streamline_getting_time_resolved_cv_scores(pn)\n",
    "            sessions_df_for_one_monkey.loc[index, 'finished'] = True\n",
    "            # except Exception as e:\n",
    "            #     print(e)\n",
    "            #     continue\n",
    "        except Exception as e:\n",
    "            print(e)\n",
    "            continue\n",
    "        "
   ]
  },
  {
   "cell_type": "markdown",
   "metadata": {},
   "source": [
    "## visualize"
   ]
  },
  {
   "cell_type": "code",
   "execution_count": 3,
   "metadata": {},
   "outputs": [
    {
     "name": "stdout",
     "output_type": "stream",
     "text": [
      "\n",
      "====================================================================================================\n",
      "====================================================================================================\n",
      "Feature: cur_ff_distance\n",
      "====================================================================================================\n",
      "Processing session at: all_monkey_data/raw_monkey_data/monkey_Schro/data_0316\n",
      "Files don't exist yet.\n",
      "====================================================================================================\n",
      "Processing session at: all_monkey_data/raw_monkey_data/monkey_Schro/data_0321\n",
      "Files don't exist yet.\n",
      "====================================================================================================\n",
      "Processing session at: all_monkey_data/raw_monkey_data/monkey_Schro/data_0322\n",
      "Files don't exist yet.\n",
      "====================================================================================================\n",
      "Processing session at: all_monkey_data/raw_monkey_data/monkey_Schro/data_0326\n",
      "Files don't exist yet.\n",
      "====================================================================================================\n",
      "Processing session at: all_monkey_data/raw_monkey_data/monkey_Schro/data_0327\n",
      "Files don't exist yet.\n",
      "====================================================================================================\n",
      "Processing session at: all_monkey_data/raw_monkey_data/monkey_Schro/data_0328\n",
      "Files don't exist yet.\n",
      "====================================================================================================\n",
      "Processing session at: all_monkey_data/raw_monkey_data/monkey_Schro/data_0329\n",
      "Files don't exist yet.\n",
      "====================================================================================================\n",
      "Processing session at: all_monkey_data/raw_monkey_data/monkey_Schro/data_0402\n",
      "Files don't exist yet.\n",
      "====================================================================================================\n",
      "Processing session at: all_monkey_data/raw_monkey_data/monkey_Schro/data_0403\n",
      "Files don't exist yet.\n",
      "====================================================================================================\n",
      "Processing session at: all_monkey_data/raw_monkey_data/monkey_Schro/data_0404\n",
      "Files don't exist yet.\n",
      "====================================================================================================\n",
      "Processing session at: all_monkey_data/raw_monkey_data/monkey_Schro/data_0406\n",
      "Files don't exist yet.\n",
      "====================================================================================================\n",
      "Processing session at: all_monkey_data/raw_monkey_data/monkey_Schro/data_0409\n",
      "Files don't exist yet.\n",
      "====================================================================================================\n",
      "Processing session at: all_monkey_data/raw_monkey_data/monkey_Schro/data_0410\n",
      "Files don't exist yet.\n",
      "====================================================================================================\n",
      "Processing session at: all_monkey_data/raw_monkey_data/monkey_Schro/data_0411\n",
      "Files don't exist yet.\n",
      "====================================================================================================\n",
      "Processing session at: all_monkey_data/raw_monkey_data/monkey_Schro/data_0412\n",
      "Files don't exist yet.\n",
      "====================================================================================================\n",
      "Processing session at: all_monkey_data/raw_monkey_data/monkey_Schro/data_0413\n",
      "Files don't exist yet.\n",
      "====================================================================================================\n",
      "Processing session at: all_monkey_data/raw_monkey_data/monkey_Schro/data_0416\n"
     ]
    },
    {
     "data": {
      "image/png": "[encoded data removed]",
      "text/plain": [
       "<Figure size 800x400 with 1 Axes>"
      ]
     },
     "metadata": {},
     "output_type": "display_data"
    },
    {
     "name": "stderr",
     "output_type": "stream",
     "text": [
      "INFO:matplotlib.category:Using categorical units to plot a list of strings that are all parsable as floats or dates. If these strings should be plotted as numbers, cast to the appropriate data type before plotting.\n",
      "INFO:matplotlib.category:Using categorical units to plot a list of strings that are all parsable as floats or dates. If these strings should be plotted as numbers, cast to the appropriate data type before plotting.\n"
     ]
    },
    {
     "data": {
      "image/png": "[encoded data removed]",
      "text/plain": [
       "<Figure size 600x350 with 1 Axes>"
      ]
     },
     "metadata": {},
     "output_type": "display_data"
    },
    {
     "name": "stderr",
     "output_type": "stream",
     "text": [
      "INFO:matplotlib.category:Using categorical units to plot a list of strings that are all parsable as floats or dates. If these strings should be plotted as numbers, cast to the appropriate data type before plotting.\n",
      "INFO:matplotlib.category:Using categorical units to plot a list of strings that are all parsable as floats or dates. If these strings should be plotted as numbers, cast to the appropriate data type before plotting.\n"
     ]
    },
    {
     "data": {
      "image/png": "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",
      "text/plain": [
       "<Figure size 600x350 with 1 Axes>"
      ]
     },
     "metadata": {},
     "output_type": "display_data"
    }
   ],
   "source": [
    "import os\n",
    "import pandas as pd\n",
    "\n",
    "# Config\n",
    "raw_data_dir = 'all_monkey_data/raw_monkey_data'\n",
    "monkey_name = 'monkey_Schro'\n",
    "#file_name = 'scores_b0p1_t2_cur_first_p0p25_po0p75_d7_cv2.csv'\n",
    "file_name = 'scores_b0p1_t2_cur_first_p0p25_po0p75_d7_cv5.csv'\n",
    "features_to_plot = [\n",
    "    'cur_ff_distance', 'cur_ff_rel_x', 'time_rel_to_stop', \n",
    "    'nxt_ff_distance', 'nxt_ff_rel_x', 'time_since_last_capture'\n",
    "]\n",
    "\n",
    "# Load session info\n",
    "sessions_df = combine_info_utils.make_sessions_df_for_one_monkey(raw_data_dir, monkey_name)\n",
    "\n",
    "# Helper: get full paths for the neural CSVs\n",
    "def get_cv_score_paths(base_path, file_name):\n",
    "    neural_base = base_path.replace('raw_monkey_data', 'planning_and_neural')\n",
    "    return (\n",
    "        os.path.join(neural_base, 'event_aligned/time_resolved_cv_scores_gpfa', file_name),\n",
    "        os.path.join(neural_base, 'event_aligned/time_resolved_cv_scores/precomputed_gpfa', file_name)\n",
    "    )\n",
    "\n",
    "# Main loop\n",
    "for feature in features_to_plot:\n",
    "    print(f\"\\n{'='*100}\\n{'='*100}\")\n",
    "    print(f\"Feature: {feature}\")\n",
    "\n",
    "    for _, row in sessions_df.iterrows():\n",
    "        if row.get('finished', False):\n",
    "            continue\n",
    "\n",
    "        data_path = os.path.join(raw_data_dir, row['monkey_name'], row['data_name'])\n",
    "        print(f\"{'='*100}\\nProcessing session at: {data_path}\")\n",
    "\n",
    "        gpfa_path, precomputed_path = get_cv_score_paths(data_path, file_name)\n",
    "\n",
    "        if not (os.path.exists(gpfa_path) and os.path.exists(precomputed_path)):\n",
    "            print('Files don\\'t exist yet.')\n",
    "            continue\n",
    "\n",
    "        # Load and tag data\n",
    "        df_gpfa = pd.read_csv(gpfa_path)\n",
    "        df_gpfa['gpfa_inside'] = True\n",
    "\n",
    "        df_precomputed = pd.read_csv(precomputed_path)\n",
    "        df_precomputed['gpfa_inside'] = False\n",
    "\n",
    "        # ================================\n",
    "        ## in case the dfs are in the old format\n",
    "        if feature in df_precomputed.columns:\n",
    "            df_precomputed['r2'] = df_precomputed[feature].values\n",
    "            df_precomputed['feature'] = feature\n",
    "        if feature in df_gpfa.columns:\n",
    "            df_gpfa['r2'] = df_gpfa[feature].values\n",
    "            df_gpfa['feature'] = feature\n",
    "        # ================================\n",
    "\n",
    "        combined = pd.concat([df_gpfa, df_precomputed], ignore_index=True)\n",
    "        \n",
    "        # Subset and relabel\n",
    "        df_feature = combined[combined['feature'] == feature].copy()\n",
    "        df_feature.loc[df_feature['gpfa_inside'], 'feature'] = f\"{feature}_cv_w_gpfa\"\n",
    "        df_feature.drop(columns='gpfa_inside', inplace=True)\n",
    "\n",
    "        # Plot\n",
    "        pn.plot_time_resolved_regression(\n",
    "            time_resolved_cv_scores=df_feature,\n",
    "            score_threshold_to_plot=None,\n",
    "            rank_by_max_score=False\n",
    "        )\n",
    "        \n",
    "        plot_time_resolved_regression.plot_best_alpha_counts(df_precomputed, title='Precomputed: best alpha counts')\n",
    "        plot_time_resolved_regression.plot_best_alpha_counts(df_gpfa, title='GPFA: best alpha counts')\n",
    "\n",
    "        break  # Only one session per feature for now\n",
    "    break  # Remove this if you want to process all features\n"
   ]
  }
 ],
 "metadata": {
  "kernelspec": {
   "display_name": "ff_venv2",
   "language": "python",
   "name": "python3"
  },
  "language_info": {
   "codemirror_mode": {
    "name": "ipython",
    "version": 3
   },
   "file_extension": ".py",
   "mimetype": "text/x-python",
   "name": "python",
   "nbconvert_exporter": "python",
   "pygments_lexer": "ipython3",
   "version": "3.11.11"
  }
 },
 "nbformat": 4,
 "nbformat_minor": 2
}
