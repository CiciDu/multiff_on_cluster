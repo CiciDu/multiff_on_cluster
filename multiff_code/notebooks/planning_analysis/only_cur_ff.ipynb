{
 "cells": [
  {
   "cell_type": "markdown",
   "metadata": {},
   "source": [
    "# This analysis is to see the effect of cluster on the pursuit of the current target"
   ]
  },
  {
   "cell_type": "markdown",
   "metadata": {},
   "source": [
    "# Import packages"
   ]
  },
  {
   "cell_type": "code",
   "execution_count": 1,
   "metadata": {},
   "outputs": [
    {
     "name": "stdout",
     "output_type": "stream",
     "text": [
      "Changed the directory to 'Multifirefly-Project'.\n",
      "Added /Users/dusiyi/Documents/Multifirefly-Project/multiff_analysis/multiff_code/methods to the path.\n"
     ]
    }
   ],
   "source": [
    "\n",
    "%load_ext autoreload\n",
    "%autoreload 2\n",
    "\n",
    "from pathlib import Path\n",
    "import os, sys\n",
    "for p in [Path.cwd()] + list(Path.cwd().parents):\n",
    "    if p.name == 'Multifirefly-Project':\n",
    "        os.chdir(p)\n",
    "        sys.path.insert(0, str(p / 'multiff_analysis/multiff_code/methods'))\n",
    "        break\n",
    "\n",
    "\n",
    "import sys\n",
    "\n",
    "\n",
    "from data_wrangling import specific_utils, process_monkey_information, base_processing_class, combine_info_utils\n",
    "from pattern_discovery import pattern_by_trials, pattern_by_points, make_ff_dataframe, ff_dataframe_utils, pattern_by_trials, pattern_by_points, cluster_analysis, organize_patterns_and_features, category_class, cluster_analysis\n",
    "from decision_making_analysis.decision_making import decision_making_class, decision_making_utils, plot_decision_making, intended_targets_classes\n",
    "from decision_making_analysis.GUAT import GUAT_helper_class, GUAT_collect_info_class, GUAT_combine_info_class, add_features_GUAT_and_TAFT\n",
    "from decision_making_analysis import free_selection, replacement, trajectory_info\n",
    "from null_behaviors import show_null_trajectory, find_best_arc, curvature_utils, curv_of_traj_utils\n",
    "from machine_learning.ml_methods import regression_utils, classification_utils, prep_ml_data_utils, hyperparam_tuning_class\n",
    "from reinforcement_learning.base_classes import env_utils, base_env, more_envs, rl_base_class, rl_base_utils\n",
    "from reinforcement_learning.agents.rnn import gru_utils, lstm_utils\n",
    "from reinforcement_learning.agents.feedforward import interpret_neural_network, sb3_class, sb3_utils\n",
    "from visualization.matplotlib_tools import plot_trials, plot_polar, additional_plots, plot_behaviors_utils, plot_statistics, monkey_heading_utils\n",
    "from visualization.animation import animation_func, animation_utils, animation_class\n",
    "from planning_analysis.test_params_for_planning import params_test_combos_class, params_utils\n",
    "from visualization.plotly_tools import plotly_for_monkey, plotly_for_time_series, plotly_preparation, plotly_for_correlation\n",
    "from visualization.dash_tools import dash_prep_class, dash_utils, dash_utils, dash_comparison_class, dash_params_class\n",
    "from visualization.dash_tools.dash_main_class_methods import dash_main_class\n",
    "from neural_data_analysis.neural_analysis_tools.get_neural_data import neural_data_processing\n",
    "from neural_data_analysis.neural_analysis_tools.visualize_neural_data import plot_neural_data, plot_modeling_result\n",
    "from neural_data_analysis.neural_analysis_tools.model_neural_data import transform_vars, neural_data_modeling, drop_high_corr_vars, drop_high_vif_vars\n",
    "from neural_data_analysis.topic_based_neural_analysis.neural_vs_behavioral import prep_monkey_data, prep_target_data, neural_vs_behavioral_class\n",
    "from neural_data_analysis.topic_based_neural_analysis.planning_and_neural import planning_and_neural_class, pn_utils\n",
    "from planning_analysis.show_planning import nxt_ff_utils, show_planning_class, show_planning_utils\n",
    "from planning_analysis import ml_for_planning_class, ml_for_planning_utils\n",
    "from planning_analysis.show_planning.cur_vs_nxt_ff import cvn_helper_class, find_cvn_utils, plot_cvn_class, plot_cvn_utils, plot_monkey_heading_helper_class, cvn_from_ref_class\n",
    "from planning_analysis.only_cur_ff import only_cur_ff_utils, only_cur_ff_class, only_cur_ff_utils, only_cur_ff_x_sess_class\n",
    "from planning_analysis.plan_factors import plan_factors_utils, build_factor_comp, plan_factors_class, monkey_plan_factors_x_sess_class\n",
    "from machine_learning.ml_methods import ml_methods_class, prep_ml_data_utils\n",
    "from planning_analysis.plan_factors import monkey_plan_factors_x_sess_class, test_vs_control_utils, monkey_plan_factors_x_sess_class\n",
    "from planning_analysis.only_cur_ff import features_to_keep_utils\n",
    "from eye_position_analysis import eye_positions\n",
    "\n",
    "from importlib import reload\n",
    "import os, sys\n",
    "import numpy as np\n",
    "import matplotlib\n",
    "import matplotlib.pyplot as plt\n",
    "from sklearn.ensemble import BaggingRegressor, AdaBoostRegressor, RandomForestRegressor\n",
    "from matplotlib import cm\n",
    "from os.path import exists\n",
    "import seaborn as sns\n",
    "import math\n",
    "import copy\n",
    "import matplotlib.pyplot as plt\n",
    "import pandas as pd\n",
    "import torch\n",
    "import torch.nn as nn\n",
    "import torch.optim as optim\n",
    "import tqdm\n",
    "import itertools\n",
    "import plotly.express as px\n",
    "from scipy.stats import rankdata\n",
    "from scipy import stats\n",
    "from IPython.display import HTML\n",
    "from matplotlib import rc\n",
    "from sklearn.model_selection import train_test_split\n",
    "from sklearn.preprocessing import OneHotEncoder\n",
    "from sklearn.datasets import make_multilabel_classification\n",
    "from sklearn.model_selection import train_test_split\n",
    "from sklearn.multioutput import MultiOutputClassifier\n",
    "from sklearn.neighbors import KNeighborsClassifier\n",
    "from sklearn.metrics import accuracy_score, hamming_loss, multilabel_confusion_matrix, fbeta_score, precision_score, recall_score\n",
    "from sklearn.svm import SVC\n",
    "from sklearn.tree import DecisionTreeClassifier\n",
    "from sklearn.ensemble import AdaBoostClassifier, RandomForestClassifier, VotingClassifier, BaggingClassifier, GradientBoostingClassifier\n",
    "from sklearn.neural_network import MLPClassifier\n",
    "from sklearn.linear_model import LinearRegression\n",
    "from sklearn.neighbors import KNeighborsRegressor, KNeighborsClassifier\n",
    "from sklearn.naive_bayes import GaussianNB\n",
    "from sklearn.linear_model import LogisticRegression\n",
    "from sklearn.linear_model import LassoCV\n",
    "from sklearn.model_selection import train_test_split\n",
    "from sklearn.preprocessing import StandardScaler\n",
    "from math import pi\n",
    "from scipy.ndimage import gaussian_filter1d\n",
    "from statsmodels.graphics.tsaplots import plot_acf\n",
    "import warnings\n",
    "import os, sys, sys\n",
    "from sklearn.exceptions import ConvergenceWarning\n",
    "import plotly.graph_objects as go\n",
    "import gc\n",
    "from sklearn.cross_decomposition import CCA\n",
    "\n",
    "plt.rcParams[\"animation.html\"] = \"html5\"\n",
    "os.environ['KMP_DUPLICATE_LIB_OK']='True'\n",
    "rc('animation', html='jshtml')\n",
    "matplotlib.rcParams.update(matplotlib.rcParamsDefault)\n",
    "matplotlib.rcParams['animation.embed_limit'] = 2**128\n",
    "pd.set_option('display.float_format', lambda x: '%.5f' % x)\n",
    "np.set_printoptions(suppress=True)\n",
    "pd.options.display.max_rows = 101"
   ]
  },
  {
   "cell_type": "code",
   "execution_count": 2,
   "metadata": {},
   "outputs": [],
   "source": [
    "data_item = None\n",
    "raw_data_folder_path = \"all_monkey_data/raw_monkey_data/monkey_Bruno/data_0328\""
   ]
  },
  {
   "cell_type": "markdown",
   "metadata": {},
   "source": [
    "# Run before sleep"
   ]
  },
  {
   "cell_type": "markdown",
   "metadata": {},
   "source": [
    "## all_only_cur_lr_df"
   ]
  },
  {
   "cell_type": "code",
   "execution_count": 3,
   "metadata": {},
   "outputs": [
    {
     "name": "stdout",
     "output_type": "stream",
     "text": [
      "Failed to retrieve all_only_cur_lr_df from all_monkey_data/planning/monkey_Bruno/combined_data/only_cur_ff/ml_results/lr_variations/opt_arc_stop_closest/all_only_cur_lr_df.csv; will make a new one\n",
      "all_monkey_data/raw_monkey_data/monkey_Bruno/data_0219\n",
      "Retrieved monkey_information\n",
      "The number of points that were removed due to delta_position exceeding the ceiling is 0\n",
      "Warning: ff_closest_stop_time_sorted has 1 points out of 1220 points that are significantly larger than ff_caught_T_sorted, which is 0.08% of the points. Max value of closest_time - capture time is 0.3652180000003682. They are replaced with the original ff_caught_T in ff_caught_T_new.\n",
      "Warning: ff_closest_stop_time_sorted has 67 points where monkey is outside of 1220 points that are outside of the reward boundary, which is 5.49% of the points. They are replaced with the original ff_caught_T in ff_caught_T_new.\n",
      "Warning: ff_caught_T_new is not monotonically increasing. Will make it monotonically increasing.\n",
      "Note: ff_caught_T_sorted is replaced with ff_caught_T_new\n",
      "Failed to retrieve only_cur_ff_df from all_monkey_data/planning/monkey_Bruno/data_0219/only_cur_ff/only_cur_ff_df/opt_arc_stop_closest/Bruno_stop_0_2.csv; will make a new one\n",
      "Retrieved ff_dataframe from all_monkey_data/processed_data/monkey_Bruno/data_0219/ff_dataframe.h5\n",
      "Warning: There are 150 rows out of 1220 rows in ff_info that have null values because they were not visible in the stop period. They will be dropped\n",
      "Warning: when making curvature_df, 47 out of 1043 rows are not within the valid ff_angle_boundary when using the function make_curvature_df.\n",
      "Number of unique ff in the dropped rows: 47\n",
      "Warning: The number of rows in null_arc_info and stop_and_ref_point_info do not match.\n",
      "New only_cur_ff_df was stored in all_monkey_data/planning/monkey_Bruno/data_0219/only_cur_ff/only_cur_ff_df/opt_arc_stop_closest/Bruno_stop_0_2.csv.\n",
      "Failed to retrieve x_features_df from all_monkey_data/planning/monkey_Bruno/data_0219/only_cur_ff/x_features_df/opt_arc_stop_closest/Bruno_stop_0_2.csv; will make a new one\n",
      "Dropped NaN values in ff_info_at_start_df\n",
      "New x_features_df was stored in all_monkey_data/planning/monkey_Bruno/data_0219/only_cur_ff/x_features_df/opt_arc_stop_closest/Bruno_stop_0_2.csv.\n",
      "len(self.only_cur_ff_df):  1043\n",
      "len(self.x_features_df):  1043\n",
      "all_monkey_data/raw_monkey_data/monkey_Bruno/data_0220\n",
      "Retrieved monkey_information\n",
      "The number of points that were removed due to delta_position exceeding the ceiling is 0\n",
      "Warning: ff_closest_stop_time_sorted has 1 points out of 725 points that are significantly larger than ff_caught_T_sorted, which is 0.14% of the points. Max value of closest_time - capture time is 0.38228999999999935. They are replaced with the original ff_caught_T in ff_caught_T_new.\n",
      "Warning: ff_closest_stop_time_sorted has 47 points where monkey is outside of 725 points that are outside of the reward boundary, which is 6.48% of the points. They are replaced with the original ff_caught_T in ff_caught_T_new.\n",
      "Warning: ff_caught_T_new is not monotonically increasing. Will make it monotonically increasing.\n",
      "Note: ff_caught_T_sorted is replaced with ff_caught_T_new\n",
      "Failed to retrieve only_cur_ff_df from all_monkey_data/planning/monkey_Bruno/data_0220/only_cur_ff/only_cur_ff_df/opt_arc_stop_closest/Bruno_stop_0_2.csv; will make a new one\n",
      "Retrieved ff_dataframe from all_monkey_data/processed_data/monkey_Bruno/data_0220/ff_dataframe.h5\n",
      "Warning: There are 111 rows out of 725 rows in ff_info that have null values because they were not visible in the stop period. They will be dropped\n",
      "Warning: when making curvature_df, 22 out of 601 rows are not within the valid ff_angle_boundary when using the function make_curvature_df.\n",
      "Number of unique ff in the dropped rows: 22\n",
      "Warning: The number of rows in null_arc_info and stop_and_ref_point_info do not match.\n",
      "New only_cur_ff_df was stored in all_monkey_data/planning/monkey_Bruno/data_0220/only_cur_ff/only_cur_ff_df/opt_arc_stop_closest/Bruno_stop_0_2.csv.\n",
      "Failed to retrieve x_features_df from all_monkey_data/planning/monkey_Bruno/data_0220/only_cur_ff/x_features_df/opt_arc_stop_closest/Bruno_stop_0_2.csv; will make a new one\n",
      "Dropped NaN values in ff_info_at_start_df\n",
      "New x_features_df was stored in all_monkey_data/planning/monkey_Bruno/data_0220/only_cur_ff/x_features_df/opt_arc_stop_closest/Bruno_stop_0_2.csv.\n",
      "len(self.only_cur_ff_df):  601\n",
      "len(self.x_features_df):  601\n",
      "all_monkey_data/raw_monkey_data/monkey_Bruno/data_0221\n",
      "Retrieved monkey_information\n",
      "The number of points that were removed due to delta_position exceeding the ceiling is 0\n",
      "Warning: ff_closest_stop_time_sorted has 28 points where monkey is outside of 1117 points that are outside of the reward boundary, which is 2.51% of the points. They are replaced with the original ff_caught_T in ff_caught_T_new.\n",
      "Warning: ff_caught_T_new is not monotonically increasing. Will make it monotonically increasing.\n",
      "Note: ff_caught_T_sorted is replaced with ff_caught_T_new\n",
      "Failed to retrieve only_cur_ff_df from all_monkey_data/planning/monkey_Bruno/data_0221/only_cur_ff/only_cur_ff_df/opt_arc_stop_closest/Bruno_stop_0_2.csv; will make a new one\n",
      "Retrieved ff_dataframe from all_monkey_data/processed_data/monkey_Bruno/data_0221/ff_dataframe.h5\n",
      "Warning: There are 162 rows out of 1117 rows in ff_info that have null values because they were not visible in the stop period. They will be dropped\n",
      "Warning: when making curvature_df, 33 out of 940 rows are not within the valid ff_angle_boundary when using the function make_curvature_df.\n",
      "Number of unique ff in the dropped rows: 33\n",
      "Warning: The number of rows in null_arc_info and stop_and_ref_point_info do not match.\n",
      "New only_cur_ff_df was stored in all_monkey_data/planning/monkey_Bruno/data_0221/only_cur_ff/only_cur_ff_df/opt_arc_stop_closest/Bruno_stop_0_2.csv.\n",
      "Failed to retrieve x_features_df from all_monkey_data/planning/monkey_Bruno/data_0221/only_cur_ff/x_features_df/opt_arc_stop_closest/Bruno_stop_0_2.csv; will make a new one\n",
      "Dropped NaN values in ff_info_at_start_df\n",
      "New x_features_df was stored in all_monkey_data/planning/monkey_Bruno/data_0221/only_cur_ff/x_features_df/opt_arc_stop_closest/Bruno_stop_0_2.csv.\n",
      "len(self.only_cur_ff_df):  940\n",
      "len(self.x_features_df):  940\n",
      "all_monkey_data/raw_monkey_data/monkey_Bruno/data_0222\n",
      "Retrieved monkey_information\n",
      "The number of points that were removed due to delta_position exceeding the ceiling is 0\n",
      "Warning: ff_closest_stop_time_sorted has 1 points out of 1233 points that are significantly larger than ff_caught_T_sorted, which is 0.08% of the points. Max value of closest_time - capture time is 0.4316400000000158. They are replaced with the original ff_caught_T in ff_caught_T_new.\n",
      "Warning: ff_closest_stop_time_sorted has 72 points where monkey is outside of 1233 points that are outside of the reward boundary, which is 5.84% of the points. They are replaced with the original ff_caught_T in ff_caught_T_new.\n",
      "Warning: ff_caught_T_new is not monotonically increasing. Will make it monotonically increasing.\n",
      "Note: ff_caught_T_sorted is replaced with ff_caught_T_new\n",
      "Failed to retrieve only_cur_ff_df from all_monkey_data/planning/monkey_Bruno/data_0222/only_cur_ff/only_cur_ff_df/opt_arc_stop_closest/Bruno_stop_0_2.csv; will make a new one\n",
      "Retrieved ff_dataframe from all_monkey_data/processed_data/monkey_Bruno/data_0222/ff_dataframe.h5\n",
      "Warning: There are 149 rows out of 1233 rows in ff_info that have null values because they were not visible in the stop period. They will be dropped\n",
      "Warning: when making curvature_df, 58 out of 1054 rows are not within the valid ff_angle_boundary when using the function make_curvature_df.\n",
      "Number of unique ff in the dropped rows: 58\n",
      "Warning: The number of rows in null_arc_info and stop_and_ref_point_info do not match.\n",
      "New only_cur_ff_df was stored in all_monkey_data/planning/monkey_Bruno/data_0222/only_cur_ff/only_cur_ff_df/opt_arc_stop_closest/Bruno_stop_0_2.csv.\n",
      "Failed to retrieve x_features_df from all_monkey_data/planning/monkey_Bruno/data_0222/only_cur_ff/x_features_df/opt_arc_stop_closest/Bruno_stop_0_2.csv; will make a new one\n",
      "Dropped NaN values in ff_info_at_start_df\n",
      "New x_features_df was stored in all_monkey_data/planning/monkey_Bruno/data_0222/only_cur_ff/x_features_df/opt_arc_stop_closest/Bruno_stop_0_2.csv.\n",
      "len(self.only_cur_ff_df):  1054\n",
      "len(self.x_features_df):  1054\n",
      "all_monkey_data/raw_monkey_data/monkey_Bruno/data_0226\n",
      "Retrieved monkey_information\n",
      "The number of points that were removed due to delta_position exceeding the ceiling is 0\n",
      "Warning: ff_closest_stop_time_sorted has 3 points out of 1017 points that are significantly larger than ff_caught_T_sorted, which is 0.29% of the points. Max value of closest_time - capture time is 0.49797199999966324. They are replaced with the original ff_caught_T in ff_caught_T_new.\n",
      "Warning: ff_closest_stop_time_sorted has 49 points where monkey is outside of 1017 points that are outside of the reward boundary, which is 4.82% of the points. They are replaced with the original ff_caught_T in ff_caught_T_new.\n",
      "Warning: ff_caught_T_new is not monotonically increasing. Will make it monotonically increasing.\n",
      "Note: ff_caught_T_sorted is replaced with ff_caught_T_new\n",
      "Failed to retrieve only_cur_ff_df from all_monkey_data/planning/monkey_Bruno/data_0226/only_cur_ff/only_cur_ff_df/opt_arc_stop_closest/Bruno_stop_0_2.csv; will make a new one\n",
      "Retrieved ff_dataframe from all_monkey_data/processed_data/monkey_Bruno/data_0226/ff_dataframe.h5\n",
      "Warning: There are 120 rows out of 1017 rows in ff_info that have null values because they were not visible in the stop period. They will be dropped\n",
      "Warning: when making curvature_df, 42 out of 880 rows are not within the valid ff_angle_boundary when using the function make_curvature_df.\n",
      "Number of unique ff in the dropped rows: 42\n",
      "Warning: The number of rows in null_arc_info and stop_and_ref_point_info do not match.\n",
      "New only_cur_ff_df was stored in all_monkey_data/planning/monkey_Bruno/data_0226/only_cur_ff/only_cur_ff_df/opt_arc_stop_closest/Bruno_stop_0_2.csv.\n",
      "Failed to retrieve x_features_df from all_monkey_data/planning/monkey_Bruno/data_0226/only_cur_ff/x_features_df/opt_arc_stop_closest/Bruno_stop_0_2.csv; will make a new one\n"
     ]
    },
    {
     "ename": "KeyboardInterrupt",
     "evalue": "",
     "output_type": "error",
     "traceback": [
      "\u001b[31m---------------------------------------------------------------------------\u001b[39m",
      "\u001b[31mKeyboardInterrupt\u001b[39m                         Traceback (most recent call last)",
      "\u001b[36mCell\u001b[39m\u001b[36m \u001b[39m\u001b[32mIn[3]\u001b[39m\u001b[32m, line 2\u001b[39m\n\u001b[32m      1\u001b[39m osfxs =only_cur_ff_x_sess_class.OnlyStopFFAcrossSessions(monkey_name=\u001b[33m'\u001b[39m\u001b[33mmonkey_Bruno\u001b[39m\u001b[33m'\u001b[39m)\n\u001b[32m----> \u001b[39m\u001b[32m2\u001b[39m all_only_cur_lr_df = \u001b[43mosfxs\u001b[49m\u001b[43m.\u001b[49m\u001b[43mmake_or_retrieve_all_only_cur_lr_df\u001b[49m\u001b[43m(\u001b[49m\u001b[43m)\u001b[49m\n",
      "\u001b[36mFile \u001b[39m\u001b[32m~/Documents/Multifirefly-Project/multiff_analysis/multiff_code/methods/planning_analysis/only_cur_ff/only_cur_ff_x_sess_class.py:209\u001b[39m, in \u001b[36mOnlyStopFFAcrossSessions.make_or_retrieve_all_only_cur_lr_df\u001b[39m\u001b[34m(self, ref_point_params_based_on_mode, exists_ok)\u001b[39m\n\u001b[32m    207\u001b[39m \u001b[38;5;28mself\u001b[39m.all_only_cur_lr_df = pd.DataFrame()\n\u001b[32m    208\u001b[39m \u001b[38;5;28;01mfor\u001b[39;00m index, row \u001b[38;5;129;01min\u001b[39;00m \u001b[38;5;28mself\u001b[39m.variations_list.iterrows():\n\u001b[32m--> \u001b[39m\u001b[32m209\u001b[39m     \u001b[38;5;28;43mself\u001b[39;49m\u001b[43m.\u001b[49m\u001b[43mmake_only_cur_ff_df_and_x_features_df_across_sessions\u001b[49m\u001b[43m(\u001b[49m\n\u001b[32m    210\u001b[39m \u001b[43m        \u001b[49m\u001b[43mexists_ok\u001b[49m\u001b[43m=\u001b[49m\u001b[38;5;28;43;01mTrue\u001b[39;49;00m\u001b[43m,\u001b[49m\n\u001b[32m    211\u001b[39m \u001b[43m        \u001b[49m\u001b[43mx_features_df_exists_ok\u001b[49m\u001b[43m=\u001b[49m\u001b[38;5;28;43;01mTrue\u001b[39;49;00m\u001b[43m,\u001b[49m\n\u001b[32m    212\u001b[39m \u001b[43m        \u001b[49m\u001b[43monly_cur_ff_df_exists_ok\u001b[49m\u001b[43m=\u001b[49m\u001b[38;5;28;43;01mTrue\u001b[39;49;00m\u001b[43m,\u001b[49m\n\u001b[32m    213\u001b[39m \u001b[43m        \u001b[49m\u001b[43mref_point_mode\u001b[49m\u001b[43m=\u001b[49m\u001b[43mrow\u001b[49m\u001b[43m[\u001b[49m\u001b[33;43m'\u001b[39;49m\u001b[33;43mref_point_mode\u001b[39;49m\u001b[33;43m'\u001b[39;49m\u001b[43m]\u001b[49m\u001b[43m,\u001b[49m\n\u001b[32m    214\u001b[39m \u001b[43m        \u001b[49m\u001b[43mref_point_value\u001b[49m\u001b[43m=\u001b[49m\u001b[43mrow\u001b[49m\u001b[43m[\u001b[49m\u001b[33;43m'\u001b[39;49m\u001b[33;43mref_point_value\u001b[39;49m\u001b[33;43m'\u001b[39;49m\u001b[43m]\u001b[49m\n\u001b[32m    215\u001b[39m \u001b[43m    \u001b[49m\u001b[43m)\u001b[49m\n\u001b[32m    216\u001b[39m     \u001b[38;5;28mself\u001b[39m.only_cur_lr_df = \u001b[38;5;28mself\u001b[39m.ml_inst.try_different_combinations_for_linear_regressions(\n\u001b[32m    217\u001b[39m         \u001b[38;5;28mself\u001b[39m,\n\u001b[32m    218\u001b[39m         y_columns_of_interest=[\n\u001b[32m   (...)\u001b[39m\u001b[32m    223\u001b[39m         ]\n\u001b[32m    224\u001b[39m     )\n\u001b[32m    225\u001b[39m     \u001b[38;5;28mself\u001b[39m.all_only_cur_lr_df = pd.concat(\n\u001b[32m    226\u001b[39m         [\u001b[38;5;28mself\u001b[39m.all_only_cur_lr_df, \u001b[38;5;28mself\u001b[39m.only_cur_lr_df], axis=\u001b[32m0\u001b[39m)\n",
      "\u001b[36mFile \u001b[39m\u001b[32m~/Documents/Multifirefly-Project/multiff_analysis/multiff_code/methods/planning_analysis/only_cur_ff/only_cur_ff_x_sess_class.py:125\u001b[39m, in \u001b[36mOnlyStopFFAcrossSessions.make_only_cur_ff_df_and_x_features_df_across_sessions\u001b[39m\u001b[34m(self, exists_ok, only_cur_ff_df_exists_ok, x_features_df_exists_ok, stop_period_duration, ref_point_mode, ref_point_value)\u001b[39m\n\u001b[32m    120\u001b[39m base_processing_class.BaseProcessing.get_related_folder_names_from_raw_data_folder_path(\n\u001b[32m    121\u001b[39m     \u001b[38;5;28mself\u001b[39m.osf, raw_data_folder_path)\n\u001b[32m    123\u001b[39m \u001b[38;5;28mself\u001b[39m.osf.make_only_cur_ff_df(exists_ok=only_cur_ff_df_exists_ok, stop_period_duration=stop_period_duration,\n\u001b[32m    124\u001b[39m                              ref_point_mode=ref_point_mode, ref_point_value=ref_point_value)\n\u001b[32m--> \u001b[39m\u001b[32m125\u001b[39m \u001b[38;5;28;43mself\u001b[39;49m\u001b[43m.\u001b[49m\u001b[43mosf\u001b[49m\u001b[43m.\u001b[49m\u001b[43mmake_x_features_df\u001b[49m\u001b[43m(\u001b[49m\u001b[43mexists_ok\u001b[49m\u001b[43m=\u001b[49m\u001b[43mx_features_df_exists_ok\u001b[49m\u001b[43m,\u001b[49m\n\u001b[32m    126\u001b[39m \u001b[43m                            \u001b[49m\u001b[43mref_point_mode\u001b[49m\u001b[43m=\u001b[49m\u001b[43mref_point_mode\u001b[49m\u001b[43m,\u001b[49m\u001b[43m \u001b[49m\u001b[43mref_point_value\u001b[49m\u001b[43m=\u001b[49m\u001b[43mref_point_value\u001b[49m\u001b[43m)\u001b[49m\n\u001b[32m    128\u001b[39m current_session_info = (\n\u001b[32m    129\u001b[39m     \u001b[38;5;28mself\u001b[39m.sessions_df_for_one_monkey[\u001b[33m'\u001b[39m\u001b[33mdata_name\u001b[39m\u001b[33m'\u001b[39m] == data_name)\n\u001b[32m    130\u001b[39m \u001b[38;5;28mself\u001b[39m.sessions_df_for_one_monkey.loc[current_session_info,\n\u001b[32m    131\u001b[39m                                     \u001b[33m'\u001b[39m\u001b[33mfinished\u001b[39m\u001b[33m'\u001b[39m] = \u001b[38;5;28;01mTrue\u001b[39;00m\n",
      "\u001b[36mFile \u001b[39m\u001b[32m~/Documents/Multifirefly-Project/multiff_analysis/multiff_code/methods/planning_analysis/only_cur_ff/only_cur_ff_class.py:139\u001b[39m, in \u001b[36mOnlyStopFF.make_x_features_df\u001b[39m\u001b[34m(self, exists_ok, ref_point_mode, ref_point_value, list_of_cur_ff_cluster_radius, list_of_cur_ff_ang_cluster_radius, list_of_start_dist_cluster_radius, list_of_start_ang_cluster_radius, list_of_flash_cluster_period)\u001b[39m\n\u001b[32m    135\u001b[39m     \u001b[38;5;28mself\u001b[39m.load_raw_data(raw_data_folder_path=\u001b[38;5;28mself\u001b[39m.raw_data_folder_path, window_for_curv_of_traj=\u001b[38;5;28mself\u001b[39m.window_for_curv_of_traj,\n\u001b[32m    136\u001b[39m                        curv_of_traj_mode=\u001b[38;5;28mself\u001b[39m.curv_of_traj_mode, truncate_curv_of_traj_by_time_of_capture=\u001b[38;5;28;01mFalse\u001b[39;00m)\n\u001b[32m    138\u001b[39m \u001b[38;5;28;01mif\u001b[39;00m \u001b[38;5;28mself\u001b[39m.ff_info_at_start_df \u001b[38;5;129;01mis\u001b[39;00m \u001b[38;5;28;01mNone\u001b[39;00m:\n\u001b[32m--> \u001b[39m\u001b[32m139\u001b[39m     \u001b[38;5;28;43mself\u001b[39;49m\u001b[43m.\u001b[49m\u001b[43m_make_ff_info_at_start_df\u001b[49m\u001b[43m(\u001b[49m\u001b[43m)\u001b[49m\n\u001b[32m    140\u001b[39m \u001b[38;5;28mself\u001b[39m.x_features_df, \u001b[38;5;28mself\u001b[39m.all_cluster_names = only_cur_ff_utils.get_x_features_df(\u001b[38;5;28mself\u001b[39m.ff_info_at_start_df, \u001b[38;5;28mself\u001b[39m.cur_ff_info_at_start_df,\n\u001b[32m    141\u001b[39m                                                                                  list_of_cur_ff_cluster_radius=list_of_cur_ff_cluster_radius,\n\u001b[32m    142\u001b[39m                                                                                  list_of_cur_ff_ang_cluster_radius=list_of_cur_ff_ang_cluster_radius,\n\u001b[32m   (...)\u001b[39m\u001b[32m    145\u001b[39m                                                                                  list_of_flash_cluster_period=list_of_flash_cluster_period,\n\u001b[32m    146\u001b[39m                                                                                  )\n\u001b[32m    148\u001b[39m \u001b[38;5;28mself\u001b[39m.x_features_df_w_all_columns = \u001b[38;5;28mself\u001b[39m.x_features_df.copy()\n",
      "\u001b[36mFile \u001b[39m\u001b[32m~/Documents/Multifirefly-Project/multiff_analysis/multiff_code/methods/planning_analysis/only_cur_ff/only_cur_ff_class.py:109\u001b[39m, in \u001b[36mOnlyStopFF._make_ff_info_at_start_df\u001b[39m\u001b[34m(self, stop_period_duration)\u001b[39m\n\u001b[32m    106\u001b[39m \u001b[38;5;28;01mdef\u001b[39;00m\u001b[38;5;250m \u001b[39m\u001b[34m_make_ff_info_at_start_df\u001b[39m(\u001b[38;5;28mself\u001b[39m, stop_period_duration=\u001b[32m2\u001b[39m):\n\u001b[32m    107\u001b[39m     \u001b[38;5;28mself\u001b[39m.monkey_info_in_all_stop_periods = only_cur_ff_utils.make_monkey_info_in_all_stop_periods(\n\u001b[32m    108\u001b[39m         \u001b[38;5;28mself\u001b[39m.closest_stop_to_capture_df, \u001b[38;5;28mself\u001b[39m.monkey_information, stop_period_duration=stop_period_duration)\n\u001b[32m--> \u001b[39m\u001b[32m109\u001b[39m     \u001b[38;5;28mself\u001b[39m.ff_info_at_start_df, \u001b[38;5;28mself\u001b[39m.cur_ff_info_at_start_df = \u001b[43monly_cur_ff_utils\u001b[49m\u001b[43m.\u001b[49m\u001b[43mfind_ff_info_and_cur_ff_info_at_start_df\u001b[49m\u001b[43m(\u001b[49m\u001b[38;5;28;43mself\u001b[39;49m\u001b[43m.\u001b[49m\u001b[43monly_cur_ff_df\u001b[49m\u001b[43m,\u001b[49m\u001b[43m \u001b[49m\u001b[38;5;28;43mself\u001b[39;49m\u001b[43m.\u001b[49m\u001b[43mmonkey_info_in_all_stop_periods\u001b[49m\u001b[43m,\u001b[49m\u001b[43m \u001b[49m\u001b[38;5;28;43mself\u001b[39;49m\u001b[43m.\u001b[49m\u001b[43mff_flash_sorted\u001b[49m\u001b[43m,\u001b[49m\n\u001b[32m    110\u001b[39m \u001b[43m                                                                                                                        \u001b[49m\u001b[38;5;28;43mself\u001b[39;49m\u001b[43m.\u001b[49m\u001b[43mff_real_position_sorted\u001b[49m\u001b[43m,\u001b[49m\u001b[43m \u001b[49m\u001b[38;5;28;43mself\u001b[39;49m\u001b[43m.\u001b[49m\u001b[43mff_life_sorted\u001b[49m\u001b[43m,\u001b[49m\u001b[43m \u001b[49m\u001b[43mff_radius\u001b[49m\u001b[43m=\u001b[49m\u001b[32;43m10\u001b[39;49m\u001b[43m,\u001b[49m\u001b[43m \u001b[49m\u001b[43mdropna\u001b[49m\u001b[43m=\u001b[49m\u001b[38;5;28;43;01mTrue\u001b[39;49;00m\u001b[43m,\u001b[49m\n\u001b[32m    111\u001b[39m \u001b[43m                                                                                                                        \u001b[49m\u001b[43mfilter_out_ff_not_in_front_of_monkey_at_ref_point\u001b[49m\u001b[43m=\u001b[49m\u001b[38;5;28;43;01mFalse\u001b[39;49;00m\u001b[43m)\u001b[49m\n",
      "\u001b[36mFile \u001b[39m\u001b[32m~/Documents/Multifirefly-Project/multiff_analysis/multiff_code/methods/planning_analysis/only_cur_ff/only_cur_ff_utils.py:155\u001b[39m, in \u001b[36mfind_ff_info_and_cur_ff_info_at_start_df\u001b[39m\u001b[34m(only_cur_ff_df, monkey_info_in_all_stop_periods, ff_flash_sorted, ff_real_position_sorted, ff_life_sorted, ff_radius, dropna, guarantee_info_for_cur_ff, filter_out_ff_not_in_front_of_monkey_at_ref_point)\u001b[39m\n\u001b[32m    148\u001b[39m ff_info_at_start_df.rename(columns={\u001b[33m'\u001b[39m\u001b[33mff_index\u001b[39m\u001b[33m'\u001b[39m: \u001b[33m'\u001b[39m\u001b[33mcur_ff_index\u001b[39m\u001b[33m'\u001b[39m,\n\u001b[32m    149\u001b[39m                                     \u001b[33m'\u001b[39m\u001b[33mff_x\u001b[39m\u001b[33m'\u001b[39m: \u001b[33m'\u001b[39m\u001b[33mcur_ff_x\u001b[39m\u001b[33m'\u001b[39m,\n\u001b[32m    150\u001b[39m                                     \u001b[33m'\u001b[39m\u001b[33mff_y\u001b[39m\u001b[33m'\u001b[39m: \u001b[33m'\u001b[39m\u001b[33mcur_ff_y\u001b[39m\u001b[33m'\u001b[39m,\n\u001b[32m    151\u001b[39m                                     \u001b[33m'\u001b[39m\u001b[33mff_angle\u001b[39m\u001b[33m'\u001b[39m: \u001b[33m'\u001b[39m\u001b[33mcur_ff_angle\u001b[39m\u001b[33m'\u001b[39m}, inplace=\u001b[38;5;28;01mTrue\u001b[39;00m)\n\u001b[32m    153\u001b[39m monkey_info_in_all_stop_periods = monkey_info_in_all_stop_periods[monkey_info_in_all_stop_periods[\u001b[33m'\u001b[39m\u001b[33mstop_point_index\u001b[39m\u001b[33m'\u001b[39m].isin(\n\u001b[32m    154\u001b[39m     only_cur_ff_df[\u001b[33m'\u001b[39m\u001b[33mstop_point_index\u001b[39m\u001b[33m'\u001b[39m].values)].copy()\n\u001b[32m--> \u001b[39m\u001b[32m155\u001b[39m flash_time_info = \u001b[43m_get_info_of_ff_whose_flash_time_overlaps_with_stop_periods\u001b[49m\u001b[43m(\u001b[49m\n\u001b[32m    156\u001b[39m \u001b[43m    \u001b[49m\u001b[43mmonkey_info_in_all_stop_periods\u001b[49m\u001b[43m,\u001b[49m\u001b[43m \u001b[49m\u001b[43mff_flash_sorted\u001b[49m\u001b[43m,\u001b[49m\u001b[43m \u001b[49m\u001b[43mff_life_sorted\u001b[49m\u001b[43m)\u001b[49m\n\u001b[32m    158\u001b[39m \u001b[38;5;28;01mif\u001b[39;00m guarantee_info_for_cur_ff:\n\u001b[32m    159\u001b[39m     cur_ff_info = only_cur_ff_df[[\u001b[33m'\u001b[39m\u001b[33mff_index\u001b[39m\u001b[33m'\u001b[39m, \u001b[33m'\u001b[39m\u001b[33mstop_point_index\u001b[39m\u001b[33m'\u001b[39m]]\n",
      "\u001b[36mFile \u001b[39m\u001b[32m~/Documents/Multifirefly-Project/multiff_analysis/multiff_code/methods/planning_analysis/only_cur_ff/only_cur_ff_utils.py:272\u001b[39m, in \u001b[36m_get_info_of_ff_whose_flash_time_overlaps_with_stop_periods\u001b[39m\u001b[34m(monkey_info_in_all_stop_periods, ff_flash_sorted, ff_life_sorted)\u001b[39m\n\u001b[32m    270\u001b[39m \u001b[38;5;28;01mfor\u001b[39;00m i \u001b[38;5;129;01min\u001b[39;00m \u001b[38;5;28mrange\u001b[39m(\u001b[38;5;28mlen\u001b[39m(ff_life_sorted)):\n\u001b[32m    271\u001b[39m     ff_flash = ff_flash_sorted[i]\n\u001b[32m--> \u001b[39m\u001b[32m272\u001b[39m     in_flash_iloc, _ = \u001b[43m_find_index_of_points_within_flash_period_for_a_ff\u001b[49m\u001b[43m(\u001b[49m\n\u001b[32m    273\u001b[39m \u001b[43m        \u001b[49m\u001b[43mtime\u001b[49m\u001b[43m,\u001b[49m\u001b[43m \u001b[49m\u001b[43mff_flash\u001b[49m\u001b[43m)\u001b[49m\n\u001b[32m    274\u001b[39m     all_in_flash_iloc.extend(in_flash_iloc.tolist())\n\u001b[32m    275\u001b[39m     all_ff_index.extend([i] * \u001b[38;5;28mlen\u001b[39m(in_flash_iloc))\n",
      "\u001b[36mFile \u001b[39m\u001b[32m~/Documents/Multifirefly-Project/multiff_analysis/multiff_code/methods/planning_analysis/only_cur_ff/only_cur_ff_utils.py:301\u001b[39m, in \u001b[36m_find_index_of_points_within_flash_period_for_a_ff\u001b[39m\u001b[34m(time, ff_flash)\u001b[39m\n\u001b[32m    300\u001b[39m \u001b[38;5;28;01mdef\u001b[39;00m\u001b[38;5;250m \u001b[39m\u001b[34m_find_index_of_points_within_flash_period_for_a_ff\u001b[39m(time, ff_flash):\n\u001b[32m--> \u001b[39m\u001b[32m301\u001b[39m     point_corr_position_in_flash = \u001b[43mnp\u001b[49m\u001b[43m.\u001b[49m\u001b[43msearchsorted\u001b[49m\u001b[43m(\u001b[49m\u001b[43mff_flash\u001b[49m\u001b[43m.\u001b[49m\u001b[43mflatten\u001b[49m\u001b[43m(\u001b[49m\u001b[43m)\u001b[49m\u001b[43m,\u001b[49m\u001b[43m \u001b[49m\u001b[43mtime\u001b[49m\u001b[43m)\u001b[49m\n\u001b[32m    302\u001b[39m     in_flash_iloc = np.where(point_corr_position_in_flash % \u001b[32m2\u001b[39m == \u001b[32m1\u001b[39m)[\u001b[32m0\u001b[39m]\n\u001b[32m    303\u001b[39m     \u001b[38;5;28;01mreturn\u001b[39;00m in_flash_iloc, point_corr_position_in_flash\n",
      "\u001b[36mFile \u001b[39m\u001b[32m/opt/miniconda3/envs/ff_venv2/lib/python3.11/site-packages/numpy/core/fromnumeric.py:1400\u001b[39m, in \u001b[36msearchsorted\u001b[39m\u001b[34m(a, v, side, sorter)\u001b[39m\n\u001b[32m   1332\u001b[39m \u001b[38;5;129m@array_function_dispatch\u001b[39m(_searchsorted_dispatcher)\n\u001b[32m   1333\u001b[39m \u001b[38;5;28;01mdef\u001b[39;00m\u001b[38;5;250m \u001b[39m\u001b[34msearchsorted\u001b[39m(a, v, side=\u001b[33m'\u001b[39m\u001b[33mleft\u001b[39m\u001b[33m'\u001b[39m, sorter=\u001b[38;5;28;01mNone\u001b[39;00m):\n\u001b[32m   1334\u001b[39m \u001b[38;5;250m    \u001b[39m\u001b[33;03m\"\"\"\u001b[39;00m\n\u001b[32m   1335\u001b[39m \u001b[33;03m    Find indices where elements should be inserted to maintain order.\u001b[39;00m\n\u001b[32m   1336\u001b[39m \n\u001b[32m   (...)\u001b[39m\u001b[32m   1398\u001b[39m \n\u001b[32m   1399\u001b[39m \u001b[33;03m    \"\"\"\u001b[39;00m\n\u001b[32m-> \u001b[39m\u001b[32m1400\u001b[39m     \u001b[38;5;28;01mreturn\u001b[39;00m \u001b[43m_wrapfunc\u001b[49m\u001b[43m(\u001b[49m\u001b[43ma\u001b[49m\u001b[43m,\u001b[49m\u001b[43m \u001b[49m\u001b[33;43m'\u001b[39;49m\u001b[33;43msearchsorted\u001b[39;49m\u001b[33;43m'\u001b[39;49m\u001b[43m,\u001b[49m\u001b[43m \u001b[49m\u001b[43mv\u001b[49m\u001b[43m,\u001b[49m\u001b[43m \u001b[49m\u001b[43mside\u001b[49m\u001b[43m=\u001b[49m\u001b[43mside\u001b[49m\u001b[43m,\u001b[49m\u001b[43m \u001b[49m\u001b[43msorter\u001b[49m\u001b[43m=\u001b[49m\u001b[43msorter\u001b[49m\u001b[43m)\u001b[49m\n",
      "\u001b[36mFile \u001b[39m\u001b[32m/opt/miniconda3/envs/ff_venv2/lib/python3.11/site-packages/numpy/core/fromnumeric.py:59\u001b[39m, in \u001b[36m_wrapfunc\u001b[39m\u001b[34m(obj, method, *args, **kwds)\u001b[39m\n\u001b[32m     56\u001b[39m     \u001b[38;5;28;01mreturn\u001b[39;00m _wrapit(obj, method, *args, **kwds)\n\u001b[32m     58\u001b[39m \u001b[38;5;28;01mtry\u001b[39;00m:\n\u001b[32m---> \u001b[39m\u001b[32m59\u001b[39m     \u001b[38;5;28;01mreturn\u001b[39;00m \u001b[43mbound\u001b[49m\u001b[43m(\u001b[49m\u001b[43m*\u001b[49m\u001b[43margs\u001b[49m\u001b[43m,\u001b[49m\u001b[43m \u001b[49m\u001b[43m*\u001b[49m\u001b[43m*\u001b[49m\u001b[43mkwds\u001b[49m\u001b[43m)\u001b[49m\n\u001b[32m     60\u001b[39m \u001b[38;5;28;01mexcept\u001b[39;00m \u001b[38;5;167;01mTypeError\u001b[39;00m:\n\u001b[32m     61\u001b[39m     \u001b[38;5;66;03m# A TypeError occurs if the object does have such a method in its\u001b[39;00m\n\u001b[32m     62\u001b[39m     \u001b[38;5;66;03m# class, but its signature is not identical to that of NumPy's. This\u001b[39;00m\n\u001b[32m   (...)\u001b[39m\u001b[32m     66\u001b[39m     \u001b[38;5;66;03m# Call _wrapit from within the except clause to ensure a potential\u001b[39;00m\n\u001b[32m     67\u001b[39m     \u001b[38;5;66;03m# exception has a traceback chain.\u001b[39;00m\n\u001b[32m     68\u001b[39m     \u001b[38;5;28;01mreturn\u001b[39;00m _wrapit(obj, method, *args, **kwds)\n",
      "\u001b[31mKeyboardInterrupt\u001b[39m: "
     ]
    }
   ],
   "source": [
    "osfxs =only_cur_ff_x_sess_class.OnlyStopFFAcrossSessions(monkey_name='monkey_Bruno')\n",
    "all_only_cur_lr_df = osfxs.make_or_retrieve_all_only_cur_lr_df()"
   ]
  },
  {
   "cell_type": "code",
   "execution_count": 11,
   "metadata": {},
   "outputs": [
    {
     "data": {
      "text/plain": [
       "3933"
      ]
     },
     "execution_count": 11,
     "metadata": {},
     "output_type": "execute_result"
    }
   ],
   "source": [
    "gc.collect()"
   ]
  },
  {
   "cell_type": "code",
   "execution_count": null,
   "metadata": {},
   "outputs": [],
   "source": [
    "stop!"
   ]
  },
  {
   "cell_type": "markdown",
   "metadata": {},
   "source": [
    "## all_only_cur_ml_df"
   ]
  },
  {
   "cell_type": "code",
   "execution_count": null,
   "metadata": {},
   "outputs": [],
   "source": [
    "osfxs =only_cur_ff_x_sess_class.OnlyStopFFAcrossSessions(monkey_name='monkey_Bruno')\n",
    "all_only_cur_ml_df = osfxs.make_or_retrieve_all_only_cur_ml_df()"
   ]
  },
  {
   "cell_type": "markdown",
   "metadata": {},
   "source": [
    "# OnlyStopFF"
   ]
  },
  {
   "cell_type": "markdown",
   "metadata": {},
   "source": [
    "## make df for one session"
   ]
  },
  {
   "cell_type": "code",
   "execution_count": null,
   "metadata": {},
   "outputs": [],
   "source": [
    "gc.collect()"
   ]
  },
  {
   "cell_type": "code",
   "execution_count": 36,
   "metadata": {},
   "outputs": [
    {
     "name": "stdout",
     "output_type": "stream",
     "text": [
      "Retrieved monkey data from  raw_monkey_data/monkey_Bruno/data_0326/processed_data/basic_info/monkey_information.csv  and ff data from  raw_monkey_data/monkey_Bruno/data_0326/processed_data/basic_info/ff_basic_info.npz\n"
     ]
    }
   ],
   "source": [
    "raw_data_folder_path = 'all_monkey_data/raw_monkey_data/monkey_Bruno/data_0326'\n",
    "osf = only_cur_ff_class.OnlyStopFF(raw_data_folder_path=raw_data_folder_path)"
   ]
  },
  {
   "cell_type": "code",
   "execution_count": 37,
   "metadata": {},
   "outputs": [
    {
     "name": "stdout",
     "output_type": "stream",
     "text": [
      "Failed to retrieve only_cur_ff_df from raw_monkey_data/monkey_Bruno/data_0326/processed_data/planning_info/norm_opt_arc/only_cur_ff/Bruno_dist_150.csv; will make a new one\n",
      "Retrieved ff_dataframe from  raw_monkey_data/monkey_Bruno/data_0326/processed_data/basic_info/ff_dataframe.h5\n",
      "Warning: 27 out of 867 ff are not within the valid ff_angle_boundary when using the function make_curvature_df.\n",
      "New only_cur_ff_df was stored in raw_monkey_data/monkey_Bruno/data_0326/processed_data/planning_info/norm_opt_arc/only_cur_ff/Bruno_dist_150.csv.\n"
     ]
    }
   ],
   "source": [
    "osf.make_only_cur_ff_df(exists_ok=True, ref_point_mode='distance', ref_point_value=-150)"
   ]
  },
  {
   "cell_type": "code",
   "execution_count": 38,
   "metadata": {},
   "outputs": [
    {
     "name": "stdout",
     "output_type": "stream",
     "text": [
      "Failed to retrieve x_features_df from raw_monkey_data/monkey_Bruno/data_0326/processed_data/planning_info/norm_opt_arc/x_features_df/Bruno_dist_150.csv; will make a new one\n",
      "Dropped NaN values in ff_info_at_start_df\n",
      "New x_features_df was stored in raw_monkey_data/monkey_Bruno/data_0326/processed_data/planning_info/norm_opt_arc/x_features_df/Bruno_dist_150.csv.\n"
     ]
    }
   ],
   "source": [
    "osf.make_x_features_df(exists_ok=True)"
   ]
  },
  {
   "cell_type": "code",
   "execution_count": null,
   "metadata": {},
   "outputs": [],
   "source": [
    "stop!"
   ]
  },
  {
   "cell_type": "markdown",
   "metadata": {},
   "source": [
    "## Iterate through sessions"
   ]
  },
  {
   "cell_type": "code",
   "execution_count": null,
   "metadata": {},
   "outputs": [],
   "source": [
    "ref_point_mode = 'time after cur ff visible'\n",
    "ref_point_value = 0.1\n",
    "\n",
    "osfxs =only_cur_ff_x_sess_class.OnlyStopFFAcrossSessions(monkey_name='monkey_Bruno')\n",
    "osfxs.make_only_cur_ff_df_and_x_features_df_across_sessions(exists_ok=True, x_features_df_exists_ok=True, only_cur_ff_df_exists_ok=True,\n",
    "                                                           ref_point_mode=ref_point_mode, ref_point_value=ref_point_value)\n",
    "\n",
    "osfxs.prepare_only_cur_ff_data_for_ml()"
   ]
  },
  {
   "cell_type": "markdown",
   "metadata": {},
   "source": [
    "## debug"
   ]
  },
  {
   "cell_type": "code",
   "execution_count": 16,
   "metadata": {},
   "outputs": [
    {
     "data": {
      "text/plain": [
       "(1021, 50)"
      ]
     },
     "execution_count": 16,
     "metadata": {},
     "output_type": "execute_result"
    }
   ],
   "source": [
    "osf.only_cur_ff_df.shape"
   ]
  },
  {
   "cell_type": "markdown",
   "metadata": {},
   "source": [
    "## Linear regression: Use loop on y column"
   ]
  },
  {
   "cell_type": "code",
   "execution_count": 32,
   "metadata": {},
   "outputs": [
    {
     "name": "stdout",
     "output_type": "stream",
     "text": [
      "y_var_column: curv_of_traj_before_stop\n",
      "Added interaction terms.\n",
      "num_features_before_lasso: 299\n",
      "num_features_after_lasso: 21\n",
      "Number of outliers dropped before train_test_split: 5 out of 1015 samples.\n",
      "R-squared:  0.344\n",
      "Adjusted R-squared:  0.3273\n",
      "R-squared on test set: 0.3527\n"
     ]
    },
    {
     "data": {
      "image/png": "[encoded data removed]",
      "text/plain": [
       "<Figure size 640x480 with 1 Axes>"
      ]
     },
     "metadata": {},
     "output_type": "display_data"
    },
    {
     "name": "stdout",
     "output_type": "stream",
     "text": [
      "                                               index  p_value  Coefficient  \\\n",
      "0                                              const  0.00000     10.84145   \n",
      "1  cur_ff_angle_at_ref cur_ff_earliest_flash_re...  0.00000      5.81550   \n",
      "2                               cur_ff_angle_at_ref  0.00071      3.90821   \n",
      "3           cur_ff_cluster_100_LEFTMOST_ff_distance  0.00046      1.97835   \n",
      "4       cur_ff_cluster_100_RIGHTMOST_flash_duration  0.00641     -1.57627   \n",
      "5  cur_ff_cluster_300_LATEST_FLASH_angle_diff_bo...  0.04038     -1.26479   \n",
      "6           cur_ff_ang_cluster_20_num_ff_in_cluster  0.02834     -1.14574   \n",
      "7  flash_cluster_1_5_to_2_0_LEFTMOST_earliest_fla...  0.03118     -1.12036   \n",
      "\n",
      "   Std Err        t  abs_coeff  rank_by_abs_coeff  \n",
      "0  0.51791 20.93300   10.84145                  1  \n",
      "1  0.87099  6.67691    5.81550                  2  \n",
      "2  1.15040  3.39725    3.90821                  3  \n",
      "3  0.56205  3.51990    1.97835                  4  \n",
      "4  0.57664 -2.73357    1.57627                  5  \n",
      "5  0.61601 -2.05319    1.26479                  6  \n",
      "6  0.52161 -2.19655    1.14574                  7  \n",
      "7  0.51902 -2.15862    1.12036                  8  \n",
      "y_var_column: d_heading_of_traj\n",
      "Added interaction terms.\n",
      "num_features_before_lasso: 299\n",
      "num_features_after_lasso: 85\n",
      "Number of outliers dropped before train_test_split: 1 out of 1015 samples.\n",
      "R-squared:  0.879\n",
      "Adjusted R-squared:  0.8652\n",
      "R-squared on test set: 0.8624\n"
     ]
    },
    {
     "data": {
      "image/png": "iVBORw0KGgoAAAANSUhEUgAAAmwAAAHFCAYAAABPbqWeAAAAOXRFWHRTb2Z0d2FyZQBNYXRwbG90bGliIHZlcnNpb24zLjguNCwgaHR0cHM6Ly9tYXRwbG90bGliLm9yZy8fJSN1AAAACXBIWXMAAA9hAAAPYQGoP6dpAAChXElEQVR4nOzdd1hT1xsH8G8CIQzZG8Q9ceEeqLhHnbVurdu66t7VKmrds+5V9551z+IW6kSrVGtxKziQJRtyfn/wS0pIbnITkpCE9/M8PI/ce+69597E5OWM9wgYYwyEEEIIIcRoCfO7AoQQQgghRDUK2AghhBBCjBwFbIQQQgghRo4CNkIIIYQQI0cBGyGEEEKIkaOAjRBCCCHEyFHARgghhBBi5ChgI4QQQggxchSwEUIIIYQYOb0HbNu2bYNAIJD9WFpawtvbG927d8ezZ8/0fXkIBAIEBwfr/TqqvHz5Uu4ZCIVCuLq64ptvvkFoaKhB6tCvXz8UK1ZMbps2z+b9+/cIDg5GeHi4zuomJX2vvHz5krNM1apV4evri6ysLM4ygYGBcHNzQ3p6Oq/rSl+fbdu2aVhj45b79Y2IiEBwcLDS59uoUSNUrFhR62sVK1ZM7j1uZ2eHatWqYfXq1ci9mMrly5dl5bieeZMmTSAQCBTes0lJSVi4cCGqVKkCBwcH2Nvbo2TJkujatSuuXLmi9BrKfozltd6zZw9WrFih12skJycjODgYly9f1ut1lNHV58Xbt28xZswYBAUFwcnJSeVrePLkSfTp0weVKlWCSCSCQCDQ+Hr79u1DQEAArK2t4ePjgzFjxuDr169yZcLDw9GmTRsUKVIENjY2cHFxQd26dbFr1y6F8zHGsHLlSpQrVw5isRje3t4YNmwYYmNj5colJSWhe/fuKFu2LOzt7WFnZ4cKFSrgl19+QVJSksJ5L126hObNm8PDwwOFChVC5cqVsXLlSqWfj0lJSZgxYwbKlCkDsVgMV1dXNG7cWOn38KNHj9ClSxe4u7tDLBajWLFiGD58uFyZ4OBgpf+3rK2tFc6XmJiIUaNGwdfXF2KxGGXKlMGiRYuU1vP+/fvo2LEjfHx8YGtri3LlymH27NlITk5WeKabNm1C9erV4eDgAFdXVwQFBeHUqVMK5+T6HFiwYIFC2Y8fP6Jfv35wc3ODra0t6tatiz/++EOhnD6eqTqWGpXOg61bt6JcuXJITU3FjRs3MHfuXFy6dAlPnjyBs7OzoaqRr0aOHImePXsiKysLjx8/xqxZs9C4cWOEhoaiatWqBq9PaGgoChcurNEx79+/x6xZs1CsWDEEBATop2IqDBw4ECNHjsS5c+fwzTffKOz/559/cPPmTYwZMwZWVlYGr58xyf36RkREYNasWWjUqJFCIKQLgYGBWLJkCYDs98myZcswcuRIJCQk4KefflIob29vj99++w39+vWT2/7ixQtcvnwZDg4OctuzsrLQokUL/PXXX5g4cSJq1aoFAHj27BlOnDiBa9euISgoSO6YefPmoXHjxgrXLlmyZF5uVWf27NmDR48eYcyYMXq7RnJyMmbNmgUgOzA3JF19Xvz777/YvXs3AgIC8M0332Dv3r2cZY8ePYqwsDBUrVoVYrEYd+/e1ehau3fvRu/evTFo0CAsX74c//zzDyZPnoyIiAicP39eVi4uLg5+fn7o0aMHfH19kZSUhN27d+P777/Hy5cvMX36dFnZCRMmYMWKFZgwYQKaNWuGiIgIzJgxA7dv30ZoaChEIhEAICMjA4wxjBs3DsWLF4dQKMTVq1cxe/ZsXL58GRcvXpSd8+LFi2jZsiUaNmyITZs2wc7ODsePH8fo0aMRGRmJX3/9VVb269evaNy4Md6/f48pU6agcuXKiI+Px82bNxUCoUuXLqFNmzZo0KAB1q9fDzc3N7x+/Rr3799X+rzOnj0LR0dH2e9CoXw7UGZmJpo3b45//vkHc+bMQZkyZXD27FlMmTIFb9++xcqVK2VlIyIiUK9ePZQtWxYrVqyAm5ub7P7v3r2LY8eOycrOnDkTc+bMwdChQ7FgwQKkpqZi1apVaNu2LQ4fPoxOnTrJ1aNz584YP3683LYiRYrI/Z6WloamTZsiLi4Ov/76Kzw8PLBmzRq0atUKFy9elPt80ecz5cT0bOvWrQwAu337ttz2WbNmMQBsy5Yter0+ADZz5ky9XkOdFy9eMABs8eLFctv/+OMPBoANGjSI89jk5GQmkUjyXIe+ffuyokWL5vk8t2/fZgDY1q1b83yu3KTvlRcvXnCW+fLlC7O2tmbfffed0v2TJ09mANjDhw95X1f6+ujjnozJwYMHGQB26dIlhX1BQUGsQoUKWp+7aNGirE2bNnLb4uPjmaOjIytSpIjc9kuXLsne9wDYP//8I7d/+vTprHDhwqx169Zy79mQkBCVnxlZWVkK1zh48KDW92QIbdq00cn/S1U+ffqUb5+Duvq8yPnaqjtnzrIjRoxgmnzNZWZmMm9vb9aiRQu57bt372YA2OnTp9Weo3bt2szPz0/2+9u3b5mFhQUbOXKkXLk9e/YwAGzjxo1qzzlp0iQGgEVGRsq29erVi4nFYvb161e5si1atGAODg5y20aPHs3s7OzkjlcmKSmJeXt7szZt2qj93pk5cyYDwD59+qSy3N69exkAdvjwYbntP/zwAxMKhezJkyeybdOmTWMA2L///qtQFgD78uWLbJuvry+rX7++XLmUlBTm6OjI2rdvL7cdABsxYoTKejLG2Jo1axgAdvPmTdm2jIwM5u/vz2rVqiVXVh/PVJ18G8NWo0YNAMCHDx/ktt+5cwft27eHi4sLrK2tUbVqVRw4cECuzKdPnzB8+HD4+/ujUKFC8PDwQJMmTXDt2jWN65GRkQEPDw98//33Cvvi4uJgY2ODcePGAQAkEgl++eUXlC1bFjY2NnByckLlypXl/pLRRJ06dQAAr169AvBfl+D58+cxYMAAuLu7w9bWFmlpaQCA/fv3o27durCzs0OhQoXQsmVLpRH6tm3bULZsWYjFYpQvXx47duxQen1lXaLv3r3DDz/8AD8/P1hZWcHHxwedO3fGhw8fcPnyZdSsWRMA0L9/f1mzcs5z8Hn9ACAsLAyBgYGyLoepU6ciIyND7TNzdnbGt99+ixMnTiAmJkZuX1ZWFnbu3ImaNWuiUqVK+Pfff9G/f3+ULl0atra28PX1Rbt27fDXX3+pvY6yLmTgv26AnBhjWLt2LQICAmBjYwNnZ2d07twZz58/lyt3//59tG3bFh4eHhCLxfDx8UGbNm3w9u1bznqsWbMGQqEQHz9+lG1bunQpBAIBRowYIdsmkUjg7Ows9xdkztdm27Zt6NKlCwCgcePGnF2Dt2/fRoMGDWBra4sSJUpgwYIFkEgkKp8VFwcHB5QpU0bh/7hU8+bN4efnhy1btsjdx/bt29G3b1+Fv9Slr7e3t7fS8+Uun1fHjx9H3bp1YWtrC3t7ezRv3lxhCIP0/fD48WP06NEDjo6O8PT0xIABAxAfH6/y/I0aNcKpU6fw6tUruW4aqfT0dPzyyy+ybjR3d3f0798fnz59kjtPSEgIGjVqBFdXV9jY2KBIkSL47rvvkJycjJcvX8Ld3R0AMGvWLNk1crdq5sT3c+7Zs2fo2bOn7P1cvnx5rFmzRrafz+cFX5q8tnl5H4SFhSEqKgr9+/eX296lSxcUKlQIR48eVXsONzc3WFr+13kVFhaGrKwshR6Btm3bAgAOHz6s9pzS1zDneUUiEaysrGBjYyNX1snJSa5bMjk5GZs3b0aXLl1QokQJldc5ePAgoqKiMHHiRK26kpW5ceMGBAIBWrduLbe9bdu2kEgkcs9U2tKYs8UOyL4noVAo12siEokUyllbW8t+tHH06FGULVsWdevWlW2ztLRE7969cevWLbx79w5A/j3TfAvYXrx4AQAoU6aMbNulS5cQGBiIuLg4rF+/HseOHUNAQAC6desm98Xy5csXANlNoqdOncLWrVtRokQJNGrUSONxGiKRCL1798bhw4eRkJAgt2/v3r1ITU2V/eddtGgRgoOD0aNHD5w6dQr79+/HwIEDERcXp/kDQHYzP/Dff0apAQMGQCQSYefOnTh06BBEIhHmzZuHHj16wN/fHwcOHMDOnTuRmJiIBg0aICIiQnbstm3b0L9/f5QvXx6HDx/G9OnTMWfOHISEhKitz7t371CzZk0cPXoU48aNw5kzZ7BixQo4OjoiNjYW1apVw9atWwEA06dPR2hoKEJDQzFo0CAA/F+/iIgIWbPztm3bsH79ety/fx+//PILr+c2cOBApKenK4wVOXfuHN6/f4+BAwcCyO6OcXV1xYIFC3D27FmsWbMGlpaWqF27Np4+fcrrWnwMGTIEY8aMQbNmzfD7779j7dq1ePz4MerVqycLVpKSktC8eXN8+PABa9aswYULF7BixQoUKVIEiYmJnOdu1qwZGGNyYyguXrwIGxsbXLhwQbbtzp07iIuLQ7NmzZSep02bNpg3bx6A7CBQ+tq1adNGViY6Ohq9evVC7969cfz4cbRu3RpTp05VOiaHj8zMTLx580bu/3hOQqEQ/fr1w44dO2RjWc6fP4+3b98qfGEC2X/kiUQijB49Grt370ZUVJTaOkgkEmRmZir8qLNnzx506NABDg4O2Lt3L3777TfExsaiUaNGuH79ukL57777DmXKlMHhw4cxZcoU7NmzB2PHjlV5jbVr1yIwMBBeXl6y10MaEEokEnTo0AELFixAz549cerUKSxYsAAXLlxAo0aNkJKSAiB7/GWbNm1gZWWFLVu24OzZs1iwYAHs7OyQnp4Ob29vnD17FkD2/xvpNX7++WfOevH5nIuIiEDNmjXx6NEjLF26FCdPnkSbNm0watQoWferus8L6dhRVcGjoT169AgAULlyZbntIpEI5cqVk+3PSfoe+/TpE9auXYtz585h8uTJsv3SsbRisVjhnAKBAA8fPlQ4J2MMmZmZSEhIwNmzZ7F06VL06NFDrgtv6NChSE9Px6hRo/D+/XvExcVh586dOHr0KCZNmiQrd/fuXSQlJaF06dIYNmwYnJ2dYWVlhRo1aiiM97p69SqA7D9+69evDysrKzg7O6NHjx54//690mdWqVIlWFhYwNPTE3369MHr16/l9qenp0MoFMqCMSnp88h5/3379oWTkxOGDRuG58+fIzExESdPnsSGDRswYsQI2NnZycqOHj0aZ8+elf3fjIqKwrhx4xAfH49Ro0Yp1HPPnj2wsbGBWCxG9erVZe/NnB49eqTw2gP/vR8eP35skGfKKU/tczxIu7nCwsJYRkYGS0xMZGfPnmVeXl6sYcOGLCMjQ1a2XLlyrGrVqnLbGGOsbdu2zNvbW66pO6fMzEyWkZHBmjZtyr799lu5feDRFfDw4UOlTdO1atVi1atXl6tHQEAAn9uWI+1yW7hwIcvIyGCpqans7t27rGbNmgwAO3XqFGPsv2fVp08fueNfv37NLC0tFZrUExMTmZeXF+vatStjLLsrwMfHh1WrVk2u6fXly5dMJBIpdL3kfjYDBgxgIpGIRUREcN6Lqu4Ivq9ft27dmI2NDYuOjpaVyczMZOXKlVPbJcoYYxKJhBUvXpxVrlxZbvt3333HbG1tWXx8vNLjMjMzWXp6OitdujQbO3asbLuyLlGuLmRpN4BUaGgoA8CWLl0qV+7NmzfMxsaGTZo0iTHG2J07dxgA9vvvv6u8N2UKFy7MBgwYwBhjLC0tjdnZ2cm6fl+9esUYY2zu3LlMJBLJdY/kfn3VdYkCYH/++afcdn9/f9ayZUu1dSxatCj75ptvWEZGBsvIyGCvXr1igwcPZiKRiJ08eVKubM7uyufPnzOBQCAr06VLF9aoUSPGmPLuwt9++40VKlSIAWAAmLe3N+vTpw+7evWq0mtw/bx584bzXqT/jypVqiT3mZOYmMg8PDxYvXr1ZNuk74dFixbJnWP48OHM2tpabRcIV5coVzeS9P/f2rVrGWOMHTp0iAFg4eHhnNfQtEuUz+dcy5YtWeHChRX+r/3444/M2tpa1nWl6vPi5cuXzMLCQvbe5kuTblZNu0Tnzp3LALCoqCiFfS1atGBlypRR2D5kyBDZ+8rKykr22kiFh4czAGzOnDly26VDYqysrBTOKX39pT/9+/dX+FxljLEbN24wHx8fWTkLCwuF96L0XA4ODiwwMJAdP36cnTx5kjVu3JgJBAJ29uxZWdmWLVsyAMzJyYlNmjSJhYSEsPXr1zNXV1dWqlQplpSUJCu7Y8cONnfuXHb69GkWEhLCFixYwFxcXJinpyd7+/atrNyKFSsYAHbt2jW5ev38888MgEL3899//y37LpD+jBo1Sun/pfXr1zOxWCwr5+Liwi5cuKBQrmfPnmz37t3s6tWr7NChQ6x169YMAJs+fbpcOZFIxIYMGaJw/M2bNxkAtmfPHr0+U3UMFrDl/ilfvjyLjY2VlXv27BkDwJYsWSL70Jf+rF27lgGQCyTWrVvHqlatKvdiAWDlypWTv0GeH1TVq1dndevWlf0eERHBALA1a9bIts2ePZsJBAI2bNgwdvbsWc7AIDdpQJD7x9PTk23YsEHhWR07dkzu+E2bNsnGAeZ+Nt26dWMeHh5ydV6yZIlCHYKCgtQGbMrGbuTG9WGpyevn4eHB2rZtq3Bu6ZefuoCNsezXAgC7c+cOY4yxz58/MysrK/b999/LymRkZLC5c+ey8uXLM5FIJPfsW7VqJSuXl4Bt2rRpTCAQsA8fPijcd506dWTjHuLi4pizszMrW7YsW7duHXv8+LHae8xZF+k4sEuXLsmu5+bmxjZv3swYY6xx48asYcOGcsdpGrB5eXkpbO/evbvC/yllihYtqvQ9vn79eoWyuceXNW7cmHXq1En2Gu7YsYMxxh3MxMXFsT179rBRo0axWrVqMaFQyAQCgdwXlfQaCxcuZLdv31b4SU9P57wX6f+j3F98jDE2bNgwJhQKZR+y0vdDznE4jGV/kQCQ+6NEGa577NWrF3NycmLp6ekK76ucf6T9+++/zMrKitWqVYtt27ZN6XgaTQM2dZ9zKSkpsj8gc9ft9OnTcmO99DHm1RABm7LXrUWLFqxs2bIK21+9esVu377NTp06xYYOHcqEQqHCeOWGDRsyBwcHduDAARYbG8tu3LjBSpcuzSwsLJi1tbXCOb98+cJu377NQkJC2Ny5c5mDgwNr37693B8Qd+7cYR4eHqxdu3bsxIkTLCQkhE2fPp1ZWVmx2bNny8pJx9+5ubmxhIQE2fakpCTm4+PDAgMDZduaN2/OACgELb///jsDwDZt2qTy+f35559MKBSyUaNGybZ9+vSJubi4sPLly7OwsDAWGxvL9uzZwxwdHZV+FpcqVYoFBgayQ4cOsStXrrBFixYxBwcHhcB+y5YtTCwWs/Hjx7OLFy+y06dPs+7duzNbW1u5gIlL27ZtmaWlJfv48aNsm0gkYkOHDlUoKw3Y9u7dyxgz7DPNyWAB244dO2RvQOlfJDlfqOvXr6v8ixiA7K/opUuXMgBs6NCh7OTJkywsLIzdvn2btWrVSm1QwkU62PDvv/9mjDE2ceJEJhaL5QY5ZmRksKVLl7KqVasygUDALC0tWZMmTRQmVOQmDQhGjx7Nbt++ze7evcsiIyMV/mKQPqtbt27Jbf/ll19UPhehUMgYY+zatWsMANu1a5dCHbp166b22VhaWqr9a5frw1KT18/CwkLpRIt169bxDtjevHnDhEKhbCDpr7/+ygCwy5cvy8qMHDmSCYVCNnXqVHb27Fn2559/stu3b7MqVaqwoKAgWbm8BGzSgfNcPyVKlJCVffjwIevWrRtzdnZmQHbr0IwZM1QGD4wxtnPnTgZkD86fNm0aq1atGmOMsa5du7Lu3buz5ORkJhaL5T6kGdM8YFM26YDvZJWiRYuy+vXrs9u3b7OwsDC2c+dOVqxYMWZpaanwl3XugG3Xrl1MJBKxn376iTk6OrLk5GTGGP8B+Y8ePWJeXl5MJBLJ/gjMy6QD6f+jnTt3KuybM2cOAyBrQeAaeM1nAg1j3PfYrFkzle+rJk2ayMpevXqVtW3bltnZ2cnecytWrJDt1zRgU/c59/btW7X/16VBt6kFbNJAW9kfVDVq1JD7o57L0KFDFQKBDx8+yFp1gOxWtcmTJ7Pq1auzkiVLqj3nvn37GAB25MgR2bbatWuzSpUqsczMTLmyM2bMYEKhUBa8nz17lgFQGIjPGGM9evRgNjY2st+7d++ucB3GsoN0aRCvTrly5RQG6N+6dYuVL19edv+urq7st99+YwDYwIEDZeWkDRC5J1Js2bJF7vP9y5cvzMbGRulEgqCgIFasWDG19ZQ+05wTSby8vFiXLl0Uyp48eZIBYOfOnWOMGf6ZShksrUf58uVlEw0aN26MrKwsbN68GYcOHULnzp3h5uYGAJg6darCdFypsmXLAgB27dqFRo0aYd26dXL7VY0FUqdHjx4YN24ctm3bhrlz52Lnzp3o2LGjXMoRS0tLjBs3DuPGjUNcXBwuXryIn376CS1btsSbN29ga2ur8hqFCxeWPQNVcg9MlD6bQ4cOoWjRopzHubq6Asgei5Sbsm25ubu7qxwAr4omr5+rq6vWdZQqXLgwWrRogT179mDp0qXYunUrSpUqhYYNG8rK7Nq1C3369JGN3ZL6/PkznJycVJ7f2tpaNtkj97E5ubm5QSAQ4Nq1awpjVAD5cSuVKlXCvn37wBjDw4cPsW3bNsyePRs2NjaYMmUKZ12aNm0KIHvs2oULF9C8eXPZ9unTp+Pq1atIS0vjHL9mKI6OjrL3d+3atVG7dm1UqVIFw4cPR3h4OOdg8E6dOmHEiBFYsGABBg8erDCIWp0KFSqge/fuWLFiBf755x9Zug9tSf8fKRsj9/79ewiFQr2nInJzc4Orq6ts/Flu9vb2sn83aNAADRo0QFZWFu7cuYNVq1ZhzJgx8PT0RPfu3TW+trrPOWdnZ1hYWOD777+Xm/iSU/HixTW+rjGoVKkSAOCvv/6Cv7+/bHtmZiaePHmCHj16qD1HrVq1sH79ejx//lw2PtnDwwOnT5/Gx48fER0djaJFi8LGxgZr165F586deZ0TyE5bJBUeHo4ePXrAwsJCrmzNmjUhkUjw999/o0SJEkrHZEkxxuT+X1auXBn79u3jLM9nQkfuc0rrFBERgZcvX8rGfknTreT8zA4PD4e/v7/cWDXp8UD2GLOgoCA8ffoUKSkpsu051ahRA1euXMHXr19RqFAhlfXMfU+VKlVSOilNuk2aq9LQz1RWlndJHVu0aBGcnZ0xY8YMSCQSlC1bFqVLl8aDBw9Qo0YNpT/SDymBQKDw5fjw4cM8JaF1dnZGx44dsWPHDpw8eRLR0dEYMGAAZ3knJyd07twZI0aMwJcvX1Qme82rli1bwtLSEpGRkZzPBsgOiLy9vbF37165ZKWvXr3CzZs31V6ndevWuHTpksoB+dLnLh30LKXJ69e4cWP88ccfcrMHs7KysH//fv4PBdmDqGNjYzFjxgyEh4fLZqJJKXufnDp1SjbTR5VixYrh48ePcnVMT0/HuXPn5Mq1bdsWjDG8e/dO6T1LvwByEggEqFKlCpYvXw4nJyfcu3dPZV28vb3h7++Pw4cP4+7du7KArXnz5vj06ROWLVsGBwcHpR9eOXG9dvpSunRpTJo0CX/99ZfK19bGxgYzZsxAu3btMGzYMM5yMTExnMmQnzx5AgDw8fHJW6WR/V729fXFnj175P4fJSUl4fDhw7KZo7ogFouVvh5t27ZFTEwMsrKylL6vpH/85GRhYYHatWvLZmpK31d5ed2Vfc7Z2tqicePGuH//PipXrqy0ftKg19DvubyqXbs2vL29FWZPHzp0CF+/fuX8YzSnS5cuQSgUKp096OHhgcqVK8PR0RHr169HUlISfvzxR17nBIBSpUrJtvn4+ODOnTsKyWel34PSHIze3t6oW7cubty4ITexLjk5GVeuXJFlKwCAb7/9FgKBAGfOnJE755kzZ8AYkyurTFhYGJ49e8ZZrlixYqhQoQJEIhGWLl0KHx8f2ex16T09fvxYIUlx7nuS/j8PCwuTK8cYQ1hYGJydnRWCvtx27twJkUiE6tWry7Z9++23ePLkCf7880/ZtszMTOzatQu1a9eWXdeQzzT3DeoVVx42xhhbtGiRXNdDSEgIE4vFrEWLFmzPnj3sypUr7OjRo2zevHmsc+fOsuNmzJjBBAIBmzFjBvvjjz/Y2rVrmZeXFytZsqTWXaKMMXbu3DkGgBUuXJgVLlxYYZJD27Zt2ZQpU2R96zt27GDFihVjRYsWVdmtxZWHLTdVz2revHnM0tKSDRkyhB09epRdvnyZ7d+/n40fP57NmDFDVm7z5s0MAOvQoQM7efIk27VrFytVqhTz8/NT+2zevn3LvL29mYeHB1uxYgX7448/2OHDh9ngwYNlXcVJSUnMxsaGBQYGskuXLrHbt2+zd+/eMcb4v35//fUXs7GxYf7+/mzfvn3s+PHjrGXLlszPz493lyhj2QPw3dzcmEAgYBYWFnIDXRljrE+fPkwsFrPly5ezP/74gy1atIi5u7uzwoULq+0Sff78OROJRKxRo0bs1KlT7PDhwywoKIgVL15coYvlhx9+YLa2tmzixImysSS7d+9mw4YNkw1APnHiBGvdujXbsGEDu3DhAjt//jwbOnQoA/jlYRo5ciQDwGxsbFhKSopsu7Q+yprmc7++z58/ZwBYx44d2bVr19jt27fZ58+fGWO66RLNnYeNseyB+p6enqxs2bKyrhu+3ZW5uwsPHjzIfHx82MSJE9nRo0dlA4i/++47BshP1pFeY968eSw0NFThR9WkA8b+G6PyzTffsGPHjrEDBw6wmjVrMisrK7ku3rx2iUqPX7t2razLnrHsCTKtW7dmLi4ubNasWezMmTPs4sWLbNu2baxv376y7pV169axLl26sG3btrGQkBB2+vRp1rlzZ7nuG8ayX5+yZcuyc+fOsdu3b6usF5/PucePHzNnZ2dWq1YttnXrVnbp0iV2/PhxtmzZMta4cWPZuVR9Xmg66eDgwYPs4MGDbOHChQzIzqsl3ZbTy5cvZdtbtWole68dPHhQ7rOV6/rSIQg//PADu3TpEtu4cSNzcnJizZs3lys3ePBgNn78eLZ//352+fJldujQIdatWzcGgE2cOFGu7MaNG9nGjRtln6mDBg1iAoGAzZ8/X67c+vXrWa9evdj27dtZSEgIO3HiBJs0aRKzsbFh9erVk5t4sHLlSgaAtW7dmv3+++/s/PnzbPLkyczS0pI1a9ZM7rw3btxgVlZWrE6dOuzo0aPs999/Zw0aNGAikUgu5xhj2RNHhEIhGzduHLtw4QJbs2YNc3Z2ZlWrVmVpaWmycpUrV2aLFi1iJ06cYBcuXGBz585lTk5OzMfHh71//17unD/99BPbu3cvu3z5MtuxYwdr1KgRs7GxYSEhIXLljh07xgQCAatTpw7bv38/++OPP9jcuXNZoUKFmL+/v9z1O3XqxIRCIRs9ejQ7d+4cO378uOyzIOcEj0WLFrF+/fqxnTt3skuXLrH9+/ezFi1aMAAsODhY7vqpqamsQoUKzM/Pj+3evZtduHCBffvtt8zS0lJuuI2+nqk6+RqwpaSksCJFirDSpUvLPswfPHjAunbtyjw8PJhIJGJeXl6sSZMmcoOX09LS2IQJE5ivry+ztrZm1apVY7///rvSLxdNArasrCxZ0DBt2jSF/UuXLmX16tVjbm5uzMrKihUpUoQNHDiQvXz5UuV5dRGwMZY9SLFx48bMwcGBicViVrRoUda5c2d28eJFuXKbN29mpUuXZlZWVqxMmTJsy5YtvJ/Nmzdv2IABA2Rjgnx8fFjXrl3Zhw8fZGX27t3LypUrJxvIn/McfF4/xrLf7HXq1GFisZh5eXmxiRMnso0bN2oUsDHG2NixY2VfrLnFxsaygQMHMg8PD2Zra8vq16/Prl27xoKCgtQGbIwxdvr0aRYQEMBsbGxYiRIl2OrVqxXGsElt2bKF1a5dm9nZ2TEbGxtWsmRJ1qdPH9mkiCdPnrAePXqwkiVLMhsbG+bo6CgbKM7HsWPHGAClXxoA2MqVKxWOUfb6rlixghUvXpxZWFjI3bO+AjbG/hsfun37dsaY9gHbmzdv2PTp01lgYCDz8vJilpaWzN7entWuXZutWrVKbiyPulmiyv5/5/b777+z2rVrM2tra2ZnZ8eaNm3Kbty4IVcmrwHbly9fWOfOnZmTkxMTCARy762MjAy2ZMkSVqVKFWZtbc0KFSrEypUrx4YMGcKePXvGGMuepfztt9+yokWLMrFYzFxdXVlQUBA7fvy43HUuXrwoN0mrb9++nHXi+zn34sULNmDAAObr68tEIhFzd3dn9erVY7/88otcOa7PC+n/O1V1yUnV65kT10S33NdSdf09e/awypUrMysrK+bl5cVGjRrFEhMT5cps2bKFNWjQgLm5uTFLS0vm5OTEgoKClI593LBhAytfvjyztbVlhQoVYg0aNFA6Y/zGjRusbdu2zMfHh1lZWTFbW1tWpUoVNmfOHKWzCQ8fPszq16/P3NzcmJ2dHatQoQKbM2eOwhgwxpjss8/W1pbZ2tqyJk2aKLyfGcv+Y2HBggWsVKlSTCQSMW9vbzZs2DC5SYKMZY/NKlWqFLOzs5NlIRg6dKhCsMZY9mSdIkWKMCsrK+bm5sa+++47zuTmISEhrEWLFszLy4vZ2NiwMmXKsPHjx8v+uJRKSUlhixcvZpUrV2b29vbMxcWF1alTh+3atUtufPjx48dZ/fr1mbu7u+wzo0GDBrIJBLlFR0ezPn36MBcXF2Ztbc3q1KmjdOapPp6pOgLGci30RwghhBBCjEq+jWEjhBBCCCH8UMBGCCGEEGLkKGAjhBBCCDFyFLARQgghhBg5CtgIIYQQQowcBWyEEEIIIUbOYEtTmQqJRIL379/D3t5eYYkoQgghhBgnxhgSExPh4+Oj0ZJPpoICtlzev38PPz+//K4GIYQQQrTw5s0b2TJW5oQCtlyk612+efMGDg4O+VwbQgghhPCRkJAAPz8/2fe4uaGALRdpN6iDgwMFbIQQQoiJMdfhTObXyUsIIYQQYmYoYCOEEEIIMXIUsBFCCCGEGDkK2AghhBBCjBwFbIQQQgghRo4CNkIIIYQQI0cBGyGEEEKIkaOAjRBCCCHEyFHARgghhBBi5ChgI4QQQggxchSwEUIIIYQYOQrYCCGEEKJ3UVFR+V0Fk0YBGyGEEGLksiQMoZExOBb+DqGRMciSsPyuEm/Jycn44YcfUKFCBbx69Sq/q2OyLPO7AoQQQgjhdvZRFGadiEBUfKpsm7ejNWa280erit75WDN+hg0bhh07dgAAunfvjqtXr0IkEuVzrUwPtbARQgghRursoygM23VPLlgDgOj4VAzbdQ9nHxl/N2NwcDAcHR0BAGFhYZg2bVo+18g0UcBGCCGEGKEsCcOsExFQ1vkp3TbrRITRd48WL14cW7Zskf2+ePFinD59Oh9rZJooYCOEEEKM0K0XXxRa1nJiAKLiU3HrxRfDVUpLnTp1wo8//ggAKFSoEFJSUvK5RqaHxrARQgghRuhjInewpk25/LZkyRIkJibip59+QpkyZfK7OiaHAjZCCCHECHnYW+u0nL4kJiZCJBLB2lp1PcRiMbZt22aYSpkh6hIlhBBCjFCt4i7wdrSGgGO/ANmzRWsVdzFkteQ8ePAANWrUwPjx4/OtDgUFBWyEEEKIEbIQCjCznT8AKARt0t9ntvOHhZArpNMfxhjWr1+P2rVr459//sHatWtx6NAhg9ejIKGAjRBCCDEwvolwW1X0xrre1eDlKN/d6OVojXW9q+VLHraEhAR0794dw4YNQ1pammz7wIED8fz5c4PXp6AQMMaMez6wgSUkJMDR0RHx8fFwcHDI7+oQQggxM9okws2SMNx68QUfE1PhYZ/dDZofLWt3795Ft27dEBkZqXR/jRo1cOPGDVhZWRm4Zub//U0tbIQQQoiBaJsI10IoQN2SrugQ4Iu6JV0NHqwxxrBq1SrUq1ePM1gDAEtLS8TFxRmuYgUIBWyEEEKIAZhqItzY2Fh89913GDVqFNLT0znLTZgwAVevXoWHh4cBa1dwUFoPQgghxAA0SYRbt6Sr4Sqmwq1bt9CtWze8fPmSs4yrqyu2b9+ONm3aGK5iBRC1sBFCCCEGYEqJcBljWLZsGQIDA1UGa4GBgQgPD6dgzQCohY0QQggxAFNJhBsTE4N+/frh5MmTKstNnToVs2fPhqUlv1DCWCZOmCoK2AghhBADkCbCjY5PVTqOTYDsdB35mQj35s2b6N69O968ecNZxt3dHTt37kTLli15n1ebmbFEHnWJEkIIIQZgzIlwJRIJFi5ciIYNG6oM1oKCghAeHq5xsKbNzFgijwI2QgghxECMMRHup0+f0KZNG0yZMgVZWVlKywgEAsyYMQMXL16Ej48P78S/pjoz1hhRlyghhBBiQK0qeqO5v5dex3NpMl7s8+fPuHr1Kue5PD09sXv3bjRt2hSAZt2bpjgz1lhRwEYIIYQYmDQRrj5oOl6sfPnyWLt2Lfr166ewr2nTpti1axe8vLxk5x62655Ci5m0ezN3K6EpzYw1dtQlSgghhJgJbceL9e3bF3379pX9LhQKMXv2bJw7d04WrGnTvWkqM2NNAQVshBBCiBnI63ix1atXo1y5cvDx8UFISAh+/vlnWFhYyPZr0r0pJZ0Zy9XZK0B2619+zow1FRSwEUIIIWZAm4Aqp0KFCuHYsWO4f/8+goKCFPZr071pzDNjTQ0FbIQQQogZ4AqoMhNj8PXhBbXlAKBMmTKca4Fq271pjDNjTRFNOiCEEELyiS6z/ysLqFKe38XnU8sgSY6HRSEX2JSorvV4sbwk/jXEzFhzRwEbIYQQkg90nf0/Z0AlkWQh7touJIQdlO3/fGoZAkZt0Hq8mLR7c9iuexAAckEbn+5Nfc6MLQhMqkv03bt36N27N1xdXWFra4uAgADcvXtXtp8xhuDgYPj4+MDGxgaNGjXC48eP87HGhBBCiCJ9ZP+XBlSZCZ/xYe9UuWANACTJ8ci4+CuYRHlyXD6oezP/mEwLW2xsLAIDA9G4cWOcOXMGHh4eiIyMhJOTk6zMokWLsGzZMmzbtg1lypTBL7/8gubNm+Pp06ewt7fPv8oTQggh/6duNqcA2bM5m/t7adxlmPXqHhL2jkVaXKzS/X/dCcXy5csxceJEjestRd2b+cNkAraFCxfCz88PW7dulW0rVqyY7N+MMaxYsQLTpk1Dp06dAADbt2+Hp6cn9uzZgyFDhhi6yoQQQogCfWT/z8jIwE8//YQlS5aoLNexY0cMGjRIk+oqRd2bhmcyXaLHjx9HjRo10KVLF3h4eKBq1arYtGmTbP+LFy8QHR2NFi1ayLaJxWIEBQXh5s2bnOdNS0tDQkKC3A8hhBCiL7rO/v/q1Ss0bNhQZbBmZWWFlStX4siRI3B2duZ1Xi581xElumUyLWzPnz/HunXrMG7cOPz000+4desWRo0aBbFYjD59+iA6OhpA9ppnOXl6euLVq1ec550/fz5mzZql17oTQggxL3mZ3anL7P/Hjh1Dv379EBcXx1mmRIkSOHDgAKpXr87ruqroeqIE4c9kAjaJRIIaNWpg3rx5AICqVavi8ePHWLduHfr06SMrJxDI/4dhjClsy2nq1KkYN26c7PeEhAT4+fnpuPaEEELMRV6Dlrykx5BKT0/HpEmT8Ouvv6q8VpcuXbBp0yY4OjqqrZc6mq4jSnTLZLpEvb294e/vL7etfPnyeP36NQDI1jqTtrRJffz4UaHVLSexWAwHBwe5H0IIIUQZXczuzGv2/+fPnyMwMFBlsCYWi7Fu3Trs379fJ8FaXpe9InlnMgFbYGAgnj59Krftn3/+QdGiRQEAxYsXh5eXFy5c+C+bc3p6Oq5cuYJ69eoZtK6EEELMjy6DFm3TYxw6dAhVq1bFnTt3OM9t6eyDMoN/RbH6HVT2MGkir8tekbwzmS7RsWPHol69epg3bx66du2KW7duYePGjdi4cSOA7K7QMWPGYN68eShdujRKly6NefPmwdbWFj179szn2hNCCDF1up7dqUl6jNTUVIwfPx5r165VeU5b/yC4thiBRLGtTrspdT1RgmjOZAK2mjVr4ujRo5g6dSpmz56N4sWLY8WKFejVq5eszKRJk5CSkoLhw4cjNjYWtWvXxvnz5ykHGyGEkDzTR9DCJz2GRCJB48aNERYWxllGYGkF52ZDUKhyCwgEgjznc8tNlxMliHZMJmADgLZt26Jt27ac+wUCAYKDgxEcHGy4ShFCCCkQ8itoEQqF6NWrF2fAZulSGO4dp8DKvZjcdm3yuXHRxUQJkjcmM4aNEEIIyU/SoIWrrUqA7Nmi+ghaRowYIUsKn5Ndxabw7rtCIVjLSRfdlHmdKEHyjgI2QgghhIf8DFoEAgF+++032Qo/tra2mL5oNdzajIXQSnWLnq5a/Ggd0fwlYIzRHNwcEhIS4OjoiPj4eErxQQghREF+Jo+9desWhg4dil27dqFsufKovzBEbTfl9clNdBpE5iVpsD6Z+/c3BWy5mPsLTgghJO90HbRIJBIIhfw6vXKWleaFAyAXtElrUpBavsz9+5u6RAkhhBANSWd3dgjwRd2SrnkK1h4/foyqVavi+vXrvMrnDOyom7LgoBa2XMw9QieEEGIcGGPYunUrfvzxR6SkpMDX1xfh4eFwc3PT+FzG2k1pSOb+/W1SaT0IIYSQvFAW2AAweLDz9etXDB06FLt375Zte/fuHfr27YsTJ07w7h6V4pPPjZg2CtgIIYQUCMomCzjZigAAcckZsm36nkDw4MEDdO3aFf/884/CvtOnT2Pp0qWYOHGiXq5NTBeNYSOEEGL2uBZtj0vOkAvWAM0WctcEYwwbNmxA7dq1lQZrUkeOHEFmZqZOr01MHwVshBBCDC5LwhAaGYNj4e8QGhnDa8H0vFyLa9F2ZTRdyJ2PhIQE9OjRA0OHDkVaWhpnuVGjRuHy5cuwtKQOMCKP3hGEEEIMSld5zPgOtFe3aLsyulzW6d69e+jatSsiIyM5yzg5OWHr1q3o2LFjnq5FzBcFbIQQQgxG2jWZu91K2g3JNxWFJkFfXpZmysuxjDGsWbMG48ePR3p6Ome52rVrY9++fbJVDAhRhrpECSGEGISqrklNuiG5xqNxjT3Ly9JM2h4bFxeHzp07Y+TIkSqDtfHjx+Pq1asUrBG1KGAjhBBiEOq6JnN2Q3LRJuhTt2g7F6EAqF7UWcOjspePqlq1Ko4cOcJZxsXFBSdOnMCSJUtgZWWl8TVIwUMBGyGEEIPg272oqpw2QZ+qRdtVkTDg7qtY3uUZY1i+fDnq16+Ply9fcpYLDAxEeHg42rZtq0Ft8saQkzyIftAYNkIIIQbBt3tRVTltgz7pEk65x71peh4uX758Qb9+/XDixAmV5aZOnYpZs2ZBJBLxrkNe5edi9UR3qIWNEEKIQajrmhQgO5CQrj6gTF6CvlYVvXF9chPsHVwHPzYuqfV5lNm5c6fKYM3d3R1nz57FvHnzDB6saTLejxgvCtgIIYQYhKquSenvM9v5q1wWKq9Bn3QJp7HNy+Y5eMxp5MiRaNGihdJ9QUFBCA8PR8uWLXmdS1eyJAzBxx/neZIHMQ4UsBFCCDEYadekl6N8y5WXozWvlB66CPp0eR4poVCInTt3wsvL67/zCASYMWMGLl68CB8fH17n0aXVIf8iOoE7SS+fSR7EeAgYYxRa55CQkABHR0fEx8fDwcEhv6tDCCFmiW/SWy66Gpel6/Fdly5dQrNmzeDu7o7du3ejadOmGp8jJ22f09lHURi66x6va/zaPQAdAnzzVE9jYO7f3zTpgBBCiMFJuyZVURWstKrojeb+XnkK+nR5Hml9rYtUxug5K9CkSVM0qlVe43PkpG0wKU19wlde8tQRw6EWtlzMPUInhBBTYGwzGz98+ICYmBj4+/sr3a/L+mZJGFaHPMPyi88U9knDSFXdx6GRMeixKYzXtbwdrXF9chOtAlRjY+7f3zSGjRBCiFExtpmNISEhCAgIQPv27ZGQkKCwX5f1PfsoCoELQpQGawC/yQKaLKelyTg9kr8oYCOEEGI0dLV8lU7qkpWF4OBgNGvWDNHR0YiMjMTgwYORs2NKl/WVBn7RCaoDLnWTBfh2cY5tVprysJkQCtgIIYQYDV0sX6ULUVFRaNasGWbNmiUXoB04cAAbN26U/a6r+qoK/LhwtaTxWYrL29EaPzYprcHVSH6jgI0QQojR0MXyVXl1/vx5VKlSBZcvX1a6f/To0Xjw4IFG9VBXTl3gpwxXS5q6lCUCUFeoKaKAjRBCiNHQxfJV2srMzMS0adPQqlUrfPr0ibNcs2bNULhwYY3q8TkxTeU6npoEoHyS+uY13x0xPpTWgxBCiNGQdudFx6cq7R4UIDvo4LsCAV9v375Fz549ce3aNc4ylpaWWLBgAcaOHQuhUMirvgAgFABzTv0t+13Z7FFNA1A+LWS6TFlC8h+1sBFCCNFKloQhNDJGZcuRpnS9AgEfp0+fRkBAgMpgrWjRorh27RrGjx8vC9bU1Vcq92NRNns0Nol7RYKcvBzEGrWQSfPddQjwRd2SrhSsmTDKw5aLuedxIYQQXdB3njRD5GHLyMjAtGnTsHjxYpXlOnbsiC1btsDZ2Vmj+goFisGalLSl8PrkJgCA+gtD1I5hG9O0NEY2LU1BFwdz//6mLlFCCCEakaafyB2LSFuOdDFGSt/dea9evUL37t0RFsadYFYkEmHJkiUYOXIkBALNuh8/J6bJdYPmlnv2KJ8JB7VLUAtZQUYBGyHEbOV1vUqiSF3eMQGy84419/fK87Pms3yVNo4dO4b+/fsjNjaWs0yJEiUwbekGuBYrj7DnX3i9d3LW91j4O1510WSygT5nxhLjRwEbIcQsGdvSRuZCk7xj+gi28iI9PR2TJ0/GihUrVJar37wtUusOwuywNCAsHIDm7x19zHalNT8LNpp0QAgxO8a2tJE5MYY8adr4+PEj6tevrzJYE4vFGDF9Pt5UHYJPafLtGZq+d9Qlr82ZmkOTsqTgooCNEGJWjGlpI3OUn3nS8sLZ2RkikYhzf+nSpXHjZiju2tYElIxX0/S9o8ls1/yYGUtMDwVshBCzYixLG5krU20NEolE2LdvH1xcFOvVs2dP3L17F+mORXT63tEkeS0luiXq0Bg2QohZMdUuO1MhbQ0atuseBIBcS6axtwb5+flh+/btaNeuHQDA2toaq1atwsCBAyEQCPAxUvcTBTSZ7UqJbokqJtvCNn/+fAgEAowZM0a2jTGG4OBg+Pj4wMbGBo0aNcLjx4/zr5KEEIMz1S47U2LKrUFt27bF+PHjUa5cOdy6dQuDBg2SpezQ13tHk+S1lOiWcDHJFrbbt29j48aNqFy5stz2RYsWYdmyZdi2bRvKlCmDX375Bc2bN8fTp09hb2+fT7UlhBhSfi1tVNDosjXI0OlX5s+fj+DgYBQqVEhuO713iDEzuRa2r1+/olevXti0aZNc1mnGGFasWIFp06ahU6dOqFixIrZv347k5GTs2bMnH2tMCDEkGsBtOLpoDTr7KAr1F4agx6YwjN4Xjh6bwlB/YYjGM3mfPn2KHj16IDk5WW1ZkUikEKwB9N4hxs3kArYRI0agTZs2aNasmdz2Fy9eIDo6Gi1atJBtE4vFCAoKws2bNznPl5aWhoSEBLkfQohpM+Uuu4JEV+lXdu3aherVq2Pfvn0YPXp0nupE7x1irEyqS3Tfvn24d+8ebt++rbAvOjoaAODp6Sm33dPTE69eveI85/z58zFr1izdVpQQku9oALdx08WKCcnJyRg5ciS2bNki27Z582Y0btwYPXv21Lpu9N4hxshkArY3b95g9OjROH/+PKytuQd85l7vjTGmcg24qVOnYty4cbLfExIS4Ofnl/cKE0Lynb6WNiJ5l9cVEx4/foyuXbsiIiJCYd+QIUNQo0YNlClTRuv60XuHGBuT6RK9e/cuPn78iOrVq8PS0hKWlpa4cuUKVq5cCUtLS1nLmrSlTerjx48KrW45icViODg4yP0QQgjRL23TrzDGsHXrVtSsWVNpsAZkj3WeM2dOnutIiDExmYCtadOm+OuvvxAeHi77qVGjBnr16oXw8HCUKFECXl5euHDhguyY9PR0XLlyBfXq1cvHmhNCCMlNmxQaX79+Rd++fTFgwACkpKRwHjNs2DBs2rRJq3plSRhCI2NwLPwdQiNjaEUMYjRMpkvU3t4eFStWlNtmZ2cHV1dX2fYxY8Zg3rx5KF26NEqXLo158+bB1tY2T2MZCCGE6J6mKTQePnyIrl274unTp5zntLe3x+bNm9G1a1dZ4KXJGLSzj6Iw60SEXFetpou+E6IvJhOw8TFp0iSkpKRg+PDhiI2NRe3atXH+/HnKwUYIIUaG74oJQgGwceNGjBo1CmlpaZzns/IqhRVbdqBr67paBV7SGau5g0fpjFWaIUrym4AxRu29OSQkJMDR0RHx8fE0no0QQvRMVXBVr4gdhgwZgn379qk8h331dnBpNADervb4uY0/RuxRDLykQaCywCtLwlB/YQjnJAhpa9/1yU1opqgRM/fvb7NqYSOEEGJauFJoPHwQjurVu+Lff//lPFYotoPrN6NhWyZ7nHJUfCqmH3ukNlWIvViEz0lpsmvldcYqIYZAARshhJgpQy/5pK2cKTQYY1i7di3GjRuH9PR0zmOsvMvAvcNkWDrKZwH4ksR9jDTw6vXbn7Jt3o7W+KaiF696arLoOyG6RgEbIYSYIUMPoNdFcBgXF4dBgwbh8OHDKss51PwWTkF9ILAQ5aXKALLHqP124yWvspou+k6ILlHARgghZsbQA+hPP3yP6cce4UtShmybNsHhgAEDcPToUc79ljb2cPlmDGxK1Va639nWErHJmfwrjv8mOwgFAGMwq0XfTaWFlfBDkw5yMfdBi4QQ82boAfTzT0dgw9UXnNfSJDh89uwZqlWrhq9fvyrsq1evHoYEr8DMPz4CUB5YOdlmt7jFJ2co3c8H14xVU5slWhBTlJj797fJJM4lhBCiniYD6PPq9MMozmBNeq1ZJyJ4J58tXbo0Nm7cqLB98uTJuHz5Mvo0r4l1vavB0VZ5V2h8cgbi/h+saROKDggsZhaLvktbWHO/D6QtrGcfReVTzUheUJcoIYSYEW2XfFJGVZdaloRh+rFHas/BZ3ZlzusUq9UCgwYNwubNm+Hm5oadO3eiVatWsrLN/b0QfDwCQIbCeaSBmpOtCGJLIaITuPO2KdPc3wvT2vjrrBsxP7oksyQMs05EqJ0p29zfi7pHTQwFbIQQYka0WfJJGXVdardefFE5IzMnVcGhsut4FO6Ium0SMWjUBDiWLI4sCZMFF7defEF0guoWxNjkDOweVBtCgQAfE1PhVkiM8QfC8SEhTe0YNV0t+p5fXZKUosR8UcBGCCFmpFZxFzjZihCXrNgCJeVsK1I5gJ7PpIW0TAnvOkmDw5iYGNjb28PKykrldT6mAKj4PWaHfABCPsDFToRvA3zRzN9LZbCW0+evaegQ4Cv7Pbh9BbWrKuiqxSk/V03QZQsrMS40ho0QQgoYVSPK1HWpAdldam6FxLyu5WKXHRxeu3YNVapUwdSpU9VeJ7cvSRn47cZL9NgUhjknH/O6bu4WxFYVvbGudzW9j1Hj+/z0tai8rlpYifGhFjZCCDEjt158Udm6BgBxyRmcXWJ8u9TAsrv4VJUFgNnt/LFwwXzMmDEDWVlZWLZsGRo1agQ3/3pqj1UmZ+oQZVSl4OBaVUGXY7nyu0uyVnEXeDtaIzo+1axSlBBqYSOEEJksCUNoZAyOhb9DaGSM3lpB9CmvXWJ8j/+clIaZ7fxVzsas62OB2T9+j2nTpiErK0u2vW/fvnj8TySv66iS+9p8ujelY9Q6BPiibklXnQ+8z+8uSQuhADPb+QPQ7vkQ40UtbIQQAvPJW5XXLjFNjq9b0hXreldTeG4CAZDy8iEOrl6MrKRYhWNjY2OxcvpIsCY/QWCh/deQs52V3MQHLyN4vYyhS1La/Zv7dTGG50O0RwEbIaTAy89B4rqW1y4xPsd7OoghYQzHwt/Bw94aVyY2xt1XsbgYEY3N1yIRd3M/4m/uAxj3xAQvVyeIbYDP6arH1Knyc5vy8HK0MapM/sbSJWmI7l9iWNQlSggp0PJ7kLiuqeoSA7LvSV2XoaouNQYgNVOCXpv/xOh94eixKQxBiy8hNikdv998jI8Hfkb8jT2cwZqFhQXmzZuHs2fPYE7XWpz15MPL0Uav3ZvaMKYuSX13/xLDooCNEFKgGXJlAEORdokpWxHAiWOVAGXH555RKT1f7kkNUfGp6D/3N4SvHILUVw85z2tRyBWrdx/D1KlTIRQKOa+jjgDZ3dXGOnDeUDNSScFCXaKEkAItvweJ64KyjPpA9lJNucUlZ/Dq5s3dpeZmJ8b4gw+Qe4UBJslC3PU9SAg9AFWdmzYla8L1mzHwLhugcB2JBBi+5x6vezWVgfPUJUl0jQI2QkiBZgyDxPNC2WQJLwcxUjMlnOETAzD1yF9qlyfKmfU/NDJGIWltZsJnfD6xGGlvVeRGE1rAqWFfONTqCIFAqPAcsyQMc05FqLzHnExp4LyuVk0gBKCAjRBSwBnLIHFtcE6W4LGGZmxyBlaHPMPoZmV4XetiRLTc7ymRd/D51DJIUhI4j7FwcId7+8kQ+5bjfI7quqSlfmxcEoGl3KmVihRYNIaNEFKgGdMgcU1oslIAl603XvKaTHH2URR+u/ESAMCyMhF7eSs+HgpWGazZlK4D734rIfYtl30clD9Hvl3NpT3taeA8KdAoYCOEFHimOEicb8uUKnEpGWonU0gDQwDITPiID3umIOHPw9wHCC3h3HQw3L+dBgsbe9lmrskOpt4lTYihUJcoIYTA9AaJ62oShLrz5AwMJalJSP/4nLOspaMn3DpMhthbsZs1nmOygyl3SRNiSNTCRggh/2dKeat01eL07EOiymW43scmy/5t5VEczk1/UFrOtkw9ePf7VWmwBnDntDPVLmlCDI0CNkIIMUHSlqm8hjGrL0Wix6Yw1F8YgrOPouT2zT8dgQmH5fOqFarSErblG/63wcISLs2Hwa3jVAitC6m8FldOO1PskibE0ASMMdNI320gCQkJcHR0RHx8PBwcHPK7OoQQwolrlmherO1ZFd9U9sH80xHYcPWF0jKStGREbR8NAHDvMAVWniUBAE42IsSlKOZ+y215twB4OVgrdD0ryydHLWuEL3P//qaALRdzf8EJIebl14vPsPziPzo7n1AArOgSgDEHw6FqAmnGl3ewsHOGUGyLgYHF0MzfCxLG0Gvzn2qv4WInwpek/wI771y51ShwI9ow9+9vmnRACCEw3SChmJutzs6VEfseqa8fYRSPP+NFLr6wt7bA4s5V5AItVRMIpHIGawAQHZ8qm5AAQCERcO6AjpCCiAI2QkiBp2y1AFMJEnQ1+SDp72uIObsSLD0VIicvWBetrPaYjgGF5Z6PdALBsF33ZAvFS+X+PSf2//1TjvyF+OQMxUTAOQI6Y389CNEXjScdpKSkIDn5v1lDr169wooVK3D+/HmdVowQQgxBOg4sd04zaZCQeyC+PmRJGEIjY3As/J3KGZvKaDL5wNXOSmGbJCMNMedW4/PxhWDpKQAYPp9YjKykWLXnK+aq2LrHNYHARcm1c2LIXudU2Z1zzTAlpCDReAxbixYt0KlTJwwdOhRxcXEoV64cRCIRPn/+jGXLlmHYsGH6qqtBmHsfOCHkP1kShvoLQzgT0EpzgF2f3ERv3aO6aN2TBp2A8latAYHF0NzfC9WLOiNo8SXZtTJi3uLTsQXI+PRS4ZzWxarCo+ssCATK/64XCoAnc1rDylL5/txdzNHxKRh74AGv+1Fl7+A6tD4nUcrcv781bmG7d+8eGjRoAAA4dOgQPD098erVK+zYsQMrV67UeQUJIURf1K0WwJWGQld01bqnKi3G+t7VMKNdBdQt6QorS6Es59nXx5cQtX2M0mANAFJf3sfX+2c4rzm4QXHOYA1QzGnn5WjD617U0VXCYEJMjcZj2JKTk2Fvn73cyPnz59GpUycIhULUqVMHr1690nkFCSFEX/h++esjSFC1Fqh0TNesExFo7u/Fq3WP70oNDUs4oszTXbhwcp/K87lXb4VhQwZi551oudmiQkF2sDb1G3/1N5mDuhUN+KIlqkhBpXHAVqpUKfz+++/49ttvce7cOYwdOxYA8PHjR7NsgiSEmK/8XMdSk9Y9vl2A0lYtLhEREejatSseP37MWUYgsoZryxHYMX88WlX0xrQOEuwMfYlXX5JR1MUW39ctprJlTVXd1E1IcLIVKZ10IC1DS1SRgkzj/3UzZszAhAkTUKxYMdSqVQt169YFkN3aVrVqVZ1XkBBC9EXdgH0BsseT6SNIMHTr3rZt21CjRg2VwZrIvRgq/7gOO/8frAGAlaUQAxuUwOwOFTGwQQmtgjUpadetp4NYbrungxjre1fDgk6VANASVYQoo/H/vM6dO+P169e4c+cOzp07J9vetGlTLF++XKeVI4QQfcrPdSwN1br39etX9O3bF/3790dKSgpnuVadv8f5S9dwd0lf3pMdtJ/dqvxp0xJVhHDTeqWDf//9F5GRkWjYsCFsbGzAGINAYPp/+Zj7LBNCiKL8yMMmnaHKNaZL3QxVPol+//rrL3Tt2hVPnjzhrIe9vT02bdqEbt26aVR/bZ4Z11Ja0lpLgzJTTWJM8pe5f39rHLDFxMSga9euuHTpEgQCAZ49e4YSJUpg4MCBcHJywtKlS/VS0fnz5+PIkSN48uQJbGxsUK9ePSxcuBBly5aVlWGMYdasWdi4cSNiY2NRu3ZtrFmzBhUqVOB9HXN/wQkhyuVHkHD2URSG/j8dhzLrOVqV1AVLjDFs3rwZo0aNQmoqd5dqtWrVsH//fpQqVUqj++cbeOVkDClUiHkz9+9vjbtEx44dC5FIhNevX8PW9r+kid26dcPZs2d1Wrmcrly5ghEjRiAsLAwXLlxAZmYmWrRogaSkJFmZRYsWYdmyZVi9ejVu374NLy8vNG/eHImJiXqrFyHEPOROQ2EMQcPT6ESF7kZ1qUAOh/2Dnj174ocfflAZrI0cORI3b95EqVKlcPZRFOovDEGPTWEYvS8cPTaFof7CEKVpRdTNbgWUJ7jN7xQqhJg6jWeJnj9/HufOnUPhwoXltpcuXVqvaT1yB4Nbt26Fh4cH7t69i4YNG4IxhhUrVmDatGno1KkTAGD79u3w9PTEnj17MGTIEL3VjRBCNCUNfFRZfvGZ7N/ejtb4uY0/5pxSESxlZeD7Di2Q8pH7s9jR0RFbtmyRfU5ytZZxLQel7ezW/EyhQog50LiFLSkpSa5lTerz588Qi8VKjtCP+Ph4AICLS/bsrRcvXiA6OhotWrSQlRGLxQgKCsLNmzc5z5OWloaEhAS5H0II0Td1gU9uUfGpGL5HsWVNjoUI1hWacu6uWbMm7t+/LwvWtGkt0zbwys8UKoSYA40DtoYNG2LHjh2y3wUCASQSCRYvXozGjRvrtHJcGGMYN24c6tevj4oVKwIAoqOjAQCenp5yZT09PWX7lJk/fz4cHR1lP35+fvqrOCHErGkya1JfLUn2NTuiTI2GCtu963fGzxsOonjx4rJt2nRTaht45WcKFULMgcZdoosXL0ajRo1w584dpKenY9KkSXj8+DG+fPmCGzdu6KOOCn788Uc8fPgQ169fV9iXe6aqutmrU6dOxbhx42S/JyQkUNBGCOHENThf01mT+mpJEgiESK43FBZPI5CV+BlC60JwbTMW4lK1MWr/I4hEVrL6aNNapm7FAq4Et+oS5wK6T6FCs02JOdE4YPP398fDhw+xbt06WFhYICkpCZ06dcKIESPg7a3/HDkjR47E8ePHcfXqVblxdF5eXgCyW9py1uPjx48KrW45icVig3blEkJMF1dQ1r6KNzZefcF7HBigu6WachIAEAgA2DjArf1ExF3dCbe242Dp4KF0uSttWsvyEnhJ86zlfoZeekihkh+pWgjRJ63zsBkaYwwjR47E0aNHcfnyZZQuXVphv4+PD8aOHYtJkyYBANLT0+Hh4YGFCxfynnRg7tOCCSHaUZXKQtWHqKp0FdJzQs05cmKSLAiEFpzLO8mV5ehh2Du4DuqWdM1TLri8BET6bvnSJu0IMX3m/v2tcQvb1atXVe5v2FBx7IQujBgxAnv27MGxY8dgb28vG5fm6OgIGxsbCAQCjBkzBvPmzUPp0qVRunRpzJs3D7a2tujZs6de6kQIMV2aBA18BudzUbUmKFeLE5e0d3/j88llcGs7Hp6lKyEuOUO2z8vRGq0remHLjZeybVzDQaRdnHltLeOz2Lwy6tY8zQt1r1XuVkZCTIXGAVujRo0UtuX8UMjKyspThbisW7dO6fW3bt2Kfv36AQAmTZqElJQUDB8+XJY49/z587C3t9dLnQghpknT1iFNZ3QqwzVeLGfgc+PfT1h9KVKhDGMSJNw6irirOwBJFj4dX4TCozdg98D6+JyUJguWbr34IhewccnZxZmXbkp9Bl7a0jbtCCHGTuOALTY2Vu73jIwM3L9/Hz///DPmzp2rs4rlxqfnViAQIDg4GMHBwXqrByHEtGmadwzQzYxOVePFpIFPreIuOHzvnVzAkZUcj5hTy5Hy/M5/2xI+4vG+hRD0qY8OAb6y7dpOCMhLa5mxoXxvxFxpnNYjZwoMR0dHuLm5oXnz5li0aJFs7BghhBgjbbP052VGpybpKnIuRg8AqW8eIWrrKLlgTSrlWRi2blzLebymi9kb40oP2qB8b8RcaRywcXF3d8fTp091dTpCCNE5bZdHUpdDjEvOIAkArxxtrSp6Y3STUogPPYAPe39C1tcYzvP/FXZFofdB2sXp5SgfkHg5Wud5sL0meebyC+V7I+ZK4y7Rhw8fyv3OGENUVBQWLFiAKlWq6KxihBCia9p2l/EZnP9Dw+I4/iBK6TgwAAoLn3ONmfv48SPOLBmFuKvnVdRQAM9GvbFo3WJIGGCRKzrRpIuT7+QLU0mTkR/53ggxBI3TegiFQggEAoW/6urUqYMtW7agXLlyOq2goZn7tGBCCrLQyBj02BSmtpw07UVu809HYNO1F8jZsCQUAIMbFMfUb/yRninBztCXePUlGUVdbPF93WIIefKBd4qJy5cvo2fPnoiKUlx0XcrCzhlu7SbCumhlAHkLmvgGYaaYJsNUAkyiO+b+/a1xwJZ7gXehUAh3d3dYW5vHeABzf8GJ6aKs7XmX17xjyoIW6XFKW9gcrJGamSWXfkPZ9a5MCML8eXMxe/ZsSCQSzvpbF6sKt7bjYWHnJHcOQPOgiW8QJn1mXF3Jqp5ZfqP/MwWLuX9/a9wlWrRoUX3UgxCiArUWaIbri1qb7rIsCUPY8xhMOfwXZ841BmDD1RcK26MTVHfBMgBv30WhXlAT3A29xllOKBTCo1EfWNXoBIFAfuixNrnFNMlVZsppMowx7Qgh2uIVsK1cuZL3CUeNGqV1ZQghirRJQ1GQqQtuNck7puxcupTyMhyfTyzB2+Q4zjK+vr6YtmQ9FoZzB2KaBk2aBGGUJoMQ48ArYFu+fDmvkwkEAgrYCNEhytquGb7BLZ9B+aq6QPOKSbIQd30PEkIPQNVaCTXqN8GZo/tx420aEB6u9ry6Dq6kz4YPSpNBiH7xCthevFBs6ieE6J8pd0cZmqbBraruMlXnyqvMxM/4fGIJ0t484i4ktIBzwz6waNYDzi6u8Ij/wl02B10HV9JAVptkvIQQ3dJZHjZCiO5RdxR/2uZY0+ZceZH0KERlsGbh4A6vngvgUPs7RCem49aLLzrPLabJ+fKSjJcQojsaTzoAgLdv3+L48eN4/fo10tPT5fYtW7ZMJxUjhFDWdk3oMrjVZwDsUPs7pLy4pzRosylVG67fjIGFzX/rH39MTNV5bjFNz5eX9UYJIbqhccD2xx9/oH379ihevDiePn2KihUr4uXLl2CMoVq1avqoIyEFFnVH8afL4FaTANjb0Rrtq3hj4/9nieYOfhTSZggt4NZuIqK2jYIkOT57o9ASzo36w75GewgE8kGXtC66Dpo0PZ85rTdKiCnSOGCbOnUqxo8fj9mzZ8Pe3h6HDx+Gh4cHevXqhVatWumjjoQUWJS1nb+8Brc5U4G42Ynh5WCNDwnKzwUATrYirOlRDXX+v+5m1SLOSoOf7jWLYPnFf+SOtbR3hVubcfh4cCYsHT3h1mEyxN5l1NZX10GTpuejNBmE5B+NE+fa29sjPDwcJUuWhLOzM65fv44KFSrgwYMH6NChA16+fKmnqhqGuSfeI6bJmPOwGVNyUunMTkB5cMuVAuXsoygEH4+Qy5vmZCNCXEoGZ6Cs7FzKngUABC74A9EJaQrXTYq4ApsS1SG0LiS33ZhXEMgrY3q/EPNi7t/fGrew2dnZIS0t+4PHx8cHkZGRqFChAgDg8+fPuq0dIQSA8XZHGVsgqU234dlHURj6/yAvp7iU7NUJHG1FcisVqDqXhVAAL2ECHK1S4F/SV7a9R60iWH7xmUJ5O/8gpfdhrmPDjO39Qogp0Thgq1OnDm7cuAF/f3+0adMG48ePx19//YUjR46gTp06+qgjIQTG1x1lrAl9NV34fMqRv1SfkDHsHlQbn7+mqQ2Ujxw5ggEDBsDLywt37txBoULZLWfF3Ox41b1P3aJoXdHbKIJxXTPW9wshpoJ3wPbp0ye4u7tj2bJl+Pr1KwAgODgYX79+xf79+1GqVCneCXYJIabN2BP68g1uw57HcK7zKRWXkgkA6BDgy1kmLS0NEyZMwOrVqwEA8fHxGD58OLZv3w6BQMB7EkPrit5GFZTrirG/XwgxBbzzsPn6+qJz5854+vQpKlWqBACwtbXF2rVr8fDhQxw5coTWGSWkgNBlzjNDy5IwhEbG4Fj4Oxy884bXMaGRMZz7/v33X9SrV08WrEnt3LkT27dvB6BZ3jNzZMrvF0KMBe+Abfv27UhISEC7du3g5+eHn3/+GZGRkfqsGyHESJlqQt+zj6JQf2EIemwKw+h94fg9/D3PI5XPzTpw4ACqVauGe/cUx8ABwPDhw/H3338X+OSzpvp+IcSY8A7YevTogfPnz+PFixcYPHgwdu/ejTJlyqBx48bYvXs3UlPpPxohBYUpJvSVjqHSZgWDuiXc5H5PSUnBsGHD0K1bNyQmJnIe991338HPzw/AfxMivBzln4mXo7XZj98yxfcLIcZG47QeOf3xxx/YunUrjh49CisrK/To0QNr167VZf0MztynBROiC1kShvoLQ9TmPLs+uYlRtBpJ66tNsOZkK8Ld6c1l9/H06VN07doVDx8+5DxGYClG8Q4jsXrmWLSu5KNQF2Ob7atvpvZ+IabJ3L+/87SWaNOmTbFr1y7s2LEDQqEQGzZs0FW9CCFGTFUXH5Ddgdi9pp9B66RKXtYGXdCpkiyI2L17N6pXr64yWBO5FoFXn2WQlGqE4bvv4+yjKLn90gkRHQJ8Uff/SXfNXUHvEiZEF7QO2F6+fImZM2eiWLFi6NatG6pVq4bdu3frsm6EECPG1cUntfziM9RfGKIQsPCRc2JAaGQMsiT8OwKUHavN2CgvBzHW/7+rMjk5GYMGDULv3r2RlJTEeYxdpWbw6rMMVu5FZS1Js05EID1TovX9cN2TqSnIXcKE6IJGXaKpqak4ePAgtm7diqtXr8LX1xf9+vVD//79UaxYMT1W03DMvUmVEF3LkjCsDvlXYfklQLuM/XlJrsp1bPeafkoT1+bWuZovGpRxl+uqjIiIQNeuXfH48WPO4wQia7i0GI5CFZso3e9iJ8KXpP/Sh+S8H3VdpOaWbLYgdgkTwzD372/eAdsPP/yAAwcOIDU1FR06dMCAAQPQokULhYWKTZ25v+CE6Jq68WGajE/iSq7KJ/BTdSxD9lg0dTnXvBzEuDGlqaye27Ztw4gRI5CcnMx5jMi9GNw7TIbIlX8XsPR+fmhYHMcfRHEGY3l5HoQUNOb+/c27SzQsLAyzZs3C+/fvsX//frRs2dLsgjVCiOa0zbGVu5svPVOiMrkqkN29qKw7kE9i1sws9X+bRiek4daLL/j69Sv69u2L/v37qwzWOvboC6/vl2oUrEnrxABsuPpC4dlJM/+ffvhe6+dBCDE/vFc6UDXIlhBScGmTY0tZN5+LnRW+JKVzHp8z8Mu9GgCfoPFrWiavej5+9hwD2vbBkydPOMvY2BXClLnLMGXEQAQtvsQ5+1Eb0gBz+rFHct2oyspxPQ9CiPnJ0yxRQgjRNMcWVz40VcFaTsoCRF0mXC1TtDAK2dtz7rfyLAnnnkuxJcoHQYsvoX2V7C5JXfY3MEBlsJYTJZslpGCggI0QkieaLLukquuSr9wBYnqmBHde8lvSyMVOpDKw8nIQ42sGkBk0CgKx4oLt9tXawKv3YohcstcVjY5PxcaRL_models/BDw+IKsx9d7ax41SmvKNksIQUD7y5RQghRRppja9iue7IB/lK5c2yFRsZonQ9NOnkh53qb809HYNO1F1A3jEt67M9tymPEnvuc5WKTMzB8zz3AwhlurUfj0+/zso8X28G19SjYlQ2UKy/tvjz+IApXJjbG3VexstmP1Ys657m71MXOCrFJ6SqTzZrr+qOEEHnUwkYIyTO+Oba07b5Tllx1/ukIbLjKL1iTHvtNZR/80LA4Z9m0TIns37Zl68G+WltYeZeGd79fFYI1KelYsruvYuUS4lpZClUmF1bHxU6E2e0qKD2eks0SUvDwamHTZMJB5cqVta4MIcR0tarojeb+XipzbPHtvsudt8wrV96x9EwJNl17wetcXrlynh0L55/I17nxQEAACCxEassqC0algeyUI38ppBSxs7JAUnqWQquk1JekDMw987fS1B+5nwchxPzxCtgCAgIgEAjAGFObyiMrK0snFSOEmB7psktcpOPd1K0pmbt7MXfgtzP0pdqWNQD4vk4RBLevKDv21osvePX0IRLCDsGt3QQILFWPMxNYqg/UpFQFo/FK8r8lp2d/VjqqyA8X9f8xcmt6VoOjrQihkTEAGOqWcEMdE5gZSklyCdEdXgHbixf//SV7//59TJgwARMnTkTdunUBAKGhoVi6dCkWLVqkn1oSQswC3/FuVpZClYHfixju5aFyYv+/JgAwxvDbhtWI3vULIMlE7KXf4NJ8mFb3kZOqsWR88sNZWwpVpjRhACYefgB7sSWiE9IAAKsvRRr9agfmtkIDIfmNV8BWtGhR2b+7dOmClStX4ptvvpFtq1y5Mvz8/PDzzz+jY8eOOq8kIcR8SLsJc3+Za9LNx7eNRrqQy5cvXzBgwAAcO3ZMti/x3imIi1TmHJvGh7qxZHzyw0mDMFWS0rKQlCbfeyFNsGuMqx1wrdBgzHUmxNhpPEv0r7/+QvHiioN2ixcvjoiICJ1UihBi3viMd1Olqp8zdoa9Vlvu5MNouCW/xoqfRuD1a8XyMWdWwsqzJEROXhrfA6A+yNRnjjRpC92sExFo7u9lNF2NfFoVja3OhJgCjWeJli9fHr/88gtSU//7IEpLS8Mvv/yC8uXL67RyhBDzJR3vJp1VqcmXt7eTjdoyjEnw+vJ+jOvTUWmwBgAsLQmJt4/yvm5OP7cpj+uTm6hsKdJ3jjSuZb/yk7ZLlRFCVNM4YFu/fj0uXrwIPz8/NGvWDM2aNUPhwoVx4cIFrF+/Xh911NjatWtRvHhxWFtbo3r16rh27Vp+V4kQokPSyQtcslIS8OnwHMRd3gJIOCZCCQRwqNsVzk1/0KoObvZitUEmn6TCXg5iONrwn9ygjDGtdqDNUmWEEPU0Dthq1aqFFy9eYO7cuahcuTIqVaqEefPm4cWLF6hVq5Y+6qiR/fv3Y8yYMZg2bRru37+PBg0aoHXr1px/YRNCTI908oKyQCj17WNEbR2FlMjbnMe7u7vj9OkzOL1jDUY2LYtvKnpqXAc+rWfSegLcudSC21fAgEDu3HB8uNmJERoZg2Ph7xAaGZOvC8JrulQZIYQfAZOOyjUTtWvXRrVq1bBu3TrZtvLly6Njx46YP3++2uMTEhLg6OiI+Ph4ODg46LOqhJBcVKWBULbvQkQ0phz+C3EpGWBMgoSwQ4i7tgtgEs5rNGrUCHv27IG3t3xXprJZjcpIZ4Ven9yEdzeuuhmTWRKG6r9c4EzvoaoujrYiWFtaIDrBOGZjZkkY6i8MUZu6RZPnRwgf5v79rVXAtnPnTmzYsAHPnz9HaGgoihYtiuXLl6NEiRLo0KGDPurJS3p6OmxtbXHw4EF8++23su2jR49GeHg4rly5onBMWloa0tL+m6WVkJAAPz8/s33BCTFWqoIaAJz77K1F6P7rOXw+tQypL+5xnl8gEGD6zz9j5owZsLCwUFpGGhReiIjGlhsvOVOPaDPLUV1OsrOPojB0F3f9Fe4HyhPu5rWeuiCdJQro7vkRoo65B2wad4muW7cO48aNQ+vWrREbGytLlOvs7IwVK1boun4a+fz5M7KysuDpKd+94enpiejoaKXHzJ8/H46OjrIfPz8/Q1SVEJOTJWF663aTfsHnbt2Kjk/F0F33MJRj37Bd93D96hV82D5aZbBmYecM926/4IJ1Q1z4+yN3uf9PhJjRrgLW81hqSxN5mWQBAE628uPcPB3ECtukpK/MrBMR+dI9ynepMkIIfxq3sPn7+2PevHno2LEj7O3t8eDBA5QoUQKPHj1Co0aN8PnzZ33VVa3379/D19cXN2/elCX1BYC5c+di586dePLkicIx1MJGiHr6TIIq7ULTdFF4JslCQugBxN3Yq7IL1LpYVbi1HQcLO2eNW3gMlalf3TOQdiMu6VwFn5PS4GFvDQlj6LX5T7Xn3ju4jsokxPpEKx0QQzL3FjaN87C9ePECVatWVdguFouRlMQv+7i+uLm5wcLCQqE17ePHjwqtblJisRhisdgQ1SPEJOU1Caq6L211aSCUnvNrLD6fXILUVw+4CwmEcKrfCw51u0AgyO5MkN7DT0f/QkqGBF4OqoMIdUtt6QrfVBhCoQAdAnwBAMfC3/E6d37OxjTU8yOkINA4YCtevDjCw8PlVj8AgDNnzsDf319nFdOGlZUVqlevjgsXLsiNYbtw4UK+jq0jxFTlNQkqn5Y5bQKKzyeXqgzWLAq5wK39JFj7VVS6/0tSBsbuD1dan/ygTSoMmo1JSMGi8Ri2iRMnYsSIEdi/fz8YY7h16xbmzp2Ln376CRMnTtRHHTUybtw4bN68GVu2bMHff/+NsWPH4vXr1xg6dGh+V40Qk5OXJKiqxqUN23UPZx9FAdAuoHBu9gMEIuUt49UCG8O7/yrOYC233PVRRV/j+LQJvvjkePPmWOOUEGJ6NG5h69+/PzIzMzFp0iQkJyejZ8+e8PX1xa+//oru3bvro44a6datG2JiYjB79mxERUWhYsWKOH36tEKLICFEPW2ToGrSMicNPLjSQChj5VYELs2HIeb0Ctk2CwsLzJs3D4Hf9kev327xPBP/5ZL0OY5P3TNQtsC8NMfbsF33OGezcq1xSggxPRq3sAHA4MGD8erVK3z8+BHR0dF48+YNBg4cqOu6aW348OF4+fIl0tLScPfuXTRs2DC/q0SISeLb8vM5MU2u1UmTljlVyWVVKVSpGewqNgEAuHn5YO3eEyjbohcgEMDLQazRudQtl8S3tVBbfBLsKgu+aDYmIQWHxi1sTZo0wZEjR+Dk5AQ3NzfZ9oSEBHTs2BEhISE6rSAhJP/waf0SCoA5p/6W/e7taI1vKvJbTF3aMicNPPgkrs3JpflwCMV28G7eB/PuSoC74QCyU2BIW8406bRU1qJoqMXMuZ6BugXmW1X0RnN/L5qNSYiZ0zith1AoRHR0NDw8POS2f/z4Eb6+vsjI0CxTt7Ex92nBhGiKKwkqF02CpNwpJ6Stc39HvkDJwr6YdPQxPiSmqTiD6jrYWlkgOZ1jLVEe9QGA0MgY9NgUptWx2qBUGIRox9y/v3m3sD18+FD274iICLnUGVlZWTh79ix8fX11WztCSL7javkRCgBlY+5Zjv2MKQ/elI3JArK7Bj9H3MTEfv0wZMgQzOo5UqPs/7nrwDdY46oPYPjFzCkVBiFEGd4BW0BAAAQCAQQCAZo0aaKw38bGBqtWrdJp5QgpaIy1dSV3t9vnxDS5blBlpMEc3wHx6enpmDp1KpYtWwYgexWSoKAgrO1ZDZMOP8TXtEzd3RCP+kjxHcf38nOyDmtFCCHyeAdsL168AGMMJUqUwK1bt+Du7i7bZ2VlBQ8PD871+Qgh6ulzFqIu5Gz54Zu0dUBgMZx5FK12TNaLFy/QvXt33LolP7uzW89eKPnDGnxlhXRwB8qpGyNWq7gLvBzEiE5Q3TW77/Zr/NiklNoA21iDckKIceMdsEnTYkgk3EvAEEK0k9fVBAyNb2tSc38vTGvjrzJAOXr0KPr374/4+HiF4+O/xODx7l/g2X0uBELd/0H4Y+NSGNu8jMqAyUIoQI9aRbD84jOV55LOMlXVnWnsQTkhxHhpnNZj/vz52LJli8L2LVu2YOHChTqpFCEFibpZiED+LeKtTJaEYe+t12rLeTmIZcGZskXP09LSMGrUKHTq1ElpsCZlYecMlqmfyUyBpdx4tW4Vc7PjdT5V49j0nRqEEGLeNA7YNmzYgHLlyilsr1ChAtavX6+TShFSkORlNYH8cOvFF0QnqB9g36NWEc5gKDIyEoGBgarHvVqI4NJyBNzaT4LQSrfLK2m6CkBel4EytaCcEGJ8NA7YoqOj4e2t2HTv7u6OqCj6C5EQTRl6FmJe8a0HV6vUgQMHULVqVdy9e5fzWJ+iJeDdZynsA1pDINB8fJe3ozWGNCwOATRLRMslr8tAmVpQTggxPhoHbH5+frhx44bC9hs3bsDHx0cnlSKkIDG1Rby1rW9qaiqGDRuGbt26ITExkfO43r17Y8fxEFh5lOBdJwEAVzsrLO9aBXsH18H1yU0w9Rt/na0CoO1KBFKmFpQTQoyPxisdDBo0CGPGjEFGRoYsvccff/yBSZMmYfz48TqvICHmTpt1JPNTbJL6RLZeDmJIGMOx8HfwsLeGU8Zn9OjeDQ8ePOA8RmApRvH2P6LnpHFoVMEb3o7/8lpfVBoizf22okIQpstVALRdiQAwvaCcEGJ8NF7pgDGGKVOmYOXKlUhPTwcAWFtbY/LkyZgxY4ZeKmlI5p4pmRgnrtUEpGGFscwSzZIw1F8Yonb5KCdbEeKSsycKfH18CbHn10CSzn2MyLUI3DpMhtg9ezb6ut7VAIDXCguGnmWpTVoO6XNTF5Rfn9yEUnwQoiVz//7WOGCT+vr1K/7++2/Y2NigdOnSEIvFuq5bvjD3F5wYL12kfNB3ji++yzQBgCQjFbEXN+Lrw/Mqy9lVagaXZkNlEwtyBi8XIqIVnomTjQjNynsgsLQ7vBxMJ4+ZqQTlhJgqc//+1jpgM1fm/oIT45aXgEufOb6k9TrzKAo7Ql+pLZ8R8waffl+AjM/cZQUia7i0GI5CFRVXTgH+W5szS8KwOuQZtt54ibiU/9J7mGL+MsrDRoj+mPv3N68xbJ06dcK2bdvg4OCATp06qSx75MgRnVSMkIJI23UkVSXeHbrrHgYEFkNzfy+tWqOUBRnqSDLSkBHLvRqCyL0Y3DtMhsjVj7OMdAD+hYhorLj4zGSSCquiyzF1hJCChVfA5ujoKJta7+joqNcKEUI0wyfH15YbL7HlxkuNW3O4AkF1xF6l4Nx4IGIvblDYV7t1V7wv3w1CkephFB721mrvTYDs/GXN/b1MJuihxd0JIdrgFbBt3bpV6b8JIflPXY6vnDRplVIVLPFhX60tUl8/RMo/oQAAgZUNXFv+iKXLJmHCwQe8ZsVqkr+MgiBCiDnTOA8bIcS4aJK7S5Os+poEgkB2Kg8nW5FsEL1AIIBr69GwcPSElWdJ+PRdgVJ1W6JOCVfeOc343tuFiGiV+7MkDKGRMTgW/g6hkTG0ogAhxOTwamGrWrUq72zj9+7dy1OFCCGa0TR3F99WKb7BUp+6RdG6ojdqFXfBhYhoDNt1D4L/X8fCuhA8u82Bpb0bhJZWskCMb04zvve25cZL1CruorTVkAb6E0LMAa+ArWPHjrJ/p6amYu3atfD390fdunUBAGFhYXj8+DGGDx+ul0oSQripS7zLRV1ApipYSv/wHGnRz2BfpSVaV/SWBX7KAjGRs4/SAInPAHzpvalr6eMay6ZqMoapTVgghBRsvAK2mTNnyv49aNAgjBo1CnPmzFEo8+bNG93WjhCilnTZpJwtW3yoa71SFggyxvA1/Ay+/LEJkGTBy68EJKy2bEUDaSsX35mQ6gbgS+9t6C7VLffKWg3NccICIaTg0jgPm6OjI+7cuYPSpUvLbX/27Blq1KiB+Ph4nVbQ0Mw9jwsxX3zTb2iSVT9nstestCTEnFmF5KfXZftFDm7w7PsrLGyzZ49r0tWoSc65OSce47cbL9We89fuAegQ4AuAf5Jfab43QohpM/fvb40nHdjY2OD69esK269fvw5ra1oHj5D80qqiN65PboK9g+tgYGAxpWX4LFSe+5zreldDocRXiNo2Wi5YA4CMhM+IOb0CjEkA/NfVePZRlMrznn0UhfoLQ9BjUxhG7wtHj01hqL8whPO4Zv5eausKyLca0oLrhBBzovHi72PGjMGwYcNw9+5d1KlTB0D2GLYtW7aYxVqihJgyaRdj3ZKuqFncRauFynNijOGfkIN4umkCMjMylJZJibyNpEeXUKhSU15djdqMK+MzTs/JRgQJY0jPlODuq1i1QaMULbhOCDEFWi1NdeDAAfz666/4+++/AQDly5fH6NGj0bVrV51X0NDMvUnVVOh7Tcz8Yuj7ysv1YmNjMWDAAPz+++8qyznU6gSnhn0gsJD/+09ZV6O6xeNVdddyrcWZm1AA8MnaQQuuE2JezP37W+MWNgDo2rWrWQRnxDiZaxoGXd8Xn2BM26z6f/75J7p164ZXr7jXAhXaOMC1zVjYlqypdL+yrka+iXCXX/gHgaXc5O6JKxVIbnxTrDHw7xomhJD8plULW1xcHA4dOoTnz59jwoQJcHFxwb179+Dp6QlfX1991NNgzD1CN3Zc3WXSr1RTTcOg6/vSV1ArkUiwfPlyTJkyBZmZmZzlxL7+cGs/CZYObpxllLWwHQt/h9H7wnnXR9k9ZUkYwiJjMGLPPbnF4DU1tllpjG5WRuvjCSHGxdy/vzWedPDw4UOUKVMGCxcuxOLFixEXFwcAOHr0KKZOnarr+pEChM+amHwy9BsbXd+XNPjL3crEd8A/l5iYGLRv3x4TJkxQGaw51OkCz57zOYM1AbIDrVrFXRT2aTpeTNk9WQgFEAoFeQrWAKCYm12ejieEEEPSOGAbN24c+vXrh2fPnsnNCm3dujWuXr2q08qRgkWTdSNNiS7vS5fBX87lmjYcOI2AgACcOnWKs7zQ1hEeXWbBOagvBEILpWXUzUKVTh7g2wnJdU+6mNlJkw0IIaZE4zFst2/fxoYNGxS2+/r6Ijpa9Xp+hKhirmkYdHlfuloMXdql+j4uGQlhhxB3bRfw/9QcyoiLVIJb2wmwtFc9Hs7Fzgpzv63I2S3LNxFuTsruKS/BVs7F5QkhxFRoHLBZW1sjISFBYfvTp0/h7u6uk0qRgonvl7CptYzo8r40Cf64JiVIu1Qzk+Lw+dQypL5QFTwJ4FivOxwDu3O2quU0vU15tWPoWlX0xthmpbH84jNe95LznqS0XY5L0zx0hBBiLDQO2Dp06IDZs2fjwIEDAACBQIDXr19jypQp+O6773ReQVJwqPsSNtWWEb73Vb2oM0IjY1TO+uQb/L38nKyQPsPb0Ro/t/HHnFMRyMpIRdT2schK/MR5DqGdE9zaTYRN0Sq8rgkAXo42vMppM37s5eck2b+1aakDNM9DRwghxkLjWaIJCQn45ptv8PjxYyQmJsLHxwfR0dGoW7cuTp8+DTs70x7Ia+6zTIwdV64tU5olqqxl60JEtMr7+qFhcRx/EKV21qc0j5nKBLK2IsQnZyidkZpzW/zN/Yi7tlPpOayLBsCt3XhY2DnzuWWNc5rxXTYqJy8HMW5MaSo7f5aEofovFxCXrHrygYudCN8G+KKZv5fZ5PMjhCgy9+9vrdJ6AEBISAju3bsHiUSCatWqoVmzZrquW74w9xfcFJhyHjZVdQegdF/7Kt7YePUF75QfXClCpOysLJCUnqW2roxJ8PHATKS+vJ/jokI41e8FhzqdeXWBqqqnKlkShsAFIYhO0Gw8Ys5UIXyDvt0DayOwNHf6EUKIeTD372+NukQzMzNhbW2N8PBwNGnSBE2aNNFXvUgB1qqiN5r7e5ncSgd8lly6PrmJ3H1VL+qMoMWXOGd9KlvmqVVFb/zQsDg2XH2htB58gjUAEAiEcGs7DlFbRyErKRYWhVzg1n4SrP0qZu+HYmsgQ3YLXs5WLW26GS2EAvSoVQTLL/7D+xhAfhwb3/F8n5PSNLoGIYQYI40CNktLSxQtWhRZWfy+EAjRlrYZ+vOLunQbOQOvnPcVGhmj8azPLAnD8Qfa5VrLzcLOGW7tJiLh9lG4fjMGlraO8HK0xs9tymPOqb+VrkPKFUxrugxWMTdbjeubcwyfuU5SIYQQZTSedDB9+nRMnToVu3btgouLYQZ/v3z5EnPmzEFISAiio6Ph4+OD3r17Y9q0abCyspKVe/36NUaMGIGQkBDY2NigZ8+eWLJkiVwZQvRB23Qb2qT8UHct2TWzMiCwEHHul7aYWRetDOuileVmULaq6I2WFb05A7DcwbQ23diaBFLKJpyY6yQVQghRRuOAbeXKlfj333/h4+ODokWLKkwyuHdPs1lbfDx58gQSiQQbNmxAqVKl8OjRIwwePBhJSUlYsmQJACArKwtt2rSBu7s7rl+/jpiYGPTt2xeMMaxatUrndSIkJ21zrWnTSsTnWinP7yLm7Cq4d5oOsVcp2XZpEKOqBU0aYPFt5eTTFawsaNM0NUfuVBzSmaLDdt1T2n2r7BhCCDFVWqX1EAgM+wHYqlUrtGrVSvZ7iRIl8PTpU6xbt04WsJ0/fx4RERF48+YNfHx8AABLly5Fv379MHfuXLMcgEiMh7bdc5q0Ekm7HJ99SOQ8P5NkIe7aTiSEHQIAfD62EN79foVQbKtRCxpfmnQFK1uYnivgyklVSx3XgvCUvoMQYm40DtiCg4P1UA3NxcfHy3XJhoaGomLFirJgDQBatmyJtLQ03L17F40bN1Z6nrS0NKSl/TcoWVlSYELU0bZ7jm8r0YWIaIWgJLfMhE/4fHwx0t5F/LctLgoxZ1fBrf0keDvZaNWCpkpeV17gCrhc7azQIcAHzXmk4jDVSSqEEKIJ3gFbcnIyJk6ciN9//x0ZGRlo1qwZVq5cCTc3w0+Xj4yMxKpVq7B06VLZtujoaHh6esqVc3Z2hpWVlcols+bPn49Zs2bpra6kYMhL95y6ViIAKtN4AEBy5G3EnFwGSapi61vyk2vo3qsD5k0ep/T6mk4WyEkXy27pIuAytUkqhBCiKd4B28yZM7Ft2zb06tUL1tbW2Lt3L4YNG4aDBw9qffHg4GC1wdLt27dRo0YN2e/v379Hq1at0KVLFwwaNEiurLKuWsaYyi7cqVOnYty4cbLfExIS4Ofnx/cWCJHJS/ccV9ACAPUXhnAGaywrA3FXdiDh9lGVdXv79z0oi3/ymvNOVzM1KeAihBDVeAdsR44cwW+//Ybu3bsDAHr37o3AwEBkZWXBwoJfgs3cfvzxR9n5uBQrVkz27/fv36Nx48aoW7cuNm7cKFfOy8sLf/75p9y22NhYZGRkKLS85SQWiyEWizWvPClQ+LZCKQu8qhd1xt1XsTgW/k7lscqCFlVpPzLjP+DTsUVIj3rKWW8rKyssXboUI0aMUPjDRdvJAjnRTE1CCDEM3gHbmzdv0KBBA9nvtWrVgqWlJd6/f691i5SbmxvvLtV3796hcePGqF69OrZu3QqhUCi3v27dupg7dy6ioqLg7Z39JXP+/HmIxWJUr15dq/oRAmjeCpUz8Dr7KApBiy9p3YLF1ZWY/E8oYk6vgCQtSel+AChZsiT279+v9P2fl8kCOdFMTUIIMQyh+iLZsrKyFPKZWVpaIjMzU+eVyu39+/do1KgR/Pz8sGTJEnz69AnR0dFyY9NatGgBf39/fP/997h//z7++OMPTJgwAYMHD6YZokRr0lao3K1c0laos4+4E9jm5Vip3F2JLDMDXy5uwKejc1UGa127dsXdu3c5/1jRZLKAOtKuYC9H+bp6OVqbxNqvhBBiCni3sDHG0K9fP7nuw9TUVAwdOlQuF9uRI0d0W0Nkt5T9+++/+Pfff1G4cGGFegGAhYUFTp06heHDhyMwMFAucS4h2shLK5SuWrBydjmmx0bh8/GFSI/+l7O8WCzGihUrMGTIEJVjN3UxWSAnmqlJCCH6xTtg69u3r8K23r1767QyXPr164d+/fqpLVekSBGcPHlS/xUiBUJeUlbkNd2FlLTLsc/0lfh8ZiVYejJn2TJlyuDAgQOoUqUKZxkpfSzrRBMHCCFEf3gHbFu3btVnPQgxOnlphdJVC1ZqaiqOr52DT8fWqSzXq1cvrFu3Dvb29ryuS5MFCCHEtPAew0ZIQZOXVihdtGD9888/qFOnDtat4w7WbGxssHnzZuzcuZN3sAb813IH/Dc5QIomCxBCiPGhgI0QDtJWKK6QRYDsGZ/KWqHycqzUzp078eDBA8795cuXx61btzBw4EBey8VlSRhCI2NwLPwdQiNj0NzfiyYLEEKIiRAw6ah9AiA7ca6joyPi4+NpdimRzfQElKesUBXY5OVYAMjIyECjRo1w8+ZNhX39+vXD6tWr5Sb8qLsPrtQkNFmAEGIOzP37mwK2XMz9BSeay8tqAHldSeDNmzcICAjAly/Z6TVsbW2xbt069OnTR6P6K0uQyzdwJIQQU2Du398UsOVi7i840U5e1tvMy7EAcOLECbRv3x4VK1bEgQMHUL58eY3qXX9hCOeMVenkguuTm+h8nVFCCDEkc//+5j1LlJCCLC8pKzQ5VlmA1K5dOxw8eBDffPMNbG1tNbp2XtKL5LV1kBBCiO5QwEYKtPxsOXv8+DEsLCxQrlw5AKoDpM6dO2t2Y/+nbXoRXawzSgghRHcoYCMFVn6NTWOMYcuWLRg5ciRKliyJP//8E1efx+slQNImvYiuVmkghBCiO5TWgxRIhlojNHcqjbj4BHz//fcYNGgQUlJS8OjRI4waNUplgMSQHSBlSeRL5D537v2AdulFdLnOKCGEEN2gFjZS4BhqjdALEdFyrXDpH58j9sQipH5+K3fcb7/9Brd2zrDzb8RZ56j4VKwOeYbRzcoA4N/CJ02QO2zXPQigPL1I7gS5ul5nlBBCSN5RCxspcPLSgsT32NUh/8pa4RhjSLx/GlE7xisEa1Ix59YgI5a7VQ8All98hrOPojRuHWxV0VujBLn6WGeUEEJI3lALGylwDLFG6NYbL8AASNKSEHN2NZKfXFNZvlDlFrC0d1N73uDjjwEING4dbFXRm3eCXFpnlBBCjA8FbKTAMcQaoXEpGUiL/hefjy1EZhx3y5mTkxO2bNmKRU/sVbbcSUUnpKncrypNB9/0Itp0oxJCCNEv6hIlBY6+1wh1tLZEwt0TiN41QWWwVrZSNYSHh+PbbzvKFmLXlbyOL9O0GzU3PhMiCCGE8EctbKTAyUsLUs5jlclK/Qpc/w2xNy6orINDrU7YtH0Nihb1ApAdII1tVgbLL/6jxR0p0sX4Mk26UXOihLuEEKJ71MJGCqS8tCC1quiNHxoWR+64JT3qKb7uG4+HKoI1obU9PDrPhH/H4ahXxlNu349NSsHLQcx5rACAl4MYXg7atQ5qQ9qN2iHAF3VLuvIK1rRNl0IIIYQbtbCRAisvLUgbr76QtcwxxpB4+3fEXtkGSLI4jxP7+sO9/URYOrgrbcGzEAoQ3L6CrPVOWctfcPsKAGCU48so4S4hhOgPBWykQFM3ED/38lPVizrLBSVZKQmIObUcKZG3VV7HoU4XODXoDR9nO5Vdg9KWv9xdil65uhT5lDG0vKxbSgghRDUK2AjhoGwsloudCF+SMgAAGV/e4cO+6chK/MR5Dnd3d0xduAYlqtbj3YLHp+VP29ZBfaKEu4QQoj8UsBGiBNfi59JgDQAsHdwhtLHnDNiCgoKwZ88e+Pj4aHx9Pik4+KbpMBRKuEsIIfpDkw4IyUXVWKycBJZWcO8wGQIrm9x7MODHCbh48aJWwZqpik1KV5iIkZOuJ0QQQkhBQgEbIbmoG4uVk8jFF64tf5T9LrRzQvkBC7Hx10WwtCw4DdhnH0VhxJ57UJdujRLuEkKIdgrONwohPGk6xsrOPwiprx8iMy4abm0nYNnQpgUqKOHTIikUAKt7VKU8bIQQoiUK2AjJhe8YKxc7K3xJSs/+d7Oh8Ha2RXCHSgUuKOHTIilhgLMdd445QgghqlHARkgu0uWnXjwIQ8LdE3DvOAUCC5Fsv3Tx8ysTG+Puq1ijmaWZX2h2KCGE6B8FbITkxiQo8foUwvavAMAQe2U7XJoMAiCfnNbKUmhUszTzC80OJYQQ/aNJB4Tk8P79ezRr1gx71i+HdB2BxNu/I/nfPwHwX/y8IJG2SBpquSxCCCmIKGAj5P/OnTuHgIAAXL58WWFfyoWVWN6mMK5PbkLBWi4WQgFmtvMHAIWgLb+XyyKEEHNBARsp8DIzM/HTTz+hVatW+PRJeRLcrwnxuHP2AAUdHKRLank5ynd7UoskIYToBo1hIwXa27dv0aNHD1y/fp2zjKWlJRYuXIixY8casGbZcq9laswTG4xxuSxCCDEXFLCRAuvUqVPo27cvYmJiOMsULVoU+/fvR+3atQ1Ys2zK1jL1zucF3tUxtuWyCCHEXFCXKDErWRKG0MgYHAt/h9DIGGQpSb2fkZGBiRMnom3btiqDtY4dO+L+/fv5FqwN23VPIb9ZdHwqhu26h7OPogxeJ0IIIfmHWtiIyVDXPcinRerVq1fo3r07wsLCOK9jZWWFJUuW4Mcff4RAoHl3Xl67MVWtHMCQPZB/1okINPf3AgDqgiSEkAKAAjZidJQFPBciolUGY9IWqdxBjrRFal3vakiLvIV+/fohLi6O89olSpTAgQMHUL16da3qfvZRFIKPP0Z0Qppsm5eDGMHtK/DuxlS3cgADEBWfitUh/2Lf7dcm1WVKCCFEOwLGmJrlmguWhIQEODo6Ij4+Hg4ODvldnQJHWSuZk60IcckZCmWl7UhrelbFnFN/cwc5WRlIu7kT0TePqLx2ly5dsGnTJjg6Ompd96G77nHuX89ztuSx8HcYvS9cqzpInwnNzCSEFDTm/v1NY9iMEJ9xWOaIa9yWsmANgKw1bfqxR5zBWkZcNKJ2TVIZrInFYqxduxb79+/XKljLkjDc+Pczxh14oLLclCN/8Xot87IigPTss05EFJj3DSGEFAQmF7ClpaUhICAAAoEA4eHhcvtev36Ndu3awc7ODm5ubhg1ahTS09Pzp6JaOvsoCvUXhqDHpjCM3heOHpvCUH9hiNkPMlc1bksVBuBLEkdAxxg+H1+M9OhnnMeXLl0aYWFhGDZsmFbj1aSvV6/NfyI5PUtl2bjkDIRFck9ykJKuHKAtaZfprRdftD4HIYQQ42JyAdukSZPg4+OjsD0rKwtt2rRBUlISrl+/jn379uHw4cMYP358PtRSO1wtTFEFYGagunFb2hAIBHBt9SMEllZK9/fs2RN3795FQECAVufner1UCX3+WW0ZC6EA7avkvTuTFlsnhBDzYVIB25kzZ3D+/HksWbJEYd/58+cRERGBXbt2oWrVqmjWrBmWLl2KTZs2ISEhIR9qqxl1LUwM5t3NldfgQiBQXBYJAKw8isOl6Q9y26ytrbFp0ybs2rUL9vb2Wl1P2xZB5bVUPPfxB3kPzmmxdUIIMR8mE7B9+PABgwcPxs6dO2Fra6uwPzQ0FBUrVpRrfWvZsiXS0tJw9+5dzvOmpaUhISFB7ic/8GlhMudurrwGF4z9l/IiJwGAQlVaIqh1BwBAuXLlcOvWLQwaNEirLlApbVsE+SSVzWtrIy22Tggh5sckAjbGGPr164ehQ4eiRo0aSstER0fD09NTbpuzszOsrKwQHR3Nee758+fD0dFR9uPn56fTuvMVHZ+i03KmRjpuKy8ZxFpX9IKng+Jaluu/r47j+3Zg0qRJuH37NipVqpS3ykK7FkFnWxHqlFAfsGlyblpsnRBCCoZ8DdiCg4MhEAhU/ty5cwerVq1CQkICpk6dqvJ8ylpMGGMqW1KmTp2K+Ph42c+bN2/yfF/a+JLEb3IE33KmxkIowMx2/gD4dBr+JyMuGkySPdj/zKNoAAxjm5XGr90DsHdwHVyf3AStKnrDwcEBCxcuRKFChXRSX21aBOd3qsQriOJ77rHNStNi64QQUkDka+LcH3/8Ed27d1dZplixYvjll18QFhYGsVgst69GjRro1asXtm/fDi8vL/z5559y+2NjY5GRkaHQ8paTWCxWOG9+cCnErw58y5miVhW9sa53NaUJclMyshTSe3x99Ae+nF8Lh1rfwal+TwDAh4Q0rLj4DOt6V9PrmpbSFsHo+FS149g0TWar7twCZAdmPzYpjR+blKaVDgghpAAwicS5r1+/lhtb9v79e7Rs2RKHDh1C7dq1UbhwYZw5cwZt27bF27dv4e2d/cW4f/9+9O3bFx8/fuSdRC+/Eu+FRsagxybu5ZKk9g6uY/aLa3OtdDDs/0lps9JT8eXCeiQ9uvj/IwTw7D4X1kUr//+37IDm+uQmeg1epLNEAcgFVoL//z4gsBia+3tpFUSpOjdAiXEJISQ3c0+caxIBW24vX75E8eLFcf/+fVlKhqysLAQEBMDT0xOLFy/Gly9f0K9fP3Ts2BGrVq3ife78esGzJAz1F4aoHGzubYAgxJidfRSFyZtP4+9ds5ER81pun4WdM7z7r4SFnbNsmyGCWz7rlxrjuQkhxNyYe8BmNmuJWlhY4NSpUxg+fDgCAwNhY2ODnj17Kk0BYoykY7hUtaoU5IHkjDG8v3UGzzaOREaK4sSLrKRYfD65DB5dZ0EgyB6aaYg8ZK0qeqO5v5deuiX1eW5CCCGmxSQDtmLFikFZw2CRIkVw8uTJfKiRbnCN4fIq4K0qX79+xdChQ7F7926V5SydvQFJFmCRHbAZKg+ZhVCgt5Y8fZ6bEEKI6TDJgM2cUauKvAcPHqBr1674559/OMsIrGzh2mok7Mo3yP4d2UEu5SEjhBBiLihgM0LUqpLdBbpx40aMHj0aaWlpnOWsvErBrf1kiJyzWx+p+5gQQog5ooCNGJ2EhAT88MMP2L9/v8pyddv3RlaNnviQJJFtK+jdx4QQQswTBWzEqNy7dw9du3ZFZGQkZxmh2A6u34xGVJl6WNMhAM52VtR9TAghxKxRwEaMAmMMa9aswfjx45Gezr2ag5V3Gbh3mAxLx+xkyHNORRToVCeEEEIKBgrYSL6Li4vDwIEDceTIEZXlHGp+C6egPhBYiABkpz6Jik/FrRdfCvyYP0IIIeaNAjaSr+7evYsuXbrgxYsXnGWE1vZwbTMWtqVqKd1viHxrhBBCSH6igI3kq4yMDLx584Zzv9jXH27tJ8LSwZ2zjKHyrRFCCCH5RZjfFSAFW506dTB//nyl+yZNnowqQ5dBxBGsCZC9VBPlWyOEEGLuKGAj+W7cuHFo06aN7Hc3NzecOXMGCxcswKyO/y3onhPlWyOEEFKQUMBmIrIkDKGRMTgW/g6hkTHIkiguzWWqhEIhtm3bBl9fXzRs2BDh4eFo1aoVgP+W6/JylO/29HK0xrre1SjfGiGEkAJBwJQtylmAJSQkwNHREfHx8XBwcMjv6gAAzj6KUlhf1NsME8Q+f/4cRYoUgaWl4tDKLAmj5boIIYRwMsbvb12igC0XY3vBzz6KwrBd95D7RZKGKsbeynTt2jU8ffoUgwYNyu+qEEIIMWPG9v2ta9QlasSyJAyzTkQoBGsAZNtmnYgwyu5RiUSCuXPnolGjRhg2bBj+/PPP/K4SIYQQYrIoYDMAbcef3XrxRa4bNLeciWONyYcPH9CqVStMnz4dEokEmZmZ6NatG2JjY/O7aoQQQohJojxsepaX8Wd8E8IaU+LYkJAQ9OrVC9HR0XLbX716hY7deuOPMydgaUF/J2iKxvARQkjBRgGbHnGNP4uOT8WwXffUjj/jmxDWGBLHZmVlYc6cOZg9eza4hkVevXAa/n1mYeXUoUY97s7YFJRJJ4QQQrhRU4ee6GL8Wa3iLvB2tFbIQSZlLIljo6Ki0KxZM8yaNYszWINACKegvkgvXAPDdt3D2UdRhq2kiZIG/bm7xqVBPz1HQggpGChg0xNdjD+zEAows50/AONNHHv+/HlUqVIFly9f5ixjYe8Gz57z4VinCyDIfssZ62QJY2LKk04IIYToFgVseqKr8WfGmjg2MzMT06ZNQ6tWrfDp0yfOcjYla8K7/0pYF64g26bNZAlzThzMxVQnnRBCCNE9GsOmJ7ocf9aqojea+3sZzaDzt2/fokePHrh+/Tp3IaEFnIP6wr5mRwgEyv8u4BvUFtQxXKY46YQQQoh+UMCmJ9LxZ9HxqUq7tATIbiXjO/7MQihA3ZKuOq2jNk6fPo0+ffogJiaGs4yXrx/QeDTEvuVUnotPsJrXiRumzJQmnRBCCNEv6hLVE1MYf6aJjIwMTJo0CW3atFEZrHXo0BF/PQhHMf+APE+WKOhjuExl0gkhhBD9o4BNj4x1/JmmXr16hYYNG2Lx4sXchYSWcG76A6JrjcCdqDSdBKsFfQyXuQX9hBBCtEdrieaij7XITDnpaVxcHEqVKqWyVc3SyQtu7SdD7F1abo1TAHkae3Ys/B1G7wtXW+7X7gHoEOCrtpypKqhj+AghRBPmvpYojWEzAGMZf6YNJycnDB8+HHPmzFG637ZsIFxbj4JQbAcgu9VLgOxA7frkJnmaLEFjuLIZ26QTQgghhkcBm4GYcivbzJkzcfXqVVy5cuW/jRYiuDQdjEIBrSEQyN9Hzq7KuiVdtQ5WdT1xw5SZctBPCCEk7yhgMwBT79KysLDAnj17EBAQgE+fPsGnSHGwJmNh5VlC5XF5TTchHcM1bNc9CAC5oI3GcBFCCClIaNKBnpnL0kI+Pj7YuXMnevXqhe3HQ9QGa4BuuirNZeIGIYQQkhc06SAXXQ5azJIw1F8YwjnTUdqld31yk3xtJUpJSYGNjQ3v8tL7UtdVqcv7MuUuZUIIIfpn7pMOqIVNj0whLcX+/ftRrFgx/PXXX7yPyY90E9IxXB0CfFG3pCsFa4QQQgoUCtj0yJiXFkpJScHQoUPRvXt3fPz4EV27dsXXr195H09dlYQQQojh0KQDPTLWtBRPnz5F165d8fDhQ9m2J0+eYMSIEdi+fTvv81C6CUIIIcQwqIVNj4xxaaFdu3ahevXqcsGa1I4dOzQK2ADqqiSEEEIMgQI2PTKmpYWSk5MxYMAAfP/990hKSuIsd+/ePb3XhRBCCCGaoYBNz4xhrNfjx49Rs2ZNbN26lbNMoUKFsHv3bvz66696rw8hhBBCNGNSAdupU6dQu3Zt2NjYwM3NDZ06dZLb//r1a7Rr1w52dnZwc3PDqFGjkJ6enk+1/U+rit64PrkJ9g6ug1+7B2Dv4Dq4PrmJ3oM1xhi2bt2KmjVrIiIigrNclSpVcPfuXfTs2VOv9SGEEEKIdkxm0sHhw4cxePBgzJs3D02aNAFjTC4VRVZWFtq0aQN3d3dcv34dMTEx6Nu3LxhjWLVqVT7WPJuhlxb6+vUrhg0bhl27dqksN2zYMCxbtgzW1ua9HichhBBiykwicW5mZiaKFSuGWbNmYeDAgUrLnDlzBm3btsWbN2/g4+MDANi3bx/69euHjx8/8k6iZw6J9x4+fIiuXbvi6dOnnGXs7e2xefNmdO3a1YA1I4QQQvTDHL6/VTGJLtF79+7h3bt3EAqFqFq1Kry9vdG6dWs8fvxYViY0NBQVK1aUBWsA0LJlS6SlpeHu3bv5UW2DY4xh48aNqFWrlspgzc63DFbsP0fBGiGEEGIiTCJge/78OQAgODgY06dPx8mTJ+Hs7IygoCB8+ZK9SkB0dDQ8PT3ljnN2doaVlRWio6M5z52WloaEhAS5H1OUkJCAnj17YsiQIUhLS+MsZ1+9Hdy6L8ScK19MZh1TQgghpKDL14AtODgYAoFA5c+dO3cgkUgAANOmTcN3332H6tWrY+vWrRAIBDh48KDsfAKBYnoMxpjS7VLz58+Ho6Oj7MfPz0/3N6pn9+7dQ/Xq1bFv3z7OMkKxHdy//QkuzYYAliIAwKwTEciSGH2POCGEEFLg5eukgx9//BHdu3dXWaZYsWJITEwEAPj7+8u2i8VilChRAq9fvwYAeHl54c8//5Q7NjY2FhkZGQotbzlNnToV48aNk/2ekJBgckHbnj178O+//3Lut/IuA/cOk2Hp+N9zyLmOqSEnQxBCCCFEc/kasLm5ucHNzU1tuerVq0MsFuPp06eoX78+ACAjIwMvX75E0aJFAQB169bF3LlzERUVBW/v7HQZ58+fh1gsRvXq1TnPLRaLIRaLdXA3+WfevHm4evUqbt++rbDPoea3cArqA4GFSOmx+bGOKSGEEEI0YxJpPRwcHDB06FDMnDkTfn5+KFq0KBYvXgwA6NKlCwCgRYsW8Pf3x/fff4/Fixfjy5cvmDBhAgYPHmyWs0VysrKywv79+1G1alXEx8cDABycnCFu+iNsS9VWeayh1zElhBBCiOZMYtIBACxevBjdu3fH999/j5o1a+LVq1cICQmBs7MzAMDCwgKnTp2CtbU1AgMD0bVrV3Ts2BFLlizJ55obRvHixbFlyxYAQL169RB+/z5KVg8yqnVMCSGEEKIdk8jDZkimnsfl+PHjaN26NUQiEc4+isKwXdlrg+Z8kaVBnKGWxiKEEEL0zdS/v9UxmRa2giw0NFTlpIKc2rdvD5Eoe7yaMaxjSgghhJC8M4kxbAWVRCLB0qVL8dNPP6Fy5cq4efOmxhMkWlX0RnN/L9x68QUfE1PhYZ/dDWoh5E51QgghhBDjQgGbkfr8+TP69u2L06dPA8jOtTZhwgSt1kU19DqmhBBCCNEt6hI1QteuXUNAQIAsWJNavXo1Dh8+nE+1IoQQQkh+oYDNiEgkEsybNw+NGzfGu3fvlJYZOHAg3rx5Y+CaEUIIISQ/UZeokfj48SN69+6NCxcucJYRCoUYN26c3AL3hBBCCDF/FLAZgUuXLqFnz54qF6n39vbGnj170KhRI8NVjBBCCCFGgbpE81FWVhZmzZqFZs2aqQzWWrRogfDwcArWCCGEkAKKWtjySVRUFHr16oVLly5xlrGwsMCcOXMwefJkCIUUWxNCCCEFFQVs+eDChQvo3bs3Pn78yFnG19cX+/btky12TwghhJCCi5ptDCgzMxPTp09Hy5YtVQZrbdq0QXh4OAVrhBBCCAFALWwG8/btW/Ts2RPXrl3jLGNpaYn58+dj3Lhx1AVKCCGEEBkK2AwgPDwczZo1Q0xMDGeZIkWKYP/+/ahTp44Ba0YIIYQQU0DNOAZQpkwZeHtzL7TeoUMH3L9/n4I1QgghhChFAZsB2NraYv/+/bC1tZXbLhKJsGLFChw9ehQuLi75VDtCCCGEGDsK2AzE398fa9askf1evHhx3LhxA6NHj4ZAIMjHmhFCCCHE2NEYNgPq168fLl26hOTkZGzevBmOjo75XSVCCCGEmAAK2Axs06ZNEIlE1KpGCCGEEN4oYDMwKyur/K4CIYQQQkwMjWEjhBBCCDFyFLARQgghhBg5CtgIIYQQQowcBWyEEEIIIUaOAjZCCCGEECNHARshhBBCiJGjgI0QQgghxMhRwEYIIYQQYuQoYCOEEEIIMXIUsBFCCCGEGDkK2AghhBBCjBwFbIQQQgghRo4Wf8+FMQYASEhIyOeaEEIIIYQv6fe29Hvc3FDAlktiYiIAwM/PL59rQgghhBBNJSYmwtHRMb+roXMCZq6hqJYkEgnev38Pe3t7CASC/K5OniQkJMDPzw9v3ryBg4NDflfH4Ary/Rfkewfo/un+6f4L4v0zxpCYmAgfHx8IheY34ota2HIRCoUoXLhwfldDpxwcHArUf9rcCvL9F+R7B+j+6f7p/gva/Ztjy5qU+YWghBBCCCFmhgI2QgghhBAjRwGbGROLxZg5cybEYnF+VyVfFOT7L8j3DtD90/3T/Rfk+zdXNOmAEEIIIcTIUQsbIYQQQoiRo4CNEEIIIcTIUcBGCCGEEGLkKGAjhBBCCDFyFLCZsVOnTqF27dqwsbGBm5sbOnXqJLf/9evXaNeuHezs7ODm5oZRo0YhPT09n2qre2lpaQgICIBAIEB4eLjcPnO995cvX2LgwIEoXrw4bGxsULJkScycOVPh3sz1/qXWrl2L4sWLw9raGtWrV8e1a9fyu0o6N3/+fNSsWRP29vbw8PBAx44d8fTpU7kyjDEEBwfDx8cHNjY2aNSoER4/fpxPNdav+fPnQyAQYMyYMbJt5n7/7969Q+/eveHq6gpbW1sEBATg7t27sv3mfv8FDQVsZurw4cP4/vvv0b9/fzx48AA3btxAz549ZfuzsrLQpk0bJCUl4fr169i3bx8OHz6M8ePH52OtdWvSpEnw8fFR2G7O9/7kyRNIJBJs2LABjx8/xvLly7F+/Xr89NNPsjLmfP8AsH//fowZMwbTpk3D/fv30aBBA7Ru3RqvX7/O76rp1JUrVzBixAiEhYXhwoULyMzMRIsWLZCUlCQrs2jRIixbtgyrV6/G7du34eXlhebNm8vWTDYXt2/fxsaNG1G5cmW57eZ8/7GxsQgMDIRIJMKZM2cQERGBpUuXwsnJSVbGnO+/QGLE7GRkZDBfX1+2efNmzjKnT59mQqGQvXv3TrZt7969TCwWs/j4eENUU69Onz7NypUrxx4/fswAsPv378vtM+d7z23RokWsePHist/N/f5r1arFhg4dKretXLlybMqUKflUI8P4+PEjA8CuXLnCGGNMIpEwLy8vtmDBAlmZ1NRU5ujoyNavX59f1dS5xMREVrp0aXbhwgUWFBTERo8ezRgz//ufPHkyq1+/Pud+c7//goha2MzQvXv38O7dOwiFQlStWhXe3t5o3bq1XFN4aGgoKlasKNcC1bJlS6Slpck1qZuiDx8+YPDgwdi5cydsbW0V9pvzvSsTHx8PFxcX2e/mfP/p6em4e/cuWrRoIbe9RYsWuHnzZj7VyjDi4+MBQPZav3jxAtHR0XLPQiwWIygoyKyexYgRI9CmTRs0a9ZMbru53//x48dRo0YNdOnSBR4eHqhatSo2bdok22/u918QUcBmhp4/fw4ACA4OxvTp03Hy5Ek4OzsjKCgIX758AQBER0fD09NT7jhnZ2dYWVkhOjra4HXWFcYY+vXrh6FDh6JGjRpKy5jrvSsTGRmJVatWYejQobJt5nz/nz9/RlZWlsL9eXp6mvy9qcIYw7hx41C/fn1UrFgRAGT3a87PYt++fbh37x7mz5+vsM/c7//58+dYt24dSpcujXPnzmHo0KEYNWoUduzYAcD8778gooDNhAQHB0MgEKj8uXPnDiQSCQBg2rRp+O6771C9enVs3boVAoEABw8elJ1PIBAoXIMxpnR7fuN776tWrUJCQgKmTp2q8nymdO8A//vP6f3792jVqtX/2rv3mCavPwzgTxlaJreFDGwRAQkOYUwR0cRs0ekYQjTOLCg4lgirZEOroO6SzBmYTIVlF4IIUdDWhGUqXhJv08U/iNGFMRzEEmPUIFCUBRZQIkwq8P39sfj+1oEKTqC+PJ+kIZxz2nMeGppv354DWL58OVavXm3X97zlH6p/51BTtoEYjUZcvnwZP/74Y78+tf4srFYr0tPTUVpaChcXl0eOU2v+vr4+REZGYvv27Zg5cyY+/PBDpKamoqioyG6cWvOPRc6jvQAaPKPRiMTExMeOCQwMVDaUhoWFKe1arRZBQUHKxmudTodff/3V7r7t7e148OBBv3dkjmCw2b/66itUVFT0+x96UVFRSEpKwv79+5+77MDg8z90+/ZtLFiwAHPnzsWePXvsxj2P+Qfr5ZdfxgsvvNDvCkJLS8tzn+1R1q1bh+PHj+P8+fPw8/NT2nU6HYC/r7To9XqlXS0/i0uXLqGlpQWzZs1S2np7e3H+/HkUFBQoJ2bVml+v19u9xgNAaGgojhw5AkD9z/+YNGq752jY3L17V7Rard2hA5vNJj4+PrJ7924R+f/G89u3bytjDhw48NxvPG9oaBCLxaLczp49KwDk8OHDYrVaRUS92R9qamqSqVOnSmJiovT09PTrV3v+OXPmSFpaml1baGio6g4d9PX1ydq1a8XX11euXbs2YL9Op5Pc3Fylrbu7WzWbzjs6Oux+1y0Wi0RFRcn7778vFotF9flXrlzZ79BBRkaGzJ07V0TU//yPRSzYVCo9PV0mTZokZ8+elatXr4rBYBAfHx9pa2sTEZGenh4JDw+Xt956S37//Xc5d+6c+Pn5idFoHOWVP1s3b97sd0pUzdlv3bolwcHBsnDhQmlqapLm5mbl9pCa84v8XXyOGzdO9u7dK1euXJGMjAxxdXWV+vr60V7aM5WWliaenp5SXl5u9zx3dXUpY3JycsTT01OOHj0qFotFVq5cKXq9Xjo6OkZx5cPnn6dERdSdv7KyUpydnWXbtm1y/fp1+eGHH2TChAlSWlqqjFFz/rGIBZtK2Ww22bRpk/j4+Ii7u7tER0dLbW2t3ZiGhgZZvHixvPjii+Ll5SVGo1Hu378/SiseHgMVbCLqzW4ymQTAgLd/Umv+h3bt2iUBAQEyfvx4iYyMVP7UhZo86nk2mUzKmL6+PsnMzBSdTidarVbmzZsnFotl9BY9zP5dsKk9/4kTJyQ8PFy0Wq1MmzZN9uzZY9ev9vxjjUZEZBQ+iSUiIiKiQeIpUSIiIiIHx4KNiIiIyMGxYCMiIiJycCzYiIiIiBwcCzYiIiIiB8eCjYiIiMjBsWAjIiIicnAs2IjouZWVlYWIiIhhnaO8vBwajQZ37twZ1nmIiB6HBRsRPXPJycnQaDTQaDRwdnaGv78/0tLS0N7ePmJruHTpEjQaDS5cuDBg/6JFi7B06dIRWw8R0X/Bgo2IhkVsbCyam5tRX1+PkpISnDhxAmvWrBmx+WfNmoUZM2bAZDL167NarTh37hwMBsOIrYeI6L9gwUZEw0Kr1UKn08HPzw8xMTFISEjAzz//bDfGZDIhNDQULi4umDZtGgoLC+36P/vsM7zyyiuYMGECgoKCsGXLFjx48GDQazAYDDh06BA6Ozvt2s1mM7y9vbF48WKUlpYiKioK7u7u0Ol0eO+999DS0vLIxxzoY9i8vDwEBgYOOpvNZoPRaIRer4eLiwsCAwOxY8eOQeciorHHebQXQETqV1dXhzNnzmDcuHFKW3FxMTIzM1FQUICZM2eiuroaqampcHV1xapVqwAA7u7uMJvN8PX1hcViQWpqKtzd3fHpp58Oat6kpCR88sknKCsrQ3JyMgBARGA2m7Fq1So4OzvDZrMhOzsbISEhaGlpwYYNG5CcnIzTp08/dd4nZcvPz8fx48dx6NAh+Pv7w2q1wmq1PvV8RKR+LNiIaFicPHkSbm5u6O3txf379wEA3333ndKfnZ2Nb7/9Fu+++y4AYMqUKbhy5Qp2796tFGxffPGFMj4wMBCbNm3CwYMHB12weXl5YdmyZTCZTErBVl5ejrq6OnzwwQcAoHwFgKCgIOTn52POnDm4d+8e3Nzcnir7k7I1NjZi6tSpeOONN6DRaBAQEPBU8xDR2MGCjYiGxYIFC1BUVISuri6UlJTg2rVrWLduHQCgtbUVVqsVBoMBqampyn16enrg6empfH/48GHk5eXhxo0buHfvHnp6euDh4TGkdRgMBsTExODGjRsIDg7Gvn378PrrryMkJAQAUF1djaysLNTU1KCtrQ19fX0AgMbGRoSFhQ0592CyJScn4+2330ZISAhiY2OxZMkSxMTEDHkuIho7uIeNiIaFq6srgoODMX36dOTn56O7uxtffvklAChFUXFxMWpqapRbbW0tKioqAAAVFRVITExEXFwcTp48ierqamzevBk2m21I64iOjkZAQADMZjM6Ojpw9OhR5bBBZ2cnYmJi4ObmhtLSUvz22284duwYADxyHicnJ4iIXds/99UNJltkZCRu3ryJ7Oxs/PXXX1ixYgXi4+OHlIuIxhZeYSOiEZGZmYm4uDikpaXB19cXkyZNQl1dHZKSkgYcf/HiRQQEBGDz5s1KW0NDw5Dn1Wg0SElJQUlJCfz8/ODk5IQVK1YAAK5evYo///wTOTk5mDx5MgCgqqrqsY/n7e2NP/74AyICjUYDAKipqVH6J06c+MRsAODh4YGEhAQkJCQgPj4esbGxaGtrg5eX15AzEpH6sWAjohHx5ptv4tVXX8X27dtRUFCArKwsrF+/Hh4eHoiLi0N3dzeqqqrQ3t6OjRs3Ijg4GI2NjThw4ABmz56NU6dOKVe/hiolJQVbt27F559/jsTERLi6ugIA/P39MX78eOzcuRMfffQRamtrkZ2d/cQcra2t+PrrrxEfH48zZ87gp59+svuo9knZvv/+e+j1ekRERMDJyQllZWXQ6XR46aWXniofEakfPxIlohGzceNGFBcXw2q1YvXq1SgpKYHZbMZrr72G+fPnw2w2Y8qUKQCAd955Bxs2bIDRaERERAR++eUXbNmy5anm9ff3R3R0NNrb2+0OGXh7e8NsNqOsrAxhYWHIycnBN99889jHCg0NRWFhIXbt2oUZM2agsrISH3/8sd2YJ2Vzc3NDbm4uoqKiMHv2bNTX1+P06dNwcuJLMhENTCP/3oxBRERERA6Fb+eIiIiIHBwLNiIiIiIHx4KNiIiIyMGxYCMiIiJycCzYiIiIiBwcCzYiIiIiB8eCjYiIiMjBsWAjIiIicnAs2IiIiIgcHAs2IiIiIgfHgo2IiIjIwbFgIyIiInJw/wODlmQYMiOP2gAAAABJRU5ErkJggg==",
      "text/plain": [
       "<Figure size 640x480 with 1 Axes>"
      ]
     },
     "metadata": {},
     "output_type": "display_data"
    },
    {
     "name": "stdout",
     "output_type": "stream",
     "text": [
      "                                                index  p_value  Coefficient  \\\n",
      "0                                cur_ff_angle_at_ref  0.00000     27.94100   \n",
      "1                                               const  0.00000      5.77539   \n",
      "2   cur_ff_distance_at_ref cur_ff_angle_diff_bou...  0.00255      5.19557   \n",
      "3   cur_ff_angle_diff_boundary_at_ref cur_ff_ear...  0.01635     -4.75533   \n",
      "4              cur_ff_cluster_100_combd_min_ff_angle  0.00058      3.24153   \n",
      "5        cur_ff_cluster_100_RIGHTMOST_flash_duration  0.00371     -2.72754   \n",
      "6    flash_cluster_1_5_to_2_0_LEFTMOST_flash_duration  0.03987     -1.68323   \n",
      "7   cur_ff_distance_at_ref cur_ff_earliest_flash...  0.00164     -1.60350   \n",
      "8   start_ang_cluster_20_LEFTMOST_earliest_flash_r...  0.01884      0.96878   \n",
      "9   flash_cluster_1_5_to_2_0_LATEST_FLASH_angle_di...  0.02486      0.54863   \n",
      "10  cur_ff_ang_cluster_20_LATEST_FLASH_angle_diff...  0.02486      0.54863   \n",
      "\n",
      "    Std Err        t  abs_coeff  rank_by_abs_coeff  \n",
      "0   2.95038  9.47029   27.94100                  1  \n",
      "1   0.37836 15.26425    5.77539                  2  \n",
      "2   1.71569  3.02827    5.19557                  3  \n",
      "3   1.97593 -2.40663    4.75533                  4  \n",
      "4   0.93777  3.45664    3.24153                  5  \n",
      "5   0.93694 -2.91112    2.72754                  6  \n",
      "6   0.81757 -2.05881    1.68323                  7  \n",
      "7   0.50740 -3.16023    1.60350                  8  \n",
      "8   0.41154  2.35402    0.96878                  9  \n",
      "9   0.24403  2.24819    0.54863                 10  \n",
      "10  0.24403  2.24819    0.54863                 11  \n",
      "y_var_column: stop_opt_arc_d_heading\n",
      "Added interaction terms.\n",
      "Number of rows with NaN values in y_var_df (after cleaning x_var_df and the corresponding rows in y_var_df): 11 out of 1015 rows. The rows with NaN values will be dropped.\n",
      "num_features_before_lasso: 299\n",
      "num_features_after_lasso: 74\n",
      "Number of outliers dropped before train_test_split: 0 out of 1004 samples.\n",
      "R-squared:  0.9495\n",
      "Adjusted R-squared:  0.9445\n",
      "R-squared on test set: 0.9505\n"
     ]
    },
    {
     "data": {
      "image/png": "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",
      "text/plain": [
       "<Figure size 640x480 with 1 Axes>"
      ]
     },
     "metadata": {},
     "output_type": "display_data"
    },
    {
     "name": "stdout",
     "output_type": "stream",
     "text": [
      "                                                index  p_value  Coefficient  \\\n",
      "0                                cur_ff_angle_at_ref  0.00000     20.11298   \n",
      "1        cur_ff_distance_at_ref cur_ff_angle_at_ref  0.00000      9.87562   \n",
      "2   cur_ff_angle_diff_boundary_at_ref cur_ff_ear...  0.00000     -5.56402   \n",
      "3   start_ang_cluster_20_LEFTMOST_angle_diff_boundary  0.00220     -4.14223   \n",
      "4                                               const  0.00000      3.94668   \n",
      "5   start_ang_cluster_20_combd_max_angle_diff_boun...  0.01610      3.38041   \n",
      "6   cur_ff_angle_at_ref cur_ff_earliest_flash_re...  0.00176      2.43883   \n",
      "7   cur_ff_angle_at_ref cur_ff_flash_duration_at...  0.04273      2.21900   \n",
      "8                              cur_ff_angle_at_ref^2  0.00001     -1.41448   \n",
      "9     cur_ff_ang_cluster_20_RIGHTMOST_flash_duration  0.01626     -0.99058   \n",
      "10             start_ang_cluster_20_num_ff_in_cluster  0.04347     -0.66990   \n",
      "\n",
      "    Std Err        t  abs_coeff  rank_by_abs_coeff  \n",
      "0   1.77072 11.35865   20.11298                  1  \n",
      "1   1.04220  9.47577    9.87562                  2  \n",
      "2   1.06616 -5.21876    5.56402                  3  \n",
      "3   1.34827 -3.07226    4.14223                  4  \n",
      "4   0.25965 15.20025    3.94668                  5  \n",
      "5   1.40128  2.41236    3.38041                  6  \n",
      "6   0.77671  3.13994    2.43883                  7  \n",
      "7   1.09319  2.02985    2.21900                  8  \n",
      "8   0.30765 -4.59765    1.41448                  9  \n",
      "9   0.41125 -2.40870    0.99058                 10  \n",
      "10  0.33119 -2.02267    0.66990                 11  \n",
      "y_var_column: diff_in_d_heading_to_cur_ff\n",
      "Added interaction terms.\n",
      "Number of rows with NaN values in y_var_df (after cleaning x_var_df and the corresponding rows in y_var_df): 11 out of 1015 rows. The rows with NaN values will be dropped.\n",
      "num_features_before_lasso: 299\n",
      "num_features_after_lasso: 13\n",
      "Number of outliers dropped before train_test_split: 5 out of 1004 samples.\n",
      "R-squared:  0.114\n",
      "Adjusted R-squared:  0.0993\n",
      "R-squared on test set: 0.0954\n"
     ]
    },
    {
     "data": {
      "image/png": "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",
      "text/plain": [
       "<Figure size 640x480 with 1 Axes>"
      ]
     },
     "metadata": {},
     "output_type": "display_data"
    },
    {
     "name": "stdout",
     "output_type": "stream",
     "text": [
      "                                               index  p_value  Coefficient  \\\n",
      "0       cur_ff_distance_at_ref cur_ff_angle_at_ref  0.00000     -3.19907   \n",
      "1                                              const  0.00001      2.05918   \n",
      "2  start_ang_cluster_20_LEFTMOST_earliest_flash_r...  0.01901      1.08205   \n",
      "\n",
      "   Std Err        t  abs_coeff  rank_by_abs_coeff  \n",
      "0  0.47046 -6.79994    3.19907                  1  \n",
      "1  0.45406  4.53508    2.05918                  2  \n",
      "2  0.46040  2.35024    1.08205                  3  \n",
      "y_var_column: dir_from_cur_ff_to_stop\n",
      "Added interaction terms.\n",
      "num_features_before_lasso: 299\n",
      "num_features_after_lasso: 52\n",
      "Number of outliers dropped before train_test_split: 0 out of 1015 samples.\n",
      "R-squared:  0.2936\n",
      "Adjusted R-squared:  0.2452\n",
      "R-squared on test set: 0.2631\n"
     ]
    },
    {
     "data": {
      "image/png": "[encoded data removed]",
      "text/plain": [
       "<Figure size 640x480 with 1 Axes>"
      ]
     },
     "metadata": {},
     "output_type": "display_data"
    },
    {
     "name": "stdout",
     "output_type": "stream",
     "text": [
      "                                                index  p_value  Coefficient  \\\n",
      "0                                               const  0.00000      0.52495   \n",
      "1                                cur_ff_angle_at_ref  0.02289     -0.17764   \n",
      "2        cur_ff_distance_at_ref cur_ff_angle_at_ref  0.00352      0.15798   \n",
      "3                  cur_ff_angle_diff_boundary_at_ref  0.00252     -0.11044   \n",
      "4      flash_cluster_1_5_to_2_0_combd_median_ff_angle  0.01430     -0.08730   \n",
      "5   cur_ff_angle_at_ref cur_ff_earliest_flash_re...  0.01680     -0.07862   \n",
      "6   start_ang_cluster_20_LEFTMOST_latest_flash_rel...  0.00320      0.04722   \n",
      "7         cur_ff_cluster_300_EARLIEST_FLASH_ff_angle  0.00821      0.04528   \n",
      "8            cur_ff_cluster_300_LEFTMOST_ff_distance  0.01633      0.04329   \n",
      "9   flash_cluster_1_0_to_1_5_LEFTMOST_earliest_fla...  0.01739     -0.03984   \n",
      "10  cur_ff_cluster_200_LEFTMOST_earliest_flash_re...  0.02357      0.03832   \n",
      "11  flash_cluster_1_5_to_2_0_combd_earliest_flash_...  0.01377      0.03499   \n",
      "12                             cur_ff_angle_at_ref^2  0.04744     -0.03243   \n",
      "13  flash_cluster_1_0_to_1_5_LATEST_FLASH_earliest...  0.04286      0.03206   \n",
      "\n",
      "    Std Err        t  abs_coeff  rank_by_abs_coeff  \n",
      "0   0.01531 34.29921    0.52495                  1  \n",
      "1   0.07792 -2.27983    0.17764                  2  \n",
      "2   0.05397  2.92720    0.15798                  3  \n",
      "3   0.03643 -3.03160    0.11044                  4  \n",
      "4   0.03556 -2.45540    0.08730                  5  \n",
      "5   0.03281 -2.39642    0.07862                  6  \n",
      "6   0.01597  2.95764    0.04722                  7  \n",
      "7   0.01709  2.65020    0.04528                  8  \n",
      "8   0.01799  2.40675    0.04329                  9  \n",
      "9   0.01671 -2.38358    0.03984                 10  \n",
      "10  0.01689  2.26866    0.03832                 11  \n",
      "11  0.01417  2.46898    0.03499                 12  \n",
      "12  0.01633 -1.98559    0.03243                 13  \n",
      "13  0.01581  2.02849    0.03206                 14  \n"
     ]
    }
   ],
   "source": [
    "ml_inst = ml_methods_class.MlMethods()\n",
    "\n",
    "for y_var_column in ['curv_of_traj_before_stop',\n",
    "                    'd_heading_of_traj',\n",
    "                    'cur_opt_arc_d_heading',\n",
    "                    'diff_in_d_heading_to_cur_ff',\n",
    "                    'dir_from_cur_ff_to_stop' # this one is classification though\n",
    "                    ]:\n",
    "    print('y_var_column:', y_var_column)\n",
    "    osf.streamline_preparing_for_ml(y_var_column,\n",
    "                                     ref_columns_only=False)\n",
    "    ml_inst.use_train_test_split(osf.x_var_df, osf.y_var_df, y_var_column=y_var_column)\n",
    "    ml_inst.use_linear_regression(show_plot=True)\n",
    "    # show important features\n",
    "    print(ml_inst.summary_df)\n",
    "\n",
    "    "
   ]
  },
  {
   "cell_type": "markdown",
   "metadata": {},
   "source": [
    "## vif"
   ]
  },
  {
   "cell_type": "code",
   "execution_count": null,
   "metadata": {},
   "outputs": [],
   "source": [
    "pd.set_option('display.max_columns', 100)"
   ]
  },
  {
   "cell_type": "code",
   "execution_count": null,
   "metadata": {},
   "outputs": [],
   "source": [
    "osf.x_var_df, osf.y_var_df"
   ]
  },
  {
   "cell_type": "code",
   "execution_count": 29,
   "metadata": {},
   "outputs": [],
   "source": [
    "ml_inst.x_var_df = osf.x_var_df\n",
    "ml_inst.y_var_df = osf.y_var_df"
   ]
  },
  {
   "cell_type": "code",
   "execution_count": 30,
   "metadata": {},
   "outputs": [
    {
     "ename": "KeyboardInterrupt",
     "evalue": "",
     "output_type": "error",
     "traceback": [
      "\u001b[0;31m---------------------------------------------------------------------------\u001b[0m",
      "\u001b[0;31mKeyboardInterrupt\u001b[0m                         Traceback (most recent call last)",
      "Cell \u001b[0;32mIn[30], line 2\u001b[0m\n\u001b[1;32m      1\u001b[0m pd\u001b[38;5;241m.\u001b[39mset_option(\u001b[38;5;124m'\u001b[39m\u001b[38;5;124mdisplay.max_rows\u001b[39m\u001b[38;5;124m'\u001b[39m, \u001b[38;5;241m100\u001b[39m)\n\u001b[0;32m----> 2\u001b[0m \u001b[43mml_inst\u001b[49m\u001b[38;5;241;43m.\u001b[39;49m\u001b[43muse_vif\u001b[49m\u001b[43m(\u001b[49m\u001b[43m)\u001b[49m\n",
      "File \u001b[0;32m~/Documents/Multifirefly-Project/multiff_analysis/multiff_code/methods/planning_analysis/ml_methods_class.py:127\u001b[0m, in \u001b[0;36mMlMethods.use_vif\u001b[0;34m(self)\u001b[0m\n\u001b[1;32m    125\u001b[0m \u001b[38;5;28mself\u001b[39m\u001b[38;5;241m.\u001b[39mvif \u001b[38;5;241m=\u001b[39m pd\u001b[38;5;241m.\u001b[39mDataFrame()\n\u001b[1;32m    126\u001b[0m \u001b[38;5;28mself\u001b[39m\u001b[38;5;241m.\u001b[39mvif[\u001b[38;5;124m\"\u001b[39m\u001b[38;5;124mfeatures\u001b[39m\u001b[38;5;124m\"\u001b[39m] \u001b[38;5;241m=\u001b[39m \u001b[38;5;28mself\u001b[39m\u001b[38;5;241m.\u001b[39mx_var_df\u001b[38;5;241m.\u001b[39mcolumns\n\u001b[0;32m--> 127\u001b[0m vif_values \u001b[38;5;241m=\u001b[39m []\n\u001b[1;32m    128\u001b[0m \u001b[38;5;28;01mfor\u001b[39;00m i \u001b[38;5;129;01min\u001b[39;00m \u001b[38;5;28mrange\u001b[39m(\u001b[38;5;28mself\u001b[39m\u001b[38;5;241m.\u001b[39mx_var_df\u001b[38;5;241m.\u001b[39mshape[\u001b[38;5;241m1\u001b[39m]):\n\u001b[1;32m    129\u001b[0m     vif_values\u001b[38;5;241m.\u001b[39mappend(variance_inflation_factor(\u001b[38;5;28mself\u001b[39m\u001b[38;5;241m.\u001b[39mx_var_df\u001b[38;5;241m.\u001b[39mvalues, i))\n",
      "File \u001b[0;32m~/Documents/Multifirefly-Project/multiff_analysis/multiff_code/methods/planning_analysis/ml_methods_class.py:127\u001b[0m, in \u001b[0;36m<listcomp>\u001b[0;34m(.0)\u001b[0m\n\u001b[1;32m    125\u001b[0m \u001b[38;5;28mself\u001b[39m\u001b[38;5;241m.\u001b[39mvif \u001b[38;5;241m=\u001b[39m pd\u001b[38;5;241m.\u001b[39mDataFrame()\n\u001b[1;32m    126\u001b[0m \u001b[38;5;28mself\u001b[39m\u001b[38;5;241m.\u001b[39mvif[\u001b[38;5;124m\"\u001b[39m\u001b[38;5;124mfeatures\u001b[39m\u001b[38;5;124m\"\u001b[39m] \u001b[38;5;241m=\u001b[39m \u001b[38;5;28mself\u001b[39m\u001b[38;5;241m.\u001b[39mx_var_df\u001b[38;5;241m.\u001b[39mcolumns\n\u001b[0;32m--> 127\u001b[0m vif_values \u001b[38;5;241m=\u001b[39m []\n\u001b[1;32m    128\u001b[0m \u001b[38;5;28;01mfor\u001b[39;00m i \u001b[38;5;129;01min\u001b[39;00m \u001b[38;5;28mrange\u001b[39m(\u001b[38;5;28mself\u001b[39m\u001b[38;5;241m.\u001b[39mx_var_df\u001b[38;5;241m.\u001b[39mshape[\u001b[38;5;241m1\u001b[39m]):\n\u001b[1;32m    129\u001b[0m     vif_values\u001b[38;5;241m.\u001b[39mappend(variance_inflation_factor(\u001b[38;5;28mself\u001b[39m\u001b[38;5;241m.\u001b[39mx_var_df\u001b[38;5;241m.\u001b[39mvalues, i))\n",
      "File \u001b[0;32m/opt/anaconda3/envs/ff_venv/lib/python3.9/site-packages/statsmodels/stats/outliers_influence.py:196\u001b[0m, in \u001b[0;36mvariance_inflation_factor\u001b[0;34m(exog, exog_idx)\u001b[0m\n\u001b[1;32m    194\u001b[0m mask \u001b[38;5;241m=\u001b[39m np\u001b[38;5;241m.\u001b[39marange(k_vars) \u001b[38;5;241m!=\u001b[39m exog_idx\n\u001b[1;32m    195\u001b[0m x_noti \u001b[38;5;241m=\u001b[39m exog[:, mask]\n\u001b[0;32m--> 196\u001b[0m r_squared_i \u001b[38;5;241m=\u001b[39m \u001b[43mOLS\u001b[49m\u001b[43m(\u001b[49m\u001b[43mx_i\u001b[49m\u001b[43m,\u001b[49m\u001b[43m \u001b[49m\u001b[43mx_noti\u001b[49m\u001b[43m)\u001b[49m\u001b[38;5;241m.\u001b[39mfit()\u001b[38;5;241m.\u001b[39mrsquared\n\u001b[1;32m    197\u001b[0m vif \u001b[38;5;241m=\u001b[39m \u001b[38;5;241m1.\u001b[39m \u001b[38;5;241m/\u001b[39m (\u001b[38;5;241m1.\u001b[39m \u001b[38;5;241m-\u001b[39m r_squared_i)\n\u001b[1;32m    198\u001b[0m \u001b[38;5;28;01mreturn\u001b[39;00m vif\n",
      "File \u001b[0;32m/opt/anaconda3/envs/ff_venv/lib/python3.9/site-packages/statsmodels/regression/linear_model.py:924\u001b[0m, in \u001b[0;36mOLS.__init__\u001b[0;34m(self, endog, exog, missing, hasconst, **kwargs)\u001b[0m\n\u001b[1;32m    921\u001b[0m     msg \u001b[38;5;241m=\u001b[39m (\u001b[38;5;124m\"\u001b[39m\u001b[38;5;124mWeights are not supported in OLS and will be ignored\u001b[39m\u001b[38;5;124m\"\u001b[39m\n\u001b[1;32m    922\u001b[0m            \u001b[38;5;124m\"\u001b[39m\u001b[38;5;124mAn exception will be raised in the next version.\u001b[39m\u001b[38;5;124m\"\u001b[39m)\n\u001b[1;32m    923\u001b[0m     warnings\u001b[38;5;241m.\u001b[39mwarn(msg, ValueWarning)\n\u001b[0;32m--> 924\u001b[0m \u001b[38;5;28;43msuper\u001b[39;49m\u001b[43m(\u001b[49m\u001b[43m)\u001b[49m\u001b[38;5;241;43m.\u001b[39;49m\u001b[38;5;21;43m__init__\u001b[39;49m\u001b[43m(\u001b[49m\u001b[43mendog\u001b[49m\u001b[43m,\u001b[49m\u001b[43m \u001b[49m\u001b[43mexog\u001b[49m\u001b[43m,\u001b[49m\u001b[43m \u001b[49m\u001b[43mmissing\u001b[49m\u001b[38;5;241;43m=\u001b[39;49m\u001b[43mmissing\u001b[49m\u001b[43m,\u001b[49m\n\u001b[1;32m    925\u001b[0m \u001b[43m                          \u001b[49m\u001b[43mhasconst\u001b[49m\u001b[38;5;241;43m=\u001b[39;49m\u001b[43mhasconst\u001b[49m\u001b[43m,\u001b[49m\u001b[43m \u001b[49m\u001b[38;5;241;43m*\u001b[39;49m\u001b[38;5;241;43m*\u001b[39;49m\u001b[43mkwargs\u001b[49m\u001b[43m)\u001b[49m\n\u001b[1;32m    926\u001b[0m \u001b[38;5;28;01mif\u001b[39;00m \u001b[38;5;124m\"\u001b[39m\u001b[38;5;124mweights\u001b[39m\u001b[38;5;124m\"\u001b[39m \u001b[38;5;129;01min\u001b[39;00m \u001b[38;5;28mself\u001b[39m\u001b[38;5;241m.\u001b[39m_init_keys:\n\u001b[1;32m    927\u001b[0m     \u001b[38;5;28mself\u001b[39m\u001b[38;5;241m.\u001b[39m_init_keys\u001b[38;5;241m.\u001b[39mremove(\u001b[38;5;124m\"\u001b[39m\u001b[38;5;124mweights\u001b[39m\u001b[38;5;124m\"\u001b[39m)\n",
      "File \u001b[0;32m/opt/anaconda3/envs/ff_venv/lib/python3.9/site-packages/statsmodels/regression/linear_model.py:749\u001b[0m, in \u001b[0;36mWLS.__init__\u001b[0;34m(self, endog, exog, weights, missing, hasconst, **kwargs)\u001b[0m\n\u001b[1;32m    747\u001b[0m \u001b[38;5;28;01melse\u001b[39;00m:\n\u001b[1;32m    748\u001b[0m     weights \u001b[38;5;241m=\u001b[39m weights\u001b[38;5;241m.\u001b[39msqueeze()\n\u001b[0;32m--> 749\u001b[0m \u001b[38;5;28;43msuper\u001b[39;49m\u001b[43m(\u001b[49m\u001b[43m)\u001b[49m\u001b[38;5;241;43m.\u001b[39;49m\u001b[38;5;21;43m__init__\u001b[39;49m\u001b[43m(\u001b[49m\u001b[43mendog\u001b[49m\u001b[43m,\u001b[49m\u001b[43m \u001b[49m\u001b[43mexog\u001b[49m\u001b[43m,\u001b[49m\u001b[43m \u001b[49m\u001b[43mmissing\u001b[49m\u001b[38;5;241;43m=\u001b[39;49m\u001b[43mmissing\u001b[49m\u001b[43m,\u001b[49m\n\u001b[1;32m    750\u001b[0m \u001b[43m                          \u001b[49m\u001b[43mweights\u001b[49m\u001b[38;5;241;43m=\u001b[39;49m\u001b[43mweights\u001b[49m\u001b[43m,\u001b[49m\u001b[43m \u001b[49m\u001b[43mhasconst\u001b[49m\u001b[38;5;241;43m=\u001b[39;49m\u001b[43mhasconst\u001b[49m\u001b[43m,\u001b[49m\u001b[43m \u001b[49m\u001b[38;5;241;43m*\u001b[39;49m\u001b[38;5;241;43m*\u001b[39;49m\u001b[43mkwargs\u001b[49m\u001b[43m)\u001b[49m\n\u001b[1;32m    751\u001b[0m nobs \u001b[38;5;241m=\u001b[39m \u001b[38;5;28mself\u001b[39m\u001b[38;5;241m.\u001b[39mexog\u001b[38;5;241m.\u001b[39mshape[\u001b[38;5;241m0\u001b[39m]\n\u001b[1;32m    752\u001b[0m weights \u001b[38;5;241m=\u001b[39m \u001b[38;5;28mself\u001b[39m\u001b[38;5;241m.\u001b[39mweights\n",
      "File \u001b[0;32m/opt/anaconda3/envs/ff_venv/lib/python3.9/site-packages/statsmodels/regression/linear_model.py:203\u001b[0m, in \u001b[0;36mRegressionModel.__init__\u001b[0;34m(self, endog, exog, **kwargs)\u001b[0m\n\u001b[1;32m    202\u001b[0m \u001b[38;5;28;01mdef\u001b[39;00m \u001b[38;5;21m__init__\u001b[39m(\u001b[38;5;28mself\u001b[39m, endog, exog, \u001b[38;5;241m*\u001b[39m\u001b[38;5;241m*\u001b[39mkwargs):\n\u001b[0;32m--> 203\u001b[0m     \u001b[38;5;28;43msuper\u001b[39;49m\u001b[43m(\u001b[49m\u001b[43m)\u001b[49m\u001b[38;5;241;43m.\u001b[39;49m\u001b[38;5;21;43m__init__\u001b[39;49m\u001b[43m(\u001b[49m\u001b[43mendog\u001b[49m\u001b[43m,\u001b[49m\u001b[43m \u001b[49m\u001b[43mexog\u001b[49m\u001b[43m,\u001b[49m\u001b[43m \u001b[49m\u001b[38;5;241;43m*\u001b[39;49m\u001b[38;5;241;43m*\u001b[39;49m\u001b[43mkwargs\u001b[49m\u001b[43m)\u001b[49m\n\u001b[1;32m    204\u001b[0m     \u001b[38;5;28mself\u001b[39m\u001b[38;5;241m.\u001b[39mpinv_wexog: Float64Array \u001b[38;5;241m|\u001b[39m \u001b[38;5;28;01mNone\u001b[39;00m \u001b[38;5;241m=\u001b[39m \u001b[38;5;28;01mNone\u001b[39;00m\n\u001b[1;32m    205\u001b[0m     \u001b[38;5;28mself\u001b[39m\u001b[38;5;241m.\u001b[39m_data_attr\u001b[38;5;241m.\u001b[39mextend([\u001b[38;5;124m'\u001b[39m\u001b[38;5;124mpinv_wexog\u001b[39m\u001b[38;5;124m'\u001b[39m, \u001b[38;5;124m'\u001b[39m\u001b[38;5;124mwendog\u001b[39m\u001b[38;5;124m'\u001b[39m, \u001b[38;5;124m'\u001b[39m\u001b[38;5;124mwexog\u001b[39m\u001b[38;5;124m'\u001b[39m, \u001b[38;5;124m'\u001b[39m\u001b[38;5;124mweights\u001b[39m\u001b[38;5;124m'\u001b[39m])\n",
      "File \u001b[0;32m/opt/anaconda3/envs/ff_venv/lib/python3.9/site-packages/statsmodels/base/model.py:270\u001b[0m, in \u001b[0;36mLikelihoodModel.__init__\u001b[0;34m(self, endog, exog, **kwargs)\u001b[0m\n\u001b[1;32m    269\u001b[0m \u001b[38;5;28;01mdef\u001b[39;00m \u001b[38;5;21m__init__\u001b[39m(\u001b[38;5;28mself\u001b[39m, endog, exog\u001b[38;5;241m=\u001b[39m\u001b[38;5;28;01mNone\u001b[39;00m, \u001b[38;5;241m*\u001b[39m\u001b[38;5;241m*\u001b[39mkwargs):\n\u001b[0;32m--> 270\u001b[0m     \u001b[38;5;28;43msuper\u001b[39;49m\u001b[43m(\u001b[49m\u001b[43m)\u001b[49m\u001b[38;5;241;43m.\u001b[39;49m\u001b[38;5;21;43m__init__\u001b[39;49m\u001b[43m(\u001b[49m\u001b[43mendog\u001b[49m\u001b[43m,\u001b[49m\u001b[43m \u001b[49m\u001b[43mexog\u001b[49m\u001b[43m,\u001b[49m\u001b[43m \u001b[49m\u001b[38;5;241;43m*\u001b[39;49m\u001b[38;5;241;43m*\u001b[39;49m\u001b[43mkwargs\u001b[49m\u001b[43m)\u001b[49m\n\u001b[1;32m    271\u001b[0m     \u001b[38;5;28mself\u001b[39m\u001b[38;5;241m.\u001b[39minitialize()\n",
      "File \u001b[0;32m/opt/anaconda3/envs/ff_venv/lib/python3.9/site-packages/statsmodels/base/model.py:95\u001b[0m, in \u001b[0;36mModel.__init__\u001b[0;34m(self, endog, exog, **kwargs)\u001b[0m\n\u001b[1;32m     93\u001b[0m missing \u001b[38;5;241m=\u001b[39m kwargs\u001b[38;5;241m.\u001b[39mpop(\u001b[38;5;124m'\u001b[39m\u001b[38;5;124mmissing\u001b[39m\u001b[38;5;124m'\u001b[39m, \u001b[38;5;124m'\u001b[39m\u001b[38;5;124mnone\u001b[39m\u001b[38;5;124m'\u001b[39m)\n\u001b[1;32m     94\u001b[0m hasconst \u001b[38;5;241m=\u001b[39m kwargs\u001b[38;5;241m.\u001b[39mpop(\u001b[38;5;124m'\u001b[39m\u001b[38;5;124mhasconst\u001b[39m\u001b[38;5;124m'\u001b[39m, \u001b[38;5;28;01mNone\u001b[39;00m)\n\u001b[0;32m---> 95\u001b[0m \u001b[38;5;28mself\u001b[39m\u001b[38;5;241m.\u001b[39mdata \u001b[38;5;241m=\u001b[39m \u001b[38;5;28;43mself\u001b[39;49m\u001b[38;5;241;43m.\u001b[39;49m\u001b[43m_handle_data\u001b[49m\u001b[43m(\u001b[49m\u001b[43mendog\u001b[49m\u001b[43m,\u001b[49m\u001b[43m \u001b[49m\u001b[43mexog\u001b[49m\u001b[43m,\u001b[49m\u001b[43m \u001b[49m\u001b[43mmissing\u001b[49m\u001b[43m,\u001b[49m\u001b[43m \u001b[49m\u001b[43mhasconst\u001b[49m\u001b[43m,\u001b[49m\n\u001b[1;32m     96\u001b[0m \u001b[43m                              \u001b[49m\u001b[38;5;241;43m*\u001b[39;49m\u001b[38;5;241;43m*\u001b[39;49m\u001b[43mkwargs\u001b[49m\u001b[43m)\u001b[49m\n\u001b[1;32m     97\u001b[0m \u001b[38;5;28mself\u001b[39m\u001b[38;5;241m.\u001b[39mk_constant \u001b[38;5;241m=\u001b[39m \u001b[38;5;28mself\u001b[39m\u001b[38;5;241m.\u001b[39mdata\u001b[38;5;241m.\u001b[39mk_constant\n\u001b[1;32m     98\u001b[0m \u001b[38;5;28mself\u001b[39m\u001b[38;5;241m.\u001b[39mexog \u001b[38;5;241m=\u001b[39m \u001b[38;5;28mself\u001b[39m\u001b[38;5;241m.\u001b[39mdata\u001b[38;5;241m.\u001b[39mexog\n",
      "File \u001b[0;32m/opt/anaconda3/envs/ff_venv/lib/python3.9/site-packages/statsmodels/base/model.py:135\u001b[0m, in \u001b[0;36mModel._handle_data\u001b[0;34m(self, endog, exog, missing, hasconst, **kwargs)\u001b[0m\n\u001b[1;32m    134\u001b[0m \u001b[38;5;28;01mdef\u001b[39;00m \u001b[38;5;21m_handle_data\u001b[39m(\u001b[38;5;28mself\u001b[39m, endog, exog, missing, hasconst, \u001b[38;5;241m*\u001b[39m\u001b[38;5;241m*\u001b[39mkwargs):\n\u001b[0;32m--> 135\u001b[0m     data \u001b[38;5;241m=\u001b[39m \u001b[43mhandle_data\u001b[49m\u001b[43m(\u001b[49m\u001b[43mendog\u001b[49m\u001b[43m,\u001b[49m\u001b[43m \u001b[49m\u001b[43mexog\u001b[49m\u001b[43m,\u001b[49m\u001b[43m \u001b[49m\u001b[43mmissing\u001b[49m\u001b[43m,\u001b[49m\u001b[43m \u001b[49m\u001b[43mhasconst\u001b[49m\u001b[43m,\u001b[49m\u001b[43m \u001b[49m\u001b[38;5;241;43m*\u001b[39;49m\u001b[38;5;241;43m*\u001b[39;49m\u001b[43mkwargs\u001b[49m\u001b[43m)\u001b[49m\n\u001b[1;32m    136\u001b[0m     \u001b[38;5;66;03m# kwargs arrays could have changed, easier to just attach here\u001b[39;00m\n\u001b[1;32m    137\u001b[0m     \u001b[38;5;28;01mfor\u001b[39;00m key \u001b[38;5;129;01min\u001b[39;00m kwargs:\n",
      "File \u001b[0;32m/opt/anaconda3/envs/ff_venv/lib/python3.9/site-packages/statsmodels/base/data.py:675\u001b[0m, in \u001b[0;36mhandle_data\u001b[0;34m(endog, exog, missing, hasconst, **kwargs)\u001b[0m\n\u001b[1;32m    672\u001b[0m     exog \u001b[38;5;241m=\u001b[39m np\u001b[38;5;241m.\u001b[39masarray(exog)\n\u001b[1;32m    674\u001b[0m klass \u001b[38;5;241m=\u001b[39m handle_data_class_factory(endog, exog)\n\u001b[0;32m--> 675\u001b[0m \u001b[38;5;28;01mreturn\u001b[39;00m \u001b[43mklass\u001b[49m\u001b[43m(\u001b[49m\u001b[43mendog\u001b[49m\u001b[43m,\u001b[49m\u001b[43m \u001b[49m\u001b[43mexog\u001b[49m\u001b[38;5;241;43m=\u001b[39;49m\u001b[43mexog\u001b[49m\u001b[43m,\u001b[49m\u001b[43m \u001b[49m\u001b[43mmissing\u001b[49m\u001b[38;5;241;43m=\u001b[39;49m\u001b[43mmissing\u001b[49m\u001b[43m,\u001b[49m\u001b[43m \u001b[49m\u001b[43mhasconst\u001b[49m\u001b[38;5;241;43m=\u001b[39;49m\u001b[43mhasconst\u001b[49m\u001b[43m,\u001b[49m\n\u001b[1;32m    676\u001b[0m \u001b[43m             \u001b[49m\u001b[38;5;241;43m*\u001b[39;49m\u001b[38;5;241;43m*\u001b[39;49m\u001b[43mkwargs\u001b[49m\u001b[43m)\u001b[49m\n",
      "File \u001b[0;32m/opt/anaconda3/envs/ff_venv/lib/python3.9/site-packages/statsmodels/base/data.py:88\u001b[0m, in \u001b[0;36mModelData.__init__\u001b[0;34m(self, endog, exog, missing, hasconst, **kwargs)\u001b[0m\n\u001b[1;32m     86\u001b[0m \u001b[38;5;28mself\u001b[39m\u001b[38;5;241m.\u001b[39mconst_idx \u001b[38;5;241m=\u001b[39m \u001b[38;5;28;01mNone\u001b[39;00m\n\u001b[1;32m     87\u001b[0m \u001b[38;5;28mself\u001b[39m\u001b[38;5;241m.\u001b[39mk_constant \u001b[38;5;241m=\u001b[39m \u001b[38;5;241m0\u001b[39m\n\u001b[0;32m---> 88\u001b[0m \u001b[38;5;28;43mself\u001b[39;49m\u001b[38;5;241;43m.\u001b[39;49m\u001b[43m_handle_constant\u001b[49m\u001b[43m(\u001b[49m\u001b[43mhasconst\u001b[49m\u001b[43m)\u001b[49m\n\u001b[1;32m     89\u001b[0m \u001b[38;5;28mself\u001b[39m\u001b[38;5;241m.\u001b[39m_check_integrity()\n\u001b[1;32m     90\u001b[0m \u001b[38;5;28mself\u001b[39m\u001b[38;5;241m.\u001b[39m_cache \u001b[38;5;241m=\u001b[39m {}\n",
      "File \u001b[0;32m/opt/anaconda3/envs/ff_venv/lib/python3.9/site-packages/statsmodels/base/data.py:178\u001b[0m, in \u001b[0;36mModelData._handle_constant\u001b[0;34m(self, hasconst)\u001b[0m\n\u001b[1;32m    175\u001b[0m augmented_exog \u001b[38;5;241m=\u001b[39m np\u001b[38;5;241m.\u001b[39mcolumn_stack(\n\u001b[1;32m    176\u001b[0m             (np\u001b[38;5;241m.\u001b[39mones(\u001b[38;5;28mself\u001b[39m\u001b[38;5;241m.\u001b[39mexog\u001b[38;5;241m.\u001b[39mshape[\u001b[38;5;241m0\u001b[39m]), \u001b[38;5;28mself\u001b[39m\u001b[38;5;241m.\u001b[39mexog))\n\u001b[1;32m    177\u001b[0m rank_augm \u001b[38;5;241m=\u001b[39m np\u001b[38;5;241m.\u001b[39mlinalg\u001b[38;5;241m.\u001b[39mmatrix_rank(augmented_exog)\n\u001b[0;32m--> 178\u001b[0m rank_orig \u001b[38;5;241m=\u001b[39m \u001b[43mnp\u001b[49m\u001b[38;5;241;43m.\u001b[39;49m\u001b[43mlinalg\u001b[49m\u001b[38;5;241;43m.\u001b[39;49m\u001b[43mmatrix_rank\u001b[49m\u001b[43m(\u001b[49m\u001b[38;5;28;43mself\u001b[39;49m\u001b[38;5;241;43m.\u001b[39;49m\u001b[43mexog\u001b[49m\u001b[43m)\u001b[49m\n\u001b[1;32m    179\u001b[0m \u001b[38;5;28mself\u001b[39m\u001b[38;5;241m.\u001b[39mk_constant \u001b[38;5;241m=\u001b[39m \u001b[38;5;28mint\u001b[39m(rank_orig \u001b[38;5;241m==\u001b[39m rank_augm)\n\u001b[1;32m    180\u001b[0m \u001b[38;5;28mself\u001b[39m\u001b[38;5;241m.\u001b[39mconst_idx \u001b[38;5;241m=\u001b[39m \u001b[38;5;28;01mNone\u001b[39;00m\n",
      "File \u001b[0;32m/opt/anaconda3/envs/ff_venv/lib/python3.9/site-packages/numpy/linalg/linalg.py:1922\u001b[0m, in \u001b[0;36mmatrix_rank\u001b[0;34m(A, tol, hermitian)\u001b[0m\n\u001b[1;32m   1920\u001b[0m \u001b[38;5;28;01mif\u001b[39;00m A\u001b[38;5;241m.\u001b[39mndim \u001b[38;5;241m<\u001b[39m \u001b[38;5;241m2\u001b[39m:\n\u001b[1;32m   1921\u001b[0m     \u001b[38;5;28;01mreturn\u001b[39;00m \u001b[38;5;28mint\u001b[39m(\u001b[38;5;129;01mnot\u001b[39;00m \u001b[38;5;28mall\u001b[39m(A\u001b[38;5;241m==\u001b[39m\u001b[38;5;241m0\u001b[39m))\n\u001b[0;32m-> 1922\u001b[0m S \u001b[38;5;241m=\u001b[39m \u001b[43msvd\u001b[49m\u001b[43m(\u001b[49m\u001b[43mA\u001b[49m\u001b[43m,\u001b[49m\u001b[43m \u001b[49m\u001b[43mcompute_uv\u001b[49m\u001b[38;5;241;43m=\u001b[39;49m\u001b[38;5;28;43;01mFalse\u001b[39;49;00m\u001b[43m,\u001b[49m\u001b[43m \u001b[49m\u001b[43mhermitian\u001b[49m\u001b[38;5;241;43m=\u001b[39;49m\u001b[43mhermitian\u001b[49m\u001b[43m)\u001b[49m\n\u001b[1;32m   1923\u001b[0m \u001b[38;5;28;01mif\u001b[39;00m tol \u001b[38;5;129;01mis\u001b[39;00m \u001b[38;5;28;01mNone\u001b[39;00m:\n\u001b[1;32m   1924\u001b[0m     tol \u001b[38;5;241m=\u001b[39m S\u001b[38;5;241m.\u001b[39mmax(axis\u001b[38;5;241m=\u001b[39m\u001b[38;5;241m-\u001b[39m\u001b[38;5;241m1\u001b[39m, keepdims\u001b[38;5;241m=\u001b[39m\u001b[38;5;28;01mTrue\u001b[39;00m) \u001b[38;5;241m*\u001b[39m \u001b[38;5;28mmax\u001b[39m(A\u001b[38;5;241m.\u001b[39mshape[\u001b[38;5;241m-\u001b[39m\u001b[38;5;241m2\u001b[39m:]) \u001b[38;5;241m*\u001b[39m finfo(S\u001b[38;5;241m.\u001b[39mdtype)\u001b[38;5;241m.\u001b[39meps\n",
      "File \u001b[0;32m/opt/anaconda3/envs/ff_venv/lib/python3.9/site-packages/numpy/linalg/linalg.py:1693\u001b[0m, in \u001b[0;36msvd\u001b[0;34m(a, full_matrices, compute_uv, hermitian)\u001b[0m\n\u001b[1;32m   1690\u001b[0m     gufunc \u001b[38;5;241m=\u001b[39m _umath_linalg\u001b[38;5;241m.\u001b[39msvd_n\n\u001b[1;32m   1692\u001b[0m signature \u001b[38;5;241m=\u001b[39m \u001b[38;5;124m'\u001b[39m\u001b[38;5;124mD->d\u001b[39m\u001b[38;5;124m'\u001b[39m \u001b[38;5;28;01mif\u001b[39;00m isComplexType(t) \u001b[38;5;28;01melse\u001b[39;00m \u001b[38;5;124m'\u001b[39m\u001b[38;5;124md->d\u001b[39m\u001b[38;5;124m'\u001b[39m\n\u001b[0;32m-> 1693\u001b[0m s \u001b[38;5;241m=\u001b[39m \u001b[43mgufunc\u001b[49m\u001b[43m(\u001b[49m\u001b[43ma\u001b[49m\u001b[43m,\u001b[49m\u001b[43m \u001b[49m\u001b[43msignature\u001b[49m\u001b[38;5;241;43m=\u001b[39;49m\u001b[43msignature\u001b[49m\u001b[43m,\u001b[49m\u001b[43m \u001b[49m\u001b[43mextobj\u001b[49m\u001b[38;5;241;43m=\u001b[39;49m\u001b[43mextobj\u001b[49m\u001b[43m)\u001b[49m\n\u001b[1;32m   1694\u001b[0m s \u001b[38;5;241m=\u001b[39m s\u001b[38;5;241m.\u001b[39mastype(_realType(result_t), copy\u001b[38;5;241m=\u001b[39m\u001b[38;5;28;01mFalse\u001b[39;00m)\n\u001b[1;32m   1695\u001b[0m \u001b[38;5;28;01mreturn\u001b[39;00m s\n",
      "\u001b[0;31mKeyboardInterrupt\u001b[0m: "
     ]
    }
   ],
   "source": [
    "pd.set_option('display.max_rows', 100)\n",
    "ml_inst.use_vif(ml_inst.x_var_df)"
   ]
  },
  {
   "cell_type": "code",
   "execution_count": null,
   "metadata": {},
   "outputs": [],
   "source": [
    "osf.vif_df.head(30)"
   ]
  },
  {
   "cell_type": "markdown",
   "metadata": {},
   "source": [
    "## Classification"
   ]
  },
  {
   "cell_type": "code",
   "execution_count": null,
   "metadata": {},
   "outputs": [],
   "source": [
    "y_var_column = 'dir_from_cur_ff_to_stop'"
   ]
  },
  {
   "cell_type": "code",
   "execution_count": null,
   "metadata": {},
   "outputs": [
    {
     "name": "stdout",
     "output_type": "stream",
     "text": [
      "Added interaction terms.\n",
      "num_features_before_lasso: 420\n",
      "num_features_after_lasso: 420\n"
     ]
    }
   ],
   "source": [
    "osf.streamline_preparing_for_ml(y_var_column, \n",
    "                                ref_columns_only=False,\n",
    "                                cluster_to_keep='all',\n",
    "                                cluster_for_interaction='none',\n",
    "                                add_ref_interaction=True,\n",
    "                                winsorize_angle_features=True,\n",
    "                                using_lasso=False, \n",
    "                                ensure_cur_ff_at_front=True,\n",
    "                                use_pca=False,\n",
    "                                use_combd_features_for_cluster_only=False,\n",
    "                                )"
   ]
  },
  {
   "cell_type": "code",
   "execution_count": null,
   "metadata": {},
   "outputs": [],
   "source": [
    "ml_inst = ml_methods_class.MlMethods()\n",
    "#ml_inst.use_train_test_split(osf.x_var_df, osf.y_var_df, y_var_column=y_var_column)\n",
    "ml_inst.use_logistic_regression(osf.x_var_df, osf.y_var_df)\n",
    "\n",
    "pd.options.display.max_rows = 101\n",
    "ml_inst.summary_df[:10]"
   ]
  },
  {
   "cell_type": "markdown",
   "metadata": {},
   "source": [
    "## CCA"
   ]
  },
  {
   "cell_type": "code",
   "execution_count": null,
   "metadata": {},
   "outputs": [],
   "source": [
    "y_columns_of_interest = [\n",
    "                        'd_heading_of_traj',\n",
    "                        'diff_in_d_heading_to_cur_ff',\n",
    "                        'curv_of_traj_before_stop',\n",
    "                        'dir_from_cur_ff_to_stop' # this one is classification though\n",
    "                        ]"
   ]
  },
  {
   "cell_type": "code",
   "execution_count": null,
   "metadata": {},
   "outputs": [],
   "source": [
    "\n",
    "ref_columns = [column for column in osf.x_features_df if 'ref' in column]\n",
    "ref_columns"
   ]
  },
  {
   "cell_type": "code",
   "execution_count": null,
   "metadata": {},
   "outputs": [],
   "source": [
    "avg_canon_corrs"
   ]
  },
  {
   "cell_type": "code",
   "execution_count": null,
   "metadata": {},
   "outputs": [],
   "source": [
    "ref_columns_only = False\n",
    "\n",
    "for y_var in y_columns_of_interest:\n",
    "    # Define data\n",
    "    if ref_columns_only:\n",
    "        X1 = osf.x_features_df[ref_columns].copy()\n",
    "    else:\n",
    "        X1 = osf.x_features_df.copy()\n",
    "    #X2 = osf.only_cur_ff_df[[y_var]].copy()\n",
    "    X2 = osf.only_cur_ff_df[y_columns_of_interest].copy()\n",
    "\n",
    "    # Drop unnecessary columns\n",
    "    for column in ['data_name', 'stop_point_index']:\n",
    "        if column in X1.columns:\n",
    "            X1.drop(columns=[column], inplace=True)\n",
    "\n",
    "    print('Y var:', y_var)\n",
    "    avg_x_loadings, avg_y_loadings, avg_canon_corrs = cca_utils.run_cca(X1, X2, n_comp=5, n_splits=5, show_plots=True)\n",
    "\n",
    "\n",
    "    ml_inst.utils.plot_correlation_coefficients(avg_canon_corrs, len(avg_canon_corrs))\n",
    "    cca_plotting.plot_x_loadings(avg_x_loadings, avg_canon_corrs, X1)\n",
    "    cca_plotting.plot_y_loadings(avg_y_loadings, avg_canon_corrs, X2)\n",
    "       \n",
    "    break\n",
    "\n"
   ]
  },
  {
   "cell_type": "code",
   "execution_count": null,
   "metadata": {},
   "outputs": [],
   "source": [
    "cca_plotting.plot_y_loadings(avg_y_loadings, avg_canon_corrs, X2)"
   ]
  },
  {
   "cell_type": "code",
   "execution_count": null,
   "metadata": {},
   "outputs": [],
   "source": [
    "    cca_plotting.plot_correlation_coefficients(avg_canon_corrs)\n",
    "    cca_plotting.plot_x_loadings(avg_x_loadings, avg_canon_corrs, X1)\n",
    "    cca_plotting.plot_y_loadings(avg_y_loadings, avg_canon_corrs, X2)\n",
    "       "
   ]
  },
  {
   "cell_type": "code",
   "execution_count": null,
   "metadata": {},
   "outputs": [],
   "source": [
    "gc.collect()"
   ]
  },
  {
   "cell_type": "markdown",
   "metadata": {},
   "source": [
    "## PCA"
   ]
  },
  {
   "cell_type": "code",
   "execution_count": null,
   "metadata": {},
   "outputs": [],
   "source": [
    "\n",
    "for y_var_column in ['curv_of_traj_before_stop',\n",
    "                    'd_heading_of_traj',\n",
    "                    'cur_opt_arc_d_heading',\n",
    "                    'diff_in_d_heading_to_cur_ff',\n",
    "                    'dir_from_cur_ff_to_stop' # this one is classification though\n",
    "                    ]:\n",
    "    \n",
    "    osf.streamline_preparing_for_ml(y_var_column,\n",
    "                                     ref_columns_only=False, use_pca=True)\n",
    "    ml_inst.use_train_test_split(osf.x_var_df, osf.y_var_df, y_var_column=y_var_column)\n",
    "    ml_inst.use_linear_regression(show_plot=True)\n",
    "    break\n",
    "    "
   ]
  },
  {
   "cell_type": "code",
   "execution_count": null,
   "metadata": {},
   "outputs": [],
   "source": [
    "osf.original_x_df.columns"
   ]
  },
  {
   "cell_type": "code",
   "execution_count": null,
   "metadata": {},
   "outputs": [],
   "source": [
    "# Create a DataFrame of loadings\n",
    "loadings = osf.pca.components_\n",
    "feature_names = osf.original_x_df.columns\n",
    "column_names = [f'x{i}' for i in range(loadings.shape[0])]\n",
    "pca_loadings_df = pd.DataFrame(loadings.T, columns=column_names, index=feature_names)\n",
    "\n",
    "sorted_summary_df = ml_inst.summary_df[ml_inst.summary_df['p_value'] <= 0.05].sort_values(by='Coefficient', ascending=False).copy()\n",
    "for i in range(10):\n",
    "    print('i:', i)\n",
    "    sorted_result_row = sorted_summary_df.iloc[i]\n",
    "    pca_x = sorted_result_row.name\n",
    "    if pca_x == 'const':\n",
    "        continue\n",
    "    #column = pca_loadings_df.columns[i]\n",
    "    print('pca_x:', pca_x)\n",
    "    print('sorted_result_row:', sorted_result_row)\n",
    "    print(pca_loadings_df[pca_x].sort_values(ascending=False).head(50))\n",
    "    #print(df_loadings[column].sort_values(ascending=False).tail(5))\n",
    "sorted_summary_df"
   ]
  },
  {
   "cell_type": "code",
   "execution_count": null,
   "metadata": {},
   "outputs": [],
   "source": [
    "pca_loadings_df"
   ]
  },
  {
   "cell_type": "markdown",
   "metadata": {},
   "source": [
    "## Corr"
   ]
  },
  {
   "cell_type": "code",
   "execution_count": null,
   "metadata": {},
   "outputs": [],
   "source": [
    "corr_coeff = X2.corr()\n",
    "plt.figure(figsize=(15, 15))\n",
    "sns.heatmap(corr_coeff, cmap='coolwarm', annot=True, linewidths=1, vmin=-1)\n",
    "plt.show()\n"
   ]
  },
  {
   "cell_type": "markdown",
   "metadata": {},
   "source": [
    "# ML"
   ]
  },
  {
   "cell_type": "markdown",
   "metadata": {},
   "source": [
    "### other ml models"
   ]
  },
  {
   "cell_type": "code",
   "execution_count": null,
   "metadata": {},
   "outputs": [],
   "source": [
    "gc.collect()"
   ]
  },
  {
   "cell_type": "code",
   "execution_count": null,
   "metadata": {},
   "outputs": [],
   "source": [
    "from sklearn.tree import DecisionTreeRegressor\n",
    "from sklearn.ensemble import RandomForestRegressor, BaggingRegressor, AdaBoostRegressor, GradientBoostingRegressor\n",
    "from sklearn.metrics import r2_score"
   ]
  },
  {
   "cell_type": "code",
   "execution_count": null,
   "metadata": {},
   "outputs": [],
   "source": [
    "y_var_column = 'curv_of_traj_before_stop'\n",
    "#y_var_column = 'diff_in_d_heading_to_cur_ff'\n",
    "ref_point_mode = 'time after cur ff visible'\n",
    "ref_point_value = 0.1\n",
    "\n",
    "osf.streamline_preparing_for_ml(y_var_column,\n",
    "                                ref_columns_only=False)"
   ]
  },
  {
   "cell_type": "code",
   "execution_count": null,
   "metadata": {},
   "outputs": [],
   "source": [
    "ml_inst.use_ml_model_for_regression(osf.x_var_df, osf.y_var_df, y_var_column=y_var_column, model_names=['linreg', 'grad_boosting', 'rf'])\n",
    "ml_inst.model_comparison_df"
   ]
  },
  {
   "cell_type": "code",
   "execution_count": null,
   "metadata": {},
   "outputs": [],
   "source": [
    "stop!"
   ]
  },
  {
   "cell_type": "markdown",
   "metadata": {},
   "source": [
    "## rf feature importance"
   ]
  },
  {
   "cell_type": "code",
   "execution_count": null,
   "metadata": {},
   "outputs": [],
   "source": [
    "from sklearn.ensemble import RandomForestClassifier\n",
    "from sklearn.datasets import make_classification\n",
    "\n",
    "# Example dataset\n",
    "X, y = make_classification(n_samples=1000, n_features=10, n_informative=5, n_redundant=5, random_state=42)\n",
    "\n",
    "# Train a Random Forest Classifier\n",
    "clf = RandomForestClassifier(n_estimators=100, random_state=42)\n",
    "clf.fit(X, y)\n",
    "\n",
    "# Get feature importances\n",
    "feature_importances = clf.feature_importances_\n",
    "\n",
    "# Assuming you have the feature names in a list called feature_names\n",
    "feature_names = [f'Feature {i}' for i in range(X.shape[1])]\n",
    "\n",
    "# Combine feature names and their importances\n",
    "features_and_importances = zip(feature_names, feature_importances)\n",
    "\n",
    "# Sort the features by importance\n",
    "sorted_features_and_importances = sorted(features_and_importances, key=lambda x: x[1], reverse=True)\n",
    "\n",
    "# Display the sorted significant features and their importances\n",
    "for feature, importance in sorted_features_and_importances:\n",
    "    print(f\"{feature}: {importance}\")"
   ]
  },
  {
   "cell_type": "markdown",
   "metadata": {},
   "source": [
    "## neural network"
   ]
  },
  {
   "cell_type": "code",
   "execution_count": null,
   "metadata": {},
   "outputs": [],
   "source": [
    "reload(regression_utils)"
   ]
  },
  {
   "cell_type": "code",
   "execution_count": null,
   "metadata": {},
   "outputs": [],
   "source": [
    "gc.collect()"
   ]
  },
  {
   "cell_type": "code",
   "execution_count": null,
   "metadata": {},
   "outputs": [],
   "source": [
    "ml_inst.use_neural_network()"
   ]
  },
  {
   "cell_type": "code",
   "execution_count": null,
   "metadata": {},
   "outputs": [],
   "source": [
    "STOP!"
   ]
  },
  {
   "cell_type": "markdown",
   "metadata": {},
   "source": [
    "# Correlations"
   ]
  },
  {
   "cell_type": "markdown",
   "metadata": {},
   "source": [
    "### within clusters"
   ]
  },
  {
   "cell_type": "code",
   "execution_count": null,
   "metadata": {},
   "outputs": [],
   "source": [
    "cluster_name = 'cur_ff_cluster_100'\n",
    " #'start_ang_cluster_20'"
   ]
  },
  {
   "cell_type": "code",
   "execution_count": null,
   "metadata": {},
   "outputs": [],
   "source": [
    "for category in ['ff_distance', 'ff_angle', '_ff_angle', 'ff_angle_boundary', 'flash_duration', 'earliest_flash_rel_time', 'latest_flash_rel_time']:\n",
    "        specific_columns = [column for column in osf.x_features_df.columns if (cluster_name in column) & (category in column)]\n",
    "        if category == '_ff_angle':\n",
    "            specific_columns = [column for column in specific_columns if ('ff_angle_boundary' not in column)]\n",
    "        if len(specific_columns) > 1:\n",
    "            print(specific_columns)\n",
    "            ml_inst.show_correlation_heatmap(specific_columns=specific_columns)\n",
    "        else:\n",
    "            print('oops')"
   ]
  },
  {
   "cell_type": "code",
   "execution_count": null,
   "metadata": {},
   "outputs": [],
   "source": [
    "for category in ['ff_distance', 'ff_angle', '_ff_angle', 'ff_angle_boundary', 'flash_duration', 'earliest_flash_rel_time', 'latest_flash_rel_time']:\n",
    "    for radius in [50, 100, 150, 200, 250, 300]:\n",
    "        specific_columns = [column for column in osf.x_features_df.columns if (f'cur_ff_cluster_{radius}' in column) & (category in column)]\n",
    "        if category == '_ff_angle':\n",
    "            specific_columns = [column for column in specific_columns if ('ff_angle_boundary' not in column)]\n",
    "        if len(specific_columns) > 1:\n",
    "            print(specific_columns)\n",
    "            ml_inst.show_correlation_heatmap(specific_columns=specific_columns)\n",
    "        else:\n",
    "            print('oops')"
   ]
  },
  {
   "cell_type": "code",
   "execution_count": null,
   "metadata": {},
   "outputs": [],
   "source": [
    "i need (for 50):\n",
    "median (or mean) ff distance\n",
    "median (or mean) ff angle boundary\n",
    "EARLIEST_FLASH rel time, ff angle (or boundary)\n",
    "LATEST_FLASH rel time, ff angle\n",
    "LONGEST_FLASH, ff angle"
   ]
  },
  {
   "cell_type": "code",
   "execution_count": null,
   "metadata": {},
   "outputs": [],
   "source": [
    "ml_inst.use_vif(ml_inst.x_var_df)"
   ]
  },
  {
   "cell_type": "markdown",
   "metadata": {},
   "source": [
    "### across 2 clusters"
   ]
  },
  {
   "cell_type": "code",
   "execution_count": null,
   "metadata": {},
   "outputs": [],
   "source": [
    "raw_data_folder_path = 'all_monkey_data/raw_monkey_data/monkey_Bruno/data_0328'\n",
    "osf2 = only_cur_ff_class.OnlyStopFF(raw_data_folder_path=raw_data_folder_path)"
   ]
  },
  {
   "cell_type": "code",
   "execution_count": null,
   "metadata": {},
   "outputs": [],
   "source": [
    "gc.collect()"
   ]
  },
  {
   "cell_type": "code",
   "execution_count": null,
   "metadata": {},
   "outputs": [],
   "source": [
    "osf2.make_only_cur_ff_df()\n",
    "osf2.make_x_features_df(exists_ok=False)\n",
    "all_cluster_names = osf2.all_cluster_names\n",
    "feature = 'ff_angle'"
   ]
  },
  {
   "cell_type": "code",
   "execution_count": null,
   "metadata": {},
   "outputs": [],
   "source": [
    "# cluster_1 = 'cur_ff_cluster_75'\n",
    "# cluster_2 = 'cur_ff_cluster_100'\n"
   ]
  },
  {
   "cell_type": "code",
   "execution_count": null,
   "metadata": {},
   "outputs": [],
   "source": [
    "gc.collect()"
   ]
  },
  {
   "cell_type": "code",
   "execution_count": null,
   "metadata": {},
   "outputs": [],
   "source": [
    "minimal_features_to_keep = features_to_keep_utils.get_minimal_features_to_keep(osf.x_features_df)\n",
    "osf.x_features_df = osf.x_features_df[minimal_features_to_keep].copy()"
   ]
  },
  {
   "cell_type": "code",
   "execution_count": null,
   "metadata": {},
   "outputs": [],
   "source": [
    "cluster_name = 'cur_ff_cluster_100'"
   ]
  },
  {
   "cell_type": "code",
   "execution_count": null,
   "metadata": {},
   "outputs": [],
   "source": []
  },
  {
   "cell_type": "code",
   "execution_count": null,
   "metadata": {},
   "outputs": [],
   "source": [
    "combn_columns_in_cluster = [column for column in osf.x_features_df.columns if (cluster_name in column) & ('combd' in column)]"
   ]
  },
  {
   "cell_type": "code",
   "execution_count": null,
   "metadata": {},
   "outputs": [],
   "source": [
    "combn_columns_in_cluster"
   ]
  },
  {
   "cell_type": "code",
   "execution_count": null,
   "metadata": {},
   "outputs": [],
   "source": []
  },
  {
   "cell_type": "code",
   "execution_count": null,
   "metadata": {},
   "outputs": [],
   "source": []
  },
  {
   "cell_type": "code",
   "execution_count": null,
   "metadata": {},
   "outputs": [],
   "source": [
    "rel_columns_1 = [column for column in osf.x_features_df.columns if (feature in column) & (cluster_1 in column)]"
   ]
  },
  {
   "cell_type": "code",
   "execution_count": null,
   "metadata": {},
   "outputs": [],
   "source": [
    "all_cluster_names"
   ]
  },
  {
   "cell_type": "code",
   "execution_count": null,
   "metadata": {},
   "outputs": [],
   "source": [
    "for i in range(len(all_cluster_names)):\n",
    "    #j = i+1\n",
    "    for j in range(i + 1, len(all_cluster_names)):\n",
    "        cluster_1 = all_cluster_names[i]\n",
    "        cluster_2 = all_cluster_names[j]\n",
    "        rel_columns_1 = [column for column in osf.x_features_df.columns if (feature in column) & (cluster_1 in column)]\n",
    "        rel_columns_2 = [column for column in osf.x_features_df.columns if (feature in column) & (cluster_2 in column)]\n",
    "        if (len(rel_columns_1) > 0) & (len(rel_columns_2) > 0):\n",
    "            rel_columns_1.sort()\n",
    "            rel_columns_2.sort()\n",
    "            rel_columns = rel_columns_1 + rel_columns_2\n",
    "            #ml_inst.show_correlation_heatmap(specific_columns=rel_columns)\n",
    "\n",
    "            #corr_coeff = osf.x_features_df[rel_columns_1].corrwith(osf.x_features_df[rel_columns_2])\n",
    "            corr_coeff = osf.x_features_df[rel_columns].corr()\n",
    "            #corr_coeff = corr_coeff.iloc[:len(rel_columns_1), len(rel_columns_1):]\n",
    "\n",
    "            plt.figure(figsize=(15, 15))\n",
    "            sns.heatmap(corr_coeff, cmap='coolwarm', annot=True, linewidths=1, vmin=-1)\n",
    "            plt.show()\n",
    "\n"
   ]
  },
  {
   "cell_type": "code",
   "execution_count": null,
   "metadata": {},
   "outputs": [],
   "source": [
    "gc.collect()"
   ]
  },
  {
   "cell_type": "code",
   "execution_count": null,
   "metadata": {},
   "outputs": [],
   "source": [
    "osf.all_cluster_names"
   ]
  },
  {
   "cell_type": "markdown",
   "metadata": {},
   "source": [
    "### across clusters"
   ]
  },
  {
   "cell_type": "code",
   "execution_count": null,
   "metadata": {},
   "outputs": [],
   "source": [
    "cluster_ff_info = osf.ff_info_at_start_df.iloc[[100]]\n",
    "types_of_ff_to_include=['leftmost', 'rightmost', 'earliest_flash', 'latest_flash', 'longest_flash']\n",
    "columns_to_include=['ff_distance', 'ff_angle', 'angle_diff_boundary', 'earliest_flash_rel_time', 'latest_flash_rel_time', 'flash_duration']\n",
    "agg_columns_to_include=['combd_min_ff_angle', 'combd_max_ff_angle', 'combd_median_ff_angle', \n",
    "                        'combd_min_angle_diff_boundary', 'combd_max_angle_diff_boundary', 'combd_median_angle_diff_boundary', \n",
    "                        'combd_min_ff_distance', 'combd_max_ff_distance', 'combd_median_ff_distance', \n",
    "                        'combd_total_flash_duration', 'combd_longest_flash_duration', \n",
    "                        'combd_earliest_flash_rel_time', 'combd_latest_flash_rel_time',\n",
    "                        'num_ff_in_cluster'\n",
    "                        ]                    \n",
    "\n",
    "cluster_factors_df = only_cur_ff_utils._get_cluster_factors_df(cluster_ff_info, '', columns_to_include=columns_to_include,\n",
    "                                    types_of_ff_to_include=types_of_ff_to_include)\n",
    "cluster_factors_df_melted = cluster_factors_df.melt(id_vars=['group', 'ff'], var_name='feature', value_name='value')\n",
    "# add the column factor_name, which a concatenation of ff_name and factor\n",
    "cluster_factors_df_melted['ff_and_feature'] = cluster_factors_df_melted['ff'] + '_' + cluster_factors_df_melted['feature']                 \n",
    "\n",
    "factors = cluster_factors_df_melted['ff_and_feature'].values.tolist()\n",
    "factors.extend(agg_columns_to_include)"
   ]
  },
  {
   "cell_type": "code",
   "execution_count": null,
   "metadata": {},
   "outputs": [],
   "source": [
    "for feature in factors:\n",
    "    specific_columns = [column for column in osf.x_features_df.columns if (feature in column)]\n",
    "    if len(specific_columns) > 1:\n",
    "        print('Feature:', feature)\n",
    "        print(specific_columns)\n",
    "        ml_inst.show_correlation_heatmap(specific_columns=specific_columns)\n",
    "    else:\n",
    "        print('oops')"
   ]
  },
  {
   "cell_type": "markdown",
   "metadata": {},
   "source": [
    "# Features"
   ]
  },
  {
   "cell_type": "markdown",
   "metadata": {},
   "source": [
    "### Histplot of x features"
   ]
  },
  {
   "cell_type": "code",
   "execution_count": null,
   "metadata": {},
   "outputs": [],
   "source": [
    "osf.x_features_df.columns[20:40]"
   ]
  },
  {
   "cell_type": "code",
   "execution_count": null,
   "metadata": {},
   "outputs": [],
   "source": [
    "import random"
   ]
  },
  {
   "cell_type": "code",
   "execution_count": null,
   "metadata": {},
   "outputs": [],
   "source": [
    "ff_angle_columns = [column for column in osf.x_features_df.columns if ('ff_angle' in column) & \n",
    "                    ('rank' not in column)]"
   ]
  },
  {
   "cell_type": "code",
   "execution_count": null,
   "metadata": {},
   "outputs": [],
   "source": [
    "sampled_features = random.sample(list(ff_angle_columns), 20)"
   ]
  },
  {
   "cell_type": "code",
   "execution_count": null,
   "metadata": {},
   "outputs": [],
   "source": [
    "ref_point_mode = 'time after cur ff visible'\n",
    "ref_point_value = 0.1\n",
    "\n",
    "# ref_point_mode = 'distance'\n",
    "# ref_point_value = -190\n",
    "osfxs =only_cur_ff_x_sess_class.OnlyStopFFAcrossSessions(monkey_name='monkey_Bruno')\n",
    "osfxs.make_only_cur_ff_df_and_x_features_df_across_sessions(exists_ok=True, x_features_df_exists_ok=False, only_cur_ff_df_exists_ok=True,\n",
    "                                                           ref_point_mode=ref_point_mode, ref_point_value=ref_point_value)\n",
    "\n",
    "osfxs.prepare_only_cur_ff_data_for_ml()\n",
    "# osf.only_cur_ff_df = osf.combd_only_cur_ff_df.copy()\n",
    "# osf.x_features_df = osf.combd_x_features_df.copy()\n",
    "# osf.x_features_df_w_all_columns = osf.combd_x_features_df.copy()"
   ]
  },
  {
   "cell_type": "code",
   "execution_count": null,
   "metadata": {},
   "outputs": [],
   "source": [
    "for feature in sampled_features:\n",
    "    sns.histplot(osfxs.x_features_df[feature])\n",
    "    plt.title(feature)\n",
    "    plt.show()"
   ]
  },
  {
   "cell_type": "markdown",
   "metadata": {},
   "source": [
    "### Histplot of y_var"
   ]
  },
  {
   "cell_type": "code",
   "execution_count": null,
   "metadata": {},
   "outputs": [],
   "source": [
    "for y_var_column in y_columns_of_interest:\n",
    "    sns.histplot(osf.only_cur_ff_df[y_var_column])\n",
    "    plt.show()"
   ]
  },
  {
   "cell_type": "markdown",
   "metadata": {},
   "source": [
    "### Get features to keep"
   ]
  },
  {
   "cell_type": "code",
   "execution_count": null,
   "metadata": {},
   "outputs": [],
   "source": [
    "minimal_features_to_keep = features_to_keep_utils.get_minimal_features_to_keep(osf.x_features_df)\n",
    "osf.x_features_df = osf.x_features_df_w_all_columns[minimal_features_to_keep].copy()"
   ]
  },
  {
   "cell_type": "code",
   "execution_count": null,
   "metadata": {},
   "outputs": [],
   "source": [
    "reasonable_features_to_keep = features_to_keep_utils.get_reasonable_features_to_keep(osf.x_features_df)\n",
    "osf.x_features_df = osf.x_features_df_w_all_columns[reasonable_features_to_keep].copy()"
   ]
  },
  {
   "cell_type": "code",
   "execution_count": null,
   "metadata": {},
   "outputs": [],
   "source": [
    "features_to_keep = features_to_keep_utils.get_features_to_keep_based_on_specific_selections()\n",
    "features_to_keep_all = []\n",
    "for radius in features_to_keep.keys():\n",
    "    features_to_keep_all += features_to_keep[radius]\n",
    "osf.x_features_df = osf.x_features_df_w_all_columns[features_to_keep_all].copy()"
   ]
  },
  {
   "cell_type": "code",
   "execution_count": null,
   "metadata": {},
   "outputs": [],
   "source": [
    "# or, using the original:\n",
    "osf.x_features_df = osf.x_features_df_w_all_columns.copy()"
   ]
  },
  {
   "cell_type": "markdown",
   "metadata": {},
   "source": [
    "### Feature selections: Lasso"
   ]
  },
  {
   "cell_type": "code",
   "execution_count": null,
   "metadata": {},
   "outputs": [],
   "source": [
    "osf.make_x_and_y_var_df(use_pca=True)\n",
    "\n",
    "y_var = osf.y_var_df[y_var_column].copy()\n",
    "x_var_df = osf.x_var_df.copy()\n",
    "x_var_df, y_var = show_planning_utils.remove_outliers(x_var_df, y_var)"
   ]
  },
  {
   "cell_type": "code",
   "execution_count": null,
   "metadata": {},
   "outputs": [],
   "source": [
    "\n",
    "# LASSO for variable selection\n",
    "lasso = LassoCV(cv=5).fit(x_var_df, y_var)\n",
    "\n",
    "# Selected variables (non-zero coefficients)\n",
    "selected_features = x_var_df.columns[(lasso.coef_ != 0)]"
   ]
  },
  {
   "cell_type": "code",
   "execution_count": null,
   "metadata": {},
   "outputs": [],
   "source": [
    "x_var_df.shape"
   ]
  },
  {
   "cell_type": "code",
   "execution_count": null,
   "metadata": {},
   "outputs": [],
   "source": [
    "len(selected_features)"
   ]
  },
  {
   "cell_type": "code",
   "execution_count": null,
   "metadata": {},
   "outputs": [],
   "source": [
    "selected_features[:50]"
   ]
  },
  {
   "cell_type": "code",
   "execution_count": null,
   "metadata": {},
   "outputs": [],
   "source": [
    "unselected_features = ml_inst.x_var_df.columns[(lasso.coef_ == 0)]\n",
    "unselected_features[50:]"
   ]
  },
  {
   "cell_type": "code",
   "execution_count": null,
   "metadata": {},
   "outputs": [],
   "source": [
    "ml_inst.use_train_test_split(osf.x_var_df, osf.y_var_df, y_var_column=y_var_column)\n",
    "ml_inst.use_linear_regression(show_plot=True)"
   ]
  },
  {
   "cell_type": "markdown",
   "metadata": {},
   "source": [
    "# Appendix"
   ]
  },
  {
   "cell_type": "markdown",
   "metadata": {},
   "source": [
    "### limit ref_time_rel_to_stop"
   ]
  },
  {
   "cell_type": "code",
   "execution_count": null,
   "metadata": {},
   "outputs": [],
   "source": [
    "osf.only_cur_ff_df['ref_time_rel_to_stop'] = osf.only_cur_ff_df['ref_time'] - osf.only_cur_ff_df['stop_time']\n",
    "osf.only_cur_ff_df = osf.only_cur_ff_df[osf.only_cur_ff_df['ref_time_rel_to_stop'].between(-0.5, -0.1)].copy()\n",
    "osf.x_features_df = osf.x_features_df.loc[osf.only_cur_ff_df.index]"
   ]
  },
  {
   "cell_type": "code",
   "execution_count": null,
   "metadata": {},
   "outputs": [],
   "source": [
    "osf.only_cur_ff_df['ref_time_rel_to_stop'] = osf.only_cur_ff_df['ref_time'] - osf.only_cur_ff_df['stop_time']\n",
    "osf.only_cur_ff_df = osf.only_cur_ff_df[osf.only_cur_ff_df['ref_time_rel_to_stop'] < -0.5].copy()\n",
    "osf.x_features_df = osf.x_features_df.loc[osf.only_cur_ff_df.index]"
   ]
  },
  {
   "cell_type": "code",
   "execution_count": null,
   "metadata": {},
   "outputs": [],
   "source": [
    "sns.histplot(osf.only_cur_ff_df['stop_time'] - osf.only_cur_ff_df['ref_time'])\n",
    "plt.show()"
   ]
  },
  {
   "cell_type": "markdown",
   "metadata": {},
   "source": [
    "## modify ref_point "
   ]
  },
  {
   "cell_type": "code",
   "execution_count": null,
   "metadata": {},
   "outputs": [],
   "source": [
    "osf.only_cur_ff_df['ref_time_rel_to_stop'] = osf.only_cur_ff_df['ref_time'] - osf.only_cur_ff_df['stop_time']"
   ]
  },
  {
   "cell_type": "code",
   "execution_count": null,
   "metadata": {},
   "outputs": [],
   "source": [
    "osf.only_cur_ff_df.columns"
   ]
  },
  {
   "cell_type": "code",
   "execution_count": null,
   "metadata": {},
   "outputs": [],
   "source": [
    "# osf.only_cur_ff_df['ref_cum_distance_rel_to_stop'] = osf.only_cur_ff_df['ref_cum_distance'] - osf.only_cur_ff_df['stop_cum_distance']"
   ]
  },
  {
   "cell_type": "code",
   "execution_count": null,
   "metadata": {},
   "outputs": [],
   "source": [
    "osf.only_cur_ff_df['ref_time_rel_to_stop'] = osf.only_cur_ff_df['ref_time'] - osf.only_cur_ff_df['stop_time']\n",
    "osf.only_cur_ff_df[osf.only_cur_ff_df['ref_time_rel_to_stop'] > -0.5]"
   ]
  },
  {
   "cell_type": "markdown",
   "metadata": {},
   "source": [
    "## find the closest stop time to each ff caught T"
   ]
  },
  {
   "cell_type": "code",
   "execution_count": null,
   "metadata": {},
   "outputs": [],
   "source": [
    "stop_sub = dc.monkey_information.loc[dc.monkey_information['monkey_speeddummy']==0, ['time', 'point_index']].copy()"
   ]
  },
  {
   "cell_type": "code",
   "execution_count": null,
   "metadata": {},
   "outputs": [],
   "source": [
    "closest_stop_to_capture_df = pd.DataFrame()\n",
    "all_closest_point_before_capture_rows = pd.DataFrame()\n",
    "for i in range(len(dc.ff_caught_T_new)):\n",
    "    caught_time = dc.ff_caught_T_new[i]\n",
    "    time = stop_sub['time'].values\n",
    "    iloc_of_closest_time = np.argmin(np.abs(time - caught_time))\n",
    "    closest_point_row = stop_sub.iloc[[iloc_of_closest_time]].copy()\n",
    "    closest_point_row['cur_ff_index'] = i\n",
    "    closest_point_row['caught_time'] = caught_time\n",
    "    closest_stop_to_capture_df = pd.concat([closest_stop_to_capture_df, closest_point_row], axis=0)\n",
    "\n",
    "    monkey_t_sub = time[time <= caught_time]\n",
    "    iloc_of_closest_time = np.argmin(np.abs(monkey_t_sub - caught_time))\n",
    "    closest_point_row = stop_sub.iloc[[iloc_of_closest_time]].copy()\n",
    "    closest_point_row['cur_ff_index'] = i\n",
    "    closest_point_row['caught_time'] = caught_time\n",
    "    all_closest_point_before_capture_rows = pd.concat([all_closest_point_before_capture_rows, closest_point_row], axis=0)\n",
    "\n",
    "closest_stop_to_capture_df['time_before_capture'] = all_closest_point_before_capture_rows['time'].values\n",
    "closest_stop_to_capture_df['diff_from_caught_time'] = closest_stop_to_capture_df['time'] - closest_stop_to_capture_df['caught_time']\n",
    "closest_stop_to_capture_df['diff_from_before_capture_to_caught_time'] = closest_stop_to_capture_df['time_before_capture'] - closest_stop_to_capture_df['caught_time']"
   ]
  },
  {
   "cell_type": "code",
   "execution_count": null,
   "metadata": {},
   "outputs": [],
   "source": [
    "\n",
    "# make x and y axis equal scale\n",
    "fig, ax = plt.subplots(figsize=(10, 10))\n",
    "\n",
    "# Creating an ellipse using sine and cos functions:\n",
    "ax.scatter(x=closest_stop_to_capture_df['diff_from_caught_time'], y=closest_stop_to_capture_df['diff_from_before_capture_to_caught_time'], s=1)\n",
    "ax.plot([-1, 0], [-1, 0], color='black')\n",
    "ax.plot([0, 1], [0, -1], color='black')\n",
    "#ax.set_aspect('equal')\n",
    "\n",
    "plt.show()"
   ]
  },
  {
   "cell_type": "code",
   "execution_count": null,
   "metadata": {},
   "outputs": [],
   "source": [
    "closest_stop_to_capture_df[closest_stop_to_capture_df['diff_from_caught_time'] < -0.00001]"
   ]
  },
  {
   "cell_type": "code",
   "execution_count": null,
   "metadata": {},
   "outputs": [],
   "source": [
    "closest_stop_to_capture_df_sub = closest_stop_to_capture_df[closest_stop_to_capture_df['diff_from_caught_time'] > 0].copy()\n",
    "closest_stop_to_capture_df_sub[closest_stop_to_capture_df_sub['diff_from_caught_time'] >= np.abs(closest_stop_to_capture_df_sub['diff_from_before_capture_to_caught_time'])]"
   ]
  },
  {
   "cell_type": "code",
   "execution_count": null,
   "metadata": {},
   "outputs": [],
   "source": [
    "closest_stop_to_capture_df"
   ]
  },
  {
   "cell_type": "code",
   "execution_count": null,
   "metadata": {},
   "outputs": [],
   "source": [
    "sns.histplot(closest_stop_to_capture_df['diff_from_caught_time'])\n",
    "plt.show()"
   ]
  },
  {
   "cell_type": "code",
   "execution_count": null,
   "metadata": {},
   "outputs": [],
   "source": [
    "sns.histplot(closest_stop_to_capture_df['diff_from_before_capture_to_caught_time'])\n",
    "plt.show()"
   ]
  },
  {
   "cell_type": "markdown",
   "metadata": {},
   "source": [
    "Now, the above is enough justification to choose closest point rather than closest point before capture"
   ]
  },
  {
   "cell_type": "markdown",
   "metadata": {},
   "source": [
    "# Check vif in a cluster"
   ]
  },
  {
   "cell_type": "code",
   "execution_count": null,
   "metadata": {},
   "outputs": [],
   "source": [
    "from statsmodels.stats.outliers_influence import variance_inflation_factor"
   ]
  },
  {
   "cell_type": "code",
   "execution_count": null,
   "metadata": {},
   "outputs": [],
   "source": [
    "cluster_col = [column for column in mtc.x_var_df.columns if ('cur_ff_cluster_100_' in column)]\n",
    "#cluster_col = [column for column in mtc.x_var_df.columns if ('ref' in column)]"
   ]
  },
  {
   "cell_type": "code",
   "execution_count": null,
   "metadata": {},
   "outputs": [],
   "source": [
    "cluster_col"
   ]
  },
  {
   "cell_type": "code",
   "execution_count": null,
   "metadata": {},
   "outputs": [],
   "source": [
    "x_var_df = mtc.x_var_df[cluster_col].copy()"
   ]
  },
  {
   "cell_type": "code",
   "execution_count": null,
   "metadata": {},
   "outputs": [
    {
     "name": "stdout",
     "output_type": "stream",
     "text": [
      "Added interaction terms.\n"
     ]
    }
   ],
   "source": [
    "specific_columns = [column for column in cluster_col if ('combd' in column)]\n",
    "x_var_df = prep_ml_data_utils.add_interaction_terms_to_df(x_var_df, specific_columns=specific_columns)\n"
   ]
  },
  {
   "cell_type": "code",
   "execution_count": null,
   "metadata": {},
   "outputs": [],
   "source": [
    "vif_df = drop_high_vif_vars.get_vif_df(data_item.y_var)\n",
    "vif"
   ]
  }
 ],
 "metadata": {
  "kernelspec": {
   "display_name": "ff_venv2",
   "language": "python",
   "name": "python3"
  },
  "language_info": {
   "codemirror_mode": {
    "name": "ipython",
    "version": 3
   },
   "file_extension": ".py",
   "mimetype": "text/x-python",
   "name": "python",
   "nbconvert_exporter": "python",
   "pygments_lexer": "ipython3",
   "version": "3.11.11"
  }
 },
 "nbformat": 4,
 "nbformat_minor": 2
}
