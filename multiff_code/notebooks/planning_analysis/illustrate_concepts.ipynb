{
 "cells": [
  {
   "cell_type": "markdown",
   "metadata": {},
   "source": [
    "# Import packages"
   ]
  },
  {
   "cell_type": "code",
   "execution_count": null,
   "metadata": {},
   "outputs": [],
   "source": [
    "%load_ext autoreload\n",
    "%autoreload 2\n",
    "\n",
    "from pathlib import Path\n",
    "import os, sys\n",
    "for p in [Path.cwd()] + list(Path.cwd().parents):\n",
    "    if p.name == 'Multifirefly-Project':\n",
    "        os.chdir(p)\n",
    "        sys.path.insert(0, str(p / 'multiff_analysis/multiff_code/methods'))\n",
    "        break\n",
    "\n",
    "import sys\n",
    "\n",
    "\n",
    "from data_wrangling import specific_utils, process_monkey_information, base_processing_class, combine_info_utils\n",
    "from pattern_discovery import pattern_by_trials, pattern_by_points, make_ff_dataframe, ff_dataframe_utils, pattern_by_trials, pattern_by_points, cluster_analysis, organize_patterns_and_features, category_class, cluster_analysis\n",
    "from decision_making_analysis.decision_making import decision_making_class, decision_making_utils, plot_decision_making, intended_targets_classes\n",
    "from decision_making_analysis.GUAT import GUAT_helper_class, GUAT_collect_info_class, GUAT_combine_info_class, add_features_GUAT_and_TAFT\n",
    "from decision_making_analysis import free_selection, replacement, trajectory_info\n",
    "from null_behaviors import show_null_trajectory, find_best_arc, curvature_utils, curv_of_traj_utils\n",
    "from machine_learning.ml_methods import regression_utils, classification_utils, prep_ml_data_utils, hyperparam_tuning_class\n",
    "from reinforcement_learning.base_classes import env_utils, base_env, more_envs, rl_base_class, rl_base_utils\n",
    "from reinforcement_learning.agents.rnn import gru_utils, lstm_utils\n",
    "from reinforcement_learning.agents.feedforward import interpret_neural_network, sb3_class, sb3_utils\n",
    "from visualization.matplotlib_tools import plot_trials, plot_polar, additional_plots, plot_behaviors_utils, plot_statistics, monkey_heading_utils\n",
    "from visualization.animation import animation_func, animation_utils, animation_class\n",
    "from planning_analysis.test_params_for_planning import params_test_combos_class, params_utils\n",
    "from visualization.plotly_tools import plotly_for_monkey, plotly_for_time_series, plotly_preparation, plotly_for_correlation, plotly_plot_class\n",
    "from visualization.dash_tools import dash_prep_class, dash_utils, dash_utils, dash_comparison_class, dash_params_class\n",
    "from visualization.dash_tools.dash_main_class_methods import dash_main_class\n",
    "from neural_data_analysis.neural_analysis_tools.get_neural_data import neural_data_processing\n",
    "from neural_data_analysis.neural_analysis_tools.visualize_neural_data import plot_neural_data, plot_modeling_result\n",
    "from neural_data_analysis.neural_analysis_tools.model_neural_data import transform_vars, neural_data_modeling, drop_high_corr_vars, drop_high_vif_vars\n",
    "from neural_data_analysis.topic_based_neural_analysis.neural_vs_behavioral import prep_monkey_data, prep_target_data, neural_vs_behavioral_class\n",
    "from neural_data_analysis.topic_based_neural_analysis.planning_and_neural import planning_and_neural_class, pn_utils\n",
    "from planning_analysis.plan_factors import plan_factors_utils, build_factor_comp, plan_factors_class, monkey_plan_factors_x_sess_class\n",
    "from planning_analysis.show_planning import nxt_ff_utils, show_planning_class, show_planning_utils\n",
    "from planning_analysis.show_planning.cur_vs_nxt_ff import cvn_helper_class, find_cvn_utils, plot_cvn_class, plot_cvn_utils, plot_monkey_heading_helper_class, cvn_from_ref_class\n",
    "from planning_analysis.show_planning import illustrate_concepts\n",
    "from visualization.plotly_tools import plotly_for_null_arcs\n",
    "from visualization.plotly_tools import plotly_for_time_series, plotly_for_null_arcs, plotly_for_correlation, plotly_for_monkey, plotly_plot_class\n",
    "from planning_analysis.plan_indicators import diff_in_curv_utils\n",
    "\n",
    "\n",
    "from importlib import reload\n",
    "from eye_position_analysis import eye_positions\n",
    "import os, sys\n",
    "import numpy as np\n",
    "import matplotlib\n",
    "import matplotlib.pyplot as plt\n",
    "from matplotlib import cm\n",
    "from os.path import exists\n",
    "import seaborn as sns\n",
    "import math\n",
    "import copy\n",
    "import matplotlib.pyplot as plt\n",
    "import pandas as pd\n",
    "import torch\n",
    "import torch.nn as nn\n",
    "import torch.optim as optim\n",
    "import tqdm\n",
    "import itertools\n",
    "import plotly.express as px\n",
    "import gc\n",
    "from scipy.stats import rankdata\n",
    "from scipy import stats\n",
    "from IPython.display import HTML\n",
    "from matplotlib import rc\n",
    "from sklearn.model_selection import train_test_split\n",
    "from sklearn.preprocessing import OneHotEncoder\n",
    "from sklearn.datasets import make_multilabel_classification\n",
    "from sklearn.model_selection import train_test_split\n",
    "from sklearn.multioutput import MultiOutputClassifier\n",
    "from sklearn.neighbors import KNeighborsClassifier\n",
    "from sklearn.metrics import accuracy_score, hamming_loss, multilabel_confusion_matrix, fbeta_score, precision_score, recall_score\n",
    "from sklearn.svm import SVC\n",
    "from sklearn.tree import DecisionTreeClassifier\n",
    "from sklearn.ensemble import AdaBoostClassifier, RandomForestClassifier, VotingClassifier, BaggingClassifier, GradientBoostingClassifier\n",
    "from sklearn.neural_network import MLPClassifier\n",
    "from sklearn.linear_model import LinearRegression\n",
    "from sklearn.neighbors import KNeighborsRegressor, KNeighborsClassifier\n",
    "from sklearn.naive_bayes import GaussianNB\n",
    "from sklearn.linear_model import LogisticRegression\n",
    "from math import pi\n",
    "from scipy.ndimage import gaussian_filter1d\n",
    "from statsmodels.graphics.tsaplots import plot_acf\n",
    "import warnings\n",
    "import os, sys, sys\n",
    "from sklearn.exceptions import ConvergenceWarning\n",
    "import plotly.graph_objects as go\n",
    "\n",
    "plt.rcParams[\"animation.html\"] = \"html5\"\n",
    "os.environ['KMP_DUPLICATE_LIB_OK']='True'\n",
    "rc('animation', html='jshtml')\n",
    "matplotlib.rcParams.update(matplotlib.rcParamsDefault)\n",
    "matplotlib.rcParams['animation.embed_limit'] = 2**128\n",
    "pd.set_option('display.float_format', lambda x: '%.5f' % x)\n",
    "np.set_printoptions(suppress=True)\n",
    "pd.options.display.max_rows = 101"
   ]
  },
  {
   "cell_type": "markdown",
   "metadata": {},
   "source": [
    "# Use CurVsNxtFfFromRefClass class"
   ]
  },
  {
   "cell_type": "code",
   "execution_count": null,
   "metadata": {},
   "outputs": [],
   "source": [
    "reload(plot_cvn_class)"
   ]
  },
  {
   "cell_type": "code",
   "execution_count": null,
   "metadata": {},
   "outputs": [],
   "source": [
    "normalize = False\n",
    "eliminate_outliers = False\n",
    "use_curv_to_ff_center = False\n",
    "curv_of_traj_mode = 'distance'\n",
    "window_for_curv_of_traj=[-25, 0]\n",
    "raw_data_folder_path = \"all_monkey_data/raw_monkey_data/monkey_Bruno/data_0328\"\n",
    "\n",
    "#data_item_info = find_cvn_utils.extract_key_info_from_data_item_for_stops_near_ff_class(data_item)\n",
    "\n",
    "snf = cvn_from_ref_class.CurVsNxtFfFromRefClass(raw_data_folder_path=raw_data_folder_path)\n",
    "snf.get_more_monkey_data()\n",
    "snf.traj_curv_descr = 'Traj Curv: From Current Point to Right Before Stop'\n",
    "\n",
    "\n",
    "\n",
    "snf.streamline_organizing_info(ref_point_mode='distance', ref_point_value=-150, \n",
    "                              #ref_point_mode='time after cur ff visible', ref_point_value=0.1, \n",
    "                               curv_of_traj_mode=curv_of_traj_mode, window_for_curv_of_traj=window_for_curv_of_traj, truncate_curv_of_traj_by_time_of_capture=True,\n",
    "                               use_curv_to_ff_center=use_curv_to_ff_center,  eliminate_outliers=eliminate_outliers,\n",
    "                               stops_near_ff_df_exists_ok=True)\n",
    "\n",
    "snf.ax_for_corr = snf.find_relationships_from_info(normalize=normalize, show_plot=True)\n",
    "snf.prepare_to_plot_stops_near_ff()\n",
    "\n",
    "\n",
    "kwargs = {\"show_visible_segments\": False,\n",
    "          \"show_reward_boundary\": True,\n",
    "        \"show_current_eye_positions\": False,\n",
    "        \"show_alive_fireflies\": False,\n",
    "        \"show_visible_fireflies\": False,\n",
    "        'show_cur_ff': True,\n",
    "        'show_nxt_ff': True,\n",
    "        'show_traj_color_as_speed': False,\n",
    "        'show_cur_and_nxt_stops': True,\n",
    "        'show_capture_stops': False,\n",
    "        \"show_stops\": False,\n",
    "        'show_monkey_heading': False,\n",
    "        'plot_arena_edge': False,\n",
    "        'show_null_arcs_to_ff': False,\n",
    "        'show_null_arc_to_cur_ff': True,\n",
    "}\n"
   ]
  },
  {
   "cell_type": "markdown",
   "metadata": {},
   "source": [
    "# Plot some trials"
   ]
  },
  {
   "cell_type": "code",
   "execution_count": null,
   "metadata": {},
   "outputs": [],
   "source": [
    "current_i = 5"
   ]
  },
  {
   "cell_type": "code",
   "execution_count": null,
   "metadata": {},
   "outputs": [],
   "source": [
    "snf.make_individual_plots_for_stops_near_ff_in_plotly(current_i, max_num_plot_to_make=1, \n",
    "                                             show_eye_positions_for_both_eyes=True)"
   ]
  },
  {
   "cell_type": "markdown",
   "metadata": {},
   "source": [
    "# Variables of interest"
   ]
  },
  {
   "cell_type": "markdown",
   "metadata": {},
   "source": [
    "## dir_from_cur_ff_same_side"
   ]
  },
  {
   "cell_type": "markdown",
   "metadata": {},
   "source": [
    "## diff_in_abs_angle_to_nxt_ff"
   ]
  },
  {
   "cell_type": "code",
   "execution_count": null,
   "metadata": {},
   "outputs": [],
   "source": [
    "reload(plotly_plot_class)\n",
    "reload(plot_cvn_class)\n",
    "reload(cvn_from_ref_class)\n",
    "reload(cvn_helper_class)"
   ]
  },
  {
   "cell_type": "code",
   "execution_count": null,
   "metadata": {},
   "outputs": [],
   "source": [
    "reload(plotly_for_monkey)"
   ]
  },
  {
   "cell_type": "code",
   "execution_count": null,
   "metadata": {},
   "outputs": [],
   "source": [
    "\n",
    "fixed_current_i = 14\n",
    "\n",
    "_ = snf.make_individual_plots_for_stops_near_ff_in_plotly(fixed_current_i, max_num_plot_to_make=1, **kwargs, \n",
    "                                                          show_fig=True)"
   ]
  },
  {
   "cell_type": "code",
   "execution_count": null,
   "metadata": {},
   "outputs": [],
   "source": [
    "snf.monkey_plot_params['show_cur_and_nxt_stops_indices']"
   ]
  },
  {
   "cell_type": "markdown",
   "metadata": {},
   "source": [
    "### show angle from monkey stop to next ff"
   ]
  },
  {
   "cell_type": "code",
   "execution_count": null,
   "metadata": {},
   "outputs": [],
   "source": [
    "reload(illustrate_concepts)"
   ]
  },
  {
   "cell_type": "code",
   "execution_count": null,
   "metadata": {},
   "outputs": [],
   "source": [
    "#fixed_current_i = 14\n",
    "\n",
    "fixed_current_i = 14\n",
    "\n",
    "kwargs['show_null_arcs_to_ff'] = True\n",
    "\n",
    "# Make individual plots for stops near ff in Plotly\n",
    "snf.make_individual_plots_for_stops_near_ff_in_plotly(\n",
    "    fixed_current_i, max_num_plot_to_make=1, show_fig=False, **kwargs\n",
    ")\n",
    "snf._find_null_arcs_for_cur_and_nxt_ff_for_the_point_from_info_for_counted_points(\n",
    "    i=fixed_current_i)\n",
    "    \n",
    "line_stop_nxt_ff, line_of_stop_heading, arc_xy = illustrate_concepts.prepare_to_show_angle_from_monkey_stop_to_next_ff(\n",
    "    snf, fixed_current_i) \n",
    "\n",
    "illustrate_concepts.plot_with_additional_elements(snf,\n",
    "                                  line_of_stop_heading, line_stop_nxt_ff,\n",
    "                                  arc_xy)\n",
    "snf.plt.show()"
   ]
  },
  {
   "cell_type": "markdown",
   "metadata": {},
   "source": [
    "### show angle from null arc end to next ff\n",
    "(Note: I might want to click on the null arcs to hide them)"
   ]
  },
  {
   "cell_type": "code",
   "execution_count": null,
   "metadata": {},
   "outputs": [],
   "source": [
    "\n",
    "\n",
    "kwargs['show_null_arcs_to_ff'] = False \n",
    "\n",
    "# Make individual plots for stops near ff in Plotly\n",
    "snf.make_individual_plots_for_stops_near_ff_in_plotly(\n",
    "    fixed_current_i, max_num_plot_to_make=1, show_fig=False, **kwargs\n",
    ")\n",
    "\n",
    "snf._find_null_arcs_for_cur_and_nxt_ff_for_the_point_from_info_for_counted_points(\n",
    "    i=current_i)\n",
    "    \n",
    "snf.fig = plotly_for_null_arcs.plot_null_arcs_in_plotly(snf.fig, snf.cur_null_arc_info_for_the_point, rotation_matrix=snf.current_plotly_key_comp['rotation_matrix'],\n",
    "                                                            color='brown', trace_name='cur null arc', linewidth=3, opacity=0.9)\n",
    "\n",
    "line_of_cur_null_heading, line_cur_and_nxt_ff, arc_xy = illustrate_concepts.prepare_to_show_angle_from_null_arc_end_to_next_ff(snf, fixed_current_i)\n",
    "\n",
    "illustrate_concepts.plot_with_additional_elements(snf,\n",
    "                                  line_of_cur_null_heading, line_cur_and_nxt_ff,\n",
    "                                  arc_xy,\n",
    "                                  arc_label='Angle from null arc end to next ff'\n",
    "                                  )\n",
    "snf.plt.show()"
   ]
  },
  {
   "cell_type": "markdown",
   "metadata": {},
   "source": [
    "# diff_in_abs_d_curv"
   ]
  },
  {
   "cell_type": "code",
   "execution_count": null,
   "metadata": {},
   "outputs": [],
   "source": [
    "current_i"
   ]
  },
  {
   "cell_type": "code",
   "execution_count": null,
   "metadata": {},
   "outputs": [],
   "source": [
    "reload(plotly_plot_class)"
   ]
  },
  {
   "cell_type": "code",
   "execution_count": null,
   "metadata": {},
   "outputs": [],
   "source": [
    "snf.monkey_plot_params"
   ]
  },
  {
   "cell_type": "code",
   "execution_count": null,
   "metadata": {},
   "outputs": [],
   "source": [
    "snf.cur_ff_color = 'brown'\n",
    "kwargs['show_cur_and_nxt_stops'] = False\n",
    "kwargs['show_null_arcs_to_ff'] = False \n",
    "kwargs['show_null_arc_to_cur_ff'] = False\n",
    "# kwargs['show_capture_stops'] = False\n",
    "# kwargs['show_capture_stops_indices'] = False\n",
    "\n",
    "# snf.monkey_plot_params['show_capture_stops_indices'] = None\n",
    "\n",
    "for current_i in [5]: #, 79, 154, 128, 148, 140, 158, 7, 15, 59, 113, 65]:\n",
    "\n",
    "    print(current_i)\n",
    "    # Make individual plots for stops near ff in Plotly\n",
    "    snf.make_individual_plots_for_stops_near_ff_in_plotly(\n",
    "        current_i, max_num_plot_to_make=1, show_fig=False, **kwargs\n",
    "    ) \n",
    "\n",
    "    snf._find_null_arcs_for_cur_and_nxt_ff_for_the_point_from_info_for_counted_points(\n",
    "        i=current_i)\n",
    "\n",
    "\n",
    "    snf.fig = illustrate_concepts.illustrate_diff_in_d_curv(snf)\n",
    "\n",
    "    # arc_from_cur_arc_end_to_next_ff, arc_from_stop_to_nxt_ff, traj_portion_before_stop = illustrate_concepts.prepare_to_illustrate_diff_in_d_curv(snf)\n",
    "\n",
    "    snf.plt.show()\n"
   ]
  },
  {
   "cell_type": "markdown",
   "metadata": {},
   "source": [
    "# perc"
   ]
  },
  {
   "cell_type": "code",
   "execution_count": null,
   "metadata": {},
   "outputs": [
    {
     "data": {
      "image/png": "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",
      "text/plain": [
       "<Figure size 840x720 with 1 Axes>"
      ]
     },
     "metadata": {},
     "output_type": "display_data"
    }
   ],
   "source": [
    "import matplotlib.pyplot as plt\n",
    "from matplotlib.patches import Circle\n",
    "\n",
    "# --- geometry ---\n",
    "cur_center = (0.0, 0.0)   # current target center\n",
    "cur_r = 1.0\n",
    "nxt_center = (-2.2, 2.1)  # next target center\n",
    "nxt_r = 1.0\n",
    "\n",
    "# how far the dotted line should extend beyond the circle (in radii)\n",
    "line_extra = 4.2\n",
    "pad = 0.6               # label padding in axis units (tweak to taste)\n",
    "\n",
    "fig, ax = plt.subplots(figsize=(4.2, 3.6), dpi=200)\n",
    "\n",
    "# current target: circle + center dot\n",
    "ax.add_patch(Circle(cur_center, cur_r, fill=False, lw=3, ec='orange'))\n",
    "ax.plot(cur_center[0], cur_center[1], 'o', ms=5, color='orange', zorder=5)\n",
    "\n",
    "# vertical dotted line through the CENTER, extended beyond circle\n",
    "y_min = cur_center[1] - cur_r - line_extra\n",
    "y_max = cur_center[1] + cur_r + line_extra\n",
    "ax.plot([cur_center[0], cur_center[0]], [y_min, y_max],\n",
    "        linestyle=(0, (1, 6)), lw=2.2, color='orange')\n",
    "\n",
    "# next target: circle + center dot\n",
    "ax.add_patch(Circle(nxt_center, nxt_r, fill=False, lw=3, ec='purple'))\n",
    "ax.plot(nxt_center[0], nxt_center[1], 'o', ms=5, color='purple', zorder=5)\n",
    "\n",
    "# labels placed outside, not overlapping\n",
    "# current: centered below the circle\n",
    "ax.text(cur_center[0] + nxt_r + pad *2, cur_center[1] + cur_r + pad*1.5,\n",
    "        'Current target', color='darkorange', fontsize=10,\n",
    "        ha='center', va='top')\n",
    "\n",
    "# next: to the right of its circle center\n",
    "ax.text(nxt_center[0] - nxt_r - pad, nxt_center[1] + nxt_r + pad,\n",
    "        'Next target', color='purple', fontsize=10,\n",
    "        ha='left', va='center')\n",
    "\n",
    "ax.set_aspect('equal', adjustable='box')\n",
    "# ax.set_xlim(-3.4, 2.2)\n",
    "# ax.set_ylim(-5, 8)\n",
    "ax.axis('off')\n",
    "plt.tight_layout()\n",
    "plt.show()\n"
   ]
  },
  {
   "cell_type": "markdown",
   "metadata": {},
   "source": [
    "# Different types of null arcs"
   ]
  },
  {
   "cell_type": "code",
   "execution_count": null,
   "metadata": {},
   "outputs": [],
   "source": [
    "# see landing_within_targets.ipynb"
   ]
  }
 ],
 "metadata": {
  "kernelspec": {
   "display_name": "ff_venv2",
   "language": "python",
   "name": "python3"
  },
  "language_info": {
   "codemirror_mode": {
    "name": "ipython",
    "version": 3
   },
   "file_extension": ".py",
   "mimetype": "text/x-python",
   "name": "python",
   "nbconvert_exporter": "python",
   "pygments_lexer": "ipython3",
   "version": "3.11.11"
  }
 },
 "nbformat": 4,
 "nbformat_minor": 2
}
