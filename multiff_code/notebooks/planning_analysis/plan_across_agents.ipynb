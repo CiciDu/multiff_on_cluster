{
 "cells": [
  {
   "cell_type": "markdown",
   "metadata": {},
   "source": [
    "# Import packages"
   ]
  },
  {
   "cell_type": "code",
   "execution_count": null,
   "metadata": {},
   "outputs": [],
   "source": [
    "%load_ext autoreload\n",
    "%autoreload 2\n",
    "\n",
    "from pathlib import Path\n",
    "import os, sys\n",
    "for p in [Path.cwd()] + list(Path.cwd().parents):\n",
    "    if p.name == 'Multifirefly-Project':\n",
    "        os.chdir(p)\n",
    "        sys.path.insert(0, str(p / 'multiff_analysis/multiff_code/methods'))\n",
    "        break\n",
    "\n",
    "\n",
    "import sys\n",
    "import csv\n",
    "\n",
    "\n",
    "from data_wrangling import specific_utils, process_monkey_information, base_processing_class, combine_info_utils\n",
    "from pattern_discovery import pattern_by_trials, pattern_by_points, make_ff_dataframe, ff_dataframe_utils, pattern_by_trials, pattern_by_points, cluster_analysis, organize_patterns_and_features, category_class, cluster_analysis\n",
    "from decision_making_analysis.decision_making import decision_making_class, decision_making_utils, plot_decision_making, intended_targets_classes\n",
    "from decision_making_analysis.GUAT import GUAT_helper_class, GUAT_collect_info_class, GUAT_combine_info_class, add_features_GUAT_and_TAFT\n",
    "from decision_making_analysis import free_selection, replacement, trajectory_info\n",
    "from null_behaviors import show_null_trajectory, find_best_arc, curvature_utils, curv_of_traj_utils\n",
    "from machine_learning.ml_methods import regression_utils, classification_utils, prep_ml_data_utils, hyperparam_tuning_class\n",
    "from reinforcement_learning.base_classes import env_utils, base_env, more_envs, rl_base_class, rl_base_utils\n",
    "from reinforcement_learning.agents.rnn import gru_utils, lstm_utils\n",
    "from reinforcement_learning.agents.feedforward import interpret_neural_network, sb3_class, sb3_utils\n",
    "from visualization.matplotlib_tools import plot_trials, plot_polar, additional_plots, plot_behaviors_utils, plot_statistics, monkey_heading_utils\n",
    "from visualization.animation import animation_func, animation_utils, animation_class\n",
    "from planning_analysis.test_params_for_planning import params_test_combos_class, params_utils\n",
    "from visualization.plotly_tools import plotly_for_monkey, plotly_for_time_series, plotly_preparation, plotly_for_correlation\n",
    "from visualization.dash_tools import dash_prep_class, dash_utils, dash_utils, dash_comparison_class, dash_params_class\n",
    "from visualization.dash_tools.dash_main_class_methods import dash_main_class\n",
    "from neural_data_analysis.neural_analysis_tools.get_neural_data import neural_data_processing\n",
    "from neural_data_analysis.neural_analysis_tools.visualize_neural_data import plot_neural_data, plot_modeling_result\n",
    "from neural_data_analysis.neural_analysis_tools.model_neural_data import transform_vars, neural_data_modeling, drop_high_corr_vars, drop_high_vif_vars\n",
    "from neural_data_analysis.topic_based_neural_analysis.neural_vs_behavioral import prep_monkey_data, prep_target_data, neural_vs_behavioral_class\n",
    "from neural_data_analysis.topic_based_neural_analysis.planning_and_neural import planning_and_neural_class, pn_utils\n",
    "from planning_analysis.only_cur_ff import only_cur_ff_utils, only_cur_ff_class, only_cur_ff_utils\n",
    "from planning_analysis.plan_factors import plan_factors_utils, build_factor_comp, plan_factors_class, monkey_plan_factors_x_sess_class\n",
    "from planning_analysis.agent_analysis import compare_monkey_and_agent_utils, agent_plan_factors_class\n",
    "from planning_analysis.plan_factors import monkey_plan_factors_x_sess_class, test_vs_control_utils, monkey_plan_factors_x_sess_class, monkey_plan_factors_x_sess_class\n",
    "from planning_analysis.factors_vs_indicators import make_variations_utils, process_variations_utils\n",
    "from planning_analysis.show_planning import nxt_ff_utils, show_planning_class, show_planning_utils\n",
    "from planning_analysis.show_planning.cur_vs_nxt_ff import cvn_helper_class, find_cvn_utils, plot_cvn_class, plot_cvn_utils, plot_monkey_heading_helper_class, cvn_from_ref_class\n",
    "from planning_analysis.agent_analysis import agent_plan_factors_x_sess_class, agent_plan_factors_x_agents_class\n",
    "from machine_learning.ml_methods import ml_methods_class, prep_ml_data_utils\n",
    "from planning_analysis.factors_vs_indicators.plot_plan_indicators import plot_variations_class, plot_variations_utils\n",
    "\n",
    "\n",
    "from importlib import reload\n",
    "from eye_position_analysis import eye_positions\n",
    "import os, sys\n",
    "import numpy as np\n",
    "import matplotlib\n",
    "import matplotlib.pyplot as plt\n",
    "from sklearn.ensemble import BaggingRegressor, AdaBoostRegressor, RandomForestRegressor\n",
    "from sklearn.preprocessing import PolynomialFeatures\n",
    "from sklearn.linear_model import LinearRegression\n",
    "from matplotlib import cm\n",
    "from os.path import exists\n",
    "import seaborn as sns\n",
    "import math\n",
    "import copy\n",
    "import matplotlib.pyplot as plt\n",
    "import pandas as pd\n",
    "import torch\n",
    "import torch.nn as nn\n",
    "import torch.optim as optim\n",
    "import tqdm\n",
    "import itertools\n",
    "import plotly.express as px\n",
    "from scipy.stats import rankdata\n",
    "from scipy import stats\n",
    "from IPython.display import HTML\n",
    "from matplotlib import rc\n",
    "from sklearn.model_selection import train_test_split\n",
    "from sklearn.preprocessing import OneHotEncoder\n",
    "from sklearn.datasets import make_multilabel_classification\n",
    "from sklearn.model_selection import train_test_split\n",
    "from sklearn.multioutput import MultiOutputClassifier\n",
    "from sklearn.neighbors import KNeighborsClassifier\n",
    "from sklearn.metrics import accuracy_score, hamming_loss, multilabel_confusion_matrix, fbeta_score, precision_score, recall_score\n",
    "from sklearn.svm import SVC\n",
    "from sklearn.tree import DecisionTreeClassifier\n",
    "from sklearn.ensemble import AdaBoostClassifier, RandomForestClassifier, VotingClassifier, BaggingClassifier, GradientBoostingClassifier\n",
    "from sklearn.neural_network import MLPClassifier\n",
    "from sklearn.linear_model import LinearRegression\n",
    "from sklearn.neighbors import KNeighborsRegressor, KNeighborsClassifier\n",
    "from sklearn.naive_bayes import GaussianNB\n",
    "from sklearn.linear_model import LogisticRegression\n",
    "from math import pi\n",
    "from scipy.ndimage import gaussian_filter1d\n",
    "from statsmodels.graphics.tsaplots import plot_acf\n",
    "import warnings\n",
    "import os, sys, sys\n",
    "from sklearn.exceptions import ConvergenceWarning\n",
    "import plotly.graph_objects as go\n",
    "import gc\n",
    "from sklearn.linear_model import LogisticRegression\n",
    "from sklearn.linear_model import LassoCV\n",
    "from sklearn.model_selection import train_test_split\n",
    "from sklearn.preprocessing import StandardScaler\n",
    "\n",
    "\n",
    "plt.rcParams[\"animation.html\"] = \"html5\"\n",
    "os.environ['KMP_DUPLICATE_LIB_OK']='True'\n",
    "rc('animation', html='jshtml')\n",
    "matplotlib.rcParams.update(matplotlib.rcParamsDefault)\n",
    "matplotlib.rcParams['animation.embed_limit'] = 2**128\n",
    "pd.set_option('display.float_format', lambda x: '%.5f' % x)\n",
    "np.set_printoptions(suppress=True)\n",
    "pd.options.display.max_rows = 101"
   ]
  },
  {
   "cell_type": "code",
   "execution_count": null,
   "metadata": {},
   "outputs": [],
   "source": [
    "data_item = None\n",
    "raw_data_folder_path = \"all_monkey_data/raw_monkey_data/monkey_Bruno/data_0328\""
   ]
  },
  {
   "cell_type": "code",
   "execution_count": null,
   "metadata": {},
   "outputs": [],
   "source": [
    "stop!"
   ]
  },
  {
   "cell_type": "markdown",
   "metadata": {},
   "source": [
    "# Use class"
   ]
  },
  {
   "cell_type": "markdown",
   "metadata": {},
   "source": [
    "## get data"
   ]
  },
  {
   "cell_type": "code",
   "execution_count": null,
   "metadata": {},
   "outputs": [],
   "source": [
    "pfas = agent_plan_factors_x_sess_class.PlanFactorsAcrossAgentSessions()"
   ]
  },
  {
   "cell_type": "code",
   "execution_count": null,
   "metadata": {},
   "outputs": [],
   "source": [
    "pfas.streamline_getting_y_values(num_datasets_to_collect=2,\n",
    "                                 intermediate_products_exist_ok=False,\n",
    "                                 agent_data_exists_ok=True)"
   ]
  },
  {
   "cell_type": "code",
   "execution_count": null,
   "metadata": {},
   "outputs": [],
   "source": []
  },
  {
   "cell_type": "markdown",
   "metadata": {},
   "source": [
    "## plot trajectories"
   ]
  },
  {
   "cell_type": "markdown",
   "metadata": {},
   "source": [
    "### monkey"
   ]
  },
  {
   "cell_type": "code",
   "execution_count": null,
   "metadata": {},
   "outputs": [],
   "source": [
    "\n",
    "normalize = False\n",
    "eliminate_outliers = False\n",
    "use_curv_to_ff_center = False\n",
    "curv_of_traj_mode = 'distance'\n",
    "window_for_curv_of_traj=[-25, 0]\n",
    "raw_data_folder_path = \"all_monkey_data/raw_monkey_data/monkey_Bruno/data_0328\"\n",
    "\n",
    "#data_item_info = find_cvn_utils.extract_key_info_from_data_item_for_cur_vs_nxt_ff_from_ref_class(data_item)\n",
    "\n",
    "snf = cvn_from_ref_class.CurVsNxtFfFromRefClass(raw_data_folder_path=raw_data_folder_path)\n",
    "snf.get_more_monkey_data()\n",
    "snf.traj_curv_descr = 'Traj Curv: From Current Point to Right Before Stop'\n",
    "\n",
    "\n",
    "\n",
    "snf.streamline_organizing_info(ref_point_mode='distance', ref_point_value=-150, \n",
    "                              #ref_point_mode='time after cur ff visible', ref_point_value=0.1, \n",
    "                               curv_of_traj_mode=curv_of_traj_mode, window_for_curv_of_traj=window_for_curv_of_traj, truncate_curv_of_traj_by_time_of_capture=True,\n",
    "                               use_curv_to_ff_center=use_curv_to_ff_center,  eliminate_outliers=eliminate_outliers,\n",
    "                               stops_near_ff_df_exists_ok=True)\n",
    "\n",
    "\n",
    "snf.ax_for_corr = snf.find_relationships_from_info(normalize=normalize, show_plot=True)\n",
    "\n",
    "snf.prepare_to_plot_stops_near_ff()"
   ]
  },
  {
   "cell_type": "code",
   "execution_count": null,
   "metadata": {},
   "outputs": [],
   "source": [
    "current_i = 10\n",
    "snf.make_individual_plots_for_stops_near_ff_in_mpl(current_i, max_num_plot_to_make = 3)"
   ]
  },
  {
   "cell_type": "markdown",
   "metadata": {},
   "source": [
    "### agent"
   ]
  },
  {
   "cell_type": "code",
   "execution_count": null,
   "metadata": {},
   "outputs": [],
   "source": [
    "exists_ok = False\n",
    "stops_near_ff_df_exists_ok=exists_ok, heading_info_df_exists_ok=exists_ok"
   ]
  },
  {
   "cell_type": "code",
   "execution_count": null,
   "metadata": {},
   "outputs": [],
   "source": [
    "pfa = agent_plan_factors_class.PlanFactorsOfAgent()\n",
    "# pfa = agent_plan_factors_class.PlanFactorsOfAgent(model_folder_name='multiff_analysis/RL_models/SB3_stored_models/all_agents/env1_relu/ff3/dv10_dw10_w10_mem3')\n",
    "# pfa = agent_plan_factors_class.PlanFactorsOfAgent(model_folder_name='multiff_analysis/RL_models/SB3_stored_models/all_agents/env1_test_params/ff3/dv10_dw70_w10_mem3')\n",
    "\n",
    "pfa._initialize_pf()\n",
    "pfa.get_agent_data(exists_ok=False, save_data=False, n_steps=8000)\n",
    "pfa._load_agent_data_onto_inst()"
   ]
  },
  {
   "cell_type": "code",
   "execution_count": null,
   "metadata": {},
   "outputs": [],
   "source": [
    "\n",
    "pfa.pf.streamline_organizing_info()\n",
    "pfa.pf.ax_for_corr = pfa.pf.find_relationships_from_info(normalize=False, show_plot=True)\n",
    "pfa.pf.prepare_to_plot_stops_near_ff()\n",
    "\n"
   ]
  },
  {
   "cell_type": "code",
   "execution_count": null,
   "metadata": {},
   "outputs": [],
   "source": [
    "current_i = 10\n",
    "pfa.pf.make_individual_plots_for_stops_near_ff_in_mpl(current_i, max_num_plot_to_make=3)"
   ]
  },
  {
   "cell_type": "markdown",
   "metadata": {},
   "source": [
    "### plotly"
   ]
  },
  {
   "cell_type": "code",
   "execution_count": null,
   "metadata": {},
   "outputs": [],
   "source": [
    "monkey_plot_params = {\n",
    "    \"show_visible_fireflies\": True,\n",
    "    \"show_in_memory_fireflies\": False,\n",
    "    \"show_monkey_heading\": True,\n",
    "    \"show_visible_segments\": True,\n",
    "    \"show_traj_portion\": False,\n",
    "    \"show_null_arcs_to_ff\": True,\n",
    "    \"show_stops\": True,\n",
    "    \"show_all_eye_positions\": False,\n",
    "    \"show_current_eye_positions\": False,\n",
    "    \"show_eye_positions_for_both_eyes\": False,\n",
    "    \"show_traj_color_as_speed\": False,\n",
    "}"
   ]
  },
  {
   "cell_type": "code",
   "execution_count": null,
   "metadata": {},
   "outputs": [],
   "source": [
    "\n",
    "current_i = 10\n",
    "pfa.pf.make_individual_plots_for_stops_near_ff_in_plotly(current_i, max_num_plot_to_make=10,\n",
    "                                                **monkey_plot_params \n",
    "                                                )"
   ]
  },
  {
   "cell_type": "markdown",
   "metadata": {},
   "source": [
    "### compare num ff"
   ]
  },
  {
   "cell_type": "code",
   "execution_count": null,
   "metadata": {},
   "outputs": [],
   "source": [
    "dict_of_class_instances = {}\n",
    "for num_ff in range(1, 6):\n",
    "    print(f'ff{num_ff}')\n",
    "    model_folder_name = f'multiff_analysis/RL_models/SB3_stored_models/all_agents/env1_relu/ff{num_ff}/dv10_dw10_w10_mem3'\n",
    "    pfa = agent_plan_factors_class.PlanFactorsOfAgent(model_folder_name=model_folder_name)\n",
    "    pfa._initialize_pf()\n",
    "    pfa.get_agent_data(exists_ok=True, save_data=False)\n",
    "    pfa._load_agent_data_onto_inst()\n",
    "\n",
    "    pfa.pf.streamline_organizing_info()\n",
    "    pfa.pf.ax_for_corr = pfa.pf.find_relationships_from_info(normalize=False, show_plot=True)\n",
    "    pfa.pf.prepare_to_plot_stops_near_ff()\n",
    "\n",
    "    monkey_plot_params = {\n",
    "        \"show_visible_fireflies\": True,\n",
    "        \"show_in_memory_fireflies\": False,\n",
    "        \"show_monkey_heading\": True,\n",
    "        \"show_visible_segments\": True,\n",
    "        \"show_traj_portion\": False,\n",
    "        \"show_null_arcs_to_ff\": True,\n",
    "        \"show_stops\": True,\n",
    "        \"show_all_eye_positions\": False,\n",
    "        \"show_current_eye_positions\": False,\n",
    "        \"show_eye_positions_for_both_eyes\": False,\n",
    "        \"show_traj_color_as_speed\": False,\n",
    "    }\n",
    "    lots_for_stops_near_ff_in_plotly(current_i, max_num_plot_to_make=10,\n",
    "                                                    **monkey_plot_params \n",
    "                                                    )\n",
    "    dict_of_class_instances[num_ff] = copy.deepcopy(pfa)"
   ]
  },
  {
   "cell_type": "markdown",
   "metadata": {},
   "source": [
    "### new null arc"
   ]
  },
  {
   "cell_type": "code",
   "execution_count": null,
   "metadata": {},
   "outputs": [],
   "source": [
    "pfa.pf.cur_curv_df.columns"
   ]
  },
  {
   "cell_type": "code",
   "execution_count": null,
   "metadata": {},
   "outputs": [],
   "source": [
    "'curvature_lower_bound',\n",
    "'curvature_upper_bound', 'opt_arc_curv',\n",
    "'opt_arc_end_direction', 'opt_arc_radius',\n",
    "'curv_diff', 'abs_curv_diff\n",
    "# the above is not changed\n",
    "\n",
    "\n",
    "# but only the below is changed\n",
    "'opt_arc_measure', 'opt_arc_length', \n",
    "'opt_arc_end_x', 'opt_arc_end_y',\n",
    "'opt_arc_d_heading'\n"
   ]
  },
  {
   "cell_type": "code",
   "execution_count": null,
   "metadata": {},
   "outputs": [],
   "source": [
    "heading_info_df = build_factor_comp.process_heading_info_df(pfa.pf.heading_info_df)"
   ]
  },
  {
   "cell_type": "code",
   "execution_count": null,
   "metadata": {},
   "outputs": [],
   "source": [
    "heading_info_df['diff_in_abs_angle_to_nxt_ff'].median()"
   ]
  },
  {
   "cell_type": "markdown",
   "metadata": {},
   "source": [
    "## plot all_ref_pooled_median_info"
   ]
  },
  {
   "cell_type": "markdown",
   "metadata": {},
   "source": [
    "### monkey"
   ]
  },
  {
   "cell_type": "code",
   "execution_count": null,
   "metadata": {},
   "outputs": [],
   "source": [
    "ps = monkey_plan_factors_x_sess_class.PlanAcrossSessions(monkey_name='monkey_Schro')\n",
    "all_ref_pooled_median_info = ps.make_or_retrieve_all_ref_pooled_median_info()\n",
    "monkey_median_df = all_ref_pooled_median_info.copy()"
   ]
  },
  {
   "cell_type": "markdown",
   "metadata": {},
   "source": [
    "### agent"
   ]
  },
  {
   "cell_type": "code",
   "execution_count": null,
   "metadata": {},
   "outputs": [],
   "source": [
    "all_ref_pooled_median_info = pfas.all_ref_pooled_median_info.copy()\n",
    "agent_all_ref_pooled_median_info = all_ref_pooled_median_info"
   ]
  },
  {
   "cell_type": "markdown",
   "metadata": {},
   "source": [
    "### plot"
   ]
  },
  {
   "cell_type": "code",
   "execution_count": null,
   "metadata": {},
   "outputs": [],
   "source": [
    "new_all_ref_pooled_median_info = process_variations_utils.make_new_df_for_plotly_comparison(all_ref_pooled_median_info)"
   ]
  },
  {
   "cell_type": "code",
   "execution_count": null,
   "metadata": {},
   "outputs": [],
   "source": [
    "10/45"
   ]
  },
  {
   "cell_type": "code",
   "execution_count": null,
   "metadata": {},
   "outputs": [],
   "source": [
    "x_var_column_list = ['ref_point_value']\n",
    "\n",
    "fixed_variable_values_to_use = {'whether_even_out_dist': True\n",
    "                                # 'max_curv_range': 200,\n",
    "                                # 'whether_filter_info': True,\n",
    "}\n",
    "\n",
    "changeable_variables = []\n",
    "\n",
    "\n",
    "columns_to_find_unique_combinations_for_color = ['key_for_split']\n",
    "columns_to_find_unique_combinations_for_line = []\n",
    "\n",
    "fig = plot_variations_utils.streamline_making_plotly_plot_to_compare_two_sets_of_data(new_all_ref_pooled_median_info, \n",
    "                                                            fixed_variable_values_to_use,\n",
    "                                                            changeable_variables,\n",
    "                                                            x_var_column_list,\n",
    "                                                            y_var_column='diff_in_abs_angle_to_nxt_ff_median',\n",
    "                                                            # var_to_determine_x_offset_direction=None,\n",
    "                                                            var_to_determine_x_offset_direction='test_or_control',\n",
    "                                                            columns_to_find_unique_combinations_for_color=columns_to_find_unique_combinations_for_color,\n",
    "                                                            columns_to_find_unique_combinations_for_line=columns_to_find_unique_combinations_for_line)"
   ]
  },
  {
   "cell_type": "markdown",
   "metadata": {},
   "source": [
    "### compare (monkey and agent)"
   ]
  },
  {
   "cell_type": "code",
   "execution_count": null,
   "metadata": {},
   "outputs": [],
   "source": [
    "both_players_df = compare_monkey_and_agent_utils.make_both_players_df(monkey_median_df, agent_all_ref_pooled_median_info)\n",
    "median_new_df = process_variations_utils.make_new_df_for_plotly_comparison(both_players_df, \n",
    "                                                                 match_rows_based_on_ref_columns_only=False)"
   ]
  },
  {
   "cell_type": "code",
   "execution_count": null,
   "metadata": {},
   "outputs": [],
   "source": [
    "x_var_column_list = ['ref_point_value']\n",
    "\n",
    "fixed_variable_values_to_use = {'whether_even_out_dist': True}\n",
    "\n",
    "changeable_variables = []\n",
    "\n",
    "columns_to_find_unique_combinations_for_color = ['monkey_or_agent']\n",
    "columns_to_find_unique_combinations_for_line = []\n",
    "\n",
    "fig = plot_variations_utils.streamline_making_plotly_plot_to_compare_two_sets_of_data(median_new_df, \n",
    "                                                            fixed_variable_values_to_use,\n",
    "                                                            changeable_variables,\n",
    "                                                            x_var_column_list,\n",
    "                                                            y_var_column='diff_in_abs_angle_to_nxt_ff_median',\n",
    "                                                            var_to_determine_x_offset_direction='test_or_control',\n",
    "                                                            columns_to_find_unique_combinations_for_color=columns_to_find_unique_combinations_for_color,\n",
    "                                                            columns_to_find_unique_combinations_for_line=columns_to_find_unique_combinations_for_line)\n"
   ]
  },
  {
   "cell_type": "markdown",
   "metadata": {},
   "source": [
    "## pooled_perc_info"
   ]
  },
  {
   "cell_type": "markdown",
   "metadata": {},
   "source": [
    "### monkey"
   ]
  },
  {
   "cell_type": "code",
   "execution_count": null,
   "metadata": {},
   "outputs": [],
   "source": [
    "ps = monkey_plan_factors_x_sess_class.PlanAcrossSessions(monkey_name='monkey_Schro')\n",
    "pooled_perc_info = ps.make_or_retrieve_pooled_perc_info()\n",
    "monkey_perc_df = pooled_perc_info.copy()"
   ]
  },
  {
   "cell_type": "markdown",
   "metadata": {},
   "source": [
    "### agent"
   ]
  },
  {
   "cell_type": "code",
   "execution_count": null,
   "metadata": {},
   "outputs": [],
   "source": [
    "agent_pooled_perc_info = pooled_perc_info.copy()\n"
   ]
  },
  {
   "cell_type": "markdown",
   "metadata": {},
   "source": [
    "### plot"
   ]
  },
  {
   "cell_type": "code",
   "execution_count": null,
   "metadata": {},
   "outputs": [],
   "source": [
    "new_perc_df = process_variations_utils.make_new_df_for_plotly_comparison(pooled_perc_info, \n",
    "                                                                 match_rows_based_on_ref_columns_only=False)"
   ]
  },
  {
   "cell_type": "code",
   "execution_count": null,
   "metadata": {},
   "outputs": [],
   "source": [
    "x_var_column_list = ['key_for_split']\n",
    "\n",
    "fixed_variable_values_to_use = {'if_test_nxt_ff_group_appear_after_stop': 'flexible',\n",
    "}\n",
    "\n",
    "changeable_variables = []\n",
    "\n",
    "columns_to_find_unique_combinations_for_color = ['whether_even_out_dist']\n",
    "\n",
    "fig = plot_variations_utils.streamline_making_plotly_plot_to_compare_two_sets_of_data(new_perc_df, \n",
    "                                                            fixed_variable_values_to_use,\n",
    "                                                            changeable_variables,\n",
    "                                                            x_var_column_list,\n",
    "                                                            y_var_column='perc',\n",
    "                                                            var_to_determine_x_offset_direction='test_or_control',\n",
    "                                                            columns_to_find_unique_combinations_for_color=columns_to_find_unique_combinations_for_color)"
   ]
  },
  {
   "cell_type": "markdown",
   "metadata": {},
   "source": [
    "### compare (monkey and agent)"
   ]
  },
  {
   "cell_type": "code",
   "execution_count": null,
   "metadata": {},
   "outputs": [],
   "source": [
    "both_players_df = compare_monkey_and_agent_utils.make_both_players_df(monkey_perc_df, agent_pooled_perc_info)\n",
    "perc_new_df = process_variations_utils.make_new_df_for_plotly_comparison(both_players_df, \n",
    "                                                                 match_rows_based_on_ref_columns_only=False)"
   ]
  },
  {
   "cell_type": "code",
   "execution_count": null,
   "metadata": {},
   "outputs": [],
   "source": [
    "x_var_column_list = ['key_for_split']\n",
    "\n",
    "fixed_variable_values_to_use = {'whether_even_out_dist': True}\n",
    "\n",
    "changeable_variables = [] #'ref_point_value'\n",
    "\n",
    "columns_to_find_unique_combinations_for_color = ['monkey_or_agent']\n",
    "columns_to_find_unique_combinations_for_line = []\n",
    "\n",
    "fig = plot_variations_utils.streamline_making_plotly_plot_to_compare_two_sets_of_data(perc_new_df, \n",
    "                                                            fixed_variable_values_to_use,\n",
    "                                                            changeable_variables,\n",
    "                                                            x_var_column_list,\n",
    "                                                            y_var_column='perc',\n",
    "                                                            var_to_determine_x_offset_direction='test_or_control',\n",
    "                                                            columns_to_find_unique_combinations_for_color=columns_to_find_unique_combinations_for_color,\n",
    "                                                            columns_to_find_unique_combinations_for_line=columns_to_find_unique_combinations_for_line)\n"
   ]
  },
  {
   "cell_type": "markdown",
   "metadata": {},
   "source": [
    "# Across agents"
   ]
  },
  {
   "cell_type": "markdown",
   "metadata": {},
   "source": [
    "## get agent data"
   ]
  },
  {
   "cell_type": "code",
   "execution_count": null,
   "metadata": {},
   "outputs": [],
   "source": [
    "overall_folder_name = 'multiff_analysis/RL_models/SB3_stored_models/all_agents/env1_test_params'\n",
    "#overall_folder_name = 'multiff_analysis/RL_models/SB3_stored_models/all_agents/env1_relu'"
   ]
  },
  {
   "cell_type": "code",
   "execution_count": null,
   "metadata": {},
   "outputs": [],
   "source": [
    "gc.collect()"
   ]
  },
  {
   "cell_type": "code",
   "execution_count": null,
   "metadata": {},
   "outputs": [],
   "source": [
    "monkey_plot_params = {\n",
    "    \"show_visible_fireflies\": True,\n",
    "    \"show_in_memory_fireflies\": False,\n",
    "    \"show_monkey_heading\": True,\n",
    "    \"show_visible_segments\": True,\n",
    "    \"show_traj_portion\": False,\n",
    "    \"show_null_arcs_to_ff\": True,\n",
    "    \"show_stops\": True,\n",
    "    \"show_all_eye_positions\": False,\n",
    "    \"show_current_eye_positions\": False,\n",
    "    \"show_eye_positions_for_both_eyes\": False,\n",
    "    \"show_traj_color_as_speed\": False,\n",
    "}"
   ]
  },
  {
   "cell_type": "code",
   "execution_count": null,
   "metadata": {},
   "outputs": [],
   "source": [
    "pfaa = agent_plan_factors_x_agents_class.PlanFactorsAcrossAgents(overall_folder_name=overall_folder_name)\n",
    "pfaa.make_all_ref_pooled_median_info_across_agents_AND_pooled_perc_info_across_agents(exists_ok=True,\n",
    "                                                                                intermediate_products_exist_ok=True,\n",
    "                                                                                agent_data_exists_ok=True,\n",
    "                                                                                )\n",
    "all_ref_pooled_median_info_across_agents = pfaa.all_ref_pooled_median_info_across_agents.copy()\n",
    "pooled_perc_info_across_agents = pfaa.pooled_perc_info_across_agents.copy()\n"
   ]
  },
  {
   "cell_type": "markdown",
   "metadata": {},
   "source": [
    "## get monkey data"
   ]
  },
  {
   "cell_type": "code",
   "execution_count": null,
   "metadata": {},
   "outputs": [],
   "source": [
    "ps = monkey_plan_factors_x_sess_class.PlanAcrossSessions(monkey_name='monkey_Bruno')\n",
    "all_ref_pooled_median_info = ps.make_or_retrieve_all_ref_pooled_median_info()\n",
    "monkey_median_df = all_ref_pooled_median_info.copy()\n",
    "\n",
    "pooled_perc_info = ps.make_or_retrieve_pooled_perc_info()\n",
    "\n",
    "monkey_perc_df = pooled_perc_info.copy()"
   ]
  },
  {
   "cell_type": "markdown",
   "metadata": {},
   "source": [
    "# compare agent and monkey"
   ]
  },
  {
   "cell_type": "markdown",
   "metadata": {},
   "source": [
    "## plot all_ref_pooled_median_info_across_agents"
   ]
  },
  {
   "cell_type": "code",
   "execution_count": null,
   "metadata": {},
   "outputs": [],
   "source": [
    "monkey_median_df['id'] = 'monkey'\n",
    "ref_pooled_median_info_across_agents = pd.concat([all_ref_pooled_median_info_across_agents, monkey_median_df], axis=0)\n",
    "# drop columns with na in ref_pooled_median_info_across_agents\n",
    "ref_pooled_median_info_across_agents = ref_pooled_median_info_across_agents.dropna(axis=1, how='any')\n",
    "\n",
    "ref_pooled_median_info_across_agents = ref_pooled_median_info_across_agents[ref_pooled_median_info_across_agents['id'].isin(['monkey', 'ff3_mem3_costT'])]\n",
    "ref_pooled_median_info_across_agents.loc[ref_pooled_median_info_across_agents['id']=='ff3_mem3_costT', 'id'] = 'agent'\n",
    "\n",
    "new_all_ref_pooled_median_info_across_agents = process_variations_utils.make_new_df_for_plotly_comparison(ref_pooled_median_info_across_agents)"
   ]
  },
  {
   "cell_type": "code",
   "execution_count": null,
   "metadata": {},
   "outputs": [],
   "source": [
    "x_var_column_list = ['ref_point_value']\n",
    "\n",
    "fixed_variable_values_to_use = {\n",
    "                                #'whether_even_out_dist': True,\n",
    "                                'key_for_split': 'cluster_seen',\n",
    "                                'if_test_nxt_ff_group_appear_after_stop': 'flexible',\n",
    "                                # 'max_curv_range': 200,\n",
    "                                # 'whether_filter_info': True,\n",
    "}\n",
    "\n",
    "changeable_variables = ['whether_even_out_dist']\n",
    "\n",
    "columns_to_find_unique_combinations_for_color = ['id']\n",
    "columns_to_find_unique_combinations_for_line = []\n",
    "\n",
    "\n",
    "fig = plot_variations_utils.streamline_making_plotly_plot_to_compare_two_sets_of_data(new_all_ref_pooled_median_info_across_agents, \n",
    "                                                            fixed_variable_values_to_use,\n",
    "                                                            changeable_variables,\n",
    "                                                            x_var_column_list,\n",
    "                                                            y_var_column='diff_in_abs_angle_to_nxt_ff_median',\n",
    "                                                            #var_to_determine_x_offset_direction=None,\n",
    "                                                            var_to_determine_x_offset_direction='test_or_control',\n",
    "                                                            columns_to_find_unique_combinations_for_color=columns_to_find_unique_combinations_for_color,\n",
    "                                                            columns_to_find_unique_combinations_for_line=columns_to_find_unique_combinations_for_line)"
   ]
  },
  {
   "cell_type": "markdown",
   "metadata": {},
   "source": [
    "## plot all_agent_perc_df"
   ]
  },
  {
   "cell_type": "code",
   "execution_count": null,
   "metadata": {},
   "outputs": [],
   "source": [
    "monkey_perc_df['id'] = 'monkey'\n",
    "temp_pooled_perc_info_across_agents = pd.concat([pooled_perc_info_across_agents, monkey_perc_df], axis=0)\n",
    "\n",
    "temp_pooled_perc_info_across_agents = temp_pooled_perc_info_across_agents.dropna(axis=1, how='any')\n",
    "\n",
    "temp_pooled_perc_info_across_agents = temp_pooled_perc_info_across_agents[temp_pooled_perc_info_across_agents['id'].isin(['monkey', 'ff3_mem3_costT'])]\n",
    "temp_pooled_perc_info_across_agents.loc[temp_pooled_perc_info_across_agents['id']=='ff3_mem3_costT', 'id'] = 'agent'\n",
    "\n",
    "new_pooled_perc_info_across_agents = process_variations_utils.make_new_df_for_plotly_comparison(temp_pooled_perc_info_across_agents, \n",
    "                                                                 match_rows_based_on_ref_columns_only=False)"
   ]
  },
  {
   "cell_type": "code",
   "execution_count": null,
   "metadata": {},
   "outputs": [],
   "source": [
    "x_var_column_list = ['whether_even_out_dist']\n",
    "\n",
    "fixed_variable_values_to_use = {'if_test_nxt_ff_group_appear_after_stop': 'flexible',\n",
    "                                'key_for_split': 'ff_seen',\n",
    "                                #'whether_even_out_dist': True,\n",
    "}\n",
    "\n",
    "changeable_variables = []\n",
    "\n",
    "columns_to_find_unique_combinations_for_color = ['id']\n",
    "\n",
    "fig = plot_variations_utils.streamline_making_plotly_plot_to_compare_two_sets_of_data(new_pooled_perc_info_across_agents, \n",
    "                                                            fixed_variable_values_to_use,\n",
    "                                                            changeable_variables,\n",
    "                                                            x_var_column_list,\n",
    "                                                            y_var_column='perc',\n",
    "                                                            var_to_determine_x_offset_direction='test_or_control',\n",
    "                                                            columns_to_find_unique_combinations_for_color=columns_to_find_unique_combinations_for_color)"
   ]
  },
  {
   "cell_type": "markdown",
   "metadata": {},
   "source": [
    "# compare agents"
   ]
  },
  {
   "cell_type": "markdown",
   "metadata": {},
   "source": [
    "## plot all_agent_median_df"
   ]
  },
  {
   "cell_type": "markdown",
   "metadata": {},
   "source": [
    "### env1_relu"
   ]
  },
  {
   "cell_type": "code",
   "execution_count": null,
   "metadata": {},
   "outputs": [],
   "source": [
    "only_agent_all_ref_pooled_median_info = process_variations_utils.make_new_df_for_plotly_comparison(all_ref_pooled_median_info_across_agents)"
   ]
  },
  {
   "cell_type": "code",
   "execution_count": null,
   "metadata": {},
   "outputs": [],
   "source": [
    "\n",
    "x_var_column_list = ['num_obs_ff']\n",
    "\n",
    "fixed_variable_values_to_use = {\n",
    "                                #'whether_even_out_dist': True,\n",
    "                                'key_for_split': 'cluster_seen',\n",
    "                                'if_test_nxt_ff_group_appear_after_stop': 'flexible',\n",
    "                                #'max_in_memory_time': 3,\n",
    "                                #'whether_with_cost': 'no_cost',\n",
    "                                # 'max_curv_range': 200,\n",
    "                                # 'whether_filter_info': True,\n",
    "}\n",
    "\n",
    "changeable_variables = ['ref_point_value', 'whether_even_out_dist', 'whether_with_cost']\n",
    "\n",
    "columns_to_find_unique_combinations_for_color = ['max_in_memory_time']\n",
    "columns_to_find_unique_combinations_for_line = []\n",
    "\n",
    "\n",
    "fig = plot_variations_utils.streamline_making_plotly_plot_to_compare_two_sets_of_data(only_agent_all_ref_pooled_median_info, \n",
    "                                                            fixed_variable_values_to_use,\n",
    "                                                            changeable_variables,\n",
    "                                                            x_var_column_list,\n",
    "                                                            y_var_column='diff_in_abs_angle_to_nxt_ff_median',\n",
    "                                                            #var_to_determine_x_offset_direction=None,\n",
    "                                                            var_to_determine_x_offset_direction='test_or_control',\n",
    "                                                            columns_to_find_unique_combinations_for_color=columns_to_find_unique_combinations_for_color,\n",
    "                                                            columns_to_find_unique_combinations_for_line=columns_to_find_unique_combinations_for_line)"
   ]
  },
  {
   "cell_type": "markdown",
   "metadata": {},
   "source": [
    "### env1_test_params"
   ]
  },
  {
   "cell_type": "code",
   "execution_count": null,
   "metadata": {},
   "outputs": [],
   "source": [
    "overall_folder_name = 'multiff_analysis/RL_models/SB3_stored_models/all_agents/env1_test_params'"
   ]
  },
  {
   "cell_type": "code",
   "execution_count": null,
   "metadata": {},
   "outputs": [],
   "source": [
    "monkey_plot_params = {\n",
    "    \"show_visible_fireflies\": True,\n",
    "    \"show_in_memory_fireflies\": False,\n",
    "    \"show_monkey_heading\": True,\n",
    "    \"show_visible_segments\": True,\n",
    "    \"show_traj_portion\": False,\n",
    "    \"show_null_arcs_to_ff\": True,\n",
    "    \"show_stops\": True,\n",
    "    \"show_all_eye_positions\": False,\n",
    "    \"show_current_eye_positions\": False,\n",
    "    \"show_eye_positions_for_both_eyes\": False,\n",
    "    \"show_traj_color_as_speed\": False,\n",
    "}"
   ]
  },
  {
   "cell_type": "code",
   "execution_count": null,
   "metadata": {},
   "outputs": [],
   "source": [
    "pfaa =agent_plan_factors_x_agents_class.PlanFactorsAcrossAgents(overall_folder_name=overall_folder_name)\n",
    "pfaa.make_all_ref_pooled_median_info_across_agents_AND_pooled_perc_info_across_agents(exists_ok=True,\n",
    "                                                                                intermediate_products_exist_ok=True,\n",
    "                                                                                agent_data_exists_ok=True,\n",
    "                                                                                )\n",
    "all_ref_pooled_median_info_across_agents = pfaa.all_ref_pooled_median_info_across_agents.copy()\n",
    "pooled_perc_info_across_agents = pfaa.pooled_perc_info_across_agents.copy()\n"
   ]
  },
  {
   "cell_type": "code",
   "execution_count": null,
   "metadata": {},
   "outputs": [],
   "source": [
    "only_agent_all_ref_pooled_median_info = process_variations_utils.make_new_df_for_plotly_comparison(all_ref_pooled_median_info_across_agents)"
   ]
  },
  {
   "cell_type": "code",
   "execution_count": null,
   "metadata": {},
   "outputs": [],
   "source": [
    "\n",
    "x_var_column_list = ['dw_cost_factor']\n",
    "\n",
    "fixed_variable_values_to_use = {\n",
    "                                #'whether_even_out_dist': True,\n",
    "                                'key_for_split': 'cluster_seen',\n",
    "                                'if_test_nxt_ff_group_appear_after_stop': 'flexible',\n",
    "                                #'max_in_memory_time': 3,\n",
    "                                #'whether_with_cost': 'no_cost',\n",
    "                                # 'max_curv_range': 200,\n",
    "                                # 'whether_filter_info': True,\n",
    "}\n",
    "\n",
    "changeable_variables = ['ref_point_value', 'whether_even_out_dist']\n",
    "\n",
    "columns_to_find_unique_combinations_for_color = ['num_obs_ff']\n",
    "columns_to_find_unique_combinations_for_line = []\n",
    "\n",
    "\n",
    "fig = plot_variations_utils.streamline_making_plotly_plot_to_compare_two_sets_of_data(only_agent_all_ref_pooled_median_info, \n",
    "                                                            fixed_variable_values_to_use,\n",
    "                                                            changeable_variables,\n",
    "                                                            x_var_column_list,\n",
    "                                                            y_var_column='diff_in_abs_angle_to_nxt_ff_median',\n",
    "                                                            #var_to_determine_x_offset_direction=None,\n",
    "                                                            var_to_determine_x_offset_direction='test_or_control',\n",
    "                                                            columns_to_find_unique_combinations_for_color=columns_to_find_unique_combinations_for_color,\n",
    "                                                            columns_to_find_unique_combinations_for_line=columns_to_find_unique_combinations_for_line)"
   ]
  },
  {
   "cell_type": "markdown",
   "metadata": {},
   "source": [
    "## plot pooled_perc_info_across_agents"
   ]
  },
  {
   "cell_type": "code",
   "execution_count": null,
   "metadata": {},
   "outputs": [],
   "source": [
    "only_agent_pooled_perc_info = process_variations_utils.make_new_df_for_plotly_comparison(pooled_perc_info_across_agents, \n",
    "                                                                 match_rows_based_on_ref_columns_only=False)"
   ]
  },
  {
   "cell_type": "code",
   "execution_count": null,
   "metadata": {},
   "outputs": [],
   "source": [
    "x_var_column_list = ['dw_cost_factor']\n",
    "\n",
    "fixed_variable_values_to_use = {'if_test_nxt_ff_group_appear_after_stop': 'flexible',\n",
    "                                'key_for_split': 'ff_seen',\n",
    "                                'whether_even_out_dist': True,\n",
    "}\n",
    "\n",
    "changeable_variables = []\n",
    "\n",
    "columns_to_find_unique_combinations_for_color = ['max_in_memory_time']\n",
    "columns_to_find_unique_combinations_for_line = []\n",
    "\n",
    "\n",
    "fig = plot_variations_utils.streamline_making_plotly_plot_to_compare_two_sets_of_data(only_agent_pooled_perc_info, \n",
    "                                                            fixed_variable_values_to_use,\n",
    "                                                            changeable_variables,\n",
    "                                                            x_var_column_list,\n",
    "                                                            y_var_column='perc',\n",
    "                                                            var_to_determine_x_offset_direction='test_or_control',\n",
    "                                                            columns_to_find_unique_combinations_for_color=columns_to_find_unique_combinations_for_color)"
   ]
  },
  {
   "cell_type": "code",
   "execution_count": null,
   "metadata": {},
   "outputs": [],
   "source": [
    "only_agent_pooled_perc_info['id'].unique()"
   ]
  },
  {
   "cell_type": "code",
   "execution_count": null,
   "metadata": {},
   "outputs": [],
   "source": [
    "x_var_column_list = ['num_obs_ff']\n",
    "\n",
    "fixed_variable_values_to_use = {'if_test_nxt_ff_group_appear_after_stop': 'flexible',\n",
    "                                'key_for_split': 'ff_seen',\n",
    "                                'whether_even_out_dist': True,\n",
    "}\n",
    "\n",
    "changeable_variables = ['whether_with_cost']\n",
    "\n",
    "columns_to_find_unique_combinations_for_color = ['max_in_memory_time']\n",
    "columns_to_find_unique_combinations_for_line = []\n",
    "\n",
    "\n",
    "fig = plot_variations_utils.streamline_making_plotly_plot_to_compare_two_sets_of_data(only_agent_pooled_perc_info, \n",
    "                                                            fixed_variable_values_to_use,\n",
    "                                                            changeable_variables,\n",
    "                                                            x_var_column_list,\n",
    "                                                            y_var_column='perc',\n",
    "                                                            var_to_determine_x_offset_direction='test_or_control',\n",
    "                                                            columns_to_find_unique_combinations_for_color=columns_to_find_unique_combinations_for_color)"
   ]
  },
  {
   "cell_type": "markdown",
   "metadata": {},
   "source": [
    "# For debugging"
   ]
  },
  {
   "cell_type": "code",
   "execution_count": null,
   "metadata": {},
   "outputs": [],
   "source": [
    "ref_point_value = 0.1\n",
    "ff_info = la.cur_ff_df\n",
    "point_index_cur_ff_first_seen = la.cur_ff_df['point_index_ff_first_seen'].values        \n",
    "all_time = la.monkey_information.loc[point_index_cur_ff_first_seen, 'time'].values + ref_point_value\n",
    "new_point_index = la.monkey_information['point_index'].values[np.searchsorted(la.monkey_information['time'].values, all_time, side='right') - 1]\n",
    "ff_info2 = find_cvn_utils.find_ff_info(ff_info.ff_index.values, new_point_index, la.monkey_information, la.ff_real_position_sorted)\n",
    "ff_info2['stop_point_index'] = ff_info['stop_point_index'].values"
   ]
  },
  {
   "cell_type": "code",
   "execution_count": null,
   "metadata": {},
   "outputs": [],
   "source": [
    "values = la.monkey_information.loc[point_index_cur_ff_first_seen, 'time'].values + ref_point_value"
   ]
  },
  {
   "cell_type": "code",
   "execution_count": null,
   "metadata": {},
   "outputs": [],
   "source": [
    "\n",
    "# pfaa.pfas.pfa.pf.streamline_organizing_info()\n",
    "pfaa.pfas.pfa.pf._add_curvature_info()\n",
    "pfaa.pfas.pfa.pf._add_d_heading_info()\n",
    "\n",
    "\n",
    "pfaa.pfas.pfa.pf._take_out_info_counted()\n",
    "pfaa.pfas.pfa.pf._find_curv_of_traj_counted()\n",
    "pfaa.pfas.pfa.pf.find_relative_curvature()\n",
    "\n",
    "pfaa.pfas.pfa.pf.cur_and_nxt_ff_from_ref_df = pfaa.pfas.pfa.pf._make_cur_and_nxt_ff_from_ref_df()\n",
    "pfaa.pfas.pfa.pf.heading_info_df, _ = pfaa.pfas.pfa.pf.retrieve_or_make_heading_info_df()\n",
    "\n",
    "# pfaa.pfas.pfa.pf._find_relative_heading_info()\n",
    "# below is more for plotting\n",
    "pfaa.pfas.pfa.pf._find_mheading_before_stop()\n",
    "pfaa.pfas.pfa.pf.ax_for_corr = pfaa.pfas.pfa.pf.find_relationships_from_info(normalize=False, show_plot=True)\n",
    "pfaa.pfas.pfa.pf.prepare_to_plot_stops_near_ff()\n",
    "\n",
    "current_i = 10\n",
    "pfaa.pfas.pfa.pf.make_individual_plots_for_stops_near_ff_in_plotly(current_i, max_num_plot_to_make=10,\n",
    "                                        **monkey_plot_params \n",
    "                                        )"
   ]
  },
  {
   "cell_type": "code",
   "execution_count": null,
   "metadata": {},
   "outputs": [],
   "source": [
    "current_i = 1476\n",
    "pfaa.pfas.pfa.pf.make_individual_plots_for_stops_near_ff_in_plotly(current_i, max_num_plot_to_make=1,\n",
    "                                        **monkey_plot_params \n",
    "                                        )"
   ]
  }
 ],
 "metadata": {
  "kernelspec": {
   "display_name": "Python 3",
   "language": "python",
   "name": "python3"
  },
  "language_info": {
   "codemirror_mode": {
    "name": "ipython",
    "version": 3
   },
   "file_extension": ".py",
   "mimetype": "text/x-python",
   "name": "python",
   "nbconvert_exporter": "python",
   "pygments_lexer": "ipython3",
   "version": "3.9.19"
  }
 },
 "nbformat": 4,
 "nbformat_minor": 2
}
