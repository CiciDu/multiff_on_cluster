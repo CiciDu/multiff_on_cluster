{
 "cells": [
  {
   "cell_type": "markdown",
   "id": "40fde044",
   "metadata": {},
   "source": [
    "# Using Constant Marker Size\n",
    "\n",
    "To use constant marker sizes instead of sample size-based marker sizes in `plot_median_heading_across_monkeys_and_arc_types_with_difference`, add the `constant_marker_size` parameter:\n",
    "\n",
    "```python\n",
    "# Example: Use constant marker size of 12\n",
    "cma.plot_median_heading_across_monkeys_and_arc_types_with_difference(\n",
    "    x_var_column_list=x_var_column_list,\n",
    "    fixed_variable_values_to_use=fixed_variable_values_to_use,\n",
    "    changeable_variables=changeable_variables,\n",
    "    columns_to_find_unique_combinations_for_color=columns_to_find_unique_combinations_for_color,\n",
    "    constant_marker_size=12  # Set constant marker size (default is None, which uses sample size-based scaling)\n",
    ")\n",
    "```\n",
    "\n",
    "When `constant_marker_size` is set to a number, all markers will have that size regardless of sample size. When `constant_marker_size` is `None` (default), markers will be sized based on sample size as before.\n"
   ]
  },
  {
   "cell_type": "markdown",
   "id": "0",
   "metadata": {},
   "source": [
    "# Main features\n",
    "'diff_in_abs_angle_to_nxt_ff', 'diff_in_abs_d_curv', 'dir_from_cur_ff_same_side'"
   ]
  },
  {
   "cell_type": "markdown",
   "id": "1",
   "metadata": {},
   "source": [
    "# Import packages"
   ]
  },
  {
   "cell_type": "code",
   "execution_count": null,
   "id": "2",
   "metadata": {},
   "outputs": [],
   "source": [
    "%load_ext autoreload\n",
    "%autoreload 2\n",
    "\n",
    "from pathlib import Path\n",
    "import os, sys\n",
    "for p in [Path.cwd()] + list(Path.cwd().parents):\n",
    "    if p.name == 'Multifirefly-Project':\n",
    "        os.chdir(p)\n",
    "        sys.path.insert(0, str(p / 'multiff_analysis/multiff_code/methods'))\n",
    "        break\n",
    "\n",
    "\n",
    "from pattern_discovery import monkey_landing_in_ff\n",
    "from machine_learning.ml_methods import regression_utils, classification_utils, prep_ml_data_utils\n",
    "from visualization.matplotlib_tools import plot_trials\n",
    "from planning_analysis.show_planning import examine_null_arcs\n",
    "from planning_analysis.show_planning.cur_vs_nxt_ff import cvn_from_ref_class\n",
    "from planning_analysis.only_cur_ff import only_cur_ff_x_sess_class\n",
    "from planning_analysis.plan_factors import plan_factors_utils, build_factor_comp, plan_factors_class, monkey_plan_factors_x_sess_class\n",
    "from planning_analysis.agent_analysis import compare_monkey_and_agent_utils, agent_plan_factors_x_sess_class, cmp_monkey_agent_plan_class\n",
    "from machine_learning.ml_methods import ml_methods_class, prep_ml_data_utils\n",
    "from planning_analysis.plan_factors import monkey_plan_factors_x_sess_class, monkey_plan_factors_x_sess_class\n",
    "from planning_analysis.factors_vs_indicators import make_variations_utils, process_variations_utils\n",
    "from planning_analysis.factors_vs_indicators import make_variations_utils, predict_y_values_class, compare_y_values_class, variations_base_class\n",
    "from planning_analysis.factors_vs_indicators.plot_plan_indicators import plot_variations_class, plot_variations_utils, parent_assembler\n",
    "\n",
    "import numpy as np\n",
    "import matplotlib\n",
    "import matplotlib.pyplot as plt\n",
    "import seaborn as sns\n",
    "import matplotlib.pyplot as plt\n",
    "import pandas as pd\n",
    "from matplotlib import rc\n",
    "import os, sys\n",
    "from importlib import reload\n",
    "\n",
    "plt.rcParams[\"animation.html\"] = \"html5\"\n",
    "os.environ['KMP_DUPLICATE_LIB_OK']='True'\n",
    "rc('animation', html='jshtml')\n",
    "matplotlib.rcParams.update(matplotlib.rcParamsDefault)\n",
    "matplotlib.rcParams['animation.embed_limit'] = 2**128\n",
    "pd.set_option('display.float_format', lambda x: '%.5f' % x)\n",
    "np.set_printoptions(suppress=True)\n",
    "pd.options.display.max_rows = 101"
   ]
  },
  {
   "cell_type": "code",
   "execution_count": null,
   "id": "3",
   "metadata": {},
   "outputs": [],
   "source": [
    "data_item = None\n",
    "raw_data_folder_path = \"all_monkey_data/raw_monkey_data/monkey_Bruno/data_0328\""
   ]
  },
  {
   "cell_type": "markdown",
   "id": "4",
   "metadata": {},
   "source": [
    "# run overnight"
   ]
  },
  {
   "cell_type": "markdown",
   "id": "5",
   "metadata": {},
   "source": [
    "## agent"
   ]
  },
  {
   "cell_type": "code",
   "execution_count": null,
   "id": "6",
   "metadata": {},
   "outputs": [],
   "source": [
    "# exists_ok = True\n",
    "# for opt_arc_type in ['norm_opt_arc', 'opt_arc_stop_closest', 'opt_arc_stop_first_vis_bdry']:\n",
    "#     pfas = agent_plan_factors_x_sess_class.PlanFactorsAcrossAgentSessions(num_steps_per_dataset=5000,\n",
    "#                                                                         opt_arc_type = opt_arc_type)\n",
    "#     agent_all_ref_pooled_median_info = pfas.make_or_retrieve_all_ref_pooled_median_info(exists_ok=exists_ok)\n",
    "#     agent_all_perc_df = pfas.make_or_retrieve_pooled_perc_info(exists_ok=exists_ok)\n",
    "\n"
   ]
  },
  {
   "cell_type": "markdown",
   "id": "7",
   "metadata": {},
   "source": [
    "## monkey"
   ]
  },
  {
   "cell_type": "code",
   "execution_count": null,
   "id": "8",
   "metadata": {},
   "outputs": [],
   "source": [
    "exists_ok = True\n",
    "list_of_curv_traj_window_before_stop = [[-25, 0]]\n",
    "\n",
    "for monkey_name in ['monkey_Schro', 'monkey_Bruno']:\n",
    "    for opt_arc_type in ['norm_opt_arc', 'opt_arc_stop_closest', 'opt_arc_stop_first_vis_bdry']:\n",
    "        # suppress printed output\n",
    "        # with open(os.devnull, \"w\") as f, contextlib.redirect_stdout(f):\n",
    "\n",
    "        ps = monkey_plan_factors_x_sess_class.PlanAcrossSessions(monkey_name=monkey_name, \n",
    "                                                                opt_arc_type=opt_arc_type)\n",
    "        all_ref_pooled_median_info = ps.make_or_retrieve_all_ref_pooled_median_info(exists_ok=exists_ok,\n",
    "                                                                    list_of_curv_traj_window_before_stop=list_of_curv_traj_window_before_stop,\n",
    "                                                                    )\n",
    "        pooled_perc_info = ps.make_or_retrieve_pooled_perc_info(exists_ok=exists_ok)\n",
    "        \n",
    "        # all_cur_and_nxt_lr_pred_ff_df = ps.make_or_retrieve_all_cur_and_nxt_lr_pred_ff_df(exists_ok=exists_ok)\n",
    "        # all_cur_and_nxt_lr_df = ps.make_or_retrieve_all_cur_and_nxt_lr_df(exists_ok=exists_ok)\n",
    "        # all_cur_and_nxt_clf_df = ps.make_or_retrieve_all_cur_and_nxt_clf_df()\n",
    "\n",
    "        # # # can comment out the below if not needed\n",
    "        # osfxs = only_cur_ff_x_sess_class.OnlyStopFFAcrossSessions(monkey_name=monkey_name)\n",
    "        # all_only_cur_lr_df = osfxs.make_or_retrieve_all_only_cur_lr_df(exists_ok=exists_ok)\n",
    "        # all_only_cur_ml_df = osfxs.make_or_retrieve_all_only_cur_ml_df(exists_ok=exists_ok)            "
   ]
  },
  {
   "cell_type": "markdown",
   "id": "9",
   "metadata": {},
   "source": [
    "# For PPT (but better polished below now)"
   ]
  },
  {
   "cell_type": "markdown",
   "id": "10",
   "metadata": {},
   "source": [
    "## heading"
   ]
  },
  {
   "cell_type": "code",
   "execution_count": null,
   "id": "11",
   "metadata": {},
   "outputs": [],
   "source": [
    "for monkey in ['Bruno', 'Schro']:\n",
    "\n",
    "    ps = monkey_plan_factors_x_sess_class.PlanAcrossSessions(monkey_name=f'monkey_{monkey}')\n",
    "    monkey_median_df = ps.make_or_retrieve_all_ref_pooled_median_info(exists_ok=True, \n",
    "                                                                    pooled_median_info_exists_ok=True)\n",
    "    \n",
    "    ps.plot_median_heading(monkey_median_df)\n",
    "\n",
    "\n",
    "\n",
    "    ps.fig.update_layout(\n",
    "        title=f\"{monkey}: Reference Point vs Absolute Angle Difference (Median ± 2 Bootstrap SE)\",\n",
    "        xaxis_title=\"Reference Point Value in Distance to Current FF(cm)\",\n",
    "        yaxis_title=\"Median Angle Difference to Next FF (°)\"\n",
    "    )\n",
    "        \n",
    "    ps.fig.show()"
   ]
  },
  {
   "cell_type": "code",
   "execution_count": null,
   "id": "12",
   "metadata": {},
   "outputs": [],
   "source": [
    "ps = monkey_plan_factors_x_sess_class.PlanAcrossSessions(monkey_name='monkey_Schro')\n",
    "monkey_median_df = ps.make_or_retrieve_all_ref_pooled_median_info(exists_ok=True, \n",
    "                                                                pooled_median_info_exists_ok=True)\n",
    "\n",
    "\n",
    "ps.plot_median_heading(monkey_median_df)\n",
    "\n"
   ]
  },
  {
   "cell_type": "markdown",
   "id": "13",
   "metadata": {},
   "source": [
    "## curv"
   ]
  },
  {
   "cell_type": "code",
   "execution_count": null,
   "id": "14",
   "metadata": {},
   "outputs": [],
   "source": [
    "# Difference in Curvature Across Two Arc Pairs"
   ]
  },
  {
   "cell_type": "code",
   "execution_count": null,
   "id": "15",
   "metadata": {},
   "outputs": [],
   "source": [
    "for monkey in ['Bruno', 'Schro']:\n",
    "\n",
    "    ps = monkey_plan_factors_x_sess_class.PlanAcrossSessions(monkey_name=f'monkey_{monkey}')\n",
    "    monkey_median_df = ps.make_or_retrieve_all_ref_pooled_median_info(exists_ok=True, \n",
    "                                                                    pooled_median_info_exists_ok=True)\n",
    "\n",
    "    ps.plot_median_curv(monkey_median_df)\n",
    "\n",
    "\n",
    "\n",
    "    ps.fig.update_layout(\n",
    "        title=f\"{monkey}: Reference Point vs Difference in Curvature Across Two Arc Pairs (Median ± 2 Bootstrap SE)\",\n",
    "        xaxis_title=\"Reference Point Value in Distance to Current FF (cm)\",\n",
    "        yaxis_title=\"Median Angle Difference to Next FF\"\n",
    "    )\n",
    "        \n",
    "\n",
    "    ps.fig.show()"
   ]
  },
  {
   "cell_type": "markdown",
   "id": "16",
   "metadata": {},
   "source": [
    "## perc"
   ]
  },
  {
   "cell_type": "code",
   "execution_count": null,
   "id": "17",
   "metadata": {},
   "outputs": [],
   "source": [
    "for monkey in ['Bruno', 'Schro']:\n",
    "    ps = monkey_plan_factors_x_sess_class.PlanAcrossSessions(monkey_name=f'monkey_{monkey}')\n",
    "    monkey_perc_df = ps.make_or_retrieve_pooled_perc_info(exists_ok=True)\n",
    "    ps.plot_same_side_percentage()\n",
    "    \n",
    "\n",
    "\n",
    "    ps.fig.update_layout(\n",
    "                    title=dict(\n",
    "                    text=f\"{monkey}: Same-Side Stop Rate\",\n",
    "                    x=0.5,         # center title\n",
    "                    y=0.95,        # a little below the top edge\n",
    "                    xanchor=\"center\",\n",
    "                    yanchor=\"top\",\n",
    "                    font=dict(size=18)\n",
    "                ),\n",
    "        yaxis=dict(\n",
    "            ticksuffix=\"%\",   # just add % symbol to numbers\n",
    "            title=\"Percentage (Median ± 2 Bootstrap SE)\"\n",
    "        )\n",
    "    )\n",
    "    ps.fig.show()"
   ]
  },
  {
   "cell_type": "markdown",
   "id": "18",
   "metadata": {},
   "source": [
    "# single monkey & arc type"
   ]
  },
  {
   "cell_type": "markdown",
   "id": "19",
   "metadata": {},
   "source": [
    "## heading"
   ]
  },
  {
   "cell_type": "code",
   "execution_count": null,
   "id": "20",
   "metadata": {},
   "outputs": [],
   "source": [
    "ps = monkey_plan_factors_x_sess_class.PlanAcrossSessions(monkey_name='monkey_Schro')\n",
    "monkey_median_df = ps.make_or_retrieve_all_ref_pooled_median_info(exists_ok=True, \n",
    "                                                                pooled_median_info_exists_ok=True)\n",
    "\n",
    "\n",
    "\n",
    "ps.plot_median_heading(monkey_median_df, is_difference=False)\n",
    "ps.fig\n"
   ]
  },
  {
   "cell_type": "markdown",
   "id": "21",
   "metadata": {},
   "source": [
    "## curv"
   ]
  },
  {
   "cell_type": "code",
   "execution_count": null,
   "id": "22",
   "metadata": {},
   "outputs": [],
   "source": [
    "# Difference in Curvature Across Two Arc Pairs"
   ]
  },
  {
   "cell_type": "code",
   "execution_count": null,
   "id": "23",
   "metadata": {},
   "outputs": [],
   "source": [
    "ps = monkey_plan_factors_x_sess_class.PlanAcrossSessions(monkey_name='monkey_Schro')\n",
    "monkey_median_df = ps.make_or_retrieve_all_ref_pooled_median_info(exists_ok=True, \n",
    "                                                                pooled_median_info_exists_ok=True)\n",
    "ps.plot_median_curv()\n",
    "\n"
   ]
  },
  {
   "cell_type": "markdown",
   "id": "24",
   "metadata": {},
   "source": [
    "## perc"
   ]
  },
  {
   "cell_type": "code",
   "execution_count": null,
   "id": "25",
   "metadata": {},
   "outputs": [],
   "source": [
    "ps = monkey_plan_factors_x_sess_class.PlanAcrossSessions(monkey_name='monkey_Schro')\n",
    "monkey_perc_df = ps.make_or_retrieve_pooled_perc_info(exists_ok=True)\n",
    "ps.plot_same_side_percentage()\n"
   ]
  },
  {
   "cell_type": "markdown",
   "id": "26",
   "metadata": {},
   "source": [
    "## example of changing plotting parameters"
   ]
  },
  {
   "cell_type": "code",
   "execution_count": null,
   "id": "27",
   "metadata": {},
   "outputs": [],
   "source": [
    "ps = monkey_plan_factors_x_sess_class.PlanAcrossSessions(monkey_name='monkey_Schro')\n",
    "monkey_median_df = ps.make_or_retrieve_all_ref_pooled_median_info(exists_ok=True, \n",
    "                                                           pooled_median_info_exists_ok=True)\n",
    "\n",
    "x_var_column_list = ['curv_traj_window_before_stop']\n",
    "\n",
    "fixed_variable_values_to_use = {\n",
    "                                #'whether_even_out_dist': True\n",
    "                                # 'max_curv_range': 200,\n",
    "                                # 'whether_filter_info': True,\n",
    "                                'if_test_nxt_ff_group_appear_after_stop': 'flexible',\n",
    "                                'key_for_split': 'ff_seen',\n",
    "                                #'whether_even_out_dist': False,\n",
    "}\n",
    "\n",
    "changeable_variables = ['whether_even_out_dist']\n",
    "\n",
    "\n",
    "columns_to_find_unique_combinations_for_color = []\n",
    "columns_to_find_unique_combinations_for_line = []\n",
    "\n",
    "\n",
    "ps.plot_median_heading(x_var_column_list=x_var_column_list, \n",
    "                                           fixed_variable_values_to_use=fixed_variable_values_to_use,\n",
    "                                           changeable_variables=changeable_variables,\n",
    "                                           columns_to_find_unique_combinations_for_color=columns_to_find_unique_combinations_for_color,\n",
    "                                           columns_to_find_unique_combinations_for_line=columns_to_find_unique_combinations_for_line,\n",
    "                                           )"
   ]
  },
  {
   "cell_type": "code",
   "execution_count": null,
   "id": "37",
   "metadata": {},
   "outputs": [],
   "source": [
    "ps = monkey_plan_factors_x_sess_class.PlanAcrossSessions()\n",
    "monkey_median_df = ps.combine_all_ref_pooled_median_info_across_monkeys_and_opt_arc_types()\n",
    "ps.plot_median_heading_across_monkeys_and_arc_types_with_difference(\n",
    "                                                                      x_var_column_list=['if_test_nxt_ff_group_appear_after_stop'],\n",
    "                                                                      fixed_variable_values_to_use={\n",
    "                                                                                #'if_test_nxt_ff_group_appear_after_stop': 'flexible',\n",
    "                                                                                                    #'key_for_split': 'ff_seen',\n",
    "                                                                                                    'whether_even_out_dist': False,\n",
    "                                                                                                    'curv_traj_window_before_stop': '[-25, 0]',\n",
    "                                                                                                    'opt_arc_type': 'norm_opt_arc',\n",
    "                                                                                                    'ref_point_value': -100,\n",
    "                                                                                                    },\n",
    "                                                                      changeable_variables=[\n",
    "                                                                          'monkey_name',],\n",
    "                                                                      columns_to_find_unique_combinations_for_color=['opt_arc_type'],\n",
    "                                                                      columns_to_find_unique_combinations_for_line=[],\n",
    "                                                                      )"
   ]
  },
  {
   "cell_type": "markdown",
   "id": "38",
   "metadata": {},
   "source": [
    "# all monkeys: ref distance as x"
   ]
  },
  {
   "cell_type": "markdown",
   "id": "40",
   "metadata": {},
   "source": [
    "## heading"
   ]
  },
  {
   "cell_type": "code",
   "execution_count": null,
   "id": "e4f96297",
   "metadata": {},
   "outputs": [],
   "source": [
    "ps = monkey_plan_factors_x_sess_class.PlanAcrossSessions()\n",
    "monkey_median_df = ps.combine_all_ref_pooled_median_info_across_monkeys_and_opt_arc_types()\n",
    "#monkey_median_df = monkey_median_df[monkey_median_df['opt_arc_type']=='norm_opt_arc'].copy()\n",
    "#ps.plot_median_heading_across_monkeys_and_arc_types_with_difference(x_var_column_list=x_var_column_list,changeable_variables=changeable_variables)\n",
    "ps.plot_median_heading_across_monkeys_and_arc_types_with_difference(monkey_median_df)\n"
   ]
  },
  {
   "cell_type": "markdown",
   "id": "45",
   "metadata": {},
   "source": [
    "## curv"
   ]
  },
  {
   "cell_type": "code",
   "execution_count": null,
   "id": "46",
   "metadata": {},
   "outputs": [],
   "source": [
    "ps = monkey_plan_factors_x_sess_class.PlanAcrossSessions()\n",
    "monkey_median_df = ps.combine_all_ref_pooled_median_info_across_monkeys_and_opt_arc_types()\n",
    "ps.plot_median_curv_across_monkeys_and_arc_types_with_difference()"
   ]
  },
  {
   "cell_type": "markdown",
   "id": "47",
   "metadata": {},
   "source": [
    "## perc"
   ]
  },
  {
   "cell_type": "code",
   "execution_count": null,
   "id": "48",
   "metadata": {},
   "outputs": [],
   "source": [
    "ps = monkey_plan_factors_x_sess_class.PlanAcrossSessions()\n",
    "monkey_perc_df = ps.combine_pooled_perc_info_across_monkeys(pooled_perc_info_exists_ok=True)\n",
    "ps.plot_same_side_percentage_across_monkeys(x_var_column_list=['monkey_name'], changeable_variables=['monkey_name'])\n"
   ]
  },
  {
   "cell_type": "markdown",
   "id": "869a967c",
   "metadata": {},
   "source": [
    "### polish"
   ]
  },
  {
   "cell_type": "code",
   "execution_count": null,
   "id": "fe1f62fc",
   "metadata": {},
   "outputs": [],
   "source": [
    "# --- 0) Nice, short subplot titles ---\n",
    "titles = ['Bruno', 'Schro']\n",
    "for i, t in enumerate(titles):\n",
    "    if i < len(ps.fig.layout.annotations):\n",
    "        ps.fig.layout.annotations[i].text = t\n",
    "        ps.fig.layout.annotations[i].font = dict(size=16, family='Arial', color='#111')\n",
    "        ps.fig.layout.annotations[i].yshift = 4  # nudge away from frame\n",
    "\n",
    "# --- 1) Slim, balanced canvas ---\n",
    "ps.fig.update_layout(\n",
    "    width=720,  # a touch wider for 2 subplots\n",
    "    height=360,\n",
    "    margin=dict(l=70, r=20, t=60, b=70),\n",
    "    template='plotly_white',\n",
    "    autosize=False,\n",
    ")\n",
    "\n",
    "\n",
    "# --- 3) Axes polish ---\n",
    "ps.fig.update_xaxes(\n",
    "    title_font=dict(size=16),\n",
    "    tickfont=dict(size=13),\n",
    "    showline=False, linewidth=1, linecolor='#444',\n",
    "    showgrid=False, gridwidth=1, gridcolor='rgba(0,0,0,0.06)',\n",
    "    zeroline=False,\n",
    ")\n",
    "ps.fig.update_yaxes(\n",
    "    title_text='Percentage',  # we’ll add label via annotations\n",
    "    ticksuffix='%'\n",
    ")\n",
    "\n",
    "# --- 5) Subtle color cycle (optional, if you have multiple traces) ---\n",
    "# Remove if you already set colors per trace.\n",
    "ps.fig.update_layout(colorway=['#1f77b4', '#ff7f0e', '#2ca02c', '#d62728', '#9467bd'])\n",
    "\n",
    "# --- 6) Slightly thicker lines/markers for readability (optional) ---\n",
    "for tr in ps.fig.data:\n",
    "    if hasattr(tr, 'line') and tr.line is not None:\n",
    "        tr.line.width = 2\n",
    "    if hasattr(tr, 'marker') and tr.marker is not None and 'size' in tr.marker:\n",
    "        tr.marker.size = max(6, tr.marker.size)\n",
    "\n",
    "ps.fig.update_yaxes(\n",
    "    showticklabels=False,   # hide tick labels\n",
    "    title_text=None,        # remove axis title\n",
    "    showgrid=False,         # optional: also hide grid lines\n",
    "    row=1, col=2            # target 2nd subplot\n",
    ")\n",
    "\n",
    "ps.fig"
   ]
  },
  {
   "cell_type": "markdown",
   "id": "49",
   "metadata": {},
   "source": [
    "## example of changing plotting parameters"
   ]
  },
  {
   "cell_type": "code",
   "execution_count": null,
   "id": "50",
   "metadata": {},
   "outputs": [],
   "source": [
    "ps = monkey_plan_factors_x_sess_class.PlanAcrossSessions()\n",
    "monkey_median_df = ps.combine_all_ref_pooled_median_info_across_monkeys_and_opt_arc_types()\n",
    "ps.plot_median_heading_across_monkeys_and_arc_types_with_difference(\n",
    "                                                                      x_var_column_list=['opt_arc_type'],\n",
    "                                                                      fixed_variable_values_to_use={\n",
    "                                                                                'if_test_nxt_ff_group_appear_after_stop': 'flexible',\n",
    "                                                                                                    'key_for_split': 'ff_seen',\n",
    "                                                                                                    'whether_even_out_dist': False,\n",
    "                                                                                                    'curv_traj_window_before_stop': '[-25, 0]'\n",
    "                                                                                                    },\n",
    "                                                                      changeable_variables=[\n",
    "                                                                          'ref_point_value', 'monkey_name'],\n",
    "                                                                      columns_to_find_unique_combinations_for_color=[],\n",
    "                                                                      columns_to_find_unique_combinations_for_line=[],\n",
    "                                                                      )"
   ]
  },
  {
   "cell_type": "markdown",
   "id": "51",
   "metadata": {},
   "source": [
    "# Agent: for PPT"
   ]
  },
  {
   "cell_type": "code",
   "execution_count": null,
   "id": "57",
   "metadata": {},
   "outputs": [],
   "source": [
    "#for opt_arc_type in ['norm_opt_arc', 'opt_arc_stop_closest', 'opt_arc_stop_first_vis_bdry']:\n",
    "cma = cmp_monkey_agent_plan_class.CompareMonkeyAgentPlan(opt_arc_type='norm_opt_arc')\n",
    "cma.get_monkey_and_agent_all_ref_pooled_median_info()\n",
    "cma.get_monkey_and_agent_pooled_perc_info()"
   ]
  },
  {
   "cell_type": "code",
   "execution_count": null,
   "id": "a4ac1dd4",
   "metadata": {},
   "outputs": [],
   "source": [
    "cma.all_ref_pooled_median_info_heading['monkey_name'].unique()"
   ]
  },
  {
   "cell_type": "markdown",
   "id": "3c71a238",
   "metadata": {},
   "source": [
    "## heading"
   ]
  },
  {
   "cell_type": "code",
   "execution_count": null,
   "id": "8c13e013",
   "metadata": {},
   "outputs": [],
   "source": [
    "x_var_column_list = ['ref_point_value']\n",
    "fixed_variable_values_to_use = {#'whether_even_out_dist': True,\n",
    "                                'if_test_nxt_ff_group_appear_after_stop': 'flexible',\n",
    "                                'key_for_split': 'ff_seen',\n",
    "                                }\n",
    "changeable_variables = []\n",
    "columns_to_find_unique_combinations_for_color = []\n",
    "\n",
    "agent_median_df = cma.all_ref_pooled_median_info_heading[cma.all_ref_pooled_median_info_heading['monkey_name'] == 'agent'].copy()\n",
    "\n",
    "cma.plot_median_heading_across_monkeys_and_arc_types_with_difference(all_ref_median_info=agent_median_df, x_var_column_list=x_var_column_list,\n",
    "                                                                fixed_variable_values_to_use=fixed_variable_values_to_use,\n",
    "                                                                changeable_variables=changeable_variables,\n",
    "                                                                columns_to_find_unique_combinations_for_color=columns_to_find_unique_combinations_for_color,\n",
    "                                                                constant_marker_size=15)"
   ]
  },
  {
   "cell_type": "markdown",
   "id": "f69886de",
   "metadata": {},
   "source": [
    "## new perc plot"
   ]
  },
  {
   "cell_type": "code",
   "execution_count": null,
   "id": "280829f6",
   "metadata": {},
   "outputs": [],
   "source": [
    "import numpy as np\n",
    "import pandas as pd\n",
    "import matplotlib.pyplot as plt\n",
    "from matplotlib.ticker import PercentFormatter\n",
    "\n",
    "def plot_grouped_percent_bars(\n",
    "    df: pd.DataFrame,\n",
    "    *,\n",
    "    group_order=('control', 'test'),\n",
    "    monkey_order=None,\n",
    "    bar_width=0.36,\n",
    "    capsize=4,\n",
    "    ylabel='Percentage',\n",
    "    title=None,\n",
    "    figsize=(7.5, 3.8),\n",
    "    palette=None,\n",
    "    ylim=None,\n",
    "    show_values=False,\n",
    "    ax=None,\n",
    "):\n",
    "    \"\"\"\n",
    "    Grouped bar chart with asymmetric CI error bars (Matplotlib).\n",
    "\n",
    "    Parameters\n",
    "    ----------\n",
    "    df : DataFrame\n",
    "        Columns: ['perc', 'test_or_control', 'ci_lower', 'ci_upper', 'monkey_name'].\n",
    "        'perc', 'ci_*' should be in 0–100 units.\n",
    "    group_order : tuple\n",
    "        Order of groups on each x (e.g., ('control', 'test')).\n",
    "    monkey_order : sequence or None\n",
    "        Order of x categories. If None, uses first-appearance order in df.\n",
    "    bar_width : float\n",
    "        Width of each bar.\n",
    "    capsize : float\n",
    "        Error bar cap size (points).\n",
    "    ylabel : str\n",
    "        Y-axis label text.\n",
    "    title : str or None\n",
    "        Figure title.\n",
    "    figsize : tuple\n",
    "        Figure size in inches.\n",
    "    palette : dict or None\n",
    "        Optional mapping {group: color}. If None, Matplotlib defaults are used.\n",
    "    ylim : tuple or None\n",
    "        Optional y-limits in percent units, e.g., (45, 80).\n",
    "    show_values : bool\n",
    "        If True, annotate bars with their % values.\n",
    "    ax : matplotlib.axes.Axes or None\n",
    "        Existing axes to draw on; if None, a new figure/axes is created.\n",
    "\n",
    "    Returns\n",
    "    -------\n",
    "    fig, ax\n",
    "    \"\"\"\n",
    "    d = df.copy()\n",
    "    d = d[d['test_or_control'].isin(group_order)]  # drop 'difference' etc.\n",
    "\n",
    "    # Category orders\n",
    "    if monkey_order is None:\n",
    "        monkey_order = d['monkey_name'].drop_duplicates().tolist()\n",
    "    d['monkey_name'] = pd.Categorical(d['monkey_name'], categories=monkey_order, ordered=True)\n",
    "    d['test_or_control'] = pd.Categorical(d['test_or_control'], categories=list(group_order), ordered=True)\n",
    "    d = d.sort_values(['monkey_name', 'test_or_control'])\n",
    "\n",
    "    # X positions per monkey\n",
    "    monkeys = pd.Index(monkey_order)\n",
    "    x = np.arange(len(monkeys), dtype=float)\n",
    "\n",
    "    # Group offsets\n",
    "    n_groups = len(group_order)\n",
    "    offsets = np.linspace(-bar_width*(n_groups-1)/2, bar_width*(n_groups-1)/2, n_groups)\n",
    "\n",
    "    # Prepare axes\n",
    "    created_fig = False\n",
    "    if ax is None:\n",
    "        fig, ax = plt.subplots(figsize=figsize)\n",
    "        created_fig = True\n",
    "    else:\n",
    "        fig = ax.figure\n",
    "\n",
    "    bars_by_group = {}\n",
    "    for i, grp in enumerate(group_order):\n",
    "        sub = d[d['test_or_control'] == grp]\n",
    "        # Ensure alignment with x order\n",
    "        sub = sub.set_index('monkey_name').reindex(monkeys)\n",
    "\n",
    "        y = sub['perc'].to_numpy()\n",
    "        lo = sub['ci_lower'].to_numpy()\n",
    "        hi = sub['ci_upper'].to_numpy()\n",
    "        yerr = np.vstack([y - lo, hi - y])\n",
    "\n",
    "        color = None if palette is None else palette.get(grp, None)\n",
    "        bars = ax.bar(\n",
    "            x + offsets[i],\n",
    "            y,\n",
    "            width=bar_width,\n",
    "            yerr=yerr,\n",
    "            capsize=capsize,\n",
    "            label=grp,\n",
    "            color=color,\n",
    "            edgecolor='none',\n",
    "        )\n",
    "        bars_by_group[grp] = bars\n",
    "\n",
    "        if show_values:\n",
    "            for rect, val in zip(bars, y):\n",
    "                ax.annotate(f'{val:.1f}%',\n",
    "                            xy=(rect.get_x() + rect.get_width()/2, rect.get_height()),\n",
    "                            xytext=(0, 3), textcoords='offset points',\n",
    "                            ha='center', va='bottom', fontsize=9)\n",
    "\n",
    "    # Axes cosmetics\n",
    "    ax.set_xticks(x, monkeys.tolist())\n",
    "    ax.set_ylabel(ylabel)\n",
    "    ax.yaxis.set_major_formatter(PercentFormatter(xmax=100))  # 0–100 data shown as %\n",
    "    if ylim is not None:\n",
    "        ax.set_ylim(*ylim)\n",
    "\n",
    "    ax.yaxis.grid(True, linestyle='-', alpha=0.15)\n",
    "    ax.set_axisbelow(True)\n",
    "    ax.spines['top'].set_visible(False)\n",
    "    ax.spines['right'].set_visible(False)\n",
    "\n",
    "    ax.legend(title='Group', frameon=False)\n",
    "\n",
    "    if title:\n",
    "        ax.set_title(title)\n",
    "\n",
    "    if created_fig:\n",
    "        fig.tight_layout()\n",
    "\n",
    "    return fig, ax\n",
    "\n",
    "\n",
    "\n",
    "palette = {'control': '#f28e2b', 'test': '#4e79a7'}  # can omit for default\n",
    "\n",
    "fig, ax = plot_grouped_percent_bars(\n",
    "    pooled_perc_info,\n",
    "    title='Same-Side Stop Rate',\n",
    "    palette=palette,\n",
    "    ylim=(45, 80),         # tweak or set to None\n",
    "    show_values=False      # set True to print % on bars\n",
    ")\n",
    "plt.show()\n"
   ]
  },
  {
   "cell_type": "code",
   "execution_count": null,
   "id": "4f12a44c",
   "metadata": {},
   "outputs": [],
   "source": [
    "palette = {'control': '#f28e2b', 'test': '#4e79a7'}  # can omit for default\n",
    "\n",
    "fig, ax = plot_grouped_percent_bars(\n",
    "    pooled_perc_info,\n",
    "    title='Same-Side Stop Rate',\n",
    "    palette=palette,\n",
    "    ylim=(45, 80),         # tweak or set to None\n",
    "    show_values=False      # set True to print % on bars\n",
    ")\n",
    "plt.show()\n"
   ]
  },
  {
   "cell_type": "code",
   "execution_count": null,
   "id": "33475a93",
   "metadata": {},
   "outputs": [],
   "source": [
    "import numpy as np\n",
    "import pandas as pd\n",
    "import matplotlib.pyplot as plt\n",
    "from matplotlib.ticker import PercentFormatter\n",
    "\n",
    "def _stars_from_p(p: float) -> str:\n",
    "    if p is None or np.isnan(p):\n",
    "        return 'n.s.'\n",
    "    if p < 1e-4:\n",
    "        return '****'\n",
    "    if p < 1e-3:\n",
    "        return '***'\n",
    "    if p < 0.01:\n",
    "        return '**'\n",
    "    if p < 0.05:\n",
    "        return '*'\n",
    "    return 'n.s.'\n",
    "\n",
    "def _add_sig_bracket(ax, x1, x2, y, h=1.0, text='*', lw=1.2, fontsize=11):\n",
    "    \"\"\"\n",
    "    Draw a significance bracket between x1 and x2 at height y with label 'text'.\n",
    "    y and h are in data units (same as y-axis).\n",
    "    \"\"\"\n",
    "    ax.plot([x1, x1, x2, x2], [y, y + h, y + h, y], lw=lw, c='k')\n",
    "    ax.text((x1 + x2) / 2, y + h, text, ha='center', va='bottom', fontsize=fontsize)\n",
    "\n",
    "def plot_grouped_percent_bars(\n",
    "    df: pd.DataFrame,\n",
    "    *,\n",
    "    group_order=('control', 'test'),\n",
    "    monkey_order=None,\n",
    "    bar_width=0.36,\n",
    "    capsize=4,\n",
    "    ylabel='Percentage',\n",
    "    title=None,\n",
    "    figsize=(7.5, 3.8),\n",
    "    palette=None,\n",
    "    ylim=None,\n",
    "    show_values=False,\n",
    "    pvals=None,              # dict: {monkey_name: p_value}\n",
    "    bracket_height=1.2,      # vertical size of bracket in % units\n",
    "    bracket_pad=1.0,         # padding above tallest bar in % units\n",
    "    ax=None,\n",
    "    dpi=100\n",
    "):\n",
    "    \"\"\"\n",
    "    Grouped bar chart (0–100 scale) with asymmetric CIs and optional significance brackets.\n",
    "\n",
    "    df columns: ['perc', 'test_or_control', 'ci_lower', 'ci_upper', 'monkey_name'].\n",
    "    Provide pvals={name: p} to annotate control vs test per monkey.\n",
    "    \"\"\"\n",
    "    d = df.copy()\n",
    "    d = d[d['test_or_control'].isin(group_order)]  # drop rows like 'difference'\n",
    "\n",
    "    # Category orders\n",
    "    if monkey_order is None:\n",
    "        monkey_order = d['monkey_name'].drop_duplicates().tolist()\n",
    "    d['monkey_name'] = pd.Categorical(d['monkey_name'], categories=monkey_order, ordered=True)\n",
    "    d['test_or_control'] = pd.Categorical(d['test_or_control'], categories=list(group_order), ordered=True)\n",
    "    d = d.sort_values(['monkey_name', 'test_or_control'])\n",
    "\n",
    "    # X positions\n",
    "    monkeys = pd.Index(monkey_order)\n",
    "    x = np.arange(len(monkeys), dtype=float)\n",
    "\n",
    "    # Offsets for grouped bars\n",
    "    n_groups = len(group_order)\n",
    "    offsets = np.linspace(-bar_width*(n_groups-1)/2, bar_width*(n_groups-1)/2, n_groups)\n",
    "    offset_map = dict(zip(group_order, offsets))\n",
    "\n",
    "    # Prepare axes\n",
    "    created_fig = False\n",
    "    if ax is None:\n",
    "        fig, ax = plt.subplots(figsize=figsize, dpi=dpi)\n",
    "        created_fig = True\n",
    "    else:\n",
    "        fig = ax.figure\n",
    "\n",
    "    # Plot bars\n",
    "    bar_centers = {grp: [] for grp in group_order}\n",
    "    bar_tops = {grp: [] for grp in group_order}\n",
    "\n",
    "    for grp in group_order:\n",
    "        sub = d[d['test_or_control'] == grp].set_index('monkey_name').reindex(monkeys)\n",
    "        y = sub['perc'].to_numpy()\n",
    "        lo = sub['ci_lower'].to_numpy()\n",
    "        hi = sub['ci_upper'].to_numpy()\n",
    "        yerr = np.vstack([y - lo, hi - y])\n",
    "\n",
    "        color = None if palette is None else palette.get(grp, None)\n",
    "        bars = ax.bar(\n",
    "            x + offset_map[grp],\n",
    "            y,\n",
    "            width=bar_width,\n",
    "            yerr=yerr,\n",
    "            capsize=capsize,\n",
    "            label=grp,\n",
    "            color=color,\n",
    "            edgecolor='none',\n",
    "        )\n",
    "\n",
    "        # store centers and tops for brackets\n",
    "        bar_centers[grp] = x + offset_map[grp]\n",
    "        # top = bar height + upper error (so bracket clears the error bar)\n",
    "        bar_tops[grp] = y + yerr[1]\n",
    "\n",
    "        if show_values:\n",
    "            for rect, val in zip(bars, y):\n",
    "                ax.annotate(f'{val:.1f}%',\n",
    "                            xy=(rect.get_x() + rect.get_width()/2, rect.get_height()),\n",
    "                            xytext=(0, 3), textcoords='offset points',\n",
    "                            ha='center', va='bottom', fontsize=9)\n",
    "\n",
    "    # Axes cosmetics\n",
    "    ax.set_xticks(x, monkeys.tolist())\n",
    "    ax.set_ylabel(ylabel)\n",
    "    ax.yaxis.set_major_formatter(PercentFormatter(xmax=100))\n",
    "    if ylim is not None:\n",
    "        ax.set_ylim(*ylim)\n",
    "\n",
    "    ax.yaxis.grid(True, linestyle='-', alpha=0.15)\n",
    "    ax.yaxis.set_major_formatter(PercentFormatter(xmax=100, decimals=0))\n",
    "    ax.set_axisbelow(True)\n",
    "    ax.spines['top'].set_visible(False)\n",
    "    ax.spines['right'].set_visible(False)\n",
    "    ax.legend(title='Group', frameon=False)\n",
    "\n",
    "    if title:\n",
    "        ax.set_title(title)\n",
    "\n",
    "    # --- Significance brackets (control vs test per monkey) ---\n",
    "    if pvals:\n",
    "        for i, name in enumerate(monkeys):\n",
    "            p = pvals.get(name, None)\n",
    "            if p is None:\n",
    "                continue\n",
    "            # x positions of the two bars\n",
    "            x1 = bar_centers[group_order[0]][i]\n",
    "            x2 = bar_centers[group_order[1]][i]\n",
    "            # y baseline just above the taller error bar\n",
    "            top = max(bar_tops[group_order[0]][i], bar_tops[group_order[1]][i])\n",
    "            y = top + bracket_pad\n",
    "            _add_sig_bracket(ax, x1, x2, y, h=bracket_height, text=_stars_from_p(p))\n",
    "\n",
    "        # expand ylim if needed so brackets are visible\n",
    "        ymin, ymax = ax.get_ylim()\n",
    "        max_bracket = max(\n",
    "            (max(bar_tops[g][i] for g in group_order) + bracket_pad + bracket_height)\n",
    "            for i in range(len(monkeys))\n",
    "        )\n",
    "        if max_bracket > ymax:\n",
    "            ax.set_ylim(ymin, max_bracket + 1.0)\n",
    "\n",
    "    if created_fig:\n",
    "        fig.tight_layout()\n",
    "\n",
    "    return fig, ax\n",
    "\n",
    "\n",
    "\n",
    "palette = {'control': '#f28e2b', 'test': '#4e79a7'}\n",
    "pvals = {'Bruno': 0.00000, 'Schro': 0.00672, 'agent': 1e-5}\n",
    "\n",
    "fig, ax = plot_grouped_percent_bars(\n",
    "    pooled_perc_info,\n",
    "    title='Same-Side Stop Rate',\n",
    "    palette=palette,\n",
    "    ylim=(45, 80),\n",
    "    pvals=pvals,                # ← bracket + stars\n",
    "    bracket_height=1.0,\n",
    "    bracket_pad=0.8,\n",
    "    dpi=300\n",
    ")\n",
    "plt.show()\n"
   ]
  },
  {
   "cell_type": "code",
   "execution_count": null,
   "id": "9dd70185",
   "metadata": {},
   "outputs": [],
   "source": [
    "pooled_perc_info_sub = pooled_perc_info[pooled_perc_info['monkey_name'] != 'agent']\n",
    "fig, ax = plot_grouped_percent_bars(\n",
    "    pooled_perc_info_sub,\n",
    "    title='Same-Side Stop Rate',\n",
    "    palette=palette,\n",
    "    ylim=(45, 70),\n",
    "    pvals=pvals,                # ← bracket + stars\n",
    "    bracket_height=1.0,\n",
    "    bracket_pad=0.8,\n",
    "    dpi=300,\n",
    "    figsize=(6, 3.8)\n",
    ")\n",
    "plt.show()\n"
   ]
  },
  {
   "cell_type": "markdown",
   "id": "1e623069",
   "metadata": {},
   "source": [
    "## perc"
   ]
  },
  {
   "cell_type": "code",
   "execution_count": null,
   "id": "51d20bca",
   "metadata": {},
   "outputs": [],
   "source": [
    "pooled_perc_info = cma.pooled_perc_info.copy()\n",
    "for key, item in fixed_variable_values_to_use.items():\n",
    "    pooled_perc_info = pooled_perc_info[pooled_perc_info[key] == item]\n",
    "pooled_perc_info = pooled_perc_info.drop_duplicates()\n",
    "pooled_perc_info = pooled_perc_info[['perc', 'test_or_control', 'ci_lower', 'ci_upper', 'monkey_name']].reset_index(drop=True)\n",
    "pooled_perc_info.loc[pooled_perc_info['monkey_name'] == 'monkey_Bruno', 'monkey_name'] = 'Bruno'\n",
    "pooled_perc_info.loc[pooled_perc_info['monkey_name'] == 'monkey_Schro', 'monkey_name'] = 'Schro'\n",
    "pooled_perc_info\n"
   ]
  },
  {
   "cell_type": "code",
   "execution_count": null,
   "id": "802baba6",
   "metadata": {},
   "outputs": [],
   "source": [
    "print(pooled_perc_info)"
   ]
  },
  {
   "cell_type": "markdown",
   "id": "6bab9a22",
   "metadata": {},
   "source": [
    "# agent vs monkey"
   ]
  },
  {
   "cell_type": "code",
   "execution_count": null,
   "id": "b3700ebd",
   "metadata": {},
   "outputs": [],
   "source": [
    "#for opt_arc_type in ['norm_opt_arc', 'opt_arc_stop_closest', 'opt_arc_stop_first_vis_bdry']:\n",
    "cma = cmp_monkey_agent_plan_class.CompareMonkeyAgentPlan(opt_arc_type='norm_opt_arc')\n",
    "cma.get_monkey_and_agent_all_ref_pooled_median_info()\n",
    "cma.get_monkey_and_agent_pooled_perc_info()"
   ]
  },
  {
   "cell_type": "markdown",
   "id": "58",
   "metadata": {},
   "source": [
    "## heading"
   ]
  },
  {
   "cell_type": "code",
   "execution_count": null,
   "id": "59",
   "metadata": {},
   "outputs": [],
   "source": [
    "x_var_column_list = ['monkey_name']\n",
    "fixed_variable_values_to_use = {#'whether_even_out_dist': True,\n",
    "                                'if_test_nxt_ff_group_appear_after_stop': 'flexible',\n",
    "                                'key_for_split': 'ff_seen',\n",
    "                                }\n",
    "changeable_variables = ['ref_point_value']\n",
    "columns_to_find_unique_combinations_for_color = []\n",
    "\n",
    "cma.plot_median_heading_across_monkeys_and_arc_types_with_difference(x_var_column_list=x_var_column_list,\n",
    "                                                                fixed_variable_values_to_use=fixed_variable_values_to_use,\n",
    "                                                                changeable_variables=changeable_variables,\n",
    "                                                                columns_to_find_unique_combinations_for_color=columns_to_find_unique_combinations_for_color,\n",
    "                                                                constant_marker_size=15)"
   ]
  },
  {
   "cell_type": "markdown",
   "id": "60",
   "metadata": {},
   "source": [
    "## curv"
   ]
  },
  {
   "cell_type": "code",
   "execution_count": null,
   "id": "61",
   "metadata": {},
   "outputs": [],
   "source": [
    "x_var_column_list = ['monkey_name']\n",
    "fixed_variable_values_to_use = {'whether_even_out_dist': False,\n",
    "                                'if_test_nxt_ff_group_appear_after_stop': 'flexible',\n",
    "                                'key_for_split': 'ff_seen',\n",
    "                                }\n",
    "changeable_variables = ['ref_point_value']\n",
    "columns_to_find_unique_combinations_for_color = []\n",
    "\n",
    "cma.plot_median_curv_across_monkeys_and_arc_types_with_difference(x_var_column_list=x_var_column_list,\n",
    "                                                                fixed_variable_values_to_use=fixed_variable_values_to_use,\n",
    "                                                                changeable_variables=changeable_variables,\n",
    "                                                                columns_to_find_unique_combinations_for_color=columns_to_find_unique_combinations_for_color)"
   ]
  },
  {
   "cell_type": "markdown",
   "id": "62",
   "metadata": {},
   "source": [
    "## perc"
   ]
  },
  {
   "cell_type": "code",
   "execution_count": null,
   "id": "63",
   "metadata": {},
   "outputs": [],
   "source": [
    "x_var_column_list = ['monkey_name']\n",
    "\n",
    "fixed_variable_values_to_use = {#'whether_even_out_dist': False,\n",
    "                                'if_test_nxt_ff_group_appear_after_stop': 'flexible',\n",
    "                                'key_for_split': 'ff_seen',\n",
    "                                }\n",
    "\n",
    "changeable_variables = [] #'if_test_nxt_ff_group_appear_after_stop'\n",
    "\n",
    "columns_to_find_unique_combinations_for_color = []\n",
    "\n",
    "cma.plot_same_side_percentage_across_monkeys(x_var_column_list=x_var_column_list,\n",
    "                                                                fixed_variable_values_to_use=fixed_variable_values_to_use,\n",
    "                                                                changeable_variables=changeable_variables,\n",
    "                                                                columns_to_find_unique_combinations_for_color=columns_to_find_unique_combinations_for_color)"
   ]
  },
  {
   "cell_type": "markdown",
   "id": "7cc14f52",
   "metadata": {},
   "source": [
    "# Collect new agent rollouts"
   ]
  },
  {
   "cell_type": "code",
   "execution_count": null,
   "id": "1ce0f8ac",
   "metadata": {},
   "outputs": [],
   "source": [
    "# If you want to get new data from the agent\n",
    "\n",
    "## remove the folder RL_models/SB3_stored_models/all_collected_data\n",
    "# import shutil\n",
    "# import os\n",
    "\n",
    "# folder_path = \"multiff_analysis/RL_models/SB3_stored_models/all_collected_data\"\n",
    "\n",
    "# # Check if folder exists before removing\n",
    "# if os.path.exists(folder_path) and os.path.isdir(folder_path):\n",
    "#     shutil.rmtree(folder_path)\n",
    "#     print(f\"Removed folder: {folder_path}\")\n",
    "# else:\n",
    "#     print(f\"Folder not found: {folder_path}\")\n",
    "\n",
    "# exists_ok = True\n",
    "# pfas = agent_plan_factors_x_sess_class.PlanFactorsAcrossAgentSessions(num_steps_per_dataset=100000)\n",
    "# agent_all_ref_pooled_median_info = pfas.make_or_retrieve_all_ref_pooled_median_info(exists_ok=exists_ok)\n",
    "# agent_all_perc_df = pfas.make_or_retrieve_pooled_perc_info(exists_ok=exists_ok)\n"
   ]
  }
 ],
 "metadata": {
  "kernelspec": {
   "display_name": "multiff_clean",
   "language": "python",
   "name": "python3"
  },
  "language_info": {
   "codemirror_mode": {
    "name": "ipython",
    "version": 3
   },
   "file_extension": ".py",
   "mimetype": "text/x-python",
   "name": "python",
   "nbconvert_exporter": "python",
   "pygments_lexer": "ipython3",
   "version": "3.11.11"
  }
 },
 "nbformat": 4,
 "nbformat_minor": 5
}
