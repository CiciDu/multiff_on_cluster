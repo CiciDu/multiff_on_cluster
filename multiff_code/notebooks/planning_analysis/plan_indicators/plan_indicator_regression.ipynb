{
 "cells": [
  {
   "cell_type": "markdown",
   "metadata": {},
   "source": [
    "# Import packages"
   ]
  },
  {
   "cell_type": "code",
   "execution_count": null,
   "metadata": {},
   "outputs": [],
   "source": [
    "%load_ext autoreload\n",
    "%autoreload 2\n",
    "\n",
    "from pathlib import Path\n",
    "import os, sys\n",
    "for p in [Path.cwd()] + list(Path.cwd().parents):\n",
    "    if p.name == 'Multifirefly-Project':\n",
    "        os.chdir(p)\n",
    "        sys.path.insert(0, str(p / 'multiff_analysis/multiff_code/methods'))\n",
    "        break\n",
    "\n",
    "\n",
    "\n",
    "from pattern_discovery import monkey_landing_in_ff\n",
    "from machine_learning.ml_methods import regression_utils, classification_utils, prep_ml_data_utils\n",
    "from visualization.matplotlib_tools import plot_trials\n",
    "from planning_analysis.show_planning import examine_null_arcs\n",
    "from planning_analysis.show_planning.cur_vs_nxt_ff import cvn_from_ref_class\n",
    "from planning_analysis.only_cur_ff import only_cur_ff_x_sess_class\n",
    "from planning_analysis.plan_factors import plan_factors_utils, build_factor_comp, plan_factors_class, monkey_plan_factors_x_sess_class\n",
    "from planning_analysis.agent_analysis import compare_monkey_and_agent_utils, agent_plan_factors_x_sess_class, cmp_monkey_agent_plan_class\n",
    "from machine_learning.ml_methods import ml_methods_class, prep_ml_data_utils\n",
    "from planning_analysis.plan_factors import monkey_plan_factors_x_sess_class, monkey_plan_factors_x_sess_class\n",
    "from planning_analysis.factors_vs_indicators import make_variations_utils, process_variations_utils\n",
    "from planning_analysis.factors_vs_indicators.plot_plan_indicators import plot_variations_class, plot_variations_utils\n",
    "\n",
    "import numpy as np\n",
    "import matplotlib\n",
    "import matplotlib.pyplot as plt\n",
    "import seaborn as sns\n",
    "import matplotlib.pyplot as plt\n",
    "import pandas as pd\n",
    "from matplotlib import rc\n",
    "import os, sys, sys\n",
    "\n",
    "plt.rcParams[\"animation.html\"] = \"html5\"\n",
    "os.environ['KMP_DUPLICATE_LIB_OK']='True'\n",
    "rc('animation', html='jshtml')\n",
    "matplotlib.rcParams.update(matplotlib.rcParamsDefault)\n",
    "matplotlib.rcParams['animation.embed_limit'] = 2**128\n",
    "pd.set_option('display.float_format', lambda x: '%.5f' % x)\n",
    "np.set_printoptions(suppress=True)\n",
    "pd.options.display.max_rows = 101"
   ]
  },
  {
   "cell_type": "code",
   "execution_count": null,
   "metadata": {},
   "outputs": [],
   "source": [
    "data_item = None\n",
    "raw_data_folder_path = \"all_monkey_data/raw_monkey_data/monkey_Bruno/data_0328\""
   ]
  },
  {
   "cell_type": "markdown",
   "metadata": {},
   "source": [
    "# LR variations"
   ]
  },
  {
   "cell_type": "markdown",
   "metadata": {},
   "source": [
    "## all_cur_and_nxt_lr_df (pred monkey)"
   ]
  },
  {
   "cell_type": "markdown",
   "metadata": {},
   "source": [
    "### MONKEY"
   ]
  },
  {
   "cell_type": "code",
   "execution_count": null,
   "metadata": {},
   "outputs": [],
   "source": [
    "ps = monkey_plan_factors_x_sess_class.PlanAcrossSessions(monkey_name='monkey_Bruno')\n",
    "all_cur_and_nxt_lr_df = ps.make_or_retrieve_all_cur_and_nxt_lr_df(exists_ok=True)\n",
    "monkey_pred_monkey_df = all_cur_and_nxt_lr_df.copy()"
   ]
  },
  {
   "cell_type": "code",
   "execution_count": null,
   "metadata": {},
   "outputs": [],
   "source": [
    "ps = monkey_plan_factors_x_sess_class.PlanAcrossSessions(monkey_name='monkey_Schro')\n",
    "all_cur_and_nxt_lr_df = ps.make_or_retrieve_all_cur_and_nxt_lr_df(exists_ok=True)\n",
    "monkey_pred_monkey_df = all_cur_and_nxt_lr_df.copy()\n"
   ]
  },
  {
   "cell_type": "code",
   "execution_count": null,
   "metadata": {},
   "outputs": [],
   "source": [
    "new_all_cur_and_nxt_lr_df = process_variations_utils.make_new_df_for_plotly_comparison(all_cur_and_nxt_lr_df)"
   ]
  },
  {
   "cell_type": "code",
   "execution_count": null,
   "metadata": {},
   "outputs": [],
   "source": [
    "x_var_column_list = ['ref_point_value']\n",
    "\n",
    "\n",
    "fixed_variable_values_to_use = {\n",
    "                                'cluster_for_interaction': 'cur_ff_cluster_100',\n",
    "                                'cluster_to_keep': 'cur_ff_cluster_100',\n",
    "                                #'cluster_to_keep': 'cur_ff_cluster_100_PLUS_nxt_ff_cluster_100_PLUS_nxt_ff_cluster_300',\n",
    "                                #'use_combd_features_for_cluster_only': False,\n",
    "                                'key_for_split': 'ff_seen',\n",
    "                                'whether_even_out_dist': False,\n",
    "}\n",
    "\n",
    "changeable_variables = ['y_var_column']\n",
    "\n",
    "columns_to_find_unique_combinations_for_color = ['test_or_control']\n",
    "\n",
    "fig = plot_variations_utils.streamline_making_plotly_plot_to_compare_two_sets_of_data(new_all_cur_and_nxt_lr_df, \n",
    "                                                              fixed_variable_values_to_use,\n",
    "                                                              changeable_variables,\n",
    "                                                              x_var_column_list,\n",
    "                                                              columns_to_find_unique_combinations_for_color=columns_to_find_unique_combinations_for_color)"
   ]
  },
  {
   "cell_type": "markdown",
   "metadata": {},
   "source": [
    "### AGENT"
   ]
  },
  {
   "cell_type": "code",
   "execution_count": null,
   "metadata": {},
   "outputs": [],
   "source": [
    "(75 + 94.5 + 86.5 + 98)/4"
   ]
  },
  {
   "cell_type": "code",
   "execution_count": null,
   "metadata": {},
   "outputs": [],
   "source": [
    "pfas =agent_plan_factors_x_sess_class.PlanFactorsAcrossAgentSessions()\n",
    "all_cur_and_nxt_lr_df = pfas.make_or_retrieve_all_cur_and_nxt_lr_df()\n",
    "agent_pred_ff_df = all_cur_and_nxt_lr_df.copy()"
   ]
  },
  {
   "cell_type": "code",
   "execution_count": null,
   "metadata": {},
   "outputs": [],
   "source": [
    "new_all_cur_and_nxt_lr_df = process_variations_utils.make_new_df_for_plotly_comparison(all_cur_and_nxt_lr_df)"
   ]
  },
  {
   "cell_type": "code",
   "execution_count": null,
   "metadata": {},
   "outputs": [],
   "source": [
    "x_var_column_list = ['ref_point_value']\n",
    "\n",
    "fixed_variable_values_to_use = {'cluster_for_interaction': 'cur_ff_cluster_100',\n",
    "                                'cluster_to_keep': 'cur_ff_cluster_100_PLUS_nxt_ff_cluster_100',\n",
    "                                'use_combd_features_for_cluster_only': False,\n",
    "}\n",
    "\n",
    "changeable_variables = ['y_var_column', 'whether_even_out_dist', 'key_for_split'] #'ref_point_value'\n",
    "\n",
    "\n",
    "columns_to_find_unique_combinations_for_color = ['test_or_control']\n",
    "\n",
    "fig = plot_variations_utils.streamline_making_plotly_plot_to_compare_two_sets_of_data(new_all_cur_and_nxt_lr_df, \n",
    "                                                              fixed_variable_values_to_use,\n",
    "                                                              changeable_variables,\n",
    "                                                              x_var_column_list,\n",
    "                                                              columns_to_find_unique_combinations_for_color=columns_to_find_unique_combinations_for_color)"
   ]
  },
  {
   "cell_type": "markdown",
   "metadata": {},
   "source": [
    "### plot coeff (individually)"
   ]
  },
  {
   "cell_type": "code",
   "execution_count": null,
   "metadata": {},
   "outputs": [],
   "source": [
    "new_all_cur_and_nxt_lr_df"
   ]
  },
  {
   "cell_type": "code",
   "execution_count": null,
   "metadata": {},
   "outputs": [],
   "source": [
    "fixed_variable_values_to_use = {'cluster_for_interaction': 'cur_ff_cluster_100',\n",
    "                                'cluster_to_keep': 'cur_ff_cluster_100_PLUS_nxt_ff_cluster_100_PLUS_nxt_ff_cluster_300',\n",
    "                                'use_combd_features_for_cluster_only': False,\n",
    "                                #'whether_even_out_dist': True,\n",
    "}\n",
    "\n",
    "column_to_split_grouped_bars = 'test_or_control'\n",
    "\n",
    "plot_variations_utils.plot_coeff(new_all_cur_and_nxt_lr_df, column_to_split_grouped_bars=column_to_split_grouped_bars, fixed_variable_values_to_use=fixed_variable_values_to_use,\n",
    "                                 max_num_plots=3)"
   ]
  },
  {
   "cell_type": "markdown",
   "metadata": {},
   "source": [
    "### compare monkey and agent"
   ]
  },
  {
   "cell_type": "markdown",
   "metadata": {},
   "source": [
    "#### get data"
   ]
  },
  {
   "cell_type": "code",
   "execution_count": null,
   "metadata": {},
   "outputs": [],
   "source": [
    "both_players_pred_monkey_df = compare_monkey_and_agent_utils.make_both_players_df(monkey_pred_monkey_df, agent_pred_monkey_df)"
   ]
  },
  {
   "cell_type": "markdown",
   "metadata": {},
   "source": [
    "#### r squared"
   ]
  },
  {
   "cell_type": "code",
   "execution_count": null,
   "metadata": {},
   "outputs": [],
   "source": [
    "# print columns in ref_sub2.columns if no numeric is in the string\n",
    "# ref_sub2.columns[~ref_sub2.columns.str.contains('\\d')]"
   ]
  },
  {
   "cell_type": "code",
   "execution_count": null,
   "metadata": {},
   "outputs": [],
   "source": [
    "new_pred_monkey_df = process_variations_utils.make_new_df_for_plotly_comparison(both_players_pred_monkey_df,\n",
    "                                                                 match_rows_based_on_ref_columns_only=True)"
   ]
  },
  {
   "cell_type": "code",
   "execution_count": null,
   "metadata": {},
   "outputs": [],
   "source": [
    "x_var_column_list = ['ref_point_value']\n",
    "\n",
    "fixed_variable_values_to_use = {\n",
    "                                # 'cluster_for_interaction': 'none',\n",
    "                                # 'cluster_to_keep': 'none',\n",
    "                                'cluster_to_keep': 'cur_ff_cluster_100_PLUS_nxt_ff_cluster_100_PLUS_nxt_ff_cluster_300',\n",
    "                                'cluster_for_interaction': 'none',\n",
    "                                'whether_even_out_dist': True,\n",
    "                                #'use_combd_features_for_cluster_only': False,\n",
    "}\n",
    "\n",
    "changeable_variables = ['y_var_column'] #'ref_point_value'\n",
    "\n",
    "\n",
    "columns_to_find_unique_combinations_for_color = ['test_or_control']\n",
    "columns_to_find_unique_combinations_for_line = ['monkey_or_agent']\n",
    "\n",
    "fig = plot_variations_utils.streamline_making_plotly_plot_to_compare_two_sets_of_data(new_pred_monkey_df, \n",
    "                                                              fixed_variable_values_to_use,\n",
    "                                                              changeable_variables,\n",
    "                                                              x_var_column_list,\n",
    "                                                              var_to_determine_x_offset_direction='ref_columns_only',\n",
    "                                                              columns_to_find_unique_combinations_for_color=columns_to_find_unique_combinations_for_color,\n",
    "                                                              columns_to_find_unique_combinations_for_line=columns_to_find_unique_combinations_for_line)"
   ]
  },
  {
   "cell_type": "markdown",
   "metadata": {},
   "source": [
    "#### coeff"
   ]
  },
  {
   "cell_type": "code",
   "execution_count": null,
   "metadata": {},
   "outputs": [],
   "source": [
    "both_players_df['ref_columns_only']"
   ]
  },
  {
   "cell_type": "code",
   "execution_count": null,
   "metadata": {},
   "outputs": [],
   "source": [
    "fixed_variable_values_to_use = {\n",
    "                                #'cluster_for_interaction': 'none',\n",
    "                                #'cluster_to_keep': 'cur_ff_cluster_100_PLUS_nxt_ff_cluster_100_PLUS_nxt_ff_cluster_300',\n",
    "                                'ref_columns_only': True\n",
    "}\n",
    "\n",
    "column_to_split_grouped_bars = 'monkey_or_agent'\n",
    "\n",
    "plot_variations_utils.plot_coeff(both_players_df, column_to_split_grouped_bars=column_to_split_grouped_bars, fixed_variable_values_to_use=fixed_variable_values_to_use)"
   ]
  },
  {
   "cell_type": "markdown",
   "metadata": {},
   "source": [
    "## all_cur_and_nxt_lr_pred_ff_df (pred ff)"
   ]
  },
  {
   "cell_type": "markdown",
   "metadata": {},
   "source": [
    "### MONKEY"
   ]
  },
  {
   "cell_type": "code",
   "execution_count": null,
   "metadata": {},
   "outputs": [],
   "source": [
    "ps = monkey_plan_factors_x_sess_class.PlanAcrossSessions(monkey_name='monkey_Bruno')\n",
    "all_cur_and_nxt_lr_pred_ff_df = ps.make_or_retrieve_all_cur_and_nxt_lr_pred_ff_df()\n",
    "monkey_pred_ff_df = all_cur_and_nxt_lr_pred_ff_df.copy()"
   ]
  },
  {
   "cell_type": "code",
   "execution_count": null,
   "metadata": {},
   "outputs": [],
   "source": [
    "ps = monkey_plan_factors_x_sess_class.PlanAcrossSessions(monkey_name='monkey_Schro')\n",
    "all_cur_and_nxt_lr_pred_ff_df = ps.make_or_retrieve_all_cur_and_nxt_lr_pred_ff_df()\n",
    "monkey_pred_ff_df = all_cur_and_nxt_lr_pred_ff_df.copy()"
   ]
  },
  {
   "cell_type": "code",
   "execution_count": null,
   "metadata": {},
   "outputs": [],
   "source": [
    "new_all_cur_and_nxt_lr_pred_ff_df = process_variations_utils.make_new_df_for_plotly_comparison(all_cur_and_nxt_lr_pred_ff_df)"
   ]
  },
  {
   "cell_type": "code",
   "execution_count": null,
   "metadata": {},
   "outputs": [],
   "source": [
    "x_var_column_list = ['ref_point_value']\n",
    "\n",
    "fixed_variable_values_to_use = {\n",
    "                                #'key_for_split': 'cluster_seen'\n",
    "}\n",
    "\n",
    "changeable_variables = ['y_var_column', 'whether_even_out_dist']\n",
    "\n",
    "\n",
    "columns_to_find_unique_combinations_for_color = ['test_or_control']\n",
    "\n",
    "fig = plot_variations_utils.streamline_making_plotly_plot_to_compare_two_sets_of_data(new_all_cur_and_nxt_lr_pred_ff_df, \n",
    "                                                              fixed_variable_values_to_use,\n",
    "                                                              changeable_variables,\n",
    "                                                              x_var_column_list,\n",
    "                                                              columns_to_find_unique_combinations_for_color=columns_to_find_unique_combinations_for_color)"
   ]
  },
  {
   "cell_type": "code",
   "execution_count": null,
   "metadata": {},
   "outputs": [],
   "source": [
    "all_cur_and_nxt_lr_pred_ff_df['sample_size'] = all_cur_and_nxt_lr_pred_ff_df['ctrl_sample_size']\n",
    "all_cur_and_nxt_lr_pred_ff_df.loc[all_cur_and_nxt_lr_pred_ff_df['test_or_control']=='test', 'sample_size'] = all_cur_and_nxt_lr_pred_ff_df['test_sample_size']\n",
    "#all_cur_and_nxt_lr_pred_ff_df.loc[all_cur_and_nxt_lr_pred_ff_df['cluster_for_interaction'].isnull(), 'cluster_for_interaction'] = 'null'"
   ]
  },
  {
   "cell_type": "markdown",
   "metadata": {},
   "source": [
    "### AGENT"
   ]
  },
  {
   "cell_type": "code",
   "execution_count": null,
   "metadata": {},
   "outputs": [],
   "source": [
    "pfas =agent_plan_factors_x_sess_class.PlanFactorsAcrossAgentSessions()\n",
    "all_cur_and_nxt_lr_pred_ff_df = pfas.make_or_retrieve_all_cur_and_nxt_lr_pred_ff_df()\n",
    "agent_pred_ff_df = all_cur_and_nxt_lr_pred_ff_df.copy()"
   ]
  },
  {
   "cell_type": "code",
   "execution_count": null,
   "metadata": {},
   "outputs": [],
   "source": [
    "new_all_cur_and_nxt_lr_pred_ff_df = process_variations_utils.make_new_df_for_plotly_comparison(all_cur_and_nxt_lr_pred_ff_df)"
   ]
  },
  {
   "cell_type": "code",
   "execution_count": null,
   "metadata": {},
   "outputs": [],
   "source": [
    "x_var_column_list = ['ref_point_value']\n",
    "\n",
    "fixed_variable_values_to_use = {\n",
    "}\n",
    "\n",
    "changeable_variables = ['y_var_column', 'key_for_split', 'whether_even_out_dist']\n",
    "\n",
    "\n",
    "columns_to_find_unique_combinations_for_color = ['test_or_control']\n",
    "\n",
    "fig = plot_variations_utils.streamline_making_plotly_plot_to_compare_two_sets_of_data(new_all_cur_and_nxt_lr_pred_ff_df, \n",
    "                                                              fixed_variable_values_to_use,\n",
    "                                                              changeable_variables,\n",
    "                                                              x_var_column_list,\n",
    "                                                              columns_to_find_unique_combinations_for_color=columns_to_find_unique_combinations_for_color)"
   ]
  },
  {
   "cell_type": "code",
   "execution_count": null,
   "metadata": {},
   "outputs": [],
   "source": [
    "all_cur_and_nxt_lr_pred_ff_df['sample_size'] = all_cur_and_nxt_lr_pred_ff_df['ctrl_sample_size']\n",
    "all_cur_and_nxt_lr_pred_ff_df.loc[all_cur_and_nxt_lr_pred_ff_df['test_or_control']=='test', 'sample_size'] = all_cur_and_nxt_lr_pred_ff_df['test_sample_size']\n",
    "#all_cur_and_nxt_lr_pred_ff_df.loc[all_cur_and_nxt_lr_pred_ff_df['cluster_for_interaction'].isnull(), 'cluster_for_interaction'] = 'null'"
   ]
  },
  {
   "cell_type": "markdown",
   "metadata": {},
   "source": [
    "### compare monkey and agent"
   ]
  },
  {
   "cell_type": "markdown",
   "metadata": {},
   "source": [
    "#### get data"
   ]
  },
  {
   "cell_type": "code",
   "execution_count": null,
   "metadata": {},
   "outputs": [],
   "source": [
    "both_pred_ff_players_df = compare_monkey_and_agent_utils.make_both_players_df(monkey_pred_ff_df, agent_pred_ff_df)"
   ]
  },
  {
   "cell_type": "markdown",
   "metadata": {},
   "source": [
    "#### r squared"
   ]
  },
  {
   "cell_type": "code",
   "execution_count": null,
   "metadata": {},
   "outputs": [],
   "source": [
    "# print columns in ref_sub2.columns if no numeric is in the string\n",
    "# ref_sub2.columns[~ref_sub2.columns.str.contains('\\d')]"
   ]
  },
  {
   "cell_type": "code",
   "execution_count": null,
   "metadata": {},
   "outputs": [],
   "source": [
    "new_pred_ff_df = process_variations_utils.make_new_df_for_plotly_comparison(both_pred_ff_players_df,\n",
    "                                                                 match_rows_based_on_ref_columns_only=True)"
   ]
  },
  {
   "cell_type": "code",
   "execution_count": null,
   "metadata": {},
   "outputs": [],
   "source": [
    "x_var_column_list = ['ref_point_value']\n",
    "\n",
    "fixed_variable_values_to_use = {'whether_even_out_dist': True,\n",
    "                                #'key_for_split': 'cluster_seen',\n",
    "}\n",
    "\n",
    "changeable_variables = ['y_var_column', 'key_for_split'] #'ref_point_value'\n",
    "\n",
    "\n",
    "columns_to_find_unique_combinations_for_color = ['test_or_control']\n",
    "columns_to_find_unique_combinations_for_line = ['monkey_or_agent']\n",
    "\n",
    "fig = plot_variations_utils.streamline_making_plotly_plot_to_compare_two_sets_of_data(new_pred_ff_df, \n",
    "                                                              fixed_variable_values_to_use,\n",
    "                                                              changeable_variables,\n",
    "                                                              x_var_column_list,\n",
    "                                                              var_to_determine_x_offset_direction='ref_columns_only',\n",
    "                                                              columns_to_find_unique_combinations_for_color=columns_to_find_unique_combinations_for_color,\n",
    "                                                              columns_to_find_unique_combinations_for_line=columns_to_find_unique_combinations_for_line)"
   ]
  },
  {
   "cell_type": "markdown",
   "metadata": {},
   "source": [
    "#### coeff"
   ]
  },
  {
   "cell_type": "code",
   "execution_count": null,
   "metadata": {},
   "outputs": [],
   "source": [
    "both_players_pred_ff_df['ref_columns_only']"
   ]
  },
  {
   "cell_type": "code",
   "execution_count": null,
   "metadata": {},
   "outputs": [],
   "source": [
    "fixed_variable_values_to_use = {\n",
    "                                #'cluster_for_interaction': 'none',\n",
    "                                #'cluster_to_keep': 'cur_ff_cluster_100_PLUS_nxt_ff_cluster_100_PLUS_nxt_ff_cluster_300',\n",
    "                                'ref_columns_only': True\n",
    "}\n",
    "\n",
    "column_to_split_grouped_bars = 'monkey_or_agent'\n",
    "\n",
    "plot_variations_utils.plot_coeff(both_players_pred_ff_df, column_to_split_grouped_bars=column_to_split_grouped_bars, fixed_variable_values_to_use=fixed_variable_values_to_use)"
   ]
  },
  {
   "cell_type": "markdown",
   "metadata": {},
   "source": [
    "## all_cur_and_nxt_clf_df"
   ]
  },
  {
   "cell_type": "markdown",
   "metadata": {},
   "source": [
    "### MONKEY"
   ]
  },
  {
   "cell_type": "code",
   "execution_count": null,
   "metadata": {},
   "outputs": [],
   "source": [
    "ps = monkey_plan_factors_x_sess_class.PlanAcrossSessions(monkey_name='monkey_Bruno')\n",
    "all_cur_and_nxt_clf_df = ps.make_or_retrieve_all_cur_and_nxt_clf_df()\n",
    "monkey_clf_df = all_cur_and_nxt_clf_df.copy()"
   ]
  },
  {
   "cell_type": "code",
   "execution_count": null,
   "metadata": {},
   "outputs": [],
   "source": [
    "ps = monkey_plan_factors_x_sess_class.PlanAcrossSessions(monkey_name='monkey_Schro')\n",
    "all_cur_and_nxt_clf_df = ps.make_or_retrieve_all_cur_and_nxt_clf_df()\n",
    "monkey_clf_df = all_cur_and_nxt_clf_df.copy()"
   ]
  },
  {
   "cell_type": "code",
   "execution_count": null,
   "metadata": {},
   "outputs": [],
   "source": [
    "new_all_cur_and_nxt_clf_df = process_variations_utils.make_new_df_for_plotly_comparison(all_cur_and_nxt_clf_df)"
   ]
  },
  {
   "cell_type": "code",
   "execution_count": null,
   "metadata": {},
   "outputs": [],
   "source": [
    "\n",
    "x_var_column_list = ['ref_point_value']\n",
    "\n",
    "fixed_variable_values_to_use = {'cluster_for_interaction': 'cur_ff_cluster_100',\n",
    "                                'cluster_to_keep': 'cur_ff_cluster_100_PLUS_nxt_ff_cluster_100',\n",
    "                                'use_combd_features_for_cluster_only': False,\n",
    "                                #'whether_even_out_dist': True,\n",
    "}\n",
    "\n",
    "changeable_variables = ['y_var_column', 'whether_even_out_dist', 'key_for_split']\n",
    "\n",
    "\n",
    "columns_to_find_unique_combinations_for_color = ['test_or_control']\n",
    "\n",
    "fig = plot_variations_utils.streamline_making_plotly_plot_to_compare_two_sets_of_data(new_all_cur_and_nxt_clf_df, \n",
    "                                                              fixed_variable_values_to_use,\n",
    "                                                              changeable_variables,\n",
    "                                                              x_var_column_list,\n",
    "                                                              y_var_column='average_accuracy',\n",
    "                                                              columns_to_find_unique_combinations_for_color=columns_to_find_unique_combinations_for_color)"
   ]
  },
  {
   "cell_type": "markdown",
   "metadata": {},
   "source": [
    "### AGENT"
   ]
  },
  {
   "cell_type": "code",
   "execution_count": null,
   "metadata": {},
   "outputs": [],
   "source": [
    "pfas =agent_plan_factors_x_sess_class.PlanFactorsAcrossAgentSessions()\n",
    "all_cur_and_nxt_clf_df = pfas.make_or_retrieve_all_cur_and_nxt_clf_df()\n",
    "agent_pred_ff_df = all_cur_and_nxt_clf_df.copy()"
   ]
  },
  {
   "cell_type": "code",
   "execution_count": null,
   "metadata": {},
   "outputs": [],
   "source": [
    "new_all_cur_and_nxt_clf_df = process_variations_utils.make_new_df_for_plotly_comparison(all_cur_and_nxt_clf_df)"
   ]
  },
  {
   "cell_type": "code",
   "execution_count": null,
   "metadata": {},
   "outputs": [],
   "source": [
    "\n",
    "x_var_column_list = ['ref_point_value']\n",
    "\n",
    "fixed_variable_values_to_use = {\n",
    "                                # 'cluster_for_interaction': 'cur_ff_cluster_100',\n",
    "                                # 'cluster_to_keep': 'cur_ff_cluster_100_PLUS_nxt_ff_cluster_100',\n",
    "                                'cluster_to_keep': 'none',\n",
    "                                'use_combd_features_for_cluster_only': False,\n",
    "                                #'whether_even_out_dist': True,\n",
    "}\n",
    "\n",
    "changeable_variables = ['y_var_column', 'whether_even_out_dist', 'key_for_split']\n",
    "\n",
    "\n",
    "columns_to_find_unique_combinations_for_color = ['test_or_control']\n",
    "\n",
    "fig = plot_variations_utils.streamline_making_plotly_plot_to_compare_two_sets_of_data(new_all_cur_and_nxt_clf_df, \n",
    "                                                              fixed_variable_values_to_use,\n",
    "                                                              changeable_variables,\n",
    "                                                              x_var_column_list,\n",
    "                                                              y_var_column='average_accuracy',\n",
    "                                                              columns_to_find_unique_combinations_for_color=columns_to_find_unique_combinations_for_color)"
   ]
  },
  {
   "cell_type": "markdown",
   "metadata": {},
   "source": [
    "### compare monkey and agent"
   ]
  },
  {
   "cell_type": "markdown",
   "metadata": {},
   "source": [
    "#### get data"
   ]
  },
  {
   "cell_type": "code",
   "execution_count": null,
   "metadata": {},
   "outputs": [],
   "source": [
    "both_players_clf_df = compare_monkey_and_agent_utils.make_both_players_df(monkey_clf_df, agent_clf_df)"
   ]
  },
  {
   "cell_type": "markdown",
   "metadata": {},
   "source": [
    "#### r squared"
   ]
  },
  {
   "cell_type": "code",
   "execution_count": null,
   "metadata": {},
   "outputs": [],
   "source": [
    "# print columns in ref_sub2.columns if no numeric is in the string\n",
    "# ref_sub2.columns[~ref_sub2.columns.str.contains('\\d')]"
   ]
  },
  {
   "cell_type": "code",
   "execution_count": null,
   "metadata": {},
   "outputs": [],
   "source": [
    "new_clf_df = process_variations_utils.make_new_df_for_plotly_comparison(both_players_clf_df,\n",
    "                                                                 match_rows_based_on_ref_columns_only=True)"
   ]
  },
  {
   "cell_type": "code",
   "execution_count": null,
   "metadata": {},
   "outputs": [],
   "source": [
    "x_var_column_list = ['ref_point_value']\n",
    "\n",
    "fixed_variable_values_to_use = {\n",
    "                                'cluster_to_keep': 'cur_ff_cluster_100_PLUS_nxt_ff_cluster_100',\n",
    "                                'cluster_for_interaction': 'cur_ff_cluster_100',\n",
    "                                # 'cluster_for_interaction': 'none',\n",
    "                                # 'cluster_to_keep': 'none',\n",
    "                                'whether_even_out_dist': True,\n",
    "                                'key_for_split': 'cluster_seen',\n",
    "                                #'use_combd_features_for_cluster_only': False,\n",
    "}\n",
    "\n",
    "changeable_variables = ['y_var_column', 'cluster_to_keep'] #'ref_point_value'\n",
    "\n",
    "\n",
    "columns_to_find_unique_combinations_for_color = ['test_or_control']\n",
    "columns_to_find_unique_combinations_for_line = ['monkey_or_agent']\n",
    "\n",
    "fig = plot_variations_utils.streamline_making_plotly_plot_to_compare_two_sets_of_data(new_clf_df, \n",
    "                                                              fixed_variable_values_to_use,\n",
    "                                                              changeable_variables,\n",
    "                                                              x_var_column_list,\n",
    "                                                              y_var_column='average_accuracy',\n",
    "                                                              var_to_determine_x_offset_direction='ref_columns_only',\n",
    "                                                              columns_to_find_unique_combinations_for_color=columns_to_find_unique_combinations_for_color,\n",
    "                                                              columns_to_find_unique_combinations_for_line=columns_to_find_unique_combinations_for_line)"
   ]
  },
  {
   "cell_type": "markdown",
   "metadata": {},
   "source": [
    "#### coeff"
   ]
  },
  {
   "cell_type": "code",
   "execution_count": null,
   "metadata": {},
   "outputs": [],
   "source": [
    "both_players_df['ref_columns_only']"
   ]
  },
  {
   "cell_type": "code",
   "execution_count": null,
   "metadata": {},
   "outputs": [],
   "source": [
    "fixed_variable_values_to_use = {\n",
    "                                #'cluster_for_interaction': 'none',\n",
    "                                #'cluster_to_keep': 'cur_ff_cluster_100_PLUS_nxt_ff_cluster_100_PLUS_nxt_ff_cluster_300',\n",
    "                                'ref_columns_only': True\n",
    "}\n",
    "\n",
    "column_to_split_grouped_bars = 'monkey_or_agent'\n",
    "\n",
    "plot_variations_utils.plot_coeff(both_players_df, column_to_split_grouped_bars=column_to_split_grouped_bars, fixed_variable_values_to_use=fixed_variable_values_to_use)"
   ]
  },
  {
   "cell_type": "markdown",
   "metadata": {},
   "source": [
    "## all_only_cur_lr_df"
   ]
  },
  {
   "cell_type": "markdown",
   "metadata": {},
   "source": [
    "### make df"
   ]
  },
  {
   "cell_type": "code",
   "execution_count": null,
   "metadata": {},
   "outputs": [],
   "source": [
    "exists_ok = True\n",
    "osfxs = only_cur_ff_x_sess_class.OnlyStopFFAcrossSessions(monkey_name='monkey_Bruno')\n",
    "all_only_cur_lr_df = osfxs.make_or_retrieve_all_only_cur_lr_df(exists_ok=exists_ok)"
   ]
  },
  {
   "cell_type": "code",
   "execution_count": null,
   "metadata": {},
   "outputs": [],
   "source": [
    "exists_ok = True\n",
    "osfxs = only_cur_ff_x_sess_class.OnlyStopFFAcrossSessions(monkey_name='monkey_Schro')\n",
    "all_only_cur_lr_df = osfxs.make_or_retrieve_all_only_cur_lr_df(exists_ok=exists_ok)"
   ]
  },
  {
   "cell_type": "markdown",
   "metadata": {},
   "source": [
    "### plot"
   ]
  },
  {
   "cell_type": "code",
   "execution_count": null,
   "metadata": {},
   "outputs": [],
   "source": [
    "new_all_only_cur_lr_df = process_variations_utils.make_new_df_for_plotly_comparison(all_only_cur_lr_df)"
   ]
  },
  {
   "cell_type": "code",
   "execution_count": null,
   "metadata": {},
   "outputs": [],
   "source": [
    "x_var_column_list = ['ref_point_value']\n",
    "\n",
    "fixed_variable_values_to_use = {'cluster_for_interaction': 'cur_ff_cluster_100',\n",
    "                                'add_ref_interaction': True,\n",
    "                                #'use_combd_features_for_cluster_only': False,\n",
    "}\n",
    "\n",
    "changeable_variables = ['y_var_column']\n",
    "\n",
    "\n",
    "columns_to_find_unique_combinations_for_color = ['add_ref_interaction']\n",
    "\n",
    "fig = plot_variations_utils.streamline_making_plotly_plot_to_compare_two_sets_of_data(new_all_only_cur_lr_df, \n",
    "                                                              fixed_variable_values_to_use,\n",
    "                                                              changeable_variables,\n",
    "                                                              x_var_column_list,\n",
    "                                                              columns_to_find_unique_combinations_for_color=columns_to_find_unique_combinations_for_color)"
   ]
  },
  {
   "cell_type": "markdown",
   "metadata": {},
   "source": [
    "## all_only_cur_ml_df"
   ]
  },
  {
   "cell_type": "markdown",
   "metadata": {},
   "source": [
    "### make df"
   ]
  },
  {
   "cell_type": "code",
   "execution_count": null,
   "metadata": {},
   "outputs": [],
   "source": [
    "osfxs =only_cur_ff_x_sess_class.OnlyStopFFAcrossSessions(monkey_name='monkey_Bruno')\n",
    "all_only_cur_ml_df = osfxs.make_or_retrieve_all_only_cur_ml_df()"
   ]
  },
  {
   "cell_type": "code",
   "execution_count": null,
   "metadata": {},
   "outputs": [],
   "source": [
    "osfxs =only_cur_ff_x_sess_class.OnlyStopFFAcrossSessions(monkey_name='monkey_Schro')\n",
    "all_only_cur_ml_df = osfxs.make_or_retrieve_all_only_cur_ml_df()"
   ]
  },
  {
   "cell_type": "markdown",
   "metadata": {},
   "source": [
    "### plot"
   ]
  },
  {
   "cell_type": "code",
   "execution_count": null,
   "metadata": {},
   "outputs": [],
   "source": [
    "new_all_only_cur_ml_df = process_variations_utils.make_new_df_for_plotly_comparison(all_only_cur_ml_df)"
   ]
  },
  {
   "cell_type": "code",
   "execution_count": null,
   "metadata": {},
   "outputs": [],
   "source": [
    "x_var_column_list = ['ref_point_value']\n",
    "\n",
    "fixed_variable_values_to_use = {'cluster_for_interaction': 'cur_ff_cluster_100',\n",
    "                                'add_ref_interaction': True,\n",
    "                                #'use_combd_features_for_cluster_only': False,\n",
    "}\n",
    "\n",
    "changeable_variables = ['y_var_column']\n",
    "\n",
    "\n",
    "columns_to_find_unique_combinations_for_color = ['add_ref_interaction']\n",
    "\n",
    "fig = plot_variations_utils.streamline_making_plotly_plot_to_compare_two_sets_of_data(new_all_only_cur_ml_df, \n",
    "                                                              fixed_variable_values_to_use,\n",
    "                                                              changeable_variables,\n",
    "                                                              x_var_column_list,\n",
    "                                                              columns_to_find_unique_combinations_for_color=columns_to_find_unique_combinations_for_color)"
   ]
  },
  {
   "cell_type": "markdown",
   "metadata": {},
   "source": [
    "# Coeff of one comdo"
   ]
  },
  {
   "cell_type": "markdown",
   "metadata": {},
   "source": [
    "### existing"
   ]
  },
  {
   "cell_type": "code",
   "execution_count": null,
   "metadata": {},
   "outputs": [],
   "source": [
    "processed_df = new_all_cur_and_nxt_lr_df.copy()\n",
    "\n",
    "processed_df = processed_df[processed_df['cluster_for_interaction']=='cur_ff_cluster_100'].copy()\n",
    "\n",
    "processed_df = processed_df[processed_df['use_combd_features_for_cluster_only']==True].copy()\n",
    "\n",
    "# those vars can be explanatory vars\n",
    "processed_df = processed_df[processed_df['keep_monkey_info']==True].copy()\n",
    "#processed_df = processed_df[processed_df['cluster_to_keep']=='all'].copy()\n",
    "processed_df = processed_df[processed_df['whether_even_out_dist']==True].copy()"
   ]
  },
  {
   "cell_type": "code",
   "execution_count": null,
   "metadata": {},
   "outputs": [],
   "source": [
    "processed_df = processed_df[processed_df['ref_point_value']==0.1].copy()\n",
    "processed_df = processed_df[processed_df['cluster_to_keep']=='all'].copy()\n",
    "processed_df = processed_df[processed_df['ref_columns_only']==False].copy()\n",
    "processed_df = processed_df[processed_df['y_var_column']=='diff_in_abs_angle_to_nxt_ff'].copy()"
   ]
  },
  {
   "cell_type": "code",
   "execution_count": null,
   "metadata": {},
   "outputs": [],
   "source": [
    "all_features_df = process_variations_utils.make_all_features_df_by_separating_based_on_a_column(processed_df)"
   ]
  },
  {
   "cell_type": "code",
   "execution_count": null,
   "metadata": {},
   "outputs": [],
   "source": [
    "all_features_df_sub = all_features_df[all_features_df['rank'] <= 10].copy()"
   ]
  },
  {
   "cell_type": "code",
   "execution_count": null,
   "metadata": {},
   "outputs": [],
   "source": [
    "# make a horizontal grouped barplot from all_feature_df, group by feature\n",
    "# x axis: abs_coeff\n",
    "# y axis: feature\n",
    "# color: test_or_control\n",
    "\n",
    "plt.figure(figsize=(10, 10))\n",
    "sns.barplot(data=all_features_df_sub, x='abs_coeff', y='feature', hue='test_or_control')\n",
    "plt.show()\n"
   ]
  },
  {
   "cell_type": "markdown",
   "metadata": {},
   "source": [
    "### remake"
   ]
  },
  {
   "cell_type": "code",
   "execution_count": null,
   "metadata": {},
   "outputs": [],
   "source": [
    "to_predict_ff = False\n",
    "ref_point_mode = 'time after cur ff visible'\n",
    "ref_point_value = 0.1\n",
    "column_for_split = 'nxt_ff_cluster_last_seen_time_bbas'\n",
    "whether_filter_info = True\n",
    "finalized_params = {\n",
    "                    'max_curv_range': 200,\n",
    "                    'whether_even_out_distribution': True,\n",
    "                    'whether_limit_cur_ff_cluster_50_size': False,\n",
    "                    'if_test_nxt_ff_group_appear_after_stop': 'flexible',\n",
    "                    'if_ctrl_nxt_ff_group_appear_after_stop': 'flexible'\n",
    "                    }\n",
    "\n",
    "\n",
    "mtc = monkey_plan_factors_x_sess_class.PlanAcrossSessions()\n",
    "mtc.quickly_get_plan_features_control_and_test_data(ref_point_mode, ref_point_value, to_predict_ff=to_predict_ff, keep_monkey_info=True)\n",
    "mtc.plan_features_test, mtc.plan_features_ctrl = plan_factors_utils.quickly_process_plan_features_test_and_ctrl(mtc.plan_features_test, mtc.plan_features_ctrl, column_for_split, whether_filter_info, finalized_params)\n"
   ]
  },
  {
   "cell_type": "code",
   "execution_count": null,
   "metadata": {},
   "outputs": [],
   "source": [
    "ml_inst = ml_methods_class.MlMethods()\n",
    "ml_inst.data_source = mtc\n",
    "\n",
    "all_info = pd.DataFrame()\n",
    "for y_var_column in all_cur_and_nxt_lr_df['y_var_column'].unique():\n",
    "    for test_or_control in ['test', 'control']:\n",
    "        for ref_columns_only in [True, False]:\n",
    "            mtc.test_or_control = test_or_control\n",
    "            ml_inst.data_source.streamline_preparing_for_ml(y_var_column, \n",
    "                                                ref_columns_only=ref_columns_only,\n",
    "                                                cluster_to_keep='all',\n",
    "                                                cluster_for_interaction='none',\n",
    "                                                add_ref_interaction=True,\n",
    "                                                winsorize_angle_features=True,\n",
    "                                                using_lasso=True, \n",
    "                                                use_combd_features_for_cluster_only=False,\n",
    "                                                )\n",
    "            if (ml_inst.data_source.x_var_df.shape[0] == 0) or (ml_inst.data_source.x_var_df.shape[1] == 0):\n",
    "                print('no data for y_var_column:', y_var_column)\n",
    "                continue\n",
    "            ml_inst.use_train_test_split(ml_inst.data_source.x_var_df, ml_inst.data_source.y_var_df, y_var_column=y_var_column, remove_outliers=True)\n",
    "            ml_inst.use_linear_regression(show_plot=False)\n",
    "           \n",
    "\n",
    "            temp_info = regression_utils.get_significant_features_in_one_row(ml_inst.summary_df, max_features_to_save=None, add_coeff=True)\n",
    "\n",
    "            # also try cross validation\n",
    "            x_var, y_var_column = prep_ml_data_utils.further_prepare_x_var_and_y_var(ml_inst.data_source.x_var_df, ml_inst.data_source.y_var_df, y_var_column=y_var_column, remove_outliers=True)\n",
    "            result = regression_utils.use_linear_regression_cv(x_var, y_var_column)\n",
    "            temp_info['avg_r_squared'] = result['test_r2_mean']\n",
    "            temp_info['std_r_squared'] = result['test_r2_std']\n",
    "            temp_info['y_var_column'] = y_var_column\n",
    "            temp_info['test_or_control'] = test_or_control\n",
    "            temp_info['ref_columns_only'] = ref_columns_only\n",
    "            print('num_features:', x_var.shape[1])\n",
    "\n",
    "            all_info = pd.concat([all_info, temp_info], axis=0)\n",
    "\n",
    "    break"
   ]
  },
  {
   "cell_type": "markdown",
   "metadata": {},
   "source": [
    "### plot"
   ]
  },
  {
   "cell_type": "code",
   "execution_count": null,
   "metadata": {},
   "outputs": [],
   "source": [
    "all_info"
   ]
  },
  {
   "cell_type": "code",
   "execution_count": null,
   "metadata": {},
   "outputs": [],
   "source": [
    "ref_columns_only = False\n",
    "all_info_sub = all_info[all_info['ref_columns_only']==ref_columns_only].copy()\n",
    "all_features_df = process_variations_utils.make_all_features_df_by_separating_based_on_a_column(all_info_sub)"
   ]
  },
  {
   "cell_type": "code",
   "execution_count": null,
   "metadata": {},
   "outputs": [],
   "source": [
    "# make a horizontal grouped barplot from all_feature_df, group by feature\n",
    "# x axis: abs_coeff\n",
    "# y axis: feature\n",
    "# color: test_or_control\n",
    "\n",
    "plt.figure(figsize=(10, 10))\n",
    "sns.barplot(data=all_features_df, x='abs_coeff', y='feature', hue='test_or_control')\n",
    "plt.show()\n"
   ]
  },
  {
   "cell_type": "code",
   "execution_count": null,
   "metadata": {},
   "outputs": [],
   "source": [
    "all_info.shape"
   ]
  },
  {
   "cell_type": "markdown",
   "metadata": {},
   "source": [
    "# Compare lr and ml\n",
    "\n",
    "Currently there are problems for the below because lr and ml don't share the same sets of variables"
   ]
  },
  {
   "cell_type": "code",
   "execution_count": null,
   "metadata": {},
   "outputs": [],
   "source": [
    "# for the same y_var_column and the same ref_columns_only and the same ref_point_value, use the best result from lr (see which cluster_for_interaction have the best result)\n",
    "# and then make plots to compare...?"
   ]
  },
  {
   "cell_type": "code",
   "execution_count": null,
   "metadata": {},
   "outputs": [],
   "source": [
    "osfxs =only_cur_ff_x_sess_class.OnlyStopFFAcrossSessions(monkey_name='monkey_Bruno')\n",
    "all_only_cur_ml_df = osfxs.make_or_retrieve_all_only_cur_ml_df()\n",
    "all_only_cur_ml_df = all_only_cur_ml_df[(all_only_cur_ml_df['model'] == 'rf')].copy()"
   ]
  },
  {
   "cell_type": "code",
   "execution_count": null,
   "metadata": {},
   "outputs": [],
   "source": [
    "all_only_cur_lr_df = all_only_cur_lr_df[(all_only_cur_lr_df['using_lasso'] == True) &\n",
    "                                          (all_only_cur_lr_df['winsorize_angle_features'] == True)].copy()"
   ]
  },
  {
   "cell_type": "code",
   "execution_count": null,
   "metadata": {},
   "outputs": [],
   "source": [
    "sns.histplot(all_only_cur_ml_df['avg_r_squared'] - all_only_cur_ml_df['r_squared_test'])\n",
    "plt.show()"
   ]
  },
  {
   "cell_type": "code",
   "execution_count": null,
   "metadata": {},
   "outputs": [],
   "source": [
    "all_combined_rows = pd.DataFrame()\n",
    "columns_to_save = ['y_var_column', 'ref_point_value', 'ref_columns_only', 'avg_r_squared', 'num_features', 'sample_size']\n",
    "for y_var_column in all_only_cur_ml_df['y_var_column'].unique():\n",
    "    for ref_point_value in all_only_cur_ml_df['ref_point_value'].unique():\n",
    "        for ref_columns_only in all_only_cur_ml_df['ref_columns_only'].unique():\n",
    "            sub_lr = all_only_cur_lr_df[\n",
    "                                        (all_only_cur_lr_df['y_var_column']==y_var_column) &\n",
    "                                        (all_only_cur_lr_df['ref_point_value']==ref_point_value) &\n",
    "                                        (all_only_cur_lr_df['ref_columns_only']==ref_columns_only)\n",
    "                                        ].copy()\n",
    "            sub_lr = sub_lr[sub_lr['avg_r_squared'] == sub_lr['avg_r_squared'].max()].iloc[[0]].copy()\n",
    "            sub_lr = sub_lr[columns_to_save].reset_index(drop=True)\n",
    "            sub_lr['model'] = 'linear regression'\n",
    "\n",
    "            sub_ml = all_only_cur_ml_df[\n",
    "                                        (all_only_cur_ml_df['y_var_column']==y_var_column) &\n",
    "                                        (all_only_cur_ml_df['ref_point_value']==ref_point_value) &\n",
    "                                        (all_only_cur_ml_df['ref_columns_only']==ref_columns_only)\n",
    "                                        ].copy()\n",
    "            sub_ml = sub_ml[columns_to_save].reset_index(drop=True)       \n",
    "            sub_ml['model'] = 'random forest'\n",
    "\n",
    "            combined_row = pd.concat([sub_lr, sub_ml], axis=0)\n",
    "            if combined_row.shape[0] != 2:\n",
    "                raise ValueError('combined_row should have 2 rows')\n",
    "            all_combined_rows = pd.concat([all_combined_rows, combined_row], axis=0)"
   ]
  },
  {
   "cell_type": "code",
   "execution_count": null,
   "metadata": {},
   "outputs": [],
   "source": [
    "columns_with_variations = process_variations_utils.examine_columns(processed_df)"
   ]
  },
  {
   "cell_type": "code",
   "execution_count": null,
   "metadata": {},
   "outputs": [],
   "source": [
    "x_var_column_list = ['ref_point_value', 'model']\n",
    "\n",
    "fixed_variable_values_to_use = {#'cluster_for_interaction': 'none',\n",
    "                                #'use_combd_features_for_cluster_only': False,\n",
    "}\n",
    "\n",
    "changeable_variables = ['y_var_column', 'ref_point_value']\n",
    "\n",
    "\n",
    "columns_to_find_unique_combinations_for_color = ['model']\n",
    "\n",
    "fig = plot_variations_utils.streamline_making_plotly_plot_to_compare_two_sets_of_data(all_combined_rows, \n",
    "                                                              fixed_variable_values_to_use,\n",
    "                                                              changeable_variables,\n",
    "                                                              x_var_column_list,\n",
    "                                                              columns_to_find_unique_combinations_for_color=columns_to_find_unique_combinations_for_color)"
   ]
  },
  {
   "cell_type": "markdown",
   "metadata": {},
   "source": [
    "# Other plots"
   ]
  },
  {
   "cell_type": "markdown",
   "metadata": {},
   "source": [
    "## show \"make dist even\" meaning"
   ]
  },
  {
   "cell_type": "code",
   "execution_count": null,
   "metadata": {},
   "outputs": [],
   "source": [
    "test_df = mtc.plan_features_test.copy()\n",
    "ctrl_df = mtc.plan_features_ctrl.copy()"
   ]
  },
  {
   "cell_type": "code",
   "execution_count": null,
   "metadata": {},
   "outputs": [],
   "source": [
    "from planning_analysis.plan_factors import test_vs_control_utils\n",
    "test_df, ctrl_df = test_vs_control_utils.make_the_distributions_of_distance_more_similar_in_df(test_df, ctrl_df, verbose=True)\n",
    "test_df, ctrl_df = test_vs_control_utils.make_the_distributions_of_angle_more_similar_in_df(test_df, ctrl_df, verbose=True)"
   ]
  },
  {
   "cell_type": "code",
   "execution_count": null,
   "metadata": {},
   "outputs": [],
   "source": [
    "# Initialize a 3x1 subplot\n",
    "fig, axes = plt.subplots(1, 3, figsize=(15, 5))\n",
    "\n",
    "for i, var in enumerate(['cur_ff_distance_at_ref', 'cur_ff_angle_at_ref', 'nxt_ff_angle_at_ref']):\n",
    "    if 'angle' in var:\n",
    "        binwidth_1 = 0.05\n",
    "        binwidth_2 = 0.05\n",
    "        # binwidth_1 = 0.05\n",
    "        # binwidth_2 = 0.051\n",
    "    else:\n",
    "        binwidth_1 = 5\n",
    "        binwidth_2 = 5\n",
    "    \n",
    "    # Use the ith subplot for plotting\n",
    "    ax = axes[i]\n",
    "    sns.histplot(test_df[var], color='blue', stat='probability', binwidth=binwidth_1, label='Test', ax=ax)\n",
    "    sns.histplot(ctrl_df[var], color='orange', stat='probability', binwidth=binwidth_2, label='Control', ax=ax)\n",
    "    ax.set_title(var)\n",
    "    ax.legend()\n",
    "\n",
    "# Adjust layout to prevent overlap\n",
    "plt.tight_layout()\n",
    "plt.show()"
   ]
  },
  {
   "cell_type": "code",
   "execution_count": null,
   "metadata": {},
   "outputs": [],
   "source": [
    "for var in ['cur_ff_angle_at_ref', 'nxt_ff_angle_at_ref', 'cur_ff_distance_at_ref']:\n",
    "    if 'angle' in var:\n",
    "        binwidth_1 = 0.05\n",
    "        binwidth_2 = 0.051\n",
    "    else:\n",
    "        binwidth_1 = 5\n",
    "        binwidth_2 = 5.25\n",
    "    sns.histplot(test_df[var], color='blue', stat='probability', binwidth=binwidth_1, label='Test')\n",
    "    sns.histplot(ctrl_df[var], color='orange', stat='probability', binwidth=binwidth_2, label='Control')\n",
    "    plt.title(var)\n",
    "    plt.legend()\n",
    "    plt.show()\n",
    "\n"
   ]
  },
  {
   "cell_type": "code",
   "execution_count": null,
   "metadata": {},
   "outputs": [],
   "source": [
    "'cur_ff_distance_at_ref', 'cur_ff_angle_at_ref', 'nxt_ff_angle_at_ref'"
   ]
  },
  {
   "cell_type": "markdown",
   "metadata": {},
   "source": [
    "## show y_var_column dist"
   ]
  },
  {
   "cell_type": "code",
   "execution_count": null,
   "metadata": {},
   "outputs": [],
   "source": [
    "y_columns_of_interest=['diff_in_d_heading_to_cur_ff',\n",
    "                        'diff_in_abs_angle_to_nxt_ff',\n",
    "                        'diff_in_abs_d_curv',\n",
    "                        'dir_from_cur_ff_to_stop',\n",
    "                        'd_heading_of_traj',\n",
    "                        'curv_of_traj_before_stop',\n",
    "                        ]"
   ]
  },
  {
   "cell_type": "code",
   "execution_count": null,
   "metadata": {},
   "outputs": [],
   "source": [
    "def agg_regrouped_info_func(test_df, ctrl_df):\n",
    "\n",
    "    test_df = test_df[y_columns_of_interest].copy()\n",
    "    test_df['test_or_control'] = 'test'\n",
    "    ctrl_df = ctrl_df[y_columns_of_interest].copy()\n",
    "    ctrl_df['test_or_control'] = 'control'\n",
    "    temp_regrouped_info = pd.concat([test_df, ctrl_df], axis=0)\n",
    "    temp_regrouped_info.reset_index(drop=True, inplace=True)\n",
    "\n",
    "    return temp_regrouped_info"
   ]
  },
  {
   "cell_type": "code",
   "execution_count": null,
   "metadata": {},
   "outputs": [],
   "source": [
    "to_predict_ff = False\n",
    "ref_point_mode = 'time after cur ff visible'\n",
    "ref_point_value = 0.1\n",
    "\n",
    "mtc = monkey_plan_factors_x_sess_class.PlanAcrossSessions()\n",
    "mtc.get_plan_features_df_across_sessions(ref_point_mode=ref_point_mode, ref_point_value=ref_point_value)\n",
    "mtc.plan_features_test, mtc.plan_features_ctrl = plan_factors_utils.make_plan_features_test_and_plan_features_ctrl(mtc.combd_plan_features_tc)\n"
   ]
  },
  {
   "cell_type": "code",
   "execution_count": null,
   "metadata": {},
   "outputs": [],
   "source": [
    "regrouped_info = make_variations_utils.make_regrouped_info(mtc.plan_features_test, \n",
    "                                                mtc.plan_features_ctrl, \n",
    "                                                agg_regrouped_info_func,\n",
    "                                                key_for_split_choices=['cluster_seen'],\n",
    "                                                whether_filter_info_choices=[True],\n",
    "                                                whether_even_out_distribution_choices=[False],\n",
    "                                                whether_test_nxt_ff_flash_after_stop_choices=['flexible'],\n",
    "                                                whether_limit_cur_ff_cluster_50_size_choices=[False],\n",
    "                                                ctrl_flash_compared_to_test_choices=['flexible'],\n",
    "                                                max_curv_range_choices=[200],\n",
    "                                                verbose=True\n",
    "                                                )"
   ]
  },
  {
   "cell_type": "code",
   "execution_count": null,
   "metadata": {},
   "outputs": [],
   "source": [
    "test_info = regrouped_info[regrouped_info['test_or_control']=='test'].copy()\n",
    "ctrl_info = regrouped_info[regrouped_info['test_or_control']=='control'].copy()\n",
    "\n",
    "for y_var_column in y_columns_of_interest:\n",
    "    sns.histplot(test_info[y_var_column], color='blue', stat='probability')\n",
    "    sns.histplot(ctrl_info[y_var_column], color='orange', stat='probability')\n",
    "    plt.title(y_var_column)\n",
    "    plt.show()\n",
    "    \n",
    "    sns.boxplot(data=regrouped_info, x='test_or_control', y=y_var_column)\n",
    "    plt.title(y_var_column)\n",
    "    plt.show()"
   ]
  }
 ],
 "metadata": {
  "kernelspec": {
   "display_name": "ff_venv2",
   "language": "python",
   "name": "python3"
  },
  "language_info": {
   "codemirror_mode": {
    "name": "ipython",
    "version": 3
   },
   "file_extension": ".py",
   "mimetype": "text/x-python",
   "name": "python",
   "nbconvert_exporter": "python",
   "pygments_lexer": "ipython3",
   "version": "3.11.11"
  }
 },
 "nbformat": 4,
 "nbformat_minor": 2
}
