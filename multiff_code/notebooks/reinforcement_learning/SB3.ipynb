{
 "cells": [
  {
   "cell_type": "code",
   "execution_count": null,
   "id": "a76cf94f",
   "metadata": {},
   "outputs": [],
   "source": [
    "shutil.which(\"ffmpeg\")"
   ]
  },
  {
   "attachments": {},
   "cell_type": "markdown",
   "id": "1t_MmbnQxz3f",
   "metadata": {
    "id": "1t_MmbnQxz3f"
   },
   "source": [
    "## Install packages"
   ]
  },
  {
   "cell_type": "code",
   "execution_count": null,
   "id": "370f1462",
   "metadata": {},
   "outputs": [],
   "source": [
    "# !pip install neo\n",
    "# !pip install matplotlib_scalebar\n",
    "# !pip install ffmpeg\n",
    "# !pip install wheel==0.38.4\n",
    "# !pip3 install setuptools==65.5.0\n",
    "# !pip install stable_baselines3\n",
    "# !pip install optuna"
   ]
  },
  {
   "attachments": {},
   "cell_type": "markdown",
   "id": "9904b001",
   "metadata": {
    "id": "9904b001"
   },
   "source": [
    "## import packages"
   ]
  },
  {
   "cell_type": "code",
   "execution_count": 1,
   "id": "78d7921b",
   "metadata": {
    "colab": {
     "base_uri": "https://localhost:8080/"
    },
    "executionInfo": {
     "elapsed": 32160,
     "status": "ok",
     "timestamp": 1684945803461,
     "user": {
      "displayName": "Cici Du",
      "userId": "17701548280142155870"
     },
     "user_tz": -480
    },
    "id": "78d7921b",
    "outputId": "68f69138-fbc7-40e8-db4e-f3bea17f3a31"
   },
   "outputs": [
    {
     "name": "stdout",
     "output_type": "stream",
     "text": [
      "Set up logging configuration.\n"
     ]
    },
    {
     "name": "stderr",
     "output_type": "stream",
     "text": [
      "/opt/miniconda3/envs/multiff_clean/lib/python3.11/site-packages/requests/__init__.py:86: RequestsDependencyWarning: Unable to find acceptable character detection dependency (chardet or charset_normalizer).\n",
      "  warnings.warn(\n"
     ]
    }
   ],
   "source": [
    "%load_ext autoreload\n",
    "%autoreload 2\n",
    "from pathlib import Path\n",
    "import os, sys\n",
    "for p in [Path.cwd()] + list(Path.cwd().parents):\n",
    "    if p.name == 'Multifirefly-Project':\n",
    "        os.chdir(p)\n",
    "        sys.path.insert(0, str(p / 'multiff_analysis/multiff_code/methods'))\n",
    "        break\n",
    "\n",
    " \n",
    "\n",
    "from data_wrangling import specific_utils, process_monkey_information\n",
    "from pattern_discovery import pattern_by_trials, make_ff_dataframe, pattern_by_trials, organize_patterns_and_features\n",
    "from visualization.matplotlib_tools import plot_trials, plot_polar, additional_plots, plot_behaviors_utils, plot_statistics\n",
    "from visualization.animation import animation_func, animation_utils, animation_class\n",
    "from reinforcement_learning.base_classes import env_utils, base_env, more_envs, rl_base_class, rl_base_utils, env_for_sb3\n",
    "from reinforcement_learning.agents.rnn import gru_utils, lstm_utils\n",
    "from reinforcement_learning.agents.feedforward import interpret_neural_network, sb3_class, sb3_utils\n",
    "import os, sys\n",
    "import numpy as np\n",
    "import matplotlib.pyplot as plt\n",
    "import torch\n",
    "import torch.nn as nn\n",
    "import optuna\n",
    "import matplotlib\n",
    "import matplotlib.animation as animation\n",
    "from matplotlib import rc\n",
    "from stable_baselines3 import SAC\n",
    "from stable_baselines3.common.monitor import Monitor\n",
    "from stable_baselines3.common import results_plotter\n",
    "from stable_baselines3.common.results_plotter import plot_results\n",
    "from stable_baselines3.common.callbacks import StopTrainingOnNoModelImprovement\n",
    "from optuna.pruners import MedianPruner\n",
    "from optuna.samplers import TPESampler\n",
    "from IPython.display import HTML\n",
    "from functools import partial\n",
    "from itertools import product\n",
    "import pandas as pd\n",
    "from os.path import exists\n",
    "import random\n",
    "from importlib import reload\n",
    "from stable_baselines3.common.callbacks import EvalCallback, StopTrainingOnNoModelImprovement, StopTrainingOnRewardThreshold\n",
    "import gc\n",
    "\n",
    "plt.rcParams[\"animation.html\"] = \"html5\"\n",
    "os.environ['KMP_DUPLICATE_LIB_OK']='True'\n",
    "rc('animation', html='jshtml')\n",
    "matplotlib.rcParams.update(matplotlib.rcParamsDefault)\n",
    "matplotlib.rcParams['animation.embed_limit'] = 2**128\n",
    "torch.set_printoptions(sci_mode=False)\n",
    "pd.set_option('display.float_format', lambda x: '%.5f' % x)\n",
    "np.set_printoptions(suppress=True)\n",
    "\n",
    "import os, shutil\n",
    "\n",
    "matplotlib.rcParams[\"animation.ffmpeg_path\"] = shutil.which(\"ffmpeg\")\n",
    "matplotlib.rcParams[\"animation.writer\"] = \"ffmpeg\""
   ]
  },
  {
   "cell_type": "code",
   "execution_count": null,
   "id": "749d36d9",
   "metadata": {},
   "outputs": [],
   "source": [
    "stop!"
   ]
  },
  {
   "cell_type": "markdown",
   "id": "76ac8034",
   "metadata": {},
   "source": [
    "# Streamline training agent"
   ]
  },
  {
   "cell_type": "markdown",
   "id": "56cf5546",
   "metadata": {},
   "source": [
    "## Use class"
   ]
  },
  {
   "cell_type": "code",
   "execution_count": null,
   "id": "18344474",
   "metadata": {},
   "outputs": [
    {
     "data": {
      "text/plain": [
       "0"
      ]
     },
     "execution_count": 3,
     "metadata": {},
     "output_type": "execute_result"
    }
   ],
   "source": [
    "env = rl.sac_model.env.envs[0].env\n",
    "env.cost_for_stop_vel"
   ]
  },
  {
   "cell_type": "code",
   "execution_count": null,
   "id": "4efbb0f1",
   "metadata": {},
   "outputs": [
    {
     "name": "stdout",
     "output_type": "stream",
     "text": [
      "model_folder_name: RL_models/SB3_stored_models/all_agents/oct_15\n",
      "Made env with the following kwargs: {'dt': 0.1, 'dv_cost_factor': 0, 'dw_cost_factor': 0, 'w_cost_factor': 0, 'print_ff_capture_incidents': True, 'print_episode_reward_rates': True, 'max_in_memory_time': 3, 'flash_on_interval': 0.3, 'angular_terminal_vel': 0.01, 'distance2center_cost': 0, 'stop_vel_cost': 200, 'reward_boundary': 25}\n",
      "Made agent here ;lalalallala\n",
      "Made agent with the following params: {'learning_rate': 0.0003, 'batch_size': 1024, 'target_update_interval': 50, 'buffer_size': 1000000, 'learning_starts': 10000, 'train_freq': TrainFreq(frequency=10, unit=<TrainFrequencyUnit.STEP: 'step'>), 'gradient_steps': 10, 'ent_coef': 'auto', 'policy_kwargs': {'activation_fn': <class 'torch.nn.modules.activation.ReLU'>, 'net_arch': [256, 128], 'use_sde': False}, 'gamma': 0.998}\n",
      "Loaded existing agent: RL_models/SB3_stored_models/all_agents/oct_15/best_model.zip\n",
      "Params from agent after loading:\n",
      "{'learning_rate': 0.0003, 'batch_size': 1024, 'target_update_interval': 50, 'buffer_size': 1000000, 'learning_starts': 10000, 'train_freq': TrainFreq(frequency=10, unit=<TrainFrequencyUnit.STEP: 'step'>), 'gradient_steps': 10, 'ent_coef': 'auto', 'policy_kwargs': {'activation_fn': <class 'torch.nn.modules.activation.ReLU'>, 'net_arch': [256, 128], 'use_sde': False}, 'gamma': 0.998}\n",
      "TIME before resetting: 0\n",
      "current linear_terminal_vel:  0.01\n",
      "current angular_terminal_vel:  0.01\n",
      "current dt:  0.1\n",
      "current dv_cost_factor:  0\n",
      "current dw_cost_factor:  0\n",
      "current w_cost_factor:  0\n",
      "current distance2center_cost:  0\n",
      "current stop_vel_cost:  200\n",
      "current flash_on_interval:  0.3\n",
      "current num_obs_ff:  5\n",
      "current reward_boundary:  25\n",
      "current max_in_memory_time:  3\n",
      "Firely capture rate for the episode:  0 ff for 102.49999999999845 s: -------------------> 0.0\n",
      "Total reward for the episode:  0.0\n",
      "Cost breakdown:  {'dv_cost': np.float32(0.0), 'dw_cost': np.float32(0.0), 'w_cost': np.float32(0.0)}\n",
      "Reward for each ff:  []\n",
      "TIME before resetting: 102.49999999999845\n",
      "current linear_terminal_vel:  0.01\n",
      "current angular_terminal_vel:  0.01\n",
      "current dt:  0.1\n",
      "current dv_cost_factor:  0\n",
      "current dw_cost_factor:  0\n",
      "current w_cost_factor:  0\n",
      "current distance2center_cost:  0\n",
      "current stop_vel_cost:  200\n",
      "current flash_on_interval:  0.3\n",
      "current num_obs_ff:  5\n",
      "current reward_boundary:  25\n",
      "current max_in_memory_time:  3\n",
      "\n",
      " episode:  1\n",
      "Firely capture rate for the episode:  0 ff for 102.49999999999845 s: -------------------> 0.0\n",
      "Total reward for the episode:  0.0\n",
      "Cost breakdown:  {'dv_cost': np.float32(0.0), 'dw_cost': np.float32(0.0), 'w_cost': np.float32(0.0)}\n",
      "Reward for each ff:  []\n",
      "TIME before resetting: 102.49999999999845\n",
      "current linear_terminal_vel:  0.01\n",
      "current angular_terminal_vel:  0.01\n",
      "current dt:  0.1\n",
      "current dv_cost_factor:  0\n",
      "current dw_cost_factor:  0\n",
      "current w_cost_factor:  0\n",
      "current distance2center_cost:  0\n",
      "current stop_vel_cost:  200\n",
      "current flash_on_interval:  0.3\n",
      "current num_obs_ff:  5\n",
      "current reward_boundary:  25\n",
      "current max_in_memory_time:  3\n",
      "\n",
      " episode:  2\n",
      "Firely capture rate for the episode:  0 ff for 102.49999999999845 s: -------------------> 0.0\n",
      "Total reward for the episode:  0.0\n",
      "Cost breakdown:  {'dv_cost': np.float32(0.0), 'dw_cost': np.float32(0.0), 'w_cost': np.float32(0.0)}\n",
      "Reward for each ff:  []\n",
      "TIME before resetting: 102.49999999999845\n",
      "current linear_terminal_vel:  0.01\n",
      "current angular_terminal_vel:  0.01\n",
      "current dt:  0.1\n",
      "current dv_cost_factor:  0\n",
      "current dw_cost_factor:  0\n",
      "current w_cost_factor:  0\n",
      "current distance2center_cost:  0\n",
      "current stop_vel_cost:  200\n",
      "current flash_on_interval:  0.3\n",
      "current num_obs_ff:  5\n",
      "current reward_boundary:  25\n",
      "current max_in_memory_time:  3\n",
      "\n",
      " episode:  3\n",
      "Firely capture rate for the episode:  0 ff for 102.49999999999845 s: -------------------> 0.0\n",
      "Total reward for the episode:  0.0\n",
      "Cost breakdown:  {'dv_cost': np.float32(0.0), 'dw_cost': np.float32(0.0), 'w_cost': np.float32(0.0)}\n",
      "Reward for each ff:  []\n",
      "TIME before resetting: 102.49999999999845\n",
      "current linear_terminal_vel:  0.01\n",
      "current angular_terminal_vel:  0.01\n",
      "current dt:  0.1\n",
      "current dv_cost_factor:  0\n",
      "current dw_cost_factor:  0\n",
      "current w_cost_factor:  0\n",
      "current distance2center_cost:  0\n",
      "current stop_vel_cost:  200\n",
      "current flash_on_interval:  0.3\n",
      "current num_obs_ff:  5\n",
      "current reward_boundary:  25\n",
      "current max_in_memory_time:  3\n",
      "\n",
      " episode:  4\n",
      "Firely capture rate for the episode:  0 ff for 102.49999999999845 s: -------------------> 0.0\n",
      "Total reward for the episode:  0.0\n",
      "Cost breakdown:  {'dv_cost': np.float32(0.0), 'dw_cost': np.float32(0.0), 'w_cost': np.float32(0.0)}\n",
      "Reward for each ff:  []\n",
      "TIME before resetting: 102.49999999999845\n",
      "current linear_terminal_vel:  0.01\n",
      "current angular_terminal_vel:  0.01\n",
      "current dt:  0.1\n",
      "current dv_cost_factor:  0\n",
      "current dw_cost_factor:  0\n",
      "current w_cost_factor:  0\n",
      "current distance2center_cost:  0\n",
      "current stop_vel_cost:  200\n",
      "current flash_on_interval:  0.3\n",
      "current num_obs_ff:  5\n",
      "current reward_boundary:  25\n",
      "current max_in_memory_time:  3\n",
      "\n",
      " episode:  5\n"
     ]
    },
    {
     "ename": "KeyboardInterrupt",
     "evalue": "",
     "output_type": "error",
     "traceback": [
      "\u001b[31m---------------------------------------------------------------------------\u001b[39m",
      "\u001b[31mKeyboardInterrupt\u001b[39m                         Traceback (most recent call last)",
      "\u001b[36mCell\u001b[39m\u001b[36m \u001b[39m\u001b[32mIn[3]\u001b[39m\u001b[32m, line 4\u001b[39m\n\u001b[32m      1\u001b[39m model_folder_name = \u001b[33m\"\u001b[39m\u001b[33mRL_models/SB3_stored_models/all_agents/oct_15\u001b[39m\u001b[33m\"\u001b[39m\n\u001b[32m      2\u001b[39m RLforFF = sb3_class.SB3forMultifirefly(\n\u001b[32m      3\u001b[39m     model_folder_name=model_folder_name)\n\u001b[32m----> \u001b[39m\u001b[32m4\u001b[39m \u001b[43mRLforFF\u001b[49m\u001b[43m.\u001b[49m\u001b[43mstreamline_everything\u001b[49m\u001b[43m(\u001b[49m\u001b[43mcurrentTrial_for_animation\u001b[49m\u001b[43m \u001b[49m\u001b[43m=\u001b[49m\u001b[43m \u001b[49m\u001b[32;43m10\u001b[39;49m\u001b[43m,\u001b[49m\u001b[43m \u001b[49m\u001b[43mnum_trials_for_animation\u001b[49m\u001b[43m \u001b[49m\u001b[43m=\u001b[49m\u001b[43m \u001b[49m\u001b[32;43m5\u001b[39;49m\u001b[43m,\u001b[49m\n\u001b[32m      5\u001b[39m \u001b[43m                              \u001b[49m\u001b[43mbest_model_in_curriculum_exists_ok\u001b[49m\u001b[43m=\u001b[49m\u001b[38;5;28;43;01mTrue\u001b[39;49;00m\u001b[43m,\u001b[49m\n\u001b[32m      6\u001b[39m \u001b[43m                              \u001b[49m\u001b[43mbest_model_postcurriculum_exists_ok\u001b[49m\u001b[43m=\u001b[49m\u001b[38;5;28;43;01mTrue\u001b[39;49;00m\u001b[43m,\u001b[49m\n\u001b[32m      7\u001b[39m \u001b[43m                              \u001b[49m\u001b[43mto_load_latest_agent\u001b[49m\u001b[43m=\u001b[49m\u001b[38;5;28;43;01mTrue\u001b[39;49;00m\u001b[43m,\u001b[49m\n\u001b[32m      8\u001b[39m \u001b[43m                              \u001b[49m\u001b[43m)\u001b[49m\n\u001b[32m      9\u001b[39m RLforFF.collect_data(exists_ok=\u001b[38;5;28;01mTrue\u001b[39;00m, save_data=\u001b[38;5;28;01mTrue\u001b[39;00m)\n",
      "\u001b[36mFile \u001b[39m\u001b[32m~/Documents/Multifirefly-Project/multiff_analysis/multiff_code/methods/machine_learning/RL/SB3/rl_base_class.py:500\u001b[39m, in \u001b[36m_RLforMultifirefly.streamline_everything\u001b[39m\u001b[34m(self, currentTrial_for_animation, num_trials_for_animation, duration, n_steps, use_curriculum_training, load_replay_buffer_of_best_model_postcurriculum, best_model_in_curriculum_exists_ok, best_model_postcurriculum_exists_ok, to_load_latest_agent, to_train_agent)\u001b[39m\n\u001b[32m    497\u001b[39m     \u001b[38;5;28mself\u001b[39m.make_agent()\n\u001b[32m    499\u001b[39m \u001b[38;5;28;01mif\u001b[39;00m to_train_agent:\n\u001b[32m--> \u001b[39m\u001b[32m500\u001b[39m     \u001b[38;5;28;43mself\u001b[39;49m\u001b[43m.\u001b[49m\u001b[43mtrain_agent\u001b[49m\u001b[43m(\u001b[49m\u001b[43muse_curriculum_training\u001b[49m\u001b[43m=\u001b[49m\u001b[43muse_curriculum_training\u001b[49m\u001b[43m,\u001b[49m\n\u001b[32m    501\u001b[39m \u001b[43m                     \u001b[49m\u001b[43mbest_model_in_curriculum_exists_ok\u001b[49m\u001b[43m=\u001b[49m\u001b[43mbest_model_in_curriculum_exists_ok\u001b[49m\u001b[43m,\u001b[49m\n\u001b[32m    502\u001b[39m \u001b[43m                     \u001b[49m\u001b[43mbest_model_postcurriculum_exists_ok\u001b[49m\u001b[43m=\u001b[49m\u001b[43mbest_model_postcurriculum_exists_ok\u001b[49m\u001b[43m,\u001b[49m\n\u001b[32m    503\u001b[39m \u001b[43m                     \u001b[49m\u001b[43mload_replay_buffer_of_best_model_postcurriculum\u001b[49m\u001b[43m=\u001b[49m\u001b[43mload_replay_buffer_of_best_model_postcurriculum\u001b[49m\u001b[43m)\u001b[49m\n\u001b[32m    504\u001b[39m     \u001b[38;5;28;01mif\u001b[39;00m \u001b[38;5;129;01mnot\u001b[39;00m \u001b[38;5;28mself\u001b[39m.successful_training:\n\u001b[32m    505\u001b[39m         \u001b[38;5;28mprint\u001b[39m(\u001b[33m\"\u001b[39m\u001b[33mThe set of parameters has failed to produce a well-trained agent in the past. \u001b[39m\u001b[38;5;130;01m\\\u001b[39;00m\n\u001b[32m    506\u001b[39m \u001b[33m            Skip to the next set of parameters\u001b[39m\u001b[33m\"\u001b[39m)\n",
      "\u001b[36mFile \u001b[39m\u001b[32m~/Documents/Multifirefly-Project/multiff_analysis/multiff_code/methods/machine_learning/RL/SB3/rl_base_class.py:535\u001b[39m, in \u001b[36m_RLforMultifirefly.train_agent\u001b[39m\u001b[34m(self, use_curriculum_training, best_model_in_curriculum_exists_ok, best_model_postcurriculum_exists_ok, load_replay_buffer_of_best_model_postcurriculum, timesteps)\u001b[39m\n\u001b[32m    533\u001b[39m     \u001b[38;5;28mself\u001b[39m.regular_training(timesteps=timesteps)\n\u001b[32m    534\u001b[39m \u001b[38;5;28;01melse\u001b[39;00m:\n\u001b[32m--> \u001b[39m\u001b[32m535\u001b[39m     \u001b[38;5;28;43mself\u001b[39;49m\u001b[43m.\u001b[49m\u001b[43mcurriculum_training\u001b[49m\u001b[43m(\u001b[49m\u001b[43mbest_model_in_curriculum_exists_ok\u001b[49m\u001b[43m=\u001b[49m\u001b[43mbest_model_in_curriculum_exists_ok\u001b[49m\u001b[43m,\u001b[49m\n\u001b[32m    536\u001b[39m \u001b[43m                             \u001b[49m\u001b[43mbest_model_postcurriculum_exists_ok\u001b[49m\u001b[43m=\u001b[49m\u001b[43mbest_model_postcurriculum_exists_ok\u001b[49m\u001b[43m,\u001b[49m\n\u001b[32m    537\u001b[39m \u001b[43m                             \u001b[49m\u001b[43mload_replay_buffer_of_best_model_postcurriculum\u001b[49m\u001b[43m=\u001b[49m\u001b[43mload_replay_buffer_of_best_model_postcurriculum\u001b[49m\u001b[43m)\u001b[49m\n\u001b[32m    538\u001b[39m \u001b[38;5;28mself\u001b[39m.training_time = time_package.time()-\u001b[38;5;28mself\u001b[39m.training_start_time\n\u001b[32m    539\u001b[39m \u001b[38;5;28mprint\u001b[39m(\u001b[33m\"\u001b[39m\u001b[33mFinished training using\u001b[39m\u001b[33m\"\u001b[39m, \u001b[38;5;28mself\u001b[39m.training_time, \u001b[33m'\u001b[39m\u001b[33ms.\u001b[39m\u001b[33m'\u001b[39m)\n",
      "\u001b[36mFile \u001b[39m\u001b[32m<string>:13\u001b[39m, in \u001b[36mcurriculum_training\u001b[39m\u001b[34m(self, best_model_in_curriculum_exists_ok, best_model_postcurriculum_exists_ok, load_replay_buffer_of_best_model_postcurriculum)\u001b[39m\n",
      "\u001b[36mFile \u001b[39m\u001b[32m~/Documents/Multifirefly-Project/multiff_analysis/multiff_code/methods/machine_learning/RL/SB3/sb3_class.py:103\u001b[39m, in \u001b[36mSB3forMultifirefly.regular_training\u001b[39m\u001b[34m(self, timesteps, best_model_save_path, env_params_to_save)\u001b[39m\n\u001b[32m    100\u001b[39m \u001b[38;5;28mself\u001b[39m.callback = EvalCallback(\u001b[38;5;28mself\u001b[39m.env, eval_freq=\u001b[32m15000\u001b[39m, callback_after_eval=stop_train_callback, verbose=\u001b[32m1\u001b[39m,\n\u001b[32m    101\u001b[39m                              best_model_save_path=best_model_save_path, n_eval_episodes=\u001b[32m3\u001b[39m)\n\u001b[32m    102\u001b[39m \u001b[38;5;28mself\u001b[39m.write_checkpoint_manifest(best_model_save_path, env_params_to_save)\n\u001b[32m--> \u001b[39m\u001b[32m103\u001b[39m \u001b[38;5;28;43mself\u001b[39;49m\u001b[43m.\u001b[49m\u001b[43msac_model\u001b[49m\u001b[43m.\u001b[49m\u001b[43mlearn\u001b[49m\u001b[43m(\u001b[49m\u001b[43mtotal_timesteps\u001b[49m\u001b[43m=\u001b[49m\u001b[38;5;28;43mint\u001b[39;49m\u001b[43m(\u001b[49m\n\u001b[32m    104\u001b[39m \u001b[43m    \u001b[49m\u001b[43mtimesteps\u001b[49m\u001b[43m)\u001b[49m\u001b[43m,\u001b[49m\u001b[43m \u001b[49m\u001b[43mcallback\u001b[49m\u001b[43m=\u001b[49m\u001b[38;5;28;43mself\u001b[39;49m\u001b[43m.\u001b[49m\u001b[43mcallback\u001b[49m\u001b[43m)\u001b[49m\n",
      "\u001b[36mFile \u001b[39m\u001b[32m/opt/miniconda3/envs/multiff_clean/lib/python3.11/site-packages/stable_baselines3/sac/sac.py:313\u001b[39m, in \u001b[36mSAC.learn\u001b[39m\u001b[34m(self, total_timesteps, callback, log_interval, tb_log_name, reset_num_timesteps, progress_bar)\u001b[39m\n\u001b[32m    304\u001b[39m \u001b[38;5;28;01mdef\u001b[39;00m\u001b[38;5;250m \u001b[39m\u001b[34mlearn\u001b[39m(\n\u001b[32m    305\u001b[39m     \u001b[38;5;28mself\u001b[39m: SelfSAC,\n\u001b[32m    306\u001b[39m     total_timesteps: \u001b[38;5;28mint\u001b[39m,\n\u001b[32m   (...)\u001b[39m\u001b[32m    311\u001b[39m     progress_bar: \u001b[38;5;28mbool\u001b[39m = \u001b[38;5;28;01mFalse\u001b[39;00m,\n\u001b[32m    312\u001b[39m ) -> SelfSAC:\n\u001b[32m--> \u001b[39m\u001b[32m313\u001b[39m     \u001b[38;5;28;01mreturn\u001b[39;00m \u001b[38;5;28;43msuper\u001b[39;49m\u001b[43m(\u001b[49m\u001b[43m)\u001b[49m\u001b[43m.\u001b[49m\u001b[43mlearn\u001b[49m\u001b[43m(\u001b[49m\n\u001b[32m    314\u001b[39m \u001b[43m        \u001b[49m\u001b[43mtotal_timesteps\u001b[49m\u001b[43m=\u001b[49m\u001b[43mtotal_timesteps\u001b[49m\u001b[43m,\u001b[49m\n\u001b[32m    315\u001b[39m \u001b[43m        \u001b[49m\u001b[43mcallback\u001b[49m\u001b[43m=\u001b[49m\u001b[43mcallback\u001b[49m\u001b[43m,\u001b[49m\n\u001b[32m    316\u001b[39m \u001b[43m        \u001b[49m\u001b[43mlog_interval\u001b[49m\u001b[43m=\u001b[49m\u001b[43mlog_interval\u001b[49m\u001b[43m,\u001b[49m\n\u001b[32m    317\u001b[39m \u001b[43m        \u001b[49m\u001b[43mtb_log_name\u001b[49m\u001b[43m=\u001b[49m\u001b[43mtb_log_name\u001b[49m\u001b[43m,\u001b[49m\n\u001b[32m    318\u001b[39m \u001b[43m        \u001b[49m\u001b[43mreset_num_timesteps\u001b[49m\u001b[43m=\u001b[49m\u001b[43mreset_num_timesteps\u001b[49m\u001b[43m,\u001b[49m\n\u001b[32m    319\u001b[39m \u001b[43m        \u001b[49m\u001b[43mprogress_bar\u001b[49m\u001b[43m=\u001b[49m\u001b[43mprogress_bar\u001b[49m\u001b[43m,\u001b[49m\n\u001b[32m    320\u001b[39m \u001b[43m    \u001b[49m\u001b[43m)\u001b[49m\n",
      "\u001b[36mFile \u001b[39m\u001b[32m/opt/miniconda3/envs/multiff_clean/lib/python3.11/site-packages/stable_baselines3/common/off_policy_algorithm.py:335\u001b[39m, in \u001b[36mOffPolicyAlgorithm.learn\u001b[39m\u001b[34m(self, total_timesteps, callback, log_interval, tb_log_name, reset_num_timesteps, progress_bar)\u001b[39m\n\u001b[32m    332\u001b[39m \u001b[38;5;28;01massert\u001b[39;00m \u001b[38;5;28misinstance\u001b[39m(\u001b[38;5;28mself\u001b[39m.train_freq, TrainFreq)  \u001b[38;5;66;03m# check done in _setup_learn()\u001b[39;00m\n\u001b[32m    334\u001b[39m \u001b[38;5;28;01mwhile\u001b[39;00m \u001b[38;5;28mself\u001b[39m.num_timesteps < total_timesteps:\n\u001b[32m--> \u001b[39m\u001b[32m335\u001b[39m     rollout = \u001b[38;5;28;43mself\u001b[39;49m\u001b[43m.\u001b[49m\u001b[43mcollect_rollouts\u001b[49m\u001b[43m(\u001b[49m\n\u001b[32m    336\u001b[39m \u001b[43m        \u001b[49m\u001b[38;5;28;43mself\u001b[39;49m\u001b[43m.\u001b[49m\u001b[43menv\u001b[49m\u001b[43m,\u001b[49m\n\u001b[32m    337\u001b[39m \u001b[43m        \u001b[49m\u001b[43mtrain_freq\u001b[49m\u001b[43m=\u001b[49m\u001b[38;5;28;43mself\u001b[39;49m\u001b[43m.\u001b[49m\u001b[43mtrain_freq\u001b[49m\u001b[43m,\u001b[49m\n\u001b[32m    338\u001b[39m \u001b[43m        \u001b[49m\u001b[43maction_noise\u001b[49m\u001b[43m=\u001b[49m\u001b[38;5;28;43mself\u001b[39;49m\u001b[43m.\u001b[49m\u001b[43maction_noise\u001b[49m\u001b[43m,\u001b[49m\n\u001b[32m    339\u001b[39m \u001b[43m        \u001b[49m\u001b[43mcallback\u001b[49m\u001b[43m=\u001b[49m\u001b[43mcallback\u001b[49m\u001b[43m,\u001b[49m\n\u001b[32m    340\u001b[39m \u001b[43m        \u001b[49m\u001b[43mlearning_starts\u001b[49m\u001b[43m=\u001b[49m\u001b[38;5;28;43mself\u001b[39;49m\u001b[43m.\u001b[49m\u001b[43mlearning_starts\u001b[49m\u001b[43m,\u001b[49m\n\u001b[32m    341\u001b[39m \u001b[43m        \u001b[49m\u001b[43mreplay_buffer\u001b[49m\u001b[43m=\u001b[49m\u001b[38;5;28;43mself\u001b[39;49m\u001b[43m.\u001b[49m\u001b[43mreplay_buffer\u001b[49m\u001b[43m,\u001b[49m\n\u001b[32m    342\u001b[39m \u001b[43m        \u001b[49m\u001b[43mlog_interval\u001b[49m\u001b[43m=\u001b[49m\u001b[43mlog_interval\u001b[49m\u001b[43m,\u001b[49m\n\u001b[32m    343\u001b[39m \u001b[43m    \u001b[49m\u001b[43m)\u001b[49m\n\u001b[32m    345\u001b[39m     \u001b[38;5;28;01mif\u001b[39;00m \u001b[38;5;129;01mnot\u001b[39;00m rollout.continue_training:\n\u001b[32m    346\u001b[39m         \u001b[38;5;28;01mbreak\u001b[39;00m\n",
      "\u001b[36mFile \u001b[39m\u001b[32m/opt/miniconda3/envs/multiff_clean/lib/python3.11/site-packages/stable_baselines3/common/off_policy_algorithm.py:567\u001b[39m, in \u001b[36mOffPolicyAlgorithm.collect_rollouts\u001b[39m\u001b[34m(self, env, callback, train_freq, replay_buffer, action_noise, learning_starts, log_interval)\u001b[39m\n\u001b[32m    564\u001b[39m actions, buffer_actions = \u001b[38;5;28mself\u001b[39m._sample_action(learning_starts, action_noise, env.num_envs)\n\u001b[32m    566\u001b[39m \u001b[38;5;66;03m# Rescale and perform action\u001b[39;00m\n\u001b[32m--> \u001b[39m\u001b[32m567\u001b[39m new_obs, rewards, dones, infos = \u001b[43menv\u001b[49m\u001b[43m.\u001b[49m\u001b[43mstep\u001b[49m\u001b[43m(\u001b[49m\u001b[43mactions\u001b[49m\u001b[43m)\u001b[49m\n\u001b[32m    569\u001b[39m \u001b[38;5;28mself\u001b[39m.num_timesteps += env.num_envs\n\u001b[32m    570\u001b[39m num_collected_steps += \u001b[32m1\u001b[39m\n",
      "\u001b[36mFile \u001b[39m\u001b[32m/opt/miniconda3/envs/multiff_clean/lib/python3.11/site-packages/stable_baselines3/common/vec_env/base_vec_env.py:222\u001b[39m, in \u001b[36mVecEnv.step\u001b[39m\u001b[34m(self, actions)\u001b[39m\n\u001b[32m    215\u001b[39m \u001b[38;5;250m\u001b[39m\u001b[33;03m\"\"\"\u001b[39;00m\n\u001b[32m    216\u001b[39m \u001b[33;03mStep the environments with the given action\u001b[39;00m\n\u001b[32m    217\u001b[39m \n\u001b[32m    218\u001b[39m \u001b[33;03m:param actions: the action\u001b[39;00m\n\u001b[32m    219\u001b[39m \u001b[33;03m:return: observation, reward, done, information\u001b[39;00m\n\u001b[32m    220\u001b[39m \u001b[33;03m\"\"\"\u001b[39;00m\n\u001b[32m    221\u001b[39m \u001b[38;5;28mself\u001b[39m.step_async(actions)\n\u001b[32m--> \u001b[39m\u001b[32m222\u001b[39m \u001b[38;5;28;01mreturn\u001b[39;00m \u001b[38;5;28;43mself\u001b[39;49m\u001b[43m.\u001b[49m\u001b[43mstep_wait\u001b[49m\u001b[43m(\u001b[49m\u001b[43m)\u001b[49m\n",
      "\u001b[36mFile \u001b[39m\u001b[32m/opt/miniconda3/envs/multiff_clean/lib/python3.11/site-packages/stable_baselines3/common/vec_env/dummy_vec_env.py:59\u001b[39m, in \u001b[36mDummyVecEnv.step_wait\u001b[39m\u001b[34m(self)\u001b[39m\n\u001b[32m     56\u001b[39m \u001b[38;5;28;01mdef\u001b[39;00m\u001b[38;5;250m \u001b[39m\u001b[34mstep_wait\u001b[39m(\u001b[38;5;28mself\u001b[39m) -> VecEnvStepReturn:\n\u001b[32m     57\u001b[39m     \u001b[38;5;66;03m# Avoid circular imports\u001b[39;00m\n\u001b[32m     58\u001b[39m     \u001b[38;5;28;01mfor\u001b[39;00m env_idx \u001b[38;5;129;01min\u001b[39;00m \u001b[38;5;28mrange\u001b[39m(\u001b[38;5;28mself\u001b[39m.num_envs):\n\u001b[32m---> \u001b[39m\u001b[32m59\u001b[39m         obs, \u001b[38;5;28mself\u001b[39m.buf_rews[env_idx], terminated, truncated, \u001b[38;5;28mself\u001b[39m.buf_infos[env_idx] = \u001b[38;5;28;43mself\u001b[39;49m\u001b[43m.\u001b[49m\u001b[43menvs\u001b[49m\u001b[43m[\u001b[49m\u001b[43menv_idx\u001b[49m\u001b[43m]\u001b[49m\u001b[43m.\u001b[49m\u001b[43mstep\u001b[49m\u001b[43m(\u001b[49m\u001b[43m  \u001b[49m\u001b[38;5;66;43;03m# type: ignore[assignment]\u001b[39;49;00m\n\u001b[32m     60\u001b[39m \u001b[43m            \u001b[49m\u001b[38;5;28;43mself\u001b[39;49m\u001b[43m.\u001b[49m\u001b[43mactions\u001b[49m\u001b[43m[\u001b[49m\u001b[43menv_idx\u001b[49m\u001b[43m]\u001b[49m\n\u001b[32m     61\u001b[39m \u001b[43m        \u001b[49m\u001b[43m)\u001b[49m\n\u001b[32m     62\u001b[39m         \u001b[38;5;66;03m# convert to SB3 VecEnv api\u001b[39;00m\n\u001b[32m     63\u001b[39m         \u001b[38;5;28mself\u001b[39m.buf_dones[env_idx] = terminated \u001b[38;5;129;01mor\u001b[39;00m truncated\n",
      "\u001b[36mFile \u001b[39m\u001b[32m/opt/miniconda3/envs/multiff_clean/lib/python3.11/site-packages/stable_baselines3/common/monitor.py:94\u001b[39m, in \u001b[36mMonitor.step\u001b[39m\u001b[34m(self, action)\u001b[39m\n\u001b[32m     92\u001b[39m \u001b[38;5;28;01mif\u001b[39;00m \u001b[38;5;28mself\u001b[39m.needs_reset:\n\u001b[32m     93\u001b[39m     \u001b[38;5;28;01mraise\u001b[39;00m \u001b[38;5;167;01mRuntimeError\u001b[39;00m(\u001b[33m\"\u001b[39m\u001b[33mTried to step environment that needs reset\u001b[39m\u001b[33m\"\u001b[39m)\n\u001b[32m---> \u001b[39m\u001b[32m94\u001b[39m observation, reward, terminated, truncated, info = \u001b[38;5;28;43mself\u001b[39;49m\u001b[43m.\u001b[49m\u001b[43menv\u001b[49m\u001b[43m.\u001b[49m\u001b[43mstep\u001b[49m\u001b[43m(\u001b[49m\u001b[43maction\u001b[49m\u001b[43m)\u001b[49m\n\u001b[32m     95\u001b[39m \u001b[38;5;28mself\u001b[39m.rewards.append(\u001b[38;5;28mfloat\u001b[39m(reward))\n\u001b[32m     96\u001b[39m \u001b[38;5;28;01mif\u001b[39;00m terminated \u001b[38;5;129;01mor\u001b[39;00m truncated:\n",
      "\u001b[36mFile \u001b[39m\u001b[32m~/Documents/Multifirefly-Project/multiff_analysis/multiff_code/methods/machine_learning/RL/env_related/base_env.py:376\u001b[39m, in \u001b[36mMultiFF.step\u001b[39m\u001b[34m(self, action)\u001b[39m\n\u001b[32m    373\u001b[39m \u001b[38;5;28mself\u001b[39m._store_topk_ff_noisy_pos()\n\u001b[32m    375\u001b[39m \u001b[38;5;66;03m# update the observation\u001b[39;00m\n\u001b[32m--> \u001b[39m\u001b[32m376\u001b[39m \u001b[38;5;28mself\u001b[39m.obs = \u001b[38;5;28;43mself\u001b[39;49m\u001b[43m.\u001b[49m\u001b[43mbeliefs\u001b[49m\u001b[43m(\u001b[49m\u001b[43m)\u001b[49m\n\u001b[32m    377\u001b[39m \u001b[38;5;66;03m# get reward\u001b[39;00m\n\u001b[32m    378\u001b[39m reward = \u001b[38;5;28mself\u001b[39m.calculate_reward()\n",
      "\u001b[36mFile \u001b[39m\u001b[32m~/Documents/Multifirefly-Project/multiff_analysis/multiff_code/methods/machine_learning/RL/env_related/base_env.py:467\u001b[39m, in \u001b[36mMultiFF.beliefs\u001b[39m\u001b[34m(self)\u001b[39m\n\u001b[32m    465\u001b[39m         \u001b[38;5;28;01melse\u001b[39;00m:\n\u001b[32m    466\u001b[39m             \u001b[38;5;28mself\u001b[39m._prev_slots_SN[:, :] = \u001b[38;5;28mself\u001b[39m._ff_slots_SN[:, :]\n\u001b[32m--> \u001b[39m\u001b[32m467\u001b[39m \u001b[38;5;28;43mself\u001b[39;49m\u001b[43m.\u001b[49m\u001b[43m_get_ff_array_for_belief_identity_slots\u001b[49m\u001b[43m(\u001b[49m\u001b[43m)\u001b[49m\n\u001b[32m    469\u001b[39m \u001b[38;5;66;03m# print('self.slot_ids:', self.slot_ids)\u001b[39;00m\n\u001b[32m    470\u001b[39m \u001b[38;5;66;03m# print('self.pose_unreliable:', self.pose_unreliable)\u001b[39;00m\n\u001b[32m    471\u001b[39m \n\u001b[32m    472\u001b[39m \u001b[38;5;66;03m# Fill preallocated obs buffer without new allocations\u001b[39;00m\n\u001b[32m    473\u001b[39m obs = \u001b[38;5;28mself\u001b[39m.current_obs\n",
      "\u001b[36mFile \u001b[39m\u001b[32m~/Documents/Multifirefly-Project/multiff_analysis/multiff_code/methods/machine_learning/RL/env_related/base_env.py:737\u001b[39m, in \u001b[36mMultiFF._get_ff_array_for_belief_identity_slots\u001b[39m\u001b[34m(self)\u001b[39m\n\u001b[32m    734\u001b[39m     N = \u001b[38;5;28mself\u001b[39m.num_elem_per_ff\n\u001b[32m    736\u001b[39m \u001b[38;5;66;03m# maintain same noise cadence as base class\u001b[39;00m\n\u001b[32m--> \u001b[39m\u001b[32m737\u001b[39m \u001b[38;5;28;43mself\u001b[39;49m\u001b[43m.\u001b[49m\u001b[43m_apply_noise_to_ff_in_obs\u001b[49m\u001b[43m(\u001b[49m\u001b[43m)\u001b[49m\n\u001b[32m    739\u001b[39m \u001b[38;5;66;03m# Build as (S,N) so we can ravel(order='F') with no transpose\u001b[39;00m\n\u001b[32m    740\u001b[39m \u001b[38;5;28;01mif\u001b[39;00m \u001b[38;5;129;01mnot\u001b[39;00m \u001b[38;5;28mhasattr\u001b[39m(\u001b[38;5;28mself\u001b[39m, \u001b[33m'\u001b[39m\u001b[33m_ff_slots_SN\u001b[39m\u001b[33m'\u001b[39m) \u001b[38;5;129;01mor\u001b[39;00m \u001b[38;5;28mself\u001b[39m._ff_slots_SN.shape != (S, N):\n",
      "\u001b[36mFile \u001b[39m\u001b[32m~/Documents/Multifirefly-Project/multiff_analysis/multiff_code/methods/machine_learning/RL/env_related/base_env.py:897\u001b[39m, in \u001b[36mMultiFF._apply_noise_to_ff_in_obs\u001b[39m\u001b[34m(self, alpha_first_mem)\u001b[39m\n\u001b[32m    895\u001b[39m     \u001b[38;5;66;03m# 3) Still invisible → one full memory step\u001b[39;00m\n\u001b[32m    896\u001b[39m     \u001b[38;5;28;01mif\u001b[39;00m still_invisible.size:\n\u001b[32m--> \u001b[39m\u001b[32m897\u001b[39m         \u001b[38;5;28;43mself\u001b[39;49m\u001b[43m.\u001b[49m\u001b[43m_apply_memory_noise_ego_weber_subset\u001b[49m\u001b[43m(\u001b[49m\n\u001b[32m    898\u001b[39m \u001b[43m            \u001b[49m\u001b[43mstill_invisible\u001b[49m\u001b[43m,\u001b[49m\u001b[43m \u001b[49m\u001b[43mstep_scale\u001b[49m\u001b[43m=\u001b[49m\u001b[32;43m1.0\u001b[39;49m\u001b[43m)\u001b[49m\n\u001b[32m    900\u001b[39m \u001b[38;5;28mself\u001b[39m._prev_vis = vis.copy()\n",
      "\u001b[36mFile \u001b[39m\u001b[32m~/Documents/Multifirefly-Project/multiff_analysis/multiff_code/methods/machine_learning/RL/env_related/base_env.py:921\u001b[39m, in \u001b[36mMultiFF._apply_memory_noise_ego_weber_subset\u001b[39m\u001b[34m(self, idx, step_scale)\u001b[39m\n\u001b[32m    919\u001b[39m dy = \u001b[38;5;28mself\u001b[39m.ffxy_noisy[idx, \u001b[32m1\u001b[39m] - \u001b[38;5;28mself\u001b[39m.agenty[\u001b[32m0\u001b[39m]\n\u001b[32m    920\u001b[39m r = np.sqrt(dx * dx + dy * dy).astype(np.float32)\n\u001b[32m--> \u001b[39m\u001b[32m921\u001b[39m th = \u001b[43mnp\u001b[49m\u001b[43m.\u001b[49m\u001b[43marctan2\u001b[49m\u001b[43m(\u001b[49m\u001b[43mdy\u001b[49m\u001b[43m,\u001b[49m\u001b[43m \u001b[49m\u001b[43mdx\u001b[49m\u001b[43m)\u001b[49m.astype(np.float32) - \u001b[38;5;28mself\u001b[39m.agentheading[\u001b[32m0\u001b[39m]\n\u001b[32m    922\u001b[39m th = \u001b[38;5;28mself\u001b[39m._wrap_pi(th)\n\u001b[32m    924\u001b[39m r_min = \u001b[38;5;28mself\u001b[39m.obs_noise.r_min_for_theta\n",
      "\u001b[31mKeyboardInterrupt\u001b[39m: "
     ]
    }
   ],
   "source": [
    "model_folder_name = \"RL_models/SB3_stored_models/all_agents/oct_15\"\n",
    "rl = sb3_class.SB3forMultifirefly(\n",
    "    model_folder_name=model_folder_name)\n",
    "rl.streamline_everything(currentTrial_for_animation = 10, num_trials_for_animation = 5,\n",
    "                              best_model_in_curriculum_exists_ok=True,\n",
    "                              best_model_postcurriculum_exists_ok=True,\n",
    "                              to_load_latest_agent=True,\n",
    "                              )\n",
    "rl.collect_data(exists_ok=True, save_data=True)"
   ]
  },
  {
   "cell_type": "code",
   "execution_count": null,
   "id": "5088c150",
   "metadata": {},
   "outputs": [
    {
     "name": "stdout",
     "output_type": "stream",
     "text": [
      "Collecting new agent data......\n",
      "Removed all files in the folder: RL_models/SB3_stored_models/all_collected_data/processed_data/oct_15/individual_data_sessions/data_0\n",
      "Cleaning contents of: RL_models/SB3_stored_models/all_collected_data/planning/oct_15/individual_data_sessions/data_0\n",
      "Cleaning contents of: RL_models/SB3_stored_models/all_collected_data/processed_data/oct_15/individual_data_sessions/data_0\n",
      "Cleaning contents of: RL_models/SB3_stored_models/all_collected_data/decision_making/oct_15/individual_data_sessions/data_0\n",
      "Cleaning contents of: RL_models/SB3_stored_models/all_collected_data/patterns_and_features/oct_15/individual_data_sessions/data_0\n",
      "TIME before resetting: 0\n",
      "current linear_terminal_vel:  0.01\n",
      "current angular_terminal_vel:  0.01\n",
      "current dt:  0.1\n",
      "current dv_cost_factor:  0\n",
      "current dw_cost_factor:  0\n",
      "current w_cost_factor:  0\n",
      "current distance2center_cost:  0\n",
      "current stop_vel_cost:  200\n",
      "current flash_on_interval:  0.3\n",
      "current num_obs_ff:  5\n",
      "current reward_boundary:  25\n",
      "current max_in_memory_time:  3\n",
      "total_deviated_vel:  0.013186157\n",
      "6.80 action: [0.009 -0.992] n_targets: 1 reward: 97.36 cost_for_stop_vel: 2.64\n",
      "total_deviated_vel:  0.0034376085\n",
      "7.70 action: [0.002 -0.998] n_targets: 1 reward: 99.31 cost_for_stop_vel: 0.69\n",
      "total_deviated_vel:  0.009866357\n",
      "10.80 action: [0.009 -0.997] n_targets: 2 reward: 198.03 cost_for_stop_vel: 1.97\n",
      "total_deviated_vel:  0.011464119\n",
      "12.70 action: [0.01 -0.997] n_targets: 1 reward: 97.71 cost_for_stop_vel: 2.29\n",
      "total_deviated_vel:  0.011928469\n",
      "15.30 action: [0.01 -0.996] n_targets: 1 reward: 97.61 cost_for_stop_vel: 2.39\n",
      "total_deviated_vel:  0.010738105\n",
      "25.00 action: [0.009 -0.997] n_targets: 2 reward: 197.85 cost_for_stop_vel: 2.15\n",
      "total_deviated_vel:  0.0074647367\n",
      "25.80 action: [0.004 -0.992] n_targets: 2 reward: 198.51 cost_for_stop_vel: 1.49\n",
      "total_deviated_vel:  0.009062767\n",
      "26.20 action: [0.007 -0.995] n_targets: 1 reward: 98.19 cost_for_stop_vel: 1.81\n",
      "total_deviated_vel:  0.009742886\n",
      "26.90 action: [0.008 -0.997] n_targets: 1 reward: 98.05 cost_for_stop_vel: 1.95\n",
      "total_deviated_vel:  0.0061968267\n",
      "34.00 action: [0.004 -0.996] n_targets: 1 reward: 98.76 cost_for_stop_vel: 1.24\n",
      "total_deviated_vel:  0.0084267855\n",
      "40.00 action: [0.007 -0.997] n_targets: 2 reward: 198.31 cost_for_stop_vel: 1.69\n",
      "total_deviated_vel:  0.012533277\n",
      "42.80 action: [0.01 -0.995] n_targets: 1 reward: 97.49 cost_for_stop_vel: 2.51\n",
      "total_deviated_vel:  0.010603756\n",
      "43.80 action: [0.009 -0.998] n_targets: 1 reward: 97.88 cost_for_stop_vel: 2.12\n",
      "total_deviated_vel:  0.00807333\n",
      "47.80 action: [0.006 -0.997] n_targets: 1 reward: 98.39 cost_for_stop_vel: 1.61\n",
      "total_deviated_vel:  0.00917232\n",
      "66.60 action: [0.008 -0.997] n_targets: 1 reward: 98.17 cost_for_stop_vel: 1.83\n",
      "total_deviated_vel:  0.011260271\n",
      "68.00 action: [0.01 -0.997] n_targets: 1 reward: 97.75 cost_for_stop_vel: 2.25\n",
      "total_deviated_vel:  0.010522246\n",
      "69.30 action: [0.009 -0.997] n_targets: 1 reward: 97.90 cost_for_stop_vel: 2.10\n",
      "total_deviated_vel:  0.010525018\n",
      "75.50 action: [0.009 -0.996] n_targets: 1 reward: 97.89 cost_for_stop_vel: 2.11\n",
      "total_deviated_vel:  0.010046303\n",
      "76.30 action: [0.009 -0.998] n_targets: 1 reward: 97.99 cost_for_stop_vel: 2.01\n",
      "total_deviated_vel:  0.008920431\n",
      "81.00 action: [0.008 -0.997] n_targets: 1 reward: 98.22 cost_for_stop_vel: 1.78\n",
      "total_deviated_vel:  0.0045794845\n",
      "83.30 action: [-0.002 -0.995] n_targets: 1 reward: 99.08 cost_for_stop_vel: 0.92\n",
      "total_deviated_vel:  0.009973228\n",
      "91.00 action: [0.009 -0.998] n_targets: 1 reward: 98.01 cost_for_stop_vel: 1.99\n",
      "total_deviated_vel:  0.008488864\n",
      "93.30 action: [0.007 -0.996] n_targets: 3 reward: 298.30 cost_for_stop_vel: 1.70\n",
      "total_deviated_vel:  0.012553215\n",
      "97.50 action: [0.01 -0.994] n_targets: 2 reward: 197.49 cost_for_stop_vel: 2.51\n",
      "2025-10-15 10:32:35,718 - INFO - Step: 1000 / 8000\n",
      "total_deviated_vel:  0.011423379\n",
      "117.40 action: [0.009 -0.996] n_targets: 1 reward: 97.72 cost_for_stop_vel: 2.28\n",
      "total_deviated_vel:  0.013331056\n",
      "120.60 action: [0.009 -0.991] n_targets: 1 reward: 97.33 cost_for_stop_vel: 2.67\n",
      "total_deviated_vel:  0.010612935\n",
      "121.60 action: [0.009 -0.996] n_targets: 1 reward: 97.88 cost_for_stop_vel: 2.12\n",
      "total_deviated_vel:  0.0041904747\n",
      "122.40 action: [0.003 -0.997] n_targets: 1 reward: 99.16 cost_for_stop_vel: 0.84\n",
      "total_deviated_vel:  0.010726094\n",
      "129.60 action: [0.01 -0.998] n_targets: 1 reward: 97.85 cost_for_stop_vel: 2.15\n",
      "total_deviated_vel:  0.0039213\n",
      "133.40 action: [0.003 -0.998] n_targets: 2 reward: 199.22 cost_for_stop_vel: 0.78\n",
      "total_deviated_vel:  0.010228336\n",
      "134.10 action: [0.008 -0.995] n_targets: 1 reward: 97.95 cost_for_stop_vel: 2.05\n",
      "total_deviated_vel:  0.010033041\n",
      "138.80 action: [0.008 -0.997] n_targets: 1 reward: 97.99 cost_for_stop_vel: 2.01\n",
      "total_deviated_vel:  0.008859307\n",
      "147.80 action: [0.008 -0.998] n_targets: 1 reward: 98.23 cost_for_stop_vel: 1.77\n",
      "total_deviated_vel:  0.009067982\n",
      "149.20 action: [0.008 -0.997] n_targets: 1 reward: 98.19 cost_for_stop_vel: 1.81\n",
      "total_deviated_vel:  0.0131981075\n",
      "151.50 action: [0.01 -0.993] n_targets: 1 reward: 97.36 cost_for_stop_vel: 2.64\n",
      "total_deviated_vel:  0.009658635\n",
      "158.10 action: [0.008 -0.996] n_targets: 1 reward: 98.07 cost_for_stop_vel: 1.93\n",
      "total_deviated_vel:  0.007275641\n",
      "158.40 action: [0.006 -0.997] n_targets: 1 reward: 98.54 cost_for_stop_vel: 1.46\n",
      "total_deviated_vel:  0.010731578\n",
      "159.60 action: [0.009 -0.997] n_targets: 1 reward: 97.85 cost_for_stop_vel: 2.15\n",
      "total_deviated_vel:  0.009499043\n",
      "164.40 action: [0.008 -0.997] n_targets: 1 reward: 98.10 cost_for_stop_vel: 1.90\n",
      "total_deviated_vel:  0.013945937\n",
      "171.80 action: [0.009 -0.989] n_targets: 1 reward: 97.21 cost_for_stop_vel: 2.79\n",
      "total_deviated_vel:  0.010609418\n",
      "174.90 action: [0.009 -0.998] n_targets: 1 reward: 97.88 cost_for_stop_vel: 2.12\n",
      "total_deviated_vel:  0.011199325\n",
      "177.10 action: [0.01 -0.997] n_targets: 1 reward: 97.76 cost_for_stop_vel: 2.24\n",
      "total_deviated_vel:  0.008660674\n",
      "178.10 action: [0.008 -0.998] n_targets: 1 reward: 98.27 cost_for_stop_vel: 1.73\n",
      "total_deviated_vel:  0.0106597245\n",
      "182.10 action: [0.01 -0.998] n_targets: 1 reward: 97.87 cost_for_stop_vel: 2.13\n",
      "total_deviated_vel:  0.0074588656\n",
      "184.70 action: [0.007 -0.999] n_targets: 1 reward: 98.51 cost_for_stop_vel: 1.49\n",
      "total_deviated_vel:  0.010191709\n",
      "187.20 action: [0.009 -0.997] n_targets: 1 reward: 97.96 cost_for_stop_vel: 2.04\n",
      "total_deviated_vel:  0.004791349\n",
      "188.80 action: [0.004 -0.998] n_targets: 1 reward: 99.04 cost_for_stop_vel: 0.96\n",
      "total_deviated_vel:  0.011468053\n",
      "191.20 action: [0.009 -0.996] n_targets: 2 reward: 197.71 cost_for_stop_vel: 2.29\n",
      "total_deviated_vel:  0.0071436465\n",
      "199.40 action: [0.005 -0.995] n_targets: 2 reward: 198.57 cost_for_stop_vel: 1.43\n",
      "2025-10-15 10:32:37,162 - INFO - Step: 2000 / 8000\n",
      "total_deviated_vel:  0.01277411\n",
      "206.40 action: [0.01 -0.994] n_targets: 1 reward: 97.45 cost_for_stop_vel: 2.55\n",
      "total_deviated_vel:  0.009610206\n",
      "208.80 action: [0.008 -0.997] n_targets: 1 reward: 98.08 cost_for_stop_vel: 1.92\n",
      "total_deviated_vel:  0.0054372847\n",
      "213.40 action: [0.001 -0.991] n_targets: 1 reward: 98.91 cost_for_stop_vel: 1.09\n",
      "total_deviated_vel:  0.010215968\n",
      "215.60 action: [0.008 -0.996] n_targets: 1 reward: 97.96 cost_for_stop_vel: 2.04\n",
      "total_deviated_vel:  0.006713301\n",
      "220.80 action: [0.006 -0.999] n_targets: 1 reward: 98.66 cost_for_stop_vel: 1.34\n",
      "total_deviated_vel:  0.009783268\n",
      "222.00 action: [0.01 -0.999] n_targets: 1 reward: 98.04 cost_for_stop_vel: 1.96\n",
      "total_deviated_vel:  0.012958348\n",
      "226.20 action: [0.01 -0.994] n_targets: 1 reward: 97.41 cost_for_stop_vel: 2.59\n",
      "total_deviated_vel:  0.011132449\n",
      "230.20 action: [0.01 -0.997] n_targets: 1 reward: 97.77 cost_for_stop_vel: 2.23\n",
      "total_deviated_vel:  0.012208343\n",
      "235.40 action: [0.01 -0.995] n_targets: 1 reward: 97.56 cost_for_stop_vel: 2.44\n",
      "total_deviated_vel:  0.0073441863\n",
      "241.30 action: [0.005 -0.996] n_targets: 1 reward: 98.53 cost_for_stop_vel: 1.47\n",
      "total_deviated_vel:  0.008621365\n",
      "247.90 action: [0.007 -0.997] n_targets: 1 reward: 98.28 cost_for_stop_vel: 1.72\n",
      "total_deviated_vel:  0.010931909\n",
      "253.60 action: [0.01 -0.998] n_targets: 1 reward: 97.81 cost_for_stop_vel: 2.19\n",
      "total_deviated_vel:  0.012478709\n",
      "260.90 action: [0.008 -0.99] n_targets: 1 reward: 97.50 cost_for_stop_vel: 2.50\n",
      "total_deviated_vel:  0.010432988\n",
      "263.40 action: [0.009 -0.996] n_targets: 1 reward: 97.91 cost_for_stop_vel: 2.09\n",
      "total_deviated_vel:  0.012257099\n",
      "265.60 action: [0.01 -0.995] n_targets: 1 reward: 97.55 cost_for_stop_vel: 2.45\n",
      "total_deviated_vel:  0.010689914\n",
      "266.50 action: [0.01 -0.998] n_targets: 1 reward: 97.86 cost_for_stop_vel: 2.14\n",
      "total_deviated_vel:  0.0105609\n",
      "268.50 action: [0.009 -0.997] n_targets: 1 reward: 97.89 cost_for_stop_vel: 2.11\n",
      "total_deviated_vel:  0.009806961\n",
      "269.30 action: [0.009 -0.999] n_targets: 1 reward: 98.04 cost_for_stop_vel: 1.96\n",
      "total_deviated_vel:  0.0090789795\n",
      "274.70 action: [0.008 -0.998] n_targets: 1 reward: 98.18 cost_for_stop_vel: 1.82\n",
      "total_deviated_vel:  0.010480076\n",
      "280.80 action: [0.008 -0.996] n_targets: 1 reward: 97.90 cost_for_stop_vel: 2.10\n",
      "total_deviated_vel:  0.010262698\n",
      "282.50 action: [0.009 -0.998] n_targets: 1 reward: 97.95 cost_for_stop_vel: 2.05\n",
      "total_deviated_vel:  0.010591\n",
      "283.40 action: [0.009 -0.997] n_targets: 1 reward: 97.88 cost_for_stop_vel: 2.12\n",
      "total_deviated_vel:  0.0075285733\n",
      "285.60 action: [0.006 -0.998] n_targets: 2 reward: 198.49 cost_for_stop_vel: 1.51\n",
      "total_deviated_vel:  0.008530736\n",
      "289.00 action: [0.007 -0.997] n_targets: 1 reward: 98.29 cost_for_stop_vel: 1.71\n",
      "total_deviated_vel:  0.007691562\n",
      "290.60 action: [0.006 -0.997] n_targets: 1 reward: 98.46 cost_for_stop_vel: 1.54\n",
      "total_deviated_vel:  0.0038322806\n",
      "295.90 action: [0.002 -0.996] n_targets: 1 reward: 99.23 cost_for_stop_vel: 0.77\n",
      "2025-10-15 10:32:39,051 - INFO - Step: 3000 / 8000\n",
      "total_deviated_vel:  0.010923386\n",
      "306.60 action: [-0.001 -0.98] n_targets: 1 reward: 97.82 cost_for_stop_vel: 2.18\n",
      "total_deviated_vel:  0.0088734925\n",
      "308.80 action: [0.008 -0.998] n_targets: 1 reward: 98.23 cost_for_stop_vel: 1.77\n",
      "total_deviated_vel:  0.010348439\n",
      "318.70 action: [0.009 -0.997] n_targets: 1 reward: 97.93 cost_for_stop_vel: 2.07\n",
      "total_deviated_vel:  0.011365086\n",
      "320.90 action: [0.01 -0.997] n_targets: 1 reward: 97.73 cost_for_stop_vel: 2.27\n",
      "total_deviated_vel:  0.011078775\n",
      "329.50 action: [0.009 -0.996] n_targets: 1 reward: 97.78 cost_for_stop_vel: 2.22\n",
      "total_deviated_vel:  0.015905231\n",
      "335.00 action: [0.01 -0.987] n_targets: 1 reward: 96.82 cost_for_stop_vel: 3.18\n",
      "total_deviated_vel:  0.010055661\n",
      "339.60 action: [0.008 -0.996] n_targets: 1 reward: 97.99 cost_for_stop_vel: 2.01\n",
      "total_deviated_vel:  0.010115385\n",
      "339.80 action: [0.008 -0.996] n_targets: 1 reward: 97.98 cost_for_stop_vel: 2.02\n",
      "total_deviated_vel:  0.0133134425\n",
      "347.60 action: [0.01 -0.993] n_targets: 1 reward: 97.34 cost_for_stop_vel: 2.66\n",
      "total_deviated_vel:  0.006703645\n",
      "356.40 action: [0.005 -0.997] n_targets: 2 reward: 198.66 cost_for_stop_vel: 1.34\n",
      "total_deviated_vel:  0.009978771\n",
      "359.70 action: [0.008 -0.996] n_targets: 1 reward: 98.00 cost_for_stop_vel: 2.00\n",
      "total_deviated_vel:  0.01065889\n",
      "364.40 action: [0.009 -0.997] n_targets: 1 reward: 97.87 cost_for_stop_vel: 2.13\n",
      "total_deviated_vel:  0.010838658\n",
      "368.00 action: [0.01 -0.998] n_targets: 1 reward: 97.83 cost_for_stop_vel: 2.17\n",
      "total_deviated_vel:  0.00827378\n",
      "370.80 action: [0.007 -0.998] n_targets: 2 reward: 198.35 cost_for_stop_vel: 1.65\n",
      "total_deviated_vel:  0.007747054\n",
      "371.90 action: [0.007 -0.999] n_targets: 1 reward: 98.45 cost_for_stop_vel: 1.55\n",
      "total_deviated_vel:  0.009934902\n",
      "377.30 action: [0.009 -0.998] n_targets: 1 reward: 98.01 cost_for_stop_vel: 1.99\n",
      "total_deviated_vel:  0.013129771\n",
      "382.30 action: [0.01 -0.993] n_targets: 1 reward: 97.37 cost_for_stop_vel: 2.63\n",
      "total_deviated_vel:  0.011408687\n",
      "399.20 action: [0.01 -0.997] n_targets: 1 reward: 97.72 cost_for_stop_vel: 2.28\n",
      "2025-10-15 10:32:40,690 - INFO - Step: 4000 / 8000\n",
      "total_deviated_vel:  0.008382946\n",
      "409.00 action: [0.006 -0.995] n_targets: 1 reward: 98.32 cost_for_stop_vel: 1.68\n",
      "total_deviated_vel:  0.012012273\n",
      "411.20 action: [0.01 -0.996] n_targets: 1 reward: 97.60 cost_for_stop_vel: 2.40\n",
      "total_deviated_vel:  0.011085838\n",
      "412.00 action: [0.009 -0.997] n_targets: 1 reward: 97.78 cost_for_stop_vel: 2.22\n",
      "total_deviated_vel:  0.005140215\n",
      "412.30 action: [0.004 -0.997] n_targets: 1 reward: 98.97 cost_for_stop_vel: 1.03\n",
      "total_deviated_vel:  0.01655814\n",
      "421.80 action: [0.01 -0.986] n_targets: 1 reward: 96.69 cost_for_stop_vel: 3.31\n",
      "total_deviated_vel:  0.010960072\n",
      "429.50 action: [0.009 -0.997] n_targets: 2 reward: 197.81 cost_for_stop_vel: 2.19\n",
      "total_deviated_vel:  0.011722714\n",
      "433.00 action: [0.009 -0.995] n_targets: 1 reward: 97.66 cost_for_stop_vel: 2.34\n",
      "total_deviated_vel:  0.011600792\n",
      "436.80 action: [0.008 -0.993] n_targets: 1 reward: 97.68 cost_for_stop_vel: 2.32\n",
      "total_deviated_vel:  0.0071389675\n",
      "442.40 action: [0.006 -0.997] n_targets: 1 reward: 98.57 cost_for_stop_vel: 1.43\n",
      "total_deviated_vel:  0.0112096965\n",
      "443.60 action: [0.01 -0.998] n_targets: 1 reward: 97.76 cost_for_stop_vel: 2.24\n",
      "total_deviated_vel:  0.010332733\n",
      "445.60 action: [0.009 -0.998] n_targets: 1 reward: 97.93 cost_for_stop_vel: 2.07\n",
      "total_deviated_vel:  0.009876996\n",
      "452.80 action: [0.008 -0.997] n_targets: 1 reward: 98.02 cost_for_stop_vel: 1.98\n",
      "total_deviated_vel:  0.012265712\n",
      "453.70 action: [0.009 -0.993] n_targets: 1 reward: 97.55 cost_for_stop_vel: 2.45\n",
      "total_deviated_vel:  0.011505783\n",
      "457.60 action: [0.01 -0.996] n_targets: 1 reward: 97.70 cost_for_stop_vel: 2.30\n",
      "total_deviated_vel:  0.011689216\n",
      "465.60 action: [0.01 -0.996] n_targets: 1 reward: 97.66 cost_for_stop_vel: 2.34\n",
      "total_deviated_vel:  0.0029253662\n",
      "466.40 action: [0.002 -0.998] n_targets: 1 reward: 99.41 cost_for_stop_vel: 0.59\n",
      "total_deviated_vel:  0.010367274\n",
      "467.50 action: [0.009 -0.998] n_targets: 1 reward: 97.93 cost_for_stop_vel: 2.07\n",
      "total_deviated_vel:  0.007617265\n",
      "470.10 action: [0.006 -0.998] n_targets: 1 reward: 98.48 cost_for_stop_vel: 1.52\n",
      "total_deviated_vel:  0.013151139\n",
      "476.30 action: [0.008 -0.99] n_targets: 1 reward: 97.37 cost_for_stop_vel: 2.63\n",
      "total_deviated_vel:  0.01158911\n",
      "477.30 action: [0.009 -0.995] n_targets: 1 reward: 97.68 cost_for_stop_vel: 2.32\n",
      "total_deviated_vel:  0.009013653\n",
      "480.20 action: [0.007 -0.997] n_targets: 2 reward: 198.20 cost_for_stop_vel: 1.80\n",
      "total_deviated_vel:  0.0042105913\n",
      "485.30 action: [0.002 -0.996] n_targets: 1 reward: 99.16 cost_for_stop_vel: 0.84\n",
      "total_deviated_vel:  0.009304643\n",
      "487.00 action: [0.008 -0.997] n_targets: 1 reward: 98.14 cost_for_stop_vel: 1.86\n",
      "total_deviated_vel:  0.013596743\n",
      "496.80 action: [0.009 -0.991] n_targets: 1 reward: 97.28 cost_for_stop_vel: 2.72\n",
      "2025-10-15 10:32:43,041 - INFO - Step: 5000 / 8000\n",
      "total_deviated_vel:  0.0102240145\n",
      "504.00 action: [0.009 -0.997] n_targets: 2 reward: 197.96 cost_for_stop_vel: 2.04\n",
      "total_deviated_vel:  0.011960566\n",
      "505.80 action: [0.009 -0.995] n_targets: 1 reward: 97.61 cost_for_stop_vel: 2.39\n",
      "total_deviated_vel:  0.0068995655\n",
      "510.50 action: [0.006 -0.997] n_targets: 1 reward: 98.62 cost_for_stop_vel: 1.38\n",
      "total_deviated_vel:  0.011117697\n",
      "513.70 action: [0.01 -0.997] n_targets: 1 reward: 97.78 cost_for_stop_vel: 2.22\n",
      "total_deviated_vel:  0.0105418265\n",
      "516.00 action: [0.009 -0.997] n_targets: 1 reward: 97.89 cost_for_stop_vel: 2.11\n",
      "total_deviated_vel:  0.011476368\n",
      "524.90 action: [0.01 -0.996] n_targets: 2 reward: 197.70 cost_for_stop_vel: 2.30\n",
      "total_deviated_vel:  0.01693216\n",
      "542.50 action: [0.01 -0.986] n_targets: 2 reward: 196.61 cost_for_stop_vel: 3.39\n",
      "total_deviated_vel:  0.008870184\n",
      "549.10 action: [0.008 -0.999] n_targets: 1 reward: 98.23 cost_for_stop_vel: 1.77\n",
      "total_deviated_vel:  0.011387318\n",
      "552.00 action: [0.009 -0.996] n_targets: 1 reward: 97.72 cost_for_stop_vel: 2.28\n",
      "total_deviated_vel:  0.008127302\n",
      "553.20 action: [0.004 -0.992] n_targets: 1 reward: 98.37 cost_for_stop_vel: 1.63\n",
      "total_deviated_vel:  0.011130303\n",
      "555.40 action: [0.01 -0.997] n_targets: 1 reward: 97.77 cost_for_stop_vel: 2.23\n",
      "total_deviated_vel:  0.009399742\n",
      "556.90 action: [0.007 -0.996] n_targets: 1 reward: 98.12 cost_for_stop_vel: 1.88\n",
      "total_deviated_vel:  0.011915088\n",
      "558.40 action: [0.01 -0.995] n_targets: 1 reward: 97.62 cost_for_stop_vel: 2.38\n",
      "total_deviated_vel:  0.010830879\n",
      "562.60 action: [0.009 -0.996] n_targets: 1 reward: 97.83 cost_for_stop_vel: 2.17\n",
      "total_deviated_vel:  0.010505617\n",
      "563.30 action: [0.009 -0.997] n_targets: 1 reward: 97.90 cost_for_stop_vel: 2.10\n",
      "total_deviated_vel:  0.010575473\n",
      "569.70 action: [0.009 -0.998] n_targets: 1 reward: 97.88 cost_for_stop_vel: 2.12\n",
      "total_deviated_vel:  0.0066156983\n",
      "573.50 action: [0.004 -0.995] n_targets: 1 reward: 98.68 cost_for_stop_vel: 1.32\n",
      "total_deviated_vel:  0.009143949\n",
      "581.00 action: [0.008 -0.998] n_targets: 1 reward: 98.17 cost_for_stop_vel: 1.83\n",
      "total_deviated_vel:  0.01638487\n",
      "583.50 action: [0.01 -0.987] n_targets: 1 reward: 96.72 cost_for_stop_vel: 3.28\n",
      "total_deviated_vel:  0.012161821\n",
      "595.30 action: [0.01 -0.995] n_targets: 2 reward: 197.57 cost_for_stop_vel: 2.43\n",
      "total_deviated_vel:  0.011297941\n",
      "597.20 action: [0.009 -0.996] n_targets: 1 reward: 97.74 cost_for_stop_vel: 2.26\n",
      "2025-10-15 10:32:44,630 - INFO - Step: 6000 / 8000\n",
      "total_deviated_vel:  0.011934042\n",
      "600.30 action: [0.008 -0.993] n_targets: 1 reward: 97.61 cost_for_stop_vel: 2.39\n",
      "total_deviated_vel:  0.011461288\n",
      "606.00 action: [0.009 -0.994] n_targets: 1 reward: 97.71 cost_for_stop_vel: 2.29\n",
      "total_deviated_vel:  0.011070788\n",
      "607.90 action: [0.01 -0.997] n_targets: 1 reward: 97.79 cost_for_stop_vel: 2.21\n",
      "total_deviated_vel:  0.01166141\n",
      "611.10 action: [0.009 -0.994] n_targets: 1 reward: 97.67 cost_for_stop_vel: 2.33\n",
      "total_deviated_vel:  0.0073372126\n",
      "614.80 action: [0.006 -0.998] n_targets: 2 reward: 198.53 cost_for_stop_vel: 1.47\n",
      "total_deviated_vel:  0.015013367\n",
      "617.80 action: [0.008 -0.985] n_targets: 1 reward: 97.00 cost_for_stop_vel: 3.00\n",
      "total_deviated_vel:  0.010941803\n",
      "619.70 action: [0.009 -0.997] n_targets: 2 reward: 197.81 cost_for_stop_vel: 2.19\n",
      "total_deviated_vel:  0.008290142\n",
      "622.60 action: [0.007 -0.997] n_targets: 1 reward: 98.34 cost_for_stop_vel: 1.66\n",
      "total_deviated_vel:  0.014679939\n",
      "623.70 action: [0.009 -0.989] n_targets: 1 reward: 97.06 cost_for_stop_vel: 2.94\n",
      "total_deviated_vel:  0.01505065\n",
      "630.40 action: [0.008 -0.986] n_targets: 1 reward: 96.99 cost_for_stop_vel: 3.01\n",
      "total_deviated_vel:  0.010482281\n",
      "634.20 action: [0.009 -0.998] n_targets: 1 reward: 97.90 cost_for_stop_vel: 2.10\n",
      "total_deviated_vel:  0.003045708\n",
      "638.60 action: [0.003 -1.0] n_targets: 2 reward: 199.39 cost_for_stop_vel: 0.61\n",
      "total_deviated_vel:  0.010890484\n",
      "647.10 action: [0.009 -0.997] n_targets: 1 reward: 97.82 cost_for_stop_vel: 2.18\n",
      "total_deviated_vel:  0.018868953\n",
      "647.70 action: [0.009 -0.981] n_targets: 1 reward: 96.23 cost_for_stop_vel: 3.77\n",
      "total_deviated_vel:  0.011916131\n",
      "653.10 action: [0.01 -0.996] n_targets: 1 reward: 97.62 cost_for_stop_vel: 2.38\n",
      "total_deviated_vel:  0.010745466\n",
      "654.00 action: [0.01 -0.998] n_targets: 1 reward: 97.85 cost_for_stop_vel: 2.15\n",
      "total_deviated_vel:  0.0042989254\n",
      "656.40 action: [0.002 -0.996] n_targets: 2 reward: 199.14 cost_for_stop_vel: 0.86\n",
      "total_deviated_vel:  0.008522481\n",
      "661.10 action: [0.007 -0.998] n_targets: 1 reward: 98.30 cost_for_stop_vel: 1.70\n",
      "total_deviated_vel:  0.011625528\n",
      "666.10 action: [0.01 -0.996] n_targets: 1 reward: 97.67 cost_for_stop_vel: 2.33\n",
      "total_deviated_vel:  0.0056256354\n",
      "680.60 action: [0.004 -0.996] n_targets: 1 reward: 98.87 cost_for_stop_vel: 1.13\n",
      "total_deviated_vel:  0.010245919\n",
      "684.70 action: [0.008 -0.996] n_targets: 1 reward: 97.95 cost_for_stop_vel: 2.05\n",
      "2025-10-15 10:32:45,298 - INFO - Step: 7000 / 8000\n",
      "total_deviated_vel:  0.010823846\n",
      "715.60 action: [0.01 -0.998] n_targets: 1 reward: 97.84 cost_for_stop_vel: 2.16\n",
      "total_deviated_vel:  0.0057154596\n",
      "716.00 action: [0.003 -0.995] n_targets: 1 reward: 98.86 cost_for_stop_vel: 1.14\n",
      "total_deviated_vel:  0.010800272\n",
      "723.00 action: [0.009 -0.997] n_targets: 1 reward: 97.84 cost_for_stop_vel: 2.16\n",
      "total_deviated_vel:  0.0027866662\n",
      "731.30 action: [0.001 -0.997] n_targets: 1 reward: 99.44 cost_for_stop_vel: 0.56\n",
      "total_deviated_vel:  0.010241568\n",
      "732.40 action: [0.009 -0.998] n_targets: 1 reward: 97.95 cost_for_stop_vel: 2.05\n",
      "total_deviated_vel:  0.013589352\n",
      "734.80 action: [0.01 -0.993] n_targets: 1 reward: 97.28 cost_for_stop_vel: 2.72\n",
      "total_deviated_vel:  0.011003733\n",
      "736.00 action: [0.01 -0.997] n_targets: 1 reward: 97.80 cost_for_stop_vel: 2.20\n",
      "total_deviated_vel:  0.009431958\n",
      "739.50 action: [0.008 -0.997] n_targets: 1 reward: 98.11 cost_for_stop_vel: 1.89\n",
      "total_deviated_vel:  0.0095285475\n",
      "740.30 action: [0.009 -0.998] n_targets: 1 reward: 98.09 cost_for_stop_vel: 1.91\n",
      "total_deviated_vel:  0.008600563\n",
      "750.20 action: [0.007 -0.997] n_targets: 2 reward: 198.28 cost_for_stop_vel: 1.72\n",
      "total_deviated_vel:  0.011425018\n",
      "752.00 action: [0.009 -0.996] n_targets: 1 reward: 97.71 cost_for_stop_vel: 2.29\n",
      "total_deviated_vel:  0.010873318\n",
      "752.70 action: [0.01 -0.997] n_targets: 1 reward: 97.83 cost_for_stop_vel: 2.17\n",
      "total_deviated_vel:  0.009471148\n",
      "758.50 action: [0.009 -0.998] n_targets: 2 reward: 198.11 cost_for_stop_vel: 1.89\n",
      "total_deviated_vel:  0.007266432\n",
      "759.90 action: [0.005 -0.996] n_targets: 1 reward: 98.55 cost_for_stop_vel: 1.45\n",
      "total_deviated_vel:  0.010335803\n",
      "762.20 action: [0.008 -0.995] n_targets: 1 reward: 97.93 cost_for_stop_vel: 2.07\n",
      "total_deviated_vel:  0.010512143\n",
      "762.50 action: [0.009 -0.997] n_targets: 1 reward: 97.90 cost_for_stop_vel: 2.10\n",
      "total_deviated_vel:  0.011758059\n",
      "763.60 action: [0.01 -0.996] n_targets: 1 reward: 97.65 cost_for_stop_vel: 2.35\n",
      "total_deviated_vel:  0.010176003\n",
      "767.50 action: [0.008 -0.995] n_targets: 1 reward: 97.96 cost_for_stop_vel: 2.04\n",
      "total_deviated_vel:  0.009448916\n",
      "769.60 action: [0.009 -0.999] n_targets: 1 reward: 98.11 cost_for_stop_vel: 1.89\n",
      "total_deviated_vel:  0.01018253\n",
      "770.40 action: [0.01 -0.999] n_targets: 2 reward: 197.96 cost_for_stop_vel: 2.04\n",
      "total_deviated_vel:  0.009088457\n",
      "771.50 action: [0.008 -0.997] n_targets: 1 reward: 98.18 cost_for_stop_vel: 1.82\n",
      "total_deviated_vel:  0.010055482\n",
      "774.50 action: [0.009 -0.999] n_targets: 1 reward: 97.99 cost_for_stop_vel: 2.01\n",
      "total_deviated_vel:  0.009087294\n",
      "777.70 action: [0.007 -0.997] n_targets: 2 reward: 198.18 cost_for_stop_vel: 1.82\n",
      "total_deviated_vel:  0.009457797\n",
      "783.80 action: [0.008 -0.998] n_targets: 1 reward: 98.11 cost_for_stop_vel: 1.89\n",
      "total_deviated_vel:  0.005324632\n",
      "784.90 action: [0.004 -0.997] n_targets: 1 reward: 98.94 cost_for_stop_vel: 1.06\n",
      "total_deviated_vel:  0.011241078\n",
      "796.90 action: [0.009 -0.996] n_targets: 1 reward: 97.75 cost_for_stop_vel: 2.25\n",
      "2025-10-15 10:32:46,695 - INFO - Firefly capture rate: 0.2312\n",
      "Warnings: currently, only ff in obs at each step are used in ff_dataframe. All ff are labeled 'visible' regardless of their actual time since last visible.\n",
      "made ff_dataframe\n"
     ]
    }
   ],
   "source": [
    "rl.collect_data(exists_ok=False, save_data=False)"
   ]
  },
  {
   "cell_type": "code",
   "execution_count": null,
   "id": "e4ffc043",
   "metadata": {},
   "outputs": [],
   "source": [
    "rl."
   ]
  },
  {
   "cell_type": "code",
   "execution_count": null,
   "id": "e3778cee",
   "metadata": {},
   "outputs": [
    {
     "name": "stdout",
     "output_type": "stream",
     "text": [
      "Number of frames is: 79\n",
      "Number of frames for the animation is: 79\n",
      "Saving animation as: RL_models/SB3_stored_models/all_collected_data/processed_data/oct_15/individual_data_sessions/data_0/dv10_dw10_w3_memT3__18-18_rate_0.51.mp4\n",
      "2025-10-15 10:35:57,444 - INFO - Animation.save using <class 'matplotlib.animation.FFMpegWriter'>\n",
      "2025-10-15 10:35:57,448 - INFO - MovieWriter._run: running command: /opt/miniconda3/envs/multiff_clean/bin/ffmpeg -f rawvideo -vcodec rawvideo -s 640x480 -pix_fmt rgba -framerate 10 -loglevel error -i pipe: -vcodec h264 -pix_fmt yuv420p -y RL_models/SB3_stored_models/all_collected_data/processed_data/oct_15/individual_data_sessions/data_0/dv10_dw10_w3_memT3__18-18_rate_0.51.mp4\n",
      "Animation is saved at: RL_models/SB3_stored_models/all_collected_data/processed_data/oct_15/individual_data_sessions/data_0/dv10_dw10_w3_memT3__18-18_rate_0.51.mp4\n",
      "Rendering animation ......\n"
     ]
    },
    {
     "data": {
      "text/html": [
       "<video controls  >\n",
       " <source src=\"data:video/mp4;base64,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\" type=\"video/mp4\">\n",
       " Your browser does not support the video tag.\n",
       " </video>"
      ],
      "text/plain": [
       "<IPython.core.display.Video object>"
      ]
     },
     "execution_count": 7,
     "metadata": {},
     "output_type": "execute_result"
    },
    {
     "data": {
      "image/png": "[encoded data removed]",
      "text/plain": [
       "<Figure size 640x480 with 1 Axes>"
      ]
     },
     "metadata": {},
     "output_type": "display_data"
    }
   ],
   "source": [
    "rl.set_animation_parameters(duration=[60, 68],k=1)\n",
    "rl.call_animation_function()\n",
    "\n",
    "from IPython.display import Video\n",
    "Video(rl.video_path_name, embed=True)"
   ]
  },
  {
   "cell_type": "markdown",
   "id": "1cabbc1d",
   "metadata": {},
   "source": [
    "## Train independently"
   ]
  },
  {
   "cell_type": "code",
   "execution_count": null,
   "id": "c47c0772",
   "metadata": {},
   "outputs": [],
   "source": [
    "model_folder_name = \"RL_models/SB3_stored_models/all_agents/regular\""
   ]
  },
  {
   "cell_type": "code",
   "execution_count": null,
   "id": "af6a601d",
   "metadata": {},
   "outputs": [],
   "source": [
    "# model_folder_name = \"RL_models/SB3_stored_models/all_agents/temp_10_11\""
   ]
  },
  {
   "cell_type": "code",
   "execution_count": null,
   "id": "d1e8681b",
   "metadata": {},
   "outputs": [],
   "source": [
    "model_folder_name = \"RL_models/SB3_stored_models/all_agents/oct_12_6\"\n",
    "os.makedirs(model_folder_name, exist_ok=True)\n",
    "\n",
    "env_kwargs = {}\n",
    "env = env_for_sb3.EnvForSB3(**env_kwargs)\n",
    "env = Monitor(env, model_folder_name)\n",
    "\n",
    "# For direct training\n",
    "sac_model = SAC(\"MlpPolicy\", \n",
    "            env,\n",
    "            gamma=0.998,\n",
    "            learning_rate=0.0015,\n",
    "            batch_size=1024,\n",
    "            target_update_interval=50,\n",
    "            buffer_size=1000000,\n",
    "            learning_starts=10000,\n",
    "            train_freq=10,\n",
    "            ent_coef='auto',\n",
    "            policy_kwargs=dict(activation_fn=nn.Tanh, net_arch=[128, 128])\n",
    "            )\n",
    "\n",
    "\n",
    "callback = sb3_utils.SaveOnBestTrainingRewardCallback(check_freq=20000, model_folder_name=model_folder_name)\n",
    "#timesteps = 50000000\n",
    "timesteps = 200000\n",
    "sac_model.learn(total_timesteps=int(timesteps), callback=callback)\n",
    "plot_results([model_folder_name], timesteps, results_plotter.X_TIMESTEPS, \"env.MultiFF\")\n",
    "plt.show()"
   ]
  },
  {
   "attachments": {},
   "cell_type": "markdown",
   "id": "b254917d",
   "metadata": {
    "id": "b254917d"
   },
   "source": [
    "# Streamline loading agent"
   ]
  },
  {
   "attachments": {},
   "cell_type": "markdown",
   "id": "bd105957",
   "metadata": {
    "id": "bd105957"
   },
   "source": [
    "## Make files for logging"
   ]
  },
  {
   "attachments": {},
   "cell_type": "markdown",
   "id": "e447c5f9",
   "metadata": {
    "id": "e447c5f9"
   },
   "source": [
    "(Only have to do once)"
   ]
  },
  {
   "cell_type": "code",
   "execution_count": null,
   "id": "nuE-aO1digZv",
   "metadata": {
    "id": "nuE-aO1digZv"
   },
   "outputs": [],
   "source": [
    "import os\n",
    "import pandas as pd\n",
    "\n",
    "def ensure_csv(folder: str, filename: str, columns: list[str]) -> None:\n",
    "    filepath = os.path.join(folder, filename)\n",
    "    if not os.path.exists(filepath):\n",
    "        pd.DataFrame(columns=columns).to_csv(filepath, index=False)\n",
    "\n",
    "common_cols = ['dv_cost_factor', 'dw_cost_factor', 'w_cost_factor',\n",
    "               'v_noise_std', 'w_noise_std', 'ffr_noise_scale', 'num_obs_ff', 'max_in_memory_time']\n",
    "\n",
    "ensure_csv(overall_folder, 'family_of_agents_log.csv',\n",
    "           common_cols + ['finished_training', 'year', 'month', 'date',\n",
    "                          'training_time', 'successful_training'])\n",
    "\n",
    "ensure_csv(overall_folder, 'parameters_record.csv',\n",
    "           common_cols + ['working'])\n",
    "\n",
    "ensure_csv(overall_folder, 'pattern_frequencies_record.csv',\n",
    "           common_cols + ['two_in_a_row', 'three_in_a_row', 'four_in_a_row', 'one_in_a_row',\n",
    "                          'multiple_in_a_row', 'multiple_in_a_row_all', 'visible_before_last_one',\n",
    "                          'disappear_latest', 'ignore_sudden_flash', 'try_a_few_times',\n",
    "                          'give_up_after_trying', 'cluster_around_target',\n",
    "                          'waste_cluster_around_target', 'ff_capture_rate', 'stop_success_rate'])\n",
    "\n",
    "feature_cols = common_cols + ['t', 't_last_vis', 'd_last_vis', 'abs_angle_last_vis',\n",
    "                              'hitting_arena_edge', 'num_stops', 'num_stops_since_last_vis',\n",
    "                              'num_stops_near_target', 'num_alive_ff_around_target', 'n_ff_in_a_row']\n",
    "\n",
    "ensure_csv(overall_folder, 'feature_means_record.csv', feature_cols)\n",
    "ensure_csv(overall_folder, 'feature_medians_record.csv', feature_cols)\n"
   ]
  },
  {
   "attachments": {},
   "cell_type": "markdown",
   "id": "0f22ab42",
   "metadata": {
    "id": "0f22ab42"
   },
   "source": [
    "Make daily backup"
   ]
  },
  {
   "cell_type": "code",
   "execution_count": null,
   "id": "d245d8ed",
   "metadata": {
    "id": "d245d8ed"
   },
   "outputs": [],
   "source": [
    "# back_up_path = overall_folder + 'family_of_agents_log_' + str(time_package.localtime().tm_mon) + '_' + str(time_package.localtime().tm_mday) + '.csv'\n",
    "# if not exists(back_up_path):\n",
    "#     family_of_agents_log = pd.read_csv(overall_folder + 'family_of_agents_log.csv').drop([\"Unnamed: 0\"], axis=1)\n",
    "#     family_of_agents_log.to_csv(back_up_path)\n",
    "#     print('A back up of family_of_agents_log is stored in', back_up_path)"
   ]
  },
  {
   "attachments": {},
   "cell_type": "markdown",
   "id": "1558f19f",
   "metadata": {
    "id": "1558f19f"
   },
   "source": [
    "## Get monkey data"
   ]
  },
  {
   "cell_type": "code",
   "execution_count": null,
   "id": "c86c2e1f",
   "metadata": {
    "colab": {
     "base_uri": "https://localhost:8080/"
    },
    "executionInfo": {
     "elapsed": 31188,
     "status": "ok",
     "timestamp": 1684945834636,
     "user": {
      "displayName": "Cici Du",
      "userId": "17701548280142155870"
     },
     "user_tz": -480
    },
    "id": "c86c2e1f",
    "outputId": "250ac96e-7813-4618-a219-2dab7c7e9556"
   },
   "outputs": [],
   "source": [
    "raw_data_folder_path = \"all_monkey_data/raw_monkey_data/monkey_Bruno/data_0220\"\n",
    "data_item = further_processing_class.FurtherProcessing(raw_data_folder_path=raw_data_folder_path)\n",
    "data_item.retrieve_or_make_monkey_data()\n",
    "data_item.make_or_retrieve_ff_dataframe(exists_ok=True)\n",
    "data_item.find_patterns()\n",
    "data_item.make_or_retrieve_all_trial_patterns(exists_ok=True)\n",
    "data_item.make_or_retrieve_pattern_frequencies(exists_ok=True)\n",
    "data_item.make_or_retrieve_all_trial_features(exists_ok=True)\n",
    "data_item.make_or_retrieve_feature_statistics(exists_ok=True)\n",
    "data_item.make_info_of_monkey()\n",
    "\n",
    "all_trial_patterns_m = data_item.all_trial_patterns\n",
    "pattern_frequencies_m = data_item.pattern_frequencies\n",
    "all_trial_features_m = data_item.all_trial_features\n",
    "feature_statistics_m = data_item.feature_statistics\n",
    "info_of_monkey = data_item.info_of_monkey"
   ]
  },
  {
   "cell_type": "markdown",
   "id": "f27fc48d",
   "metadata": {},
   "source": [
    "## Run the class"
   ]
  },
  {
   "cell_type": "code",
   "execution_count": null,
   "id": "2b2f4ccf",
   "metadata": {},
   "outputs": [],
   "source": [
    "overall_folder = 'RL_models/SB3_stored_models/all_agents/gen_0/'"
   ]
  },
  {
   "cell_type": "code",
   "execution_count": null,
   "id": "d49318ae",
   "metadata": {},
   "outputs": [],
   "source": [
    "rl = sb3_class.SB3forMultifirefly(overall_folder=overall_folder, add_date_to_model_folder_name=False)\n",
    "#rl.import_monkey_data(info_of_monkey, all_trial_features_m, pattern_frequencies_m, feature_statistics_m)\n",
    "rl.streamline_everything(currentTrial_for_animation = 10, num_trials_for_animation = 5)"
   ]
  },
  {
   "cell_type": "code",
   "execution_count": null,
   "id": "fc2d8944",
   "metadata": {},
   "outputs": [],
   "source": [
    "rl.lstm = False"
   ]
  },
  {
   "cell_type": "code",
   "execution_count": null,
   "id": "4bb7a0fd",
   "metadata": {},
   "outputs": [],
   "source": [
    "# timesteps = 10000000        \n",
    "# stop_train_callback = sb3_utils.StopTrainingOnNoModelImprovement(max_no_improvement_evals=20, min_evals=20, verbose=1, model_folder_name=rl.model_folder_name,                                                   overall_folder=rl.overall_folder, agent_id=rl.agent_id)\n",
    "# callback = EvalCallback(rl.env, eval_freq=12000, callback_after_eval=stop_train_callback, verbose=1, best_model_save_path=rl.model_folder_name, n_eval_episodes=3)\n",
    "# rl.sac_model.learn(total_timesteps=int(timesteps), callback=callback)\n",
    "# rl.successful_training = True"
   ]
  },
  {
   "cell_type": "markdown",
   "id": "bd0edc7f",
   "metadata": {},
   "source": [
    "## Collect data (experimentation)"
   ]
  },
  {
   "cell_type": "code",
   "execution_count": null,
   "id": "9e658475",
   "metadata": {},
   "outputs": [],
   "source": [
    "rl.collect_data(exists_ok=True, save_data=True)"
   ]
  },
  {
   "cell_type": "markdown",
   "id": "c25cf7cf",
   "metadata": {},
   "source": [
    "## load"
   ]
  },
  {
   "cell_type": "code",
   "execution_count": null,
   "id": "e8747d95",
   "metadata": {},
   "outputs": [],
   "source": [
    "env_kwargs = {'overall_folder': overall_folder, \n",
    "            #   'v_noise_std': 0, \n",
    "            #   \"w_noise_std\": 0,\n",
    "            #   'ffr_noise_scale': 0, \n",
    "            #   'num_obs_ff': 2, \n",
    "            #   'max_in_memory_time': 2.5, \n",
    "            #   'add_date_to_model_folder_name': False,\n",
    "            #   \n",
    "            #   'dv_cost_factor': 10,\n",
    "            #   'dw_cost_factor': 10,\n",
    "              }\n",
    "\n",
    "# alternatively...\n",
    "rl = sb3_class.SB3forMultifirefly(**env_kwargs)\n",
    "rl.make_env()\n",
    "rl.make_agent()\n",
    "rl.load_agent(load_replay_buffer=False)"
   ]
  },
  {
   "cell_type": "markdown",
   "id": "43c1046e",
   "metadata": {},
   "source": [
    "## call_animation_function"
   ]
  },
  {
   "cell_type": "code",
   "execution_count": null,
   "id": "918921f1",
   "metadata": {},
   "outputs": [],
   "source": [
    "rl.set_animation_parameters(currentTrial=10, num_trials=5, k=1)\n",
    "rl.call_animation_function()\n",
    "# rl.combine_6_plots_for_neural_network()\n",
    "# rl.calculate_pattern_frequencies_and_feature_statistics()\n",
    "# rl.plot_side_by_side()\n",
    "# plot_statistics.plot_pattern_frequencies(rl.combd_pattern_frequencies, compare_monkey_and_agent=True, data_folder_name=rl.model_folder_name)\n",
    "# #plot_statistics.plot_feature_statistics_for_monkey_and_agent(rl.combd_feature_statistics, data_folder_name = rl.model_folder_name)\n",
    "# plot_statistics.plot_feature_histograms_for_monkey_and_agent(rl.all_trial_features_valid, rl.all_trial_features_valid, data_folder_name = rl.model_folder_name)"
   ]
  },
  {
   "attachments": {},
   "cell_type": "markdown",
   "id": "da26c42f",
   "metadata": {
    "id": "da26c42f"
   },
   "source": [
    "# Loop (for hyperparameter tuning)"
   ]
  },
  {
   "cell_type": "markdown",
   "id": "cf95e9a6",
   "metadata": {},
   "source": [
    "## test params"
   ]
  },
  {
   "cell_type": "code",
   "execution_count": null,
   "id": "93592d2a",
   "metadata": {},
   "outputs": [],
   "source": [
    "\n",
    "for dw_cost_factor in range(30, 100, 10):\n",
    "    params = {\n",
    "        'dv_cost_factor': 10,\n",
    "        'dw_cost_factor': dw_cost_factor,\n",
    "        'w_cost_factor': 10,\n",
    "    }\n",
    "\n",
    "    num_obs_ff = 3\n",
    "    max_in_memory_time = 3\n",
    "    overall_folder = f'RL_models/SB3_stored_models/all_agents/env1_test_params/ff{num_obs_ff}/'\n",
    "\n",
    "    env_kwargs = {'num_obs_ff': num_obs_ff,\n",
    "                'max_in_memory_time': max_in_memory_time,\n",
    "                'print_ff_capture_incidents': False\n",
    "                #'reward_per_ff': 120,\n",
    "    }\n",
    "\n",
    "    # check if num_obs_ff is consistent with the name in overall_folder. If not, raise an error\n",
    "    if not f'ff{env_kwargs[\"num_obs_ff\"]}' in overall_folder:\n",
    "        raise ValueError('num_obs_ff is not consistent with the name in overall_folder')\n",
    "\n",
    "    gc.collect()\n",
    "    print(\"Current parameters: \", params)\n",
    "\n",
    "    # params = {'time_cost': 0.0, 'dv_cost_factor': 0.0, 'dw_cost_factor': 0.0, 'w_cost_factor': 0.0, 'v_noise_std': 0.0, 'w_noise_std': 0.0}\n",
    "    rl = sb3_class.SB3forMultifirefly(**params, overall_folder=overall_folder,\n",
    "                                                        **env_kwargs)\n",
    "\n",
    "    #rl.import_monkey_data(info_of_monkey, all_trial_features_m, pattern_frequencies_m, feature_statistics_m)\n",
    "    rl.streamline_everything(currentTrial_for_animation=None, num_trials_for_animation=None, duration=[10, 40],\n",
    "                                    best_model_postcurriculum_exists_ok=True, to_load_latest_agent=True)"
   ]
  },
  {
   "cell_type": "markdown",
   "id": "8260b092",
   "metadata": {},
   "source": [
    "## env1 loop"
   ]
  },
  {
   "cell_type": "code",
   "execution_count": null,
   "id": "300552bf",
   "metadata": {},
   "outputs": [],
   "source": [
    "# params = {\n",
    "#           'dv_cost_factor': 10,\n",
    "#           'dw_cost_factor': 10,\n",
    "#           'w_cost_factor': 10,\n",
    "# }\n",
    "\n",
    "params = {\n",
    "          'dv_cost_factor': 0,\n",
    "          'dw_cost_factor': 0,\n",
    "          'w_cost_factor': 0,\n",
    "}\n",
    "\n",
    "for max_in_memory_time in [3, 2, 1]:\n",
    "    for num_obs_ff in [2, 1, 3, 4, 5]:\n",
    "        overall_folder = f'RL_models/SB3_stored_models/all_agents/env1_relu/ff{num_obs_ff}/'\n",
    "\n",
    "        env_kwargs = {'num_obs_ff': num_obs_ff,\n",
    "                    'max_in_memory_time': max_in_memory_time,\n",
    "                    'print_ff_capture_incidents': False\n",
    "                    #'reward_per_ff': 120,\n",
    "        }\n",
    "\n",
    "        # check if num_obs_ff is consistent with the name in overall_folder. If not, raise an error\n",
    "        if not f'ff{env_kwargs[\"num_obs_ff\"]}' in overall_folder:\n",
    "            raise ValueError('num_obs_ff is not consistent with the name in overall_folder')\n",
    "\n",
    "        gc.collect()\n",
    "        print(\"Current parameters: \", params)\n",
    "\n",
    "        # params = {'time_cost': 0.0, 'dv_cost_factor': 0.0, 'dw_cost_factor': 0.0, 'w_cost_factor': 0.0, 'v_noise_std': 0.0, 'w_noise_std': 0.0}\n",
    "        rl = sb3_class.SB3forMultifirefly(**params, overall_folder=overall_folder,\n",
    "                                                            **env_kwargs)\n",
    "\n",
    "        #rl.import_monkey_data(info_of_monkey, all_trial_features_m, pattern_frequencies_m, feature_statistics_m)\n",
    "        rl.streamline_everything(currentTrial_for_animation=None, num_trials_for_animation=None, duration=[10, 40],\n",
    "                                        best_model_postcurriculum_exists_ok=True, to_load_latest_agent=True)"
   ]
  },
  {
   "cell_type": "markdown",
   "id": "13b893a2",
   "metadata": {},
   "source": [
    "## combos of params"
   ]
  },
  {
   "cell_type": "code",
   "execution_count": null,
   "id": "26965f54",
   "metadata": {},
   "outputs": [],
   "source": [
    "# randomly sample from a range\n",
    "param_combinations = []\n",
    "num_param_combinations = 20\n",
    "for i in range(num_param_combinations):\n",
    "    combo = dict()\n",
    "    #combo[\"time_cost\"] = round(random.uniform(20, 50), 2)\n",
    "    combo[\"dv_cost_factor\"] = round(random.uniform(50, 150), 2)\n",
    "    combo[\"dw_cost_factor\"] = round(random.uniform(50, 150), 2)\n",
    "    combo[\"w_cost_factor\"] = round(random.uniform(50, 150), 2)\n",
    "    param_combinations.append(combo)"
   ]
  },
  {
   "cell_type": "code",
   "execution_count": null,
   "id": "224212ef",
   "metadata": {},
   "outputs": [],
   "source": [
    "overall_folder = 'RL_models/SB3_stored_models/all_agents/env1_relu/ff3/'"
   ]
  },
  {
   "cell_type": "code",
   "execution_count": null,
   "id": "d2c7c048",
   "metadata": {},
   "outputs": [],
   "source": [
    "env_kwargs = {'num_obs_ff': 3,\n",
    "              'print_ff_capture_incidents': False\n",
    "              #'reward_per_ff': 120,\n",
    "}\n",
    "\n",
    "for count, params in enumerate(param_combinations):\n",
    "    gc.collect()\n",
    "    print(\"Running\", str(count), \"out of\", len(param_combinations), \"combinations of parameters\")\n",
    "    print(\"Current parameters: \", params)\n",
    "\n",
    "    # params = {'time_cost': 0.0, 'dv_cost_factor': 0.0, 'dw_cost_factor': 0.0, 'w_cost_factor': 0.0, 'v_noise_std': 0.0, 'w_noise_std': 0.0}\n",
    "\n",
    "    rl = sb3_class.SB3forMultifirefly(**params, overall_folder=overall_folder,\n",
    "                                                     **env_kwargs)\n",
    "\n",
    "    #rl.import_monkey_data(info_of_monkey, all_trial_features_m, pattern_frequencies_m, feature_statistics_m)\n",
    "    rl.streamline_everything(currentTrial_for_animation=None, num_trials_for_animation=None, duration=[10, 40],\n",
    "                                  best_model_postcurriculum_exists_ok=True)"
   ]
  },
  {
   "cell_type": "markdown",
   "id": "e5061dae",
   "metadata": {},
   "source": [
    "### make animation"
   ]
  },
  {
   "cell_type": "code",
   "execution_count": null,
   "id": "81448918",
   "metadata": {},
   "outputs": [],
   "source": [
    "#rl.load_best_model_postcurriculum()\n",
    "rl.streamline_making_animation(duration=[10, 40])\n",
    "#rl.streamline_loading_and_making_animation()"
   ]
  },
  {
   "cell_type": "markdown",
   "id": "b5d25498",
   "metadata": {},
   "source": [
    "## env2"
   ]
  },
  {
   "cell_type": "code",
   "execution_count": null,
   "id": "077effa7",
   "metadata": {},
   "outputs": [],
   "source": [
    "# randomly sample from a range\n",
    "param_combinations = []\n",
    "num_param_combinations = 10\n",
    "for i in range(num_param_combinations):\n",
    "    combo = dict()\n",
    "    #combo[\"time_cost\"] = round(random.uniform(20, 50), 2)\n",
    "    combo[\"dv_cost_factor\"] = round(random.uniform(50, 150), 2)\n",
    "    combo[\"dw_cost_factor\"] = round(random.uniform(50, 150), 2)\n",
    "    combo[\"w_cost_factor\"] = round(random.uniform(50, 150), 2)\n",
    "    param_combinations.append(combo)"
   ]
  },
  {
   "cell_type": "code",
   "execution_count": null,
   "id": "4b5d689e",
   "metadata": {},
   "outputs": [],
   "source": [
    "overall_folder = 'RL_models/SB3_stored_models/all_agents/gen_28_env2/'"
   ]
  },
  {
   "cell_type": "code",
   "execution_count": null,
   "id": "935605e1",
   "metadata": {},
   "outputs": [],
   "source": [
    "env_kwargs = {'num_obs_ff': 10,\n",
    "              'make_ff_always_flash_on': False,\n",
    "              'max_in_memory_time': 3,\n",
    "              'linear_terminal_vel': 0.01,\n",
    "              'angular_terminal_vel': 0.01,\n",
    "              'reward_per_ff': 100,\n",
    "              'dt': 0.1,\n",
    "              'add_vel_cost_when_catching_ff_only': False,\n",
    "              #'reward_per_ff': 120,\n",
    "}\n",
    "\n",
    "for count, params in enumerate(param_combinations):\n",
    "    gc.collect()\n",
    "    print(\"Running\", str(count), \"out of\", len(param_combinations), \"combinations of parameters\")\n",
    "    print(\"Current parameters: \", params)\n",
    "\n",
    "    # params = {'time_cost': 0.0, 'dv_cost_factor': 0.0, 'dw_cost_factor': 0.0, 'w_cost_factor': 0.0, 'v_noise_std': 0.0, 'w_noise_std': 0.0}\n",
    "\n",
    "    rl = sb3_class.SB3forMultifirefly(**params, overall_folder=overall_folder,\n",
    "                                                     **env_kwargs,\n",
    "                                                     use_env2=True)\n",
    "\n",
    "    #rl.import_monkey_data(info_of_monkey, all_trial_features_m, pattern_frequencies_m, feature_statistics_m)\n",
    "    rl.streamline_everything(currentTrial_for_animation=None, num_trials_for_animation=None, duration=[10, 40],\n",
    "                                  best_model_postcurriculum_exists_ok=False)"
   ]
  },
  {
   "cell_type": "markdown",
   "id": "0ffb305a",
   "metadata": {},
   "source": [
    "## remake animation"
   ]
  },
  {
   "cell_type": "code",
   "execution_count": null,
   "id": "b94af079",
   "metadata": {},
   "outputs": [],
   "source": [
    "# # For every folder in slow:\n",
    "# # Extract parameters from the folder name\n",
    "# # Re-make the env\n",
    "# # Load agent\n",
    "# # And then make animation\n",
    "\n",
    "# overall_folder = 'RL_models/SB3_stored_models/all_agents/gen_30_env1_4ff'\n",
    "# folders = os.listdir(overall_folder)\n",
    "# for folder in folders:\n",
    "#     if 'time' not in folder:\n",
    "#         continue\n",
    "#     print(\"Currently working on\", folder)\n",
    "#     folder_path = overall_folder + '/' + folder\n",
    "#     params = rl_base_utils.extract_cost_params_from_folder_name(folder)\n",
    "#     rl = sb3_class.SB3forMultifirefly(**params, overall_folder=overall_folder,\n",
    "#                                                      make_ff_always_flash_on=True)\n",
    "#     #rl.import_monkey_data(info_of_monkey, all_trial_features_m, pattern_frequencies_m, feature_statistics_m)\n",
    "#     rl.model_folder_name = folder_path\n",
    "#     rl.make_env()\n",
    "#     rl.make_agent()\n",
    "#     rl.load_agent(load_replay_buffer=False)\n",
    "#     rl.collect_data()\n",
    "#     rl.set_animation_parameters(currentTrial=5, num_trials=5, k=1)\n",
    "#     rl.call_animation_function()"
   ]
  },
  {
   "attachments": {},
   "cell_type": "markdown",
   "id": "5409a0bd",
   "metadata": {
    "id": "5409a0bd"
   },
   "source": [
    "# Env"
   ]
  },
  {
   "attachments": {},
   "cell_type": "markdown",
   "id": "9703eb0c",
   "metadata": {
    "id": "9703eb0c"
   },
   "source": [
    "## regular"
   ]
  },
  {
   "cell_type": "code",
   "execution_count": null,
   "id": "30a34ff5",
   "metadata": {
    "id": "30a34ff5"
   },
   "outputs": [],
   "source": [
    "env_kwargs = {}\n",
    "env = env_for_sb3.EnvForSB3(**env_kwargs)\n",
    "model_folder_name = \"RL_models/SB3_stored_models/all_agents/regular\"\n",
    "os.makedirs(model_folder_name, exist_ok=True)\n",
    "env = Monitor(env, model_folder_name)"
   ]
  },
  {
   "cell_type": "markdown",
   "id": "fb32d7b0",
   "metadata": {},
   "source": [
    "## make_ff_always_flash_on"
   ]
  },
  {
   "cell_type": "code",
   "execution_count": null,
   "id": "e4a6ab06",
   "metadata": {},
   "outputs": [],
   "source": [
    "env_kwargs = {'make_ff_always_flash_on': True,\n",
    "              'ffr_noise_scale': 0,}\n",
    "env = env_for_sb3.EnvForSB3(**env_kwargs)\n",
    "model_folder_name = \"RL_models/SB3_stored_models/all_agents/regular\"\n",
    "os.makedirs(model_folder_name, exist_ok=True)\n",
    "env = Monitor(env, model_folder_name)"
   ]
  },
  {
   "attachments": {},
   "cell_type": "markdown",
   "id": "83d0be92",
   "metadata": {
    "id": "83d0be92"
   },
   "source": [
    "## one-ff"
   ]
  },
  {
   "cell_type": "code",
   "execution_count": null,
   "id": "08c7fb7e",
   "metadata": {
    "id": "08c7fb7e"
   },
   "outputs": [],
   "source": [
    "env_kwargs = {'num_obs_ff': 1}\n",
    "env = env_for_sb3.EnvForSB3(**env_kwargs)\n",
    "env = Monitor(env, model_folder_name)"
   ]
  },
  {
   "attachments": {},
   "cell_type": "markdown",
   "id": "6d8ef0c3",
   "metadata": {
    "id": "6d8ef0c3"
   },
   "source": [
    "## with noise"
   ]
  },
  {
   "cell_type": "code",
   "execution_count": null,
   "id": "70417219",
   "metadata": {
    "id": "70417219"
   },
   "outputs": [],
   "source": [
    "env_kwargs = {\"v_noise_std\": 0.1, \n",
    "              \"w_noise_std\": 0.1,\n",
    "              \"ffr_noise_scale\": 4, \n",
    "              \"num_obs_ff\": 2,\n",
    "              \"max_in_memory_time\": 2.5}\n",
    "# model_folder_name =overall_folder + \"/SB3_stored_models/all_agents/v\" +\n",
    "#                        str(v_noise_std) + \"_w_\" + str(w_noise_std) + \"_o_\" + str(ffr_noise_scale) + \\\n",
    "#                        \"_ff_\" + str(num_obs_ff) + \"_m_\" + str(max_in_memory_time)\n",
    "env = env.MultiFF(**env_kwargs)\n",
    "env = Monitor(env, model_folder_name)\n",
    "model_folder_name = \"RL_models/SB3_stored_models/all_agents/A0.2_O4_ff2_M3\"\n",
    "os.makedirs(model_folder_name, exist_ok=True)"
   ]
  },
  {
   "attachments": {},
   "cell_type": "markdown",
   "id": "50d88dc9",
   "metadata": {
    "id": "50d88dc9"
   },
   "source": [
    "# Agent"
   ]
  },
  {
   "attachments": {},
   "cell_type": "markdown",
   "id": "ea153406",
   "metadata": {
    "id": "ea153406"
   },
   "source": [
    "## make agent"
   ]
  },
  {
   "cell_type": "code",
   "execution_count": null,
   "id": "4c411166",
   "metadata": {
    "id": "4c411166"
   },
   "outputs": [],
   "source": [
    "# For direct training\n",
    "sac_model = SAC(\"MlpPolicy\", \n",
    "            env,\n",
    "            gamma=0.995,\n",
    "            learning_rate=0.0015,\n",
    "            batch_size=1024,\n",
    "            target_update_interval=50,\n",
    "            buffer_size=1000000,\n",
    "            learning_starts=10000,\n",
    "            train_freq=10,\n",
    "            ent_coef='auto',\n",
    "            policy_kwargs=dict(activation_fn=nn.Tanh, net_arch=[128, 128])\n",
    "            )"
   ]
  },
  {
   "attachments": {},
   "cell_type": "markdown",
   "id": "37268cc4",
   "metadata": {
    "id": "37268cc4"
   },
   "source": [
    "## load agent (optional)"
   ]
  },
  {
   "cell_type": "code",
   "execution_count": null,
   "id": "fd640727",
   "metadata": {
    "id": "fd640727"
   },
   "outputs": [],
   "source": [
    "path = os.path.join(model_folder_name, 'best_model.zip')\n",
    "path2 = os.path.join(model_folder_name, 'buffer.pkl')\n",
    "sac_model = sac_model.load(path,env=env) \n",
    "sac_model.load_replay_buffer(path2)"
   ]
  },
  {
   "attachments": {},
   "cell_type": "markdown",
   "id": "b372808d",
   "metadata": {
    "id": "b372808d"
   },
   "source": [
    "## Train agent"
   ]
  },
  {
   "cell_type": "code",
   "execution_count": null,
   "id": "aeba8196",
   "metadata": {},
   "outputs": [],
   "source": [
    "model_folder_name = \"RL_models/SB3_stored_models/all_agents/temp_9_29\"\n",
    "os.makedirs(model_folder_name, exist_ok=True)"
   ]
  },
  {
   "cell_type": "code",
   "execution_count": null,
   "id": "21a908ec",
   "metadata": {
    "id": "21a908ec"
   },
   "outputs": [],
   "source": [
    "callback = sb3_utils.SaveOnBestTrainingRewardCallback(check_freq=20000, model_folder_name=model_folder_name)\n",
    "#timesteps = 50000000\n",
    "timesteps = 500000\n",
    "sac_model.learn(total_timesteps=int(timesteps), callback=callback)\n",
    "plot_results([model_folder_name], timesteps, results_plotter.X_TIMESTEPS, \"env.MultiFF\")\n",
    "plt.show()"
   ]
  },
  {
   "cell_type": "code",
   "execution_count": null,
   "id": "1919e84e",
   "metadata": {
    "id": "1919e84e"
   },
   "outputs": [],
   "source": [
    "plot_results([model_folder_name], timesteps, results_plotter.X_TIMESTEPS, \"env.MultiFF\")\n",
    "plt.show()"
   ]
  },
  {
   "cell_type": "code",
   "execution_count": null,
   "id": "9c3d27b8",
   "metadata": {
    "id": "9c3d27b8"
   },
   "outputs": [],
   "source": [
    "sac_model.save(os.path.join(model_folder_name, 'best_model'))\n",
    "sac_model.save_replay_buffer(os.path.join(model_folder_name, 'buffer')) # I added this"
   ]
  },
  {
   "cell_type": "code",
   "execution_count": null,
   "id": "492f1169",
   "metadata": {
    "id": "492f1169"
   },
   "outputs": [],
   "source": [
    "stop_train_callback = sb3_utils.StopTrainingOnNoModelImprovement(max_no_improvement_evals=10, min_evals=20, verbose=1)\n",
    "callback = EvalCallback(env, eval_freq=5000, callback_after_eval=stop_train_callback, verbose=1)\n",
    "# timesteps = 50000000\n",
    "timesteps = 5000000\n",
    "sac_model.learn(total_timesteps=int(timesteps), callback=callback)\n",
    "\n",
    "sac_model.save(os.path.join(model_folder_name, 'best_model'))\n",
    "sac_model.save_replay_buffer(os.path.join(model_folder_name, 'buffer')) # I added this"
   ]
  },
  {
   "attachments": {},
   "cell_type": "markdown",
   "id": "d075400f",
   "metadata": {
    "id": "d075400f"
   },
   "source": [
    "# Animation"
   ]
  },
  {
   "cell_type": "code",
   "execution_count": null,
   "id": "382fcebb",
   "metadata": {},
   "outputs": [],
   "source": [
    "RL_anim = sb3_class.SB3forMultifirefly(overall_folder='RL_models/SB3_stored_models/all_agents/gen_12/', **env_kwargs)"
   ]
  },
  {
   "cell_type": "code",
   "execution_count": null,
   "id": "5bad6a43",
   "metadata": {},
   "outputs": [],
   "source": [
    "RL_anim.sac_model = sac_model"
   ]
  },
  {
   "cell_type": "code",
   "execution_count": null,
   "id": "8974494c",
   "metadata": {},
   "outputs": [],
   "source": [
    "RL_anim.streamline_making_animation()"
   ]
  },
  {
   "attachments": {},
   "cell_type": "markdown",
   "id": "b056b5cc",
   "metadata": {
    "id": "b056b5cc"
   },
   "source": [
    "# Interpret neural network (only works on 1-ff env rn)"
   ]
  },
  {
   "cell_type": "code",
   "execution_count": null,
   "id": "86cb94d9",
   "metadata": {},
   "outputs": [],
   "source": [
    "## use combine_6_plots_for_neural_network from rl_base_class"
   ]
  },
  {
   "attachments": {},
   "cell_type": "markdown",
   "id": "efeeb570",
   "metadata": {
    "id": "efeeb570"
   },
   "source": [
    "# Plot statistics (pasted from visualization.ipynb)\n",
    "compare monkey and agents"
   ]
  },
  {
   "cell_type": "code",
   "execution_count": null,
   "id": "48a06c6c",
   "metadata": {},
   "outputs": [],
   "source": [
    "# use the function above from rl_base_class:   \n",
    "    # def save_plots_in_data_folders(self):\n",
    "    #     plot_statistics.plot_pattern_frequencies(self.agent_monkey_pattern_frequencies, compare_monkey_and_agent=True, data_folder_name=self.processed_data_folder_path)\n",
    "    #     plot_statistics.plot_feature_statistics(self.agent_monkey_feature_statistics, compare_monkey_and_agent=True, data_folder_name = self.processed_data_folder_path)\n",
    "\n",
    "    #     plot_statistics.plot_feature_histograms_for_monkey_and_agent(self.all_trial_features_valid_m, self.all_trial_features_valid, data_folder_name = self.model_folder_name)\n",
    "    #     print(\"Made new plots\")"
   ]
  },
  {
   "attachments": {},
   "cell_type": "markdown",
   "id": "TQMCDI-FqP6s",
   "metadata": {
    "id": "TQMCDI-FqP6s"
   },
   "source": [
    "# Plot side_by_side"
   ]
  },
  {
   "cell_type": "code",
   "execution_count": null,
   "id": "f57d26ad",
   "metadata": {},
   "outputs": [],
   "source": [
    "# use the function plot_side_by_side from rl_base_class:   "
   ]
  },
  {
   "attachments": {},
   "cell_type": "markdown",
   "id": "xIYoWAIyDieu",
   "metadata": {
    "id": "xIYoWAIyDieu"
   },
   "source": [
    "# Polar"
   ]
  },
  {
   "attachments": {},
   "cell_type": "markdown",
   "id": "aoaz1_ng6QMt",
   "metadata": {
    "id": "aoaz1_ng6QMt"
   },
   "source": [
    "## Version 1"
   ]
  },
  {
   "cell_type": "code",
   "execution_count": null,
   "id": "ZrSbMmCJ5uN1",
   "metadata": {
    "id": "ZrSbMmCJ5uN1"
   },
   "outputs": [],
   "source": [
    "num_trials = 1\n",
    "for currentTrial in range(40,43):\n",
    "    print(currentTrial)\n",
    "    #duration = [ff_caught_T_new[currentTrial-num_trials], ff_caught_T_new[currentTrial]]\n",
    "    duration = [ff_caught_T_new[currentTrial]-1.25, ff_caught_T_new[currentTrial]]\n",
    "\n",
    "\n",
    "    plot_polar.PlotPolar(duration,\n",
    "              monkey_information,\n",
    "              ff_dataframe, \n",
    "              ff_life_sorted,\n",
    "              ff_real_position_sorted,\n",
    "              ff_caught_T_new,\n",
    "              ff_flash_sorted,\n",
    "              rmax = 100,\n",
    "              currentTrial = currentTrial,\n",
    "              num_trials = num_trials,\n",
    "              show_visible_ff = True,\n",
    "              show_visible_target = True,\n",
    "              show_ff_in_memory = True,\n",
    "              show_target_in_memory = True,\n",
    "              show_alive_ff = True\n",
    "                )"
   ]
  },
  {
   "attachments": {},
   "cell_type": "markdown",
   "id": "ZLNksPtjduik",
   "metadata": {
    "id": "ZLNksPtjduik"
   },
   "source": [
    "## Animation"
   ]
  },
  {
   "cell_type": "code",
   "execution_count": null,
   "id": "79OZSKw1duBP",
   "metadata": {
    "id": "79OZSKw1duBP"
   },
   "outputs": [],
   "source": [
    "currentTrial = 10\n",
    "num_trials = 2\n",
    "filename = f\"Trials {currentTrial-num_trials+1}-{currentTrial}\"\n",
    "print(filename)\n",
    "k = 4\n",
    "rmax = 100\n",
    "colors_Reds = plt.get_cmap(\"Reds\")(np.linspace(0,1,101))\n",
    "colors_YlGn = plt.get_cmap(\"YlGn\")(np.linspace(0,1,101))\n",
    "cum_pos_index = np.where((monkey_information['time'] > ff_caught_T_new[currentTrial-num_trials]) & \n",
    "                       (monkey_information['time'] <= ff_caught_T_new[currentTrial]))\n",
    "\n",
    "if len(cum_pos_index) > 0:\n",
    "    fig = plt.figure(figsize=(7,7))\n",
    "    ax = fig.add_axes([0.1, 0.1, 0.8, 0.8], polar=True)\n",
    "    ax = plot_behaviors_utils.set_polar_background_for_animation(ax, rmax)\n",
    "\n",
    "    ff_in_time_frame, ff_visible, ff_in_memory = animation_func.subset_ff_dataframe(ff_dataframe, currentTrial, num_trials)\n",
    "    anim_indices = cum_pos_index[0][0:-1:k]\n",
    "    num_frames = anim_indices.size\n",
    "    animate_func = partial(animation_func.animate_polar, ax=ax, anim_indices=anim_indices, rmax=400, ff_in_time_frame=ff_in_time_frame, ff_visible=ff_visible, ff_in_memory=ff_in_memory)\n",
    "    anim = animation.FuncAnimation(fig, animate_func, frames=num_frames, interval=int(250*k), repeat=True) \n",
    "\n",
    "    #gif_dir = '/content/gdrive/My Drive/fireflies_anim/???'\n",
    "    #anim.save(f\"{gif_dir}/{filename}.gif\", writer='pillow', fps=60)\n",
    "else:\n",
    "    print(\"Please try another number for currentTrial, or increase num_trials.\")\n",
    "\n",
    "HTML(anim.to_html5_video())"
   ]
  },
  {
   "attachments": {},
   "cell_type": "markdown",
   "id": "r6j1e2uxq5OG",
   "metadata": {
    "id": "r6j1e2uxq5OG"
   },
   "source": [
    "# Test agent"
   ]
  },
  {
   "cell_type": "code",
   "execution_count": null,
   "id": "k9-tdbAHq5_U",
   "metadata": {
    "id": "k9-tdbAHq5_U"
   },
   "outputs": [],
   "source": [
    "obs, _ = env.reset()\n",
    "cum_rewards = 0\n",
    "for step in range(1000):\n",
    "    action, _ = sac_model.predict(obs, deterministic=True)\n",
    "    obs, reward, done, _, info = env.step(action)\n",
    "    cum_rewards += reward\n",
    "    if done:\n",
    "        obs, _ = env.reset()\n",
    "    # print(step, ffxy_visible[-1])\n",
    "print(cum_rewards)"
   ]
  },
  {
   "attachments": {},
   "cell_type": "markdown",
   "id": "1Inbx37xwycW",
   "metadata": {
    "id": "1Inbx37xwycW"
   },
   "source": [
    "# Hyperparameter tuning"
   ]
  },
  {
   "attachments": {},
   "cell_type": "markdown",
   "id": "hfHYXONdz7qJ",
   "metadata": {
    "id": "hfHYXONdz7qJ"
   },
   "source": [
    "## parameters to sample from"
   ]
  },
  {
   "cell_type": "code",
   "execution_count": null,
   "id": "xhBysB7hz_F8",
   "metadata": {
    "id": "xhBysB7hz_F8"
   },
   "outputs": [],
   "source": [
    "def sample_sac_params(trial):\n",
    "    \"\"\"\n",
    "    Sampler for SAC hyperparams.\n",
    "\n",
    "\n",
    "    Parameters\n",
    "    ----------\n",
    "    trial: (optuna.trial)\n",
    "\n",
    "    Return: (dict)\n",
    "    \"\"\"\n",
    "\n",
    "\n",
    "    gamma = 1.0 - trial.suggest_float(\"gamma\", 0.0001, 0.1, log=True)\n",
    "    learning_rate = trial.suggest_float(\"lr\", 1e-5, 1, log=True)\n",
    "    tau = trial.suggest_float(\"tau\", 1e-6, 1, log=True)\n",
    "    #batch_size = trial.suggest_categorical('batch_size', [16, 32, 64, 128, 256, 512, 1024])\n",
    "    target_update_interval = trial.suggest_categorical('target_update_interval', [5, 10, 20, 40, 60, 100, 200])\n",
    "    #buffer_size = trial.suggest_categorical('buffer_size', [int(1e5), int(1e6)]) # This actually doesn't matter much here because of limited timesteps\n",
    "    learning_starts = trial.suggest_categorical('learning_starts', [5000, 10000, 15000])\n",
    "    train_freq = trial.suggest_categorical('train_freq', [1, 10, 100, 300])\n",
    "    ## gradient_steps takes too much time\n",
    "    # gradient_steps = trial.suggest_categorical('gradient_steps', [1, 100, 300])\n",
    "    gradient_steps = train_freq\n",
    "    ent_coef = trial.suggest_float(\"ent_coef\", 0.00000001, 0.1, log=True)\n",
    "    net_arch = trial.suggest_categorical('net_arch', [\"small\", \"medium\", \"big\"])\n",
    "    activation_fn = trial.suggest_categorical(\"activation_fn\", [\"tanh\"])\n",
    "\n",
    "    net_arch = {\n",
    "        'small': [100, 100],\n",
    "        'medium': [128, 128],\n",
    "        'big': [200, 200],\n",
    "    }[net_arch]\n",
    "\n",
    "    activation_fn = {\"tanh\": nn.Tanh, \"relu\": nn.ReLU}[activation_fn]\n",
    "\n",
    "    target_entropy = 'auto'\n",
    "    if ent_coef == 'auto':\n",
    "        target_entropy = trial.suggest_categorical('target_entropy', ['auto', -1, -10, -20, -50, -100])\n",
    "\n",
    "\n",
    "    ## Display true values\n",
    "    # trial.set_user_attr(\"gamma_\", gamma)\n",
    "    # trial.set_user_attr(\"n_steps\", n_steps)\n",
    "\n",
    "\n",
    "    return {\n",
    "        'gamma': gamma,\n",
    "        'learning_rate': learning_rate,\n",
    "        'tau': tau,\n",
    "        #'batch_size': batch_size,\n",
    "        'target_update_interval': target_update_interval,\n",
    "        #'buffer_size': buffer_size,\n",
    "        'learning_starts': learning_starts,\n",
    "        'train_freq': train_freq,\n",
    "        'gradient_steps': gradient_steps,\n",
    "        'ent_coef': ent_coef,\n",
    "        'target_entropy': target_entropy,\n",
    "        'policy_kwargs': {\n",
    "            \"net_arch\": net_arch,\n",
    "            \"activation_fn\": activation_fn\n",
    "        }\n",
    "    }"
   ]
  },
  {
   "attachments": {},
   "cell_type": "markdown",
   "id": "iV2OVSz10Bve",
   "metadata": {
    "id": "iV2OVSz10Bve"
   },
   "source": [
    "## objective"
   ]
  },
  {
   "cell_type": "code",
   "execution_count": null,
   "id": "-3YZk9SVxCWh",
   "metadata": {
    "id": "-3YZk9SVxCWh"
   },
   "outputs": [],
   "source": [
    "def objective(trial: optuna.Trial) -> float:\n",
    "    kwargs = DEFAULT_HYPERPARAMS.copy()\n",
    "    # Sample hyperparameters\n",
    "    kwargs.update(sample_sac_params(trial))\n",
    "    # Create the RL model\n",
    "    model = SAC(**kwargs)\n",
    "    # Create env used for evaluation\n",
    "    eval_env = env\n",
    "    # Create the callback that will periodically evaluate\n",
    "    # and report the performance\n",
    "    eval_callback = sb3_utils.TrialEvalCallback(\n",
    "      eval_env, trial, n_eval_episodes=N_EVAL_EPISODES, eval_freq=eval_freq, deterministic=True\n",
    "    )\n",
    "\n",
    "    nan_encountered = False\n",
    "    try:\n",
    "      model.learn(N_TIMESTEPS, callback=eval_callback)\n",
    "    except AssertionError as e:\n",
    "      # Sometimes, random hyperparams can generate NaN\n",
    "      print(e)\n",
    "      nan_encountered = True\n",
    "    finally:\n",
    "      # Free memory\n",
    "      model.env.close()\n",
    "      eval_env.close()\n",
    "\n",
    "    # Tell the optimizer that the trial failed\n",
    "    if nan_encountered:\n",
    "      return float(\"nan\")\n",
    "\n",
    "    if eval_callback.is_pruned:\n",
    "      raise optuna.exceptions.TrialPruned()\n",
    "\n",
    "    return eval_callback.last_mean_reward"
   ]
  },
  {
   "attachments": {},
   "cell_type": "markdown",
   "id": "UVyTUNFzHtLP",
   "metadata": {
    "id": "UVyTUNFzHtLP"
   },
   "source": [
    "## run"
   ]
  },
  {
   "cell_type": "code",
   "execution_count": null,
   "id": "Dhl9rpZPH0w6",
   "metadata": {
    "id": "Dhl9rpZPH0w6"
   },
   "outputs": [],
   "source": [
    "env = env_for_sb3.EnvForSB3()\n",
    "env.reset()\n",
    "\n",
    "\n",
    "\n",
    "DEFAULT_HYPERPARAMS = {\n",
    "    \"policy\": \"MlpPolicy\",\n",
    "    \"env\": env,\n",
    "}\n",
    "\n",
    "N_TRIALS = 100\n",
    "N_STARTUP_TRIALS = 5\n",
    "N_EVALUATIONS = 2\n",
    "\n",
    "\n",
    "N_TIMESTEPS = 100000\n",
    "eval_freq = int(N_TIMESTEPS / N_EVALUATIONS)\n",
    "N_EVAL_EPISODES = 1\n",
    "\n",
    "\n",
    "\n",
    "# Set pytorch num threads to 1 for faster training\n",
    "torch.set_num_threads(1)\n",
    "\n",
    "sampler = TPESampler(n_startup_trials=N_STARTUP_TRIALS)\n",
    "# Do not prune before 1/3 of the max budget is used\n",
    "pruner = MedianPruner(n_startup_trials=N_STARTUP_TRIALS, n_warmup_steps=N_EVALUATIONS//3)\n",
    "\n",
    "study = optuna.create_study(sampler=sampler, pruner=pruner, direction=\"maximize\")\n",
    "try:\n",
    "    study.optimize(objective, n_trials=N_TRIALS)\n",
    "except KeyboardInterrupt:\n",
    "    pass\n",
    "\n",
    "print(\"Number of finished trials: \", len(study.trials))\n",
    "\n",
    "print(\"Best trial:\")\n",
    "trial = study.best_trial\n",
    "\n",
    "print(\"  Value: \", trial.value)\n",
    "\n",
    "print(\"  Params: \")\n",
    "for key, value in trial.params.items():\n",
    "    print(\"    {}: {}\".format(key, value))\n",
    "\n",
    "print(\"  User attrs:\")\n",
    "for key, value in trial.user_attrs.items():\n",
    "    print(\"    {}: {}\".format(key, value))\n"
   ]
  },
  {
   "attachments": {},
   "cell_type": "markdown",
   "id": "Pj9Wo6ylF0MI",
   "metadata": {
    "id": "Pj9Wo6ylF0MI"
   },
   "source": [
    "# Debug"
   ]
  },
  {
   "cell_type": "code",
   "execution_count": null,
   "id": "HQmdse_eWe-F",
   "metadata": {
    "id": "HQmdse_eWe-F"
   },
   "outputs": [],
   "source": [
    "!pip install -Uqq ipdb\n",
    "import ipdb"
   ]
  },
  {
   "cell_type": "code",
   "execution_count": null,
   "id": "hkdgF8xfWgS-",
   "metadata": {
    "id": "hkdgF8xfWgS-"
   },
   "outputs": [],
   "source": [
    "%pdb on"
   ]
  },
  {
   "cell_type": "code",
   "execution_count": null,
   "id": "4c3743ef",
   "metadata": {},
   "outputs": [],
   "source": [
    "\n",
    "category_item.clean_out_cross_boundary_trials()\n",
    "category_item.clean_out_trials_where_target_cluster_was_not_seen_for_a_long_time_before_capture()\n",
    "category_item.make_polar_plot_of_target_last_seen_positions()\n",
    "category_item.make_histograms_of_target_last_seen_attributes()\n",
    "category_item.make_histogram_of_distances_from_previous_targets()\n",
    "category_item.make_polar_plot_of_positions_from_previous_targets()\n",
    "category_item.plot_trajectories(trials=category_item.sort_1_trials[17:18])\n",
    "category_item.plot_distributions_of_visible_ff_and_in_memory_ff()\n",
    "#category_item.make_and_visualize_free_selection_predictions_using_trained_model(trained_model = gnb)\n",
    "# category_item.inspect_special_cases(weird_trials=[98, 180, 212, 649])"
   ]
  }
 ],
 "metadata": {
  "accelerator": "GPU",
  "colab": {
   "machine_shape": "hm",
   "provenance": [
    {
     "file_id": "1GN5Y_MBqDlaM8t8KZqZZKeERvOau11W_",
     "timestamp": 1681009447473
    }
   ]
  },
  "gpuClass": "standard",
  "kernelspec": {
   "display_name": "multiff_clean",
   "language": "python",
   "name": "python3"
  },
  "language_info": {
   "codemirror_mode": {
    "name": "ipython",
    "version": 3
   },
   "file_extension": ".py",
   "mimetype": "text/x-python",
   "name": "python",
   "nbconvert_exporter": "python",
   "pygments_lexer": "ipython3",
   "version": "3.11.11"
  },
  "toc": {
   "base_numbering": 1,
   "nav_menu": {},
   "number_sections": true,
   "sideBar": true,
   "skip_h1_title": false,
   "title_cell": "Table of Contents",
   "title_sidebar": "Contents",
   "toc_cell": true,
   "toc_position": {},
   "toc_section_display": true,
   "toc_window_display": true
  }
 },
 "nbformat": 4,
 "nbformat_minor": 5
}
