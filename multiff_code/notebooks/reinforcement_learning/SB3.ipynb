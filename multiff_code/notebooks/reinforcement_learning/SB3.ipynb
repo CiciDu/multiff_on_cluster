{
 "cells": [
  {
   "cell_type": "code",
   "execution_count": 11,
   "id": "a76cf94f",
   "metadata": {},
   "outputs": [
    {
     "data": {
      "text/plain": [
       "'/home/cicid/miniconda3/envs/multiff_clean/bin/ffmpeg'"
      ]
     },
     "execution_count": 11,
     "metadata": {},
     "output_type": "execute_result"
    }
   ],
   "source": [
    "shutil.which(\"ffmpeg\")"
   ]
  },
  {
   "attachments": {},
   "cell_type": "markdown",
   "id": "1t_MmbnQxz3f",
   "metadata": {
    "id": "1t_MmbnQxz3f"
   },
   "source": [
    "## Install packages"
   ]
  },
  {
   "cell_type": "code",
   "execution_count": null,
   "id": "370f1462",
   "metadata": {},
   "outputs": [
    {
     "name": "stdout",
     "output_type": "stream",
     "text": [
      "Requirement already satisfied: neo in /opt/miniconda3/envs/multiff_clean/lib/python3.11/site-packages (0.14.2)\n",
      "Requirement already satisfied: packaging in /opt/miniconda3/envs/multiff_clean/lib/python3.11/site-packages (from neo) (25.0)\n",
      "Requirement already satisfied: numpy>=1.24.4 in /opt/miniconda3/envs/multiff_clean/lib/python3.11/site-packages (from neo) (1.26.4)\n",
      "Requirement already satisfied: quantities>=0.16.1 in /opt/miniconda3/envs/multiff_clean/lib/python3.11/site-packages (from neo) (0.16.2)\n",
      "Requirement already satisfied: matplotlib_scalebar in /opt/miniconda3/envs/multiff_clean/lib/python3.11/site-packages (0.9.0)\n",
      "Requirement already satisfied: matplotlib in /opt/miniconda3/envs/multiff_clean/lib/python3.11/site-packages (from matplotlib_scalebar) (3.10.5)\n",
      "Requirement already satisfied: contourpy>=1.0.1 in /opt/miniconda3/envs/multiff_clean/lib/python3.11/site-packages (from matplotlib->matplotlib_scalebar) (1.3.3)\n",
      "Requirement already satisfied: cycler>=0.10 in /opt/miniconda3/envs/multiff_clean/lib/python3.11/site-packages (from matplotlib->matplotlib_scalebar) (0.12.1)\n",
      "Requirement already satisfied: fonttools>=4.22.0 in /opt/miniconda3/envs/multiff_clean/lib/python3.11/site-packages (from matplotlib->matplotlib_scalebar) (4.59.0)\n",
      "Requirement already satisfied: kiwisolver>=1.3.1 in /opt/miniconda3/envs/multiff_clean/lib/python3.11/site-packages (from matplotlib->matplotlib_scalebar) (1.4.8)\n",
      "Requirement already satisfied: numpy>=1.23 in /opt/miniconda3/envs/multiff_clean/lib/python3.11/site-packages (from matplotlib->matplotlib_scalebar) (1.26.4)\n",
      "Requirement already satisfied: packaging>=20.0 in /opt/miniconda3/envs/multiff_clean/lib/python3.11/site-packages (from matplotlib->matplotlib_scalebar) (25.0)\n",
      "Requirement already satisfied: pillow>=8 in /opt/miniconda3/envs/multiff_clean/lib/python3.11/site-packages (from matplotlib->matplotlib_scalebar) (11.3.0)\n",
      "Requirement already satisfied: pyparsing>=2.3.1 in /opt/miniconda3/envs/multiff_clean/lib/python3.11/site-packages (from matplotlib->matplotlib_scalebar) (3.2.3)\n",
      "Requirement already satisfied: python-dateutil>=2.7 in /opt/miniconda3/envs/multiff_clean/lib/python3.11/site-packages (from matplotlib->matplotlib_scalebar) (2.9.0.post0)\n",
      "Requirement already satisfied: six>=1.5 in /opt/miniconda3/envs/multiff_clean/lib/python3.11/site-packages (from python-dateutil>=2.7->matplotlib->matplotlib_scalebar) (1.17.0)\n",
      "Collecting ffmpeg\n",
      "  Using cached ffmpeg-1.4-py3-none-any.whl\n",
      "Installing collected packages: ffmpeg\n",
      "Successfully installed ffmpeg-1.4\n",
      "Requirement already satisfied: wheel==0.38.4 in /opt/miniconda3/envs/multiff_clean/lib/python3.11/site-packages (0.38.4)\n",
      "Collecting setuptools==65.5.0\n",
      "  Using cached setuptools-65.5.0-py3-none-any.whl.metadata (6.3 kB)\n",
      "Using cached setuptools-65.5.0-py3-none-any.whl (1.2 MB)\n",
      "Installing collected packages: setuptools\n",
      "  Attempting uninstall: setuptools\n",
      "    Found existing installation: setuptools 72.1.0\n",
      "    Uninstalling setuptools-72.1.0:\n",
      "      Successfully uninstalled setuptools-72.1.0\n",
      "Successfully installed setuptools-65.5.0\n",
      "Requirement already satisfied: stable_baselines3 in /opt/miniconda3/envs/multiff_clean/lib/python3.11/site-packages (2.7.0)\n",
      "Requirement already satisfied: gymnasium<1.3.0,>=0.29.1 in /opt/miniconda3/envs/multiff_clean/lib/python3.11/site-packages (from stable_baselines3) (1.2.0)\n",
      "Requirement already satisfied: numpy<3.0,>=1.20 in /opt/miniconda3/envs/multiff_clean/lib/python3.11/site-packages (from stable_baselines3) (1.26.4)\n",
      "Requirement already satisfied: torch<3.0,>=2.3 in /opt/miniconda3/envs/multiff_clean/lib/python3.11/site-packages (from stable_baselines3) (2.5.1)\n",
      "Requirement already satisfied: cloudpickle in /opt/miniconda3/envs/multiff_clean/lib/python3.11/site-packages (from stable_baselines3) (3.1.1)\n",
      "Requirement already satisfied: pandas in /opt/miniconda3/envs/multiff_clean/lib/python3.11/site-packages (from stable_baselines3) (2.3.2)\n",
      "Requirement already satisfied: matplotlib in /opt/miniconda3/envs/multiff_clean/lib/python3.11/site-packages (from stable_baselines3) (3.10.5)\n",
      "Requirement already satisfied: typing-extensions>=4.3.0 in /opt/miniconda3/envs/multiff_clean/lib/python3.11/site-packages (from gymnasium<1.3.0,>=0.29.1->stable_baselines3) (4.14.1)\n",
      "Requirement already satisfied: farama-notifications>=0.0.1 in /opt/miniconda3/envs/multiff_clean/lib/python3.11/site-packages (from gymnasium<1.3.0,>=0.29.1->stable_baselines3) (0.0.4)\n",
      "Requirement already satisfied: filelock in /opt/miniconda3/envs/multiff_clean/lib/python3.11/site-packages (from torch<3.0,>=2.3->stable_baselines3) (3.13.1)\n",
      "Requirement already satisfied: networkx in /opt/miniconda3/envs/multiff_clean/lib/python3.11/site-packages (from torch<3.0,>=2.3->stable_baselines3) (3.3)\n",
      "Requirement already satisfied: jinja2 in /opt/miniconda3/envs/multiff_clean/lib/python3.11/site-packages (from torch<3.0,>=2.3->stable_baselines3) (3.1.6)\n",
      "Requirement already satisfied: fsspec in /opt/miniconda3/envs/multiff_clean/lib/python3.11/site-packages (from torch<3.0,>=2.3->stable_baselines3) (2024.6.1)\n",
      "Requirement already satisfied: sympy==1.13.1 in /opt/miniconda3/envs/multiff_clean/lib/python3.11/site-packages (from torch<3.0,>=2.3->stable_baselines3) (1.13.1)\n",
      "Requirement already satisfied: mpmath<1.4,>=1.1.0 in /opt/miniconda3/envs/multiff_clean/lib/python3.11/site-packages (from sympy==1.13.1->torch<3.0,>=2.3->stable_baselines3) (1.3.0)\n",
      "Requirement already satisfied: MarkupSafe>=2.0 in /opt/miniconda3/envs/multiff_clean/lib/python3.11/site-packages (from jinja2->torch<3.0,>=2.3->stable_baselines3) (3.0.2)\n",
      "Requirement already satisfied: contourpy>=1.0.1 in /opt/miniconda3/envs/multiff_clean/lib/python3.11/site-packages (from matplotlib->stable_baselines3) (1.3.3)\n",
      "Requirement already satisfied: cycler>=0.10 in /opt/miniconda3/envs/multiff_clean/lib/python3.11/site-packages (from matplotlib->stable_baselines3) (0.12.1)\n",
      "Requirement already satisfied: fonttools>=4.22.0 in /opt/miniconda3/envs/multiff_clean/lib/python3.11/site-packages (from matplotlib->stable_baselines3) (4.59.0)\n",
      "Requirement already satisfied: kiwisolver>=1.3.1 in /opt/miniconda3/envs/multiff_clean/lib/python3.11/site-packages (from matplotlib->stable_baselines3) (1.4.8)\n",
      "Requirement already satisfied: packaging>=20.0 in /opt/miniconda3/envs/multiff_clean/lib/python3.11/site-packages (from matplotlib->stable_baselines3) (25.0)\n",
      "Requirement already satisfied: pillow>=8 in /opt/miniconda3/envs/multiff_clean/lib/python3.11/site-packages (from matplotlib->stable_baselines3) (11.3.0)\n",
      "Requirement already satisfied: pyparsing>=2.3.1 in /opt/miniconda3/envs/multiff_clean/lib/python3.11/site-packages (from matplotlib->stable_baselines3) (3.2.3)\n",
      "Requirement already satisfied: python-dateutil>=2.7 in /opt/miniconda3/envs/multiff_clean/lib/python3.11/site-packages (from matplotlib->stable_baselines3) (2.9.0.post0)\n",
      "Requirement already satisfied: six>=1.5 in /opt/miniconda3/envs/multiff_clean/lib/python3.11/site-packages (from python-dateutil>=2.7->matplotlib->stable_baselines3) (1.17.0)\n",
      "Requirement already satisfied: pytz>=2020.1 in /opt/miniconda3/envs/multiff_clean/lib/python3.11/site-packages (from pandas->stable_baselines3) (2025.2)\n",
      "Requirement already satisfied: tzdata>=2022.7 in /opt/miniconda3/envs/multiff_clean/lib/python3.11/site-packages (from pandas->stable_baselines3) (2025.2)\n",
      "Collecting optuna\n",
      "  Downloading optuna-4.5.0-py3-none-any.whl.metadata (17 kB)\n",
      "Collecting alembic>=1.5.0 (from optuna)\n",
      "  Downloading alembic-1.16.5-py3-none-any.whl.metadata (7.3 kB)\n",
      "Collecting colorlog (from optuna)\n",
      "  Downloading colorlog-6.9.0-py3-none-any.whl.metadata (10 kB)\n",
      "Requirement already satisfied: numpy in /opt/miniconda3/envs/multiff_clean/lib/python3.11/site-packages (from optuna) (1.26.4)\n",
      "Requirement already satisfied: packaging>=20.0 in /opt/miniconda3/envs/multiff_clean/lib/python3.11/site-packages (from optuna) (25.0)\n",
      "Collecting sqlalchemy>=1.4.2 (from optuna)\n",
      "  Downloading sqlalchemy-2.0.43-cp311-cp311-macosx_11_0_arm64.whl.metadata (9.6 kB)\n",
      "Requirement already satisfied: tqdm in /opt/miniconda3/envs/multiff_clean/lib/python3.11/site-packages (from optuna) (4.67.1)\n",
      "Requirement already satisfied: PyYAML in /opt/miniconda3/envs/multiff_clean/lib/python3.11/site-packages (from optuna) (6.0.2)\n",
      "Collecting Mako (from alembic>=1.5.0->optuna)\n",
      "  Downloading mako-1.3.10-py3-none-any.whl.metadata (2.9 kB)\n",
      "Requirement already satisfied: typing-extensions>=4.12 in /opt/miniconda3/envs/multiff_clean/lib/python3.11/site-packages (from alembic>=1.5.0->optuna) (4.14.1)\n",
      "Requirement already satisfied: MarkupSafe>=0.9.2 in /opt/miniconda3/envs/multiff_clean/lib/python3.11/site-packages (from Mako->alembic>=1.5.0->optuna) (3.0.2)\n",
      "Downloading optuna-4.5.0-py3-none-any.whl (400 kB)\n",
      "Downloading alembic-1.16.5-py3-none-any.whl (247 kB)\n",
      "Downloading sqlalchemy-2.0.43-cp311-cp311-macosx_11_0_arm64.whl (2.1 MB)\n",
      "\u001b[2K   \u001b[90m━━━━━━━━━━━━━━━━━━━━━━━━━━━━━━━━━━━━━━━━\u001b[0m \u001b[32m2.1/2.1 MB\u001b[0m \u001b[31m38.6 MB/s\u001b[0m eta \u001b[36m0:00:00\u001b[0m\n",
      "\u001b[?25hDownloading colorlog-6.9.0-py3-none-any.whl (11 kB)\n",
      "Downloading mako-1.3.10-py3-none-any.whl (78 kB)\n",
      "Installing collected packages: sqlalchemy, Mako, colorlog, alembic, optuna\n",
      "\u001b[2K   \u001b[90m━━━━━━━━━━━━━━━━━━━━━━━━━━━━━━━━━━━━━━━━\u001b[0m \u001b[32m5/5\u001b[0m [optuna]2m4/5\u001b[0m [optuna]]\n",
      "\u001b[1A\u001b[2KSuccessfully installed Mako-1.3.10 alembic-1.16.5 colorlog-6.9.0 optuna-4.5.0 sqlalchemy-2.0.43\n"
     ]
    }
   ],
   "source": [
    "# !pip install neo\n",
    "# !pip install matplotlib_scalebar\n",
    "# !pip install ffmpeg\n",
    "# !pip install wheel==0.38.4\n",
    "# !pip3 install setuptools==65.5.0\n",
    "# !pip install stable_baselines3\n",
    "# !pip install optuna"
   ]
  },
  {
   "attachments": {},
   "cell_type": "markdown",
   "id": "9904b001",
   "metadata": {
    "id": "9904b001"
   },
   "source": [
    "## import packages"
   ]
  },
  {
   "cell_type": "code",
   "execution_count": 2,
   "id": "78d7921b",
   "metadata": {
    "colab": {
     "base_uri": "https://localhost:8080/"
    },
    "executionInfo": {
     "elapsed": 32160,
     "status": "ok",
     "timestamp": 1684945803461,
     "user": {
      "displayName": "Cici Du",
      "userId": "17701548280142155870"
     },
     "user_tz": -480
    },
    "id": "78d7921b",
    "outputId": "68f69138-fbc7-40e8-db4e-f3bea17f3a31"
   },
   "outputs": [
    {
     "name": "stdout",
     "output_type": "stream",
     "text": [
      "The autoreload extension is already loaded. To reload it, use:\n",
      "  %reload_ext autoreload\n"
     ]
    }
   ],
   "source": [
    "%load_ext autoreload\n",
    "%autoreload 2\n",
    "from pathlib import Path\n",
    "import os, sys\n",
    "for p in [Path.cwd()] + list(Path.cwd().parents):\n",
    "    if p.name == 'Multifirefly-Project':\n",
    "        os.chdir(p)\n",
    "        sys.path.insert(0, str(p / 'multiff_analysis/multiff_code/methods'))\n",
    "        break\n",
    "\n",
    " \n",
    "\n",
    "from data_wrangling import specific_utils, process_monkey_information\n",
    "from pattern_discovery import pattern_by_trials, make_ff_dataframe, pattern_by_trials, organize_patterns_and_features\n",
    "from visualization.matplotlib_tools import plot_trials, plot_polar, additional_plots, plot_behaviors_utils, plot_statistics\n",
    "from visualization.animation import animation_func, animation_utils, animation_class\n",
    "from machine_learning.RL.env_related import env_for_lstm, env_utils, base_env, collect_agent_data, process_agent_data, env_for_sb3\n",
    "from machine_learning.RL.lstm import GRU_functions, LSTM_functions\n",
    "from machine_learning.RL.SB3 import interpret_neural_network, sb3_for_multiff_class, rl_for_multiff_utils, SB3_functions\n",
    "import os, sys\n",
    "import numpy as np\n",
    "import matplotlib.pyplot as plt\n",
    "import torch\n",
    "import torch.nn as nn\n",
    "import optuna\n",
    "import matplotlib\n",
    "import matplotlib.animation as animation\n",
    "from matplotlib import rc\n",
    "from stable_baselines3 import SAC\n",
    "from stable_baselines3.common.monitor import Monitor\n",
    "from stable_baselines3.common import results_plotter\n",
    "from stable_baselines3.common.results_plotter import plot_results\n",
    "from stable_baselines3.common.callbacks import StopTrainingOnNoModelImprovement\n",
    "from optuna.pruners import MedianPruner\n",
    "from optuna.samplers import TPESampler\n",
    "from IPython.display import HTML\n",
    "from functools import partial\n",
    "from itertools import product\n",
    "import pandas as pd\n",
    "from os.path import exists\n",
    "import random\n",
    "from importlib import reload\n",
    "from stable_baselines3.common.callbacks import EvalCallback, StopTrainingOnNoModelImprovement, StopTrainingOnRewardThreshold\n",
    "import gc\n",
    "\n",
    "plt.rcParams[\"animation.html\"] = \"html5\"\n",
    "os.environ['KMP_DUPLICATE_LIB_OK']='True'\n",
    "rc('animation', html='jshtml')\n",
    "matplotlib.rcParams.update(matplotlib.rcParamsDefault)\n",
    "matplotlib.rcParams['animation.embed_limit'] = 2**128\n",
    "torch.set_printoptions(sci_mode=False)\n",
    "pd.set_option('display.float_format', lambda x: '%.5f' % x)\n",
    "np.set_printoptions(suppress=True)\n",
    "\n",
    "import os, shutil\n",
    "\n",
    "matplotlib.rcParams[\"animation.ffmpeg_path\"] = shutil.which(\"ffmpeg\")\n",
    "matplotlib.rcParams[\"animation.writer\"] = \"ffmpeg\""
   ]
  },
  {
   "cell_type": "code",
   "execution_count": null,
   "id": "749d36d9",
   "metadata": {},
   "outputs": [],
   "source": [
    "stop!"
   ]
  },
  {
   "attachments": {},
   "cell_type": "markdown",
   "id": "2b4cb6e9",
   "metadata": {
    "id": "2b4cb6e9"
   },
   "source": [
    "## basic parameters"
   ]
  },
  {
   "cell_type": "code",
   "execution_count": null,
   "id": "d64f61c2",
   "metadata": {
    "id": "d64f61c2"
   },
   "outputs": [],
   "source": [
    "overall_folder = \"RL_models/SB3_stored_models/all_agents/gen_5/\"\n",
    "os.makedirs(overall_folder, exist_ok=True)\n",
    "PLAYER = \"agent\"\n",
    "# NEW_DATASET = True\n",
    "# MONKEY_DATA = False\n",
    "# NO_PLOT_NEEDED = True\n",
    "# raw_data_folder_path = \"all_monkey_data/raw_monkey_data/monkey_Bruno/data_0219\"\n",
    "# data_folder_name = \"all_monkey_data/raw_monkey_data/monkey_Bruno/data_0219/processed_data\"\n",
    "#data_num = 19\n",
    "\n",
    "\n",
    "# # for agent\n",
    "# PLAYER = \"agent\"\n",
    "# NEW_DATASET = True\n",
    "# MONKEY_DATA = False\n",
    "# NO_PLOT_NEEDED = True\n",
    "# data_folder_name = \"env.multiff_analysis/RL_models/LSTM_July_29\"\n",
    "# data_num = 721\n",
    "# trial_total_num = 30"
   ]
  },
  {
   "cell_type": "markdown",
   "id": "76ac8034",
   "metadata": {},
   "source": [
    "# Streamline training agent"
   ]
  },
  {
   "cell_type": "markdown",
   "id": "88d2542d",
   "metadata": {},
   "source": [
    "## Train"
   ]
  },
  {
   "cell_type": "code",
   "execution_count": 8,
   "id": "e3eac088",
   "metadata": {},
   "outputs": [],
   "source": [
    "model_folder_name = \"RL_models/SB3_stored_models/all_agents/regular\""
   ]
  },
  {
   "cell_type": "code",
   "execution_count": null,
   "id": "74d7fc56",
   "metadata": {},
   "outputs": [],
   "source": [
    "# model_folder_name = \"RL_models/SB3_stored_models/all_agents/temp_10_11\""
   ]
  },
  {
   "cell_type": "code",
   "execution_count": null,
   "id": "928cab3c",
   "metadata": {},
   "outputs": [],
   "source": [
    "model_folder_name = \"RL_models/SB3_stored_models/all_agents/oct_12_6\"\n",
    "os.makedirs(model_folder_name, exist_ok=True)\n",
    "\n",
    "env_kwargs = {}\n",
    "env = env_for_sb3.EnvForSB3(**env_kwargs)\n",
    "env = Monitor(env, model_folder_name)\n",
    "\n",
    "# For direct training\n",
    "sac_model = SAC(\"MlpPolicy\", \n",
    "            env,\n",
    "            gamma=0.998,\n",
    "            learning_rate=0.0015,\n",
    "            batch_size=1024,\n",
    "            target_update_interval=50,\n",
    "            buffer_size=1000000,\n",
    "            learning_starts=10000,\n",
    "            train_freq=10,\n",
    "            ent_coef='auto',\n",
    "            policy_kwargs=dict(activation_fn=nn.Tanh, net_arch=[128, 128])\n",
    "            )\n",
    "\n",
    "\n",
    "callback = SB3_functions.SaveOnBestTrainingRewardCallback(check_freq=20000, model_folder_name=model_folder_name)\n",
    "#timesteps = 50000000\n",
    "timesteps = 200000\n",
    "sac_model.learn(total_timesteps=int(timesteps), callback=callback)\n",
    "plot_results([model_folder_name], timesteps, results_plotter.X_TIMESTEPS, \"env.MultiFF\")\n",
    "plt.show()"
   ]
  },
  {
   "cell_type": "markdown",
   "id": "56cf5546",
   "metadata": {},
   "source": [
    "## Use class"
   ]
  },
  {
   "cell_type": "code",
   "execution_count": 15,
   "id": "4efbb0f1",
   "metadata": {},
   "outputs": [
    {
     "name": "stdout",
     "output_type": "stream",
     "text": [
      "model_folder_name: RL_models/SB3_stored_models/all_agents/oct_13\n",
      "Made agent with the following params: {'learning_rate': 0.0003, 'batch_size': 1024, 'target_update_interval': 50, 'buffer_size': 1000000, 'learning_starts': 10000, 'train_freq': TrainFreq(frequency=10, unit=<TrainFrequencyUnit.STEP: 'step'>), 'gradient_steps': 10, 'ent_coef': 'auto', 'policy_kwargs': {'activation_fn': <class 'torch.nn.modules.activation.ReLU'>, 'net_arch': [256, 128], 'use_sde': False}, 'gamma': 0.998}\n",
      "There was an error retrieving agent or replay_buffer in RL_models/SB3_stored_models/all_agents/oct_13/best_model.zip. Error message [Errno 2] No such file or directory: 'RL_models/SB3_stored_models/all_agents/oct_13/best_model.zip.zip'\n",
      "Failed to load existing agent. Need to train a new agent. Error:  There was an error retrieving agent or replay_buffer in RL_models/SB3_stored_models/all_agents/oct_13/best_model.zip. Error message [Errno 2] No such file or directory: 'RL_models/SB3_stored_models/all_agents/oct_13/best_model.zip.zip'\n",
      "Loaded existing agent: RL_models/SB3_stored_models/all_agents/env1_relu/best_model_after_curriculum/best_model.zip\n",
      "Loaded existing replay buffer: RL_models/SB3_stored_models/all_agents/env1_relu/best_model_after_curriculum/buffer\n",
      "Params from agent after loading:\n",
      "{'learning_rate': 0.0003, 'batch_size': 1024, 'target_update_interval': 50, 'buffer_size': 1000000, 'learning_starts': 10000, 'train_freq': TrainFreq(frequency=10, unit=<TrainFrequencyUnit.STEP: 'step'>), 'gradient_steps': 10, 'ent_coef': 'auto', 'policy_kwargs': {'activation_fn': <class 'torch.nn.modules.activation.ReLU'>, 'net_arch': [256, 128], 'use_sde': False}, 'gamma': 0.998}\n",
      "Loaded best_model_after_curriculum\n",
      "Saving env params to RL_models/SB3_stored_models/all_agents/oct_13/env_params.txt\n",
      "TIME before resetting: 0\n",
      "current linear_terminal_vel:  0.01\n",
      "current angular_terminal_vel:  0.01\n",
      "current dt:  0.1\n",
      "current dv_cost_factor:  10\n",
      "current dw_cost_factor:  10\n",
      "current w_cost_factor:  3\n",
      "current distance2center_cost:  0\n",
      "current flash_on_interval:  0.3\n",
      "current num_obs_ff:  5\n",
      "current reward_boundary:  25\n",
      "current max_in_memory_time:  3\n"
     ]
    },
    {
     "ename": "KeyboardInterrupt",
     "evalue": "",
     "output_type": "error",
     "traceback": [
      "\u001b[31m---------------------------------------------------------------------------\u001b[39m",
      "\u001b[31mKeyboardInterrupt\u001b[39m                         Traceback (most recent call last)",
      "\u001b[36mCell\u001b[39m\u001b[36m \u001b[39m\u001b[32mIn[15]\u001b[39m\u001b[32m, line 4\u001b[39m\n\u001b[32m      1\u001b[39m model_folder_name = \u001b[33m\"\u001b[39m\u001b[33mRL_models/SB3_stored_models/all_agents/oct_13\u001b[39m\u001b[33m\"\u001b[39m\n\u001b[32m      2\u001b[39m RLforFF = sb3_for_multiff_class.SB3forMultifirefly(\n\u001b[32m      3\u001b[39m     model_folder_name=model_folder_name)\n\u001b[32m----> \u001b[39m\u001b[32m4\u001b[39m \u001b[43mRLforFF\u001b[49m\u001b[43m.\u001b[49m\u001b[43mstreamline_everything\u001b[49m\u001b[43m(\u001b[49m\u001b[43mcurrentTrial_for_animation\u001b[49m\u001b[43m \u001b[49m\u001b[43m=\u001b[49m\u001b[43m \u001b[49m\u001b[32;43m10\u001b[39;49m\u001b[43m,\u001b[49m\u001b[43m \u001b[49m\u001b[43mnum_trials_for_animation\u001b[49m\u001b[43m \u001b[49m\u001b[43m=\u001b[49m\u001b[43m \u001b[49m\u001b[32;43m5\u001b[39;49m\u001b[43m)\u001b[49m\n\u001b[32m      5\u001b[39m RLforFF.collect_data(exists_ok=\u001b[38;5;28;01mTrue\u001b[39;00m, save_data=\u001b[38;5;28;01mTrue\u001b[39;00m)\n",
      "\u001b[36mFile \u001b[39m\u001b[32m/user_data/cicid/Multifirefly-Project/multiff_analysis/multiff_code/methods/machine_learning/RL/SB3/rl_for_multiff_class.py:406\u001b[39m, in \u001b[36m_RLforMultifirefly.streamline_everything\u001b[39m\u001b[34m(self, currentTrial_for_animation, num_trials_for_animation, duration, n_steps, use_curriculum_training, load_replay_buffer_of_best_model_after_curriculum, best_model_after_curriculum_exists_ok, model_exists_ok, to_train_agent)\u001b[39m\n\u001b[32m    403\u001b[39m         to_train_agent = \u001b[38;5;28;01mTrue\u001b[39;00m\n\u001b[32m    405\u001b[39m \u001b[38;5;28;01mif\u001b[39;00m to_train_agent:\n\u001b[32m--> \u001b[39m\u001b[32m406\u001b[39m     \u001b[38;5;28;43mself\u001b[39;49m\u001b[43m.\u001b[49m\u001b[43mtrain_agent\u001b[49m\u001b[43m(\u001b[49m\u001b[43muse_curriculum_training\u001b[49m\u001b[43m=\u001b[49m\u001b[43muse_curriculum_training\u001b[49m\u001b[43m,\u001b[49m\u001b[43m \u001b[49m\u001b[43mbest_model_after_curriculum_exists_ok\u001b[49m\u001b[43m=\u001b[49m\u001b[43mbest_model_after_curriculum_exists_ok\u001b[49m\u001b[43m,\u001b[49m\n\u001b[32m    407\u001b[39m \u001b[43m                     \u001b[49m\u001b[43mload_replay_buffer_of_best_model_after_curriculum\u001b[49m\u001b[43m=\u001b[49m\u001b[43mload_replay_buffer_of_best_model_after_curriculum\u001b[49m\u001b[43m)\u001b[49m\n\u001b[32m    408\u001b[39m     \u001b[38;5;28;01mif\u001b[39;00m \u001b[38;5;129;01mnot\u001b[39;00m \u001b[38;5;28mself\u001b[39m.successful_training:\n\u001b[32m    409\u001b[39m         \u001b[38;5;28mprint\u001b[39m(\u001b[33m\"\u001b[39m\u001b[33mThe set of parameters has failed to produce a well-trained agent in the past. \u001b[39m\u001b[38;5;130;01m\\\u001b[39;00m\n\u001b[32m    410\u001b[39m \u001b[33m            Skip to the next set of parameters\u001b[39m\u001b[33m\"\u001b[39m)\n",
      "\u001b[36mFile \u001b[39m\u001b[32m/user_data/cicid/Multifirefly-Project/multiff_analysis/multiff_code/methods/machine_learning/RL/SB3/rl_for_multiff_class.py:438\u001b[39m, in \u001b[36m_RLforMultifirefly.train_agent\u001b[39m\u001b[34m(self, use_curriculum_training, best_model_after_curriculum_exists_ok, load_replay_buffer_of_best_model_after_curriculum, timesteps)\u001b[39m\n\u001b[32m    436\u001b[39m     \u001b[38;5;28mself\u001b[39m.regular_training(timesteps=timesteps)\n\u001b[32m    437\u001b[39m \u001b[38;5;28;01melse\u001b[39;00m:\n\u001b[32m--> \u001b[39m\u001b[32m438\u001b[39m     \u001b[38;5;28;43mself\u001b[39;49m\u001b[43m.\u001b[49m\u001b[43mcurriculum_training\u001b[49m\u001b[43m(\u001b[49m\u001b[43mbest_model_after_curriculum_exists_ok\u001b[49m\u001b[43m=\u001b[49m\u001b[43mbest_model_after_curriculum_exists_ok\u001b[49m\u001b[43m,\u001b[49m\n\u001b[32m    439\u001b[39m \u001b[43m                             \u001b[49m\u001b[43mload_replay_buffer_of_best_model_after_curriculum\u001b[49m\u001b[43m=\u001b[49m\u001b[43mload_replay_buffer_of_best_model_after_curriculum\u001b[49m\u001b[43m)\u001b[49m\n\u001b[32m    440\u001b[39m \u001b[38;5;28mself\u001b[39m.training_time = time_package.time()-\u001b[38;5;28mself\u001b[39m.training_start_time\n\u001b[32m    441\u001b[39m \u001b[38;5;28mprint\u001b[39m(\u001b[33m\"\u001b[39m\u001b[33mFinished training using\u001b[39m\u001b[33m\"\u001b[39m, \u001b[38;5;28mself\u001b[39m.training_time, \u001b[33m'\u001b[39m\u001b[33ms.\u001b[39m\u001b[33m'\u001b[39m)\n",
      "\u001b[36mFile \u001b[39m\u001b[32m/user_data/cicid/Multifirefly-Project/multiff_analysis/multiff_code/methods/machine_learning/RL/SB3/rl_for_multiff_class.py:134\u001b[39m, in \u001b[36m_RLforMultifirefly.curriculum_training\u001b[39m\u001b[34m(self, best_model_after_curriculum_exists_ok, load_replay_buffer_of_best_model_after_curriculum)\u001b[39m\n\u001b[32m    132\u001b[39m     \u001b[38;5;28mprint\u001b[39m(\u001b[33m'\u001b[39m\u001b[33mNeed to train a new best_model_after_curriculum\u001b[39m\u001b[33m'\u001b[39m)\n\u001b[32m    133\u001b[39m     \u001b[38;5;28mself\u001b[39m._progress_in_curriculum()\n\u001b[32m--> \u001b[39m\u001b[32m134\u001b[39m \u001b[38;5;28;43mself\u001b[39;49m\u001b[43m.\u001b[49m\u001b[43m_run_current_agent_after_curriculum_training\u001b[49m\u001b[43m(\u001b[49m\u001b[43m)\u001b[49m\n",
      "\u001b[36mFile \u001b[39m\u001b[32m/user_data/cicid/Multifirefly-Project/multiff_analysis/multiff_code/methods/machine_learning/RL/SB3/sb3_for_multiff_class.py:238\u001b[39m, in \u001b[36mSB3forMultifirefly._run_current_agent_after_curriculum_training\u001b[39m\u001b[34m(self)\u001b[39m\n\u001b[32m    236\u001b[39m \u001b[38;5;28;01mdef\u001b[39;00m\u001b[38;5;250m \u001b[39m\u001b[34m_run_current_agent_after_curriculum_training\u001b[39m(\u001b[38;5;28mself\u001b[39m):\n\u001b[32m    237\u001b[39m     timesteps = \u001b[32m2000000\u001b[39m\n\u001b[32m--> \u001b[39m\u001b[32m238\u001b[39m     \u001b[38;5;28;43mself\u001b[39;49m\u001b[43m.\u001b[49m\u001b[43mregular_training\u001b[49m\u001b[43m(\u001b[49m\u001b[43mtimesteps\u001b[49m\u001b[43m=\u001b[49m\u001b[43mtimesteps\u001b[49m\u001b[43m)\u001b[49m\n\u001b[32m    239\u001b[39m     \u001b[38;5;28mself\u001b[39m.successful_training = \u001b[38;5;28;01mTrue\u001b[39;00m\n",
      "\u001b[36mFile \u001b[39m\u001b[32m/user_data/cicid/Multifirefly-Project/multiff_analysis/multiff_code/methods/machine_learning/RL/SB3/sb3_for_multiff_class.py:107\u001b[39m, in \u001b[36mSB3forMultifirefly.regular_training\u001b[39m\u001b[34m(self, timesteps, best_model_save_path, env_params_to_save)\u001b[39m\n\u001b[32m    102\u001b[39m stop_train_callback = SB3_functions.StopTrainingOnNoModelImprovement(max_no_improvement_evals=\u001b[32m10\u001b[39m, min_evals=\u001b[32m15\u001b[39m, verbose=\u001b[32m1\u001b[39m, model_folder_name=\u001b[38;5;28mself\u001b[39m.model_folder_name,\n\u001b[32m    103\u001b[39m                                                                      overall_folder=\u001b[38;5;28mself\u001b[39m.overall_folder, agent_id=\u001b[38;5;28mself\u001b[39m.agent_id)\n\u001b[32m    104\u001b[39m \u001b[38;5;28mself\u001b[39m.callback = EvalCallback(\u001b[38;5;28mself\u001b[39m.env, eval_freq=\u001b[32m10000\u001b[39m, callback_after_eval=stop_train_callback, verbose=\u001b[32m1\u001b[39m,\n\u001b[32m    105\u001b[39m                              best_model_save_path=best_model_save_path, n_eval_episodes=\u001b[32m3\u001b[39m)\n\u001b[32m--> \u001b[39m\u001b[32m107\u001b[39m \u001b[38;5;28;43mself\u001b[39;49m\u001b[43m.\u001b[49m\u001b[43msac_model\u001b[49m\u001b[43m.\u001b[49m\u001b[43mlearn\u001b[49m\u001b[43m(\u001b[49m\u001b[43mtotal_timesteps\u001b[49m\u001b[43m=\u001b[49m\u001b[38;5;28;43mint\u001b[39;49m\u001b[43m(\u001b[49m\n\u001b[32m    108\u001b[39m \u001b[43m    \u001b[49m\u001b[43mtimesteps\u001b[49m\u001b[43m)\u001b[49m\u001b[43m,\u001b[49m\u001b[43m \u001b[49m\u001b[43mcallback\u001b[49m\u001b[43m=\u001b[49m\u001b[38;5;28;43mself\u001b[39;49m\u001b[43m.\u001b[49m\u001b[43mcallback\u001b[49m\u001b[43m)\u001b[49m\n",
      "\u001b[36mFile \u001b[39m\u001b[32m~/miniconda3/envs/multiff_clean/lib/python3.11/site-packages/stable_baselines3/sac/sac.py:313\u001b[39m, in \u001b[36mSAC.learn\u001b[39m\u001b[34m(self, total_timesteps, callback, log_interval, tb_log_name, reset_num_timesteps, progress_bar)\u001b[39m\n\u001b[32m    304\u001b[39m \u001b[38;5;28;01mdef\u001b[39;00m\u001b[38;5;250m \u001b[39m\u001b[34mlearn\u001b[39m(\n\u001b[32m    305\u001b[39m     \u001b[38;5;28mself\u001b[39m: SelfSAC,\n\u001b[32m    306\u001b[39m     total_timesteps: \u001b[38;5;28mint\u001b[39m,\n\u001b[32m   (...)\u001b[39m\u001b[32m    311\u001b[39m     progress_bar: \u001b[38;5;28mbool\u001b[39m = \u001b[38;5;28;01mFalse\u001b[39;00m,\n\u001b[32m    312\u001b[39m ) -> SelfSAC:\n\u001b[32m--> \u001b[39m\u001b[32m313\u001b[39m     \u001b[38;5;28;01mreturn\u001b[39;00m \u001b[38;5;28;43msuper\u001b[39;49m\u001b[43m(\u001b[49m\u001b[43m)\u001b[49m\u001b[43m.\u001b[49m\u001b[43mlearn\u001b[49m\u001b[43m(\u001b[49m\n\u001b[32m    314\u001b[39m \u001b[43m        \u001b[49m\u001b[43mtotal_timesteps\u001b[49m\u001b[43m=\u001b[49m\u001b[43mtotal_timesteps\u001b[49m\u001b[43m,\u001b[49m\n\u001b[32m    315\u001b[39m \u001b[43m        \u001b[49m\u001b[43mcallback\u001b[49m\u001b[43m=\u001b[49m\u001b[43mcallback\u001b[49m\u001b[43m,\u001b[49m\n\u001b[32m    316\u001b[39m \u001b[43m        \u001b[49m\u001b[43mlog_interval\u001b[49m\u001b[43m=\u001b[49m\u001b[43mlog_interval\u001b[49m\u001b[43m,\u001b[49m\n\u001b[32m    317\u001b[39m \u001b[43m        \u001b[49m\u001b[43mtb_log_name\u001b[49m\u001b[43m=\u001b[49m\u001b[43mtb_log_name\u001b[49m\u001b[43m,\u001b[49m\n\u001b[32m    318\u001b[39m \u001b[43m        \u001b[49m\u001b[43mreset_num_timesteps\u001b[49m\u001b[43m=\u001b[49m\u001b[43mreset_num_timesteps\u001b[49m\u001b[43m,\u001b[49m\n\u001b[32m    319\u001b[39m \u001b[43m        \u001b[49m\u001b[43mprogress_bar\u001b[49m\u001b[43m=\u001b[49m\u001b[43mprogress_bar\u001b[49m\u001b[43m,\u001b[49m\n\u001b[32m    320\u001b[39m \u001b[43m    \u001b[49m\u001b[43m)\u001b[49m\n",
      "\u001b[36mFile \u001b[39m\u001b[32m~/miniconda3/envs/multiff_clean/lib/python3.11/site-packages/stable_baselines3/common/off_policy_algorithm.py:335\u001b[39m, in \u001b[36mOffPolicyAlgorithm.learn\u001b[39m\u001b[34m(self, total_timesteps, callback, log_interval, tb_log_name, reset_num_timesteps, progress_bar)\u001b[39m\n\u001b[32m    332\u001b[39m \u001b[38;5;28;01massert\u001b[39;00m \u001b[38;5;28misinstance\u001b[39m(\u001b[38;5;28mself\u001b[39m.train_freq, TrainFreq)  \u001b[38;5;66;03m# check done in _setup_learn()\u001b[39;00m\n\u001b[32m    334\u001b[39m \u001b[38;5;28;01mwhile\u001b[39;00m \u001b[38;5;28mself\u001b[39m.num_timesteps < total_timesteps:\n\u001b[32m--> \u001b[39m\u001b[32m335\u001b[39m     rollout = \u001b[38;5;28;43mself\u001b[39;49m\u001b[43m.\u001b[49m\u001b[43mcollect_rollouts\u001b[49m\u001b[43m(\u001b[49m\n\u001b[32m    336\u001b[39m \u001b[43m        \u001b[49m\u001b[38;5;28;43mself\u001b[39;49m\u001b[43m.\u001b[49m\u001b[43menv\u001b[49m\u001b[43m,\u001b[49m\n\u001b[32m    337\u001b[39m \u001b[43m        \u001b[49m\u001b[43mtrain_freq\u001b[49m\u001b[43m=\u001b[49m\u001b[38;5;28;43mself\u001b[39;49m\u001b[43m.\u001b[49m\u001b[43mtrain_freq\u001b[49m\u001b[43m,\u001b[49m\n\u001b[32m    338\u001b[39m \u001b[43m        \u001b[49m\u001b[43maction_noise\u001b[49m\u001b[43m=\u001b[49m\u001b[38;5;28;43mself\u001b[39;49m\u001b[43m.\u001b[49m\u001b[43maction_noise\u001b[49m\u001b[43m,\u001b[49m\n\u001b[32m    339\u001b[39m \u001b[43m        \u001b[49m\u001b[43mcallback\u001b[49m\u001b[43m=\u001b[49m\u001b[43mcallback\u001b[49m\u001b[43m,\u001b[49m\n\u001b[32m    340\u001b[39m \u001b[43m        \u001b[49m\u001b[43mlearning_starts\u001b[49m\u001b[43m=\u001b[49m\u001b[38;5;28;43mself\u001b[39;49m\u001b[43m.\u001b[49m\u001b[43mlearning_starts\u001b[49m\u001b[43m,\u001b[49m\n\u001b[32m    341\u001b[39m \u001b[43m        \u001b[49m\u001b[43mreplay_buffer\u001b[49m\u001b[43m=\u001b[49m\u001b[38;5;28;43mself\u001b[39;49m\u001b[43m.\u001b[49m\u001b[43mreplay_buffer\u001b[49m\u001b[43m,\u001b[49m\n\u001b[32m    342\u001b[39m \u001b[43m        \u001b[49m\u001b[43mlog_interval\u001b[49m\u001b[43m=\u001b[49m\u001b[43mlog_interval\u001b[49m\u001b[43m,\u001b[49m\n\u001b[32m    343\u001b[39m \u001b[43m    \u001b[49m\u001b[43m)\u001b[49m\n\u001b[32m    345\u001b[39m     \u001b[38;5;28;01mif\u001b[39;00m \u001b[38;5;129;01mnot\u001b[39;00m rollout.continue_training:\n\u001b[32m    346\u001b[39m         \u001b[38;5;28;01mbreak\u001b[39;00m\n",
      "\u001b[36mFile \u001b[39m\u001b[32m~/miniconda3/envs/multiff_clean/lib/python3.11/site-packages/stable_baselines3/common/off_policy_algorithm.py:567\u001b[39m, in \u001b[36mOffPolicyAlgorithm.collect_rollouts\u001b[39m\u001b[34m(self, env, callback, train_freq, replay_buffer, action_noise, learning_starts, log_interval)\u001b[39m\n\u001b[32m    564\u001b[39m actions, buffer_actions = \u001b[38;5;28mself\u001b[39m._sample_action(learning_starts, action_noise, env.num_envs)\n\u001b[32m    566\u001b[39m \u001b[38;5;66;03m# Rescale and perform action\u001b[39;00m\n\u001b[32m--> \u001b[39m\u001b[32m567\u001b[39m new_obs, rewards, dones, infos = \u001b[43menv\u001b[49m\u001b[43m.\u001b[49m\u001b[43mstep\u001b[49m\u001b[43m(\u001b[49m\u001b[43mactions\u001b[49m\u001b[43m)\u001b[49m\n\u001b[32m    569\u001b[39m \u001b[38;5;28mself\u001b[39m.num_timesteps += env.num_envs\n\u001b[32m    570\u001b[39m num_collected_steps += \u001b[32m1\u001b[39m\n",
      "\u001b[36mFile \u001b[39m\u001b[32m~/miniconda3/envs/multiff_clean/lib/python3.11/site-packages/stable_baselines3/common/vec_env/base_vec_env.py:222\u001b[39m, in \u001b[36mVecEnv.step\u001b[39m\u001b[34m(self, actions)\u001b[39m\n\u001b[32m    215\u001b[39m \u001b[38;5;250m\u001b[39m\u001b[33;03m\"\"\"\u001b[39;00m\n\u001b[32m    216\u001b[39m \u001b[33;03mStep the environments with the given action\u001b[39;00m\n\u001b[32m    217\u001b[39m \n\u001b[32m    218\u001b[39m \u001b[33;03m:param actions: the action\u001b[39;00m\n\u001b[32m    219\u001b[39m \u001b[33;03m:return: observation, reward, done, information\u001b[39;00m\n\u001b[32m    220\u001b[39m \u001b[33;03m\"\"\"\u001b[39;00m\n\u001b[32m    221\u001b[39m \u001b[38;5;28mself\u001b[39m.step_async(actions)\n\u001b[32m--> \u001b[39m\u001b[32m222\u001b[39m \u001b[38;5;28;01mreturn\u001b[39;00m \u001b[38;5;28;43mself\u001b[39;49m\u001b[43m.\u001b[49m\u001b[43mstep_wait\u001b[49m\u001b[43m(\u001b[49m\u001b[43m)\u001b[49m\n",
      "\u001b[36mFile \u001b[39m\u001b[32m~/miniconda3/envs/multiff_clean/lib/python3.11/site-packages/stable_baselines3/common/vec_env/dummy_vec_env.py:59\u001b[39m, in \u001b[36mDummyVecEnv.step_wait\u001b[39m\u001b[34m(self)\u001b[39m\n\u001b[32m     56\u001b[39m \u001b[38;5;28;01mdef\u001b[39;00m\u001b[38;5;250m \u001b[39m\u001b[34mstep_wait\u001b[39m(\u001b[38;5;28mself\u001b[39m) -> VecEnvStepReturn:\n\u001b[32m     57\u001b[39m     \u001b[38;5;66;03m# Avoid circular imports\u001b[39;00m\n\u001b[32m     58\u001b[39m     \u001b[38;5;28;01mfor\u001b[39;00m env_idx \u001b[38;5;129;01min\u001b[39;00m \u001b[38;5;28mrange\u001b[39m(\u001b[38;5;28mself\u001b[39m.num_envs):\n\u001b[32m---> \u001b[39m\u001b[32m59\u001b[39m         obs, \u001b[38;5;28mself\u001b[39m.buf_rews[env_idx], terminated, truncated, \u001b[38;5;28mself\u001b[39m.buf_infos[env_idx] = \u001b[38;5;28;43mself\u001b[39;49m\u001b[43m.\u001b[49m\u001b[43menvs\u001b[49m\u001b[43m[\u001b[49m\u001b[43menv_idx\u001b[49m\u001b[43m]\u001b[49m\u001b[43m.\u001b[49m\u001b[43mstep\u001b[49m\u001b[43m(\u001b[49m\u001b[43m  \u001b[49m\u001b[38;5;66;43;03m# type: ignore[assignment]\u001b[39;49;00m\n\u001b[32m     60\u001b[39m \u001b[43m            \u001b[49m\u001b[38;5;28;43mself\u001b[39;49m\u001b[43m.\u001b[49m\u001b[43mactions\u001b[49m\u001b[43m[\u001b[49m\u001b[43menv_idx\u001b[49m\u001b[43m]\u001b[49m\n\u001b[32m     61\u001b[39m \u001b[43m        \u001b[49m\u001b[43m)\u001b[49m\n\u001b[32m     62\u001b[39m         \u001b[38;5;66;03m# convert to SB3 VecEnv api\u001b[39;00m\n\u001b[32m     63\u001b[39m         \u001b[38;5;28mself\u001b[39m.buf_dones[env_idx] = terminated \u001b[38;5;129;01mor\u001b[39;00m truncated\n",
      "\u001b[36mFile \u001b[39m\u001b[32m~/miniconda3/envs/multiff_clean/lib/python3.11/site-packages/stable_baselines3/common/monitor.py:94\u001b[39m, in \u001b[36mMonitor.step\u001b[39m\u001b[34m(self, action)\u001b[39m\n\u001b[32m     92\u001b[39m \u001b[38;5;28;01mif\u001b[39;00m \u001b[38;5;28mself\u001b[39m.needs_reset:\n\u001b[32m     93\u001b[39m     \u001b[38;5;28;01mraise\u001b[39;00m \u001b[38;5;167;01mRuntimeError\u001b[39;00m(\u001b[33m\"\u001b[39m\u001b[33mTried to step environment that needs reset\u001b[39m\u001b[33m\"\u001b[39m)\n\u001b[32m---> \u001b[39m\u001b[32m94\u001b[39m observation, reward, terminated, truncated, info = \u001b[38;5;28;43mself\u001b[39;49m\u001b[43m.\u001b[49m\u001b[43menv\u001b[49m\u001b[43m.\u001b[49m\u001b[43mstep\u001b[49m\u001b[43m(\u001b[49m\u001b[43maction\u001b[49m\u001b[43m)\u001b[49m\n\u001b[32m     95\u001b[39m \u001b[38;5;28mself\u001b[39m.rewards.append(\u001b[38;5;28mfloat\u001b[39m(reward))\n\u001b[32m     96\u001b[39m \u001b[38;5;28;01mif\u001b[39;00m terminated \u001b[38;5;129;01mor\u001b[39;00m truncated:\n",
      "\u001b[36mFile \u001b[39m\u001b[32m/user_data/cicid/Multifirefly-Project/multiff_analysis/multiff_code/methods/machine_learning/RL/env_related/base_env.py:356\u001b[39m, in \u001b[36mstep\u001b[39m\u001b[34m(self, action)\u001b[39m\n\u001b[32m    354\u001b[39m \u001b[38;5;66;03m# work on a copy and keep dtype consistent\u001b[39;00m\n\u001b[32m    355\u001b[39m action = np.asarray(action, dtype=np.float32).copy()\n\u001b[32m--> \u001b[39m\u001b[32m356\u001b[39m \u001b[38;5;28mself\u001b[39m.action = \u001b[38;5;28mself\u001b[39m._add_noise_to_action(action)\n\u001b[32m    358\u001b[39m \u001b[38;5;28mself\u001b[39m.time += \u001b[38;5;28mself\u001b[39m.dt\n\u001b[32m    359\u001b[39m \u001b[38;5;66;03m# update the position of the agent\u001b[39;00m\n",
      "\u001b[36mFile \u001b[39m\u001b[32m/user_data/cicid/Multifirefly-Project/multiff_analysis/multiff_code/methods/machine_learning/RL/env_related/base_env.py:443\u001b[39m, in \u001b[36mbeliefs\u001b[39m\u001b[34m(self)\u001b[39m\n\u001b[32m      0\u001b[39m <Error retrieving source code with stack_data see ipython/ipython#13598>\n",
      "\u001b[36mFile \u001b[39m\u001b[32m<string>:11\u001b[39m, in \u001b[36m_get_ff_array_for_belief_identity_slots\u001b[39m\u001b[34m(self)\u001b[39m\n",
      "\u001b[36mFile \u001b[39m\u001b[32m/user_data/cicid/Multifirefly-Project/multiff_analysis/multiff_code/methods/machine_learning/RL/env_related/base_env.py:866\u001b[39m, in \u001b[36m_apply_noise_to_ff_in_obs\u001b[39m\u001b[34m(self, alpha_first_mem)\u001b[39m\n\u001b[32m    864\u001b[39m \u001b[38;5;28;01mif\u001b[39;00m newly_invisible.size:\n\u001b[32m    865\u001b[39m     inv_mask[newly_invisible] = \u001b[38;5;28;01mFalse\u001b[39;00m\n\u001b[32m--> \u001b[39m\u001b[32m866\u001b[39m still_invisible = np.nonzero(inv_mask)[\u001b[32m0\u001b[39m].astype(np.int32)\n\u001b[32m    868\u001b[39m \u001b[38;5;66;03m# 1) Visible → perception noise (truth + obs noise)\u001b[39;00m\n\u001b[32m    869\u001b[39m \u001b[38;5;28;01mif\u001b[39;00m vis.size \u001b[38;5;129;01mand\u001b[39;00m \u001b[38;5;28mself\u001b[39m.obs_noise.perc_r > \u001b[32m0\u001b[39m \u001b[38;5;129;01mand\u001b[39;00m \u001b[38;5;28mself\u001b[39m.obs_noise.perc_th > \u001b[32m0\u001b[39m:\n",
      "\u001b[36mFile \u001b[39m\u001b[32m/user_data/cicid/Multifirefly-Project/multiff_analysis/multiff_code/methods/machine_learning/RL/env_related/base_env.py:898\u001b[39m, in \u001b[36m_apply_memory_noise_ego_weber_subset\u001b[39m\u001b[34m(self, idx, step_scale)\u001b[39m\n\u001b[32m    896\u001b[39m th_floor = \u001b[38;5;28mself\u001b[39m.obs_noise.theta_floor\n\u001b[32m    897\u001b[39m k_r = \u001b[38;5;28mself\u001b[39m.obs_noise.mem_r\n\u001b[32m--> \u001b[39m\u001b[32m898\u001b[39m k_th = \u001b[38;5;28mself\u001b[39m.obs_noise.mem_th\n\u001b[32m    900\u001b[39m r_i = r\n\u001b[32m    901\u001b[39m std_r = step_scale * (k_r * np.maximum(r_i, \u001b[32m0.0\u001b[39m))\n",
      "\u001b[31mKeyboardInterrupt\u001b[39m: "
     ]
    }
   ],
   "source": [
    "model_folder_name = \"RL_models/SB3_stored_models/all_agents/oct_13\"\n",
    "RLforFF = sb3_for_multiff_class.SB3forMultifirefly(\n",
    "    model_folder_name=model_folder_name)\n",
    "RLforFF.streamline_everything(currentTrial_for_animation = 10, num_trials_for_animation = 5)\n",
    "RLforFF.collect_data(exists_ok=True, save_data=True)"
   ]
  },
  {
   "cell_type": "code",
   "execution_count": 13,
   "id": "5088c150",
   "metadata": {},
   "outputs": [
    {
     "name": "stdout",
     "output_type": "stream",
     "text": [
      "Warning: failed to retrieve env params. Will use the env params passed in. Error message: [Errno 2] No such file or directory: 'RL_models/SB3_stored_models/all_agents/oct_13/env_params.txt'\n",
      "Collecting new agent data......\n",
      "Removed all files in the folder: RL_models/SB3_stored_models/all_collected_data/processed_data/oct_13/individual_data_sessions/data_0\n",
      "Cleaning contents of: RL_models/SB3_stored_models/all_collected_data/planning/oct_13/individual_data_sessions/data_0\n",
      "Cleaning contents of: RL_models/SB3_stored_models/all_collected_data/processed_data/oct_13/individual_data_sessions/data_0\n",
      "Cleaning contents of: RL_models/SB3_stored_models/all_collected_data/decision_making/oct_13/individual_data_sessions/data_0\n",
      "Cleaning contents of: RL_models/SB3_stored_models/all_collected_data/patterns_and_features/oct_13/individual_data_sessions/data_0\n",
      "TIME before resetting: 0\n",
      "current linear_terminal_vel:  0.01\n",
      "current angular_terminal_vel:  0.01\n",
      "current dt:  0.1\n",
      "current dv_cost_factor:  10\n",
      "current dw_cost_factor:  10\n",
      "current w_cost_factor:  3\n",
      "current distance2center_cost:  0\n",
      "current flash_on_interval:  0.3\n",
      "current num_obs_ff:  5\n",
      "current reward_boundary:  25\n",
      "current max_in_memory_time:  3\n",
      "14.6 action:  [0.0041, -0.9856] n_targets:  1 reward:  100\n",
      "16.4 action:  [-0.0005, -0.9832] n_targets:  1 reward:  100\n",
      "17.1 action:  [-0.0004, -0.992] n_targets:  1 reward:  100\n",
      "18.8 action:  [-0.0004, -0.986] n_targets:  1 reward:  100\n",
      "20.1 action:  [-0.0003, -0.9932] n_targets:  1 reward:  100\n",
      "21.9 action:  [-0.0, -0.9938] n_targets:  1 reward:  100\n",
      "23.5 action:  [0.0003, -0.9949] n_targets:  1 reward:  100\n",
      "26.0 action:  [0.0003, -0.9949] n_targets:  1 reward:  100\n",
      "27.2 action:  [-0.0002, -0.9921] n_targets:  1 reward:  100\n",
      "30.8 action:  [0.0, -0.9941] n_targets:  1 reward:  100\n",
      "32.3 action:  [0.0019, -0.9978] n_targets:  1 reward:  100\n",
      "33.0 action:  [0.0016, -0.9973] n_targets:  1 reward:  100\n",
      "34.2 action:  [-0.0005, -0.9922] n_targets:  1 reward:  100\n",
      "40.3 action:  [0.0008, -0.9961] n_targets:  1 reward:  100\n",
      "41.7 action:  [-0.0002, -0.9935] n_targets:  3 reward:  300\n",
      "42.4 action:  [0.0038, -0.9939] n_targets:  1 reward:  100\n",
      "43.1 action:  [-0.0007, -0.9938] n_targets:  1 reward:  100\n",
      "44.0 action:  [-0.0003, -0.9932] n_targets:  1 reward:  100\n",
      "45.6 action:  [0.0007, -0.9959] n_targets:  1 reward:  100\n",
      "47.6 action:  [0.0023, -0.991] n_targets:  1 reward:  100\n",
      "49.2 action:  [-0.0003, -0.9932] n_targets:  1 reward:  100\n",
      "55.7 action:  [-0.0081, -0.9822] n_targets:  1 reward:  100\n",
      "60.9 action:  [-0.0009, -0.9906] n_targets:  1 reward:  100\n",
      "62.9 action:  [0.0004, -0.9952] n_targets:  1 reward:  100\n",
      "64.0 action:  [-0.0003, -0.9932] n_targets:  1 reward:  100\n",
      "67.3 action:  [-0.0014, -0.9884] n_targets:  1 reward:  100\n",
      "70.6 action:  [0.0002, -0.9948] n_targets:  1 reward:  100\n",
      "72.0 action:  [-0.0006, -0.9919] n_targets:  1 reward:  100\n",
      "73.5 action:  [0.0007, -0.9958] n_targets:  1 reward:  100\n",
      "78.8 action:  [-0.0005, -0.9921] n_targets:  1 reward:  100\n",
      "81.1 action:  [-0.0001, -0.9938] n_targets:  2 reward:  200\n",
      "82.4 action:  [0.0003, -0.9949] n_targets:  1 reward:  100\n",
      "83.3 action:  [0.0009, -0.9963] n_targets:  1 reward:  100\n",
      "84.5 action:  [0.0004, -0.9951] n_targets:  1 reward:  100\n",
      "86.2 action:  [0.0002, -0.9947] n_targets:  1 reward:  100\n",
      "88.7 action:  [0.0002, -0.9946] n_targets:  1 reward:  100\n",
      "89.5 action:  [-0.0007, -0.9914] n_targets:  1 reward:  100\n",
      "93.0 action:  [-0.0097, -0.9828] n_targets:  1 reward:  100\n",
      "97.4 action:  [-0.0007, -0.9916] n_targets:  1 reward:  100\n",
      "98.2 action:  [-0.0005, -0.9908] n_targets:  1 reward:  100\n",
      "100.0 action:  [-0.0015, -0.9831] n_targets:  1 reward:  100\n",
      "2025-10-13 15:17:54,283 - INFO - Step: 1000 / 8000\n",
      "103.3 action:  [-0.0013, -0.9893] n_targets:  1 reward:  100\n",
      "108.0 action:  [0.0001, -0.9944] n_targets:  1 reward:  100\n",
      "110.4 action:  [0.0005, -0.9953] n_targets:  1 reward:  100\n",
      "111.5 action:  [0.0009, -0.9963] n_targets:  1 reward:  100\n",
      "114.1 action:  [0.0003, -0.9948] n_targets:  1 reward:  100\n",
      "115.5 action:  [0.0006, -0.9963] n_targets:  1 reward:  100\n",
      "127.9 action:  [-0.0001, -0.9897] n_targets:  1 reward:  100\n",
      "128.3 action:  [-0.0003, -0.9929] n_targets:  1 reward:  100\n",
      "129.5 action:  [0.0006, -0.9956] n_targets:  1 reward:  100\n",
      "136.6 action:  [-0.0, -0.9941] n_targets:  1 reward:  100\n",
      "142.8 action:  [-0.0003, -0.9931] n_targets:  1 reward:  100\n",
      "144.6 action:  [0.0001, -0.9943] n_targets:  1 reward:  100\n",
      "147.0 action:  [0.0005, -0.9955] n_targets:  1 reward:  100\n",
      "149.9 action:  [-0.0004, -0.9928] n_targets:  2 reward:  200\n",
      "151.9 action:  [0.0015, -0.9973] n_targets:  1 reward:  100\n",
      "153.6 action:  [0.0006, -0.9955] n_targets:  1 reward:  100\n",
      "155.9 action:  [0.0004, -0.9952] n_targets:  1 reward:  100\n",
      "157.0 action:  [0.0009, -0.9962] n_targets:  1 reward:  100\n",
      "160.7 action:  [0.0004, -0.9951] n_targets:  1 reward:  100\n",
      "161.5 action:  [0.0004, -0.9876] n_targets:  2 reward:  200\n",
      "162.5 action:  [-0.0002, -0.9933] n_targets:  1 reward:  100\n",
      "166.0 action:  [0.0004, -0.9953] n_targets:  1 reward:  100\n",
      "169.0 action:  [-0.0019, -0.9857] n_targets:  2 reward:  200\n",
      "171.5 action:  [0.0008, -0.9959] n_targets:  1 reward:  100\n",
      "173.2 action:  [-0.0002, -0.9936] n_targets:  1 reward:  100\n",
      "175.2 action:  [-0.0002, -0.9933] n_targets:  1 reward:  100\n",
      "176.7 action:  [0.0014, -0.997] n_targets:  1 reward:  100\n",
      "177.8 action:  [0.0001, -0.9945] n_targets:  1 reward:  100\n",
      "179.8 action:  [0.0002, -0.9946] n_targets:  1 reward:  100\n",
      "181.0 action:  [0.0015, -0.9972] n_targets:  1 reward:  100\n",
      "181.6 action:  [-0.002, -0.9833] n_targets:  1 reward:  100\n",
      "183.8 action:  [-0.0008, -0.9912] n_targets:  1 reward:  100\n",
      "186.2 action:  [-0.0007, -0.9913] n_targets:  1 reward:  100\n",
      "193.4 action:  [-0.0003, -0.9932] n_targets:  1 reward:  100\n",
      "194.4 action:  [0.0004, -0.9952] n_targets:  1 reward:  100\n",
      "197.3 action:  [0.0009, -0.9956] n_targets:  1 reward:  100\n",
      "199.5 action:  [0.0004, -0.9953] n_targets:  1 reward:  100\n",
      "2025-10-13 15:17:57,315 - INFO - Step: 2000 / 8000\n",
      "201.5 action:  [-0.0007, -0.9913] n_targets:  1 reward:  100\n",
      "204.1 action:  [-0.0009, -0.9906] n_targets:  2 reward:  200\n",
      "206.8 action:  [0.0009, -0.9882] n_targets:  1 reward:  100\n",
      "211.1 action:  [-0.0006, -0.9919] n_targets:  1 reward:  100\n",
      "212.8 action:  [0.0012, -0.9969] n_targets:  1 reward:  100\n",
      "214.6 action:  [-0.0005, -0.9923] n_targets:  1 reward:  100\n",
      "214.8 action:  [-0.0007, -0.9911] n_targets:  1 reward:  100\n",
      "216.0 action:  [-0.0007, -0.9914] n_targets:  1 reward:  100\n",
      "221.8 action:  [-0.0002, -0.9934] n_targets:  2 reward:  200\n",
      "222.7 action:  [0.0001, -0.9945] n_targets:  1 reward:  100\n",
      "224.3 action:  [0.0005, -0.9953] n_targets:  1 reward:  100\n",
      "225.2 action:  [0.0005, -0.9953] n_targets:  2 reward:  200\n",
      "232.4 action:  [-0.001, -0.9844] n_targets:  1 reward:  100\n",
      "235.9 action:  [-0.0004, -0.9928] n_targets:  1 reward:  100\n",
      "239.4 action:  [0.0005, -0.9953] n_targets:  1 reward:  100\n",
      "240.9 action:  [-0.0002, -0.9934] n_targets:  1 reward:  100\n",
      "244.2 action:  [-0.0013, -0.9903] n_targets:  1 reward:  100\n",
      "246.2 action:  [0.0053, -0.9963] n_targets:  1 reward:  100\n",
      "247.3 action:  [0.0005, -0.9953] n_targets:  1 reward:  100\n",
      "249.7 action:  [-0.0015, -0.9876] n_targets:  1 reward:  100\n",
      "252.4 action:  [-0.0035, -0.9818] n_targets:  1 reward:  100\n",
      "254.9 action:  [0.001, -0.995] n_targets:  1 reward:  100\n",
      "256.6 action:  [-0.0007, -0.9914] n_targets:  1 reward:  100\n",
      "257.8 action:  [-0.0004, -0.9929] n_targets:  1 reward:  100\n",
      "260.1 action:  [0.0007, -0.9959] n_targets:  1 reward:  100\n",
      "261.1 action:  [-0.0007, -0.9914] n_targets:  1 reward:  100\n",
      "263.0 action:  [0.0004, -0.9952] n_targets:  1 reward:  100\n",
      "264.2 action:  [0.0007, -0.996] n_targets:  1 reward:  100\n",
      "267.8 action:  [0.0, -0.9942] n_targets:  1 reward:  100\n",
      "268.6 action:  [-0.0, -0.9941] n_targets:  1 reward:  100\n",
      "269.5 action:  [-0.0007, -0.9917] n_targets:  1 reward:  100\n",
      "270.7 action:  [-0.0008, -0.9909] n_targets:  3 reward:  300\n",
      "271.5 action:  [0.0099, -0.9877] n_targets:  1 reward:  100\n",
      "274.1 action:  [-0.0017, -0.9836] n_targets:  1 reward:  100\n",
      "277.4 action:  [0.0006, -0.9957] n_targets:  1 reward:  100\n",
      "278.6 action:  [-0.0002, -0.9933] n_targets:  1 reward:  100\n",
      "279.8 action:  [-0.0001, -0.9919] n_targets:  1 reward:  100\n",
      "281.4 action:  [0.0012, -0.9968] n_targets:  1 reward:  100\n",
      "284.0 action:  [0.0009, -0.9963] n_targets:  1 reward:  100\n",
      "289.3 action:  [-0.0009, -0.9904] n_targets:  1 reward:  100\n",
      "292.3 action:  [0.0009, -0.9963] n_targets:  1 reward:  100\n",
      "296.3 action:  [-0.0049, -0.9865] n_targets:  1 reward:  100\n",
      "298.6 action:  [0.0007, -0.9959] n_targets:  1 reward:  100\n",
      "2025-10-13 15:18:00,427 - INFO - Step: 3000 / 8000\n",
      "300.2 action:  [-0.0011, -0.9898] n_targets:  1 reward:  100\n",
      "301.9 action:  [0.0004, -0.9952] n_targets:  1 reward:  100\n",
      "304.4 action:  [0.0006, -0.9955] n_targets:  1 reward:  100\n",
      "305.7 action:  [0.0017, -0.9975] n_targets:  1 reward:  100\n",
      "306.9 action:  [0.0001, -0.9943] n_targets:  1 reward:  100\n",
      "310.4 action:  [0.0007, -0.9959] n_targets:  1 reward:  100\n",
      "311.3 action:  [-0.0025, -0.9851] n_targets:  1 reward:  100\n",
      "312.7 action:  [-0.0005, -0.9925] n_targets:  1 reward:  100\n",
      "319.3 action:  [0.0011, -0.9911] n_targets:  1 reward:  100\n",
      "321.4 action:  [-0.0039, -0.9947] n_targets:  1 reward:  100\n",
      "325.8 action:  [0.0003, -0.9949] n_targets:  1 reward:  100\n",
      "327.3 action:  [0.0006, -0.9957] n_targets:  1 reward:  100\n",
      "329.2 action:  [-0.0012, -0.989] n_targets:  2 reward:  200\n",
      "331.5 action:  [0.0006, -0.9957] n_targets:  1 reward:  100\n",
      "332.3 action:  [0.0004, -0.9952] n_targets:  1 reward:  100\n",
      "334.9 action:  [0.0003, -0.9948] n_targets:  1 reward:  100\n",
      "336.5 action:  [-0.0009, -0.9906] n_targets:  1 reward:  100\n",
      "338.2 action:  [-0.0032, -0.9911] n_targets:  1 reward:  100\n",
      "344.5 action:  [-0.0002, -0.9934] n_targets:  1 reward:  100\n",
      "346.5 action:  [0.0002, -0.9942] n_targets:  2 reward:  200\n",
      "353.8 action:  [0.0021, -0.998] n_targets:  1 reward:  100\n",
      "356.3 action:  [-0.0007, -0.9916] n_targets:  1 reward:  100\n",
      "358.6 action:  [-0.0, -0.994] n_targets:  2 reward:  200\n",
      "360.0 action:  [0.0002, -0.9946] n_targets:  1 reward:  100\n",
      "360.4 action:  [-0.0001, -0.9936] n_targets:  1 reward:  100\n",
      "362.5 action:  [-0.0002, -0.9933] n_targets:  1 reward:  100\n",
      "366.7 action:  [0.0001, -0.9945] n_targets:  1 reward:  100\n",
      "367.7 action:  [0.0012, -0.9968] n_targets:  1 reward:  100\n",
      "369.3 action:  [0.0008, -0.996] n_targets:  2 reward:  200\n",
      "372.5 action:  [-0.0, -0.9939] n_targets:  1 reward:  100\n",
      "374.8 action:  [-0.002, -0.9921] n_targets:  1 reward:  100\n",
      "379.6 action:  [-0.0005, -0.9924] n_targets:  1 reward:  100\n",
      "382.2 action:  [-0.0036, -0.9947] n_targets:  1 reward:  100\n",
      "385.0 action:  [-0.0001, -0.9937] n_targets:  2 reward:  200\n",
      "387.5 action:  [0.0002, -0.9947] n_targets:  1 reward:  100\n",
      "388.1 action:  [0.0035, -0.9821] n_targets:  2 reward:  200\n",
      "389.9 action:  [-0.0008, -0.991] n_targets:  4 reward:  400\n",
      "391.9 action:  [0.0006, -0.9956] n_targets:  2 reward:  200\n",
      "393.7 action:  [-0.0002, -0.9933] n_targets:  2 reward:  200\n",
      "396.7 action:  [0.0012, -0.9967] n_targets:  2 reward:  200\n",
      "2025-10-13 15:18:03,520 - INFO - Step: 4000 / 8000\n",
      "402.7 action:  [-0.0001, -0.9936] n_targets:  1 reward:  100\n",
      "405.2 action:  [-0.0003, -0.9932] n_targets:  1 reward:  100\n",
      "407.7 action:  [-0.0032, -0.9806] n_targets:  1 reward:  100\n",
      "410.5 action:  [-0.0003, -0.9929] n_targets:  1 reward:  100\n",
      "413.4 action:  [0.0001, -0.9943] n_targets:  1 reward:  100\n",
      "415.8 action:  [-0.0004, -0.9926] n_targets:  1 reward:  100\n",
      "417.5 action:  [0.0006, -0.9956] n_targets:  1 reward:  100\n",
      "418.9 action:  [0.0007, -0.9958] n_targets:  1 reward:  100\n",
      "420.5 action:  [0.0008, -0.996] n_targets:  1 reward:  100\n",
      "422.8 action:  [-0.0001, -0.9938] n_targets:  1 reward:  100\n",
      "424.1 action:  [-0.0002, -0.9934] n_targets:  1 reward:  100\n",
      "426.3 action:  [-0.001, -0.9902] n_targets:  1 reward:  100\n",
      "428.9 action:  [0.0005, -0.9955] n_targets:  1 reward:  100\n",
      "430.6 action:  [-0.0003, -0.993] n_targets:  1 reward:  100\n",
      "431.9 action:  [0.0006, -0.9956] n_targets:  1 reward:  100\n",
      "435.1 action:  [0.0013, -0.997] n_targets:  2 reward:  200\n",
      "435.5 action:  [-0.0, -0.994] n_targets:  1 reward:  100\n",
      "439.1 action:  [-0.0003, -0.9929] n_targets:  1 reward:  100\n",
      "448.8 action:  [0.0003, -0.9949] n_targets:  1 reward:  100\n",
      "449.9 action:  [-0.0, -0.994] n_targets:  1 reward:  100\n",
      "450.7 action:  [-0.0009, -0.9907] n_targets:  1 reward:  100\n",
      "454.5 action:  [-0.0001, -0.9939] n_targets:  2 reward:  200\n",
      "456.4 action:  [-0.002, -0.9838] n_targets:  1 reward:  100\n",
      "458.7 action:  [0.0002, -0.9947] n_targets:  1 reward:  100\n",
      "461.5 action:  [0.0001, -0.9943] n_targets:  1 reward:  100\n",
      "463.2 action:  [-0.0007, -0.9857] n_targets:  2 reward:  200\n",
      "464.8 action:  [-0.0014, -0.9873] n_targets:  1 reward:  100\n",
      "467.4 action:  [-0.0011, -0.9892] n_targets:  1 reward:  100\n",
      "473.5 action:  [0.0006, -0.9955] n_targets:  1 reward:  100\n",
      "476.4 action:  [0.0008, -0.996] n_targets:  1 reward:  100\n",
      "478.6 action:  [-0.001, -0.9889] n_targets:  1 reward:  100\n",
      "481.4 action:  [-0.0002, -0.9933] n_targets:  1 reward:  100\n",
      "482.6 action:  [-0.0001, -0.9936] n_targets:  3 reward:  300\n",
      "483.5 action:  [0.0002, -0.9947] n_targets:  1 reward:  100\n",
      "485.2 action:  [0.0019, -0.993] n_targets:  1 reward:  100\n",
      "486.9 action:  [-0.0003, -0.9932] n_targets:  1 reward:  100\n",
      "488.6 action:  [-0.0001, -0.9937] n_targets:  1 reward:  100\n",
      "490.1 action:  [0.0007, -0.9959] n_targets:  2 reward:  200\n",
      "491.4 action:  [-0.0009, -0.9901] n_targets:  1 reward:  100\n",
      "493.3 action:  [-0.0, -0.994] n_targets:  1 reward:  100\n",
      "494.9 action:  [-0.001, -0.9917] n_targets:  1 reward:  100\n",
      "495.6 action:  [-0.0004, -0.9928] n_targets:  1 reward:  100\n",
      "497.9 action:  [-0.0068, -0.9903] n_targets:  1 reward:  100\n",
      "2025-10-13 15:18:06,695 - INFO - Step: 5000 / 8000\n",
      "503.5 action:  [0.0009, -0.9962] n_targets:  1 reward:  100\n",
      "504.3 action:  [0.0007, -0.9958] n_targets:  1 reward:  100\n",
      "506.5 action:  [0.0007, -0.9958] n_targets:  1 reward:  100\n",
      "513.9 action:  [-0.0096, -0.9929] n_targets:  1 reward:  100\n",
      "517.7 action:  [-0.001, -0.9898] n_targets:  1 reward:  100\n",
      "521.5 action:  [0.0007, -0.9959] n_targets:  1 reward:  100\n",
      "523.7 action:  [0.0002, -0.9947] n_targets:  2 reward:  200\n",
      "524.7 action:  [0.002, -0.9979] n_targets:  1 reward:  100\n",
      "527.0 action:  [0.0003, -0.9949] n_targets:  1 reward:  100\n",
      "528.5 action:  [0.0007, -0.9959] n_targets:  1 reward:  100\n",
      "539.5 action:  [0.0005, -0.9954] n_targets:  1 reward:  100\n",
      "541.0 action:  [-0.0047, -0.9803] n_targets:  1 reward:  100\n",
      "542.0 action:  [0.0001, -0.9944] n_targets:  1 reward:  100\n",
      "543.3 action:  [0.0005, -0.9953] n_targets:  1 reward:  100\n",
      "548.0 action:  [0.0, -0.9942] n_targets:  1 reward:  100\n",
      "549.6 action:  [-0.0015, -0.9874] n_targets:  1 reward:  100\n",
      "553.0 action:  [0.0006, -0.9956] n_targets:  1 reward:  100\n",
      "557.0 action:  [-0.0007, -0.9913] n_targets:  1 reward:  100\n",
      "563.6 action:  [0.0028, -0.9986] n_targets:  1 reward:  100\n",
      "567.0 action:  [0.0001, -0.9944] n_targets:  1 reward:  100\n",
      "568.8 action:  [0.0005, -0.9955] n_targets:  2 reward:  200\n",
      "569.7 action:  [0.0019, -0.9972] n_targets:  1 reward:  100\n",
      "577.1 action:  [0.0018, -0.9981] n_targets:  1 reward:  100\n",
      "578.6 action:  [0.0007, -0.9958] n_targets:  1 reward:  100\n",
      "581.9 action:  [0.0007, -0.9958] n_targets:  1 reward:  100\n",
      "583.7 action:  [-0.0002, -0.9935] n_targets:  1 reward:  100\n",
      "585.6 action:  [-0.0039, -0.9862] n_targets:  1 reward:  100\n",
      "587.8 action:  [-0.0008, -0.9909] n_targets:  3 reward:  300\n",
      "588.9 action:  [0.0, -0.9941] n_targets:  1 reward:  100\n",
      "590.5 action:  [0.0006, -0.9956] n_targets:  2 reward:  200\n",
      "592.1 action:  [-0.0004, -0.9927] n_targets:  1 reward:  100\n",
      "594.4 action:  [-0.0019, -0.9842] n_targets:  1 reward:  100\n",
      "596.1 action:  [0.0006, -0.9956] n_targets:  1 reward:  100\n",
      "596.9 action:  [0.0003, -0.9949] n_targets:  1 reward:  100\n",
      "598.8 action:  [0.0001, -0.9944] n_targets:  1 reward:  100\n",
      "599.9 action:  [0.0009, -0.9962] n_targets:  1 reward:  100\n",
      "2025-10-13 15:18:09,681 - INFO - Step: 6000 / 8000\n",
      "601.6 action:  [-0.0068, -0.9949] n_targets:  2 reward:  200\n",
      "604.8 action:  [-0.0011, -0.9898] n_targets:  1 reward:  100\n",
      "608.4 action:  [-0.0005, -0.9923] n_targets:  1 reward:  100\n",
      "609.2 action:  [-0.0006, -0.9921] n_targets:  1 reward:  100\n",
      "611.9 action:  [-0.0012, -0.989] n_targets:  1 reward:  100\n",
      "617.9 action:  [-0.0005, -0.9921] n_targets:  1 reward:  100\n",
      "622.6 action:  [-0.0001, -0.9937] n_targets:  1 reward:  100\n",
      "623.2 action:  [-0.0012, -0.9908] n_targets:  1 reward:  100\n",
      "626.1 action:  [-0.0001, -0.9939] n_targets:  1 reward:  100\n",
      "630.5 action:  [0.0002, -0.9947] n_targets:  1 reward:  100\n",
      "634.5 action:  [0.0003, -0.9949] n_targets:  1 reward:  100\n",
      "635.1 action:  [-0.0001, -0.9939] n_targets:  1 reward:  100\n",
      "636.5 action:  [-0.0001, -0.9937] n_targets:  1 reward:  100\n",
      "637.8 action:  [0.0014, -0.997] n_targets:  1 reward:  100\n",
      "639.5 action:  [0.0003, -0.995] n_targets:  1 reward:  100\n",
      "641.6 action:  [-0.0005, -0.996] n_targets:  1 reward:  100\n",
      "643.5 action:  [-0.0004, -0.9923] n_targets:  1 reward:  100\n",
      "647.5 action:  [-0.0002, -0.9934] n_targets:  1 reward:  100\n",
      "648.9 action:  [0.0002, -0.9947] n_targets:  1 reward:  100\n",
      "649.8 action:  [0.0003, -0.9949] n_targets:  1 reward:  100\n",
      "654.5 action:  [0.0011, -0.992] n_targets:  2 reward:  200\n",
      "656.4 action:  [0.0012, -0.9967] n_targets:  1 reward:  100\n",
      "657.1 action:  [0.001, -0.9964] n_targets:  1 reward:  100\n",
      "658.5 action:  [-0.0022, -0.982] n_targets:  3 reward:  300\n",
      "662.3 action:  [-0.0038, -0.9838] n_targets:  1 reward:  100\n",
      "664.0 action:  [-0.0015, -0.9857] n_targets:  1 reward:  100\n",
      "669.4 action:  [0.0006, -0.9957] n_targets:  1 reward:  100\n",
      "670.2 action:  [-0.0055, -0.9972] n_targets:  1 reward:  100\n",
      "677.0 action:  [-0.0003, -0.993] n_targets:  1 reward:  100\n",
      "680.7 action:  [-0.0021, -0.9884] n_targets:  1 reward:  100\n",
      "682.1 action:  [0.0012, -0.9968] n_targets:  1 reward:  100\n",
      "685.3 action:  [-0.0004, -0.9926] n_targets:  1 reward:  100\n",
      "686.5 action:  [0.0008, -0.9961] n_targets:  2 reward:  200\n",
      "688.6 action:  [-0.0007, -0.987] n_targets:  1 reward:  100\n",
      "689.6 action:  [0.0003, -0.9949] n_targets:  1 reward:  100\n",
      "690.6 action:  [0.0001, -0.9943] n_targets:  1 reward:  100\n",
      "692.0 action:  [0.0003, -0.9949] n_targets:  1 reward:  100\n",
      "696.7 action:  [0.0003, -0.9948] n_targets:  1 reward:  100\n",
      "699.2 action:  [0.0086, -0.9937] n_targets:  1 reward:  100\n",
      "2025-10-13 15:18:12,666 - INFO - Step: 7000 / 8000\n",
      "702.1 action:  [0.002, -0.9979] n_targets:  1 reward:  100\n",
      "706.2 action:  [0.0001, -0.9942] n_targets:  1 reward:  100\n",
      "707.6 action:  [0.0005, -0.9954] n_targets:  1 reward:  100\n",
      "709.5 action:  [-0.0032, -0.9803] n_targets:  1 reward:  100\n",
      "710.8 action:  [-0.0023, -0.9864] n_targets:  1 reward:  100\n",
      "713.5 action:  [-0.0002, -0.9936] n_targets:  1 reward:  100\n",
      "715.8 action:  [-0.0005, -0.9924] n_targets:  1 reward:  100\n",
      "718.4 action:  [0.0011, -0.9967] n_targets:  1 reward:  100\n",
      "719.8 action:  [-0.0008, -0.9913] n_targets:  1 reward:  100\n",
      "722.2 action:  [0.0007, -0.9958] n_targets:  1 reward:  100\n",
      "724.6 action:  [-0.0003, -0.9929] n_targets:  1 reward:  100\n",
      "727.9 action:  [0.0008, -0.996] n_targets:  1 reward:  100\n",
      "729.3 action:  [0.0002, -0.9945] n_targets:  1 reward:  100\n",
      "730.6 action:  [0.0001, -0.9944] n_targets:  1 reward:  100\n",
      "733.2 action:  [0.0014, -0.997] n_targets:  1 reward:  100\n",
      "739.4 action:  [0.0006, -0.9955] n_targets:  1 reward:  100\n",
      "740.7 action:  [0.0001, -0.9943] n_targets:  1 reward:  100\n",
      "742.9 action:  [0.0004, -0.9952] n_targets:  1 reward:  100\n",
      "744.2 action:  [-0.0006, -0.9888] n_targets:  1 reward:  100\n",
      "748.7 action:  [-0.0008, -0.991] n_targets:  1 reward:  100\n",
      "756.1 action:  [-0.0013, -0.9877] n_targets:  1 reward:  100\n",
      "758.1 action:  [-0.0016, -0.9893] n_targets:  1 reward:  100\n",
      "760.0 action:  [-0.0005, -0.9923] n_targets:  1 reward:  100\n",
      "763.9 action:  [-0.0015, -0.9872] n_targets:  1 reward:  100\n",
      "774.4 action:  [-0.0005, -0.9925] n_targets:  1 reward:  100\n",
      "776.3 action:  [-0.0001, -0.9939] n_targets:  1 reward:  100\n",
      "777.6 action:  [0.0007, -0.9959] n_targets:  1 reward:  100\n",
      "787.4 action:  [-0.0011, -0.9895] n_targets:  1 reward:  100\n",
      "789.8 action:  [0.0013, -0.997] n_targets:  1 reward:  100\n",
      "793.5 action:  [-0.0059, -0.981] n_targets:  1 reward:  100\n",
      "796.9 action:  [-0.0006, -0.992] n_targets:  1 reward:  100\n",
      "800.0 action:  [-0.0008, -0.9909] n_targets:  1 reward:  100\n",
      "2025-10-13 15:18:16,176 - INFO - Firefly capture rate: 0.3887\n",
      "saved monkey_information and ff info at RL_models/SB3_stored_models/all_collected_data/processed_data/oct_13/individual_data_sessions/data_0\n",
      "Warnings: currently, only ff in obs at each step are used in ff_dataframe. All ff are labeled 'visible' regardless of their actual time since last visible.\n",
      "made ff_dataframe\n",
      "saved ff_dataframe at RL_models/SB3_stored_models/all_collected_data/processed_data/oct_13/individual_data_sessions/data_0/ff_dataframe.csv\n"
     ]
    }
   ],
   "source": [
    "RLforFF.collect_data(exists_ok=False, save_data=True)"
   ]
  },
  {
   "cell_type": "code",
   "execution_count": null,
   "id": "e4ffc043",
   "metadata": {},
   "outputs": [],
   "source": [
    "RLforFF."
   ]
  },
  {
   "cell_type": "code",
   "execution_count": 14,
   "id": "e3778cee",
   "metadata": {},
   "outputs": [
    {
     "name": "stdout",
     "output_type": "stream",
     "text": [
      "Number of frames is: 49\n",
      "Number of frames for the animation is: 49\n",
      "Saving animation as: RL_models/SB3_stored_models/all_collected_data/processed_data/oct_13/individual_data_sessions/data_0/no_cost__13-19_rate_0.69.mp4\n",
      "2025-10-13 15:18:18,034 - INFO - Animation.save using <class 'matplotlib.animation.FFMpegWriter'>\n",
      "2025-10-13 15:18:18,035 - INFO - MovieWriter._run: running command: /home/cicid/miniconda3/envs/multiff_clean/bin/ffmpeg -f rawvideo -vcodec rawvideo -s 640x480 -pix_fmt rgba -framerate 10 -loglevel error -i pipe: -vcodec h264 -pix_fmt yuv420p -y RL_models/SB3_stored_models/all_collected_data/processed_data/oct_13/individual_data_sessions/data_0/no_cost__13-19_rate_0.69.mp4\n",
      "Animation is saved at: RL_models/SB3_stored_models/all_collected_data/processed_data/oct_13/individual_data_sessions/data_0/no_cost__13-19_rate_0.69.mp4\n",
      "Rendering animation ......\n"
     ]
    },
    {
     "data": {
      "text/html": [
       "<video controls  >\n",
       " <source src=\"data:video/mp4;base64,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\" type=\"video/mp4\">\n",
       " Your browser does not support the video tag.\n",
       " </video>"
      ],
      "text/plain": [
       "<IPython.core.display.Video object>"
      ]
     },
     "execution_count": 14,
     "metadata": {},
     "output_type": "execute_result"
    },
    {
     "data": {
      "image/png": "[encoded data removed]",
      "text/plain": [
       "<Figure size 640x480 with 1 Axes>"
      ]
     },
     "metadata": {},
     "output_type": "display_data"
    }
   ],
   "source": [
    "RLforFF.set_animation_parameters(duration=[40, 45],k=1)\n",
    "RLforFF.call_animation_function()\n",
    "\n",
    "from IPython.display import Video\n",
    "Video(RLforFF.video_path_name, embed=True)"
   ]
  },
  {
   "attachments": {},
   "cell_type": "markdown",
   "id": "b254917d",
   "metadata": {
    "id": "b254917d"
   },
   "source": [
    "# Streamline loading agent"
   ]
  },
  {
   "attachments": {},
   "cell_type": "markdown",
   "id": "bd105957",
   "metadata": {
    "id": "bd105957"
   },
   "source": [
    "## Make files for logging"
   ]
  },
  {
   "attachments": {},
   "cell_type": "markdown",
   "id": "e447c5f9",
   "metadata": {
    "id": "e447c5f9"
   },
   "source": [
    "(Only have to do once)"
   ]
  },
  {
   "cell_type": "code",
   "execution_count": null,
   "id": "nuE-aO1digZv",
   "metadata": {
    "id": "nuE-aO1digZv"
   },
   "outputs": [],
   "source": [
    "import os\n",
    "import pandas as pd\n",
    "\n",
    "def ensure_csv(folder: str, filename: str, columns: list[str]) -> None:\n",
    "    filepath = os.path.join(folder, filename)\n",
    "    if not os.path.exists(filepath):\n",
    "        pd.DataFrame(columns=columns).to_csv(filepath, index=False)\n",
    "\n",
    "common_cols = ['dv_cost_factor', 'dw_cost_factor', 'w_cost_factor',\n",
    "               'v_noise_std', 'w_noise_std', 'ffr_noise_scale', 'num_obs_ff', 'max_in_memory_time']\n",
    "\n",
    "ensure_csv(overall_folder, 'family_of_agents_log.csv',\n",
    "           common_cols + ['finished_training', 'year', 'month', 'date',\n",
    "                          'training_time', 'successful_training'])\n",
    "\n",
    "ensure_csv(overall_folder, 'parameters_record.csv',\n",
    "           common_cols + ['working'])\n",
    "\n",
    "ensure_csv(overall_folder, 'pattern_frequencies_record.csv',\n",
    "           common_cols + ['two_in_a_row', 'three_in_a_row', 'four_in_a_row', 'one_in_a_row',\n",
    "                          'multiple_in_a_row', 'multiple_in_a_row_all', 'visible_before_last_one',\n",
    "                          'disappear_latest', 'ignore_sudden_flash', 'try_a_few_times',\n",
    "                          'give_up_after_trying', 'cluster_around_target',\n",
    "                          'waste_cluster_around_target', 'ff_capture_rate', 'stop_success_rate'])\n",
    "\n",
    "feature_cols = common_cols + ['t', 't_last_vis', 'd_last_vis', 'abs_angle_last_vis',\n",
    "                              'hitting_arena_edge', 'num_stops', 'num_stops_since_last_vis',\n",
    "                              'num_stops_near_target', 'num_alive_ff_around_target', 'n_ff_in_a_row']\n",
    "\n",
    "ensure_csv(overall_folder, 'feature_means_record.csv', feature_cols)\n",
    "ensure_csv(overall_folder, 'feature_medians_record.csv', feature_cols)\n"
   ]
  },
  {
   "attachments": {},
   "cell_type": "markdown",
   "id": "0f22ab42",
   "metadata": {
    "id": "0f22ab42"
   },
   "source": [
    "Make daily backup"
   ]
  },
  {
   "cell_type": "code",
   "execution_count": null,
   "id": "d245d8ed",
   "metadata": {
    "id": "d245d8ed"
   },
   "outputs": [],
   "source": [
    "# back_up_path = overall_folder + 'family_of_agents_log_' + str(time_package.localtime().tm_mon) + '_' + str(time_package.localtime().tm_mday) + '.csv'\n",
    "# if not exists(back_up_path):\n",
    "#     family_of_agents_log = pd.read_csv(overall_folder + 'family_of_agents_log.csv').drop([\"Unnamed: 0\"], axis=1)\n",
    "#     family_of_agents_log.to_csv(back_up_path)\n",
    "#     print('A back up of family_of_agents_log is stored in', back_up_path)"
   ]
  },
  {
   "attachments": {},
   "cell_type": "markdown",
   "id": "1558f19f",
   "metadata": {
    "id": "1558f19f"
   },
   "source": [
    "## Get monkey data"
   ]
  },
  {
   "cell_type": "code",
   "execution_count": null,
   "id": "c86c2e1f",
   "metadata": {
    "colab": {
     "base_uri": "https://localhost:8080/"
    },
    "executionInfo": {
     "elapsed": 31188,
     "status": "ok",
     "timestamp": 1684945834636,
     "user": {
      "displayName": "Cici Du",
      "userId": "17701548280142155870"
     },
     "user_tz": -480
    },
    "id": "c86c2e1f",
    "outputId": "250ac96e-7813-4618-a219-2dab7c7e9556"
   },
   "outputs": [],
   "source": [
    "raw_data_folder_path = \"all_monkey_data/raw_monkey_data/monkey_Bruno/data_0220\"\n",
    "data_item = further_processing_class.FurtherProcessing(raw_data_folder_path=raw_data_folder_path)\n",
    "data_item.retrieve_or_make_monkey_data()\n",
    "data_item.make_or_retrieve_ff_dataframe(exists_ok=True)\n",
    "data_item.find_patterns()\n",
    "data_item.make_or_retrieve_all_trial_patterns(exists_ok=True)\n",
    "data_item.make_or_retrieve_pattern_frequencies(exists_ok=True)\n",
    "data_item.make_or_retrieve_all_trial_features(exists_ok=True)\n",
    "data_item.make_or_retrieve_feature_statistics(exists_ok=True)\n",
    "data_item.make_info_of_monkey()\n",
    "\n",
    "all_trial_patterns_m = data_item.all_trial_patterns\n",
    "pattern_frequencies_m = data_item.pattern_frequencies\n",
    "all_trial_features_m = data_item.all_trial_features\n",
    "feature_statistics_m = data_item.feature_statistics\n",
    "info_of_monkey = data_item.info_of_monkey"
   ]
  },
  {
   "cell_type": "markdown",
   "id": "f27fc48d",
   "metadata": {},
   "source": [
    "## Run the class"
   ]
  },
  {
   "cell_type": "code",
   "execution_count": null,
   "id": "2b2f4ccf",
   "metadata": {},
   "outputs": [],
   "source": [
    "overall_folder = 'RL_models/SB3_stored_models/all_agents/gen_0/'"
   ]
  },
  {
   "cell_type": "code",
   "execution_count": null,
   "id": "d49318ae",
   "metadata": {},
   "outputs": [],
   "source": [
    "RLforFF = sb3_for_multiff_class.SB3forMultifirefly(overall_folder=overall_folder, add_date_to_model_folder_name=False)\n",
    "#RLforFF.import_monkey_data(info_of_monkey, all_trial_features_m, pattern_frequencies_m, feature_statistics_m)\n",
    "RLforFF.streamline_everything(currentTrial_for_animation = 10, num_trials_for_animation = 5)"
   ]
  },
  {
   "cell_type": "code",
   "execution_count": null,
   "id": "fc2d8944",
   "metadata": {},
   "outputs": [],
   "source": [
    "RLforFF.lstm = False"
   ]
  },
  {
   "cell_type": "code",
   "execution_count": null,
   "id": "4bb7a0fd",
   "metadata": {},
   "outputs": [],
   "source": [
    "# timesteps = 10000000        \n",
    "# stop_train_callback = SB3_functions.StopTrainingOnNoModelImprovement(max_no_improvement_evals=20, min_evals=20, verbose=1, model_folder_name=RLforFF.model_folder_name,                                                   overall_folder=RLforFF.overall_folder, agent_id=RLforFF.agent_id)\n",
    "# callback = EvalCallback(RLforFF.env, eval_freq=12000, callback_after_eval=stop_train_callback, verbose=1, best_model_save_path=RLforFF.model_folder_name, n_eval_episodes=3)\n",
    "# RLforFF.sac_model.learn(total_timesteps=int(timesteps), callback=callback)\n",
    "# RLforFF.successful_training = True"
   ]
  },
  {
   "cell_type": "markdown",
   "id": "bd0edc7f",
   "metadata": {},
   "source": [
    "## Collect data (experimentation)"
   ]
  },
  {
   "cell_type": "code",
   "execution_count": null,
   "id": "9e658475",
   "metadata": {},
   "outputs": [],
   "source": [
    "RLforFF.collect_data(exists_ok=True, save_data=True)"
   ]
  },
  {
   "cell_type": "markdown",
   "id": "c25cf7cf",
   "metadata": {},
   "source": [
    "## load"
   ]
  },
  {
   "cell_type": "code",
   "execution_count": null,
   "id": "e8747d95",
   "metadata": {},
   "outputs": [],
   "source": [
    "env_kwargs = {'overall_folder': overall_folder, \n",
    "            #   'v_noise_std': 0, \n",
    "            #   \"w_noise_std\": 0,\n",
    "            #   'ffr_noise_scale': 0, \n",
    "            #   'num_obs_ff': 2, \n",
    "            #   'max_in_memory_time': 2.5, \n",
    "            #   'add_date_to_model_folder_name': False,\n",
    "            #   \n",
    "            #   'dv_cost_factor': 10,\n",
    "            #   'dw_cost_factor': 10,\n",
    "              }\n",
    "\n",
    "# alternatively...\n",
    "RLforFF = sb3_for_multiff_class.SB3forMultifirefly(**env_kwargs)\n",
    "RLforFF.make_env()\n",
    "RLforFF.make_agent()\n",
    "RLforFF.load_agent(load_replay_buffer=False)"
   ]
  },
  {
   "cell_type": "markdown",
   "id": "43c1046e",
   "metadata": {},
   "source": [
    "## call_animation_function"
   ]
  },
  {
   "cell_type": "code",
   "execution_count": 24,
   "id": "918921f1",
   "metadata": {},
   "outputs": [
    {
     "ename": "NameError",
     "evalue": "name 'RLforFF' is not defined",
     "output_type": "error",
     "traceback": [
      "\u001b[31m---------------------------------------------------------------------------\u001b[39m",
      "\u001b[31mNameError\u001b[39m                                 Traceback (most recent call last)",
      "\u001b[36mCell\u001b[39m\u001b[36m \u001b[39m\u001b[32mIn[24]\u001b[39m\u001b[32m, line 1\u001b[39m\n\u001b[32m----> \u001b[39m\u001b[32m1\u001b[39m \u001b[43mRLforFF\u001b[49m.set_animation_parameters(currentTrial=\u001b[32m10\u001b[39m, num_trials=\u001b[32m5\u001b[39m, k=\u001b[32m1\u001b[39m)\n\u001b[32m      2\u001b[39m RLforFF.call_animation_function()\n\u001b[32m      3\u001b[39m \u001b[38;5;66;03m# RLforFF.combine_6_plots_for_neural_network()\u001b[39;00m\n\u001b[32m      4\u001b[39m \u001b[38;5;66;03m# RLforFF.calculate_pattern_frequencies_and_feature_statistics()\u001b[39;00m\n\u001b[32m      5\u001b[39m \u001b[38;5;66;03m# RLforFF.plot_side_by_side()\u001b[39;00m\n\u001b[32m      6\u001b[39m \u001b[38;5;66;03m# plot_statistics.plot_pattern_frequencies(RLforFF.combd_pattern_frequencies, compare_monkey_and_agent=True, data_folder_name=RLforFF.model_folder_name)\u001b[39;00m\n\u001b[32m      7\u001b[39m \u001b[38;5;66;03m# #plot_statistics.plot_feature_statistics_for_monkey_and_agent(RLforFF.combd_feature_statistics, data_folder_name = RLforFF.model_folder_name)\u001b[39;00m\n\u001b[32m      8\u001b[39m \u001b[38;5;66;03m# plot_statistics.plot_feature_histograms_for_monkey_and_agent(RLforFF.all_trial_features_valid, RLforFF.all_trial_features_valid, data_folder_name = RLforFF.model_folder_name)\u001b[39;00m\n",
      "\u001b[31mNameError\u001b[39m: name 'RLforFF' is not defined"
     ]
    }
   ],
   "source": [
    "RLforFF.set_animation_parameters(currentTrial=10, num_trials=5, k=1)\n",
    "RLforFF.call_animation_function()\n",
    "# RLforFF.combine_6_plots_for_neural_network()\n",
    "# RLforFF.calculate_pattern_frequencies_and_feature_statistics()\n",
    "# RLforFF.plot_side_by_side()\n",
    "# plot_statistics.plot_pattern_frequencies(RLforFF.combd_pattern_frequencies, compare_monkey_and_agent=True, data_folder_name=RLforFF.model_folder_name)\n",
    "# #plot_statistics.plot_feature_statistics_for_monkey_and_agent(RLforFF.combd_feature_statistics, data_folder_name = RLforFF.model_folder_name)\n",
    "# plot_statistics.plot_feature_histograms_for_monkey_and_agent(RLforFF.all_trial_features_valid, RLforFF.all_trial_features_valid, data_folder_name = RLforFF.model_folder_name)"
   ]
  },
  {
   "attachments": {},
   "cell_type": "markdown",
   "id": "da26c42f",
   "metadata": {
    "id": "da26c42f"
   },
   "source": [
    "# Loop (for hyperparameter tuning)"
   ]
  },
  {
   "cell_type": "markdown",
   "id": "cf95e9a6",
   "metadata": {},
   "source": [
    "## test params"
   ]
  },
  {
   "cell_type": "code",
   "execution_count": null,
   "id": "93592d2a",
   "metadata": {},
   "outputs": [],
   "source": [
    "\n",
    "for dw_cost_factor in range(30, 100, 10):\n",
    "    params = {\n",
    "        'dv_cost_factor': 10,\n",
    "        'dw_cost_factor': dw_cost_factor,\n",
    "        'w_cost_factor': 10,\n",
    "    }\n",
    "\n",
    "    num_obs_ff = 3\n",
    "    max_in_memory_time = 3\n",
    "    overall_folder = f'RL_models/SB3_stored_models/all_agents/env1_test_params/ff{num_obs_ff}/'\n",
    "\n",
    "    env_kwargs = {'num_obs_ff': num_obs_ff,\n",
    "                'max_in_memory_time': max_in_memory_time,\n",
    "                'print_ff_capture_incidents': False\n",
    "                #'reward_per_ff': 120,\n",
    "    }\n",
    "\n",
    "    # check if num_obs_ff is consistent with the name in overall_folder. If not, raise an error\n",
    "    if not f'ff{env_kwargs[\"num_obs_ff\"]}' in overall_folder:\n",
    "        raise ValueError('num_obs_ff is not consistent with the name in overall_folder')\n",
    "\n",
    "    gc.collect()\n",
    "    print(\"Current parameters: \", params)\n",
    "\n",
    "    # params = {'time_cost': 0.0, 'dv_cost_factor': 0.0, 'dw_cost_factor': 0.0, 'w_cost_factor': 0.0, 'v_noise_std': 0.0, 'w_noise_std': 0.0}\n",
    "    RLforFF = sb3_for_multiff_class.SB3forMultifirefly(**params, overall_folder=overall_folder,\n",
    "                                                        **env_kwargs)\n",
    "\n",
    "    #RLforFF.import_monkey_data(info_of_monkey, all_trial_features_m, pattern_frequencies_m, feature_statistics_m)\n",
    "    RLforFF.streamline_everything(currentTrial_for_animation=None, num_trials_for_animation=None, duration=[10, 40],\n",
    "                                    best_model_after_curriculum_exists_ok=True, model_exists_ok=True)"
   ]
  },
  {
   "cell_type": "markdown",
   "id": "8260b092",
   "metadata": {},
   "source": [
    "## env1 loop"
   ]
  },
  {
   "cell_type": "code",
   "execution_count": null,
   "id": "300552bf",
   "metadata": {},
   "outputs": [],
   "source": [
    "# params = {\n",
    "#           'dv_cost_factor': 10,\n",
    "#           'dw_cost_factor': 10,\n",
    "#           'w_cost_factor': 10,\n",
    "# }\n",
    "\n",
    "params = {\n",
    "          'dv_cost_factor': 0,\n",
    "          'dw_cost_factor': 0,\n",
    "          'w_cost_factor': 0,\n",
    "}\n",
    "\n",
    "for max_in_memory_time in [3, 2, 1]:\n",
    "    for num_obs_ff in [2, 1, 3, 4, 5]:\n",
    "        overall_folder = f'RL_models/SB3_stored_models/all_agents/env1_relu/ff{num_obs_ff}/'\n",
    "\n",
    "        env_kwargs = {'num_obs_ff': num_obs_ff,\n",
    "                    'max_in_memory_time': max_in_memory_time,\n",
    "                    'print_ff_capture_incidents': False\n",
    "                    #'reward_per_ff': 120,\n",
    "        }\n",
    "\n",
    "        # check if num_obs_ff is consistent with the name in overall_folder. If not, raise an error\n",
    "        if not f'ff{env_kwargs[\"num_obs_ff\"]}' in overall_folder:\n",
    "            raise ValueError('num_obs_ff is not consistent with the name in overall_folder')\n",
    "\n",
    "        gc.collect()\n",
    "        print(\"Current parameters: \", params)\n",
    "\n",
    "        # params = {'time_cost': 0.0, 'dv_cost_factor': 0.0, 'dw_cost_factor': 0.0, 'w_cost_factor': 0.0, 'v_noise_std': 0.0, 'w_noise_std': 0.0}\n",
    "        RLforFF = sb3_for_multiff_class.SB3forMultifirefly(**params, overall_folder=overall_folder,\n",
    "                                                            **env_kwargs)\n",
    "\n",
    "        #RLforFF.import_monkey_data(info_of_monkey, all_trial_features_m, pattern_frequencies_m, feature_statistics_m)\n",
    "        RLforFF.streamline_everything(currentTrial_for_animation=None, num_trials_for_animation=None, duration=[10, 40],\n",
    "                                        best_model_after_curriculum_exists_ok=True, model_exists_ok=True)"
   ]
  },
  {
   "cell_type": "markdown",
   "id": "13b893a2",
   "metadata": {},
   "source": [
    "## combos of params"
   ]
  },
  {
   "cell_type": "code",
   "execution_count": null,
   "id": "26965f54",
   "metadata": {},
   "outputs": [],
   "source": [
    "# randomly sample from a range\n",
    "param_combinations = []\n",
    "num_param_combinations = 20\n",
    "for i in range(num_param_combinations):\n",
    "    combo = dict()\n",
    "    #combo[\"time_cost\"] = round(random.uniform(20, 50), 2)\n",
    "    combo[\"dv_cost_factor\"] = round(random.uniform(50, 150), 2)\n",
    "    combo[\"dw_cost_factor\"] = round(random.uniform(50, 150), 2)\n",
    "    combo[\"w_cost_factor\"] = round(random.uniform(50, 150), 2)\n",
    "    param_combinations.append(combo)"
   ]
  },
  {
   "cell_type": "code",
   "execution_count": null,
   "id": "224212ef",
   "metadata": {},
   "outputs": [],
   "source": [
    "overall_folder = 'RL_models/SB3_stored_models/all_agents/env1_relu/ff3/'"
   ]
  },
  {
   "cell_type": "code",
   "execution_count": null,
   "id": "d2c7c048",
   "metadata": {},
   "outputs": [],
   "source": [
    "env_kwargs = {'num_obs_ff': 3,\n",
    "              'print_ff_capture_incidents': False\n",
    "              #'reward_per_ff': 120,\n",
    "}\n",
    "\n",
    "for count, params in enumerate(param_combinations):\n",
    "    gc.collect()\n",
    "    print(\"Running\", str(count), \"out of\", len(param_combinations), \"combinations of parameters\")\n",
    "    print(\"Current parameters: \", params)\n",
    "\n",
    "    # params = {'time_cost': 0.0, 'dv_cost_factor': 0.0, 'dw_cost_factor': 0.0, 'w_cost_factor': 0.0, 'v_noise_std': 0.0, 'w_noise_std': 0.0}\n",
    "\n",
    "    RLforFF = sb3_for_multiff_class.SB3forMultifirefly(**params, overall_folder=overall_folder,\n",
    "                                                     **env_kwargs)\n",
    "\n",
    "    #RLforFF.import_monkey_data(info_of_monkey, all_trial_features_m, pattern_frequencies_m, feature_statistics_m)\n",
    "    RLforFF.streamline_everything(currentTrial_for_animation=None, num_trials_for_animation=None, duration=[10, 40],\n",
    "                                  best_model_after_curriculum_exists_ok=True)"
   ]
  },
  {
   "cell_type": "markdown",
   "id": "e5061dae",
   "metadata": {},
   "source": [
    "### make animation"
   ]
  },
  {
   "cell_type": "code",
   "execution_count": null,
   "id": "81448918",
   "metadata": {},
   "outputs": [],
   "source": [
    "#RLforFF.load_best_model_after_curriculum()\n",
    "RLforFF.streamline_making_animation(duration=[10, 40])\n",
    "#RLforFF.streamline_loading_and_making_animation()"
   ]
  },
  {
   "cell_type": "markdown",
   "id": "b5d25498",
   "metadata": {},
   "source": [
    "## env2"
   ]
  },
  {
   "cell_type": "code",
   "execution_count": null,
   "id": "077effa7",
   "metadata": {},
   "outputs": [],
   "source": [
    "# randomly sample from a range\n",
    "param_combinations = []\n",
    "num_param_combinations = 10\n",
    "for i in range(num_param_combinations):\n",
    "    combo = dict()\n",
    "    #combo[\"time_cost\"] = round(random.uniform(20, 50), 2)\n",
    "    combo[\"dv_cost_factor\"] = round(random.uniform(50, 150), 2)\n",
    "    combo[\"dw_cost_factor\"] = round(random.uniform(50, 150), 2)\n",
    "    combo[\"w_cost_factor\"] = round(random.uniform(50, 150), 2)\n",
    "    param_combinations.append(combo)"
   ]
  },
  {
   "cell_type": "code",
   "execution_count": null,
   "id": "4b5d689e",
   "metadata": {},
   "outputs": [],
   "source": [
    "overall_folder = 'RL_models/SB3_stored_models/all_agents/gen_28_env2/'"
   ]
  },
  {
   "cell_type": "code",
   "execution_count": null,
   "id": "935605e1",
   "metadata": {},
   "outputs": [],
   "source": [
    "env_kwargs = {'num_obs_ff': 10,\n",
    "              'make_ff_always_flash_on': False,\n",
    "              'max_in_memory_time': 3,\n",
    "              'linear_terminal_vel': 0.01,\n",
    "              'angular_terminal_vel': 0.01,\n",
    "              'reward_per_ff': 100,\n",
    "              'dt': 0.1,\n",
    "              'add_cost_when_catching_ff_only': False,\n",
    "              #'reward_per_ff': 120,\n",
    "}\n",
    "\n",
    "for count, params in enumerate(param_combinations):\n",
    "    gc.collect()\n",
    "    print(\"Running\", str(count), \"out of\", len(param_combinations), \"combinations of parameters\")\n",
    "    print(\"Current parameters: \", params)\n",
    "\n",
    "    # params = {'time_cost': 0.0, 'dv_cost_factor': 0.0, 'dw_cost_factor': 0.0, 'w_cost_factor': 0.0, 'v_noise_std': 0.0, 'w_noise_std': 0.0}\n",
    "\n",
    "    RLforFF = sb3_for_multiff_class.SB3forMultifirefly(**params, overall_folder=overall_folder,\n",
    "                                                     **env_kwargs,\n",
    "                                                     use_env2=True)\n",
    "\n",
    "    #RLforFF.import_monkey_data(info_of_monkey, all_trial_features_m, pattern_frequencies_m, feature_statistics_m)\n",
    "    RLforFF.streamline_everything(currentTrial_for_animation=None, num_trials_for_animation=None, duration=[10, 40],\n",
    "                                  best_model_after_curriculum_exists_ok=False)"
   ]
  },
  {
   "cell_type": "markdown",
   "id": "0ffb305a",
   "metadata": {},
   "source": [
    "## remake animation"
   ]
  },
  {
   "cell_type": "code",
   "execution_count": null,
   "id": "b94af079",
   "metadata": {},
   "outputs": [],
   "source": [
    "# # For every folder in slow:\n",
    "# # Extract parameters from the folder name\n",
    "# # Re-make the env\n",
    "# # Load agent\n",
    "# # And then make animation\n",
    "\n",
    "# overall_folder = 'RL_models/SB3_stored_models/all_agents/gen_30_env1_4ff'\n",
    "# folders = os.listdir(overall_folder)\n",
    "# for folder in folders:\n",
    "#     if 'time' not in folder:\n",
    "#         continue\n",
    "#     print(\"Currently working on\", folder)\n",
    "#     folder_path = overall_folder + '/' + folder\n",
    "#     params = rl_for_multiff_utils.extract_cost_params_from_folder_name(folder)\n",
    "#     RLforFF = sb3_for_multiff_class.SB3forMultifirefly(**params, overall_folder=overall_folder,\n",
    "#                                                      make_ff_always_flash_on=True)\n",
    "#     #RLforFF.import_monkey_data(info_of_monkey, all_trial_features_m, pattern_frequencies_m, feature_statistics_m)\n",
    "#     RLforFF.model_folder_name = folder_path\n",
    "#     RLforFF.make_env()\n",
    "#     RLforFF.make_agent()\n",
    "#     RLforFF.load_agent(load_replay_buffer=False)\n",
    "#     RLforFF.collect_data()\n",
    "#     RLforFF.set_animation_parameters(currentTrial=5, num_trials=5, k=1)\n",
    "#     RLforFF.call_animation_function()"
   ]
  },
  {
   "attachments": {},
   "cell_type": "markdown",
   "id": "5409a0bd",
   "metadata": {
    "id": "5409a0bd"
   },
   "source": [
    "# Env"
   ]
  },
  {
   "attachments": {},
   "cell_type": "markdown",
   "id": "9703eb0c",
   "metadata": {
    "id": "9703eb0c"
   },
   "source": [
    "## regular"
   ]
  },
  {
   "cell_type": "code",
   "execution_count": null,
   "id": "30a34ff5",
   "metadata": {
    "id": "30a34ff5"
   },
   "outputs": [],
   "source": [
    "env_kwargs = {}\n",
    "env = env_for_sb3.EnvForSB3(**env_kwargs)\n",
    "model_folder_name = \"RL_models/SB3_stored_models/all_agents/regular\"\n",
    "os.makedirs(model_folder_name, exist_ok=True)\n",
    "env = Monitor(env, model_folder_name)"
   ]
  },
  {
   "cell_type": "markdown",
   "id": "fb32d7b0",
   "metadata": {},
   "source": [
    "## make_ff_always_flash_on"
   ]
  },
  {
   "cell_type": "code",
   "execution_count": null,
   "id": "e4a6ab06",
   "metadata": {},
   "outputs": [],
   "source": [
    "env_kwargs = {'make_ff_always_flash_on': True,\n",
    "              'ffr_noise_scale': 0,}\n",
    "env = env_for_sb3.EnvForSB3(**env_kwargs)\n",
    "model_folder_name = \"RL_models/SB3_stored_models/all_agents/regular\"\n",
    "os.makedirs(model_folder_name, exist_ok=True)\n",
    "env = Monitor(env, model_folder_name)"
   ]
  },
  {
   "attachments": {},
   "cell_type": "markdown",
   "id": "83d0be92",
   "metadata": {
    "id": "83d0be92"
   },
   "source": [
    "## one-ff"
   ]
  },
  {
   "cell_type": "code",
   "execution_count": null,
   "id": "08c7fb7e",
   "metadata": {
    "id": "08c7fb7e"
   },
   "outputs": [],
   "source": [
    "env_kwargs = {'num_obs_ff': 1}\n",
    "env = env_for_sb3.EnvForSB3(**env_kwargs)\n",
    "env = Monitor(env, model_folder_name)"
   ]
  },
  {
   "attachments": {},
   "cell_type": "markdown",
   "id": "6d8ef0c3",
   "metadata": {
    "id": "6d8ef0c3"
   },
   "source": [
    "## with noise"
   ]
  },
  {
   "cell_type": "code",
   "execution_count": null,
   "id": "70417219",
   "metadata": {
    "id": "70417219"
   },
   "outputs": [],
   "source": [
    "env_kwargs = {\"v_noise_std\": 0.1, \n",
    "              \"w_noise_std\": 0.1,\n",
    "              \"ffr_noise_scale\": 4, \n",
    "              \"num_obs_ff\": 2,\n",
    "              \"max_in_memory_time\": 2.5}\n",
    "# model_folder_name =overall_folder + \"/SB3_stored_models/all_agents/v\" +\n",
    "#                        str(v_noise_std) + \"_w_\" + str(w_noise_std) + \"_o_\" + str(ffr_noise_scale) + \\\n",
    "#                        \"_ff_\" + str(num_obs_ff) + \"_m_\" + str(max_in_memory_time)\n",
    "env = env.MultiFF(**env_kwargs)\n",
    "env = Monitor(env, model_folder_name)\n",
    "model_folder_name = \"RL_models/SB3_stored_models/all_agents/A0.2_O4_ff2_M3\"\n",
    "os.makedirs(model_folder_name, exist_ok=True)"
   ]
  },
  {
   "attachments": {},
   "cell_type": "markdown",
   "id": "50d88dc9",
   "metadata": {
    "id": "50d88dc9"
   },
   "source": [
    "# Agent"
   ]
  },
  {
   "attachments": {},
   "cell_type": "markdown",
   "id": "ea153406",
   "metadata": {
    "id": "ea153406"
   },
   "source": [
    "## make agent"
   ]
  },
  {
   "cell_type": "code",
   "execution_count": 8,
   "id": "4c411166",
   "metadata": {
    "id": "4c411166"
   },
   "outputs": [],
   "source": [
    "# For direct training\n",
    "sac_model = SAC(\"MlpPolicy\", \n",
    "            env,\n",
    "            gamma=0.995,\n",
    "            learning_rate=0.0015,\n",
    "            batch_size=1024,\n",
    "            target_update_interval=50,\n",
    "            buffer_size=1000000,\n",
    "            learning_starts=10000,\n",
    "            train_freq=10,\n",
    "            ent_coef='auto',\n",
    "            policy_kwargs=dict(activation_fn=nn.Tanh, net_arch=[128, 128])\n",
    "            )"
   ]
  },
  {
   "attachments": {},
   "cell_type": "markdown",
   "id": "37268cc4",
   "metadata": {
    "id": "37268cc4"
   },
   "source": [
    "## load agent (optional)"
   ]
  },
  {
   "cell_type": "code",
   "execution_count": null,
   "id": "fd640727",
   "metadata": {
    "id": "fd640727"
   },
   "outputs": [],
   "source": [
    "path = os.path.join(model_folder_name, 'best_model.zip')\n",
    "path2 = os.path.join(model_folder_name, 'buffer.pkl')\n",
    "sac_model = sac_model.load(path,env=env) \n",
    "sac_model.load_replay_buffer(path2)"
   ]
  },
  {
   "attachments": {},
   "cell_type": "markdown",
   "id": "b372808d",
   "metadata": {
    "id": "b372808d"
   },
   "source": [
    "## Train agent"
   ]
  },
  {
   "cell_type": "code",
   "execution_count": null,
   "id": "aeba8196",
   "metadata": {},
   "outputs": [],
   "source": [
    "model_folder_name = \"RL_models/SB3_stored_models/all_agents/temp_9_29\"\n",
    "os.makedirs(model_folder_name, exist_ok=True)"
   ]
  },
  {
   "cell_type": "code",
   "execution_count": null,
   "id": "21a908ec",
   "metadata": {
    "id": "21a908ec"
   },
   "outputs": [],
   "source": [
    "callback = SB3_functions.SaveOnBestTrainingRewardCallback(check_freq=20000, model_folder_name=model_folder_name)\n",
    "#timesteps = 50000000\n",
    "timesteps = 500000\n",
    "sac_model.learn(total_timesteps=int(timesteps), callback=callback)\n",
    "plot_results([model_folder_name], timesteps, results_plotter.X_TIMESTEPS, \"env.MultiFF\")\n",
    "plt.show()"
   ]
  },
  {
   "cell_type": "code",
   "execution_count": null,
   "id": "1919e84e",
   "metadata": {
    "id": "1919e84e"
   },
   "outputs": [],
   "source": [
    "plot_results([model_folder_name], timesteps, results_plotter.X_TIMESTEPS, \"env.MultiFF\")\n",
    "plt.show()"
   ]
  },
  {
   "cell_type": "code",
   "execution_count": null,
   "id": "9c3d27b8",
   "metadata": {
    "id": "9c3d27b8"
   },
   "outputs": [],
   "source": [
    "sac_model.save(os.path.join(model_folder_name, 'best_model'))\n",
    "sac_model.save_replay_buffer(os.path.join(model_folder_name, 'buffer')) # I added this"
   ]
  },
  {
   "cell_type": "code",
   "execution_count": null,
   "id": "492f1169",
   "metadata": {
    "id": "492f1169"
   },
   "outputs": [],
   "source": [
    "stop_train_callback = SB3_functions.StopTrainingOnNoModelImprovement(max_no_improvement_evals=10, min_evals=20, verbose=1)\n",
    "callback = EvalCallback(env, eval_freq=5000, callback_after_eval=stop_train_callback, verbose=1)\n",
    "# timesteps = 50000000\n",
    "timesteps = 5000000\n",
    "sac_model.learn(total_timesteps=int(timesteps), callback=callback)\n",
    "\n",
    "sac_model.save(os.path.join(model_folder_name, 'best_model'))\n",
    "sac_model.save_replay_buffer(os.path.join(model_folder_name, 'buffer')) # I added this"
   ]
  },
  {
   "attachments": {},
   "cell_type": "markdown",
   "id": "d075400f",
   "metadata": {
    "id": "d075400f"
   },
   "source": [
    "# Animation"
   ]
  },
  {
   "cell_type": "code",
   "execution_count": null,
   "id": "382fcebb",
   "metadata": {},
   "outputs": [],
   "source": [
    "RL_anim = sb3_for_multiff_class.SB3forMultifirefly(overall_folder='RL_models/SB3_stored_models/all_agents/gen_12/', **env_kwargs)"
   ]
  },
  {
   "cell_type": "code",
   "execution_count": null,
   "id": "5bad6a43",
   "metadata": {},
   "outputs": [],
   "source": [
    "RL_anim.sac_model = sac_model"
   ]
  },
  {
   "cell_type": "code",
   "execution_count": null,
   "id": "8974494c",
   "metadata": {},
   "outputs": [],
   "source": [
    "RL_anim.streamline_making_animation()"
   ]
  },
  {
   "attachments": {},
   "cell_type": "markdown",
   "id": "b056b5cc",
   "metadata": {
    "id": "b056b5cc"
   },
   "source": [
    "# Interpret neural network (only works on 1-ff env rn)"
   ]
  },
  {
   "cell_type": "code",
   "execution_count": null,
   "id": "86cb94d9",
   "metadata": {},
   "outputs": [],
   "source": [
    "## use combine_6_plots_for_neural_network from rl_for_multiff_class"
   ]
  },
  {
   "attachments": {},
   "cell_type": "markdown",
   "id": "efeeb570",
   "metadata": {
    "id": "efeeb570"
   },
   "source": [
    "# Plot statistics (pasted from visualization.ipynb)\n",
    "compare monkey and agents"
   ]
  },
  {
   "cell_type": "code",
   "execution_count": null,
   "id": "48a06c6c",
   "metadata": {},
   "outputs": [],
   "source": [
    "# use the function above from rl_for_multiff_class:   \n",
    "    # def save_plots_in_data_folders(self):\n",
    "    #     plot_statistics.plot_pattern_frequencies(self.agent_monkey_pattern_frequencies, compare_monkey_and_agent=True, data_folder_name=self.processed_data_folder_path)\n",
    "    #     plot_statistics.plot_feature_statistics(self.agent_monkey_feature_statistics, compare_monkey_and_agent=True, data_folder_name = self.processed_data_folder_path)\n",
    "\n",
    "    #     plot_statistics.plot_feature_histograms_for_monkey_and_agent(self.all_trial_features_valid_m, self.all_trial_features_valid, data_folder_name = self.model_folder_name)\n",
    "    #     print(\"Made new plots\")"
   ]
  },
  {
   "attachments": {},
   "cell_type": "markdown",
   "id": "TQMCDI-FqP6s",
   "metadata": {
    "id": "TQMCDI-FqP6s"
   },
   "source": [
    "# Plot side_by_side"
   ]
  },
  {
   "cell_type": "code",
   "execution_count": null,
   "id": "f57d26ad",
   "metadata": {},
   "outputs": [],
   "source": [
    "# use the function plot_side_by_side from rl_for_multiff_class:   "
   ]
  },
  {
   "attachments": {},
   "cell_type": "markdown",
   "id": "xIYoWAIyDieu",
   "metadata": {
    "id": "xIYoWAIyDieu"
   },
   "source": [
    "# Polar"
   ]
  },
  {
   "attachments": {},
   "cell_type": "markdown",
   "id": "aoaz1_ng6QMt",
   "metadata": {
    "id": "aoaz1_ng6QMt"
   },
   "source": [
    "## Version 1"
   ]
  },
  {
   "cell_type": "code",
   "execution_count": null,
   "id": "ZrSbMmCJ5uN1",
   "metadata": {
    "id": "ZrSbMmCJ5uN1"
   },
   "outputs": [],
   "source": [
    "num_trials = 1\n",
    "for currentTrial in range(40,43):\n",
    "    print(currentTrial)\n",
    "    #duration = [ff_caught_T_new[currentTrial-num_trials], ff_caught_T_new[currentTrial]]\n",
    "    duration = [ff_caught_T_new[currentTrial]-1.25, ff_caught_T_new[currentTrial]]\n",
    "\n",
    "\n",
    "    plot_polar.PlotPolar(duration,\n",
    "              monkey_information,\n",
    "              ff_dataframe, \n",
    "              ff_life_sorted,\n",
    "              ff_real_position_sorted,\n",
    "              ff_caught_T_new,\n",
    "              ff_flash_sorted,\n",
    "              rmax = 100,\n",
    "              currentTrial = currentTrial,\n",
    "              num_trials = num_trials,\n",
    "              show_visible_ff = True,\n",
    "              show_visible_target = True,\n",
    "              show_ff_in_memory = True,\n",
    "              show_target_in_memory = True,\n",
    "              show_alive_ff = True\n",
    "                )"
   ]
  },
  {
   "attachments": {},
   "cell_type": "markdown",
   "id": "ZLNksPtjduik",
   "metadata": {
    "id": "ZLNksPtjduik"
   },
   "source": [
    "## Animation"
   ]
  },
  {
   "cell_type": "code",
   "execution_count": null,
   "id": "79OZSKw1duBP",
   "metadata": {
    "id": "79OZSKw1duBP"
   },
   "outputs": [],
   "source": [
    "currentTrial = 10\n",
    "num_trials = 2\n",
    "filename = f\"Trials {currentTrial-num_trials+1}-{currentTrial}\"\n",
    "print(filename)\n",
    "k = 4\n",
    "rmax = 100\n",
    "colors_Reds = plt.get_cmap(\"Reds\")(np.linspace(0,1,101))\n",
    "colors_YlGn = plt.get_cmap(\"YlGn\")(np.linspace(0,1,101))\n",
    "cum_pos_index = np.where((monkey_information['time'] > ff_caught_T_new[currentTrial-num_trials]) & \n",
    "                       (monkey_information['time'] <= ff_caught_T_new[currentTrial]))\n",
    "\n",
    "if len(cum_pos_index) > 0:\n",
    "    fig = plt.figure(figsize=(7,7))\n",
    "    ax = fig.add_axes([0.1, 0.1, 0.8, 0.8], polar=True)\n",
    "    ax = plot_behaviors_utils.set_polar_background_for_animation(ax, rmax)\n",
    "\n",
    "    ff_in_time_frame, ff_visible, ff_in_memory = animation_func.subset_ff_dataframe(ff_dataframe, currentTrial, num_trials)\n",
    "    anim_indices = cum_pos_index[0][0:-1:k]\n",
    "    num_frames = anim_indices.size\n",
    "    animate_func = partial(animation_func.animate_polar, ax=ax, anim_indices=anim_indices, rmax=400, ff_in_time_frame=ff_in_time_frame, ff_visible=ff_visible, ff_in_memory=ff_in_memory)\n",
    "    anim = animation.FuncAnimation(fig, animate_func, frames=num_frames, interval=int(250*k), repeat=True) \n",
    "\n",
    "    #gif_dir = '/content/gdrive/My Drive/fireflies_anim/???'\n",
    "    #anim.save(f\"{gif_dir}/{filename}.gif\", writer='pillow', fps=60)\n",
    "else:\n",
    "    print(\"Please try another number for currentTrial, or increase num_trials.\")\n",
    "\n",
    "HTML(anim.to_html5_video())"
   ]
  },
  {
   "attachments": {},
   "cell_type": "markdown",
   "id": "r6j1e2uxq5OG",
   "metadata": {
    "id": "r6j1e2uxq5OG"
   },
   "source": [
    "# Test agent"
   ]
  },
  {
   "cell_type": "code",
   "execution_count": null,
   "id": "k9-tdbAHq5_U",
   "metadata": {
    "id": "k9-tdbAHq5_U"
   },
   "outputs": [],
   "source": [
    "obs, _ = env.reset()\n",
    "cum_rewards = 0\n",
    "for step in range(1000):\n",
    "    action, _ = sac_model.predict(obs, deterministic=True)\n",
    "    obs, reward, done, _, info = env.step(action)\n",
    "    cum_rewards += reward\n",
    "    if done:\n",
    "        obs, _ = env.reset()\n",
    "    # print(step, ffxy_visible[-1])\n",
    "print(cum_rewards)"
   ]
  },
  {
   "attachments": {},
   "cell_type": "markdown",
   "id": "1Inbx37xwycW",
   "metadata": {
    "id": "1Inbx37xwycW"
   },
   "source": [
    "# Hyperparameter tuning"
   ]
  },
  {
   "attachments": {},
   "cell_type": "markdown",
   "id": "hfHYXONdz7qJ",
   "metadata": {
    "id": "hfHYXONdz7qJ"
   },
   "source": [
    "## parameters to sample from"
   ]
  },
  {
   "cell_type": "code",
   "execution_count": null,
   "id": "xhBysB7hz_F8",
   "metadata": {
    "id": "xhBysB7hz_F8"
   },
   "outputs": [],
   "source": [
    "def sample_sac_params(trial):\n",
    "    \"\"\"\n",
    "    Sampler for SAC hyperparams.\n",
    "\n",
    "\n",
    "    Parameters\n",
    "    ----------\n",
    "    trial: (optuna.trial)\n",
    "\n",
    "    Return: (dict)\n",
    "    \"\"\"\n",
    "\n",
    "\n",
    "    gamma = 1.0 - trial.suggest_float(\"gamma\", 0.0001, 0.1, log=True)\n",
    "    learning_rate = trial.suggest_float(\"lr\", 1e-5, 1, log=True)\n",
    "    tau = trial.suggest_float(\"tau\", 1e-6, 1, log=True)\n",
    "    #batch_size = trial.suggest_categorical('batch_size', [16, 32, 64, 128, 256, 512, 1024])\n",
    "    target_update_interval = trial.suggest_categorical('target_update_interval', [5, 10, 20, 40, 60, 100, 200])\n",
    "    #buffer_size = trial.suggest_categorical('buffer_size', [int(1e5), int(1e6)]) # This actually doesn't matter much here because of limited timesteps\n",
    "    learning_starts = trial.suggest_categorical('learning_starts', [5000, 10000, 15000])\n",
    "    train_freq = trial.suggest_categorical('train_freq', [1, 10, 100, 300])\n",
    "    ## gradient_steps takes too much time\n",
    "    # gradient_steps = trial.suggest_categorical('gradient_steps', [1, 100, 300])\n",
    "    gradient_steps = train_freq\n",
    "    ent_coef = trial.suggest_float(\"ent_coef\", 0.00000001, 0.1, log=True)\n",
    "    net_arch = trial.suggest_categorical('net_arch', [\"small\", \"medium\", \"big\"])\n",
    "    activation_fn = trial.suggest_categorical(\"activation_fn\", [\"tanh\"])\n",
    "\n",
    "    net_arch = {\n",
    "        'small': [100, 100],\n",
    "        'medium': [128, 128],\n",
    "        'big': [200, 200],\n",
    "    }[net_arch]\n",
    "\n",
    "    activation_fn = {\"tanh\": nn.Tanh, \"relu\": nn.ReLU}[activation_fn]\n",
    "\n",
    "    target_entropy = 'auto'\n",
    "    if ent_coef == 'auto':\n",
    "        target_entropy = trial.suggest_categorical('target_entropy', ['auto', -1, -10, -20, -50, -100])\n",
    "\n",
    "\n",
    "    ## Display true values\n",
    "    # trial.set_user_attr(\"gamma_\", gamma)\n",
    "    # trial.set_user_attr(\"n_steps\", n_steps)\n",
    "\n",
    "\n",
    "    return {\n",
    "        'gamma': gamma,\n",
    "        'learning_rate': learning_rate,\n",
    "        'tau': tau,\n",
    "        #'batch_size': batch_size,\n",
    "        'target_update_interval': target_update_interval,\n",
    "        #'buffer_size': buffer_size,\n",
    "        'learning_starts': learning_starts,\n",
    "        'train_freq': train_freq,\n",
    "        'gradient_steps': gradient_steps,\n",
    "        'ent_coef': ent_coef,\n",
    "        'target_entropy': target_entropy,\n",
    "        'policy_kwargs': {\n",
    "            \"net_arch\": net_arch,\n",
    "            \"activation_fn\": activation_fn\n",
    "        }\n",
    "    }"
   ]
  },
  {
   "attachments": {},
   "cell_type": "markdown",
   "id": "iV2OVSz10Bve",
   "metadata": {
    "id": "iV2OVSz10Bve"
   },
   "source": [
    "## objective"
   ]
  },
  {
   "cell_type": "code",
   "execution_count": null,
   "id": "-3YZk9SVxCWh",
   "metadata": {
    "id": "-3YZk9SVxCWh"
   },
   "outputs": [],
   "source": [
    "def objective(trial: optuna.Trial) -> float:\n",
    "    kwargs = DEFAULT_HYPERPARAMS.copy()\n",
    "    # Sample hyperparameters\n",
    "    kwargs.update(sample_sac_params(trial))\n",
    "    # Create the RL model\n",
    "    model = SAC(**kwargs)\n",
    "    # Create env used for evaluation\n",
    "    eval_env = env\n",
    "    # Create the callback that will periodically evaluate\n",
    "    # and report the performance\n",
    "    eval_callback = SB3_functions.TrialEvalCallback(\n",
    "      eval_env, trial, n_eval_episodes=N_EVAL_EPISODES, eval_freq=eval_freq, deterministic=True\n",
    "    )\n",
    "\n",
    "    nan_encountered = False\n",
    "    try:\n",
    "      model.learn(N_TIMESTEPS, callback=eval_callback)\n",
    "    except AssertionError as e:\n",
    "      # Sometimes, random hyperparams can generate NaN\n",
    "      print(e)\n",
    "      nan_encountered = True\n",
    "    finally:\n",
    "      # Free memory\n",
    "      model.env.close()\n",
    "      eval_env.close()\n",
    "\n",
    "    # Tell the optimizer that the trial failed\n",
    "    if nan_encountered:\n",
    "      return float(\"nan\")\n",
    "\n",
    "    if eval_callback.is_pruned:\n",
    "      raise optuna.exceptions.TrialPruned()\n",
    "\n",
    "    return eval_callback.last_mean_reward"
   ]
  },
  {
   "attachments": {},
   "cell_type": "markdown",
   "id": "UVyTUNFzHtLP",
   "metadata": {
    "id": "UVyTUNFzHtLP"
   },
   "source": [
    "## run"
   ]
  },
  {
   "cell_type": "code",
   "execution_count": null,
   "id": "Dhl9rpZPH0w6",
   "metadata": {
    "id": "Dhl9rpZPH0w6"
   },
   "outputs": [],
   "source": [
    "env = env_for_sb3.EnvForSB3()\n",
    "env.reset()\n",
    "\n",
    "\n",
    "\n",
    "DEFAULT_HYPERPARAMS = {\n",
    "    \"policy\": \"MlpPolicy\",\n",
    "    \"env\": env,\n",
    "}\n",
    "\n",
    "N_TRIALS = 100\n",
    "N_STARTUP_TRIALS = 5\n",
    "N_EVALUATIONS = 2\n",
    "\n",
    "\n",
    "N_TIMESTEPS = 100000\n",
    "eval_freq = int(N_TIMESTEPS / N_EVALUATIONS)\n",
    "N_EVAL_EPISODES = 1\n",
    "\n",
    "\n",
    "\n",
    "# Set pytorch num threads to 1 for faster training\n",
    "torch.set_num_threads(1)\n",
    "\n",
    "sampler = TPESampler(n_startup_trials=N_STARTUP_TRIALS)\n",
    "# Do not prune before 1/3 of the max budget is used\n",
    "pruner = MedianPruner(n_startup_trials=N_STARTUP_TRIALS, n_warmup_steps=N_EVALUATIONS//3)\n",
    "\n",
    "study = optuna.create_study(sampler=sampler, pruner=pruner, direction=\"maximize\")\n",
    "try:\n",
    "    study.optimize(objective, n_trials=N_TRIALS)\n",
    "except KeyboardInterrupt:\n",
    "    pass\n",
    "\n",
    "print(\"Number of finished trials: \", len(study.trials))\n",
    "\n",
    "print(\"Best trial:\")\n",
    "trial = study.best_trial\n",
    "\n",
    "print(\"  Value: \", trial.value)\n",
    "\n",
    "print(\"  Params: \")\n",
    "for key, value in trial.params.items():\n",
    "    print(\"    {}: {}\".format(key, value))\n",
    "\n",
    "print(\"  User attrs:\")\n",
    "for key, value in trial.user_attrs.items():\n",
    "    print(\"    {}: {}\".format(key, value))\n"
   ]
  },
  {
   "attachments": {},
   "cell_type": "markdown",
   "id": "Pj9Wo6ylF0MI",
   "metadata": {
    "id": "Pj9Wo6ylF0MI"
   },
   "source": [
    "# Debug"
   ]
  },
  {
   "cell_type": "code",
   "execution_count": null,
   "id": "HQmdse_eWe-F",
   "metadata": {
    "id": "HQmdse_eWe-F"
   },
   "outputs": [],
   "source": [
    "!pip install -Uqq ipdb\n",
    "import ipdb"
   ]
  },
  {
   "cell_type": "code",
   "execution_count": null,
   "id": "hkdgF8xfWgS-",
   "metadata": {
    "id": "hkdgF8xfWgS-"
   },
   "outputs": [],
   "source": [
    "%pdb on"
   ]
  },
  {
   "cell_type": "code",
   "execution_count": null,
   "id": "4c3743ef",
   "metadata": {},
   "outputs": [],
   "source": [
    "\n",
    "category_item.clean_out_cross_boundary_trials()\n",
    "category_item.clean_out_trials_where_target_cluster_was_not_seen_for_a_long_time_before_capture()\n",
    "category_item.make_polar_plot_of_target_last_seen_positions()\n",
    "category_item.make_histograms_of_target_last_seen_attributes()\n",
    "category_item.make_histogram_of_distances_from_previous_targets()\n",
    "category_item.make_polar_plot_of_positions_from_previous_targets()\n",
    "category_item.plot_trajectories(trials=category_item.sort_1_trials[17:18])\n",
    "category_item.plot_distributions_of_visible_ff_and_in_memory_ff()\n",
    "#category_item.make_and_visualize_free_selection_predictions_using_trained_model(trained_model = gnb)\n",
    "# category_item.inspect_special_cases(weird_trials=[98, 180, 212, 649])"
   ]
  }
 ],
 "metadata": {
  "accelerator": "GPU",
  "colab": {
   "machine_shape": "hm",
   "provenance": [
    {
     "file_id": "1GN5Y_MBqDlaM8t8KZqZZKeERvOau11W_",
     "timestamp": 1681009447473
    }
   ]
  },
  "gpuClass": "standard",
  "kernelspec": {
   "display_name": "multiff_clean",
   "language": "python",
   "name": "python3"
  },
  "language_info": {
   "codemirror_mode": {
    "name": "ipython",
    "version": 3
   },
   "file_extension": ".py",
   "mimetype": "text/x-python",
   "name": "python",
   "nbconvert_exporter": "python",
   "pygments_lexer": "ipython3",
   "version": "3.11.13"
  },
  "toc": {
   "base_numbering": 1,
   "nav_menu": {},
   "number_sections": true,
   "sideBar": true,
   "skip_h1_title": false,
   "title_cell": "Table of Contents",
   "title_sidebar": "Contents",
   "toc_cell": true,
   "toc_position": {},
   "toc_section_display": true,
   "toc_window_display": true
  }
 },
 "nbformat": 4,
 "nbformat_minor": 5
}
