{
 "cells": [
  {
   "cell_type": "markdown",
   "id": "0",
   "metadata": {},
   "source": [
    "# all monkeys: ref distance as x"
   ]
  },
  {
   "cell_type": "code",
   "execution_count": null,
   "id": "1",
   "metadata": {},
   "outputs": [],
   "source": [
    "x_var_column_list = ['ref_point_value']\n",
    "changeable_variables = ['opt_arc_type', 'monkey_name']"
   ]
  },
  {
   "cell_type": "markdown",
   "id": "2",
   "metadata": {},
   "source": [
    "## heading"
   ]
  },
  {
   "cell_type": "code",
   "execution_count": null,
   "id": "3",
   "metadata": {},
   "outputs": [],
   "source": [
    "reload(plot_variations_utils)"
   ]
  },
  {
   "cell_type": "code",
   "execution_count": null,
   "id": "4",
   "metadata": {},
   "outputs": [],
   "source": [
    "ps = monkey_plan_factors_x_sess_class.PlanAcrossSessions()\n",
    "monkey_median_df = ps.combine_all_ref_pooled_median_info_across_monkeys_and_opt_arc_types()\n",
    "ps.plot_median_heading_across_monkeys_and_arc_types_with_difference(x_var_column_list=x_var_column_list,changeable_variables=changeable_variables)"
   ]
  },
  {
   "cell_type": "markdown",
   "id": "5",
   "metadata": {},
   "source": [
    "## curv"
   ]
  },
  {
   "cell_type": "code",
   "execution_count": null,
   "id": "6",
   "metadata": {},
   "outputs": [],
   "source": [
    "ps = monkey_plan_factors_x_sess_class.PlanAcrossSessions()\n",
    "monkey_median_df = ps.combine_all_ref_pooled_median_info_across_monkeys_and_opt_arc_types()\n",
    "ps.plot_median_curv_across_monkeys_and_arc_types_with_difference(x_var_column_list=x_var_column_list,changeable_variables=changeable_variables)"
   ]
  },
  {
   "cell_type": "markdown",
   "id": "7",
   "metadata": {},
   "source": [
    "## perc"
   ]
  },
  {
   "cell_type": "code",
   "execution_count": null,
   "id": "8",
   "metadata": {},
   "outputs": [],
   "source": [
    "ps = monkey_plan_factors_x_sess_class.PlanAcrossSessions()\n",
    "monkey_perc_df = ps.combine_pooled_perc_info_across_monkeys()\n",
    "ps.plot_same_side_percentage_across_monkeys()"
   ]
  }
 ],
 "metadata": {
  "language_info": {
   "name": "python"
  }
 },
 "nbformat": 4,
 "nbformat_minor": 5
}
